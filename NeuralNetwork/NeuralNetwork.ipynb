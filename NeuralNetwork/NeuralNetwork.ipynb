{
 "cells": [
  {
   "cell_type": "code",
   "execution_count": 1,
   "metadata": {
    "collapsed": false
   },
   "outputs": [
    {
     "data": {
      "text/plain": [
       "train! (generic function with 1 method)"
      ]
     },
     "execution_count": 1,
     "metadata": {
     },
     "output_type": "execute_result"
    }
   ],
   "source": [
    "using Plots, LinearAlgebra\n",
    "import Random\n",
    "include(\"./NeuralNetwork.jl\")"
   ]
  },
  {
   "cell_type": "markdown",
   "metadata": {
    "collapsed": false
   },
   "source": [
    "We define a simple true model to classify data points as either above or below the model. We will train the neural network to learn this classfication."
   ]
  },
  {
   "cell_type": "code",
   "execution_count": 2,
   "metadata": {
    "collapsed": false
   },
   "outputs": [
    {
     "data": {
      "text/plain": [
       "model (generic function with 1 method)"
      ]
     },
     "execution_count": 2,
     "metadata": {
     },
     "output_type": "execute_result"
    }
   ],
   "source": [
    "model(x) = x^3 - 3x + 2"
   ]
  },
  {
   "cell_type": "markdown",
   "metadata": {
    "collapsed": false
   },
   "source": [
    "Next, we define some helpful functions to generate a random data set for the model."
   ]
  },
  {
   "cell_type": "code",
   "execution_count": 3,
   "metadata": {
    "collapsed": false
   },
   "outputs": [
    {
     "data": {
      "text/plain": [
       "generate_dataset (generic function with 1 method)"
      ]
     },
     "execution_count": 3,
     "metadata": {
     },
     "output_type": "execute_result"
    }
   ],
   "source": [
    "# Sample `size` numbers from `range`\n",
    "function sample(range, size)\n",
    "    return rand(size) * (last(range) - first(range)) .+ first(range)\n",
    "end\n",
    "\n",
    "# Generate dataset with `size` from the given `x1range`, `x2range`.\n",
    "function generate_dataset(model, x1range, x2range, size)\n",
    "    # Sample x and y\n",
    "    x1s = sample(x1range, size)\n",
    "    x2s = sample(x2range, size)\n",
    "\n",
    "    # Create the input matrix\n",
    "    input = hcat(x1s, x2s)'\n",
    "\n",
    "    # Classify points to be below or above the model, labeled 0 and 1\n",
    "    output = Float64.(x2s .≥ model.(x1s))'\n",
    "\n",
    "    return Array(input), Array(output)\n",
    "end"
   ]
  },
  {
   "cell_type": "markdown",
   "metadata": {
    "collapsed": false
   },
   "source": [
    "Now we generate a data set between (-3, 3) on the x-axis and (-16, 20) on the y-axis"
   ]
  },
  {
   "cell_type": "code",
   "execution_count": 4,
   "metadata": {
    "collapsed": false
   },
   "outputs": [
    {
     "data": {
      "image/svg+xml": "<?xml version=\"1.0\" encoding=\"utf-8\"?>\n<svg xmlns=\"http://www.w3.org/2000/svg\" xmlns:xlink=\"http://www.w3.org/1999/xlink\" width=\"600\" height=\"400\" viewBox=\"0 0 2400 1600\">\n<defs>\n  <clipPath id=\"clip8700\">\n    <rect x=\"0\" y=\"0\" width=\"2400\" height=\"1600\"/>\n  </clipPath>\n</defs>\n<path clip-path=\"url(#clip8700)\" d=\"\nM0 1600 L2400 1600 L2400 0 L0 0  Z\n  \" fill=\"#ffffff\" fill-rule=\"evenodd\" fill-opacity=\"1\"/>\n<defs>\n  <clipPath id=\"clip8701\">\n    <rect x=\"480\" y=\"0\" width=\"1681\" height=\"1600\"/>\n  </clipPath>\n</defs>\n<path clip-path=\"url(#clip8700)\" d=\"\nM168.627 1487.47 L1845.34 1487.47 L1845.34 47.2441 L168.627 47.2441  Z\n  \" fill=\"#ffffff\" fill-rule=\"evenodd\" fill-opacity=\"1\"/>\n<defs>\n  <clipPath id=\"clip8702\">\n    <rect x=\"168\" y=\"47\" width=\"1678\" height=\"1441\"/>\n  </clipPath>\n</defs>\n<polyline clip-path=\"url(#clip8702)\" style=\"stroke:#000000; stroke-width:2; stroke-opacity:0.1; fill:none\" points=\"\n  216.081,1487.47 216.081,47.2441 \n  \"/>\n<polyline clip-path=\"url(#clip8702)\" style=\"stroke:#000000; stroke-width:2; stroke-opacity:0.1; fill:none\" points=\"\n  479.716,1487.47 479.716,47.2441 \n  \"/>\n<polyline clip-path=\"url(#clip8702)\" style=\"stroke:#000000; stroke-width:2; stroke-opacity:0.1; fill:none\" points=\"\n  743.351,1487.47 743.351,47.2441 \n  \"/>\n<polyline clip-path=\"url(#clip8702)\" style=\"stroke:#000000; stroke-width:2; stroke-opacity:0.1; fill:none\" points=\"\n  1006.99,1487.47 1006.99,47.2441 \n  \"/>\n<polyline clip-path=\"url(#clip8702)\" style=\"stroke:#000000; stroke-width:2; stroke-opacity:0.1; fill:none\" points=\"\n  1270.62,1487.47 1270.62,47.2441 \n  \"/>\n<polyline clip-path=\"url(#clip8702)\" style=\"stroke:#000000; stroke-width:2; stroke-opacity:0.1; fill:none\" points=\"\n  1534.25,1487.47 1534.25,47.2441 \n  \"/>\n<polyline clip-path=\"url(#clip8702)\" style=\"stroke:#000000; stroke-width:2; stroke-opacity:0.1; fill:none\" points=\"\n  1797.89,1487.47 1797.89,47.2441 \n  \"/>\n<polyline clip-path=\"url(#clip8702)\" style=\"stroke:#000000; stroke-width:2; stroke-opacity:0.1; fill:none\" points=\"\n  168.627,1220.26 1845.34,1220.26 \n  \"/>\n<polyline clip-path=\"url(#clip8702)\" style=\"stroke:#000000; stroke-width:2; stroke-opacity:0.1; fill:none\" points=\"\n  168.627,842.843 1845.34,842.843 \n  \"/>\n<polyline clip-path=\"url(#clip8702)\" style=\"stroke:#000000; stroke-width:2; stroke-opacity:0.1; fill:none\" points=\"\n  168.627,465.424 1845.34,465.424 \n  \"/>\n<polyline clip-path=\"url(#clip8702)\" style=\"stroke:#000000; stroke-width:2; stroke-opacity:0.1; fill:none\" points=\"\n  168.627,88.0053 1845.34,88.0053 \n  \"/>\n<polyline clip-path=\"url(#clip8700)\" style=\"stroke:#000000; stroke-width:4; stroke-opacity:1; fill:none\" points=\"\n  168.627,1487.47 1845.34,1487.47 \n  \"/>\n<polyline clip-path=\"url(#clip8700)\" style=\"stroke:#000000; stroke-width:4; stroke-opacity:1; fill:none\" points=\"\n  168.627,1487.47 168.627,47.2441 \n  \"/>\n<polyline clip-path=\"url(#clip8700)\" style=\"stroke:#000000; stroke-width:4; stroke-opacity:1; fill:none\" points=\"\n  216.081,1487.47 216.081,1465.87 \n  \"/>\n<polyline clip-path=\"url(#clip8700)\" style=\"stroke:#000000; stroke-width:4; stroke-opacity:1; fill:none\" points=\"\n  479.716,1487.47 479.716,1465.87 \n  \"/>\n<polyline clip-path=\"url(#clip8700)\" style=\"stroke:#000000; stroke-width:4; stroke-opacity:1; fill:none\" points=\"\n  743.351,1487.47 743.351,1465.87 \n  \"/>\n<polyline clip-path=\"url(#clip8700)\" style=\"stroke:#000000; stroke-width:4; stroke-opacity:1; fill:none\" points=\"\n  1006.99,1487.47 1006.99,1465.87 \n  \"/>\n<polyline clip-path=\"url(#clip8700)\" style=\"stroke:#000000; stroke-width:4; stroke-opacity:1; fill:none\" points=\"\n  1270.62,1487.47 1270.62,1465.87 \n  \"/>\n<polyline clip-path=\"url(#clip8700)\" style=\"stroke:#000000; stroke-width:4; stroke-opacity:1; fill:none\" points=\"\n  1534.25,1487.47 1534.25,1465.87 \n  \"/>\n<polyline clip-path=\"url(#clip8700)\" style=\"stroke:#000000; stroke-width:4; stroke-opacity:1; fill:none\" points=\"\n  1797.89,1487.47 1797.89,1465.87 \n  \"/>\n<polyline clip-path=\"url(#clip8700)\" style=\"stroke:#000000; stroke-width:4; stroke-opacity:1; fill:none\" points=\"\n  168.627,1220.26 193.778,1220.26 \n  \"/>\n<polyline clip-path=\"url(#clip8700)\" style=\"stroke:#000000; stroke-width:4; stroke-opacity:1; fill:none\" points=\"\n  168.627,842.843 193.778,842.843 \n  \"/>\n<polyline clip-path=\"url(#clip8700)\" style=\"stroke:#000000; stroke-width:4; stroke-opacity:1; fill:none\" points=\"\n  168.627,465.424 193.778,465.424 \n  \"/>\n<polyline clip-path=\"url(#clip8700)\" style=\"stroke:#000000; stroke-width:4; stroke-opacity:1; fill:none\" points=\"\n  168.627,88.0053 193.778,88.0053 \n  \"/>\n<g clip-path=\"url(#clip8700)\">\n<text style=\"fill:#000000; fill-opacity:1; font-family:Arial,Helvetica Neue,Helvetica,sans-serif; font-size:48px; text-anchor:middle;\" transform=\"rotate(0, 216.081, 1541.47)\" x=\"216.081\" y=\"1541.47\">-3</text>\n</g>\n<g clip-path=\"url(#clip8700)\">\n<text style=\"fill:#000000; fill-opacity:1; font-family:Arial,Helvetica Neue,Helvetica,sans-serif; font-size:48px; text-anchor:middle;\" transform=\"rotate(0, 479.716, 1541.47)\" x=\"479.716\" y=\"1541.47\">-2</text>\n</g>\n<g clip-path=\"url(#clip8700)\">\n<text style=\"fill:#000000; fill-opacity:1; font-family:Arial,Helvetica Neue,Helvetica,sans-serif; font-size:48px; text-anchor:middle;\" transform=\"rotate(0, 743.351, 1541.47)\" x=\"743.351\" y=\"1541.47\">-1</text>\n</g>\n<g clip-path=\"url(#clip8700)\">\n<text style=\"fill:#000000; fill-opacity:1; font-family:Arial,Helvetica Neue,Helvetica,sans-serif; font-size:48px; text-anchor:middle;\" transform=\"rotate(0, 1006.99, 1541.47)\" x=\"1006.99\" y=\"1541.47\">0</text>\n</g>\n<g clip-path=\"url(#clip8700)\">\n<text style=\"fill:#000000; fill-opacity:1; font-family:Arial,Helvetica Neue,Helvetica,sans-serif; font-size:48px; text-anchor:middle;\" transform=\"rotate(0, 1270.62, 1541.47)\" x=\"1270.62\" y=\"1541.47\">1</text>\n</g>\n<g clip-path=\"url(#clip8700)\">\n<text style=\"fill:#000000; fill-opacity:1; font-family:Arial,Helvetica Neue,Helvetica,sans-serif; font-size:48px; text-anchor:middle;\" transform=\"rotate(0, 1534.25, 1541.47)\" x=\"1534.25\" y=\"1541.47\">2</text>\n</g>\n<g clip-path=\"url(#clip8700)\">\n<text style=\"fill:#000000; fill-opacity:1; font-family:Arial,Helvetica Neue,Helvetica,sans-serif; font-size:48px; text-anchor:middle;\" transform=\"rotate(0, 1797.89, 1541.47)\" x=\"1797.89\" y=\"1541.47\">3</text>\n</g>\n<g clip-path=\"url(#clip8700)\">\n<text style=\"fill:#000000; fill-opacity:1; font-family:Arial,Helvetica Neue,Helvetica,sans-serif; font-size:48px; text-anchor:end;\" transform=\"rotate(0, 144.627, 1237.76)\" x=\"144.627\" y=\"1237.76\">-10</text>\n</g>\n<g clip-path=\"url(#clip8700)\">\n<text style=\"fill:#000000; fill-opacity:1; font-family:Arial,Helvetica Neue,Helvetica,sans-serif; font-size:48px; text-anchor:end;\" transform=\"rotate(0, 144.627, 860.343)\" x=\"144.627\" y=\"860.343\">0</text>\n</g>\n<g clip-path=\"url(#clip8700)\">\n<text style=\"fill:#000000; fill-opacity:1; font-family:Arial,Helvetica Neue,Helvetica,sans-serif; font-size:48px; text-anchor:end;\" transform=\"rotate(0, 144.627, 482.924)\" x=\"144.627\" y=\"482.924\">10</text>\n</g>\n<g clip-path=\"url(#clip8700)\">\n<text style=\"fill:#000000; fill-opacity:1; font-family:Arial,Helvetica Neue,Helvetica,sans-serif; font-size:48px; text-anchor:end;\" transform=\"rotate(0, 144.627, 105.505)\" x=\"144.627\" y=\"105.505\">20</text>\n</g>\n<circle clip-path=\"url(#clip8702)\" style=\"fill:#000000; stroke:none; fill-opacity:1\" cx=\"614.378\" cy=\"547.162\" r=\"18\"/>\n<circle clip-path=\"url(#clip8702)\" style=\"fill:#0000ff; stroke:none; fill-opacity:1\" cx=\"614.378\" cy=\"547.162\" r=\"14\"/>\n<circle clip-path=\"url(#clip8702)\" style=\"fill:#000000; stroke:none; fill-opacity:1\" cx=\"298.845\" cy=\"186.141\" r=\"18\"/>\n<circle clip-path=\"url(#clip8702)\" style=\"fill:#0000ff; stroke:none; fill-opacity:1\" cx=\"298.845\" cy=\"186.141\" r=\"14\"/>\n<circle clip-path=\"url(#clip8702)\" style=\"fill:#000000; stroke:none; fill-opacity:1\" cx=\"1339.34\" cy=\"399.666\" r=\"18\"/>\n<circle clip-path=\"url(#clip8702)\" style=\"fill:#0000ff; stroke:none; fill-opacity:1\" cx=\"1339.34\" cy=\"399.666\" r=\"14\"/>\n<circle clip-path=\"url(#clip8702)\" style=\"fill:#000000; stroke:none; fill-opacity:1\" cx=\"216.369\" cy=\"1099.57\" r=\"18\"/>\n<circle clip-path=\"url(#clip8702)\" style=\"fill:#0000ff; stroke:none; fill-opacity:1\" cx=\"216.369\" cy=\"1099.57\" r=\"14\"/>\n<circle clip-path=\"url(#clip8702)\" style=\"fill:#000000; stroke:none; fill-opacity:1\" cx=\"1187.08\" cy=\"678.375\" r=\"18\"/>\n<circle clip-path=\"url(#clip8702)\" style=\"fill:#0000ff; stroke:none; fill-opacity:1\" cx=\"1187.08\" cy=\"678.375\" r=\"14\"/>\n<circle clip-path=\"url(#clip8702)\" style=\"fill:#000000; stroke:none; fill-opacity:1\" cx=\"1555.83\" cy=\"168.987\" r=\"18\"/>\n<circle clip-path=\"url(#clip8702)\" style=\"fill:#0000ff; stroke:none; fill-opacity:1\" cx=\"1555.83\" cy=\"168.987\" r=\"14\"/>\n<circle clip-path=\"url(#clip8702)\" style=\"fill:#000000; stroke:none; fill-opacity:1\" cx=\"983.308\" cy=\"624.167\" r=\"18\"/>\n<circle clip-path=\"url(#clip8702)\" style=\"fill:#0000ff; stroke:none; fill-opacity:1\" cx=\"983.308\" cy=\"624.167\" r=\"14\"/>\n<circle clip-path=\"url(#clip8702)\" style=\"fill:#000000; stroke:none; fill-opacity:1\" cx=\"1144.66\" cy=\"103.26\" r=\"18\"/>\n<circle clip-path=\"url(#clip8702)\" style=\"fill:#0000ff; stroke:none; fill-opacity:1\" cx=\"1144.66\" cy=\"103.26\" r=\"14\"/>\n<circle clip-path=\"url(#clip8702)\" style=\"fill:#000000; stroke:none; fill-opacity:1\" cx=\"652.508\" cy=\"615.518\" r=\"18\"/>\n<circle clip-path=\"url(#clip8702)\" style=\"fill:#0000ff; stroke:none; fill-opacity:1\" cx=\"652.508\" cy=\"615.518\" r=\"14\"/>\n<circle clip-path=\"url(#clip8702)\" style=\"fill:#000000; stroke:none; fill-opacity:1\" cx=\"666.766\" cy=\"624.21\" r=\"18\"/>\n<circle clip-path=\"url(#clip8702)\" style=\"fill:#0000ff; stroke:none; fill-opacity:1\" cx=\"666.766\" cy=\"624.21\" r=\"14\"/>\n<circle clip-path=\"url(#clip8702)\" style=\"fill:#000000; stroke:none; fill-opacity:1\" cx=\"656.741\" cy=\"229.425\" r=\"18\"/>\n<circle clip-path=\"url(#clip8702)\" style=\"fill:#0000ff; stroke:none; fill-opacity:1\" cx=\"656.741\" cy=\"229.425\" r=\"14\"/>\n<circle clip-path=\"url(#clip8702)\" style=\"fill:#000000; stroke:none; fill-opacity:1\" cx=\"1435.76\" cy=\"575.055\" r=\"18\"/>\n<circle clip-path=\"url(#clip8702)\" style=\"fill:#0000ff; stroke:none; fill-opacity:1\" cx=\"1435.76\" cy=\"575.055\" r=\"14\"/>\n<circle clip-path=\"url(#clip8702)\" style=\"fill:#000000; stroke:none; fill-opacity:1\" cx=\"581.282\" cy=\"97.4728\" r=\"18\"/>\n<circle clip-path=\"url(#clip8702)\" style=\"fill:#0000ff; stroke:none; fill-opacity:1\" cx=\"581.282\" cy=\"97.4728\" r=\"14\"/>\n<circle clip-path=\"url(#clip8702)\" style=\"fill:#000000; stroke:none; fill-opacity:1\" cx=\"458.878\" cy=\"507.266\" r=\"18\"/>\n<circle clip-path=\"url(#clip8702)\" style=\"fill:#0000ff; stroke:none; fill-opacity:1\" cx=\"458.878\" cy=\"507.266\" r=\"14\"/>\n<circle clip-path=\"url(#clip8702)\" style=\"fill:#000000; stroke:none; fill-opacity:1\" cx=\"360.854\" cy=\"351.995\" r=\"18\"/>\n<circle clip-path=\"url(#clip8702)\" style=\"fill:#0000ff; stroke:none; fill-opacity:1\" cx=\"360.854\" cy=\"351.995\" r=\"14\"/>\n<circle clip-path=\"url(#clip8702)\" style=\"fill:#000000; stroke:none; fill-opacity:1\" cx=\"495.191\" cy=\"500.188\" r=\"18\"/>\n<circle clip-path=\"url(#clip8702)\" style=\"fill:#0000ff; stroke:none; fill-opacity:1\" cx=\"495.191\" cy=\"500.188\" r=\"14\"/>\n<circle clip-path=\"url(#clip8702)\" style=\"fill:#000000; stroke:none; fill-opacity:1\" cx=\"292.987\" cy=\"581.899\" r=\"18\"/>\n<circle clip-path=\"url(#clip8702)\" style=\"fill:#0000ff; stroke:none; fill-opacity:1\" cx=\"292.987\" cy=\"581.899\" r=\"14\"/>\n<circle clip-path=\"url(#clip8702)\" style=\"fill:#000000; stroke:none; fill-opacity:1\" cx=\"500.024\" cy=\"716.399\" r=\"18\"/>\n<circle clip-path=\"url(#clip8702)\" style=\"fill:#0000ff; stroke:none; fill-opacity:1\" cx=\"500.024\" cy=\"716.399\" r=\"14\"/>\n<circle clip-path=\"url(#clip8702)\" style=\"fill:#000000; stroke:none; fill-opacity:1\" cx=\"505.08\" cy=\"192.245\" r=\"18\"/>\n<circle clip-path=\"url(#clip8702)\" style=\"fill:#0000ff; stroke:none; fill-opacity:1\" cx=\"505.08\" cy=\"192.245\" r=\"14\"/>\n<circle clip-path=\"url(#clip8702)\" style=\"fill:#000000; stroke:none; fill-opacity:1\" cx=\"1262.86\" cy=\"767.741\" r=\"18\"/>\n<circle clip-path=\"url(#clip8702)\" style=\"fill:#0000ff; stroke:none; fill-opacity:1\" cx=\"1262.86\" cy=\"767.741\" r=\"14\"/>\n<circle clip-path=\"url(#clip8702)\" style=\"fill:#000000; stroke:none; fill-opacity:1\" cx=\"642.894\" cy=\"600.832\" r=\"18\"/>\n<circle clip-path=\"url(#clip8702)\" style=\"fill:#0000ff; stroke:none; fill-opacity:1\" cx=\"642.894\" cy=\"600.832\" r=\"14\"/>\n<circle clip-path=\"url(#clip8702)\" style=\"fill:#000000; stroke:none; fill-opacity:1\" cx=\"685.75\" cy=\"447.177\" r=\"18\"/>\n<circle clip-path=\"url(#clip8702)\" style=\"fill:#0000ff; stroke:none; fill-opacity:1\" cx=\"685.75\" cy=\"447.177\" r=\"14\"/>\n<circle clip-path=\"url(#clip8702)\" style=\"fill:#000000; stroke:none; fill-opacity:1\" cx=\"1312.53\" cy=\"676.253\" r=\"18\"/>\n<circle clip-path=\"url(#clip8702)\" style=\"fill:#0000ff; stroke:none; fill-opacity:1\" cx=\"1312.53\" cy=\"676.253\" r=\"14\"/>\n<circle clip-path=\"url(#clip8702)\" style=\"fill:#000000; stroke:none; fill-opacity:1\" cx=\"1095.52\" cy=\"680.986\" r=\"18\"/>\n<circle clip-path=\"url(#clip8702)\" style=\"fill:#0000ff; stroke:none; fill-opacity:1\" cx=\"1095.52\" cy=\"680.986\" r=\"14\"/>\n<circle clip-path=\"url(#clip8702)\" style=\"fill:#000000; stroke:none; fill-opacity:1\" cx=\"434.474\" cy=\"586.834\" r=\"18\"/>\n<circle clip-path=\"url(#clip8702)\" style=\"fill:#0000ff; stroke:none; fill-opacity:1\" cx=\"434.474\" cy=\"586.834\" r=\"14\"/>\n<circle clip-path=\"url(#clip8702)\" style=\"fill:#000000; stroke:none; fill-opacity:1\" cx=\"1559.36\" cy=\"334.858\" r=\"18\"/>\n<circle clip-path=\"url(#clip8702)\" style=\"fill:#0000ff; stroke:none; fill-opacity:1\" cx=\"1559.36\" cy=\"334.858\" r=\"14\"/>\n<circle clip-path=\"url(#clip8702)\" style=\"fill:#000000; stroke:none; fill-opacity:1\" cx=\"1282.42\" cy=\"453.009\" r=\"18\"/>\n<circle clip-path=\"url(#clip8702)\" style=\"fill:#0000ff; stroke:none; fill-opacity:1\" cx=\"1282.42\" cy=\"453.009\" r=\"14\"/>\n<circle clip-path=\"url(#clip8702)\" style=\"fill:#000000; stroke:none; fill-opacity:1\" cx=\"1000.76\" cy=\"567.923\" r=\"18\"/>\n<circle clip-path=\"url(#clip8702)\" style=\"fill:#0000ff; stroke:none; fill-opacity:1\" cx=\"1000.76\" cy=\"567.923\" r=\"14\"/>\n<circle clip-path=\"url(#clip8702)\" style=\"fill:#000000; stroke:none; fill-opacity:1\" cx=\"1548.42\" cy=\"572.907\" r=\"18\"/>\n<circle clip-path=\"url(#clip8702)\" style=\"fill:#0000ff; stroke:none; fill-opacity:1\" cx=\"1548.42\" cy=\"572.907\" r=\"14\"/>\n<circle clip-path=\"url(#clip8702)\" style=\"fill:#000000; stroke:none; fill-opacity:1\" cx=\"379.97\" cy=\"471.919\" r=\"18\"/>\n<circle clip-path=\"url(#clip8702)\" style=\"fill:#0000ff; stroke:none; fill-opacity:1\" cx=\"379.97\" cy=\"471.919\" r=\"14\"/>\n<circle clip-path=\"url(#clip8702)\" style=\"fill:#000000; stroke:none; fill-opacity:1\" cx=\"1137.7\" cy=\"587.111\" r=\"18\"/>\n<circle clip-path=\"url(#clip8702)\" style=\"fill:#0000ff; stroke:none; fill-opacity:1\" cx=\"1137.7\" cy=\"587.111\" r=\"14\"/>\n<circle clip-path=\"url(#clip8702)\" style=\"fill:#000000; stroke:none; fill-opacity:1\" cx=\"256.152\" cy=\"848.693\" r=\"18\"/>\n<circle clip-path=\"url(#clip8702)\" style=\"fill:#0000ff; stroke:none; fill-opacity:1\" cx=\"256.152\" cy=\"848.693\" r=\"14\"/>\n<circle clip-path=\"url(#clip8702)\" style=\"fill:#000000; stroke:none; fill-opacity:1\" cx=\"1038.9\" cy=\"504.121\" r=\"18\"/>\n<circle clip-path=\"url(#clip8702)\" style=\"fill:#0000ff; stroke:none; fill-opacity:1\" cx=\"1038.9\" cy=\"504.121\" r=\"14\"/>\n<circle clip-path=\"url(#clip8702)\" style=\"fill:#000000; stroke:none; fill-opacity:1\" cx=\"643.34\" cy=\"590.966\" r=\"18\"/>\n<circle clip-path=\"url(#clip8702)\" style=\"fill:#0000ff; stroke:none; fill-opacity:1\" cx=\"643.34\" cy=\"590.966\" r=\"14\"/>\n<circle clip-path=\"url(#clip8702)\" style=\"fill:#000000; stroke:none; fill-opacity:1\" cx=\"299.071\" cy=\"1081.85\" r=\"18\"/>\n<circle clip-path=\"url(#clip8702)\" style=\"fill:#0000ff; stroke:none; fill-opacity:1\" cx=\"299.071\" cy=\"1081.85\" r=\"14\"/>\n<circle clip-path=\"url(#clip8702)\" style=\"fill:#000000; stroke:none; fill-opacity:1\" cx=\"1465.79\" cy=\"747.795\" r=\"18\"/>\n<circle clip-path=\"url(#clip8702)\" style=\"fill:#0000ff; stroke:none; fill-opacity:1\" cx=\"1465.79\" cy=\"747.795\" r=\"14\"/>\n<circle clip-path=\"url(#clip8702)\" style=\"fill:#000000; stroke:none; fill-opacity:1\" cx=\"255.746\" cy=\"191.841\" r=\"18\"/>\n<circle clip-path=\"url(#clip8702)\" style=\"fill:#0000ff; stroke:none; fill-opacity:1\" cx=\"255.746\" cy=\"191.841\" r=\"14\"/>\n<circle clip-path=\"url(#clip8702)\" style=\"fill:#000000; stroke:none; fill-opacity:1\" cx=\"276.366\" cy=\"450.342\" r=\"18\"/>\n<circle clip-path=\"url(#clip8702)\" style=\"fill:#0000ff; stroke:none; fill-opacity:1\" cx=\"276.366\" cy=\"450.342\" r=\"14\"/>\n<circle clip-path=\"url(#clip8702)\" style=\"fill:#000000; stroke:none; fill-opacity:1\" cx=\"1157.96\" cy=\"232.12\" r=\"18\"/>\n<circle clip-path=\"url(#clip8702)\" style=\"fill:#0000ff; stroke:none; fill-opacity:1\" cx=\"1157.96\" cy=\"232.12\" r=\"14\"/>\n<circle clip-path=\"url(#clip8702)\" style=\"fill:#000000; stroke:none; fill-opacity:1\" cx=\"566.24\" cy=\"538.958\" r=\"18\"/>\n<circle clip-path=\"url(#clip8702)\" style=\"fill:#0000ff; stroke:none; fill-opacity:1\" cx=\"566.24\" cy=\"538.958\" r=\"14\"/>\n<circle clip-path=\"url(#clip8702)\" style=\"fill:#000000; stroke:none; fill-opacity:1\" cx=\"1179.8\" cy=\"246.857\" r=\"18\"/>\n<circle clip-path=\"url(#clip8702)\" style=\"fill:#0000ff; stroke:none; fill-opacity:1\" cx=\"1179.8\" cy=\"246.857\" r=\"14\"/>\n<circle clip-path=\"url(#clip8702)\" style=\"fill:#000000; stroke:none; fill-opacity:1\" cx=\"1618.01\" cy=\"319.456\" r=\"18\"/>\n<circle clip-path=\"url(#clip8702)\" style=\"fill:#0000ff; stroke:none; fill-opacity:1\" cx=\"1618.01\" cy=\"319.456\" r=\"14\"/>\n<circle clip-path=\"url(#clip8702)\" style=\"fill:#000000; stroke:none; fill-opacity:1\" cx=\"232.838\" cy=\"410.651\" r=\"18\"/>\n<circle clip-path=\"url(#clip8702)\" style=\"fill:#0000ff; stroke:none; fill-opacity:1\" cx=\"232.838\" cy=\"410.651\" r=\"14\"/>\n<circle clip-path=\"url(#clip8702)\" style=\"fill:#000000; stroke:none; fill-opacity:1\" cx=\"723.64\" cy=\"352.838\" r=\"18\"/>\n<circle clip-path=\"url(#clip8702)\" style=\"fill:#0000ff; stroke:none; fill-opacity:1\" cx=\"723.64\" cy=\"352.838\" r=\"14\"/>\n<circle clip-path=\"url(#clip8702)\" style=\"fill:#000000; stroke:none; fill-opacity:1\" cx=\"579.363\" cy=\"510.407\" r=\"18\"/>\n<circle clip-path=\"url(#clip8702)\" style=\"fill:#0000ff; stroke:none; fill-opacity:1\" cx=\"579.363\" cy=\"510.407\" r=\"14\"/>\n<circle clip-path=\"url(#clip8702)\" style=\"fill:#000000; stroke:none; fill-opacity:1\" cx=\"378.481\" cy=\"920.548\" r=\"18\"/>\n<circle clip-path=\"url(#clip8702)\" style=\"fill:#0000ff; stroke:none; fill-opacity:1\" cx=\"378.481\" cy=\"920.548\" r=\"14\"/>\n<circle clip-path=\"url(#clip8702)\" style=\"fill:#000000; stroke:none; fill-opacity:1\" cx=\"290.867\" cy=\"956.172\" r=\"18\"/>\n<circle clip-path=\"url(#clip8702)\" style=\"fill:#0000ff; stroke:none; fill-opacity:1\" cx=\"290.867\" cy=\"956.172\" r=\"14\"/>\n<circle clip-path=\"url(#clip8702)\" style=\"fill:#000000; stroke:none; fill-opacity:1\" cx=\"287.076\" cy=\"1035.73\" r=\"18\"/>\n<circle clip-path=\"url(#clip8702)\" style=\"fill:#0000ff; stroke:none; fill-opacity:1\" cx=\"287.076\" cy=\"1035.73\" r=\"14\"/>\n<circle clip-path=\"url(#clip8702)\" style=\"fill:#000000; stroke:none; fill-opacity:1\" cx=\"536.049\" cy=\"388.936\" r=\"18\"/>\n<circle clip-path=\"url(#clip8702)\" style=\"fill:#0000ff; stroke:none; fill-opacity:1\" cx=\"536.049\" cy=\"388.936\" r=\"14\"/>\n<circle clip-path=\"url(#clip8702)\" style=\"fill:#000000; stroke:none; fill-opacity:1\" cx=\"1522.91\" cy=\"541.771\" r=\"18\"/>\n<circle clip-path=\"url(#clip8702)\" style=\"fill:#0000ff; stroke:none; fill-opacity:1\" cx=\"1522.91\" cy=\"541.771\" r=\"14\"/>\n<circle clip-path=\"url(#clip8702)\" style=\"fill:#000000; stroke:none; fill-opacity:1\" cx=\"239.054\" cy=\"93.3316\" r=\"18\"/>\n<circle clip-path=\"url(#clip8702)\" style=\"fill:#0000ff; stroke:none; fill-opacity:1\" cx=\"239.054\" cy=\"93.3316\" r=\"14\"/>\n<circle clip-path=\"url(#clip8702)\" style=\"fill:#000000; stroke:none; fill-opacity:1\" cx=\"850.97\" cy=\"422.905\" r=\"18\"/>\n<circle clip-path=\"url(#clip8702)\" style=\"fill:#0000ff; stroke:none; fill-opacity:1\" cx=\"850.97\" cy=\"422.905\" r=\"14\"/>\n<circle clip-path=\"url(#clip8702)\" style=\"fill:#000000; stroke:none; fill-opacity:1\" cx=\"590.86\" cy=\"326.202\" r=\"18\"/>\n<circle clip-path=\"url(#clip8702)\" style=\"fill:#0000ff; stroke:none; fill-opacity:1\" cx=\"590.86\" cy=\"326.202\" r=\"14\"/>\n<circle clip-path=\"url(#clip8702)\" style=\"fill:#000000; stroke:none; fill-opacity:1\" cx=\"984.464\" cy=\"177.557\" r=\"18\"/>\n<circle clip-path=\"url(#clip8702)\" style=\"fill:#0000ff; stroke:none; fill-opacity:1\" cx=\"984.464\" cy=\"177.557\" r=\"14\"/>\n<circle clip-path=\"url(#clip8702)\" style=\"fill:#000000; stroke:none; fill-opacity:1\" cx=\"1178.16\" cy=\"387.524\" r=\"18\"/>\n<circle clip-path=\"url(#clip8702)\" style=\"fill:#0000ff; stroke:none; fill-opacity:1\" cx=\"1178.16\" cy=\"387.524\" r=\"14\"/>\n<circle clip-path=\"url(#clip8702)\" style=\"fill:#000000; stroke:none; fill-opacity:1\" cx=\"255.082\" cy=\"448.619\" r=\"18\"/>\n<circle clip-path=\"url(#clip8702)\" style=\"fill:#0000ff; stroke:none; fill-opacity:1\" cx=\"255.082\" cy=\"448.619\" r=\"14\"/>\n<circle clip-path=\"url(#clip8702)\" style=\"fill:#000000; stroke:none; fill-opacity:1\" cx=\"1542.47\" cy=\"546.742\" r=\"18\"/>\n<circle clip-path=\"url(#clip8702)\" style=\"fill:#0000ff; stroke:none; fill-opacity:1\" cx=\"1542.47\" cy=\"546.742\" r=\"14\"/>\n<circle clip-path=\"url(#clip8702)\" style=\"fill:#000000; stroke:none; fill-opacity:1\" cx=\"316.102\" cy=\"421.878\" r=\"18\"/>\n<circle clip-path=\"url(#clip8702)\" style=\"fill:#0000ff; stroke:none; fill-opacity:1\" cx=\"316.102\" cy=\"421.878\" r=\"14\"/>\n<circle clip-path=\"url(#clip8702)\" style=\"fill:#000000; stroke:none; fill-opacity:1\" cx=\"415.221\" cy=\"142.066\" r=\"18\"/>\n<circle clip-path=\"url(#clip8702)\" style=\"fill:#0000ff; stroke:none; fill-opacity:1\" cx=\"415.221\" cy=\"142.066\" r=\"14\"/>\n<circle clip-path=\"url(#clip8702)\" style=\"fill:#000000; stroke:none; fill-opacity:1\" cx=\"1438.14\" cy=\"249.444\" r=\"18\"/>\n<circle clip-path=\"url(#clip8702)\" style=\"fill:#0000ff; stroke:none; fill-opacity:1\" cx=\"1438.14\" cy=\"249.444\" r=\"14\"/>\n<circle clip-path=\"url(#clip8702)\" style=\"fill:#000000; stroke:none; fill-opacity:1\" cx=\"1265.23\" cy=\"98.6455\" r=\"18\"/>\n<circle clip-path=\"url(#clip8702)\" style=\"fill:#0000ff; stroke:none; fill-opacity:1\" cx=\"1265.23\" cy=\"98.6455\" r=\"14\"/>\n<circle clip-path=\"url(#clip8702)\" style=\"fill:#000000; stroke:none; fill-opacity:1\" cx=\"298.596\" cy=\"556.308\" r=\"18\"/>\n<circle clip-path=\"url(#clip8702)\" style=\"fill:#0000ff; stroke:none; fill-opacity:1\" cx=\"298.596\" cy=\"556.308\" r=\"14\"/>\n<circle clip-path=\"url(#clip8702)\" style=\"fill:#000000; stroke:none; fill-opacity:1\" cx=\"1225.35\" cy=\"533.532\" r=\"18\"/>\n<circle clip-path=\"url(#clip8702)\" style=\"fill:#0000ff; stroke:none; fill-opacity:1\" cx=\"1225.35\" cy=\"533.532\" r=\"14\"/>\n<circle clip-path=\"url(#clip8702)\" style=\"fill:#000000; stroke:none; fill-opacity:1\" cx=\"1166.86\" cy=\"283.333\" r=\"18\"/>\n<circle clip-path=\"url(#clip8702)\" style=\"fill:#0000ff; stroke:none; fill-opacity:1\" cx=\"1166.86\" cy=\"283.333\" r=\"14\"/>\n<circle clip-path=\"url(#clip8702)\" style=\"fill:#000000; stroke:none; fill-opacity:1\" cx=\"745.529\" cy=\"642.615\" r=\"18\"/>\n<circle clip-path=\"url(#clip8702)\" style=\"fill:#0000ff; stroke:none; fill-opacity:1\" cx=\"745.529\" cy=\"642.615\" r=\"14\"/>\n<circle clip-path=\"url(#clip8702)\" style=\"fill:#000000; stroke:none; fill-opacity:1\" cx=\"1517.26\" cy=\"152.237\" r=\"18\"/>\n<circle clip-path=\"url(#clip8702)\" style=\"fill:#0000ff; stroke:none; fill-opacity:1\" cx=\"1517.26\" cy=\"152.237\" r=\"14\"/>\n<circle clip-path=\"url(#clip8702)\" style=\"fill:#000000; stroke:none; fill-opacity:1\" cx=\"1312.03\" cy=\"649.91\" r=\"18\"/>\n<circle clip-path=\"url(#clip8702)\" style=\"fill:#0000ff; stroke:none; fill-opacity:1\" cx=\"1312.03\" cy=\"649.91\" r=\"14\"/>\n<circle clip-path=\"url(#clip8702)\" style=\"fill:#000000; stroke:none; fill-opacity:1\" cx=\"319.106\" cy=\"545.288\" r=\"18\"/>\n<circle clip-path=\"url(#clip8702)\" style=\"fill:#0000ff; stroke:none; fill-opacity:1\" cx=\"319.106\" cy=\"545.288\" r=\"14\"/>\n<circle clip-path=\"url(#clip8702)\" style=\"fill:#000000; stroke:none; fill-opacity:1\" cx=\"385.487\" cy=\"811.32\" r=\"18\"/>\n<circle clip-path=\"url(#clip8702)\" style=\"fill:#0000ff; stroke:none; fill-opacity:1\" cx=\"385.487\" cy=\"811.32\" r=\"14\"/>\n<circle clip-path=\"url(#clip8702)\" style=\"fill:#000000; stroke:none; fill-opacity:1\" cx=\"1605.4\" cy=\"514.717\" r=\"18\"/>\n<circle clip-path=\"url(#clip8702)\" style=\"fill:#0000ff; stroke:none; fill-opacity:1\" cx=\"1605.4\" cy=\"514.717\" r=\"14\"/>\n<circle clip-path=\"url(#clip8702)\" style=\"fill:#000000; stroke:none; fill-opacity:1\" cx=\"595.701\" cy=\"138.679\" r=\"18\"/>\n<circle clip-path=\"url(#clip8702)\" style=\"fill:#0000ff; stroke:none; fill-opacity:1\" cx=\"595.701\" cy=\"138.679\" r=\"14\"/>\n<circle clip-path=\"url(#clip8702)\" style=\"fill:#000000; stroke:none; fill-opacity:1\" cx=\"232.738\" cy=\"789.005\" r=\"18\"/>\n<circle clip-path=\"url(#clip8702)\" style=\"fill:#0000ff; stroke:none; fill-opacity:1\" cx=\"232.738\" cy=\"789.005\" r=\"14\"/>\n<circle clip-path=\"url(#clip8702)\" style=\"fill:#000000; stroke:none; fill-opacity:1\" cx=\"1757.72\" cy=\"170.187\" r=\"18\"/>\n<circle clip-path=\"url(#clip8702)\" style=\"fill:#0000ff; stroke:none; fill-opacity:1\" cx=\"1757.72\" cy=\"170.187\" r=\"14\"/>\n<circle clip-path=\"url(#clip8702)\" style=\"fill:#000000; stroke:none; fill-opacity:1\" cx=\"1114.3\" cy=\"544.051\" r=\"18\"/>\n<circle clip-path=\"url(#clip8702)\" style=\"fill:#0000ff; stroke:none; fill-opacity:1\" cx=\"1114.3\" cy=\"544.051\" r=\"14\"/>\n<circle clip-path=\"url(#clip8702)\" style=\"fill:#000000; stroke:none; fill-opacity:1\" cx=\"397.524\" cy=\"350.795\" r=\"18\"/>\n<circle clip-path=\"url(#clip8702)\" style=\"fill:#0000ff; stroke:none; fill-opacity:1\" cx=\"397.524\" cy=\"350.795\" r=\"14\"/>\n<circle clip-path=\"url(#clip8702)\" style=\"fill:#000000; stroke:none; fill-opacity:1\" cx=\"221.479\" cy=\"457.083\" r=\"18\"/>\n<circle clip-path=\"url(#clip8702)\" style=\"fill:#0000ff; stroke:none; fill-opacity:1\" cx=\"221.479\" cy=\"457.083\" r=\"14\"/>\n<circle clip-path=\"url(#clip8702)\" style=\"fill:#000000; stroke:none; fill-opacity:1\" cx=\"848.471\" cy=\"634.999\" r=\"18\"/>\n<circle clip-path=\"url(#clip8702)\" style=\"fill:#0000ff; stroke:none; fill-opacity:1\" cx=\"848.471\" cy=\"634.999\" r=\"14\"/>\n<circle clip-path=\"url(#clip8702)\" style=\"fill:#000000; stroke:none; fill-opacity:1\" cx=\"1126.89\" cy=\"746.653\" r=\"18\"/>\n<circle clip-path=\"url(#clip8702)\" style=\"fill:#0000ff; stroke:none; fill-opacity:1\" cx=\"1126.89\" cy=\"746.653\" r=\"14\"/>\n<circle clip-path=\"url(#clip8702)\" style=\"fill:#000000; stroke:none; fill-opacity:1\" cx=\"357.591\" cy=\"759.759\" r=\"18\"/>\n<circle clip-path=\"url(#clip8702)\" style=\"fill:#0000ff; stroke:none; fill-opacity:1\" cx=\"357.591\" cy=\"759.759\" r=\"14\"/>\n<circle clip-path=\"url(#clip8702)\" style=\"fill:#000000; stroke:none; fill-opacity:1\" cx=\"1008\" cy=\"207.016\" r=\"18\"/>\n<circle clip-path=\"url(#clip8702)\" style=\"fill:#0000ff; stroke:none; fill-opacity:1\" cx=\"1008\" cy=\"207.016\" r=\"14\"/>\n<circle clip-path=\"url(#clip8702)\" style=\"fill:#000000; stroke:none; fill-opacity:1\" cx=\"837.967\" cy=\"448.876\" r=\"18\"/>\n<circle clip-path=\"url(#clip8702)\" style=\"fill:#0000ff; stroke:none; fill-opacity:1\" cx=\"837.967\" cy=\"448.876\" r=\"14\"/>\n<circle clip-path=\"url(#clip8702)\" style=\"fill:#000000; stroke:none; fill-opacity:1\" cx=\"990.307\" cy=\"541.38\" r=\"18\"/>\n<circle clip-path=\"url(#clip8702)\" style=\"fill:#0000ff; stroke:none; fill-opacity:1\" cx=\"990.307\" cy=\"541.38\" r=\"14\"/>\n<circle clip-path=\"url(#clip8702)\" style=\"fill:#000000; stroke:none; fill-opacity:1\" cx=\"228.708\" cy=\"103.754\" r=\"18\"/>\n<circle clip-path=\"url(#clip8702)\" style=\"fill:#0000ff; stroke:none; fill-opacity:1\" cx=\"228.708\" cy=\"103.754\" r=\"14\"/>\n<circle clip-path=\"url(#clip8702)\" style=\"fill:#000000; stroke:none; fill-opacity:1\" cx=\"1317.56\" cy=\"808.577\" r=\"18\"/>\n<circle clip-path=\"url(#clip8702)\" style=\"fill:#0000ff; stroke:none; fill-opacity:1\" cx=\"1317.56\" cy=\"808.577\" r=\"14\"/>\n<circle clip-path=\"url(#clip8702)\" style=\"fill:#000000; stroke:none; fill-opacity:1\" cx=\"1143.97\" cy=\"215.522\" r=\"18\"/>\n<circle clip-path=\"url(#clip8702)\" style=\"fill:#0000ff; stroke:none; fill-opacity:1\" cx=\"1143.97\" cy=\"215.522\" r=\"14\"/>\n<circle clip-path=\"url(#clip8702)\" style=\"fill:#000000; stroke:none; fill-opacity:1\" cx=\"822.257\" cy=\"143.671\" r=\"18\"/>\n<circle clip-path=\"url(#clip8702)\" style=\"fill:#0000ff; stroke:none; fill-opacity:1\" cx=\"822.257\" cy=\"143.671\" r=\"14\"/>\n<circle clip-path=\"url(#clip8702)\" style=\"fill:#000000; stroke:none; fill-opacity:1\" cx=\"1291.15\" cy=\"301.431\" r=\"18\"/>\n<circle clip-path=\"url(#clip8702)\" style=\"fill:#0000ff; stroke:none; fill-opacity:1\" cx=\"1291.15\" cy=\"301.431\" r=\"14\"/>\n<circle clip-path=\"url(#clip8702)\" style=\"fill:#000000; stroke:none; fill-opacity:1\" cx=\"1001.08\" cy=\"303.591\" r=\"18\"/>\n<circle clip-path=\"url(#clip8702)\" style=\"fill:#0000ff; stroke:none; fill-opacity:1\" cx=\"1001.08\" cy=\"303.591\" r=\"14\"/>\n<circle clip-path=\"url(#clip8702)\" style=\"fill:#000000; stroke:none; fill-opacity:1\" cx=\"615.944\" cy=\"461.326\" r=\"18\"/>\n<circle clip-path=\"url(#clip8702)\" style=\"fill:#0000ff; stroke:none; fill-opacity:1\" cx=\"615.944\" cy=\"461.326\" r=\"14\"/>\n<circle clip-path=\"url(#clip8702)\" style=\"fill:#000000; stroke:none; fill-opacity:1\" cx=\"1516.13\" cy=\"358.065\" r=\"18\"/>\n<circle clip-path=\"url(#clip8702)\" style=\"fill:#0000ff; stroke:none; fill-opacity:1\" cx=\"1516.13\" cy=\"358.065\" r=\"14\"/>\n<circle clip-path=\"url(#clip8702)\" style=\"fill:#000000; stroke:none; fill-opacity:1\" cx=\"1411.84\" cy=\"429.055\" r=\"18\"/>\n<circle clip-path=\"url(#clip8702)\" style=\"fill:#0000ff; stroke:none; fill-opacity:1\" cx=\"1411.84\" cy=\"429.055\" r=\"14\"/>\n<circle clip-path=\"url(#clip8702)\" style=\"fill:#000000; stroke:none; fill-opacity:1\" cx=\"1019.53\" cy=\"491.858\" r=\"18\"/>\n<circle clip-path=\"url(#clip8702)\" style=\"fill:#0000ff; stroke:none; fill-opacity:1\" cx=\"1019.53\" cy=\"491.858\" r=\"14\"/>\n<circle clip-path=\"url(#clip8702)\" style=\"fill:#000000; stroke:none; fill-opacity:1\" cx=\"1462.69\" cy=\"599.454\" r=\"18\"/>\n<circle clip-path=\"url(#clip8702)\" style=\"fill:#0000ff; stroke:none; fill-opacity:1\" cx=\"1462.69\" cy=\"599.454\" r=\"14\"/>\n<circle clip-path=\"url(#clip8702)\" style=\"fill:#000000; stroke:none; fill-opacity:1\" cx=\"1184.37\" cy=\"735.173\" r=\"18\"/>\n<circle clip-path=\"url(#clip8702)\" style=\"fill:#0000ff; stroke:none; fill-opacity:1\" cx=\"1184.37\" cy=\"735.173\" r=\"14\"/>\n<circle clip-path=\"url(#clip8702)\" style=\"fill:#000000; stroke:none; fill-opacity:1\" cx=\"524.896\" cy=\"333.761\" r=\"18\"/>\n<circle clip-path=\"url(#clip8702)\" style=\"fill:#0000ff; stroke:none; fill-opacity:1\" cx=\"524.896\" cy=\"333.761\" r=\"14\"/>\n<circle clip-path=\"url(#clip8702)\" style=\"fill:#000000; stroke:none; fill-opacity:1\" cx=\"807.308\" cy=\"316.192\" r=\"18\"/>\n<circle clip-path=\"url(#clip8702)\" style=\"fill:#0000ff; stroke:none; fill-opacity:1\" cx=\"807.308\" cy=\"316.192\" r=\"14\"/>\n<circle clip-path=\"url(#clip8702)\" style=\"fill:#000000; stroke:none; fill-opacity:1\" cx=\"216.803\" cy=\"1189.1\" r=\"18\"/>\n<circle clip-path=\"url(#clip8702)\" style=\"fill:#0000ff; stroke:none; fill-opacity:1\" cx=\"216.803\" cy=\"1189.1\" r=\"14\"/>\n<circle clip-path=\"url(#clip8702)\" style=\"fill:#000000; stroke:none; fill-opacity:1\" cx=\"337.973\" cy=\"419.445\" r=\"18\"/>\n<circle clip-path=\"url(#clip8702)\" style=\"fill:#0000ff; stroke:none; fill-opacity:1\" cx=\"337.973\" cy=\"419.445\" r=\"14\"/>\n<circle clip-path=\"url(#clip8702)\" style=\"fill:#000000; stroke:none; fill-opacity:1\" cx=\"238.116\" cy=\"982.722\" r=\"18\"/>\n<circle clip-path=\"url(#clip8702)\" style=\"fill:#0000ff; stroke:none; fill-opacity:1\" cx=\"238.116\" cy=\"982.722\" r=\"14\"/>\n<circle clip-path=\"url(#clip8702)\" style=\"fill:#000000; stroke:none; fill-opacity:1\" cx=\"1281\" cy=\"522.374\" r=\"18\"/>\n<circle clip-path=\"url(#clip8702)\" style=\"fill:#0000ff; stroke:none; fill-opacity:1\" cx=\"1281\" cy=\"522.374\" r=\"14\"/>\n<circle clip-path=\"url(#clip8702)\" style=\"fill:#000000; stroke:none; fill-opacity:1\" cx=\"228.994\" cy=\"1037.7\" r=\"18\"/>\n<circle clip-path=\"url(#clip8702)\" style=\"fill:#0000ff; stroke:none; fill-opacity:1\" cx=\"228.994\" cy=\"1037.7\" r=\"14\"/>\n<circle clip-path=\"url(#clip8702)\" style=\"fill:#000000; stroke:none; fill-opacity:1\" cx=\"1359.94\" cy=\"731.189\" r=\"18\"/>\n<circle clip-path=\"url(#clip8702)\" style=\"fill:#0000ff; stroke:none; fill-opacity:1\" cx=\"1359.94\" cy=\"731.189\" r=\"14\"/>\n<circle clip-path=\"url(#clip8702)\" style=\"fill:#000000; stroke:none; fill-opacity:1\" cx=\"1232.92\" cy=\"229.964\" r=\"18\"/>\n<circle clip-path=\"url(#clip8702)\" style=\"fill:#0000ff; stroke:none; fill-opacity:1\" cx=\"1232.92\" cy=\"229.964\" r=\"14\"/>\n<circle clip-path=\"url(#clip8702)\" style=\"fill:#000000; stroke:none; fill-opacity:1\" cx=\"1296.18\" cy=\"473.88\" r=\"18\"/>\n<circle clip-path=\"url(#clip8702)\" style=\"fill:#0000ff; stroke:none; fill-opacity:1\" cx=\"1296.18\" cy=\"473.88\" r=\"14\"/>\n<circle clip-path=\"url(#clip8702)\" style=\"fill:#000000; stroke:none; fill-opacity:1\" cx=\"251.421\" cy=\"966.422\" r=\"18\"/>\n<circle clip-path=\"url(#clip8702)\" style=\"fill:#0000ff; stroke:none; fill-opacity:1\" cx=\"251.421\" cy=\"966.422\" r=\"14\"/>\n<circle clip-path=\"url(#clip8702)\" style=\"fill:#000000; stroke:none; fill-opacity:1\" cx=\"1662.06\" cy=\"148.796\" r=\"18\"/>\n<circle clip-path=\"url(#clip8702)\" style=\"fill:#0000ff; stroke:none; fill-opacity:1\" cx=\"1662.06\" cy=\"148.796\" r=\"14\"/>\n<circle clip-path=\"url(#clip8702)\" style=\"fill:#000000; stroke:none; fill-opacity:1\" cx=\"533.542\" cy=\"106.596\" r=\"18\"/>\n<circle clip-path=\"url(#clip8702)\" style=\"fill:#0000ff; stroke:none; fill-opacity:1\" cx=\"533.542\" cy=\"106.596\" r=\"14\"/>\n<circle clip-path=\"url(#clip8702)\" style=\"fill:#000000; stroke:none; fill-opacity:1\" cx=\"1763.28\" cy=\"182.853\" r=\"18\"/>\n<circle clip-path=\"url(#clip8702)\" style=\"fill:#0000ff; stroke:none; fill-opacity:1\" cx=\"1763.28\" cy=\"182.853\" r=\"14\"/>\n<circle clip-path=\"url(#clip8702)\" style=\"fill:#000000; stroke:none; fill-opacity:1\" cx=\"1537.85\" cy=\"558.249\" r=\"18\"/>\n<circle clip-path=\"url(#clip8702)\" style=\"fill:#0000ff; stroke:none; fill-opacity:1\" cx=\"1537.85\" cy=\"558.249\" r=\"14\"/>\n<circle clip-path=\"url(#clip8702)\" style=\"fill:#000000; stroke:none; fill-opacity:1\" cx=\"1523.03\" cy=\"622.191\" r=\"18\"/>\n<circle clip-path=\"url(#clip8702)\" style=\"fill:#0000ff; stroke:none; fill-opacity:1\" cx=\"1523.03\" cy=\"622.191\" r=\"14\"/>\n<circle clip-path=\"url(#clip8702)\" style=\"fill:#000000; stroke:none; fill-opacity:1\" cx=\"457.01\" cy=\"220.405\" r=\"18\"/>\n<circle clip-path=\"url(#clip8702)\" style=\"fill:#0000ff; stroke:none; fill-opacity:1\" cx=\"457.01\" cy=\"220.405\" r=\"14\"/>\n<circle clip-path=\"url(#clip8702)\" style=\"fill:#000000; stroke:none; fill-opacity:1\" cx=\"456.722\" cy=\"239.302\" r=\"18\"/>\n<circle clip-path=\"url(#clip8702)\" style=\"fill:#0000ff; stroke:none; fill-opacity:1\" cx=\"456.722\" cy=\"239.302\" r=\"14\"/>\n<circle clip-path=\"url(#clip8702)\" style=\"fill:#000000; stroke:none; fill-opacity:1\" cx=\"594.343\" cy=\"530.563\" r=\"18\"/>\n<circle clip-path=\"url(#clip8702)\" style=\"fill:#0000ff; stroke:none; fill-opacity:1\" cx=\"594.343\" cy=\"530.563\" r=\"14\"/>\n<circle clip-path=\"url(#clip8702)\" style=\"fill:#000000; stroke:none; fill-opacity:1\" cx=\"1572.28\" cy=\"131.044\" r=\"18\"/>\n<circle clip-path=\"url(#clip8702)\" style=\"fill:#0000ff; stroke:none; fill-opacity:1\" cx=\"1572.28\" cy=\"131.044\" r=\"14\"/>\n<circle clip-path=\"url(#clip8702)\" style=\"fill:#000000; stroke:none; fill-opacity:1\" cx=\"1471.83\" cy=\"614.048\" r=\"18\"/>\n<circle clip-path=\"url(#clip8702)\" style=\"fill:#0000ff; stroke:none; fill-opacity:1\" cx=\"1471.83\" cy=\"614.048\" r=\"14\"/>\n<circle clip-path=\"url(#clip8702)\" style=\"fill:#000000; stroke:none; fill-opacity:1\" cx=\"554.976\" cy=\"339.266\" r=\"18\"/>\n<circle clip-path=\"url(#clip8702)\" style=\"fill:#0000ff; stroke:none; fill-opacity:1\" cx=\"554.976\" cy=\"339.266\" r=\"14\"/>\n<circle clip-path=\"url(#clip8702)\" style=\"fill:#000000; stroke:none; fill-opacity:1\" cx=\"549.554\" cy=\"742.78\" r=\"18\"/>\n<circle clip-path=\"url(#clip8702)\" style=\"fill:#0000ff; stroke:none; fill-opacity:1\" cx=\"549.554\" cy=\"742.78\" r=\"14\"/>\n<circle clip-path=\"url(#clip8702)\" style=\"fill:#000000; stroke:none; fill-opacity:1\" cx=\"1453.72\" cy=\"210.914\" r=\"18\"/>\n<circle clip-path=\"url(#clip8702)\" style=\"fill:#0000ff; stroke:none; fill-opacity:1\" cx=\"1453.72\" cy=\"210.914\" r=\"14\"/>\n<circle clip-path=\"url(#clip8702)\" style=\"fill:#000000; stroke:none; fill-opacity:1\" cx=\"1040.33\" cy=\"223.361\" r=\"18\"/>\n<circle clip-path=\"url(#clip8702)\" style=\"fill:#0000ff; stroke:none; fill-opacity:1\" cx=\"1040.33\" cy=\"223.361\" r=\"14\"/>\n<circle clip-path=\"url(#clip8702)\" style=\"fill:#000000; stroke:none; fill-opacity:1\" cx=\"277.879\" cy=\"496.723\" r=\"18\"/>\n<circle clip-path=\"url(#clip8702)\" style=\"fill:#0000ff; stroke:none; fill-opacity:1\" cx=\"277.879\" cy=\"496.723\" r=\"14\"/>\n<circle clip-path=\"url(#clip8702)\" style=\"fill:#000000; stroke:none; fill-opacity:1\" cx=\"680.475\" cy=\"297.843\" r=\"18\"/>\n<circle clip-path=\"url(#clip8702)\" style=\"fill:#0000ff; stroke:none; fill-opacity:1\" cx=\"680.475\" cy=\"297.843\" r=\"14\"/>\n<circle clip-path=\"url(#clip8702)\" style=\"fill:#000000; stroke:none; fill-opacity:1\" cx=\"894.439\" cy=\"695.086\" r=\"18\"/>\n<circle clip-path=\"url(#clip8702)\" style=\"fill:#0000ff; stroke:none; fill-opacity:1\" cx=\"894.439\" cy=\"695.086\" r=\"14\"/>\n<circle clip-path=\"url(#clip8702)\" style=\"fill:#000000; stroke:none; fill-opacity:1\" cx=\"844.339\" cy=\"623.105\" r=\"18\"/>\n<circle clip-path=\"url(#clip8702)\" style=\"fill:#0000ff; stroke:none; fill-opacity:1\" cx=\"844.339\" cy=\"623.105\" r=\"14\"/>\n<circle clip-path=\"url(#clip8702)\" style=\"fill:#000000; stroke:none; fill-opacity:1\" cx=\"363.419\" cy=\"99.6815\" r=\"18\"/>\n<circle clip-path=\"url(#clip8702)\" style=\"fill:#0000ff; stroke:none; fill-opacity:1\" cx=\"363.419\" cy=\"99.6815\" r=\"14\"/>\n<circle clip-path=\"url(#clip8702)\" style=\"fill:#000000; stroke:none; fill-opacity:1\" cx=\"1382.05\" cy=\"776.744\" r=\"18\"/>\n<circle clip-path=\"url(#clip8702)\" style=\"fill:#0000ff; stroke:none; fill-opacity:1\" cx=\"1382.05\" cy=\"776.744\" r=\"14\"/>\n<circle clip-path=\"url(#clip8702)\" style=\"fill:#000000; stroke:none; fill-opacity:1\" cx=\"303.144\" cy=\"749.539\" r=\"18\"/>\n<circle clip-path=\"url(#clip8702)\" style=\"fill:#0000ff; stroke:none; fill-opacity:1\" cx=\"303.144\" cy=\"749.539\" r=\"14\"/>\n<circle clip-path=\"url(#clip8702)\" style=\"fill:#000000; stroke:none; fill-opacity:1\" cx=\"1712.84\" cy=\"255.617\" r=\"18\"/>\n<circle clip-path=\"url(#clip8702)\" style=\"fill:#0000ff; stroke:none; fill-opacity:1\" cx=\"1712.84\" cy=\"255.617\" r=\"14\"/>\n<circle clip-path=\"url(#clip8702)\" style=\"fill:#000000; stroke:none; fill-opacity:1\" cx=\"723.321\" cy=\"228.209\" r=\"18\"/>\n<circle clip-path=\"url(#clip8702)\" style=\"fill:#0000ff; stroke:none; fill-opacity:1\" cx=\"723.321\" cy=\"228.209\" r=\"14\"/>\n<circle clip-path=\"url(#clip8702)\" style=\"fill:#000000; stroke:none; fill-opacity:1\" cx=\"1295.3\" cy=\"671.96\" r=\"18\"/>\n<circle clip-path=\"url(#clip8702)\" style=\"fill:#0000ff; stroke:none; fill-opacity:1\" cx=\"1295.3\" cy=\"671.96\" r=\"14\"/>\n<circle clip-path=\"url(#clip8702)\" style=\"fill:#000000; stroke:none; fill-opacity:1\" cx=\"1009.65\" cy=\"169.036\" r=\"18\"/>\n<circle clip-path=\"url(#clip8702)\" style=\"fill:#0000ff; stroke:none; fill-opacity:1\" cx=\"1009.65\" cy=\"169.036\" r=\"14\"/>\n<circle clip-path=\"url(#clip8702)\" style=\"fill:#000000; stroke:none; fill-opacity:1\" cx=\"1225.4\" cy=\"102.302\" r=\"18\"/>\n<circle clip-path=\"url(#clip8702)\" style=\"fill:#0000ff; stroke:none; fill-opacity:1\" cx=\"1225.4\" cy=\"102.302\" r=\"14\"/>\n<circle clip-path=\"url(#clip8702)\" style=\"fill:#000000; stroke:none; fill-opacity:1\" cx=\"1630.07\" cy=\"200.081\" r=\"18\"/>\n<circle clip-path=\"url(#clip8702)\" style=\"fill:#0000ff; stroke:none; fill-opacity:1\" cx=\"1630.07\" cy=\"200.081\" r=\"14\"/>\n<circle clip-path=\"url(#clip8702)\" style=\"fill:#000000; stroke:none; fill-opacity:1\" cx=\"703.043\" cy=\"519.04\" r=\"18\"/>\n<circle clip-path=\"url(#clip8702)\" style=\"fill:#0000ff; stroke:none; fill-opacity:1\" cx=\"703.043\" cy=\"519.04\" r=\"14\"/>\n<circle clip-path=\"url(#clip8702)\" style=\"fill:#000000; stroke:none; fill-opacity:1\" cx=\"278.83\" cy=\"142.086\" r=\"18\"/>\n<circle clip-path=\"url(#clip8702)\" style=\"fill:#0000ff; stroke:none; fill-opacity:1\" cx=\"278.83\" cy=\"142.086\" r=\"14\"/>\n<circle clip-path=\"url(#clip8702)\" style=\"fill:#000000; stroke:none; fill-opacity:1\" cx=\"293.063\" cy=\"553.921\" r=\"18\"/>\n<circle clip-path=\"url(#clip8702)\" style=\"fill:#0000ff; stroke:none; fill-opacity:1\" cx=\"293.063\" cy=\"553.921\" r=\"14\"/>\n<circle clip-path=\"url(#clip8702)\" style=\"fill:#000000; stroke:none; fill-opacity:1\" cx=\"1151.95\" cy=\"371.838\" r=\"18\"/>\n<circle clip-path=\"url(#clip8702)\" style=\"fill:#0000ff; stroke:none; fill-opacity:1\" cx=\"1151.95\" cy=\"371.838\" r=\"14\"/>\n<circle clip-path=\"url(#clip8702)\" style=\"fill:#000000; stroke:none; fill-opacity:1\" cx=\"1255.65\" cy=\"330.975\" r=\"18\"/>\n<circle clip-path=\"url(#clip8702)\" style=\"fill:#0000ff; stroke:none; fill-opacity:1\" cx=\"1255.65\" cy=\"330.975\" r=\"14\"/>\n<circle clip-path=\"url(#clip8702)\" style=\"fill:#000000; stroke:none; fill-opacity:1\" cx=\"825.801\" cy=\"229.639\" r=\"18\"/>\n<circle clip-path=\"url(#clip8702)\" style=\"fill:#0000ff; stroke:none; fill-opacity:1\" cx=\"825.801\" cy=\"229.639\" r=\"14\"/>\n<circle clip-path=\"url(#clip8702)\" style=\"fill:#000000; stroke:none; fill-opacity:1\" cx=\"246.454\" cy=\"825.987\" r=\"18\"/>\n<circle clip-path=\"url(#clip8702)\" style=\"fill:#0000ff; stroke:none; fill-opacity:1\" cx=\"246.454\" cy=\"825.987\" r=\"14\"/>\n<circle clip-path=\"url(#clip8702)\" style=\"fill:#000000; stroke:none; fill-opacity:1\" cx=\"380.705\" cy=\"655.499\" r=\"18\"/>\n<circle clip-path=\"url(#clip8702)\" style=\"fill:#0000ff; stroke:none; fill-opacity:1\" cx=\"380.705\" cy=\"655.499\" r=\"14\"/>\n<circle clip-path=\"url(#clip8702)\" style=\"fill:#000000; stroke:none; fill-opacity:1\" cx=\"427.924\" cy=\"387.049\" r=\"18\"/>\n<circle clip-path=\"url(#clip8702)\" style=\"fill:#0000ff; stroke:none; fill-opacity:1\" cx=\"427.924\" cy=\"387.049\" r=\"14\"/>\n<circle clip-path=\"url(#clip8702)\" style=\"fill:#000000; stroke:none; fill-opacity:1\" cx=\"267.065\" cy=\"518.172\" r=\"18\"/>\n<circle clip-path=\"url(#clip8702)\" style=\"fill:#0000ff; stroke:none; fill-opacity:1\" cx=\"267.065\" cy=\"518.172\" r=\"14\"/>\n<circle clip-path=\"url(#clip8702)\" style=\"fill:#000000; stroke:none; fill-opacity:1\" cx=\"1414.94\" cy=\"475.33\" r=\"18\"/>\n<circle clip-path=\"url(#clip8702)\" style=\"fill:#0000ff; stroke:none; fill-opacity:1\" cx=\"1414.94\" cy=\"475.33\" r=\"14\"/>\n<circle clip-path=\"url(#clip8702)\" style=\"fill:#000000; stroke:none; fill-opacity:1\" cx=\"595.321\" cy=\"431.458\" r=\"18\"/>\n<circle clip-path=\"url(#clip8702)\" style=\"fill:#0000ff; stroke:none; fill-opacity:1\" cx=\"595.321\" cy=\"431.458\" r=\"14\"/>\n<circle clip-path=\"url(#clip8702)\" style=\"fill:#000000; stroke:none; fill-opacity:1\" cx=\"835.948\" cy=\"652.333\" r=\"18\"/>\n<circle clip-path=\"url(#clip8702)\" style=\"fill:#0000ff; stroke:none; fill-opacity:1\" cx=\"835.948\" cy=\"652.333\" r=\"14\"/>\n<circle clip-path=\"url(#clip8702)\" style=\"fill:#000000; stroke:none; fill-opacity:1\" cx=\"422.739\" cy=\"280.3\" r=\"18\"/>\n<circle clip-path=\"url(#clip8702)\" style=\"fill:#0000ff; stroke:none; fill-opacity:1\" cx=\"422.739\" cy=\"280.3\" r=\"14\"/>\n<circle clip-path=\"url(#clip8702)\" style=\"fill:#000000; stroke:none; fill-opacity:1\" cx=\"1164.99\" cy=\"377.841\" r=\"18\"/>\n<circle clip-path=\"url(#clip8702)\" style=\"fill:#0000ff; stroke:none; fill-opacity:1\" cx=\"1164.99\" cy=\"377.841\" r=\"14\"/>\n<circle clip-path=\"url(#clip8702)\" style=\"fill:#000000; stroke:none; fill-opacity:1\" cx=\"373.048\" cy=\"806.526\" r=\"18\"/>\n<circle clip-path=\"url(#clip8702)\" style=\"fill:#0000ff; stroke:none; fill-opacity:1\" cx=\"373.048\" cy=\"806.526\" r=\"14\"/>\n<circle clip-path=\"url(#clip8702)\" style=\"fill:#000000; stroke:none; fill-opacity:1\" cx=\"1381.53\" cy=\"340.017\" r=\"18\"/>\n<circle clip-path=\"url(#clip8702)\" style=\"fill:#0000ff; stroke:none; fill-opacity:1\" cx=\"1381.53\" cy=\"340.017\" r=\"14\"/>\n<circle clip-path=\"url(#clip8702)\" style=\"fill:#000000; stroke:none; fill-opacity:1\" cx=\"1325.64\" cy=\"446.288\" r=\"18\"/>\n<circle clip-path=\"url(#clip8702)\" style=\"fill:#0000ff; stroke:none; fill-opacity:1\" cx=\"1325.64\" cy=\"446.288\" r=\"14\"/>\n<circle clip-path=\"url(#clip8702)\" style=\"fill:#000000; stroke:none; fill-opacity:1\" cx=\"241.005\" cy=\"329.808\" r=\"18\"/>\n<circle clip-path=\"url(#clip8702)\" style=\"fill:#0000ff; stroke:none; fill-opacity:1\" cx=\"241.005\" cy=\"329.808\" r=\"14\"/>\n<circle clip-path=\"url(#clip8702)\" style=\"fill:#000000; stroke:none; fill-opacity:1\" cx=\"1079.95\" cy=\"428.607\" r=\"18\"/>\n<circle clip-path=\"url(#clip8702)\" style=\"fill:#0000ff; stroke:none; fill-opacity:1\" cx=\"1079.95\" cy=\"428.607\" r=\"14\"/>\n<circle clip-path=\"url(#clip8702)\" style=\"fill:#000000; stroke:none; fill-opacity:1\" cx=\"963.91\" cy=\"608.37\" r=\"18\"/>\n<circle clip-path=\"url(#clip8702)\" style=\"fill:#0000ff; stroke:none; fill-opacity:1\" cx=\"963.91\" cy=\"608.37\" r=\"14\"/>\n<circle clip-path=\"url(#clip8702)\" style=\"fill:#000000; stroke:none; fill-opacity:1\" cx=\"1159.66\" cy=\"155.747\" r=\"18\"/>\n<circle clip-path=\"url(#clip8702)\" style=\"fill:#0000ff; stroke:none; fill-opacity:1\" cx=\"1159.66\" cy=\"155.747\" r=\"14\"/>\n<circle clip-path=\"url(#clip8702)\" style=\"fill:#000000; stroke:none; fill-opacity:1\" cx=\"1119.04\" cy=\"1179.88\" r=\"18\"/>\n<circle clip-path=\"url(#clip8702)\" style=\"fill:#ff0000; stroke:none; fill-opacity:1\" cx=\"1119.04\" cy=\"1179.88\" r=\"14\"/>\n<circle clip-path=\"url(#clip8702)\" style=\"fill:#000000; stroke:none; fill-opacity:1\" cx=\"917.252\" cy=\"1053.31\" r=\"18\"/>\n<circle clip-path=\"url(#clip8702)\" style=\"fill:#ff0000; stroke:none; fill-opacity:1\" cx=\"917.252\" cy=\"1053.31\" r=\"14\"/>\n<circle clip-path=\"url(#clip8702)\" style=\"fill:#000000; stroke:none; fill-opacity:1\" cx=\"761.695\" cy=\"771.122\" r=\"18\"/>\n<circle clip-path=\"url(#clip8702)\" style=\"fill:#ff0000; stroke:none; fill-opacity:1\" cx=\"761.695\" cy=\"771.122\" r=\"14\"/>\n<circle clip-path=\"url(#clip8702)\" style=\"fill:#000000; stroke:none; fill-opacity:1\" cx=\"377.084\" cy=\"1168.17\" r=\"18\"/>\n<circle clip-path=\"url(#clip8702)\" style=\"fill:#ff0000; stroke:none; fill-opacity:1\" cx=\"377.084\" cy=\"1168.17\" r=\"14\"/>\n<circle clip-path=\"url(#clip8702)\" style=\"fill:#000000; stroke:none; fill-opacity:1\" cx=\"1088.02\" cy=\"1119.83\" r=\"18\"/>\n<circle clip-path=\"url(#clip8702)\" style=\"fill:#ff0000; stroke:none; fill-opacity:1\" cx=\"1088.02\" cy=\"1119.83\" r=\"14\"/>\n<circle clip-path=\"url(#clip8702)\" style=\"fill:#000000; stroke:none; fill-opacity:1\" cx=\"1429.64\" cy=\"1318.91\" r=\"18\"/>\n<circle clip-path=\"url(#clip8702)\" style=\"fill:#ff0000; stroke:none; fill-opacity:1\" cx=\"1429.64\" cy=\"1318.91\" r=\"14\"/>\n<circle clip-path=\"url(#clip8702)\" style=\"fill:#000000; stroke:none; fill-opacity:1\" cx=\"1258.99\" cy=\"958.228\" r=\"18\"/>\n<circle clip-path=\"url(#clip8702)\" style=\"fill:#ff0000; stroke:none; fill-opacity:1\" cx=\"1258.99\" cy=\"958.228\" r=\"14\"/>\n<circle clip-path=\"url(#clip8702)\" style=\"fill:#000000; stroke:none; fill-opacity:1\" cx=\"1416.45\" cy=\"823.879\" r=\"18\"/>\n<circle clip-path=\"url(#clip8702)\" style=\"fill:#ff0000; stroke:none; fill-opacity:1\" cx=\"1416.45\" cy=\"823.879\" r=\"14\"/>\n<circle clip-path=\"url(#clip8702)\" style=\"fill:#000000; stroke:none; fill-opacity:1\" cx=\"1067.98\" cy=\"1425.71\" r=\"18\"/>\n<circle clip-path=\"url(#clip8702)\" style=\"fill:#ff0000; stroke:none; fill-opacity:1\" cx=\"1067.98\" cy=\"1425.71\" r=\"14\"/>\n<circle clip-path=\"url(#clip8702)\" style=\"fill:#000000; stroke:none; fill-opacity:1\" cx=\"1129.05\" cy=\"1131.7\" r=\"18\"/>\n<circle clip-path=\"url(#clip8702)\" style=\"fill:#ff0000; stroke:none; fill-opacity:1\" cx=\"1129.05\" cy=\"1131.7\" r=\"14\"/>\n<circle clip-path=\"url(#clip8702)\" style=\"fill:#000000; stroke:none; fill-opacity:1\" cx=\"1694.66\" cy=\"1180.15\" r=\"18\"/>\n<circle clip-path=\"url(#clip8702)\" style=\"fill:#ff0000; stroke:none; fill-opacity:1\" cx=\"1694.66\" cy=\"1180.15\" r=\"14\"/>\n<circle clip-path=\"url(#clip8702)\" style=\"fill:#000000; stroke:none; fill-opacity:1\" cx=\"980.294\" cy=\"1370.48\" r=\"18\"/>\n<circle clip-path=\"url(#clip8702)\" style=\"fill:#ff0000; stroke:none; fill-opacity:1\" cx=\"980.294\" cy=\"1370.48\" r=\"14\"/>\n<circle clip-path=\"url(#clip8702)\" style=\"fill:#000000; stroke:none; fill-opacity:1\" cx=\"413.515\" cy=\"1272\" r=\"18\"/>\n<circle clip-path=\"url(#clip8702)\" style=\"fill:#ff0000; stroke:none; fill-opacity:1\" cx=\"413.515\" cy=\"1272\" r=\"14\"/>\n<circle clip-path=\"url(#clip8702)\" style=\"fill:#000000; stroke:none; fill-opacity:1\" cx=\"630.817\" cy=\"1182.1\" r=\"18\"/>\n<circle clip-path=\"url(#clip8702)\" style=\"fill:#ff0000; stroke:none; fill-opacity:1\" cx=\"630.817\" cy=\"1182.1\" r=\"14\"/>\n<circle clip-path=\"url(#clip8702)\" style=\"fill:#000000; stroke:none; fill-opacity:1\" cx=\"550.859\" cy=\"992.346\" r=\"18\"/>\n<circle clip-path=\"url(#clip8702)\" style=\"fill:#ff0000; stroke:none; fill-opacity:1\" cx=\"550.859\" cy=\"992.346\" r=\"14\"/>\n<circle clip-path=\"url(#clip8702)\" style=\"fill:#000000; stroke:none; fill-opacity:1\" cx=\"1588.03\" cy=\"778.613\" r=\"18\"/>\n<circle clip-path=\"url(#clip8702)\" style=\"fill:#ff0000; stroke:none; fill-opacity:1\" cx=\"1588.03\" cy=\"778.613\" r=\"14\"/>\n<circle clip-path=\"url(#clip8702)\" style=\"fill:#000000; stroke:none; fill-opacity:1\" cx=\"1720.42\" cy=\"671.21\" r=\"18\"/>\n<circle clip-path=\"url(#clip8702)\" style=\"fill:#ff0000; stroke:none; fill-opacity:1\" cx=\"1720.42\" cy=\"671.21\" r=\"14\"/>\n<circle clip-path=\"url(#clip8702)\" style=\"fill:#000000; stroke:none; fill-opacity:1\" cx=\"984.146\" cy=\"1429.12\" r=\"18\"/>\n<circle clip-path=\"url(#clip8702)\" style=\"fill:#ff0000; stroke:none; fill-opacity:1\" cx=\"984.146\" cy=\"1429.12\" r=\"14\"/>\n<circle clip-path=\"url(#clip8702)\" style=\"fill:#000000; stroke:none; fill-opacity:1\" cx=\"492.125\" cy=\"842.079\" r=\"18\"/>\n<circle clip-path=\"url(#clip8702)\" style=\"fill:#ff0000; stroke:none; fill-opacity:1\" cx=\"492.125\" cy=\"842.079\" r=\"14\"/>\n<circle clip-path=\"url(#clip8702)\" style=\"fill:#000000; stroke:none; fill-opacity:1\" cx=\"1023.63\" cy=\"1411.2\" r=\"18\"/>\n<circle clip-path=\"url(#clip8702)\" style=\"fill:#ff0000; stroke:none; fill-opacity:1\" cx=\"1023.63\" cy=\"1411.2\" r=\"14\"/>\n<circle clip-path=\"url(#clip8702)\" style=\"fill:#000000; stroke:none; fill-opacity:1\" cx=\"463.915\" cy=\"1289.26\" r=\"18\"/>\n<circle clip-path=\"url(#clip8702)\" style=\"fill:#ff0000; stroke:none; fill-opacity:1\" cx=\"463.915\" cy=\"1289.26\" r=\"14\"/>\n<circle clip-path=\"url(#clip8702)\" style=\"fill:#000000; stroke:none; fill-opacity:1\" cx=\"1548.04\" cy=\"1098.5\" r=\"18\"/>\n<circle clip-path=\"url(#clip8702)\" style=\"fill:#ff0000; stroke:none; fill-opacity:1\" cx=\"1548.04\" cy=\"1098.5\" r=\"14\"/>\n<circle clip-path=\"url(#clip8702)\" style=\"fill:#000000; stroke:none; fill-opacity:1\" cx=\"1366.22\" cy=\"1185.36\" r=\"18\"/>\n<circle clip-path=\"url(#clip8702)\" style=\"fill:#ff0000; stroke:none; fill-opacity:1\" cx=\"1366.22\" cy=\"1185.36\" r=\"14\"/>\n<circle clip-path=\"url(#clip8702)\" style=\"fill:#000000; stroke:none; fill-opacity:1\" cx=\"902.843\" cy=\"751.39\" r=\"18\"/>\n<circle clip-path=\"url(#clip8702)\" style=\"fill:#ff0000; stroke:none; fill-opacity:1\" cx=\"902.843\" cy=\"751.39\" r=\"14\"/>\n<circle clip-path=\"url(#clip8702)\" style=\"fill:#000000; stroke:none; fill-opacity:1\" cx=\"726.642\" cy=\"1427.82\" r=\"18\"/>\n<circle clip-path=\"url(#clip8702)\" style=\"fill:#ff0000; stroke:none; fill-opacity:1\" cx=\"726.642\" cy=\"1427.82\" r=\"14\"/>\n<circle clip-path=\"url(#clip8702)\" style=\"fill:#000000; stroke:none; fill-opacity:1\" cx=\"776.093\" cy=\"1035.51\" r=\"18\"/>\n<circle clip-path=\"url(#clip8702)\" style=\"fill:#ff0000; stroke:none; fill-opacity:1\" cx=\"776.093\" cy=\"1035.51\" r=\"14\"/>\n<circle clip-path=\"url(#clip8702)\" style=\"fill:#000000; stroke:none; fill-opacity:1\" cx=\"513.212\" cy=\"1146.93\" r=\"18\"/>\n<circle clip-path=\"url(#clip8702)\" style=\"fill:#ff0000; stroke:none; fill-opacity:1\" cx=\"513.212\" cy=\"1146.93\" r=\"14\"/>\n<circle clip-path=\"url(#clip8702)\" style=\"fill:#000000; stroke:none; fill-opacity:1\" cx=\"1582.74\" cy=\"1200.47\" r=\"18\"/>\n<circle clip-path=\"url(#clip8702)\" style=\"fill:#ff0000; stroke:none; fill-opacity:1\" cx=\"1582.74\" cy=\"1200.47\" r=\"14\"/>\n<circle clip-path=\"url(#clip8702)\" style=\"fill:#000000; stroke:none; fill-opacity:1\" cx=\"644.339\" cy=\"1203.22\" r=\"18\"/>\n<circle clip-path=\"url(#clip8702)\" style=\"fill:#ff0000; stroke:none; fill-opacity:1\" cx=\"644.339\" cy=\"1203.22\" r=\"14\"/>\n<circle clip-path=\"url(#clip8702)\" style=\"fill:#000000; stroke:none; fill-opacity:1\" cx=\"724.685\" cy=\"1312.62\" r=\"18\"/>\n<circle clip-path=\"url(#clip8702)\" style=\"fill:#ff0000; stroke:none; fill-opacity:1\" cx=\"724.685\" cy=\"1312.62\" r=\"14\"/>\n<circle clip-path=\"url(#clip8702)\" style=\"fill:#000000; stroke:none; fill-opacity:1\" cx=\"985.491\" cy=\"1339.42\" r=\"18\"/>\n<circle clip-path=\"url(#clip8702)\" style=\"fill:#ff0000; stroke:none; fill-opacity:1\" cx=\"985.491\" cy=\"1339.42\" r=\"14\"/>\n<circle clip-path=\"url(#clip8702)\" style=\"fill:#000000; stroke:none; fill-opacity:1\" cx=\"801.342\" cy=\"709.187\" r=\"18\"/>\n<circle clip-path=\"url(#clip8702)\" style=\"fill:#ff0000; stroke:none; fill-opacity:1\" cx=\"801.342\" cy=\"709.187\" r=\"14\"/>\n<circle clip-path=\"url(#clip8702)\" style=\"fill:#000000; stroke:none; fill-opacity:1\" cx=\"735.918\" cy=\"760.567\" r=\"18\"/>\n<circle clip-path=\"url(#clip8702)\" style=\"fill:#ff0000; stroke:none; fill-opacity:1\" cx=\"735.918\" cy=\"760.567\" r=\"14\"/>\n<circle clip-path=\"url(#clip8702)\" style=\"fill:#000000; stroke:none; fill-opacity:1\" cx=\"687.169\" cy=\"1308.35\" r=\"18\"/>\n<circle clip-path=\"url(#clip8702)\" style=\"fill:#ff0000; stroke:none; fill-opacity:1\" cx=\"687.169\" cy=\"1308.35\" r=\"14\"/>\n<circle clip-path=\"url(#clip8702)\" style=\"fill:#000000; stroke:none; fill-opacity:1\" cx=\"768.201\" cy=\"697.072\" r=\"18\"/>\n<circle clip-path=\"url(#clip8702)\" style=\"fill:#ff0000; stroke:none; fill-opacity:1\" cx=\"768.201\" cy=\"697.072\" r=\"14\"/>\n<circle clip-path=\"url(#clip8702)\" style=\"fill:#000000; stroke:none; fill-opacity:1\" cx=\"1599.56\" cy=\"825.851\" r=\"18\"/>\n<circle clip-path=\"url(#clip8702)\" style=\"fill:#ff0000; stroke:none; fill-opacity:1\" cx=\"1599.56\" cy=\"825.851\" r=\"14\"/>\n<circle clip-path=\"url(#clip8702)\" style=\"fill:#000000; stroke:none; fill-opacity:1\" cx=\"1729.87\" cy=\"1170.13\" r=\"18\"/>\n<circle clip-path=\"url(#clip8702)\" style=\"fill:#ff0000; stroke:none; fill-opacity:1\" cx=\"1729.87\" cy=\"1170.13\" r=\"14\"/>\n<circle clip-path=\"url(#clip8702)\" style=\"fill:#000000; stroke:none; fill-opacity:1\" cx=\"1760.53\" cy=\"1260.14\" r=\"18\"/>\n<circle clip-path=\"url(#clip8702)\" style=\"fill:#ff0000; stroke:none; fill-opacity:1\" cx=\"1760.53\" cy=\"1260.14\" r=\"14\"/>\n<circle clip-path=\"url(#clip8702)\" style=\"fill:#000000; stroke:none; fill-opacity:1\" cx=\"892.93\" cy=\"808.459\" r=\"18\"/>\n<circle clip-path=\"url(#clip8702)\" style=\"fill:#ff0000; stroke:none; fill-opacity:1\" cx=\"892.93\" cy=\"808.459\" r=\"14\"/>\n<circle clip-path=\"url(#clip8702)\" style=\"fill:#000000; stroke:none; fill-opacity:1\" cx=\"1672.84\" cy=\"1179.98\" r=\"18\"/>\n<circle clip-path=\"url(#clip8702)\" style=\"fill:#ff0000; stroke:none; fill-opacity:1\" cx=\"1672.84\" cy=\"1179.98\" r=\"14\"/>\n<circle clip-path=\"url(#clip8702)\" style=\"fill:#000000; stroke:none; fill-opacity:1\" cx=\"1002.25\" cy=\"861.797\" r=\"18\"/>\n<circle clip-path=\"url(#clip8702)\" style=\"fill:#ff0000; stroke:none; fill-opacity:1\" cx=\"1002.25\" cy=\"861.797\" r=\"14\"/>\n<circle clip-path=\"url(#clip8702)\" style=\"fill:#000000; stroke:none; fill-opacity:1\" cx=\"728.318\" cy=\"949.174\" r=\"18\"/>\n<circle clip-path=\"url(#clip8702)\" style=\"fill:#ff0000; stroke:none; fill-opacity:1\" cx=\"728.318\" cy=\"949.174\" r=\"14\"/>\n<circle clip-path=\"url(#clip8702)\" style=\"fill:#000000; stroke:none; fill-opacity:1\" cx=\"628.768\" cy=\"1298.56\" r=\"18\"/>\n<circle clip-path=\"url(#clip8702)\" style=\"fill:#ff0000; stroke:none; fill-opacity:1\" cx=\"628.768\" cy=\"1298.56\" r=\"14\"/>\n<circle clip-path=\"url(#clip8702)\" style=\"fill:#000000; stroke:none; fill-opacity:1\" cx=\"1473.88\" cy=\"945.63\" r=\"18\"/>\n<circle clip-path=\"url(#clip8702)\" style=\"fill:#ff0000; stroke:none; fill-opacity:1\" cx=\"1473.88\" cy=\"945.63\" r=\"14\"/>\n<circle clip-path=\"url(#clip8702)\" style=\"fill:#000000; stroke:none; fill-opacity:1\" cx=\"913.13\" cy=\"1027.66\" r=\"18\"/>\n<circle clip-path=\"url(#clip8702)\" style=\"fill:#ff0000; stroke:none; fill-opacity:1\" cx=\"913.13\" cy=\"1027.66\" r=\"14\"/>\n<circle clip-path=\"url(#clip8702)\" style=\"fill:#000000; stroke:none; fill-opacity:1\" cx=\"579.039\" cy=\"1155.73\" r=\"18\"/>\n<circle clip-path=\"url(#clip8702)\" style=\"fill:#ff0000; stroke:none; fill-opacity:1\" cx=\"579.039\" cy=\"1155.73\" r=\"14\"/>\n<circle clip-path=\"url(#clip8702)\" style=\"fill:#000000; stroke:none; fill-opacity:1\" cx=\"1084.7\" cy=\"1044.06\" r=\"18\"/>\n<circle clip-path=\"url(#clip8702)\" style=\"fill:#ff0000; stroke:none; fill-opacity:1\" cx=\"1084.7\" cy=\"1044.06\" r=\"14\"/>\n<circle clip-path=\"url(#clip8702)\" style=\"fill:#000000; stroke:none; fill-opacity:1\" cx=\"1488.99\" cy=\"1008.13\" r=\"18\"/>\n<circle clip-path=\"url(#clip8702)\" style=\"fill:#ff0000; stroke:none; fill-opacity:1\" cx=\"1488.99\" cy=\"1008.13\" r=\"14\"/>\n<circle clip-path=\"url(#clip8702)\" style=\"fill:#000000; stroke:none; fill-opacity:1\" cx=\"1512.75\" cy=\"1182.37\" r=\"18\"/>\n<circle clip-path=\"url(#clip8702)\" style=\"fill:#ff0000; stroke:none; fill-opacity:1\" cx=\"1512.75\" cy=\"1182.37\" r=\"14\"/>\n<circle clip-path=\"url(#clip8702)\" style=\"fill:#000000; stroke:none; fill-opacity:1\" cx=\"1358.38\" cy=\"1055.82\" r=\"18\"/>\n<circle clip-path=\"url(#clip8702)\" style=\"fill:#ff0000; stroke:none; fill-opacity:1\" cx=\"1358.38\" cy=\"1055.82\" r=\"14\"/>\n<circle clip-path=\"url(#clip8702)\" style=\"fill:#000000; stroke:none; fill-opacity:1\" cx=\"480.496\" cy=\"1419.22\" r=\"18\"/>\n<circle clip-path=\"url(#clip8702)\" style=\"fill:#ff0000; stroke:none; fill-opacity:1\" cx=\"480.496\" cy=\"1419.22\" r=\"14\"/>\n<circle clip-path=\"url(#clip8702)\" style=\"fill:#000000; stroke:none; fill-opacity:1\" cx=\"387.909\" cy=\"1215.65\" r=\"18\"/>\n<circle clip-path=\"url(#clip8702)\" style=\"fill:#ff0000; stroke:none; fill-opacity:1\" cx=\"387.909\" cy=\"1215.65\" r=\"14\"/>\n<circle clip-path=\"url(#clip8702)\" style=\"fill:#000000; stroke:none; fill-opacity:1\" cx=\"1029.27\" cy=\"858.131\" r=\"18\"/>\n<circle clip-path=\"url(#clip8702)\" style=\"fill:#ff0000; stroke:none; fill-opacity:1\" cx=\"1029.27\" cy=\"858.131\" r=\"14\"/>\n<circle clip-path=\"url(#clip8702)\" style=\"fill:#000000; stroke:none; fill-opacity:1\" cx=\"764.458\" cy=\"1248.28\" r=\"18\"/>\n<circle clip-path=\"url(#clip8702)\" style=\"fill:#ff0000; stroke:none; fill-opacity:1\" cx=\"764.458\" cy=\"1248.28\" r=\"14\"/>\n<circle clip-path=\"url(#clip8702)\" style=\"fill:#000000; stroke:none; fill-opacity:1\" cx=\"1171.88\" cy=\"1208.87\" r=\"18\"/>\n<circle clip-path=\"url(#clip8702)\" style=\"fill:#ff0000; stroke:none; fill-opacity:1\" cx=\"1171.88\" cy=\"1208.87\" r=\"14\"/>\n<circle clip-path=\"url(#clip8702)\" style=\"fill:#000000; stroke:none; fill-opacity:1\" cx=\"1700.17\" cy=\"580.292\" r=\"18\"/>\n<circle clip-path=\"url(#clip8702)\" style=\"fill:#ff0000; stroke:none; fill-opacity:1\" cx=\"1700.17\" cy=\"580.292\" r=\"14\"/>\n<circle clip-path=\"url(#clip8702)\" style=\"fill:#000000; stroke:none; fill-opacity:1\" cx=\"1720.12\" cy=\"859.536\" r=\"18\"/>\n<circle clip-path=\"url(#clip8702)\" style=\"fill:#ff0000; stroke:none; fill-opacity:1\" cx=\"1720.12\" cy=\"859.536\" r=\"14\"/>\n<circle clip-path=\"url(#clip8702)\" style=\"fill:#000000; stroke:none; fill-opacity:1\" cx=\"824.714\" cy=\"1344.2\" r=\"18\"/>\n<circle clip-path=\"url(#clip8702)\" style=\"fill:#ff0000; stroke:none; fill-opacity:1\" cx=\"824.714\" cy=\"1344.2\" r=\"14\"/>\n<circle clip-path=\"url(#clip8702)\" style=\"fill:#000000; stroke:none; fill-opacity:1\" cx=\"1208.52\" cy=\"1066.94\" r=\"18\"/>\n<circle clip-path=\"url(#clip8702)\" style=\"fill:#ff0000; stroke:none; fill-opacity:1\" cx=\"1208.52\" cy=\"1066.94\" r=\"14\"/>\n<circle clip-path=\"url(#clip8702)\" style=\"fill:#000000; stroke:none; fill-opacity:1\" cx=\"665.692\" cy=\"1325.12\" r=\"18\"/>\n<circle clip-path=\"url(#clip8702)\" style=\"fill:#ff0000; stroke:none; fill-opacity:1\" cx=\"665.692\" cy=\"1325.12\" r=\"14\"/>\n<circle clip-path=\"url(#clip8702)\" style=\"fill:#000000; stroke:none; fill-opacity:1\" cx=\"559.449\" cy=\"1128.18\" r=\"18\"/>\n<circle clip-path=\"url(#clip8702)\" style=\"fill:#ff0000; stroke:none; fill-opacity:1\" cx=\"559.449\" cy=\"1128.18\" r=\"14\"/>\n<circle clip-path=\"url(#clip8702)\" style=\"fill:#000000; stroke:none; fill-opacity:1\" cx=\"516.827\" cy=\"1285.16\" r=\"18\"/>\n<circle clip-path=\"url(#clip8702)\" style=\"fill:#ff0000; stroke:none; fill-opacity:1\" cx=\"516.827\" cy=\"1285.16\" r=\"14\"/>\n<circle clip-path=\"url(#clip8702)\" style=\"fill:#000000; stroke:none; fill-opacity:1\" cx=\"572.808\" cy=\"1291.82\" r=\"18\"/>\n<circle clip-path=\"url(#clip8702)\" style=\"fill:#ff0000; stroke:none; fill-opacity:1\" cx=\"572.808\" cy=\"1291.82\" r=\"14\"/>\n<circle clip-path=\"url(#clip8702)\" style=\"fill:#000000; stroke:none; fill-opacity:1\" cx=\"1034.26\" cy=\"1127.32\" r=\"18\"/>\n<circle clip-path=\"url(#clip8702)\" style=\"fill:#ff0000; stroke:none; fill-opacity:1\" cx=\"1034.26\" cy=\"1127.32\" r=\"14\"/>\n<circle clip-path=\"url(#clip8702)\" style=\"fill:#000000; stroke:none; fill-opacity:1\" cx=\"434.371\" cy=\"1323.63\" r=\"18\"/>\n<circle clip-path=\"url(#clip8702)\" style=\"fill:#ff0000; stroke:none; fill-opacity:1\" cx=\"434.371\" cy=\"1323.63\" r=\"14\"/>\n<circle clip-path=\"url(#clip8702)\" style=\"fill:#000000; stroke:none; fill-opacity:1\" cx=\"1729.44\" cy=\"389.347\" r=\"18\"/>\n<circle clip-path=\"url(#clip8702)\" style=\"fill:#ff0000; stroke:none; fill-opacity:1\" cx=\"1729.44\" cy=\"389.347\" r=\"14\"/>\n<circle clip-path=\"url(#clip8702)\" style=\"fill:#000000; stroke:none; fill-opacity:1\" cx=\"947.975\" cy=\"1150.49\" r=\"18\"/>\n<circle clip-path=\"url(#clip8702)\" style=\"fill:#ff0000; stroke:none; fill-opacity:1\" cx=\"947.975\" cy=\"1150.49\" r=\"14\"/>\n<circle clip-path=\"url(#clip8702)\" style=\"fill:#000000; stroke:none; fill-opacity:1\" cx=\"1272.43\" cy=\"888.049\" r=\"18\"/>\n<circle clip-path=\"url(#clip8702)\" style=\"fill:#ff0000; stroke:none; fill-opacity:1\" cx=\"1272.43\" cy=\"888.049\" r=\"14\"/>\n<circle clip-path=\"url(#clip8702)\" style=\"fill:#000000; stroke:none; fill-opacity:1\" cx=\"1789.6\" cy=\"740.323\" r=\"18\"/>\n<circle clip-path=\"url(#clip8702)\" style=\"fill:#ff0000; stroke:none; fill-opacity:1\" cx=\"1789.6\" cy=\"740.323\" r=\"14\"/>\n<circle clip-path=\"url(#clip8702)\" style=\"fill:#000000; stroke:none; fill-opacity:1\" cx=\"1790.97\" cy=\"336.131\" r=\"18\"/>\n<circle clip-path=\"url(#clip8702)\" style=\"fill:#ff0000; stroke:none; fill-opacity:1\" cx=\"1790.97\" cy=\"336.131\" r=\"14\"/>\n<circle clip-path=\"url(#clip8702)\" style=\"fill:#000000; stroke:none; fill-opacity:1\" cx=\"765.486\" cy=\"1240.47\" r=\"18\"/>\n<circle clip-path=\"url(#clip8702)\" style=\"fill:#ff0000; stroke:none; fill-opacity:1\" cx=\"765.486\" cy=\"1240.47\" r=\"14\"/>\n<circle clip-path=\"url(#clip8702)\" style=\"fill:#000000; stroke:none; fill-opacity:1\" cx=\"698.829\" cy=\"701.336\" r=\"18\"/>\n<circle clip-path=\"url(#clip8702)\" style=\"fill:#ff0000; stroke:none; fill-opacity:1\" cx=\"698.829\" cy=\"701.336\" r=\"14\"/>\n<circle clip-path=\"url(#clip8702)\" style=\"fill:#000000; stroke:none; fill-opacity:1\" cx=\"820.684\" cy=\"813.152\" r=\"18\"/>\n<circle clip-path=\"url(#clip8702)\" style=\"fill:#ff0000; stroke:none; fill-opacity:1\" cx=\"820.684\" cy=\"813.152\" r=\"14\"/>\n<circle clip-path=\"url(#clip8702)\" style=\"fill:#000000; stroke:none; fill-opacity:1\" cx=\"1792.8\" cy=\"443.458\" r=\"18\"/>\n<circle clip-path=\"url(#clip8702)\" style=\"fill:#ff0000; stroke:none; fill-opacity:1\" cx=\"1792.8\" cy=\"443.458\" r=\"14\"/>\n<circle clip-path=\"url(#clip8702)\" style=\"fill:#000000; stroke:none; fill-opacity:1\" cx=\"1562.29\" cy=\"1360.53\" r=\"18\"/>\n<circle clip-path=\"url(#clip8702)\" style=\"fill:#ff0000; stroke:none; fill-opacity:1\" cx=\"1562.29\" cy=\"1360.53\" r=\"14\"/>\n<circle clip-path=\"url(#clip8702)\" style=\"fill:#000000; stroke:none; fill-opacity:1\" cx=\"1415.82\" cy=\"1046.65\" r=\"18\"/>\n<circle clip-path=\"url(#clip8702)\" style=\"fill:#ff0000; stroke:none; fill-opacity:1\" cx=\"1415.82\" cy=\"1046.65\" r=\"14\"/>\n<circle clip-path=\"url(#clip8702)\" style=\"fill:#000000; stroke:none; fill-opacity:1\" cx=\"883.217\" cy=\"1051.32\" r=\"18\"/>\n<circle clip-path=\"url(#clip8702)\" style=\"fill:#ff0000; stroke:none; fill-opacity:1\" cx=\"883.217\" cy=\"1051.32\" r=\"14\"/>\n<circle clip-path=\"url(#clip8702)\" style=\"fill:#000000; stroke:none; fill-opacity:1\" cx=\"1656.12\" cy=\"948.698\" r=\"18\"/>\n<circle clip-path=\"url(#clip8702)\" style=\"fill:#ff0000; stroke:none; fill-opacity:1\" cx=\"1656.12\" cy=\"948.698\" r=\"14\"/>\n<circle clip-path=\"url(#clip8702)\" style=\"fill:#000000; stroke:none; fill-opacity:1\" cx=\"371.028\" cy=\"1272.5\" r=\"18\"/>\n<circle clip-path=\"url(#clip8702)\" style=\"fill:#ff0000; stroke:none; fill-opacity:1\" cx=\"371.028\" cy=\"1272.5\" r=\"14\"/>\n<circle clip-path=\"url(#clip8702)\" style=\"fill:#000000; stroke:none; fill-opacity:1\" cx=\"389.066\" cy=\"1028.7\" r=\"18\"/>\n<circle clip-path=\"url(#clip8702)\" style=\"fill:#ff0000; stroke:none; fill-opacity:1\" cx=\"389.066\" cy=\"1028.7\" r=\"14\"/>\n<circle clip-path=\"url(#clip8702)\" style=\"fill:#000000; stroke:none; fill-opacity:1\" cx=\"544.487\" cy=\"1183.13\" r=\"18\"/>\n<circle clip-path=\"url(#clip8702)\" style=\"fill:#ff0000; stroke:none; fill-opacity:1\" cx=\"544.487\" cy=\"1183.13\" r=\"14\"/>\n<circle clip-path=\"url(#clip8702)\" style=\"fill:#000000; stroke:none; fill-opacity:1\" cx=\"1629.08\" cy=\"553.185\" r=\"18\"/>\n<circle clip-path=\"url(#clip8702)\" style=\"fill:#ff0000; stroke:none; fill-opacity:1\" cx=\"1629.08\" cy=\"553.185\" r=\"14\"/>\n<circle clip-path=\"url(#clip8702)\" style=\"fill:#000000; stroke:none; fill-opacity:1\" cx=\"1332.55\" cy=\"1048.69\" r=\"18\"/>\n<circle clip-path=\"url(#clip8702)\" style=\"fill:#ff0000; stroke:none; fill-opacity:1\" cx=\"1332.55\" cy=\"1048.69\" r=\"14\"/>\n<circle clip-path=\"url(#clip8702)\" style=\"fill:#000000; stroke:none; fill-opacity:1\" cx=\"1758.77\" cy=\"715.319\" r=\"18\"/>\n<circle clip-path=\"url(#clip8702)\" style=\"fill:#ff0000; stroke:none; fill-opacity:1\" cx=\"1758.77\" cy=\"715.319\" r=\"14\"/>\n<circle clip-path=\"url(#clip8702)\" style=\"fill:#000000; stroke:none; fill-opacity:1\" cx=\"1640.7\" cy=\"600.324\" r=\"18\"/>\n<circle clip-path=\"url(#clip8702)\" style=\"fill:#ff0000; stroke:none; fill-opacity:1\" cx=\"1640.7\" cy=\"600.324\" r=\"14\"/>\n<circle clip-path=\"url(#clip8702)\" style=\"fill:#000000; stroke:none; fill-opacity:1\" cx=\"1718.31\" cy=\"717.358\" r=\"18\"/>\n<circle clip-path=\"url(#clip8702)\" style=\"fill:#ff0000; stroke:none; fill-opacity:1\" cx=\"1718.31\" cy=\"717.358\" r=\"14\"/>\n<circle clip-path=\"url(#clip8702)\" style=\"fill:#000000; stroke:none; fill-opacity:1\" cx=\"1787\" cy=\"1310.5\" r=\"18\"/>\n<circle clip-path=\"url(#clip8702)\" style=\"fill:#ff0000; stroke:none; fill-opacity:1\" cx=\"1787\" cy=\"1310.5\" r=\"14\"/>\n<circle clip-path=\"url(#clip8702)\" style=\"fill:#000000; stroke:none; fill-opacity:1\" cx=\"1609.4\" cy=\"1405.09\" r=\"18\"/>\n<circle clip-path=\"url(#clip8702)\" style=\"fill:#ff0000; stroke:none; fill-opacity:1\" cx=\"1609.4\" cy=\"1405.09\" r=\"14\"/>\n<circle clip-path=\"url(#clip8702)\" style=\"fill:#000000; stroke:none; fill-opacity:1\" cx=\"1619.6\" cy=\"1195.02\" r=\"18\"/>\n<circle clip-path=\"url(#clip8702)\" style=\"fill:#ff0000; stroke:none; fill-opacity:1\" cx=\"1619.6\" cy=\"1195.02\" r=\"14\"/>\n<circle clip-path=\"url(#clip8702)\" style=\"fill:#000000; stroke:none; fill-opacity:1\" cx=\"1574.18\" cy=\"838.039\" r=\"18\"/>\n<circle clip-path=\"url(#clip8702)\" style=\"fill:#ff0000; stroke:none; fill-opacity:1\" cx=\"1574.18\" cy=\"838.039\" r=\"14\"/>\n<circle clip-path=\"url(#clip8702)\" style=\"fill:#000000; stroke:none; fill-opacity:1\" cx=\"1031.86\" cy=\"1272.94\" r=\"18\"/>\n<circle clip-path=\"url(#clip8702)\" style=\"fill:#ff0000; stroke:none; fill-opacity:1\" cx=\"1031.86\" cy=\"1272.94\" r=\"14\"/>\n<circle clip-path=\"url(#clip8702)\" style=\"fill:#000000; stroke:none; fill-opacity:1\" cx=\"1075.12\" cy=\"1096.63\" r=\"18\"/>\n<circle clip-path=\"url(#clip8702)\" style=\"fill:#ff0000; stroke:none; fill-opacity:1\" cx=\"1075.12\" cy=\"1096.63\" r=\"14\"/>\n<circle clip-path=\"url(#clip8702)\" style=\"fill:#000000; stroke:none; fill-opacity:1\" cx=\"985.034\" cy=\"1179.39\" r=\"18\"/>\n<circle clip-path=\"url(#clip8702)\" style=\"fill:#ff0000; stroke:none; fill-opacity:1\" cx=\"985.034\" cy=\"1179.39\" r=\"14\"/>\n<circle clip-path=\"url(#clip8702)\" style=\"fill:#000000; stroke:none; fill-opacity:1\" cx=\"367.961\" cy=\"1356.08\" r=\"18\"/>\n<circle clip-path=\"url(#clip8702)\" style=\"fill:#ff0000; stroke:none; fill-opacity:1\" cx=\"367.961\" cy=\"1356.08\" r=\"14\"/>\n<circle clip-path=\"url(#clip8702)\" style=\"fill:#000000; stroke:none; fill-opacity:1\" cx=\"937.218\" cy=\"944.502\" r=\"18\"/>\n<circle clip-path=\"url(#clip8702)\" style=\"fill:#ff0000; stroke:none; fill-opacity:1\" cx=\"937.218\" cy=\"944.502\" r=\"14\"/>\n<circle clip-path=\"url(#clip8702)\" style=\"fill:#000000; stroke:none; fill-opacity:1\" cx=\"802.956\" cy=\"1264.27\" r=\"18\"/>\n<circle clip-path=\"url(#clip8702)\" style=\"fill:#ff0000; stroke:none; fill-opacity:1\" cx=\"802.956\" cy=\"1264.27\" r=\"14\"/>\n<circle clip-path=\"url(#clip8702)\" style=\"fill:#000000; stroke:none; fill-opacity:1\" cx=\"1088.03\" cy=\"1149.05\" r=\"18\"/>\n<circle clip-path=\"url(#clip8702)\" style=\"fill:#ff0000; stroke:none; fill-opacity:1\" cx=\"1088.03\" cy=\"1149.05\" r=\"14\"/>\n<circle clip-path=\"url(#clip8702)\" style=\"fill:#000000; stroke:none; fill-opacity:1\" cx=\"476.838\" cy=\"1052.9\" r=\"18\"/>\n<circle clip-path=\"url(#clip8702)\" style=\"fill:#ff0000; stroke:none; fill-opacity:1\" cx=\"476.838\" cy=\"1052.9\" r=\"14\"/>\n<circle clip-path=\"url(#clip8702)\" style=\"fill:#000000; stroke:none; fill-opacity:1\" cx=\"909.693\" cy=\"1214.89\" r=\"18\"/>\n<circle clip-path=\"url(#clip8702)\" style=\"fill:#ff0000; stroke:none; fill-opacity:1\" cx=\"909.693\" cy=\"1214.89\" r=\"14\"/>\n<circle clip-path=\"url(#clip8702)\" style=\"fill:#000000; stroke:none; fill-opacity:1\" cx=\"1354.43\" cy=\"830.339\" r=\"18\"/>\n<circle clip-path=\"url(#clip8702)\" style=\"fill:#ff0000; stroke:none; fill-opacity:1\" cx=\"1354.43\" cy=\"830.339\" r=\"14\"/>\n<circle clip-path=\"url(#clip8702)\" style=\"fill:#000000; stroke:none; fill-opacity:1\" cx=\"1473.78\" cy=\"794.36\" r=\"18\"/>\n<circle clip-path=\"url(#clip8702)\" style=\"fill:#ff0000; stroke:none; fill-opacity:1\" cx=\"1473.78\" cy=\"794.36\" r=\"14\"/>\n<circle clip-path=\"url(#clip8702)\" style=\"fill:#000000; stroke:none; fill-opacity:1\" cx=\"863.515\" cy=\"756.276\" r=\"18\"/>\n<circle clip-path=\"url(#clip8702)\" style=\"fill:#ff0000; stroke:none; fill-opacity:1\" cx=\"863.515\" cy=\"756.276\" r=\"14\"/>\n<circle clip-path=\"url(#clip8702)\" style=\"fill:#000000; stroke:none; fill-opacity:1\" cx=\"1014.2\" cy=\"1139.69\" r=\"18\"/>\n<circle clip-path=\"url(#clip8702)\" style=\"fill:#ff0000; stroke:none; fill-opacity:1\" cx=\"1014.2\" cy=\"1139.69\" r=\"14\"/>\n<circle clip-path=\"url(#clip8702)\" style=\"fill:#000000; stroke:none; fill-opacity:1\" cx=\"1763.66\" cy=\"603.731\" r=\"18\"/>\n<circle clip-path=\"url(#clip8702)\" style=\"fill:#ff0000; stroke:none; fill-opacity:1\" cx=\"1763.66\" cy=\"603.731\" r=\"14\"/>\n<circle clip-path=\"url(#clip8702)\" style=\"fill:#000000; stroke:none; fill-opacity:1\" cx=\"839.254\" cy=\"1015.24\" r=\"18\"/>\n<circle clip-path=\"url(#clip8702)\" style=\"fill:#ff0000; stroke:none; fill-opacity:1\" cx=\"839.254\" cy=\"1015.24\" r=\"14\"/>\n<circle clip-path=\"url(#clip8702)\" style=\"fill:#000000; stroke:none; fill-opacity:1\" cx=\"1139.2\" cy=\"1314.37\" r=\"18\"/>\n<circle clip-path=\"url(#clip8702)\" style=\"fill:#ff0000; stroke:none; fill-opacity:1\" cx=\"1139.2\" cy=\"1314.37\" r=\"14\"/>\n<circle clip-path=\"url(#clip8702)\" style=\"fill:#000000; stroke:none; fill-opacity:1\" cx=\"482.504\" cy=\"1400.57\" r=\"18\"/>\n<circle clip-path=\"url(#clip8702)\" style=\"fill:#ff0000; stroke:none; fill-opacity:1\" cx=\"482.504\" cy=\"1400.57\" r=\"14\"/>\n<circle clip-path=\"url(#clip8702)\" style=\"fill:#000000; stroke:none; fill-opacity:1\" cx=\"999.826\" cy=\"1113.12\" r=\"18\"/>\n<circle clip-path=\"url(#clip8702)\" style=\"fill:#ff0000; stroke:none; fill-opacity:1\" cx=\"999.826\" cy=\"1113.12\" r=\"14\"/>\n<circle clip-path=\"url(#clip8702)\" style=\"fill:#000000; stroke:none; fill-opacity:1\" cx=\"380.566\" cy=\"1404.55\" r=\"18\"/>\n<circle clip-path=\"url(#clip8702)\" style=\"fill:#ff0000; stroke:none; fill-opacity:1\" cx=\"380.566\" cy=\"1404.55\" r=\"14\"/>\n<circle clip-path=\"url(#clip8702)\" style=\"fill:#000000; stroke:none; fill-opacity:1\" cx=\"1722.15\" cy=\"1194.36\" r=\"18\"/>\n<circle clip-path=\"url(#clip8702)\" style=\"fill:#ff0000; stroke:none; fill-opacity:1\" cx=\"1722.15\" cy=\"1194.36\" r=\"14\"/>\n<circle clip-path=\"url(#clip8702)\" style=\"fill:#000000; stroke:none; fill-opacity:1\" cx=\"1619.63\" cy=\"682.016\" r=\"18\"/>\n<circle clip-path=\"url(#clip8702)\" style=\"fill:#ff0000; stroke:none; fill-opacity:1\" cx=\"1619.63\" cy=\"682.016\" r=\"14\"/>\n<circle clip-path=\"url(#clip8702)\" style=\"fill:#000000; stroke:none; fill-opacity:1\" cx=\"709.982\" cy=\"1243.2\" r=\"18\"/>\n<circle clip-path=\"url(#clip8702)\" style=\"fill:#ff0000; stroke:none; fill-opacity:1\" cx=\"709.982\" cy=\"1243.2\" r=\"14\"/>\n<circle clip-path=\"url(#clip8702)\" style=\"fill:#000000; stroke:none; fill-opacity:1\" cx=\"634.249\" cy=\"1002.05\" r=\"18\"/>\n<circle clip-path=\"url(#clip8702)\" style=\"fill:#ff0000; stroke:none; fill-opacity:1\" cx=\"634.249\" cy=\"1002.05\" r=\"14\"/>\n<circle clip-path=\"url(#clip8702)\" style=\"fill:#000000; stroke:none; fill-opacity:1\" cx=\"1192.72\" cy=\"1278.12\" r=\"18\"/>\n<circle clip-path=\"url(#clip8702)\" style=\"fill:#ff0000; stroke:none; fill-opacity:1\" cx=\"1192.72\" cy=\"1278.12\" r=\"14\"/>\n<circle clip-path=\"url(#clip8702)\" style=\"fill:#000000; stroke:none; fill-opacity:1\" cx=\"1740.5\" cy=\"1297.25\" r=\"18\"/>\n<circle clip-path=\"url(#clip8702)\" style=\"fill:#ff0000; stroke:none; fill-opacity:1\" cx=\"1740.5\" cy=\"1297.25\" r=\"14\"/>\n<circle clip-path=\"url(#clip8702)\" style=\"fill:#000000; stroke:none; fill-opacity:1\" cx=\"786.438\" cy=\"1333.17\" r=\"18\"/>\n<circle clip-path=\"url(#clip8702)\" style=\"fill:#ff0000; stroke:none; fill-opacity:1\" cx=\"786.438\" cy=\"1333.17\" r=\"14\"/>\n<circle clip-path=\"url(#clip8702)\" style=\"fill:#000000; stroke:none; fill-opacity:1\" cx=\"1708.99\" cy=\"589.97\" r=\"18\"/>\n<circle clip-path=\"url(#clip8702)\" style=\"fill:#ff0000; stroke:none; fill-opacity:1\" cx=\"1708.99\" cy=\"589.97\" r=\"14\"/>\n<circle clip-path=\"url(#clip8702)\" style=\"fill:#000000; stroke:none; fill-opacity:1\" cx=\"1517.1\" cy=\"937.709\" r=\"18\"/>\n<circle clip-path=\"url(#clip8702)\" style=\"fill:#ff0000; stroke:none; fill-opacity:1\" cx=\"1517.1\" cy=\"937.709\" r=\"14\"/>\n<circle clip-path=\"url(#clip8702)\" style=\"fill:#000000; stroke:none; fill-opacity:1\" cx=\"1553.35\" cy=\"1116.29\" r=\"18\"/>\n<circle clip-path=\"url(#clip8702)\" style=\"fill:#ff0000; stroke:none; fill-opacity:1\" cx=\"1553.35\" cy=\"1116.29\" r=\"14\"/>\n<circle clip-path=\"url(#clip8702)\" style=\"fill:#000000; stroke:none; fill-opacity:1\" cx=\"1722.18\" cy=\"497.302\" r=\"18\"/>\n<circle clip-path=\"url(#clip8702)\" style=\"fill:#ff0000; stroke:none; fill-opacity:1\" cx=\"1722.18\" cy=\"497.302\" r=\"14\"/>\n<circle clip-path=\"url(#clip8702)\" style=\"fill:#000000; stroke:none; fill-opacity:1\" cx=\"1789\" cy=\"185.984\" r=\"18\"/>\n<circle clip-path=\"url(#clip8702)\" style=\"fill:#ff0000; stroke:none; fill-opacity:1\" cx=\"1789\" cy=\"185.984\" r=\"14\"/>\n<circle clip-path=\"url(#clip8702)\" style=\"fill:#000000; stroke:none; fill-opacity:1\" cx=\"916.958\" cy=\"1072.38\" r=\"18\"/>\n<circle clip-path=\"url(#clip8702)\" style=\"fill:#ff0000; stroke:none; fill-opacity:1\" cx=\"916.958\" cy=\"1072.38\" r=\"14\"/>\n<circle clip-path=\"url(#clip8702)\" style=\"fill:#000000; stroke:none; fill-opacity:1\" cx=\"1432.88\" cy=\"827.601\" r=\"18\"/>\n<circle clip-path=\"url(#clip8702)\" style=\"fill:#ff0000; stroke:none; fill-opacity:1\" cx=\"1432.88\" cy=\"827.601\" r=\"14\"/>\n<circle clip-path=\"url(#clip8702)\" style=\"fill:#000000; stroke:none; fill-opacity:1\" cx=\"464.315\" cy=\"1243.24\" r=\"18\"/>\n<circle clip-path=\"url(#clip8702)\" style=\"fill:#ff0000; stroke:none; fill-opacity:1\" cx=\"464.315\" cy=\"1243.24\" r=\"14\"/>\n<circle clip-path=\"url(#clip8702)\" style=\"fill:#000000; stroke:none; fill-opacity:1\" cx=\"400.009\" cy=\"1338.58\" r=\"18\"/>\n<circle clip-path=\"url(#clip8702)\" style=\"fill:#ff0000; stroke:none; fill-opacity:1\" cx=\"400.009\" cy=\"1338.58\" r=\"14\"/>\n<circle clip-path=\"url(#clip8702)\" style=\"fill:#000000; stroke:none; fill-opacity:1\" cx=\"1690.61\" cy=\"422.713\" r=\"18\"/>\n<circle clip-path=\"url(#clip8702)\" style=\"fill:#ff0000; stroke:none; fill-opacity:1\" cx=\"1690.61\" cy=\"422.713\" r=\"14\"/>\n<circle clip-path=\"url(#clip8702)\" style=\"fill:#000000; stroke:none; fill-opacity:1\" cx=\"1793.68\" cy=\"189.458\" r=\"18\"/>\n<circle clip-path=\"url(#clip8702)\" style=\"fill:#ff0000; stroke:none; fill-opacity:1\" cx=\"1793.68\" cy=\"189.458\" r=\"14\"/>\n<circle clip-path=\"url(#clip8702)\" style=\"fill:#000000; stroke:none; fill-opacity:1\" cx=\"1277.49\" cy=\"935.964\" r=\"18\"/>\n<circle clip-path=\"url(#clip8702)\" style=\"fill:#ff0000; stroke:none; fill-opacity:1\" cx=\"1277.49\" cy=\"935.964\" r=\"14\"/>\n<circle clip-path=\"url(#clip8702)\" style=\"fill:#000000; stroke:none; fill-opacity:1\" cx=\"524.789\" cy=\"855.72\" r=\"18\"/>\n<circle clip-path=\"url(#clip8702)\" style=\"fill:#ff0000; stroke:none; fill-opacity:1\" cx=\"524.789\" cy=\"855.72\" r=\"14\"/>\n<circle clip-path=\"url(#clip8702)\" style=\"fill:#000000; stroke:none; fill-opacity:1\" cx=\"1324.62\" cy=\"1407.59\" r=\"18\"/>\n<circle clip-path=\"url(#clip8702)\" style=\"fill:#ff0000; stroke:none; fill-opacity:1\" cx=\"1324.62\" cy=\"1407.59\" r=\"14\"/>\n<circle clip-path=\"url(#clip8702)\" style=\"fill:#000000; stroke:none; fill-opacity:1\" cx=\"846.222\" cy=\"1011.18\" r=\"18\"/>\n<circle clip-path=\"url(#clip8702)\" style=\"fill:#ff0000; stroke:none; fill-opacity:1\" cx=\"846.222\" cy=\"1011.18\" r=\"14\"/>\n<circle clip-path=\"url(#clip8702)\" style=\"fill:#000000; stroke:none; fill-opacity:1\" cx=\"1557.77\" cy=\"1361.73\" r=\"18\"/>\n<circle clip-path=\"url(#clip8702)\" style=\"fill:#ff0000; stroke:none; fill-opacity:1\" cx=\"1557.77\" cy=\"1361.73\" r=\"14\"/>\n<circle clip-path=\"url(#clip8702)\" style=\"fill:#000000; stroke:none; fill-opacity:1\" cx=\"485.766\" cy=\"1211.11\" r=\"18\"/>\n<circle clip-path=\"url(#clip8702)\" style=\"fill:#ff0000; stroke:none; fill-opacity:1\" cx=\"485.766\" cy=\"1211.11\" r=\"14\"/>\n<circle clip-path=\"url(#clip8702)\" style=\"fill:#000000; stroke:none; fill-opacity:1\" cx=\"1696.38\" cy=\"500.464\" r=\"18\"/>\n<circle clip-path=\"url(#clip8702)\" style=\"fill:#ff0000; stroke:none; fill-opacity:1\" cx=\"1696.38\" cy=\"500.464\" r=\"14\"/>\n<circle clip-path=\"url(#clip8702)\" style=\"fill:#000000; stroke:none; fill-opacity:1\" cx=\"1179.77\" cy=\"1410.35\" r=\"18\"/>\n<circle clip-path=\"url(#clip8702)\" style=\"fill:#ff0000; stroke:none; fill-opacity:1\" cx=\"1179.77\" cy=\"1410.35\" r=\"14\"/>\n<circle clip-path=\"url(#clip8702)\" style=\"fill:#000000; stroke:none; fill-opacity:1\" cx=\"1796.77\" cy=\"500.524\" r=\"18\"/>\n<circle clip-path=\"url(#clip8702)\" style=\"fill:#ff0000; stroke:none; fill-opacity:1\" cx=\"1796.77\" cy=\"500.524\" r=\"14\"/>\n<circle clip-path=\"url(#clip8702)\" style=\"fill:#000000; stroke:none; fill-opacity:1\" cx=\"440.19\" cy=\"929.975\" r=\"18\"/>\n<circle clip-path=\"url(#clip8702)\" style=\"fill:#ff0000; stroke:none; fill-opacity:1\" cx=\"440.19\" cy=\"929.975\" r=\"14\"/>\n<circle clip-path=\"url(#clip8702)\" style=\"fill:#000000; stroke:none; fill-opacity:1\" cx=\"1241.92\" cy=\"1025.36\" r=\"18\"/>\n<circle clip-path=\"url(#clip8702)\" style=\"fill:#ff0000; stroke:none; fill-opacity:1\" cx=\"1241.92\" cy=\"1025.36\" r=\"14\"/>\n<circle clip-path=\"url(#clip8702)\" style=\"fill:#000000; stroke:none; fill-opacity:1\" cx=\"1570.45\" cy=\"853.542\" r=\"18\"/>\n<circle clip-path=\"url(#clip8702)\" style=\"fill:#ff0000; stroke:none; fill-opacity:1\" cx=\"1570.45\" cy=\"853.542\" r=\"14\"/>\n<circle clip-path=\"url(#clip8702)\" style=\"fill:#000000; stroke:none; fill-opacity:1\" cx=\"1710.08\" cy=\"379.53\" r=\"18\"/>\n<circle clip-path=\"url(#clip8702)\" style=\"fill:#ff0000; stroke:none; fill-opacity:1\" cx=\"1710.08\" cy=\"379.53\" r=\"14\"/>\n<circle clip-path=\"url(#clip8702)\" style=\"fill:#000000; stroke:none; fill-opacity:1\" cx=\"1747.6\" cy=\"1099.15\" r=\"18\"/>\n<circle clip-path=\"url(#clip8702)\" style=\"fill:#ff0000; stroke:none; fill-opacity:1\" cx=\"1747.6\" cy=\"1099.15\" r=\"14\"/>\n<circle clip-path=\"url(#clip8702)\" style=\"fill:#000000; stroke:none; fill-opacity:1\" cx=\"1763.4\" cy=\"1153.4\" r=\"18\"/>\n<circle clip-path=\"url(#clip8702)\" style=\"fill:#ff0000; stroke:none; fill-opacity:1\" cx=\"1763.4\" cy=\"1153.4\" r=\"14\"/>\n<circle clip-path=\"url(#clip8702)\" style=\"fill:#000000; stroke:none; fill-opacity:1\" cx=\"918.455\" cy=\"734.261\" r=\"18\"/>\n<circle clip-path=\"url(#clip8702)\" style=\"fill:#ff0000; stroke:none; fill-opacity:1\" cx=\"918.455\" cy=\"734.261\" r=\"14\"/>\n<circle clip-path=\"url(#clip8702)\" style=\"fill:#000000; stroke:none; fill-opacity:1\" cx=\"1432.09\" cy=\"1434.28\" r=\"18\"/>\n<circle clip-path=\"url(#clip8702)\" style=\"fill:#ff0000; stroke:none; fill-opacity:1\" cx=\"1432.09\" cy=\"1434.28\" r=\"14\"/>\n<circle clip-path=\"url(#clip8702)\" style=\"fill:#000000; stroke:none; fill-opacity:1\" cx=\"856.792\" cy=\"848.277\" r=\"18\"/>\n<circle clip-path=\"url(#clip8702)\" style=\"fill:#ff0000; stroke:none; fill-opacity:1\" cx=\"856.792\" cy=\"848.277\" r=\"14\"/>\n<circle clip-path=\"url(#clip8702)\" style=\"fill:#000000; stroke:none; fill-opacity:1\" cx=\"686.782\" cy=\"774.533\" r=\"18\"/>\n<circle clip-path=\"url(#clip8702)\" style=\"fill:#ff0000; stroke:none; fill-opacity:1\" cx=\"686.782\" cy=\"774.533\" r=\"14\"/>\n<polyline clip-path=\"url(#clip8702)\" style=\"stroke:#3da44d; stroke-width:4; stroke-opacity:1; fill:none\" points=\"\n  216.081,1446.71 242.445,1359.49 268.808,1278.84 295.172,1204.52 321.535,1136.32 347.899,1074.01 374.262,1017.36 400.625,966.146 426.989,920.139 453.352,879.113 \n  479.716,842.843 506.079,811.102 532.443,783.664 558.806,760.302 585.17,740.789 611.533,724.9 637.897,712.407 664.26,703.085 690.624,696.707 716.987,693.046 \n  743.351,691.876 769.714,692.97 796.078,696.103 822.441,701.047 848.804,707.576 875.168,715.464 901.531,724.485 927.895,734.411 954.258,745.016 980.622,756.075 \n  1006.99,767.359 1033.35,778.644 1059.71,789.703 1086.08,800.308 1112.44,810.234 1138.8,819.255 1165.17,827.143 1191.53,833.672 1217.89,838.616 1244.26,841.749 \n  1270.62,842.843 1296.98,841.673 1323.35,838.012 1349.71,831.634 1376.07,822.312 1402.44,809.819 1428.8,793.93 1455.16,774.417 1481.53,751.055 1507.89,723.617 \n  1534.25,691.876 1560.62,655.606 1586.98,614.58 1613.35,568.573 1639.71,517.357 1666.07,460.707 1692.44,398.395 1718.8,330.195 1745.16,255.881 1771.53,175.227 \n  1797.89,88.0053 \n  \"/>\n<path clip-path=\"url(#clip8700)\" d=\"\nM1917.34 251.724 L2400.76 251.724 L2400.76 130.764 L1917.34 130.764  Z\n  \" fill=\"#ffffff\" fill-rule=\"evenodd\" fill-opacity=\"1\"/>\n<polyline clip-path=\"url(#clip8700)\" style=\"stroke:#000000; stroke-width:4; stroke-opacity:1; fill:none\" points=\"\n  1917.34,251.724 2400.76,251.724 2400.76,130.764 1917.34,130.764 1917.34,251.724 \n  \"/>\n<polyline clip-path=\"url(#clip8700)\" style=\"stroke:#3da44d; stroke-width:4; stroke-opacity:1; fill:none\" points=\"\n  1941.34,191.244 2085.34,191.244 \n  \"/>\n<g clip-path=\"url(#clip8700)\">\n<text style=\"fill:#000000; fill-opacity:1; font-family:Arial,Helvetica Neue,Helvetica,sans-serif; font-size:48px; text-anchor:start;\" transform=\"rotate(0, 2109.34, 208.744)\" x=\"2109.34\" y=\"208.744\">True Model</text>\n</g>\n</svg>\n"
     },
     "execution_count": 4,
     "metadata": {
     },
     "output_type": "execute_result"
    }
   ],
   "source": [
    "x1grid = -3:0.1:3\n",
    "x2grid = -16:0.1:20\n",
    "\n",
    "# Generate the inputs and corresponding outputs\n",
    "input, output = generate_dataset(model, x1grid, x2grid, 300)\n",
    "\n",
    "# Plot the data set\n",
    "ishigher = vec(output .== 1)\n",
    "function plot_data()\n",
    "    scatter(input[1, ishigher], input[2, ishigher], label=\"\", color=:blue)\n",
    "    scatter!(input[1, .!ishigher], input[2, .!ishigher], label=\"\", color=:red)\n",
    "    plot!(x1grid, model.(x1grid), label=\"True Model\", legend=:outertopright)\n",
    "end\n",
    "plot_data()"
   ]
  },
  {
   "cell_type": "markdown",
   "metadata": {
    "collapsed": false
   },
   "source": [
    "Let's build our neural network!"
   ]
  },
  {
   "cell_type": "code",
   "execution_count": 5,
   "metadata": {
    "collapsed": false
   },
   "outputs": [
    {
     "data": {
      "text/plain": [
       "plot_model (generic function with 1 method)"
      ]
     },
     "execution_count": 5,
     "metadata": {
     },
     "output_type": "execute_result"
    }
   ],
   "source": [
    "### Sigmoid activation function\n",
    "sigmoid(x) = 1 / (1 + exp(-x))\n",
    "derive(::typeof(sigmoid)) = x -> sigmoid(x) * (1 - sigmoid(x))\n",
    "\n",
    "### Relu activation function\n",
    "relu(x) = max(0, x)\n",
    "derive(::typeof(relu)) = x -> (x ≥ 0 ? 1 : 0)\n",
    "\n",
    "### Set up model\n",
    "neural_model = Model(\n",
    "    Layer(2, 10, relu),\n",
    "    Layer(10, 1, sigmoid))\n",
    "\n",
    "### Cost objective\n",
    "# Binary cross entropy loss\n",
    "bcentropy(ŷ, y) = -y * log(ŷ + 1e-7) - (1 - y) * log(1 - ŷ + 1e-7)\n",
    "derive(::typeof(bcentropy)) = (ŷ, y) -> -y / (ŷ + 2e-7) + (1 - y) / (1 - ŷ + 1e-7)\n",
    "# Cost function\n",
    "Cost(Ŷ, Y) = sum(bcentropy.(Ŷ, Y)) / size(Y, 2)\n",
    "derive(::typeof(Cost)) = (Ŷ, Y) -> derive(bcentropy).(Ŷ, Y) / size(Y, 2)\n",
    "\n",
    "### Minibatching\n",
    "function minibatch(input, output, batch_size)\n",
    "    @assert size(input, 2) == size(output, 2) \"Numbers of input and output doesn't match.\"\n",
    "    inputs = Array[]\n",
    "    outputs = Array[]\n",
    "\n",
    "    rand_idxs = Random.randperm(size(input, 2))\n",
    "    batch_idxs = Iterators.partition(rand_idxs, batch_size)\n",
    "    for batch_idx in batch_idxs\n",
    "        push!(inputs, input[:, batch_idx])\n",
    "        push!(outputs, output[:, batch_idx])\n",
    "    end\n",
    "\n",
    "    zip(inputs, outputs) |> collect\n",
    "end\n",
    "\n",
    "### Model visualization\n",
    "function plot_model(neural_model, x1grid, x2grid)\n",
    "    plot_data()\n",
    "    bound = fill(maximum(x2grid), size(x1grid))\n",
    "\n",
    "    # Classify each point\n",
    "    for (i, x1) in enumerate(x1grid)\n",
    "        for x2 in x2grid\n",
    "            out = neural_model([x1, x2])[end]\n",
    "            if out ≥ 0.5\n",
    "                bound[i] = x2\n",
    "                break\n",
    "            end\n",
    "         end\n",
    "    end\n",
    "\n",
    "    plot!(x1grid, bound, label=\"Neural Network Model\")\n",
    "end"
   ]
  },
  {
   "cell_type": "markdown",
   "metadata": {
    "collapsed": false
   },
   "source": [
    "Finally, train our model on the generated data set"
   ]
  },
  {
   "cell_type": "code",
   "execution_count": 6,
   "metadata": {
    "collapsed": false,
    "scrolled": true
   },
   "outputs": [
    {
     "name": "stdout",
     "output_type": "stream",
     "text": [
      "Epoch 1 cost: 0.4679027718801993\n",
      "Epoch 2 cost: 0.3829917340132341\n",
      "Epoch 3 cost: 0.3461130251191534\n",
      "Epoch 4 cost: 0.3343860943410487\n",
      "Epoch 5 cost: 0.3286560688612599\n",
      "Epoch 6 cost: 0.3225921848402657\n",
      "Epoch 7 cost: 0.319027921517198\n",
      "Epoch 8 cost: 0.31486414711540134\n",
      "Epoch 9 cost: 0.31306393881344496\n",
      "Epoch 10 cost: 0.30897008444770113\n"
     ]
    },
    {
     "name": "stdout",
     "output_type": "stream",
     "text": [
      "Epoch 11 cost: 0.3072300135508509\n",
      "Epoch 12 cost: 0.3055428957567413\n",
      "Epoch 13 cost: 0.3040547905672446\n",
      "Epoch 14 cost: 0.30266531395785606\n",
      "Epoch 15 cost: 0.2998820102829654\n",
      "Epoch 16 cost: 0.29954622830468236\n",
      "Epoch 17 cost: 0.2986984215205011\n",
      "Epoch 18 cost: 0.29473365160927745\n",
      "Epoch 19 cost: 0.29049188213554505\n",
      "Epoch 20 cost: 0.29109311606248106\n"
     ]
    },
    {
     "name": "stdout",
     "output_type": "stream",
     "text": [
      "Epoch 21 cost: 0.2905885153839007\n",
      "Epoch 22 cost: 0.28868653172491243\n",
      "Epoch 23 cost: 0.290071771632941\n",
      "Epoch 24 cost: 0.2851697338915312\n",
      "Epoch 25 cost: 0.2846537940431935\n",
      "Epoch 26 cost: 0.28089825677265556\n",
      "Epoch 27 cost: 0.2800871313368674\n",
      "Epoch 28 cost: 0.27900427617180096\n",
      "Epoch 29 cost: 0.2803134658807675\n",
      "Epoch 30 cost: 0.278357293394078\n"
     ]
    },
    {
     "name": "stdout",
     "output_type": "stream",
     "text": [
      "Epoch 31 cost: 0.27586128937207494\n",
      "Epoch 32 cost: 0.27584873383459246\n",
      "Epoch 33 cost: 0.27481460613523434\n",
      "Epoch 34 cost: 0.2754761480870788\n",
      "Epoch 35 cost: 0.27464035348838667\n",
      "Epoch 36 cost: 0.2718621641137973\n",
      "Epoch 37 cost: 0.27285989845301295\n",
      "Epoch 38 cost: 0.2771119664188013\n",
      "Epoch 39 cost: 0.27187794165912466\n",
      "Epoch 40 cost: 0.27102138774191803\n"
     ]
    },
    {
     "name": "stdout",
     "output_type": "stream",
     "text": [
      "Epoch 41 cost: 0.27201017112659276\n",
      "Epoch 42 cost: 0.26830007687311874\n",
      "Epoch 43 cost: 0.2696458860583955\n",
      "Epoch 44 cost: 0.2702586761767705\n",
      "Epoch 45 cost: 0.26783234439993564\n",
      "Epoch 46 cost: 0.2687610704361345\n",
      "Epoch 47 cost: 0.26770106387595416\n",
      "Epoch 48 cost: 0.2702076104261544\n",
      "Epoch 49 cost: 0.2759272552407715\n",
      "Epoch 50 cost: 0.2744337594011969\n"
     ]
    },
    {
     "name": "stdout",
     "output_type": "stream",
     "text": [
      "Epoch 51 cost: 0.2655664315607569\n",
      "Epoch 52 cost: 0.26452773680368336\n",
      "Epoch 53 cost: 0.2634051203221009\n",
      "Epoch 54 cost: 0.26325124333775884\n",
      "Epoch 55 cost: 0.2652405025006129\n",
      "Epoch 56 cost: 0.27405160913642324\n",
      "Epoch 57 cost: 0.26128045904641917\n",
      "Epoch 58 cost: 0.263039973277614\n",
      "Epoch 59 cost: 0.2617748386730017\n",
      "Epoch 60 cost: 0.25999800195704975\n"
     ]
    },
    {
     "name": "stdout",
     "output_type": "stream",
     "text": [
      "Epoch 61 cost: 0.258867725001568\n",
      "Epoch 62 cost: 0.2595275187044679\n",
      "Epoch 63 cost: 0.2594796446495346\n",
      "Epoch 64 cost: 0.263319507198727\n",
      "Epoch 65 cost: 0.2612764027115163\n",
      "Epoch 66 cost: 0.25644976550049553\n",
      "Epoch 67 cost: 0.25570561631327077\n",
      "Epoch 68 cost: 0.2581631153318934\n",
      "Epoch 69 cost: 0.26376868299013106\n",
      "Epoch 70 cost: 0.26143767138901053\n"
     ]
    },
    {
     "name": "stdout",
     "output_type": "stream",
     "text": [
      "Epoch 71 cost: 0.2585395639781875\n",
      "Epoch 72 cost: 0.2578326127021605\n",
      "Epoch 73 cost: 0.25588410992041244\n",
      "Epoch 74 cost: 0.2563440737610043\n",
      "Epoch 75 cost: 0.258584044949524\n",
      "Epoch 76 cost: 0.26090339338901136\n",
      "Epoch 77 cost: 0.25294822259251654\n",
      "Epoch 78 cost: 0.25418015894222706\n",
      "Epoch 79 cost: 0.25356336819808134\n",
      "Epoch 80 cost: 0.25901721866789473\n"
     ]
    },
    {
     "name": "stdout",
     "output_type": "stream",
     "text": [
      "Epoch 81 cost: 0.2617400981389347\n",
      "Epoch 82 cost: 0.257939324038013\n",
      "Epoch 83 cost: 0.2550709892643654\n",
      "Epoch 84 cost: 0.2543223275201447\n",
      "Epoch 85 cost: 0.2526621876203652\n",
      "Epoch 86 cost: 0.2746591134192965\n",
      "Epoch 87 cost: 0.2617910218219588\n",
      "Epoch 88 cost: 0.2565167772826482\n",
      "Epoch 89 cost: 0.25473150536389927\n",
      "Epoch 90 cost: 0.25176397825903823\n"
     ]
    },
    {
     "name": "stdout",
     "output_type": "stream",
     "text": [
      "Epoch 91 cost: 0.25101506164647674\n",
      "Epoch 92 cost: 0.2503710214221758\n",
      "Epoch 93 cost: 0.25154237867651047\n",
      "Epoch 94 cost: 0.2572794322155968\n",
      "Epoch 95 cost: 0.24934769734591072\n",
      "Epoch 96 cost: 0.24779497929288186\n",
      "Epoch 97 cost: 0.2482574366137823\n",
      "Epoch 98 cost: 0.24897169036582667\n",
      "Epoch 99 cost: 0.2509951550282035\n",
      "Epoch 100 cost: 0.25920970101683916\n"
     ]
    },
    {
     "name": "stdout",
     "output_type": "stream",
     "text": [
      "Epoch 101 cost: 0.25228076408863165\n",
      "Epoch 102 cost: 0.2513498022373953\n",
      "Epoch 103 cost: 0.24651101547034643\n",
      "Epoch 104 cost: 0.24990826898921853\n",
      "Epoch 105 cost: 0.2508803232539031\n",
      "Epoch 106 cost: 0.2518918339614414\n",
      "Epoch 107 cost: 0.24818265395561676\n",
      "Epoch 108 cost: 0.24835945237698853\n",
      "Epoch 109 cost: 0.25008221143476866\n",
      "Epoch 110 cost: 0.24892853918896976\n"
     ]
    },
    {
     "name": "stdout",
     "output_type": "stream",
     "text": [
      "Epoch 111 cost: 0.25167795988232694\n",
      "Epoch 112 cost: 0.25028947077874525\n",
      "Epoch 113 cost: 0.2523062030029159\n",
      "Epoch 114 cost: 0.25476196736503914\n",
      "Epoch 115 cost: 0.2557089616619137\n",
      "Epoch 116 cost: 0.25563525008005594\n",
      "Epoch 117 cost: 0.24679294312474137\n",
      "Epoch 118 cost: 0.25097300076899726\n",
      "Epoch 119 cost: 0.25674179816666637\n",
      "Epoch 120 cost: 0.24897793645956814\n"
     ]
    },
    {
     "name": "stdout",
     "output_type": "stream",
     "text": [
      "Epoch 121 cost: 0.2530913129293297\n",
      "Epoch 122 cost: 0.24856804515268885\n",
      "Epoch 123 cost: 0.24845883620097692\n",
      "Epoch 124 cost: 0.24894671260598458\n",
      "Epoch 125 cost: 0.2449923691652905\n",
      "Epoch 126 cost: 0.24499386398901832\n",
      "Epoch 127 cost: 0.2482916683745689\n",
      "Epoch 128 cost: 0.252003047636508\n",
      "Epoch 129 cost: 0.2502101857178105\n",
      "Epoch 130 cost: 0.25023422206027257\n"
     ]
    },
    {
     "name": "stdout",
     "output_type": "stream",
     "text": [
      "Epoch 131 cost: 0.2480684254413779\n",
      "Epoch 132 cost: 0.24979804331958416\n",
      "Epoch 133 cost: 0.24879142795999798\n",
      "Epoch 134 cost: 0.24375050618995633\n",
      "Epoch 135 cost: 0.24625013582602115\n",
      "Epoch 136 cost: 0.24550188941304923\n",
      "Epoch 137 cost: 0.24426308198672922\n",
      "Epoch 138 cost: 0.24728980298912423\n",
      "Epoch 139 cost: 0.24709574205273344\n",
      "Epoch 140 cost: 0.2440186343479292\n"
     ]
    },
    {
     "name": "stdout",
     "output_type": "stream",
     "text": [
      "Epoch 141 cost: 0.24400392891940959\n",
      "Epoch 142 cost: 0.2452719403801786\n",
      "Epoch 143 cost: 0.24773583249039102\n",
      "Epoch 144 cost: 0.24571513230961498\n",
      "Epoch 145 cost: 0.2402693596156806\n",
      "Epoch 146 cost: 0.24717587370861543\n",
      "Epoch 147 cost: 0.24812312671520922\n",
      "Epoch 148 cost: 0.2451632577793053\n",
      "Epoch 149 cost: 0.24502505587971385\n",
      "Epoch 150 cost: 0.24675946992477796\n"
     ]
    },
    {
     "name": "stdout",
     "output_type": "stream",
     "text": [
      "Epoch 151 cost: 0.24349840016408297\n",
      "Epoch 152 cost: 0.24322252802859332\n",
      "Epoch 153 cost: 0.24523894006134891\n",
      "Epoch 154 cost: 0.2443364246133098\n",
      "Epoch 155 cost: 0.24538954330365303\n",
      "Epoch 156 cost: 0.24899987066652776\n",
      "Epoch 157 cost: 0.24219493982699683\n",
      "Epoch 158 cost: 0.24514478506990497\n",
      "Epoch 159 cost: 0.24718047531710263\n",
      "Epoch 160 cost: 0.2486185905326589\n"
     ]
    },
    {
     "name": "stdout",
     "output_type": "stream",
     "text": [
      "Epoch 161 cost: 0.2457348710094081\n",
      "Epoch 162 cost: 0.2463441875272453\n",
      "Epoch 163 cost: 0.2486959002283342\n",
      "Epoch 164 cost: 0.2519778304975041\n",
      "Epoch 165 cost: 0.2457019308757088\n",
      "Epoch 166 cost: 0.24454864339420695\n",
      "Epoch 167 cost: 0.24203119625587372\n",
      "Epoch 168 cost: 0.24022373743487624\n",
      "Epoch 169 cost: 0.24631705857026603\n",
      "Epoch 170 cost: 0.24451667830314516\n"
     ]
    },
    {
     "name": "stdout",
     "output_type": "stream",
     "text": [
      "Epoch 171 cost: 0.24205318484806002\n",
      "Epoch 172 cost: 0.24094125677448203\n",
      "Epoch 173 cost: 0.2414425990206756\n",
      "Epoch 174 cost: 0.2429086562601085\n",
      "Epoch 175 cost: 0.2419115917265988\n",
      "Epoch 176 cost: 0.24009824723998724\n",
      "Epoch 177 cost: 0.2401470123396127\n",
      "Epoch 178 cost: 0.2417908911777062\n",
      "Epoch 179 cost: 0.23821351923347278\n",
      "Epoch 180 cost: 0.24123916917417518\n"
     ]
    },
    {
     "name": "stdout",
     "output_type": "stream",
     "text": [
      "Epoch 181 cost: 0.23807487436978622\n",
      "Epoch 182 cost: 0.23794579233467764\n",
      "Epoch 183 cost: 0.23875786755220735\n",
      "Epoch 184 cost: 0.23950472163788197\n",
      "Epoch 185 cost: 0.23962765006195264\n",
      "Epoch 186 cost: 0.23936101833384674\n",
      "Epoch 187 cost: 0.23915322446023182\n",
      "Epoch 188 cost: 0.23840420667185766\n",
      "Epoch 189 cost: 0.2390076088345359\n",
      "Epoch 190 cost: 0.23886785406809866\n"
     ]
    },
    {
     "name": "stdout",
     "output_type": "stream",
     "text": [
      "Epoch 191 cost: 0.24058854507236038\n",
      "Epoch 192 cost: 0.2401998406540981\n",
      "Epoch 193 cost: 0.2416380168777639\n",
      "Epoch 194 cost: 0.24068539002002307\n",
      "Epoch 195 cost: 0.23856252584768597\n",
      "Epoch 196 cost: 0.2414703322104311\n",
      "Epoch 197 cost: 0.24050660465076917\n",
      "Epoch 198 cost: 0.23920902484298862\n",
      "Epoch 199 cost: 0.2422456684842495\n",
      "Epoch 200 cost: 0.23830049215452448\n"
     ]
    },
    {
     "name": "stdout",
     "output_type": "stream",
     "text": [
      "Epoch 201 cost: 0.23856906011316925\n",
      "Epoch 202 cost: 0.24270057296978656\n",
      "Epoch 203 cost: 0.23974194689707573\n",
      "Epoch 204 cost: 0.23884539050459436\n",
      "Epoch 205 cost: 0.24340699660233386\n",
      "Epoch 206 cost: 0.2379853752146462\n",
      "Epoch 207 cost: 0.23632188226321496\n",
      "Epoch 208 cost: 0.2366130969040501\n",
      "Epoch 209 cost: 0.24138726658941134\n",
      "Epoch 210 cost: 0.23568461922599093\n"
     ]
    },
    {
     "name": "stdout",
     "output_type": "stream",
     "text": [
      "Epoch 211 cost: 0.23556360413384791\n",
      "Epoch 212 cost: 0.23842295594624277\n",
      "Epoch 213 cost: 0.23899751585886514\n",
      "Epoch 214 cost: 0.23475834515441518\n",
      "Epoch 215 cost: 0.23941233163793593\n",
      "Epoch 216 cost: 0.23890762805223087\n",
      "Epoch 217 cost: 0.23817229481463603\n",
      "Epoch 218 cost: 0.23355557391860401\n",
      "Epoch 219 cost: 0.23833027887364863\n",
      "Epoch 220 cost: 0.2369141410006021\n"
     ]
    },
    {
     "name": "stdout",
     "output_type": "stream",
     "text": [
      "Epoch 221 cost: 0.24057679975965426\n",
      "Epoch 222 cost: 0.24097506957354725\n",
      "Epoch 223 cost: 0.23761405061646418\n",
      "Epoch 224 cost: 0.2381722431591526\n",
      "Epoch 225 cost: 0.23733491300151008\n",
      "Epoch 226 cost: 0.23768364667905895\n",
      "Epoch 227 cost: 0.2384324621997532\n",
      "Epoch 228 cost: 0.24064720224693925\n",
      "Epoch 229 cost: 0.23739765280046227\n",
      "Epoch 230 cost: 0.23527479034981186\n"
     ]
    },
    {
     "name": "stdout",
     "output_type": "stream",
     "text": [
      "Epoch 231 cost: 0.24094309459098506\n",
      "Epoch 232 cost: 0.23627448747896843\n",
      "Epoch 233 cost: 0.23648806011950002\n",
      "Epoch 234 cost: 0.23996797338213235\n",
      "Epoch 235 cost: 0.2397272455332685\n",
      "Epoch 236 cost: 0.23648122540648703\n",
      "Epoch 237 cost: 0.23647538685237085\n",
      "Epoch 238 cost: 0.23701309236897092\n",
      "Epoch 239 cost: 0.2395676595800743\n",
      "Epoch 240 cost: 0.238412675723578\n"
     ]
    },
    {
     "name": "stdout",
     "output_type": "stream",
     "text": [
      "Epoch 241 cost: 0.23638905673942642\n",
      "Epoch 242 cost: 0.23688714369282274\n",
      "Epoch 243 cost: 0.23546105568366682\n",
      "Epoch 244 cost: 0.2379452235768816\n",
      "Epoch 245 cost: 0.239095929986566\n",
      "Epoch 246 cost: 0.2362218498354642\n",
      "Epoch 247 cost: 0.2358605577370862\n",
      "Epoch 248 cost: 0.23522407034363493\n",
      "Epoch 249 cost: 0.2353097520106909\n",
      "Epoch 250 cost: 0.2379081319179695\n"
     ]
    },
    {
     "name": "stdout",
     "output_type": "stream",
     "text": [
      "Epoch 251 cost: 0.23516784894992523\n",
      "Epoch 252 cost: 0.23917897619051118\n",
      "Epoch 253 cost: 0.2426993989653181\n",
      "Epoch 254 cost: 0.2366004405041138\n",
      "Epoch 255 cost: 0.23613163804341755\n",
      "Epoch 256 cost: 0.23580423661843775\n",
      "Epoch 257 cost: 0.23545136770663114\n",
      "Epoch 258 cost: 0.2358237666266086\n",
      "Epoch 259 cost: 0.23776216549631699\n",
      "Epoch 260 cost: 0.2348514492393394\n"
     ]
    },
    {
     "name": "stdout",
     "output_type": "stream",
     "text": [
      "Epoch 261 cost: 0.23740776809699463\n",
      "Epoch 262 cost: 0.2331501004920397\n",
      "Epoch 263 cost: 0.23437413085097117\n",
      "Epoch 264 cost: 0.23661676330903303\n",
      "Epoch 265 cost: 0.23478173885836068\n",
      "Epoch 266 cost: 0.23422723284276364\n",
      "Epoch 267 cost: 0.23936665355937117\n",
      "Epoch 268 cost: 0.23665987401666733\n",
      "Epoch 269 cost: 0.24261840798204046\n",
      "Epoch 270 cost: 0.23585978797121168\n"
     ]
    },
    {
     "name": "stdout",
     "output_type": "stream",
     "text": [
      "Epoch 271 cost: 0.23537444201650895\n",
      "Epoch 272 cost: 0.23415421863761007\n",
      "Epoch 273 cost: 0.23375191344507715\n",
      "Epoch 274 cost: 0.23538453264302378\n",
      "Epoch 275 cost: 0.2338545904344367\n",
      "Epoch 276 cost: 0.23410542287580308\n",
      "Epoch 277 cost: 0.23323613583372355\n",
      "Epoch 278 cost: 0.23754790926858588\n",
      "Epoch 279 cost: 0.23543875730406855\n",
      "Epoch 280 cost: 0.23208614755812382\n"
     ]
    },
    {
     "name": "stdout",
     "output_type": "stream",
     "text": [
      "Epoch 281 cost: 0.2322822809298915\n",
      "Epoch 282 cost: 0.2320733358023362\n",
      "Epoch 283 cost: 0.23700981086214845\n",
      "Epoch 284 cost: 0.23317259629810397\n",
      "Epoch 285 cost: 0.23312682656777844\n",
      "Epoch 286 cost: 0.23260134021423\n",
      "Epoch 287 cost: 0.23261030397036359\n",
      "Epoch 288 cost: 0.233295766493458\n",
      "Epoch 289 cost: 0.23087501186185577\n",
      "Epoch 290 cost: 0.22993088116658902\n"
     ]
    },
    {
     "name": "stdout",
     "output_type": "stream",
     "text": [
      "Epoch 291 cost: 0.23929743332946452\n",
      "Epoch 292 cost: 0.2350782999937634\n",
      "Epoch 293 cost: 0.2347674602728608\n",
      "Epoch 294 cost: 0.23367916535170175\n",
      "Epoch 295 cost: 0.23571454389739635\n",
      "Epoch 296 cost: 0.23089771085174082\n",
      "Epoch 297 cost: 0.23356645933705886\n",
      "Epoch 298 cost: 0.23370773613297502\n",
      "Epoch 299 cost: 0.228123423300675\n",
      "Epoch 300 cost: 0.23665358007642182\n"
     ]
    },
    {
     "name": "stdout",
     "output_type": "stream",
     "text": [
      "Epoch 301 cost: 0.2342818258177796\n",
      "Epoch 302 cost: 0.2323018174973917\n",
      "Epoch 303 cost: 0.23154627740608266\n",
      "Epoch 304 cost: 0.2324840926522325\n",
      "Epoch 305 cost: 0.2307539568125143\n",
      "Epoch 306 cost: 0.22936947122752474\n",
      "Epoch 307 cost: 0.23059461273893184\n",
      "Epoch 308 cost: 0.23471111071064085\n",
      "Epoch 309 cost: 0.23337474927305124\n",
      "Epoch 310 cost: 0.2303396564278826\n"
     ]
    },
    {
     "name": "stdout",
     "output_type": "stream",
     "text": [
      "Epoch 311 cost: 0.23136062969842613\n",
      "Epoch 312 cost: 0.2274922592300544\n",
      "Epoch 313 cost: 0.23133928328722025\n",
      "Epoch 314 cost: 0.23408351784390338\n",
      "Epoch 315 cost: 0.23163583687531922\n",
      "Epoch 316 cost: 0.23075981638361914\n",
      "Epoch 317 cost: 0.23357464852412227\n",
      "Epoch 318 cost: 0.23637059526431564\n",
      "Epoch 319 cost: 0.23036537826391568\n",
      "Epoch 320 cost: 0.23387988241255464\n"
     ]
    },
    {
     "name": "stdout",
     "output_type": "stream",
     "text": [
      "Epoch 321 cost: 0.2320487162982073\n",
      "Epoch 322 cost: 0.23097659226757283\n",
      "Epoch 323 cost: 0.2300267979779664\n",
      "Epoch 324 cost: 0.23077061231211296\n",
      "Epoch 325 cost: 0.2282770863041417\n",
      "Epoch 326 cost: 0.2370489213609649\n",
      "Epoch 327 cost: 0.23495930248111127\n",
      "Epoch 328 cost: 0.23013440867847518\n",
      "Epoch 329 cost: 0.2303275006078291\n",
      "Epoch 330 cost: 0.23154355126139364\n"
     ]
    },
    {
     "name": "stdout",
     "output_type": "stream",
     "text": [
      "Epoch 331 cost: 0.23145008171519182\n",
      "Epoch 332 cost: 0.23281128426636177\n",
      "Epoch 333 cost: 0.22804314480715746\n",
      "Epoch 334 cost: 0.22860287230599302\n",
      "Epoch 335 cost: 0.23181698513742086\n",
      "Epoch 336 cost: 0.23043409923763306\n",
      "Epoch 337 cost: 0.2290137952487911\n",
      "Epoch 338 cost: 0.2278182732607036\n",
      "Epoch 339 cost: 0.2302725969107781\n",
      "Epoch 340 cost: 0.22953646445802917\n"
     ]
    },
    {
     "name": "stdout",
     "output_type": "stream",
     "text": [
      "Epoch 341 cost: 0.22877487130520072\n",
      "Epoch 342 cost: 0.22972025125792456\n",
      "Epoch 343 cost: 0.22900433660235786\n",
      "Epoch 344 cost: 0.22743061112312882\n",
      "Epoch 345 cost: 0.2266047022093453\n",
      "Epoch 346 cost: 0.23028593592968827\n",
      "Epoch 347 cost: 0.22720594809709443\n",
      "Epoch 348 cost: 0.22734411496450757\n",
      "Epoch 349 cost: 0.22562166873734182\n",
      "Epoch 350 cost: 0.22724096426153526\n"
     ]
    },
    {
     "name": "stdout",
     "output_type": "stream",
     "text": [
      "Epoch 351 cost: 0.22820207246375965\n",
      "Epoch 352 cost: 0.22782347500892483\n",
      "Epoch 353 cost: 0.22771701882959172\n",
      "Epoch 354 cost: 0.2274453349819475\n",
      "Epoch 355 cost: 0.2259368061655543\n",
      "Epoch 356 cost: 0.23002346524578604\n",
      "Epoch 357 cost: 0.2292560191922524\n",
      "Epoch 358 cost: 0.2265329859338281\n",
      "Epoch 359 cost: 0.22765067322552912\n",
      "Epoch 360 cost: 0.22759825923867194\n"
     ]
    },
    {
     "name": "stdout",
     "output_type": "stream",
     "text": [
      "Epoch 361 cost: 0.2271950143328084\n",
      "Epoch 362 cost: 0.2246197260752844\n",
      "Epoch 363 cost: 0.22558481545895528\n",
      "Epoch 364 cost: 0.22440999303518264\n",
      "Epoch 365 cost: 0.23113949503673306\n",
      "Epoch 366 cost: 0.22564735253919058\n",
      "Epoch 367 cost: 0.23157805044169463\n",
      "Epoch 368 cost: 0.22612545962001926\n",
      "Epoch 369 cost: 0.22497651650301517\n",
      "Epoch 370 cost: 0.22620804995784466\n"
     ]
    },
    {
     "name": "stdout",
     "output_type": "stream",
     "text": [
      "Epoch 371 cost: 0.22325299832020465\n",
      "Epoch 372 cost: 0.2257447817683239\n",
      "Epoch 373 cost: 0.23005094110992333\n",
      "Epoch 374 cost: 0.23169808901814762\n",
      "Epoch 375 cost: 0.23102598693596088\n",
      "Epoch 376 cost: 0.2322341210701549\n",
      "Epoch 377 cost: 0.2310010123249892\n",
      "Epoch 378 cost: 0.22655112635417157\n",
      "Epoch 379 cost: 0.22397941639315413\n",
      "Epoch 380 cost: 0.2248304822671631\n"
     ]
    },
    {
     "name": "stdout",
     "output_type": "stream",
     "text": [
      "Epoch 381 cost: 0.22043636838514322\n",
      "Epoch 382 cost: 0.22362722034731425\n",
      "Epoch 383 cost: 0.22596392725943784\n",
      "Epoch 384 cost: 0.22093425817508863\n",
      "Epoch 385 cost: 0.2257238658728216\n",
      "Epoch 386 cost: 0.22380021618077095\n",
      "Epoch 387 cost: 0.22254169487383918\n",
      "Epoch 388 cost: 0.22354187989601956\n",
      "Epoch 389 cost: 0.22407713381909902\n",
      "Epoch 390 cost: 0.22665455000928522\n"
     ]
    },
    {
     "name": "stdout",
     "output_type": "stream",
     "text": [
      "Epoch 391 cost: 0.2248285086755576\n",
      "Epoch 392 cost: 0.22138608996634732\n",
      "Epoch 393 cost: 0.2275919885160816\n",
      "Epoch 394 cost: 0.22287008319725404\n",
      "Epoch 395 cost: 0.2221106599214188\n",
      "Epoch 396 cost: 0.22102370173400082\n",
      "Epoch 397 cost: 0.2202719418726876\n",
      "Epoch 398 cost: 0.22048531231425444\n",
      "Epoch 399 cost: 0.2209843848498858\n",
      "Epoch 400 cost: 0.22419398886656358\n"
     ]
    },
    {
     "name": "stdout",
     "output_type": "stream",
     "text": [
      "Epoch 401 cost: 0.2215181014424744\n",
      "Epoch 402 cost: 0.2184359940892039\n",
      "Epoch 403 cost: 0.2219633162825555\n",
      "Epoch 404 cost: 0.22431849190357622\n",
      "Epoch 405 cost: 0.21863691176418223\n",
      "Epoch 406 cost: 0.22446401269158414\n",
      "Epoch 407 cost: 0.2186823036550578\n",
      "Epoch 408 cost: 0.22014676900915817\n",
      "Epoch 409 cost: 0.2231584611641345\n",
      "Epoch 410 cost: 0.21800137185118143\n"
     ]
    },
    {
     "name": "stdout",
     "output_type": "stream",
     "text": [
      "Epoch 411 cost: 0.21936057910210194\n",
      "Epoch 412 cost: 0.21840897250443245\n",
      "Epoch 413 cost: 0.21824092008645066\n",
      "Epoch 414 cost: 0.21621536554905807\n",
      "Epoch 415 cost: 0.22088523457081874\n",
      "Epoch 416 cost: 0.22460237477407835\n",
      "Epoch 417 cost: 0.21542359280443357\n",
      "Epoch 418 cost: 0.21607213918145649\n",
      "Epoch 419 cost: 0.21922335302145732\n",
      "Epoch 420 cost: 0.21693473253352571\n"
     ]
    },
    {
     "name": "stdout",
     "output_type": "stream",
     "text": [
      "Epoch 421 cost: 0.21766608832120254\n",
      "Epoch 422 cost: 0.21368916115403394\n",
      "Epoch 423 cost: 0.21747958657417152\n",
      "Epoch 424 cost: 0.21402687370669607\n",
      "Epoch 425 cost: 0.21390366382077106\n",
      "Epoch 426 cost: 0.2139021548290727\n",
      "Epoch 427 cost: 0.2149184604598766\n",
      "Epoch 428 cost: 0.21443749941822904\n",
      "Epoch 429 cost: 0.2141959936005219\n",
      "Epoch 430 cost: 0.21346800123904963\n"
     ]
    },
    {
     "name": "stdout",
     "output_type": "stream",
     "text": [
      "Epoch 431 cost: 0.21023983322455578\n",
      "Epoch 432 cost: 0.21566026981227787\n",
      "Epoch 433 cost: 0.2147388111984864\n",
      "Epoch 434 cost: 0.21293499610904398\n",
      "Epoch 435 cost: 0.21464046242141124\n",
      "Epoch 436 cost: 0.21257244748592105\n",
      "Epoch 437 cost: 0.2141455433176124\n",
      "Epoch 438 cost: 0.2137513650767103\n",
      "Epoch 439 cost: 0.21339124023521977\n",
      "Epoch 440 cost: 0.21168186449002163\n"
     ]
    },
    {
     "name": "stdout",
     "output_type": "stream",
     "text": [
      "Epoch 441 cost: 0.2118370146867335\n",
      "Epoch 442 cost: 0.21431151328466383\n",
      "Epoch 443 cost: 0.21254275147992724\n",
      "Epoch 444 cost: 0.21201298269269372\n",
      "Epoch 445 cost: 0.21472277681448565\n",
      "Epoch 446 cost: 0.21354358634068787\n",
      "Epoch 447 cost: 0.2112872469352392\n",
      "Epoch 448 cost: 0.2151091165046798\n",
      "Epoch 449 cost: 0.21588090939767524\n",
      "Epoch 450 cost: 0.21222843946642436\n"
     ]
    },
    {
     "name": "stdout",
     "output_type": "stream",
     "text": [
      "Epoch 451 cost: 0.21111712382653824\n",
      "Epoch 452 cost: 0.21020887367827942\n",
      "Epoch 453 cost: 0.20835942842032468\n",
      "Epoch 454 cost: 0.21126214903389934\n",
      "Epoch 455 cost: 0.21342564420128965\n",
      "Epoch 456 cost: 0.20959116684656182\n",
      "Epoch 457 cost: 0.2110183310393439\n",
      "Epoch 458 cost: 0.21296147233879623\n",
      "Epoch 459 cost: 0.20853790305233602\n",
      "Epoch 460 cost: 0.20907749636959733\n"
     ]
    },
    {
     "name": "stdout",
     "output_type": "stream",
     "text": [
      "Epoch 461 cost: 0.20839754994570742\n",
      "Epoch 462 cost: 0.21211231835166686\n",
      "Epoch 463 cost: 0.21182539415149396\n",
      "Epoch 464 cost: 0.20929619418120712\n",
      "Epoch 465 cost: 0.2070500846308816\n",
      "Epoch 466 cost: 0.20712139882169575\n",
      "Epoch 467 cost: 0.209030793703228\n",
      "Epoch 468 cost: 0.20992202847389202\n",
      "Epoch 469 cost: 0.21107309085905673\n",
      "Epoch 470 cost: 0.20945892809081013\n"
     ]
    },
    {
     "name": "stdout",
     "output_type": "stream",
     "text": [
      "Epoch 471 cost: 0.21325879436812747\n",
      "Epoch 472 cost: 0.20588209671336935\n",
      "Epoch 473 cost: 0.20864792613873673\n",
      "Epoch 474 cost: 0.20939232457184867\n",
      "Epoch 475 cost: 0.20757473187811887\n",
      "Epoch 476 cost: 0.20844536409619016\n",
      "Epoch 477 cost: 0.20965248180798787\n",
      "Epoch 478 cost: 0.21116874759350177\n",
      "Epoch 479 cost: 0.21004722433061396\n",
      "Epoch 480 cost: 0.20733124830420255\n"
     ]
    },
    {
     "name": "stdout",
     "output_type": "stream",
     "text": [
      "Epoch 481 cost: 0.2088566600931502\n",
      "Epoch 482 cost: 0.2116738848019256\n",
      "Epoch 483 cost: 0.2100474305369234\n",
      "Epoch 484 cost: 0.20775334095310163\n",
      "Epoch 485 cost: 0.20799464435557707\n",
      "Epoch 486 cost: 0.20821495736049261\n",
      "Epoch 487 cost: 0.21160688731782815\n",
      "Epoch 488 cost: 0.2078555094327469\n",
      "Epoch 489 cost: 0.20916085223281553\n",
      "Epoch 490 cost: 0.20634357157376704\n"
     ]
    },
    {
     "name": "stdout",
     "output_type": "stream",
     "text": [
      "Epoch 491 cost: 0.2092691644362939\n",
      "Epoch 492 cost: 0.20766827766920792\n",
      "Epoch 493 cost: 0.20616015346743907\n",
      "Epoch 494 cost: 0.20366181109769596\n",
      "Epoch 495 cost: 0.2041654669865364\n",
      "Epoch 496 cost: 0.2027797234083775\n",
      "Epoch 497 cost: 0.20274991249428545\n",
      "Epoch 498 cost: 0.21358777465971038\n",
      "Epoch 499 cost: 0.20928336040895762\n",
      "Epoch 500 cost: 0.20233394134058635\n"
     ]
    },
    {
     "name": "stdout",
     "output_type": "stream",
     "text": [
      "Epoch 501 cost: 0.20229187996350345\n",
      "Epoch 502 cost: 0.20650614122863534\n",
      "Epoch 503 cost: 0.205177063133377\n",
      "Epoch 504 cost: 0.2063634770613094\n",
      "Epoch 505 cost: 0.2040823259943872\n",
      "Epoch 506 cost: 0.20190104217638677\n",
      "Epoch 507 cost: 0.20203585747705122\n",
      "Epoch 508 cost: 0.19939597422489988\n",
      "Epoch 509 cost: 0.2029009255905259\n",
      "Epoch 510 cost: 0.20149000798420422\n"
     ]
    },
    {
     "name": "stdout",
     "output_type": "stream",
     "text": [
      "Epoch 511 cost: 0.20549025328261825\n",
      "Epoch 512 cost: 0.20749202270198952\n",
      "Epoch 513 cost: 0.2005686545697572\n",
      "Epoch 514 cost: 0.20232054440573916\n",
      "Epoch 515 cost: 0.20193451637735993\n",
      "Epoch 516 cost: 0.2061573441205177\n",
      "Epoch 517 cost: 0.19856405598538235\n",
      "Epoch 518 cost: 0.20150807446814337\n",
      "Epoch 519 cost: 0.20288807852631346\n",
      "Epoch 520 cost: 0.20449431842674082\n"
     ]
    },
    {
     "name": "stdout",
     "output_type": "stream",
     "text": [
      "Epoch 521 cost: 0.20062799702864942\n",
      "Epoch 522 cost: 0.2024551580282083\n",
      "Epoch 523 cost: 0.20168367542906104\n",
      "Epoch 524 cost: 0.2018563616494847\n",
      "Epoch 525 cost: 0.20061953452812556\n",
      "Epoch 526 cost: 0.20238754480132953\n",
      "Epoch 527 cost: 0.1990217322808683\n",
      "Epoch 528 cost: 0.19877417943407505\n",
      "Epoch 529 cost: 0.20258947492969273\n",
      "Epoch 530 cost: 0.20882259045956006\n"
     ]
    },
    {
     "name": "stdout",
     "output_type": "stream",
     "text": [
      "Epoch 531 cost: 0.2038904958257591\n",
      "Epoch 532 cost: 0.19831445067668968\n",
      "Epoch 533 cost: 0.19648123744391696\n",
      "Epoch 534 cost: 0.1995405913704139\n",
      "Epoch 535 cost: 0.2002340690719334\n",
      "Epoch 536 cost: 0.20414821320682972\n",
      "Epoch 537 cost: 0.20560811777890362\n",
      "Epoch 538 cost: 0.20133593370149314\n",
      "Epoch 539 cost: 0.19881031243646005\n",
      "Epoch 540 cost: 0.1986684780837469\n"
     ]
    },
    {
     "name": "stdout",
     "output_type": "stream",
     "text": [
      "Epoch 541 cost: 0.19593093361447433\n",
      "Epoch 542 cost: 0.1986042139192347\n",
      "Epoch 543 cost: 0.20371307400963753\n",
      "Epoch 544 cost: 0.19859971440842278\n",
      "Epoch 545 cost: 0.19629929264177154\n",
      "Epoch 546 cost: 0.1947606481363363\n",
      "Epoch 547 cost: 0.19476233582647653\n",
      "Epoch 548 cost: 0.19497983731237398\n",
      "Epoch 549 cost: 0.19677973824300823\n",
      "Epoch 550 cost: 0.19255398568555235\n"
     ]
    },
    {
     "name": "stdout",
     "output_type": "stream",
     "text": [
      "Epoch 551 cost: 0.20115336147894666\n",
      "Epoch 552 cost: 0.2049520518197369\n",
      "Epoch 553 cost: 0.19784773196210723\n",
      "Epoch 554 cost: 0.1961923294794023\n",
      "Epoch 555 cost: 0.19334275180245747\n",
      "Epoch 556 cost: 0.19318579805551087\n",
      "Epoch 557 cost: 0.19752875640150586\n",
      "Epoch 558 cost: 0.19560126833114497\n",
      "Epoch 559 cost: 0.19638315461642933\n",
      "Epoch 560 cost: 0.19866441285411202\n"
     ]
    },
    {
     "name": "stdout",
     "output_type": "stream",
     "text": [
      "Epoch 561 cost: 0.19972325867115492\n",
      "Epoch 562 cost: 0.19205926074734042\n",
      "Epoch 563 cost: 0.19261105730731107\n",
      "Epoch 564 cost: 0.1977100731961925\n",
      "Epoch 565 cost: 0.1942927561621282\n",
      "Epoch 566 cost: 0.19241551012996394\n",
      "Epoch 567 cost: 0.19162551800819835\n",
      "Epoch 568 cost: 0.19047160925675638\n",
      "Epoch 569 cost: 0.18913892701130602\n",
      "Epoch 570 cost: 0.19410520494356\n"
     ]
    },
    {
     "name": "stdout",
     "output_type": "stream",
     "text": [
      "Epoch 571 cost: 0.19143824534346487\n",
      "Epoch 572 cost: 0.19041476450037703\n",
      "Epoch 573 cost: 0.19035192386281313\n",
      "Epoch 574 cost: 0.19150393874128335\n",
      "Epoch 575 cost: 0.1907778905799499\n",
      "Epoch 576 cost: 0.18984062570319968\n",
      "Epoch 577 cost: 0.19179373871401081\n",
      "Epoch 578 cost: 0.1892687276379357\n",
      "Epoch 579 cost: 0.19196171531813835\n",
      "Epoch 580 cost: 0.19120631081115852\n"
     ]
    },
    {
     "name": "stdout",
     "output_type": "stream",
     "text": [
      "Epoch 581 cost: 0.18799935584946528\n",
      "Epoch 582 cost: 0.19064135644470306\n",
      "Epoch 583 cost: 0.1901371700927579\n",
      "Epoch 584 cost: 0.1895546967065095\n",
      "Epoch 585 cost: 0.1945805253850448\n",
      "Epoch 586 cost: 0.18759383094165719\n",
      "Epoch 587 cost: 0.18848702295713868\n",
      "Epoch 588 cost: 0.18810293205344045\n",
      "Epoch 589 cost: 0.18894164718654335\n",
      "Epoch 590 cost: 0.18779490538275964\n"
     ]
    },
    {
     "name": "stdout",
     "output_type": "stream",
     "text": [
      "Epoch 591 cost: 0.19349973821633573\n",
      "Epoch 592 cost: 0.1878549213930402\n",
      "Epoch 593 cost: 0.189261807710705\n",
      "Epoch 594 cost: 0.18816956258571044\n",
      "Epoch 595 cost: 0.1954463856088381\n",
      "Epoch 596 cost: 0.18808048764606092\n",
      "Epoch 597 cost: 0.1859577591646216\n",
      "Epoch 598 cost: 0.18651006985138727\n",
      "Epoch 599 cost: 0.18643249346716606\n",
      "Epoch 600 cost: 0.1875729740080084\n"
     ]
    },
    {
     "name": "stdout",
     "output_type": "stream",
     "text": [
      "Epoch 601 cost: 0.18484237889531227\n",
      "Epoch 602 cost: 0.1839089507161364\n",
      "Epoch 603 cost: 0.18625767083597572\n",
      "Epoch 604 cost: 0.1859653526538386\n",
      "Epoch 605 cost: 0.18362717006044657\n",
      "Epoch 606 cost: 0.18427673510011638\n",
      "Epoch 607 cost: 0.18323167593629539\n",
      "Epoch 608 cost: 0.18822489394705771\n",
      "Epoch 609 cost: 0.18481664678373885\n",
      "Epoch 610 cost: 0.1846877716018905\n"
     ]
    },
    {
     "name": "stdout",
     "output_type": "stream",
     "text": [
      "Epoch 611 cost: 0.18460261515456142\n",
      "Epoch 612 cost: 0.18915582226333916\n",
      "Epoch 613 cost: 0.18422238631326918\n",
      "Epoch 614 cost: 0.18796797538207705\n",
      "Epoch 615 cost: 0.18819325332540243\n",
      "Epoch 616 cost: 0.19484438167572204\n",
      "Epoch 617 cost: 0.18718405171828287\n",
      "Epoch 618 cost: 0.1853893534328216\n",
      "Epoch 619 cost: 0.18252436165858196\n",
      "Epoch 620 cost: 0.18456314982859165\n"
     ]
    },
    {
     "name": "stdout",
     "output_type": "stream",
     "text": [
      "Epoch 621 cost: 0.1855569559476587\n",
      "Epoch 622 cost: 0.18517805544258037\n",
      "Epoch 623 cost: 0.18609547069924146\n",
      "Epoch 624 cost: 0.183524480090756\n",
      "Epoch 625 cost: 0.18432358797210888\n",
      "Epoch 626 cost: 0.18443511665133358\n",
      "Epoch 627 cost: 0.18369859460210466\n",
      "Epoch 628 cost: 0.17975491873965227\n",
      "Epoch 629 cost: 0.1904937643903321\n",
      "Epoch 630 cost: 0.18992702732683606\n"
     ]
    },
    {
     "name": "stdout",
     "output_type": "stream",
     "text": [
      "Epoch 631 cost: 0.18173196672509165\n",
      "Epoch 632 cost: 0.18141570625364423\n",
      "Epoch 633 cost: 0.18225294563766\n",
      "Epoch 634 cost: 0.1863653652342667\n",
      "Epoch 635 cost: 0.18452985148684903\n",
      "Epoch 636 cost: 0.18156395258109798\n",
      "Epoch 637 cost: 0.18734722453879865\n",
      "Epoch 638 cost: 0.18990761293337088\n",
      "Epoch 639 cost: 0.18816571255725761\n",
      "Epoch 640 cost: 0.18496766931303898\n"
     ]
    },
    {
     "name": "stdout",
     "output_type": "stream",
     "text": [
      "Epoch 641 cost: 0.180587153482452\n",
      "Epoch 642 cost: 0.1806337325431963\n",
      "Epoch 643 cost: 0.18400534011007516\n",
      "Epoch 644 cost: 0.18163201593490658\n",
      "Epoch 645 cost: 0.17966982746560925\n",
      "Epoch 646 cost: 0.17688418383478022\n",
      "Epoch 647 cost: 0.1789217057137022\n",
      "Epoch 648 cost: 0.1772185185750175\n",
      "Epoch 649 cost: 0.1790495908207107\n",
      "Epoch 650 cost: 0.18111739815772043\n"
     ]
    },
    {
     "name": "stdout",
     "output_type": "stream",
     "text": [
      "Epoch 651 cost: 0.180930835487235\n",
      "Epoch 652 cost: 0.1793606200464395\n",
      "Epoch 653 cost: 0.18208473288093005\n",
      "Epoch 654 cost: 0.17926947640563723\n",
      "Epoch 655 cost: 0.176566261443591\n",
      "Epoch 656 cost: 0.18496037891456565\n",
      "Epoch 657 cost: 0.17570189681948337\n",
      "Epoch 658 cost: 0.17578656441096238\n",
      "Epoch 659 cost: 0.17580281309532253\n",
      "Epoch 660 cost: 0.17543556946617875\n"
     ]
    },
    {
     "name": "stdout",
     "output_type": "stream",
     "text": [
      "Epoch 661 cost: 0.17436812184740746\n",
      "Epoch 662 cost: 0.17796437883647637\n",
      "Epoch 663 cost: 0.17773800750311472\n",
      "Epoch 664 cost: 0.17954352342168944\n",
      "Epoch 665 cost: 0.1891935346234098\n",
      "Epoch 666 cost: 0.1850706832960676\n",
      "Epoch 667 cost: 0.1717021363505828\n",
      "Epoch 668 cost: 0.1731185958363663\n",
      "Epoch 669 cost: 0.17628392043740515\n",
      "Epoch 670 cost: 0.1747761830038942\n"
     ]
    },
    {
     "name": "stdout",
     "output_type": "stream",
     "text": [
      "Epoch 671 cost: 0.1774928635830172\n",
      "Epoch 672 cost: 0.1743579562961325\n",
      "Epoch 673 cost: 0.1753614971720607\n",
      "Epoch 674 cost: 0.17572435296335803\n",
      "Epoch 675 cost: 0.17527071477149503\n",
      "Epoch 676 cost: 0.18317710237715748\n",
      "Epoch 677 cost: 0.1761669754187111\n",
      "Epoch 678 cost: 0.17632111171267276\n",
      "Epoch 679 cost: 0.1739294531057572\n",
      "Epoch 680 cost: 0.17044030104407243\n"
     ]
    },
    {
     "name": "stdout",
     "output_type": "stream",
     "text": [
      "Epoch 681 cost: 0.17251651082027702\n",
      "Epoch 682 cost: 0.17437255112358382\n",
      "Epoch 683 cost: 0.17549681988140708\n",
      "Epoch 684 cost: 0.1716589931602544\n",
      "Epoch 685 cost: 0.16782372443279767\n",
      "Epoch 686 cost: 0.17028359831024123\n",
      "Epoch 687 cost: 0.1736942127464305\n",
      "Epoch 688 cost: 0.17127578308541708\n",
      "Epoch 689 cost: 0.17072223381389837\n",
      "Epoch 690 cost: 0.1763638328024267\n"
     ]
    },
    {
     "name": "stdout",
     "output_type": "stream",
     "text": [
      "Epoch 691 cost: 0.17299935092719887\n",
      "Epoch 692 cost: 0.17401571646180874\n",
      "Epoch 693 cost: 0.17151849596424237\n",
      "Epoch 694 cost: 0.17164375085292546\n",
      "Epoch 695 cost: 0.17135862530784826\n",
      "Epoch 696 cost: 0.1694802828217345\n",
      "Epoch 697 cost: 0.1708052527765413\n",
      "Epoch 698 cost: 0.17123796350277162\n",
      "Epoch 699 cost: 0.16745508771431972\n",
      "Epoch 700 cost: 0.16962014545224016\n"
     ]
    },
    {
     "name": "stdout",
     "output_type": "stream",
     "text": [
      "Epoch 701 cost: 0.16911825791330787\n",
      "Epoch 702 cost: 0.1668895988950294\n",
      "Epoch 703 cost: 0.16728790181496703\n",
      "Epoch 704 cost: 0.1692014555618764\n",
      "Epoch 705 cost: 0.17002747255987408\n",
      "Epoch 706 cost: 0.16814495065443272\n",
      "Epoch 707 cost: 0.17826925948809424\n",
      "Epoch 708 cost: 0.16779334608677857\n",
      "Epoch 709 cost: 0.17136219201651934\n",
      "Epoch 710 cost: 0.17408050660744445\n"
     ]
    },
    {
     "name": "stdout",
     "output_type": "stream",
     "text": [
      "Epoch 711 cost: 0.1699582784065874\n",
      "Epoch 712 cost: 0.1770700619770755\n",
      "Epoch 713 cost: 0.1669003596169323\n",
      "Epoch 714 cost: 0.16637239508871818\n",
      "Epoch 715 cost: 0.17114369934053483\n",
      "Epoch 716 cost: 0.18153710363610145\n",
      "Epoch 717 cost: 0.1673811351850232\n",
      "Epoch 718 cost: 0.16954505582145482\n",
      "Epoch 719 cost: 0.16904522389892637\n",
      "Epoch 720 cost: 0.17167221117770476\n"
     ]
    },
    {
     "name": "stdout",
     "output_type": "stream",
     "text": [
      "Epoch 721 cost: 0.17323851414221583\n",
      "Epoch 722 cost: 0.1654290554190552\n",
      "Epoch 723 cost: 0.16863945529341076\n",
      "Epoch 724 cost: 0.16541324575125244\n",
      "Epoch 725 cost: 0.1713665511187221\n",
      "Epoch 726 cost: 0.17086452402413327\n",
      "Epoch 727 cost: 0.165555729500416\n",
      "Epoch 728 cost: 0.16698347386395576\n",
      "Epoch 729 cost: 0.16390294617806683\n",
      "Epoch 730 cost: 0.16690948842001566\n"
     ]
    },
    {
     "name": "stdout",
     "output_type": "stream",
     "text": [
      "Epoch 731 cost: 0.16697024628516133\n",
      "Epoch 732 cost: 0.16873958449238888\n",
      "Epoch 733 cost: 0.16318424992584055\n",
      "Epoch 734 cost: 0.16187193751556783\n",
      "Epoch 735 cost: 0.17462557904567655\n",
      "Epoch 736 cost: 0.16233721563889272\n",
      "Epoch 737 cost: 0.16375576091208202\n",
      "Epoch 738 cost: 0.16320550239983234\n",
      "Epoch 739 cost: 0.16242362232258206\n",
      "Epoch 740 cost: 0.16467953917967548\n"
     ]
    },
    {
     "name": "stdout",
     "output_type": "stream",
     "text": [
      "Epoch 741 cost: 0.17010769526697708\n",
      "Epoch 742 cost: 0.16133416445103912\n",
      "Epoch 743 cost: 0.164006888429518\n",
      "Epoch 744 cost: 0.16227519887667932\n",
      "Epoch 745 cost: 0.1658673317924512\n",
      "Epoch 746 cost: 0.16283371121860216\n",
      "Epoch 747 cost: 0.16803540425866623\n",
      "Epoch 748 cost: 0.16707352847115936\n",
      "Epoch 749 cost: 0.17409405712293158\n",
      "Epoch 750 cost: 0.1604561352861318\n"
     ]
    },
    {
     "name": "stdout",
     "output_type": "stream",
     "text": [
      "Epoch 751 cost: 0.1620653666557593\n",
      "Epoch 752 cost: 0.1610287910255101\n",
      "Epoch 753 cost: 0.16654300325072746\n",
      "Epoch 754 cost: 0.1629384486660871\n",
      "Epoch 755 cost: 0.15939929551694776\n",
      "Epoch 756 cost: 0.15889331860137598\n",
      "Epoch 757 cost: 0.1651834124774627\n",
      "Epoch 758 cost: 0.16549693763489864\n",
      "Epoch 759 cost: 0.16774870513980983\n",
      "Epoch 760 cost: 0.16523483471588982\n"
     ]
    },
    {
     "name": "stdout",
     "output_type": "stream",
     "text": [
      "Epoch 761 cost: 0.1614038300733261\n",
      "Epoch 762 cost: 0.1616151475517835\n",
      "Epoch 763 cost: 0.16652326939442536\n",
      "Epoch 764 cost: 0.1595956818811051\n",
      "Epoch 765 cost: 0.16012271483289015\n",
      "Epoch 766 cost: 0.15722776917142842\n",
      "Epoch 767 cost: 0.16143609076629106\n",
      "Epoch 768 cost: 0.15893501409070362\n",
      "Epoch 769 cost: 0.16017967446120965\n",
      "Epoch 770 cost: 0.1589396273689056\n"
     ]
    },
    {
     "name": "stdout",
     "output_type": "stream",
     "text": [
      "Epoch 771 cost: 0.1608928824049772\n",
      "Epoch 772 cost: 0.15784312818330448\n",
      "Epoch 773 cost: 0.1613510304251954\n",
      "Epoch 774 cost: 0.15710062212639495\n",
      "Epoch 775 cost: 0.16231529182815002\n",
      "Epoch 776 cost: 0.16771455970869836\n",
      "Epoch 777 cost: 0.15766994580545565\n",
      "Epoch 778 cost: 0.1575180603438478\n",
      "Epoch 779 cost: 0.1574555364990985\n",
      "Epoch 780 cost: 0.15983998411830533\n"
     ]
    },
    {
     "name": "stdout",
     "output_type": "stream",
     "text": [
      "Epoch 781 cost: 0.15791576212241315\n",
      "Epoch 782 cost: 0.16042690256358041\n",
      "Epoch 783 cost: 0.1623210941119139\n",
      "Epoch 784 cost: 0.1640962496988162\n",
      "Epoch 785 cost: 0.15751151946709718\n",
      "Epoch 786 cost: 0.15554462098092153\n",
      "Epoch 787 cost: 0.15748294321614484\n",
      "Epoch 788 cost: 0.15656257118487107\n",
      "Epoch 789 cost: 0.16054526411624226\n",
      "Epoch 790 cost: 0.1557232720757625\n"
     ]
    },
    {
     "name": "stdout",
     "output_type": "stream",
     "text": [
      "Epoch 791 cost: 0.1560050160812029\n",
      "Epoch 792 cost: 0.15544605963401667\n",
      "Epoch 793 cost: 0.153990537811188\n",
      "Epoch 794 cost: 0.15615222416528785\n",
      "Epoch 795 cost: 0.15202826804816094\n",
      "Epoch 796 cost: 0.15396391268240098\n",
      "Epoch 797 cost: 0.15457783986126483\n",
      "Epoch 798 cost: 0.15276092300070204\n",
      "Epoch 799 cost: 0.15382097428473\n",
      "Epoch 800 cost: 0.15924604973527254\n"
     ]
    },
    {
     "name": "stdout",
     "output_type": "stream",
     "text": [
      "Epoch 801 cost: 0.1573132265457993\n",
      "Epoch 802 cost: 0.1598331480168367\n",
      "Epoch 803 cost: 0.15339451462185308\n",
      "Epoch 804 cost: 0.1537136565968692\n",
      "Epoch 805 cost: 0.15302681450342284\n",
      "Epoch 806 cost: 0.1495273086950109\n",
      "Epoch 807 cost: 0.1555185086459181\n",
      "Epoch 808 cost: 0.1533041161025449\n",
      "Epoch 809 cost: 0.15753348560662275\n",
      "Epoch 810 cost: 0.15361647430894113\n"
     ]
    },
    {
     "name": "stdout",
     "output_type": "stream",
     "text": [
      "Epoch 811 cost: 0.15292224594447276\n",
      "Epoch 812 cost: 0.15050682120813735\n",
      "Epoch 813 cost: 0.16446275286035533\n",
      "Epoch 814 cost: 0.15153357288867886\n",
      "Epoch 815 cost: 0.15481924552578383\n",
      "Epoch 816 cost: 0.1573040092824657\n",
      "Epoch 817 cost: 0.15511197779641064\n",
      "Epoch 818 cost: 0.15236380006695685\n",
      "Epoch 819 cost: 0.15710613375251065\n",
      "Epoch 820 cost: 0.154854505077988\n"
     ]
    },
    {
     "name": "stdout",
     "output_type": "stream",
     "text": [
      "Epoch 821 cost: 0.16067849068214532\n",
      "Epoch 822 cost: 0.15080813970585444\n",
      "Epoch 823 cost: 0.1538953991629821\n",
      "Epoch 824 cost: 0.14731347884844345\n",
      "Epoch 825 cost: 0.15624708895906372\n",
      "Epoch 826 cost: 0.15037510235437423\n",
      "Epoch 827 cost: 0.15100729586718453\n",
      "Epoch 828 cost: 0.14919989684777532\n",
      "Epoch 829 cost: 0.15381413812099223\n",
      "Epoch 830 cost: 0.1520222443177861\n"
     ]
    },
    {
     "name": "stdout",
     "output_type": "stream",
     "text": [
      "Epoch 831 cost: 0.1482624696704245\n",
      "Epoch 832 cost: 0.14956678887108793\n",
      "Epoch 833 cost: 0.15817292436650285\n",
      "Epoch 834 cost: 0.1592350642638561\n",
      "Epoch 835 cost: 0.14722400092887702\n",
      "Epoch 836 cost: 0.14997637046674142\n",
      "Epoch 837 cost: 0.1496622635591666\n",
      "Epoch 838 cost: 0.15462787565455188\n",
      "Epoch 839 cost: 0.15140516557682396\n",
      "Epoch 840 cost: 0.14577005657131212\n"
     ]
    },
    {
     "name": "stdout",
     "output_type": "stream",
     "text": [
      "Epoch 841 cost: 0.157833841057854\n",
      "Epoch 842 cost: 0.1470139934481977\n",
      "Epoch 843 cost: 0.16252330566704945\n",
      "Epoch 844 cost: 0.1488504704503766\n",
      "Epoch 845 cost: 0.15195211821513102\n",
      "Epoch 846 cost: 0.1487092248232274\n",
      "Epoch 847 cost: 0.1568317169675466\n",
      "Epoch 848 cost: 0.14727279243697777\n",
      "Epoch 849 cost: 0.14804884142669444\n",
      "Epoch 850 cost: 0.15337413164492839\n"
     ]
    },
    {
     "name": "stdout",
     "output_type": "stream",
     "text": [
      "Epoch 851 cost: 0.1475668284120756\n",
      "Epoch 852 cost: 0.1502306850696184\n",
      "Epoch 853 cost: 0.1485340449121251\n",
      "Epoch 854 cost: 0.15507368019920886\n",
      "Epoch 855 cost: 0.15384345311126646\n",
      "Epoch 856 cost: 0.1567727280675623\n",
      "Epoch 857 cost: 0.14810265296661967\n",
      "Epoch 858 cost: 0.15134470631976724\n",
      "Epoch 859 cost: 0.15238231634187133\n",
      "Epoch 860 cost: 0.14765365024068702\n"
     ]
    },
    {
     "name": "stdout",
     "output_type": "stream",
     "text": [
      "Epoch 861 cost: 0.1500500691302685\n",
      "Epoch 862 cost: 0.14846383156557988\n",
      "Epoch 863 cost: 0.14973778077490615\n",
      "Epoch 864 cost: 0.14804626254594638\n",
      "Epoch 865 cost: 0.14615974947716853\n",
      "Epoch 866 cost: 0.14275021559335982\n",
      "Epoch 867 cost: 0.14745245472490506\n",
      "Epoch 868 cost: 0.14598546370548798\n",
      "Epoch 869 cost: 0.14420298644379048\n",
      "Epoch 870 cost: 0.14400157366327754\n"
     ]
    },
    {
     "name": "stdout",
     "output_type": "stream",
     "text": [
      "Epoch 871 cost: 0.14667846680244256\n",
      "Epoch 872 cost: 0.14603335496892578\n",
      "Epoch 873 cost: 0.14348950873056396\n",
      "Epoch 874 cost: 0.14080077808672067\n",
      "Epoch 875 cost: 0.14542330474116644\n",
      "Epoch 876 cost: 0.1440583654418794\n",
      "Epoch 877 cost: 0.14449096971260655\n",
      "Epoch 878 cost: 0.14620473739070217\n",
      "Epoch 879 cost: 0.14761347508872683\n",
      "Epoch 880 cost: 0.14909503023689835\n"
     ]
    },
    {
     "name": "stdout",
     "output_type": "stream",
     "text": [
      "Epoch 881 cost: 0.14121453836892128\n",
      "Epoch 882 cost: 0.13989750234678483\n",
      "Epoch 883 cost: 0.14059878811245222\n",
      "Epoch 884 cost: 0.14335998141223058\n",
      "Epoch 885 cost: 0.1415689714115384\n",
      "Epoch 886 cost: 0.1417916288649414\n",
      "Epoch 887 cost: 0.15082316565167245\n",
      "Epoch 888 cost: 0.14797075025479658\n",
      "Epoch 889 cost: 0.1438366898569365\n",
      "Epoch 890 cost: 0.14487803018797366\n"
     ]
    },
    {
     "name": "stdout",
     "output_type": "stream",
     "text": [
      "Epoch 891 cost: 0.15386774948088444\n",
      "Epoch 892 cost: 0.1464340973798251\n",
      "Epoch 893 cost: 0.13880230802917187\n",
      "Epoch 894 cost: 0.1410217186251578\n",
      "Epoch 895 cost: 0.14780798614513838\n",
      "Epoch 896 cost: 0.14509218371474109\n",
      "Epoch 897 cost: 0.14204610144172086\n",
      "Epoch 898 cost: 0.15183959077769363\n",
      "Epoch 899 cost: 0.14396976835857853\n",
      "Epoch 900 cost: 0.1423679734776247\n"
     ]
    },
    {
     "name": "stdout",
     "output_type": "stream",
     "text": [
      "Epoch 901 cost: 0.14180929967589467\n",
      "Epoch 902 cost: 0.13730650532838495\n",
      "Epoch 903 cost: 0.14674765430312034\n",
      "Epoch 904 cost: 0.1563659663595999\n",
      "Epoch 905 cost: 0.15415742386545375\n",
      "Epoch 906 cost: 0.1416237225457726\n",
      "Epoch 907 cost: 0.13887802368221427\n",
      "Epoch 908 cost: 0.13937869666386943\n",
      "Epoch 909 cost: 0.1392552326336353\n",
      "Epoch 910 cost: 0.1522178519523423\n"
     ]
    },
    {
     "name": "stdout",
     "output_type": "stream",
     "text": [
      "Epoch 911 cost: 0.14215692522731174\n",
      "Epoch 912 cost: 0.14627337515034294\n",
      "Epoch 913 cost: 0.1481697295371561\n",
      "Epoch 914 cost: 0.13541914270168323\n",
      "Epoch 915 cost: 0.14080157038256827\n",
      "Epoch 916 cost: 0.14334749534260963\n",
      "Epoch 917 cost: 0.14936745276526897\n",
      "Epoch 918 cost: 0.14988428242980026\n",
      "Epoch 919 cost: 0.13892181410448107\n",
      "Epoch 920 cost: 0.14061342246119402\n"
     ]
    },
    {
     "name": "stdout",
     "output_type": "stream",
     "text": [
      "Epoch 921 cost: 0.14871404726660026\n",
      "Epoch 922 cost: 0.14188957210673886\n",
      "Epoch 923 cost: 0.1401611679432012\n",
      "Epoch 924 cost: 0.1404497916466054\n",
      "Epoch 925 cost: 0.13944210642318225\n",
      "Epoch 926 cost: 0.1392678343950621\n",
      "Epoch 927 cost: 0.13348217833756687\n",
      "Epoch 928 cost: 0.1450432695825558\n",
      "Epoch 929 cost: 0.13533226083567593\n",
      "Epoch 930 cost: 0.13593316210137432\n"
     ]
    },
    {
     "name": "stdout",
     "output_type": "stream",
     "text": [
      "Epoch 931 cost: 0.1384302274780899\n",
      "Epoch 932 cost: 0.13268749966531354\n",
      "Epoch 933 cost: 0.13969902666475723\n",
      "Epoch 934 cost: 0.13619401865227362\n",
      "Epoch 935 cost: 0.14527130412044745\n",
      "Epoch 936 cost: 0.13694225892741996\n",
      "Epoch 937 cost: 0.1387373567542574\n",
      "Epoch 938 cost: 0.15506309600770593\n",
      "Epoch 939 cost: 0.14247319542222175\n",
      "Epoch 940 cost: 0.13426303348533875\n"
     ]
    },
    {
     "name": "stdout",
     "output_type": "stream",
     "text": [
      "Epoch 941 cost: 0.13652835158386323\n",
      "Epoch 942 cost: 0.1402471266386644\n",
      "Epoch 943 cost: 0.13490376712228075\n",
      "Epoch 944 cost: 0.13452261092356296\n",
      "Epoch 945 cost: 0.13334982158822717\n",
      "Epoch 946 cost: 0.1301163567056831\n",
      "Epoch 947 cost: 0.14601539349911688\n",
      "Epoch 948 cost: 0.14054211668140584\n",
      "Epoch 949 cost: 0.13910213037246727\n",
      "Epoch 950 cost: 0.1300066633637716\n"
     ]
    },
    {
     "name": "stdout",
     "output_type": "stream",
     "text": [
      "Epoch 951 cost: 0.13245403802793973\n",
      "Epoch 952 cost: 0.13522701605170717\n",
      "Epoch 953 cost: 0.13769456918012465\n",
      "Epoch 954 cost: 0.13479798436883036\n",
      "Epoch 955 cost: 0.1329424039283375\n",
      "Epoch 956 cost: 0.1330148312209324\n",
      "Epoch 957 cost: 0.13092587350697923\n",
      "Epoch 958 cost: 0.1294610629283261\n",
      "Epoch 959 cost: 0.13364909741724806\n",
      "Epoch 960 cost: 0.13397564683781796\n"
     ]
    },
    {
     "name": "stdout",
     "output_type": "stream",
     "text": [
      "Epoch 961 cost: 0.13413302459548213\n",
      "Epoch 962 cost: 0.13349123245737715\n",
      "Epoch 963 cost: 0.13510202823902692\n",
      "Epoch 964 cost: 0.13461922346584607\n",
      "Epoch 965 cost: 0.13110937635530487\n",
      "Epoch 966 cost: 0.13121139946881774\n",
      "Epoch 967 cost: 0.13147221437194576\n",
      "Epoch 968 cost: 0.12974664675791758\n",
      "Epoch 969 cost: 0.1316768569585868\n",
      "Epoch 970 cost: 0.1273470311295294\n"
     ]
    },
    {
     "name": "stdout",
     "output_type": "stream",
     "text": [
      "Epoch 971 cost: 0.13834743628739743\n",
      "Epoch 972 cost: 0.13441912395409172\n",
      "Epoch 973 cost: 0.1342444093092735\n",
      "Epoch 974 cost: 0.1314212675138798\n",
      "Epoch 975 cost: 0.13568350625138859\n",
      "Epoch 976 cost: 0.14038035429296764\n",
      "Epoch 977 cost: 0.13267783573013678\n",
      "Epoch 978 cost: 0.13245631221825\n",
      "Epoch 979 cost: 0.13311605772118767\n",
      "Epoch 980 cost: 0.13472510396501047\n"
     ]
    },
    {
     "name": "stdout",
     "output_type": "stream",
     "text": [
      "Epoch 981 cost: 0.13709503389544594\n",
      "Epoch 982 cost: 0.13465093233548123\n",
      "Epoch 983 cost: 0.13152422216949158\n",
      "Epoch 984 cost: 0.12981415979522487\n",
      "Epoch 985 cost: 0.12870565440090503\n",
      "Epoch 986 cost: 0.13270308036092268\n",
      "Epoch 987 cost: 0.13102981729761629\n",
      "Epoch 988 cost: 0.13246528544551098\n",
      "Epoch 989 cost: 0.1315086865729404\n",
      "Epoch 990 cost: 0.12860144706422413\n"
     ]
    },
    {
     "name": "stdout",
     "output_type": "stream",
     "text": [
      "Epoch 991 cost: 0.12983904330835838\n",
      "Epoch 992 cost: 0.13233453647091856\n",
      "Epoch 993 cost: 0.14360187682753078\n",
      "Epoch 994 cost: 0.1386780326678744\n",
      "Epoch 995 cost: 0.14873956669448185\n",
      "Epoch 996 cost: 0.1288496493779386\n",
      "Epoch 997 cost: 0.13397736413395409\n",
      "Epoch 998 cost: 0.12949540094085304\n",
      "Epoch 999 cost: 0.13507856960979353\n",
      "Epoch 1000 cost: 0.12800589882947824\n"
     ]
    },
    {
     "name": "stdout",
     "output_type": "stream",
     "text": [
      "Epoch 1001 cost: 0.13123293514596987\n",
      "Epoch 1002 cost: 0.13121145224291741\n",
      "Epoch 1003 cost: 0.13115348179882177\n",
      "Epoch 1004 cost: 0.12823862435987043\n",
      "Epoch 1005 cost: 0.1397012672668916\n",
      "Epoch 1006 cost: 0.126445671272926\n",
      "Epoch 1007 cost: 0.13115858161368307\n",
      "Epoch 1008 cost: 0.13901500397684205\n",
      "Epoch 1009 cost: 0.13621868315682809\n",
      "Epoch 1010 cost: 0.12824057227127034\n"
     ]
    },
    {
     "name": "stdout",
     "output_type": "stream",
     "text": [
      "Epoch 1011 cost: 0.12764820951780337\n",
      "Epoch 1012 cost: 0.125229630184657\n",
      "Epoch 1013 cost: 0.12752492475821184\n",
      "Epoch 1014 cost: 0.13857882516885853\n",
      "Epoch 1015 cost: 0.12426131181636928\n",
      "Epoch 1016 cost: 0.12492266694843816\n",
      "Epoch 1017 cost: 0.12343904302884211\n",
      "Epoch 1018 cost: 0.12743273322452442\n",
      "Epoch 1019 cost: 0.13398893622376823\n",
      "Epoch 1020 cost: 0.13673948290361784\n"
     ]
    },
    {
     "name": "stdout",
     "output_type": "stream",
     "text": [
      "Epoch 1021 cost: 0.14446454087299934\n",
      "Epoch 1022 cost: 0.13129857449523982\n",
      "Epoch 1023 cost: 0.1280238296627252\n",
      "Epoch 1024 cost: 0.1325602975241962\n",
      "Epoch 1025 cost: 0.1226509496740779\n",
      "Epoch 1026 cost: 0.12427456213217118\n",
      "Epoch 1027 cost: 0.12662676035753032\n",
      "Epoch 1028 cost: 0.1263263599236093\n",
      "Epoch 1029 cost: 0.133621931287574\n",
      "Epoch 1030 cost: 0.12918507327549766\n"
     ]
    },
    {
     "name": "stdout",
     "output_type": "stream",
     "text": [
      "Epoch 1031 cost: 0.12431840471665474\n",
      "Epoch 1032 cost: 0.12511699461225356\n",
      "Epoch 1033 cost: 0.12313797317662344\n",
      "Epoch 1034 cost: 0.13293102760716882\n",
      "Epoch 1035 cost: 0.13145727114670622\n",
      "Epoch 1036 cost: 0.13226466805750708\n",
      "Epoch 1037 cost: 0.13482707158004617\n",
      "Epoch 1038 cost: 0.1238574761134723\n",
      "Epoch 1039 cost: 0.12667803387009055\n",
      "Epoch 1040 cost: 0.14330910101605385\n"
     ]
    },
    {
     "name": "stdout",
     "output_type": "stream",
     "text": [
      "Epoch 1041 cost: 0.12943883542248866\n",
      "Epoch 1042 cost: 0.11646474628803957\n",
      "Epoch 1043 cost: 0.1202588465110796\n",
      "Epoch 1044 cost: 0.12640543150581382\n",
      "Epoch 1045 cost: 0.1326328759816711\n",
      "Epoch 1046 cost: 0.12234789125458265\n",
      "Epoch 1047 cost: 0.12166532181991611\n",
      "Epoch 1048 cost: 0.13051896538527255\n",
      "Epoch 1049 cost: 0.13015288623170745\n",
      "Epoch 1050 cost: 0.1209184382650352\n"
     ]
    },
    {
     "name": "stdout",
     "output_type": "stream",
     "text": [
      "Epoch 1051 cost: 0.11949568672970659\n",
      "Epoch 1052 cost: 0.13506702289435665\n",
      "Epoch 1053 cost: 0.12297656208889453\n",
      "Epoch 1054 cost: 0.12736873627699785\n",
      "Epoch 1055 cost: 0.125919654382958\n",
      "Epoch 1056 cost: 0.12922306513045193\n",
      "Epoch 1057 cost: 0.12373561167977876\n",
      "Epoch 1058 cost: 0.1184209613223428\n",
      "Epoch 1059 cost: 0.1293989011569646\n",
      "Epoch 1060 cost: 0.12313768467232095\n"
     ]
    },
    {
     "name": "stdout",
     "output_type": "stream",
     "text": [
      "Epoch 1061 cost: 0.13320790159514947\n",
      "Epoch 1062 cost: 0.12170026319173521\n",
      "Epoch 1063 cost: 0.12291843808768306\n",
      "Epoch 1064 cost: 0.11903863590012186\n",
      "Epoch 1065 cost: 0.11958358638023361\n",
      "Epoch 1066 cost: 0.12170399486915744\n",
      "Epoch 1067 cost: 0.11981222209236439\n",
      "Epoch 1068 cost: 0.11871515625348471\n",
      "Epoch 1069 cost: 0.12423221603154025\n",
      "Epoch 1070 cost: 0.12178904243386297\n"
     ]
    },
    {
     "name": "stdout",
     "output_type": "stream",
     "text": [
      "Epoch 1071 cost: 0.12427967104660372\n",
      "Epoch 1072 cost: 0.12724127689762021\n",
      "Epoch 1073 cost: 0.1364599697984225\n",
      "Epoch 1074 cost: 0.1371175801141185\n",
      "Epoch 1075 cost: 0.124278997891162\n",
      "Epoch 1076 cost: 0.12531838774589485\n",
      "Epoch 1077 cost: 0.12990354067723506\n",
      "Epoch 1078 cost: 0.11891578874228256\n",
      "Epoch 1079 cost: 0.11824342185789197\n",
      "Epoch 1080 cost: 0.12466706770816006\n"
     ]
    },
    {
     "name": "stdout",
     "output_type": "stream",
     "text": [
      "Epoch 1081 cost: 0.12741425746865026\n",
      "Epoch 1082 cost: 0.1277163492152758\n",
      "Epoch 1083 cost: 0.1277556197359611\n",
      "Epoch 1084 cost: 0.12940994707027922\n",
      "Epoch 1085 cost: 0.12160239399071204\n",
      "Epoch 1086 cost: 0.11994178005656252\n",
      "Epoch 1087 cost: 0.12149047665474724\n",
      "Epoch 1088 cost: 0.123305843401822\n",
      "Epoch 1089 cost: 0.1315652441399849\n",
      "Epoch 1090 cost: 0.1245209224635492\n"
     ]
    },
    {
     "name": "stdout",
     "output_type": "stream",
     "text": [
      "Epoch 1091 cost: 0.1217115690360298\n",
      "Epoch 1092 cost: 0.1252899532288134\n",
      "Epoch 1093 cost: 0.12279006672999068\n",
      "Epoch 1094 cost: 0.1182791769341369\n",
      "Epoch 1095 cost: 0.1198329427396438\n",
      "Epoch 1096 cost: 0.12178349033200916\n",
      "Epoch 1097 cost: 0.1258108748165142\n",
      "Epoch 1098 cost: 0.12315010759142019\n",
      "Epoch 1099 cost: 0.12029503767817436\n",
      "Epoch 1100 cost: 0.12297376255149735\n"
     ]
    },
    {
     "name": "stdout",
     "output_type": "stream",
     "text": [
      "Epoch 1101 cost: 0.11649191216237673\n",
      "Epoch 1102 cost: 0.11838394107041329\n",
      "Epoch 1103 cost: 0.11610008313958374\n",
      "Epoch 1104 cost: 0.11892104034867093\n",
      "Epoch 1105 cost: 0.11626598780269666\n",
      "Epoch 1106 cost: 0.11928338327175217\n",
      "Epoch 1107 cost: 0.12635573301744848\n",
      "Epoch 1108 cost: 0.11909530691822111\n",
      "Epoch 1109 cost: 0.11661174023458477\n",
      "Epoch 1110 cost: 0.11828921144908626\n"
     ]
    },
    {
     "name": "stdout",
     "output_type": "stream",
     "text": [
      "Epoch 1111 cost: 0.11836349233096556\n",
      "Epoch 1112 cost: 0.11932903321808563\n",
      "Epoch 1113 cost: 0.11667839782384817\n",
      "Epoch 1114 cost: 0.1254290970483175\n",
      "Epoch 1115 cost: 0.1204757422915589\n",
      "Epoch 1116 cost: 0.11559319443498396\n",
      "Epoch 1117 cost: 0.11866577467071436\n",
      "Epoch 1118 cost: 0.1173090571816041\n",
      "Epoch 1119 cost: 0.11482107050032778\n",
      "Epoch 1120 cost: 0.11720401047830041\n"
     ]
    },
    {
     "name": "stdout",
     "output_type": "stream",
     "text": [
      "Epoch 1121 cost: 0.11797838723306028\n",
      "Epoch 1122 cost: 0.1166174429843048\n",
      "Epoch 1123 cost: 0.11260072219748607\n",
      "Epoch 1124 cost: 0.11675673256268973\n",
      "Epoch 1125 cost: 0.11552233856020457\n",
      "Epoch 1126 cost: 0.125897245469267\n",
      "Epoch 1127 cost: 0.11945474759088498\n",
      "Epoch 1128 cost: 0.11927563226958676\n",
      "Epoch 1129 cost: 0.1156298931807069\n",
      "Epoch 1130 cost: 0.11525344595630442\n"
     ]
    },
    {
     "name": "stdout",
     "output_type": "stream",
     "text": [
      "Epoch 1131 cost: 0.11380390032013898\n",
      "Epoch 1132 cost: 0.11472268041448315\n",
      "Epoch 1133 cost: 0.1415681352107416\n",
      "Epoch 1134 cost: 0.1110684233686046\n",
      "Epoch 1135 cost: 0.12238452834207096\n",
      "Epoch 1136 cost: 0.12030355050935468\n",
      "Epoch 1137 cost: 0.11924341302388293\n",
      "Epoch 1138 cost: 0.11611165797017696\n",
      "Epoch 1139 cost: 0.11162506639970148\n",
      "Epoch 1140 cost: 0.10970440834577604\n"
     ]
    },
    {
     "name": "stdout",
     "output_type": "stream",
     "text": [
      "Epoch 1141 cost: 0.11581602946121615\n",
      "Epoch 1142 cost: 0.11269038271454673\n",
      "Epoch 1143 cost: 0.12548504585672854\n",
      "Epoch 1144 cost: 0.11543131456625114\n",
      "Epoch 1145 cost: 0.11500218391656074\n",
      "Epoch 1146 cost: 0.1106943552245372\n",
      "Epoch 1147 cost: 0.1164492891568348\n",
      "Epoch 1148 cost: 0.1157066101871779\n",
      "Epoch 1149 cost: 0.11101468387944487\n",
      "Epoch 1150 cost: 0.11128290212098885\n"
     ]
    },
    {
     "name": "stdout",
     "output_type": "stream",
     "text": [
      "Epoch 1151 cost: 0.11061677006868541\n",
      "Epoch 1152 cost: 0.11584164739661305\n",
      "Epoch 1153 cost: 0.11779736183750797\n",
      "Epoch 1154 cost: 0.11357703208640532\n",
      "Epoch 1155 cost: 0.11211069517908924\n",
      "Epoch 1156 cost: 0.11525590742682733\n",
      "Epoch 1157 cost: 0.1159306828233588\n",
      "Epoch 1158 cost: 0.11230910834306815\n",
      "Epoch 1159 cost: 0.11012621983325498\n",
      "Epoch 1160 cost: 0.11252316178926712\n"
     ]
    },
    {
     "name": "stdout",
     "output_type": "stream",
     "text": [
      "Epoch 1161 cost: 0.1204288992005171\n",
      "Epoch 1162 cost: 0.11266345718417835\n",
      "Epoch 1163 cost: 0.11211064340759697\n",
      "Epoch 1164 cost: 0.11356915127734858\n",
      "Epoch 1165 cost: 0.1173575113527036\n",
      "Epoch 1166 cost: 0.11977915100041422\n",
      "Epoch 1167 cost: 0.11715015171938824\n",
      "Epoch 1168 cost: 0.120761737191665\n",
      "Epoch 1169 cost: 0.12058201369619323\n",
      "Epoch 1170 cost: 0.11158094847884766\n"
     ]
    },
    {
     "name": "stdout",
     "output_type": "stream",
     "text": [
      "Epoch 1171 cost: 0.12178810873269517\n",
      "Epoch 1172 cost: 0.11660720453516417\n",
      "Epoch 1173 cost: 0.11332660520023426\n",
      "Epoch 1174 cost: 0.12029260857645081\n",
      "Epoch 1175 cost: 0.11873179663262576\n",
      "Epoch 1176 cost: 0.11556164663006598\n",
      "Epoch 1177 cost: 0.11740242980769586\n",
      "Epoch 1178 cost: 0.1208988539234217\n",
      "Epoch 1179 cost: 0.12118484653563329\n",
      "Epoch 1180 cost: 0.11505681468817668\n"
     ]
    },
    {
     "name": "stdout",
     "output_type": "stream",
     "text": [
      "Epoch 1181 cost: 0.1248170459649512\n",
      "Epoch 1182 cost: 0.1128230869486558\n",
      "Epoch 1183 cost: 0.11779707186982401\n",
      "Epoch 1184 cost: 0.11555994233055736\n",
      "Epoch 1185 cost: 0.11933296678131212\n",
      "Epoch 1186 cost: 0.11209028152808725\n",
      "Epoch 1187 cost: 0.12477059993179124\n",
      "Epoch 1188 cost: 0.1104102759723196\n",
      "Epoch 1189 cost: 0.1120150261822432\n",
      "Epoch 1190 cost: 0.1101154766155159\n"
     ]
    },
    {
     "name": "stdout",
     "output_type": "stream",
     "text": [
      "Epoch 1191 cost: 0.10861040155885875\n",
      "Epoch 1192 cost: 0.12635691697111495\n",
      "Epoch 1193 cost: 0.11885968734755124\n",
      "Epoch 1194 cost: 0.11415926000466187\n",
      "Epoch 1195 cost: 0.11484926067003967\n",
      "Epoch 1196 cost: 0.10863843561777162\n",
      "Epoch 1197 cost: 0.11785817512345352\n",
      "Epoch 1198 cost: 0.11976693684579869\n",
      "Epoch 1199 cost: 0.11379372199577914\n",
      "Epoch 1200 cost: 0.11213561929201547\n"
     ]
    },
    {
     "name": "stdout",
     "output_type": "stream",
     "text": [
      "Epoch 1201 cost: 0.11631865811134348\n",
      "Epoch 1202 cost: 0.11062925953715906\n",
      "Epoch 1203 cost: 0.10864735509497447\n",
      "Epoch 1204 cost: 0.11171618131647024\n",
      "Epoch 1205 cost: 0.10766711750408327\n",
      "Epoch 1206 cost: 0.1178828045332411\n",
      "Epoch 1207 cost: 0.10596254490152947\n",
      "Epoch 1208 cost: 0.11810602214066872\n",
      "Epoch 1209 cost: 0.11388189547277419\n",
      "Epoch 1210 cost: 0.10928121056118759\n"
     ]
    },
    {
     "name": "stdout",
     "output_type": "stream",
     "text": [
      "Epoch 1211 cost: 0.11347746011513705\n",
      "Epoch 1212 cost: 0.1134232436786221\n",
      "Epoch 1213 cost: 0.1064175471095724\n",
      "Epoch 1214 cost: 0.10711486561485604\n",
      "Epoch 1215 cost: 0.10670690683890957\n",
      "Epoch 1216 cost: 0.11411718554854546\n",
      "Epoch 1217 cost: 0.103017206634387\n",
      "Epoch 1218 cost: 0.1116043187685641\n",
      "Epoch 1219 cost: 0.1137175599025301\n",
      "Epoch 1220 cost: 0.1214505480254387\n"
     ]
    },
    {
     "name": "stdout",
     "output_type": "stream",
     "text": [
      "Epoch 1221 cost: 0.11664934674967026\n",
      "Epoch 1222 cost: 0.11168487572843673\n",
      "Epoch 1223 cost: 0.10963399789824776\n",
      "Epoch 1224 cost: 0.11713434814987984\n",
      "Epoch 1225 cost: 0.1161090130678421\n",
      "Epoch 1226 cost: 0.10502419435528026\n",
      "Epoch 1227 cost: 0.11044177387798437\n",
      "Epoch 1228 cost: 0.11394031848546313\n",
      "Epoch 1229 cost: 0.11659020749452013\n",
      "Epoch 1230 cost: 0.11212493064458125\n"
     ]
    },
    {
     "name": "stdout",
     "output_type": "stream",
     "text": [
      "Epoch 1231 cost: 0.10975148239878423\n",
      "Epoch 1232 cost: 0.11028873361011643\n",
      "Epoch 1233 cost: 0.12104623301586397\n",
      "Epoch 1234 cost: 0.1083515695967671\n",
      "Epoch 1235 cost: 0.10432835058579713\n",
      "Epoch 1236 cost: 0.10942971404901751\n",
      "Epoch 1237 cost: 0.11726974630406749\n",
      "Epoch 1238 cost: 0.10853091453624021\n",
      "Epoch 1239 cost: 0.11034775590203745\n",
      "Epoch 1240 cost: 0.11505677322745628\n"
     ]
    },
    {
     "name": "stdout",
     "output_type": "stream",
     "text": [
      "Epoch 1241 cost: 0.11557652450631951\n",
      "Epoch 1242 cost: 0.10967843368099499\n",
      "Epoch 1243 cost: 0.10907463900630457\n",
      "Epoch 1244 cost: 0.10945079217848577\n",
      "Epoch 1245 cost: 0.10959106742154562\n",
      "Epoch 1246 cost: 0.11389699132037599\n",
      "Epoch 1247 cost: 0.10439565592018638\n",
      "Epoch 1248 cost: 0.10513333068622077\n",
      "Epoch 1249 cost: 0.10445513325540953\n",
      "Epoch 1250 cost: 0.1072047562919498\n"
     ]
    },
    {
     "name": "stdout",
     "output_type": "stream",
     "text": [
      "Epoch 1251 cost: 0.1108917730201752\n",
      "Epoch 1252 cost: 0.10733327691886589\n",
      "Epoch 1253 cost: 0.1043539556042358\n",
      "Epoch 1254 cost: 0.10383943618586407\n",
      "Epoch 1255 cost: 0.1066832483654177\n",
      "Epoch 1256 cost: 0.10901179821172764\n",
      "Epoch 1257 cost: 0.11364969601024115\n",
      "Epoch 1258 cost: 0.11487446913012551\n",
      "Epoch 1259 cost: 0.1064492673234395\n",
      "Epoch 1260 cost: 0.11740509748318605\n"
     ]
    },
    {
     "name": "stdout",
     "output_type": "stream",
     "text": [
      "Epoch 1261 cost: 0.11566786373159135\n",
      "Epoch 1262 cost: 0.1044872727940666\n",
      "Epoch 1263 cost: 0.10329964309157037\n",
      "Epoch 1264 cost: 0.11285469328723274\n",
      "Epoch 1265 cost: 0.10226240205936302\n",
      "Epoch 1266 cost: 0.10933917488831477\n",
      "Epoch 1267 cost: 0.10233934420805316\n",
      "Epoch 1268 cost: 0.10560219356871832\n",
      "Epoch 1269 cost: 0.11008147204432102\n",
      "Epoch 1270 cost: 0.10425129689119503\n"
     ]
    },
    {
     "name": "stdout",
     "output_type": "stream",
     "text": [
      "Epoch 1271 cost: 0.10157729174271919\n",
      "Epoch 1272 cost: 0.12743666248583024\n",
      "Epoch 1273 cost: 0.1106664112948003\n",
      "Epoch 1274 cost: 0.10462079022679029\n",
      "Epoch 1275 cost: 0.12058453880560795\n",
      "Epoch 1276 cost: 0.09939457879422416\n",
      "Epoch 1277 cost: 0.1101841672844604\n",
      "Epoch 1278 cost: 0.10146143077649353\n",
      "Epoch 1279 cost: 0.10389442261156788\n",
      "Epoch 1280 cost: 0.10753406184097676\n"
     ]
    },
    {
     "name": "stdout",
     "output_type": "stream",
     "text": [
      "Epoch 1281 cost: 0.10536679455707096\n",
      "Epoch 1282 cost: 0.10336069853851583\n",
      "Epoch 1283 cost: 0.10101491766427141\n",
      "Epoch 1284 cost: 0.10437077399042063\n",
      "Epoch 1285 cost: 0.10370426933321285\n",
      "Epoch 1286 cost: 0.10682226115429873\n",
      "Epoch 1287 cost: 0.11716440732323265\n",
      "Epoch 1288 cost: 0.10207362336273668\n",
      "Epoch 1289 cost: 0.10613887133756958\n",
      "Epoch 1290 cost: 0.10208360696450765\n"
     ]
    },
    {
     "name": "stdout",
     "output_type": "stream",
     "text": [
      "Epoch 1291 cost: 0.09717382188175856\n",
      "Epoch 1292 cost: 0.09888556297602304\n",
      "Epoch 1293 cost: 0.11014762055605569\n",
      "Epoch 1294 cost: 0.11259453861451521\n",
      "Epoch 1295 cost: 0.11122837917116782\n",
      "Epoch 1296 cost: 0.10013587430680641\n",
      "Epoch 1297 cost: 0.10048599864501745\n",
      "Epoch 1298 cost: 0.10072292406289206\n",
      "Epoch 1299 cost: 0.09949696936760623\n",
      "Epoch 1300 cost: 0.11045919699211251\n"
     ]
    },
    {
     "name": "stdout",
     "output_type": "stream",
     "text": [
      "Epoch 1301 cost: 0.10551261229032458\n",
      "Epoch 1302 cost: 0.10988786475605393\n",
      "Epoch 1303 cost: 0.10380419039893835\n",
      "Epoch 1304 cost: 0.09687440764255063\n",
      "Epoch 1305 cost: 0.10026470203535962\n",
      "Epoch 1306 cost: 0.10647168241346247\n",
      "Epoch 1307 cost: 0.0995128854474856\n",
      "Epoch 1308 cost: 0.09905545272630872\n",
      "Epoch 1309 cost: 0.10246978493708353\n",
      "Epoch 1310 cost: 0.09710436999732665\n"
     ]
    },
    {
     "name": "stdout",
     "output_type": "stream",
     "text": [
      "Epoch 1311 cost: 0.1005714772476282\n",
      "Epoch 1312 cost: 0.10401866178127929\n",
      "Epoch 1313 cost: 0.09881288470370418\n",
      "Epoch 1314 cost: 0.11117967544926112\n",
      "Epoch 1315 cost: 0.11632135386500538\n",
      "Epoch 1316 cost: 0.09729004470084754\n",
      "Epoch 1317 cost: 0.10677570732705935\n",
      "Epoch 1318 cost: 0.10798426349151932\n",
      "Epoch 1319 cost: 0.10973084771041929\n",
      "Epoch 1320 cost: 0.1081332615532378\n"
     ]
    },
    {
     "name": "stdout",
     "output_type": "stream",
     "text": [
      "Epoch 1321 cost: 0.10502531795597167\n",
      "Epoch 1322 cost: 0.11410117067673607\n",
      "Epoch 1323 cost: 0.10255725977543828\n",
      "Epoch 1324 cost: 0.10777804666814968\n",
      "Epoch 1325 cost: 0.09903520811555674\n",
      "Epoch 1326 cost: 0.09642007777574332\n",
      "Epoch 1327 cost: 0.10739089525179771\n",
      "Epoch 1328 cost: 0.10510835359499886\n",
      "Epoch 1329 cost: 0.0970890443426527\n",
      "Epoch 1330 cost: 0.09708617827532763\n"
     ]
    },
    {
     "name": "stdout",
     "output_type": "stream",
     "text": [
      "Epoch 1331 cost: 0.09297136989809583\n",
      "Epoch 1332 cost: 0.09820676686279743\n",
      "Epoch 1333 cost: 0.10239183413427995\n",
      "Epoch 1334 cost: 0.10276642556263946\n",
      "Epoch 1335 cost: 0.09291276646097714\n",
      "Epoch 1336 cost: 0.09190986376110404\n",
      "Epoch 1337 cost: 0.10152664866456677\n",
      "Epoch 1338 cost: 0.0918619770169333\n",
      "Epoch 1339 cost: 0.09238374739008239\n",
      "Epoch 1340 cost: 0.10391515781273034\n"
     ]
    },
    {
     "name": "stdout",
     "output_type": "stream",
     "text": [
      "Epoch 1341 cost: 0.09441905063162097\n",
      "Epoch 1342 cost: 0.09754332754442704\n",
      "Epoch 1343 cost: 0.1159607957611272\n",
      "Epoch 1344 cost: 0.11133587791621918\n",
      "Epoch 1345 cost: 0.10302593579615019\n",
      "Epoch 1346 cost: 0.10040387339614093\n",
      "Epoch 1347 cost: 0.09547737437904016\n",
      "Epoch 1348 cost: 0.10051739314853739\n",
      "Epoch 1349 cost: 0.09487825883497551\n",
      "Epoch 1350 cost: 0.09782836467601178\n"
     ]
    },
    {
     "name": "stdout",
     "output_type": "stream",
     "text": [
      "Epoch 1351 cost: 0.09457084739296236\n",
      "Epoch 1352 cost: 0.0976873514270832\n",
      "Epoch 1353 cost: 0.09978124360503052\n",
      "Epoch 1354 cost: 0.10083139204426163\n",
      "Epoch 1355 cost: 0.11358585339750357\n",
      "Epoch 1356 cost: 0.09881636692473891\n",
      "Epoch 1357 cost: 0.10242809562233512\n",
      "Epoch 1358 cost: 0.10308640979539897\n",
      "Epoch 1359 cost: 0.10896568980787437\n",
      "Epoch 1360 cost: 0.09483905424617803\n"
     ]
    },
    {
     "name": "stdout",
     "output_type": "stream",
     "text": [
      "Epoch 1361 cost: 0.09574451026621711\n",
      "Epoch 1362 cost: 0.09343638040227421\n",
      "Epoch 1363 cost: 0.09916698718329635\n",
      "Epoch 1364 cost: 0.0976661002896713\n",
      "Epoch 1365 cost: 0.09853783629471202\n",
      "Epoch 1366 cost: 0.0983203475031494\n",
      "Epoch 1367 cost: 0.09369858803442783\n",
      "Epoch 1368 cost: 0.10320197336959219\n",
      "Epoch 1369 cost: 0.10296997468822072\n",
      "Epoch 1370 cost: 0.11551122003740358\n"
     ]
    },
    {
     "name": "stdout",
     "output_type": "stream",
     "text": [
      "Epoch 1371 cost: 0.09241162652950924\n",
      "Epoch 1372 cost: 0.10045051461971864\n",
      "Epoch 1373 cost: 0.1047452292209813\n",
      "Epoch 1374 cost: 0.09867113271972809\n",
      "Epoch 1375 cost: 0.09503947098887082\n",
      "Epoch 1376 cost: 0.09180081140140602\n",
      "Epoch 1377 cost: 0.1102646715698756\n",
      "Epoch 1378 cost: 0.09527351391456365\n",
      "Epoch 1379 cost: 0.10202816755269371\n",
      "Epoch 1380 cost: 0.10883237000412352\n"
     ]
    },
    {
     "name": "stdout",
     "output_type": "stream",
     "text": [
      "Epoch 1381 cost: 0.09476581061182893\n",
      "Epoch 1382 cost: 0.10043061934361792\n",
      "Epoch 1383 cost: 0.10984889626624066\n",
      "Epoch 1384 cost: 0.09392570163699868\n",
      "Epoch 1385 cost: 0.09603579562301458\n",
      "Epoch 1386 cost: 0.1130735294803356\n",
      "Epoch 1387 cost: 0.11118825707625574\n",
      "Epoch 1388 cost: 0.10268665060326564\n",
      "Epoch 1389 cost: 0.08986979690875627\n",
      "Epoch 1390 cost: 0.09486418509012884\n"
     ]
    },
    {
     "name": "stdout",
     "output_type": "stream",
     "text": [
      "Epoch 1391 cost: 0.10063073667763617\n",
      "Epoch 1392 cost: 0.10459236274818316\n",
      "Epoch 1393 cost: 0.09727448901151223\n",
      "Epoch 1394 cost: 0.10247671438885002\n",
      "Epoch 1395 cost: 0.092997907442495\n",
      "Epoch 1396 cost: 0.09469948394502478\n",
      "Epoch 1397 cost: 0.09283866464798032\n",
      "Epoch 1398 cost: 0.0919792706666864\n",
      "Epoch 1399 cost: 0.09334257139028698\n",
      "Epoch 1400 cost: 0.10137792902909809\n"
     ]
    },
    {
     "name": "stdout",
     "output_type": "stream",
     "text": [
      "Epoch 1401 cost: 0.0924355163377548\n",
      "Epoch 1402 cost: 0.09106046975277017\n",
      "Epoch 1403 cost: 0.09323460940897009\n",
      "Epoch 1404 cost: 0.09693393792530491\n",
      "Epoch 1405 cost: 0.0933716577841091\n",
      "Epoch 1406 cost: 0.10523458429101203\n",
      "Epoch 1407 cost: 0.09632170131260437\n",
      "Epoch 1408 cost: 0.09802965196800176\n",
      "Epoch 1409 cost: 0.09216542691755351\n",
      "Epoch 1410 cost: 0.09861495849933348\n"
     ]
    },
    {
     "name": "stdout",
     "output_type": "stream",
     "text": [
      "Epoch 1411 cost: 0.09440879454443425\n",
      "Epoch 1412 cost: 0.09652360329440034\n",
      "Epoch 1413 cost: 0.08917111133057719\n",
      "Epoch 1414 cost: 0.09151439136808306\n",
      "Epoch 1415 cost: 0.09151527697955014\n",
      "Epoch 1416 cost: 0.08835340287095632\n",
      "Epoch 1417 cost: 0.09392560028769201\n",
      "Epoch 1418 cost: 0.09333779020742396\n",
      "Epoch 1419 cost: 0.10164551220388425\n",
      "Epoch 1420 cost: 0.09026898245749812\n"
     ]
    },
    {
     "name": "stdout",
     "output_type": "stream",
     "text": [
      "Epoch 1421 cost: 0.08694735428940113\n",
      "Epoch 1422 cost: 0.09448735659921122\n",
      "Epoch 1423 cost: 0.09959922473870958\n",
      "Epoch 1424 cost: 0.10178703472144417\n",
      "Epoch 1425 cost: 0.09705568842138003\n",
      "Epoch 1426 cost: 0.0901435293461093\n",
      "Epoch 1427 cost: 0.08821699240692646\n",
      "Epoch 1428 cost: 0.08843057828363168\n",
      "Epoch 1429 cost: 0.0916465925197094\n",
      "Epoch 1430 cost: 0.10052295503523231\n"
     ]
    },
    {
     "name": "stdout",
     "output_type": "stream",
     "text": [
      "Epoch 1431 cost: 0.08654426456674906\n",
      "Epoch 1432 cost: 0.09116371122740395\n",
      "Epoch 1433 cost: 0.09724915067567534\n",
      "Epoch 1434 cost: 0.10562536318244538\n",
      "Epoch 1435 cost: 0.0983823222572039\n",
      "Epoch 1436 cost: 0.09312825064768891\n",
      "Epoch 1437 cost: 0.08629370520115102\n",
      "Epoch 1438 cost: 0.08951997745308267\n",
      "Epoch 1439 cost: 0.08810763143442846\n",
      "Epoch 1440 cost: 0.08757920639682579\n"
     ]
    },
    {
     "name": "stdout",
     "output_type": "stream",
     "text": [
      "Epoch 1441 cost: 0.08591464844312768\n",
      "Epoch 1442 cost: 0.0930603587772103\n",
      "Epoch 1443 cost: 0.09948465593120828\n",
      "Epoch 1444 cost: 0.10091507768286843\n",
      "Epoch 1445 cost: 0.0988586853058863\n",
      "Epoch 1446 cost: 0.09171541745593233\n",
      "Epoch 1447 cost: 0.09345065194754318\n",
      "Epoch 1448 cost: 0.09602537502967644\n",
      "Epoch 1449 cost: 0.0948001437806898\n",
      "Epoch 1450 cost: 0.0978461778120646\n"
     ]
    },
    {
     "name": "stdout",
     "output_type": "stream",
     "text": [
      "Epoch 1451 cost: 0.09153275348895215\n",
      "Epoch 1452 cost: 0.10285957191228132\n",
      "Epoch 1453 cost: 0.08584004094681155\n",
      "Epoch 1454 cost: 0.08429128384241591\n",
      "Epoch 1455 cost: 0.08573074642812357\n",
      "Epoch 1456 cost: 0.09249152519715927\n",
      "Epoch 1457 cost: 0.09435809094730145\n",
      "Epoch 1458 cost: 0.10536036620059566\n",
      "Epoch 1459 cost: 0.09672499315902305\n",
      "Epoch 1460 cost: 0.10301511388344262\n"
     ]
    },
    {
     "name": "stdout",
     "output_type": "stream",
     "text": [
      "Epoch 1461 cost: 0.08629048806262449\n",
      "Epoch 1462 cost: 0.10427742929999792\n",
      "Epoch 1463 cost: 0.09328186865474739\n",
      "Epoch 1464 cost: 0.09733867872287554\n",
      "Epoch 1465 cost: 0.10076717215799981\n",
      "Epoch 1466 cost: 0.10314684733672905\n",
      "Epoch 1467 cost: 0.09986543945560794\n",
      "Epoch 1468 cost: 0.09351069852803438\n",
      "Epoch 1469 cost: 0.08833721113776768\n",
      "Epoch 1470 cost: 0.10385434155419569\n"
     ]
    },
    {
     "name": "stdout",
     "output_type": "stream",
     "text": [
      "Epoch 1471 cost: 0.10072793546003475\n",
      "Epoch 1472 cost: 0.08552153419482991\n",
      "Epoch 1473 cost: 0.08858967017168588\n",
      "Epoch 1474 cost: 0.0901325490559787\n",
      "Epoch 1475 cost: 0.0955821541831384\n",
      "Epoch 1476 cost: 0.09547833755745454\n",
      "Epoch 1477 cost: 0.0929344990239943\n",
      "Epoch 1478 cost: 0.08622200774057374\n",
      "Epoch 1479 cost: 0.08368039831206103\n",
      "Epoch 1480 cost: 0.09364734068031678\n"
     ]
    },
    {
     "name": "stdout",
     "output_type": "stream",
     "text": [
      "Epoch 1481 cost: 0.09439142517230457\n",
      "Epoch 1482 cost: 0.09324070005836853\n",
      "Epoch 1483 cost: 0.09005874113667996\n",
      "Epoch 1484 cost: 0.09494851293543927\n",
      "Epoch 1485 cost: 0.08654594436754576\n",
      "Epoch 1486 cost: 0.0976179215391264\n",
      "Epoch 1487 cost: 0.093807224132497\n",
      "Epoch 1488 cost: 0.08571388087695521\n",
      "Epoch 1489 cost: 0.09229363956003787\n",
      "Epoch 1490 cost: 0.08515416293408658\n"
     ]
    },
    {
     "name": "stdout",
     "output_type": "stream",
     "text": [
      "Epoch 1491 cost: 0.08993034325408575\n",
      "Epoch 1492 cost: 0.0898131148319101\n",
      "Epoch 1493 cost: 0.0837427144505068\n",
      "Epoch 1494 cost: 0.09426348958271054\n",
      "Epoch 1495 cost: 0.09187151776395316\n",
      "Epoch 1496 cost: 0.10149015013431426\n",
      "Epoch 1497 cost: 0.09567548978772279\n",
      "Epoch 1498 cost: 0.08530229762172166\n",
      "Epoch 1499 cost: 0.08586344279821718\n",
      "Epoch 1500 cost: 0.08249287763911323\n"
     ]
    },
    {
     "name": "stdout",
     "output_type": "stream",
     "text": [
      "Epoch 1501 cost: 0.08459459024108354\n",
      "Epoch 1502 cost: 0.09206884605468924\n",
      "Epoch 1503 cost: 0.10049096289524766\n",
      "Epoch 1504 cost: 0.08535407265560632\n",
      "Epoch 1505 cost: 0.08814627290350564\n",
      "Epoch 1506 cost: 0.08513867654677938\n",
      "Epoch 1507 cost: 0.08508760700106158\n",
      "Epoch 1508 cost: 0.08920153240049009\n",
      "Epoch 1509 cost: 0.08282145946486369\n",
      "Epoch 1510 cost: 0.09162110522110321\n"
     ]
    },
    {
     "name": "stdout",
     "output_type": "stream",
     "text": [
      "Epoch 1511 cost: 0.08354328127124402\n",
      "Epoch 1512 cost: 0.07789461313874625\n",
      "Epoch 1513 cost: 0.09044242671670205\n",
      "Epoch 1514 cost: 0.08446700231844936\n",
      "Epoch 1515 cost: 0.08645338436320493\n",
      "Epoch 1516 cost: 0.0968823176227516\n",
      "Epoch 1517 cost: 0.08998485532734796\n",
      "Epoch 1518 cost: 0.08470400465668336\n",
      "Epoch 1519 cost: 0.09475166032614084\n",
      "Epoch 1520 cost: 0.08148063168625222\n"
     ]
    },
    {
     "name": "stdout",
     "output_type": "stream",
     "text": [
      "Epoch 1521 cost: 0.08622603900474983\n",
      "Epoch 1522 cost: 0.08497897242542031\n",
      "Epoch 1523 cost: 0.0951272197903205\n",
      "Epoch 1524 cost: 0.0802805780573363\n",
      "Epoch 1525 cost: 0.09131221545879951\n",
      "Epoch 1526 cost: 0.09252637998463019\n",
      "Epoch 1527 cost: 0.08383741084778654\n",
      "Epoch 1528 cost: 0.08970819141937743\n",
      "Epoch 1529 cost: 0.08565422100255089\n",
      "Epoch 1530 cost: 0.08551286540503328\n"
     ]
    },
    {
     "name": "stdout",
     "output_type": "stream",
     "text": [
      "Epoch 1531 cost: 0.07853549970439697\n",
      "Epoch 1532 cost: 0.09782403963927738\n",
      "Epoch 1533 cost: 0.08468234443467228\n",
      "Epoch 1534 cost: 0.08701404872569198\n",
      "Epoch 1535 cost: 0.08428663587725925\n",
      "Epoch 1536 cost: 0.0962054612798387\n",
      "Epoch 1537 cost: 0.08063270665913527\n",
      "Epoch 1538 cost: 0.0861208879816449\n",
      "Epoch 1539 cost: 0.08039981748921463\n",
      "Epoch 1540 cost: 0.0867386537821353\n"
     ]
    },
    {
     "name": "stdout",
     "output_type": "stream",
     "text": [
      "Epoch 1541 cost: 0.08964105957467158\n",
      "Epoch 1542 cost: 0.08383001315676161\n",
      "Epoch 1543 cost: 0.07986566931721682\n",
      "Epoch 1544 cost: 0.08529089279624867\n",
      "Epoch 1545 cost: 0.0849528572274575\n",
      "Epoch 1546 cost: 0.08098278420934475\n",
      "Epoch 1547 cost: 0.08209621406266399\n",
      "Epoch 1548 cost: 0.08624514978186593\n",
      "Epoch 1549 cost: 0.08401839720864299\n",
      "Epoch 1550 cost: 0.08999491312125978\n"
     ]
    },
    {
     "name": "stdout",
     "output_type": "stream",
     "text": [
      "Epoch 1551 cost: 0.09263752374631312\n",
      "Epoch 1552 cost: 0.08694766953850638\n",
      "Epoch 1553 cost: 0.08675519937759606\n",
      "Epoch 1554 cost: 0.07824549440520975\n",
      "Epoch 1555 cost: 0.08068879383537968\n",
      "Epoch 1556 cost: 0.08301914515770767\n",
      "Epoch 1557 cost: 0.08357221319722201\n",
      "Epoch 1558 cost: 0.08285369488055179\n",
      "Epoch 1559 cost: 0.078136946015396\n",
      "Epoch 1560 cost: 0.09103399432405998\n"
     ]
    },
    {
     "name": "stdout",
     "output_type": "stream",
     "text": [
      "Epoch 1561 cost: 0.08290959068844644\n",
      "Epoch 1562 cost: 0.08138502617446663\n",
      "Epoch 1563 cost: 0.07910501721389028\n",
      "Epoch 1564 cost: 0.07942436948983932\n",
      "Epoch 1565 cost: 0.08395776764326404\n",
      "Epoch 1566 cost: 0.0939424441186299\n",
      "Epoch 1567 cost: 0.07721631293976014\n",
      "Epoch 1568 cost: 0.07345184345097372\n",
      "Epoch 1569 cost: 0.08496012908035083\n",
      "Epoch 1570 cost: 0.07849992425227797\n"
     ]
    },
    {
     "name": "stdout",
     "output_type": "stream",
     "text": [
      "Epoch 1571 cost: 0.07780856637874928\n",
      "Epoch 1572 cost: 0.07802356965753376\n",
      "Epoch 1573 cost: 0.09301175456170989\n",
      "Epoch 1574 cost: 0.08305965741459347\n",
      "Epoch 1575 cost: 0.08105377597185964\n",
      "Epoch 1576 cost: 0.0800936102955245\n",
      "Epoch 1577 cost: 0.08628902509642047\n",
      "Epoch 1578 cost: 0.08092773226010626\n",
      "Epoch 1579 cost: 0.08235826651568351\n",
      "Epoch 1580 cost: 0.07683099756783883\n"
     ]
    },
    {
     "name": "stdout",
     "output_type": "stream",
     "text": [
      "Epoch 1581 cost: 0.07373118459338229\n",
      "Epoch 1582 cost: 0.08077043297233917\n",
      "Epoch 1583 cost: 0.0810489337490461\n",
      "Epoch 1584 cost: 0.07755462921603799\n",
      "Epoch 1585 cost: 0.07994948469093255\n",
      "Epoch 1586 cost: 0.08604113149268015\n",
      "Epoch 1587 cost: 0.08163010399450377\n",
      "Epoch 1588 cost: 0.08768393854341902\n",
      "Epoch 1589 cost: 0.09195595869675564\n",
      "Epoch 1590 cost: 0.09399699737137408\n"
     ]
    },
    {
     "name": "stdout",
     "output_type": "stream",
     "text": [
      "Epoch 1591 cost: 0.08132851745754431\n",
      "Epoch 1592 cost: 0.08098257102741382\n",
      "Epoch 1593 cost: 0.08590169846173283\n",
      "Epoch 1594 cost: 0.0897975479346214\n",
      "Epoch 1595 cost: 0.07995609137808356\n",
      "Epoch 1596 cost: 0.09973305744630874\n",
      "Epoch 1597 cost: 0.07944402564669399\n",
      "Epoch 1598 cost: 0.08135998142634361\n",
      "Epoch 1599 cost: 0.07581340544132843\n",
      "Epoch 1600 cost: 0.07774584256796804\n"
     ]
    },
    {
     "name": "stdout",
     "output_type": "stream",
     "text": [
      "Epoch 1601 cost: 0.07608108793840497\n",
      "Epoch 1602 cost: 0.07961113120848094\n",
      "Epoch 1603 cost: 0.0820300836525081\n",
      "Epoch 1604 cost: 0.07557692379135965\n",
      "Epoch 1605 cost: 0.08813284033827326\n",
      "Epoch 1606 cost: 0.09251276785133969\n",
      "Epoch 1607 cost: 0.07946777138836249\n",
      "Epoch 1608 cost: 0.07324597180873489\n",
      "Epoch 1609 cost: 0.07685329211071006\n",
      "Epoch 1610 cost: 0.08294908747653358\n"
     ]
    },
    {
     "name": "stdout",
     "output_type": "stream",
     "text": [
      "Epoch 1611 cost: 0.080990270166452\n",
      "Epoch 1612 cost: 0.0823389174060028\n",
      "Epoch 1613 cost: 0.09777366629746795\n",
      "Epoch 1614 cost: 0.08502818586919532\n",
      "Epoch 1615 cost: 0.07186027441193978\n",
      "Epoch 1616 cost: 0.08055343009436781\n",
      "Epoch 1617 cost: 0.08751615199989045\n",
      "Epoch 1618 cost: 0.07752854974959808\n",
      "Epoch 1619 cost: 0.08510578417080077\n",
      "Epoch 1620 cost: 0.07379028185849944\n"
     ]
    },
    {
     "name": "stdout",
     "output_type": "stream",
     "text": [
      "Epoch 1621 cost: 0.0718415228955537\n",
      "Epoch 1622 cost: 0.07334912148454117\n",
      "Epoch 1623 cost: 0.07762832738485281\n",
      "Epoch 1624 cost: 0.08080353949219583\n",
      "Epoch 1625 cost: 0.08656598801451598\n",
      "Epoch 1626 cost: 0.07479345876034114\n",
      "Epoch 1627 cost: 0.07627979755858903\n",
      "Epoch 1628 cost: 0.08225971281865505\n",
      "Epoch 1629 cost: 0.08003863475419656\n",
      "Epoch 1630 cost: 0.07442242381673227\n"
     ]
    },
    {
     "name": "stdout",
     "output_type": "stream",
     "text": [
      "Epoch 1631 cost: 0.07641921963643283\n",
      "Epoch 1632 cost: 0.07275584666674748\n",
      "Epoch 1633 cost: 0.07828904699054068\n",
      "Epoch 1634 cost: 0.08384745690089032\n",
      "Epoch 1635 cost: 0.08395308148119487\n",
      "Epoch 1636 cost: 0.08324577828831461\n",
      "Epoch 1637 cost: 0.07393299406611895\n",
      "Epoch 1638 cost: 0.07506119934411468\n",
      "Epoch 1639 cost: 0.08120647254002386\n",
      "Epoch 1640 cost: 0.08099623918707796\n"
     ]
    },
    {
     "name": "stdout",
     "output_type": "stream",
     "text": [
      "Epoch 1641 cost: 0.08228064017389412\n",
      "Epoch 1642 cost: 0.07931443732390067\n",
      "Epoch 1643 cost: 0.07563364473708983\n",
      "Epoch 1644 cost: 0.08129150768385444\n",
      "Epoch 1645 cost: 0.07843063257398177\n",
      "Epoch 1646 cost: 0.08312158121264569\n",
      "Epoch 1647 cost: 0.0733645932242976\n",
      "Epoch 1648 cost: 0.07273370757480159\n",
      "Epoch 1649 cost: 0.0865209679041152\n",
      "Epoch 1650 cost: 0.08843708409358791\n"
     ]
    },
    {
     "name": "stdout",
     "output_type": "stream",
     "text": [
      "Epoch 1651 cost: 0.0872046195652942\n",
      "Epoch 1652 cost: 0.0775469063621864\n",
      "Epoch 1653 cost: 0.07263021679012671\n",
      "Epoch 1654 cost: 0.0856756751118994\n",
      "Epoch 1655 cost: 0.07826150123696878\n",
      "Epoch 1656 cost: 0.075868182865495\n",
      "Epoch 1657 cost: 0.07437455737283498\n",
      "Epoch 1658 cost: 0.07116183708357787\n",
      "Epoch 1659 cost: 0.08515098530732308\n",
      "Epoch 1660 cost: 0.09128422807250756\n"
     ]
    },
    {
     "name": "stdout",
     "output_type": "stream",
     "text": [
      "Epoch 1661 cost: 0.07981916715350151\n",
      "Epoch 1662 cost: 0.08064884329021617\n",
      "Epoch 1663 cost: 0.07510827060197847\n",
      "Epoch 1664 cost: 0.08207170733781105\n",
      "Epoch 1665 cost: 0.09566981341712752\n",
      "Epoch 1666 cost: 0.07090728002775246\n",
      "Epoch 1667 cost: 0.07821390530948387\n",
      "Epoch 1668 cost: 0.0769129498400908\n",
      "Epoch 1669 cost: 0.08276720136375938\n",
      "Epoch 1670 cost: 0.07436138681604829\n"
     ]
    },
    {
     "name": "stdout",
     "output_type": "stream",
     "text": [
      "Epoch 1671 cost: 0.07246026494176133\n",
      "Epoch 1672 cost: 0.07069339937330398\n",
      "Epoch 1673 cost: 0.08634826141215744\n",
      "Epoch 1674 cost: 0.08564152820845633\n",
      "Epoch 1675 cost: 0.07719318892220149\n",
      "Epoch 1676 cost: 0.0723889492180629\n",
      "Epoch 1677 cost: 0.08184251508318054\n",
      "Epoch 1678 cost: 0.0775584445229715\n",
      "Epoch 1679 cost: 0.08717538258207176\n",
      "Epoch 1680 cost: 0.08258207548282684\n"
     ]
    },
    {
     "name": "stdout",
     "output_type": "stream",
     "text": [
      "Epoch 1681 cost: 0.07871238443702842\n",
      "Epoch 1682 cost: 0.07831181237963353\n",
      "Epoch 1683 cost: 0.08777842510694006\n",
      "Epoch 1684 cost: 0.07461278424582103\n",
      "Epoch 1685 cost: 0.07659658704113644\n",
      "Epoch 1686 cost: 0.07742956536983217\n",
      "Epoch 1687 cost: 0.07996177780614658\n",
      "Epoch 1688 cost: 0.07526074251465348\n",
      "Epoch 1689 cost: 0.0751378969608293\n",
      "Epoch 1690 cost: 0.08161296426503069\n"
     ]
    },
    {
     "name": "stdout",
     "output_type": "stream",
     "text": [
      "Epoch 1691 cost: 0.07092682682898409\n",
      "Epoch 1692 cost: 0.07620077553368673\n",
      "Epoch 1693 cost: 0.07346960941940656\n",
      "Epoch 1694 cost: 0.07907363036240721\n",
      "Epoch 1695 cost: 0.07953574144834823\n",
      "Epoch 1696 cost: 0.07275882552350287\n",
      "Epoch 1697 cost: 0.0720688324550615\n",
      "Epoch 1698 cost: 0.07091739525935649\n",
      "Epoch 1699 cost: 0.07810010605687638\n",
      "Epoch 1700 cost: 0.08396955339800541\n"
     ]
    },
    {
     "name": "stdout",
     "output_type": "stream",
     "text": [
      "Epoch 1701 cost: 0.0896199278118748\n",
      "Epoch 1702 cost: 0.08015048477065043\n",
      "Epoch 1703 cost: 0.0753691878027638\n",
      "Epoch 1704 cost: 0.08346178724985892\n",
      "Epoch 1705 cost: 0.0826414276412183\n",
      "Epoch 1706 cost: 0.0829461531621382\n",
      "Epoch 1707 cost: 0.08188480005226575\n",
      "Epoch 1708 cost: 0.07824804644365545\n",
      "Epoch 1709 cost: 0.06858972717153217\n",
      "Epoch 1710 cost: 0.07784363269794829\n"
     ]
    },
    {
     "name": "stdout",
     "output_type": "stream",
     "text": [
      "Epoch 1711 cost: 0.08007711067203233\n",
      "Epoch 1712 cost: 0.08202324500327693\n",
      "Epoch 1713 cost: 0.08834300507569028\n",
      "Epoch 1714 cost: 0.06786773314041468\n",
      "Epoch 1715 cost: 0.06568765646284001\n",
      "Epoch 1716 cost: 0.0839458259995596\n",
      "Epoch 1717 cost: 0.08744162767855834\n",
      "Epoch 1718 cost: 0.07790125752015847\n",
      "Epoch 1719 cost: 0.08858812484730048\n",
      "Epoch 1720 cost: 0.07575442027781189\n"
     ]
    },
    {
     "name": "stdout",
     "output_type": "stream",
     "text": [
      "Epoch 1721 cost: 0.07818527546198499\n",
      "Epoch 1722 cost: 0.07494535912310966\n",
      "Epoch 1723 cost: 0.0879639526637939\n",
      "Epoch 1724 cost: 0.06556679567377083\n",
      "Epoch 1725 cost: 0.07232774681620766\n",
      "Epoch 1726 cost: 0.06675795808314679\n",
      "Epoch 1727 cost: 0.07703904121476042\n",
      "Epoch 1728 cost: 0.08165775221583585\n",
      "Epoch 1729 cost: 0.0777345948822858\n",
      "Epoch 1730 cost: 0.06919325131267791\n"
     ]
    },
    {
     "name": "stdout",
     "output_type": "stream",
     "text": [
      "Epoch 1731 cost: 0.07482722130626838\n",
      "Epoch 1732 cost: 0.08245287634634026\n",
      "Epoch 1733 cost: 0.07899374124928395\n",
      "Epoch 1734 cost: 0.07432869838057396\n",
      "Epoch 1735 cost: 0.07865035415274553\n",
      "Epoch 1736 cost: 0.07495084941394585\n",
      "Epoch 1737 cost: 0.06658609925237989\n",
      "Epoch 1738 cost: 0.07850069161145876\n",
      "Epoch 1739 cost: 0.07699998333421106\n",
      "Epoch 1740 cost: 0.0872618067851917\n"
     ]
    },
    {
     "name": "stdout",
     "output_type": "stream",
     "text": [
      "Epoch 1741 cost: 0.07750537630061918\n",
      "Epoch 1742 cost: 0.07684227536209583\n",
      "Epoch 1743 cost: 0.0838846820897471\n",
      "Epoch 1744 cost: 0.0728631428200536\n",
      "Epoch 1745 cost: 0.06675749409829534\n",
      "Epoch 1746 cost: 0.07578666583227069\n",
      "Epoch 1747 cost: 0.06446759448544383\n",
      "Epoch 1748 cost: 0.06316492867445726\n",
      "Epoch 1749 cost: 0.06797513276583651\n",
      "Epoch 1750 cost: 0.08557525443228078\n"
     ]
    },
    {
     "name": "stdout",
     "output_type": "stream",
     "text": [
      "Epoch 1751 cost: 0.07581629603461591\n",
      "Epoch 1752 cost: 0.0749286939694946\n",
      "Epoch 1753 cost: 0.07212118346638381\n",
      "Epoch 1754 cost: 0.08140010958287175\n",
      "Epoch 1755 cost: 0.07633416527702194\n",
      "Epoch 1756 cost: 0.06565552919036523\n",
      "Epoch 1757 cost: 0.06573602916765314\n",
      "Epoch 1758 cost: 0.06540764114047197\n",
      "Epoch 1759 cost: 0.06676344620322512\n",
      "Epoch 1760 cost: 0.0692214510438109\n"
     ]
    },
    {
     "name": "stdout",
     "output_type": "stream",
     "text": [
      "Epoch 1761 cost: 0.06844744506037699\n",
      "Epoch 1762 cost: 0.08613699202374984\n",
      "Epoch 1763 cost: 0.06948026943699742\n",
      "Epoch 1764 cost: 0.06778046789397212\n",
      "Epoch 1765 cost: 0.06266205078167425\n",
      "Epoch 1766 cost: 0.07783393038789914\n",
      "Epoch 1767 cost: 0.0869681924919315\n",
      "Epoch 1768 cost: 0.0795786673602212\n",
      "Epoch 1769 cost: 0.08600926062084598\n",
      "Epoch 1770 cost: 0.08444649896322681\n"
     ]
    },
    {
     "name": "stdout",
     "output_type": "stream",
     "text": [
      "Epoch 1771 cost: 0.07178426323522775\n",
      "Epoch 1772 cost: 0.07489988654159971\n",
      "Epoch 1773 cost: 0.06480186982526644\n",
      "Epoch 1774 cost: 0.06672275265855003\n",
      "Epoch 1775 cost: 0.06557721012972602\n",
      "Epoch 1776 cost: 0.0745552326505713\n",
      "Epoch 1777 cost: 0.07946984807319042\n",
      "Epoch 1778 cost: 0.07231615930430095\n",
      "Epoch 1779 cost: 0.07654341262251275\n",
      "Epoch 1780 cost: 0.07090185898928975\n"
     ]
    },
    {
     "name": "stdout",
     "output_type": "stream",
     "text": [
      "Epoch 1781 cost: 0.08363439047364053\n",
      "Epoch 1782 cost: 0.06417949243439793\n",
      "Epoch 1783 cost: 0.08344714606063278\n",
      "Epoch 1784 cost: 0.07151864623312312\n",
      "Epoch 1785 cost: 0.07000096857343906\n",
      "Epoch 1786 cost: 0.07948712532907579\n",
      "Epoch 1787 cost: 0.06724577130071259\n",
      "Epoch 1788 cost: 0.06872829641743895\n",
      "Epoch 1789 cost: 0.06374076278054785\n",
      "Epoch 1790 cost: 0.06752829888115718\n"
     ]
    },
    {
     "name": "stdout",
     "output_type": "stream",
     "text": [
      "Epoch 1791 cost: 0.08054404698550933\n",
      "Epoch 1792 cost: 0.07593875175900931\n",
      "Epoch 1793 cost: 0.07313061337683355\n",
      "Epoch 1794 cost: 0.06685230540073371\n",
      "Epoch 1795 cost: 0.07325384332441764\n",
      "Epoch 1796 cost: 0.06879330680371562\n",
      "Epoch 1797 cost: 0.06533463208966014\n",
      "Epoch 1798 cost: 0.07127012862512175\n",
      "Epoch 1799 cost: 0.06472149819331706\n",
      "Epoch 1800 cost: 0.06404117204695634\n"
     ]
    },
    {
     "name": "stdout",
     "output_type": "stream",
     "text": [
      "Epoch 1801 cost: 0.08042327517442227\n",
      "Epoch 1802 cost: 0.071326404538777\n",
      "Epoch 1803 cost: 0.0693975268540609\n",
      "Epoch 1804 cost: 0.06595126343827139\n",
      "Epoch 1805 cost: 0.06266885252890629\n",
      "Epoch 1806 cost: 0.06548153708015536\n",
      "Epoch 1807 cost: 0.06778729163702121\n",
      "Epoch 1808 cost: 0.07913401197966788\n",
      "Epoch 1809 cost: 0.0823108495229959\n",
      "Epoch 1810 cost: 0.07407642656776632\n"
     ]
    },
    {
     "name": "stdout",
     "output_type": "stream",
     "text": [
      "Epoch 1811 cost: 0.08461768424428444\n",
      "Epoch 1812 cost: 0.08398129472373635\n",
      "Epoch 1813 cost: 0.06514028549697609\n",
      "Epoch 1814 cost: 0.07277623864186447\n",
      "Epoch 1815 cost: 0.08213151030747949\n",
      "Epoch 1816 cost: 0.07276686688760757\n",
      "Epoch 1817 cost: 0.07593245652711675\n",
      "Epoch 1818 cost: 0.07014973402939433\n",
      "Epoch 1819 cost: 0.07360674018125177\n",
      "Epoch 1820 cost: 0.07179307388089666\n"
     ]
    },
    {
     "name": "stdout",
     "output_type": "stream",
     "text": [
      "Epoch 1821 cost: 0.06930416228171045\n",
      "Epoch 1822 cost: 0.06442872136293863\n",
      "Epoch 1823 cost: 0.07022022657782515\n",
      "Epoch 1824 cost: 0.0825933680073798\n",
      "Epoch 1825 cost: 0.05889455190233672\n",
      "Epoch 1826 cost: 0.07643869824533872\n",
      "Epoch 1827 cost: 0.08194842198766206\n",
      "Epoch 1828 cost: 0.06723379163665898\n",
      "Epoch 1829 cost: 0.07074026161146511\n",
      "Epoch 1830 cost: 0.08078630520444095\n"
     ]
    },
    {
     "name": "stdout",
     "output_type": "stream",
     "text": [
      "Epoch 1831 cost: 0.09199438540858805\n",
      "Epoch 1832 cost: 0.0674738216822482\n",
      "Epoch 1833 cost: 0.07793952999472155\n",
      "Epoch 1834 cost: 0.08459418359207642\n",
      "Epoch 1835 cost: 0.08325355718974851\n",
      "Epoch 1836 cost: 0.06526485460267754\n",
      "Epoch 1837 cost: 0.06350734406115195\n",
      "Epoch 1838 cost: 0.06663673810345554\n",
      "Epoch 1839 cost: 0.07319617920383074\n",
      "Epoch 1840 cost: 0.07138548659384587\n"
     ]
    },
    {
     "name": "stdout",
     "output_type": "stream",
     "text": [
      "Epoch 1841 cost: 0.0830445333811152\n",
      "Epoch 1842 cost: 0.06662964669132718\n",
      "Epoch 1843 cost: 0.07279332924309849\n",
      "Epoch 1844 cost: 0.08404670212478789\n",
      "Epoch 1845 cost: 0.0741462486611273\n",
      "Epoch 1846 cost: 0.06609790214444224\n",
      "Epoch 1847 cost: 0.07426894983385308\n",
      "Epoch 1848 cost: 0.09126793075878226\n",
      "Epoch 1849 cost: 0.08822846367738649\n",
      "Epoch 1850 cost: 0.07862266452772364\n"
     ]
    },
    {
     "name": "stdout",
     "output_type": "stream",
     "text": [
      "Epoch 1851 cost: 0.07214041039362974\n",
      "Epoch 1852 cost: 0.0760732764053512\n",
      "Epoch 1853 cost: 0.06780227243784326\n",
      "Epoch 1854 cost: 0.06185295592091258\n",
      "Epoch 1855 cost: 0.07090020017543261\n",
      "Epoch 1856 cost: 0.0708953160676278\n",
      "Epoch 1857 cost: 0.08525587159372741\n",
      "Epoch 1858 cost: 0.06994575335785251\n",
      "Epoch 1859 cost: 0.06697457571061975\n",
      "Epoch 1860 cost: 0.07234455888745134\n"
     ]
    },
    {
     "name": "stdout",
     "output_type": "stream",
     "text": [
      "Epoch 1861 cost: 0.08780291347643882\n",
      "Epoch 1862 cost: 0.07923852570317833\n",
      "Epoch 1863 cost: 0.09991660678293911\n",
      "Epoch 1864 cost: 0.06328453242802809\n",
      "Epoch 1865 cost: 0.07401934960865145\n",
      "Epoch 1866 cost: 0.07022146219043465\n",
      "Epoch 1867 cost: 0.0663260589603821\n",
      "Epoch 1868 cost: 0.0651331024789336\n",
      "Epoch 1869 cost: 0.06391791808575412\n",
      "Epoch 1870 cost: 0.06445396095623243\n"
     ]
    },
    {
     "name": "stdout",
     "output_type": "stream",
     "text": [
      "Epoch 1871 cost: 0.061615272197786036\n",
      "Epoch 1872 cost: 0.07062358399668053\n",
      "Epoch 1873 cost: 0.07211173277746337\n",
      "Epoch 1874 cost: 0.0745972974736833\n",
      "Epoch 1875 cost: 0.09533095224604753\n",
      "Epoch 1876 cost: 0.07297430725662352\n",
      "Epoch 1877 cost: 0.062254793348510404\n",
      "Epoch 1878 cost: 0.07189505065024683\n",
      "Epoch 1879 cost: 0.061637054073297934\n",
      "Epoch 1880 cost: 0.06040633566448403\n"
     ]
    },
    {
     "name": "stdout",
     "output_type": "stream",
     "text": [
      "Epoch 1881 cost: 0.06297359278682371\n",
      "Epoch 1882 cost: 0.0676262991272745\n",
      "Epoch 1883 cost: 0.05983170954127537\n",
      "Epoch 1884 cost: 0.07494688209398498\n",
      "Epoch 1885 cost: 0.06576168935580891\n",
      "Epoch 1886 cost: 0.07388533139583682\n",
      "Epoch 1887 cost: 0.06142827374967912\n",
      "Epoch 1888 cost: 0.06591577198674957\n",
      "Epoch 1889 cost: 0.08200212439588325\n",
      "Epoch 1890 cost: 0.07814837153671016\n"
     ]
    },
    {
     "name": "stdout",
     "output_type": "stream",
     "text": [
      "Epoch 1891 cost: 0.0637176627407422\n",
      "Epoch 1892 cost: 0.07336638597078213\n",
      "Epoch 1893 cost: 0.08780151323939726\n",
      "Epoch 1894 cost: 0.06558680121096033\n",
      "Epoch 1895 cost: 0.07569470129787385\n",
      "Epoch 1896 cost: 0.08704594831459274\n",
      "Epoch 1897 cost: 0.08708880149281069\n",
      "Epoch 1898 cost: 0.06552873343024249\n",
      "Epoch 1899 cost: 0.064515115217698\n",
      "Epoch 1900 cost: 0.06410114184482277\n"
     ]
    },
    {
     "name": "stdout",
     "output_type": "stream",
     "text": [
      "Epoch 1901 cost: 0.06661836763510355\n",
      "Epoch 1902 cost: 0.0626045221815475\n",
      "Epoch 1903 cost: 0.06718069300166903\n",
      "Epoch 1904 cost: 0.0650171985055383\n",
      "Epoch 1905 cost: 0.06398451585397535\n",
      "Epoch 1906 cost: 0.0609486408105397\n",
      "Epoch 1907 cost: 0.07896418736328856\n",
      "Epoch 1908 cost: 0.08003159436969247\n",
      "Epoch 1909 cost: 0.060453556350362654\n",
      "Epoch 1910 cost: 0.06559404905870372\n"
     ]
    },
    {
     "name": "stdout",
     "output_type": "stream",
     "text": [
      "Epoch 1911 cost: 0.06123430395590825\n",
      "Epoch 1912 cost: 0.06844042902376672\n",
      "Epoch 1913 cost: 0.08207265442077617\n",
      "Epoch 1914 cost: 0.06413867536646133\n",
      "Epoch 1915 cost: 0.0654325678274083\n",
      "Epoch 1916 cost: 0.07124140262106872\n",
      "Epoch 1917 cost: 0.0783930203232271\n",
      "Epoch 1918 cost: 0.059172641872693485\n",
      "Epoch 1919 cost: 0.061025311496070746\n",
      "Epoch 1920 cost: 0.0616132197989906\n"
     ]
    },
    {
     "name": "stdout",
     "output_type": "stream",
     "text": [
      "Epoch 1921 cost: 0.062252349822111044\n",
      "Epoch 1922 cost: 0.0838636207620908\n",
      "Epoch 1923 cost: 0.06194883102725079\n",
      "Epoch 1924 cost: 0.06179091167102597\n",
      "Epoch 1925 cost: 0.0693469125350707\n",
      "Epoch 1926 cost: 0.07819527497585742\n",
      "Epoch 1927 cost: 0.08521496149467425\n",
      "Epoch 1928 cost: 0.06715081210740759\n",
      "Epoch 1929 cost: 0.06396108605988678\n",
      "Epoch 1930 cost: 0.06677218909939399\n"
     ]
    },
    {
     "name": "stdout",
     "output_type": "stream",
     "text": [
      "Epoch 1931 cost: 0.06949240665819094\n",
      "Epoch 1932 cost: 0.07217043571914714\n",
      "Epoch 1933 cost: 0.07181813173067254\n",
      "Epoch 1934 cost: 0.0627272436491395\n",
      "Epoch 1935 cost: 0.0788871538632096\n",
      "Epoch 1936 cost: 0.07462913833704711\n",
      "Epoch 1937 cost: 0.05949679022407559\n",
      "Epoch 1938 cost: 0.06497622038337506\n",
      "Epoch 1939 cost: 0.07508934832984844\n",
      "Epoch 1940 cost: 0.0637562556110101\n"
     ]
    },
    {
     "name": "stdout",
     "output_type": "stream",
     "text": [
      "Epoch 1941 cost: 0.05772330490968915\n",
      "Epoch 1942 cost: 0.06072067484589025\n",
      "Epoch 1943 cost: 0.05772719536229393\n",
      "Epoch 1944 cost: 0.060279856330563465\n",
      "Epoch 1945 cost: 0.06493911418153267\n",
      "Epoch 1946 cost: 0.07598122938586842\n",
      "Epoch 1947 cost: 0.061272071623279634\n",
      "Epoch 1948 cost: 0.07141417609586674\n",
      "Epoch 1949 cost: 0.07195644185959818\n",
      "Epoch 1950 cost: 0.06547920999181137\n"
     ]
    },
    {
     "name": "stdout",
     "output_type": "stream",
     "text": [
      "Epoch 1951 cost: 0.07718221641929948\n",
      "Epoch 1952 cost: 0.0778436006292964\n",
      "Epoch 1953 cost: 0.08906809373488357\n",
      "Epoch 1954 cost: 0.06173094859674592\n",
      "Epoch 1955 cost: 0.061906672613308865\n",
      "Epoch 1956 cost: 0.05763606564986423\n",
      "Epoch 1957 cost: 0.058304124354233475\n",
      "Epoch 1958 cost: 0.059299352869249713\n",
      "Epoch 1959 cost: 0.05998778995319814\n",
      "Epoch 1960 cost: 0.06568488639576678\n"
     ]
    },
    {
     "name": "stdout",
     "output_type": "stream",
     "text": [
      "Epoch 1961 cost: 0.06217363788715564\n",
      "Epoch 1962 cost: 0.06379698167055843\n",
      "Epoch 1963 cost: 0.06339477789626499\n",
      "Epoch 1964 cost: 0.05645157327044445\n",
      "Epoch 1965 cost: 0.05908852400401302\n",
      "Epoch 1966 cost: 0.06435696306045308\n",
      "Epoch 1967 cost: 0.06901330707869514\n",
      "Epoch 1968 cost: 0.06382989146947529\n",
      "Epoch 1969 cost: 0.06223315743433364\n",
      "Epoch 1970 cost: 0.05869377306245348\n"
     ]
    },
    {
     "name": "stdout",
     "output_type": "stream",
     "text": [
      "Epoch 1971 cost: 0.07193015908456184\n",
      "Epoch 1972 cost: 0.08238516591812081\n",
      "Epoch 1973 cost: 0.06312678532911409\n",
      "Epoch 1974 cost: 0.07713575142256576\n",
      "Epoch 1975 cost: 0.07271501634008834\n",
      "Epoch 1976 cost: 0.06276718978500338\n",
      "Epoch 1977 cost: 0.07331660689496904\n",
      "Epoch 1978 cost: 0.06585994191653947\n",
      "Epoch 1979 cost: 0.06803158901544205\n",
      "Epoch 1980 cost: 0.07078466627292279\n"
     ]
    },
    {
     "name": "stdout",
     "output_type": "stream",
     "text": [
      "Epoch 1981 cost: 0.06857225992081643\n",
      "Epoch 1982 cost: 0.05974246516400502\n",
      "Epoch 1983 cost: 0.05898645947200441\n",
      "Epoch 1984 cost: 0.06883810457751714\n",
      "Epoch 1985 cost: 0.06033608856432207\n",
      "Epoch 1986 cost: 0.06024013500518715\n",
      "Epoch 1987 cost: 0.06753975769856324\n",
      "Epoch 1988 cost: 0.06464420022951153\n",
      "Epoch 1989 cost: 0.08162742912198295\n",
      "Epoch 1990 cost: 0.06931568051929324\n"
     ]
    },
    {
     "name": "stdout",
     "output_type": "stream",
     "text": [
      "Epoch 1991 cost: 0.07344987211212353\n",
      "Epoch 1992 cost: 0.06224517083476833\n",
      "Epoch 1993 cost: 0.05785720755255379\n",
      "Epoch 1994 cost: 0.06992038071866151\n",
      "Epoch 1995 cost: 0.0844851873249513\n",
      "Epoch 1996 cost: 0.07119638366643448\n",
      "Epoch 1997 cost: 0.07690021535013658\n",
      "Epoch 1998 cost: 0.08603756243964372\n",
      "Epoch 1999 cost: 0.0813432606488013\n",
      "Epoch 2000 cost: 0.08683995323643824\n"
     ]
    },
    {
     "name": "stdout",
     "output_type": "stream",
     "text": [
      "Epoch 2001 cost: 0.06117556859169458\n",
      "Epoch 2002 cost: 0.0627434239422501\n",
      "Epoch 2003 cost: 0.062208467234552416\n",
      "Epoch 2004 cost: 0.06447276757925664\n",
      "Epoch 2005 cost: 0.06238591754949354\n",
      "Epoch 2006 cost: 0.0703244000347289\n",
      "Epoch 2007 cost: 0.059593542345275696\n",
      "Epoch 2008 cost: 0.060577012511878484\n",
      "Epoch 2009 cost: 0.08937781902981025\n",
      "Epoch 2010 cost: 0.07684654452811603\n"
     ]
    },
    {
     "name": "stdout",
     "output_type": "stream",
     "text": [
      "Epoch 2011 cost: 0.0635921383052589\n",
      "Epoch 2012 cost: 0.06532669997681327\n",
      "Epoch 2013 cost: 0.058456094146436155\n",
      "Epoch 2014 cost: 0.0689960449348796\n",
      "Epoch 2015 cost: 0.073056546616438\n",
      "Epoch 2016 cost: 0.06617190401877543\n",
      "Epoch 2017 cost: 0.06856437865791917\n",
      "Epoch 2018 cost: 0.06636530719057385\n",
      "Epoch 2019 cost: 0.06520756833305016\n",
      "Epoch 2020 cost: 0.061484892090229844\n"
     ]
    },
    {
     "name": "stdout",
     "output_type": "stream",
     "text": [
      "Epoch 2021 cost: 0.0574344359369258\n",
      "Epoch 2022 cost: 0.05846165939242876\n",
      "Epoch 2023 cost: 0.06604348270422938\n",
      "Epoch 2024 cost: 0.0750135311715135\n",
      "Epoch 2025 cost: 0.07409630377427383\n",
      "Epoch 2026 cost: 0.07195253249699197\n",
      "Epoch 2027 cost: 0.062006492826840794\n",
      "Epoch 2028 cost: 0.062214357891664594\n",
      "Epoch 2029 cost: 0.05948332951121167\n",
      "Epoch 2030 cost: 0.06459086266530334\n"
     ]
    },
    {
     "name": "stdout",
     "output_type": "stream",
     "text": [
      "Epoch 2031 cost: 0.06870277614587399\n",
      "Epoch 2032 cost: 0.07209195067264655\n",
      "Epoch 2033 cost: 0.0521839315031889\n",
      "Epoch 2034 cost: 0.0759526294494139\n",
      "Epoch 2035 cost: 0.059418985284025894\n",
      "Epoch 2036 cost: 0.0639651324274518\n",
      "Epoch 2037 cost: 0.0647059690459967\n",
      "Epoch 2038 cost: 0.0655402201909487\n",
      "Epoch 2039 cost: 0.08137844616183654\n",
      "Epoch 2040 cost: 0.07072711182277108\n"
     ]
    },
    {
     "name": "stdout",
     "output_type": "stream",
     "text": [
      "Epoch 2041 cost: 0.06997960321556475\n",
      "Epoch 2042 cost: 0.06810558567536246\n",
      "Epoch 2043 cost: 0.06530248949227296\n",
      "Epoch 2044 cost: 0.05809264671219403\n",
      "Epoch 2045 cost: 0.062332286955453134\n",
      "Epoch 2046 cost: 0.06356589242978451\n",
      "Epoch 2047 cost: 0.06556085983009713\n",
      "Epoch 2048 cost: 0.062186095647935154\n",
      "Epoch 2049 cost: 0.07353441996112983\n",
      "Epoch 2050 cost: 0.10567479609346699\n"
     ]
    },
    {
     "name": "stdout",
     "output_type": "stream",
     "text": [
      "Epoch 2051 cost: 0.08213309140536935\n",
      "Epoch 2052 cost: 0.06463181118836155\n",
      "Epoch 2053 cost: 0.07714876825402177\n",
      "Epoch 2054 cost: 0.06566015782258565\n",
      "Epoch 2055 cost: 0.0769853910550293\n",
      "Epoch 2056 cost: 0.06925257828412787\n",
      "Epoch 2057 cost: 0.08407701037743526\n",
      "Epoch 2058 cost: 0.07811640092768103\n",
      "Epoch 2059 cost: 0.07354211099963413\n",
      "Epoch 2060 cost: 0.07002073970461677\n"
     ]
    },
    {
     "name": "stdout",
     "output_type": "stream",
     "text": [
      "Epoch 2061 cost: 0.06123324495748961\n",
      "Epoch 2062 cost: 0.057543662198438636\n",
      "Epoch 2063 cost: 0.063328553388059\n",
      "Epoch 2064 cost: 0.06393592899084885\n",
      "Epoch 2065 cost: 0.05472826694499275\n",
      "Epoch 2066 cost: 0.06882545746768416\n",
      "Epoch 2067 cost: 0.066129753949004\n",
      "Epoch 2068 cost: 0.06919939796899952\n",
      "Epoch 2069 cost: 0.06022257330955463\n",
      "Epoch 2070 cost: 0.05678007034595293\n"
     ]
    },
    {
     "name": "stdout",
     "output_type": "stream",
     "text": [
      "Epoch 2071 cost: 0.07322938947872383\n",
      "Epoch 2072 cost: 0.06150709245570632\n",
      "Epoch 2073 cost: 0.07512720853059346\n",
      "Epoch 2074 cost: 0.07848587228334737\n",
      "Epoch 2075 cost: 0.05834347828719008\n",
      "Epoch 2076 cost: 0.06605871115627826\n",
      "Epoch 2077 cost: 0.06154360716778783\n",
      "Epoch 2078 cost: 0.05757311706692776\n",
      "Epoch 2079 cost: 0.05307824571799644\n",
      "Epoch 2080 cost: 0.06917690577478106\n"
     ]
    },
    {
     "name": "stdout",
     "output_type": "stream",
     "text": [
      "Epoch 2081 cost: 0.06498216148577941\n",
      "Epoch 2082 cost: 0.061744607203490426\n",
      "Epoch 2083 cost: 0.06884911925550899\n",
      "Epoch 2084 cost: 0.06984221347730629\n",
      "Epoch 2085 cost: 0.05686924298505035\n",
      "Epoch 2086 cost: 0.06011170723301166\n",
      "Epoch 2087 cost: 0.0589872957150306\n",
      "Epoch 2088 cost: 0.0549755418885896\n",
      "Epoch 2089 cost: 0.05558609076164262\n",
      "Epoch 2090 cost: 0.07372476058674922\n"
     ]
    },
    {
     "name": "stdout",
     "output_type": "stream",
     "text": [
      "Epoch 2091 cost: 0.06187997600880067\n",
      "Epoch 2092 cost: 0.06707185145470744\n",
      "Epoch 2093 cost: 0.0697822285628503\n",
      "Epoch 2094 cost: 0.07740462782149454\n",
      "Epoch 2095 cost: 0.07052526931193555\n",
      "Epoch 2096 cost: 0.063089932331116\n",
      "Epoch 2097 cost: 0.06653382611165831\n",
      "Epoch 2098 cost: 0.05630138877577385\n",
      "Epoch 2099 cost: 0.06751274255848186\n",
      "Epoch 2100 cost: 0.06670007064797921\n"
     ]
    },
    {
     "name": "stdout",
     "output_type": "stream",
     "text": [
      "Epoch 2101 cost: 0.05926062085397746\n",
      "Epoch 2102 cost: 0.06224555191247616\n",
      "Epoch 2103 cost: 0.058919902991339486\n",
      "Epoch 2104 cost: 0.06300754042337801\n",
      "Epoch 2105 cost: 0.066693291738345\n",
      "Epoch 2106 cost: 0.05945143190124686\n",
      "Epoch 2107 cost: 0.05599274490014085\n",
      "Epoch 2108 cost: 0.07107551409053879\n",
      "Epoch 2109 cost: 0.05878378100346224\n",
      "Epoch 2110 cost: 0.050731443822093505\n"
     ]
    },
    {
     "name": "stdout",
     "output_type": "stream",
     "text": [
      "Epoch 2111 cost: 0.057641615926525606\n",
      "Epoch 2112 cost: 0.060096580563264654\n",
      "Epoch 2113 cost: 0.058991023600846716\n",
      "Epoch 2114 cost: 0.05520033479011392\n",
      "Epoch 2115 cost: 0.055512133075259755\n",
      "Epoch 2116 cost: 0.06980397637195607\n",
      "Epoch 2117 cost: 0.05401451279584992\n",
      "Epoch 2118 cost: 0.0700866100421899\n",
      "Epoch 2119 cost: 0.08452852268943127\n",
      "Epoch 2120 cost: 0.0632264565300533\n"
     ]
    },
    {
     "name": "stdout",
     "output_type": "stream",
     "text": [
      "Epoch 2121 cost: 0.06240988977309693\n",
      "Epoch 2122 cost: 0.05917463655438608\n",
      "Epoch 2123 cost: 0.07238447898688619\n",
      "Epoch 2124 cost: 0.07786228717503191\n",
      "Epoch 2125 cost: 0.05532742210598776\n",
      "Epoch 2126 cost: 0.06451013790593149\n",
      "Epoch 2127 cost: 0.061600893221561544\n",
      "Epoch 2128 cost: 0.06973581377547279\n",
      "Epoch 2129 cost: 0.06358278614146105\n",
      "Epoch 2130 cost: 0.06529276350807849\n"
     ]
    },
    {
     "name": "stdout",
     "output_type": "stream",
     "text": [
      "Epoch 2131 cost: 0.0552719737955366\n",
      "Epoch 2132 cost: 0.060768732059229405\n",
      "Epoch 2133 cost: 0.06205477201624242\n",
      "Epoch 2134 cost: 0.05933700314931308\n",
      "Epoch 2135 cost: 0.055773388237755475\n",
      "Epoch 2136 cost: 0.06846033111583963\n",
      "Epoch 2137 cost: 0.05483996393364887\n",
      "Epoch 2138 cost: 0.07834713342930304\n",
      "Epoch 2139 cost: 0.08626051379017292\n",
      "Epoch 2140 cost: 0.06703676415682809\n"
     ]
    },
    {
     "name": "stdout",
     "output_type": "stream",
     "text": [
      "Epoch 2141 cost: 0.05426459796951697\n",
      "Epoch 2142 cost: 0.0803617946123568\n",
      "Epoch 2143 cost: 0.09020373601002006\n",
      "Epoch 2144 cost: 0.05369354455719271\n",
      "Epoch 2145 cost: 0.06014222015134699\n",
      "Epoch 2146 cost: 0.06082085517508974\n",
      "Epoch 2147 cost: 0.056816575892700186\n",
      "Epoch 2148 cost: 0.057605647494324584\n",
      "Epoch 2149 cost: 0.05629562314819214\n",
      "Epoch 2150 cost: 0.06204026804150133\n"
     ]
    },
    {
     "name": "stdout",
     "output_type": "stream",
     "text": [
      "Epoch 2151 cost: 0.05496775960366374\n",
      "Epoch 2152 cost: 0.053232432941905126\n",
      "Epoch 2153 cost: 0.05267056879227564\n",
      "Epoch 2154 cost: 0.05726415824172916\n",
      "Epoch 2155 cost: 0.05593796201560932\n",
      "Epoch 2156 cost: 0.06742686811351321\n",
      "Epoch 2157 cost: 0.08322685153811428\n",
      "Epoch 2158 cost: 0.0575187327075685\n",
      "Epoch 2159 cost: 0.05256766575108093\n",
      "Epoch 2160 cost: 0.05348601351818106\n"
     ]
    },
    {
     "name": "stdout",
     "output_type": "stream",
     "text": [
      "Epoch 2161 cost: 0.07558388905230883\n",
      "Epoch 2162 cost: 0.07986434196255837\n",
      "Epoch 2163 cost: 0.05168648454605362\n",
      "Epoch 2164 cost: 0.06025945703490421\n",
      "Epoch 2165 cost: 0.05346838567440906\n",
      "Epoch 2166 cost: 0.06827488405085083\n",
      "Epoch 2167 cost: 0.05793913860535655\n",
      "Epoch 2168 cost: 0.0875476875031691\n",
      "Epoch 2169 cost: 0.07406870223737112\n",
      "Epoch 2170 cost: 0.07516659256666845\n"
     ]
    },
    {
     "name": "stdout",
     "output_type": "stream",
     "text": [
      "Epoch 2171 cost: 0.08203502095254082\n",
      "Epoch 2172 cost: 0.05546419737654706\n",
      "Epoch 2173 cost: 0.05006943137713306\n",
      "Epoch 2174 cost: 0.0583906555224974\n",
      "Epoch 2175 cost: 0.06441297812620786\n",
      "Epoch 2176 cost: 0.06301519315220624\n",
      "Epoch 2177 cost: 0.05355240673143579\n",
      "Epoch 2178 cost: 0.06282657421564808\n",
      "Epoch 2179 cost: 0.05635740696211529\n",
      "Epoch 2180 cost: 0.07210152985439035\n"
     ]
    },
    {
     "name": "stdout",
     "output_type": "stream",
     "text": [
      "Epoch 2181 cost: 0.07213246320605927\n",
      "Epoch 2182 cost: 0.05506221093085896\n",
      "Epoch 2183 cost: 0.05738427057610252\n",
      "Epoch 2184 cost: 0.061044950793934155\n",
      "Epoch 2185 cost: 0.05354293689836059\n",
      "Epoch 2186 cost: 0.06749228363528698\n",
      "Epoch 2187 cost: 0.07081671674290307\n",
      "Epoch 2188 cost: 0.06631058362727293\n",
      "Epoch 2189 cost: 0.06571447494407769\n",
      "Epoch 2190 cost: 0.07476952294411617\n"
     ]
    },
    {
     "name": "stdout",
     "output_type": "stream",
     "text": [
      "Epoch 2191 cost: 0.05337879995063458\n",
      "Epoch 2192 cost: 0.05740726211638718\n",
      "Epoch 2193 cost: 0.05882399808758828\n",
      "Epoch 2194 cost: 0.06445547135876133\n",
      "Epoch 2195 cost: 0.07586832036070944\n",
      "Epoch 2196 cost: 0.07123233536088665\n",
      "Epoch 2197 cost: 0.054715437654783365\n",
      "Epoch 2198 cost: 0.06095451081280957\n",
      "Epoch 2199 cost: 0.05122321590421764\n",
      "Epoch 2200 cost: 0.061031032211645776\n"
     ]
    },
    {
     "name": "stdout",
     "output_type": "stream",
     "text": [
      "Epoch 2201 cost: 0.06249861244665348\n",
      "Epoch 2202 cost: 0.056478705869661486\n",
      "Epoch 2203 cost: 0.053844237551369\n",
      "Epoch 2204 cost: 0.05515531624199391\n",
      "Epoch 2205 cost: 0.051378009536065056\n",
      "Epoch 2206 cost: 0.068285628031396\n",
      "Epoch 2207 cost: 0.06038416590556219\n",
      "Epoch 2208 cost: 0.08743927781888329\n",
      "Epoch 2209 cost: 0.0627107102524379\n",
      "Epoch 2210 cost: 0.06537580991857282\n"
     ]
    },
    {
     "name": "stdout",
     "output_type": "stream",
     "text": [
      "Epoch 2211 cost: 0.07277943631204607\n",
      "Epoch 2212 cost: 0.05344421732455499\n",
      "Epoch 2213 cost: 0.07830626773403532\n",
      "Epoch 2214 cost: 0.05139762571088469\n",
      "Epoch 2215 cost: 0.056998396999380765\n",
      "Epoch 2216 cost: 0.06926398702248492\n",
      "Epoch 2217 cost: 0.0716009873201529\n",
      "Epoch 2218 cost: 0.07561175463456618\n",
      "Epoch 2219 cost: 0.05634265013438915\n",
      "Epoch 2220 cost: 0.06324001851203298\n"
     ]
    },
    {
     "name": "stdout",
     "output_type": "stream",
     "text": [
      "Epoch 2221 cost: 0.05991776508172819\n",
      "Epoch 2222 cost: 0.054012721213927556\n",
      "Epoch 2223 cost: 0.06650141945104822\n",
      "Epoch 2224 cost: 0.06617094891074056\n",
      "Epoch 2225 cost: 0.07610335445995965\n",
      "Epoch 2226 cost: 0.06013032216778639\n",
      "Epoch 2227 cost: 0.07797604170965905\n",
      "Epoch 2228 cost: 0.06364977511607448\n",
      "Epoch 2229 cost: 0.07148767445426091\n",
      "Epoch 2230 cost: 0.07198996702395162\n"
     ]
    },
    {
     "name": "stdout",
     "output_type": "stream",
     "text": [
      "Epoch 2231 cost: 0.060902766097076566\n",
      "Epoch 2232 cost: 0.06415892052265604\n",
      "Epoch 2233 cost: 0.06446549107365145\n",
      "Epoch 2234 cost: 0.057295090336273446\n",
      "Epoch 2235 cost: 0.06121620813641866\n",
      "Epoch 2236 cost: 0.05456190141018275\n",
      "Epoch 2237 cost: 0.05597188709012395\n",
      "Epoch 2238 cost: 0.05811630605111\n",
      "Epoch 2239 cost: 0.0624454021078314\n",
      "Epoch 2240 cost: 0.061407098918620444\n"
     ]
    },
    {
     "name": "stdout",
     "output_type": "stream",
     "text": [
      "Epoch 2241 cost: 0.057260879867450994\n",
      "Epoch 2242 cost: 0.05230657149286923\n",
      "Epoch 2243 cost: 0.08461086650145878\n",
      "Epoch 2244 cost: 0.0789994189142976\n",
      "Epoch 2245 cost: 0.0953816820631976\n",
      "Epoch 2246 cost: 0.054552978668832\n",
      "Epoch 2247 cost: 0.07667903984073084\n",
      "Epoch 2248 cost: 0.05801847427890395\n",
      "Epoch 2249 cost: 0.06681591228094923\n",
      "Epoch 2250 cost: 0.04943506403608836\n"
     ]
    },
    {
     "name": "stdout",
     "output_type": "stream",
     "text": [
      "Epoch 2251 cost: 0.07441796774670081\n",
      "Epoch 2252 cost: 0.054423419850979135\n",
      "Epoch 2253 cost: 0.06076493770967843\n",
      "Epoch 2254 cost: 0.06588395362741781\n",
      "Epoch 2255 cost: 0.08613096415175743\n",
      "Epoch 2256 cost: 0.051932670436458876\n",
      "Epoch 2257 cost: 0.07174742603714244\n",
      "Epoch 2258 cost: 0.07117707822409831\n",
      "Epoch 2259 cost: 0.06287399557161831\n",
      "Epoch 2260 cost: 0.054260598972301906\n"
     ]
    },
    {
     "name": "stdout",
     "output_type": "stream",
     "text": [
      "Epoch 2261 cost: 0.058884980570614684\n",
      "Epoch 2262 cost: 0.05902731376546742\n",
      "Epoch 2263 cost: 0.05149623471168379\n",
      "Epoch 2264 cost: 0.05833583663579625\n",
      "Epoch 2265 cost: 0.0627783909524324\n",
      "Epoch 2266 cost: 0.06936319396367606\n",
      "Epoch 2267 cost: 0.0733633955605986\n",
      "Epoch 2268 cost: 0.05710070173877825\n",
      "Epoch 2269 cost: 0.06129617885714351\n",
      "Epoch 2270 cost: 0.05360969680004437\n"
     ]
    },
    {
     "name": "stdout",
     "output_type": "stream",
     "text": [
      "Epoch 2271 cost: 0.053366914334442246\n",
      "Epoch 2272 cost: 0.051665358930423004\n",
      "Epoch 2273 cost: 0.055617993175235234\n",
      "Epoch 2274 cost: 0.06329393255689272\n",
      "Epoch 2275 cost: 0.05358977785319755\n",
      "Epoch 2276 cost: 0.05166630449302609\n",
      "Epoch 2277 cost: 0.07512090484894647\n",
      "Epoch 2278 cost: 0.0727370996543598\n",
      "Epoch 2279 cost: 0.08448152683179751\n",
      "Epoch 2280 cost: 0.08396601022051836\n"
     ]
    },
    {
     "name": "stdout",
     "output_type": "stream",
     "text": [
      "Epoch 2281 cost: 0.05723763771996217\n",
      "Epoch 2282 cost: 0.06118005046577031\n",
      "Epoch 2283 cost: 0.060406457069690486\n",
      "Epoch 2284 cost: 0.06080932836459577\n",
      "Epoch 2285 cost: 0.06183518139123701\n",
      "Epoch 2286 cost: 0.0673359803505033\n",
      "Epoch 2287 cost: 0.04966069494562681\n",
      "Epoch 2288 cost: 0.05853916149951988\n",
      "Epoch 2289 cost: 0.051300845813736284\n",
      "Epoch 2290 cost: 0.05352623214885051\n"
     ]
    },
    {
     "name": "stdout",
     "output_type": "stream",
     "text": [
      "Epoch 2291 cost: 0.05743652526828206\n",
      "Epoch 2292 cost: 0.05599671087269363\n",
      "Epoch 2293 cost: 0.06254495030563954\n",
      "Epoch 2294 cost: 0.060976773633362444\n",
      "Epoch 2295 cost: 0.06587760640948453\n",
      "Epoch 2296 cost: 0.07326309648750959\n",
      "Epoch 2297 cost: 0.06095912267282614\n",
      "Epoch 2298 cost: 0.06206266498874079\n",
      "Epoch 2299 cost: 0.04933336511216132\n",
      "Epoch 2300 cost: 0.0635857435348311\n"
     ]
    },
    {
     "name": "stdout",
     "output_type": "stream",
     "text": [
      "Epoch 2301 cost: 0.05283590114207917\n",
      "Epoch 2302 cost: 0.06706687499222254\n",
      "Epoch 2303 cost: 0.05096107268406987\n",
      "Epoch 2304 cost: 0.06608160969298019\n",
      "Epoch 2305 cost: 0.05564884835777236\n",
      "Epoch 2306 cost: 0.061701660088948805\n",
      "Epoch 2307 cost: 0.06272435389009125\n",
      "Epoch 2308 cost: 0.05451586252128745\n",
      "Epoch 2309 cost: 0.05151344802020139\n",
      "Epoch 2310 cost: 0.048965996895512794\n"
     ]
    },
    {
     "name": "stdout",
     "output_type": "stream",
     "text": [
      "Epoch 2311 cost: 0.050175960078337536\n",
      "Epoch 2312 cost: 0.05710956112565307\n",
      "Epoch 2313 cost: 0.06447102103106937\n",
      "Epoch 2314 cost: 0.05548075326457294\n",
      "Epoch 2315 cost: 0.06864569714558971\n",
      "Epoch 2316 cost: 0.049480401431241564\n",
      "Epoch 2317 cost: 0.05769208211365633\n",
      "Epoch 2318 cost: 0.061289442484163695\n",
      "Epoch 2319 cost: 0.0516750113266665\n",
      "Epoch 2320 cost: 0.07211439016330533\n"
     ]
    },
    {
     "name": "stdout",
     "output_type": "stream",
     "text": [
      "Epoch 2321 cost: 0.05900456945538921\n",
      "Epoch 2322 cost: 0.06618058792160791\n",
      "Epoch 2323 cost: 0.07743535083191815\n",
      "Epoch 2324 cost: 0.06505865276773665\n",
      "Epoch 2325 cost: 0.0510584247712539\n",
      "Epoch 2326 cost: 0.07529333694747303\n",
      "Epoch 2327 cost: 0.056682186894382224\n",
      "Epoch 2328 cost: 0.06444643669334787\n",
      "Epoch 2329 cost: 0.048860320301000244\n",
      "Epoch 2330 cost: 0.07116903663344737\n"
     ]
    },
    {
     "name": "stdout",
     "output_type": "stream",
     "text": [
      "Epoch 2331 cost: 0.08733488831617842\n",
      "Epoch 2332 cost: 0.048708098972500835\n",
      "Epoch 2333 cost: 0.09115618694477616\n",
      "Epoch 2334 cost: 0.06772106310613071\n",
      "Epoch 2335 cost: 0.0668356216273406\n",
      "Epoch 2336 cost: 0.050350040267261774\n",
      "Epoch 2337 cost: 0.05995595697374186\n",
      "Epoch 2338 cost: 0.0507318209795184\n",
      "Epoch 2339 cost: 0.055607054267644326\n",
      "Epoch 2340 cost: 0.05309806782795059\n"
     ]
    },
    {
     "name": "stdout",
     "output_type": "stream",
     "text": [
      "Epoch 2341 cost: 0.04913696010010509\n",
      "Epoch 2342 cost: 0.04875360276366503\n",
      "Epoch 2343 cost: 0.05497472695411645\n",
      "Epoch 2344 cost: 0.05363728546531921\n",
      "Epoch 2345 cost: 0.049049970168222226\n",
      "Epoch 2346 cost: 0.06747623653054684\n",
      "Epoch 2347 cost: 0.06433140448906195\n",
      "Epoch 2348 cost: 0.04996204543902961\n",
      "Epoch 2349 cost: 0.06544657405203591\n",
      "Epoch 2350 cost: 0.05745318234120335\n"
     ]
    },
    {
     "name": "stdout",
     "output_type": "stream",
     "text": [
      "Epoch 2351 cost: 0.062407222966725746\n",
      "Epoch 2352 cost: 0.059263914893341485\n",
      "Epoch 2353 cost: 0.08157386791920015\n",
      "Epoch 2354 cost: 0.06528709143666041\n",
      "Epoch 2355 cost: 0.06085888840726333\n",
      "Epoch 2356 cost: 0.06716473305293837\n",
      "Epoch 2357 cost: 0.05944445709329092\n",
      "Epoch 2358 cost: 0.06910676545337026\n",
      "Epoch 2359 cost: 0.06783985468554019\n",
      "Epoch 2360 cost: 0.09106744960927032\n"
     ]
    },
    {
     "name": "stdout",
     "output_type": "stream",
     "text": [
      "Epoch 2361 cost: 0.07155657145980285\n",
      "Epoch 2362 cost: 0.0738210280544055\n",
      "Epoch 2363 cost: 0.05685370634827737\n",
      "Epoch 2364 cost: 0.0890522263397462\n",
      "Epoch 2365 cost: 0.06731686745408165\n",
      "Epoch 2366 cost: 0.052929727591160984\n",
      "Epoch 2367 cost: 0.05750178325564237\n",
      "Epoch 2368 cost: 0.04987704846915133\n",
      "Epoch 2369 cost: 0.046840662748159026\n",
      "Epoch 2370 cost: 0.06390376769652313\n"
     ]
    },
    {
     "name": "stdout",
     "output_type": "stream",
     "text": [
      "Epoch 2371 cost: 0.05027454372864555\n",
      "Epoch 2372 cost: 0.05718408339218214\n",
      "Epoch 2373 cost: 0.05361208735738041\n",
      "Epoch 2374 cost: 0.05548346437204872\n",
      "Epoch 2375 cost: 0.058567195880871094\n",
      "Epoch 2376 cost: 0.04988486493626932\n",
      "Epoch 2377 cost: 0.05030026888132836\n",
      "Epoch 2378 cost: 0.051788923401353895\n",
      "Epoch 2379 cost: 0.06258566571616157\n",
      "Epoch 2380 cost: 0.058834922865990506\n"
     ]
    },
    {
     "name": "stdout",
     "output_type": "stream",
     "text": [
      "Epoch 2381 cost: 0.06622170866047329\n",
      "Epoch 2382 cost: 0.05973813028810264\n",
      "Epoch 2383 cost: 0.052375552399997\n",
      "Epoch 2384 cost: 0.049649458500699205\n",
      "Epoch 2385 cost: 0.07712555264848199\n",
      "Epoch 2386 cost: 0.08335524576841974\n",
      "Epoch 2387 cost: 0.05053563961866504\n",
      "Epoch 2388 cost: 0.057230330468605435\n",
      "Epoch 2389 cost: 0.05363858717339635\n",
      "Epoch 2390 cost: 0.05207892631252309\n"
     ]
    },
    {
     "name": "stdout",
     "output_type": "stream",
     "text": [
      "Epoch 2391 cost: 0.047881914114035216\n",
      "Epoch 2392 cost: 0.0626059363234132\n",
      "Epoch 2393 cost: 0.05735678030075793\n",
      "Epoch 2394 cost: 0.051385116146541475\n",
      "Epoch 2395 cost: 0.04547519528963749\n",
      "Epoch 2396 cost: 0.09105910884215403\n",
      "Epoch 2397 cost: 0.051243913176252404\n",
      "Epoch 2398 cost: 0.051212225374188146\n",
      "Epoch 2399 cost: 0.051450878508278834\n",
      "Epoch 2400 cost: 0.052359524286250916\n"
     ]
    },
    {
     "name": "stdout",
     "output_type": "stream",
     "text": [
      "Epoch 2401 cost: 0.05625847501347304\n",
      "Epoch 2402 cost: 0.049932296505383146\n",
      "Epoch 2403 cost: 0.06806730199292695\n",
      "Epoch 2404 cost: 0.06885411398687773\n",
      "Epoch 2405 cost: 0.054004819909682686\n",
      "Epoch 2406 cost: 0.05796394729162288\n",
      "Epoch 2407 cost: 0.060458386845339246\n",
      "Epoch 2408 cost: 0.06456068863139999\n",
      "Epoch 2409 cost: 0.05649166625717652\n",
      "Epoch 2410 cost: 0.0494789043543802\n"
     ]
    },
    {
     "name": "stdout",
     "output_type": "stream",
     "text": [
      "Epoch 2411 cost: 0.0644125799714395\n",
      "Epoch 2412 cost: 0.04590880286794939\n",
      "Epoch 2413 cost: 0.05051113023882887\n",
      "Epoch 2414 cost: 0.0541737448228743\n",
      "Epoch 2415 cost: 0.05380064384453414\n",
      "Epoch 2416 cost: 0.04669078718063037\n",
      "Epoch 2417 cost: 0.06097967689260676\n",
      "Epoch 2418 cost: 0.060392018105581396\n",
      "Epoch 2419 cost: 0.09688889552163485\n",
      "Epoch 2420 cost: 0.06021380559466058\n"
     ]
    },
    {
     "name": "stdout",
     "output_type": "stream",
     "text": [
      "Epoch 2421 cost: 0.06459437321356008\n",
      "Epoch 2422 cost: 0.07197235213012387\n",
      "Epoch 2423 cost: 0.047069538554323435\n",
      "Epoch 2424 cost: 0.08613690776508291\n",
      "Epoch 2425 cost: 0.05419277166907786\n",
      "Epoch 2426 cost: 0.04980417240622541\n",
      "Epoch 2427 cost: 0.048156875340727635\n",
      "Epoch 2428 cost: 0.05056762809919562\n",
      "Epoch 2429 cost: 0.053393492117058544\n",
      "Epoch 2430 cost: 0.05844766316884685\n"
     ]
    },
    {
     "name": "stdout",
     "output_type": "stream",
     "text": [
      "Epoch 2431 cost: 0.07028061807750609\n",
      "Epoch 2432 cost: 0.08200344891587132\n",
      "Epoch 2433 cost: 0.04891533708703325\n",
      "Epoch 2434 cost: 0.05906757412171566\n",
      "Epoch 2435 cost: 0.04843099239423264\n",
      "Epoch 2436 cost: 0.0468619654615722\n",
      "Epoch 2437 cost: 0.06531610398206561\n",
      "Epoch 2438 cost: 0.062124399895869195\n",
      "Epoch 2439 cost: 0.06863457351747525\n",
      "Epoch 2440 cost: 0.05532974055180633\n"
     ]
    },
    {
     "name": "stdout",
     "output_type": "stream",
     "text": [
      "Epoch 2441 cost: 0.05438992550979047\n",
      "Epoch 2442 cost: 0.05799679371172252\n",
      "Epoch 2443 cost: 0.05975600142742525\n",
      "Epoch 2444 cost: 0.05209599727876521\n",
      "Epoch 2445 cost: 0.049622065673801244\n",
      "Epoch 2446 cost: 0.10487496370496313\n",
      "Epoch 2447 cost: 0.061548460241164\n",
      "Epoch 2448 cost: 0.05436022107957346\n",
      "Epoch 2449 cost: 0.06806308409550087\n",
      "Epoch 2450 cost: 0.062417719896626686\n"
     ]
    },
    {
     "name": "stdout",
     "output_type": "stream",
     "text": [
      "Epoch 2451 cost: 0.05199993969608217\n",
      "Epoch 2452 cost: 0.055896258978545915\n",
      "Epoch 2453 cost: 0.05783189553218396\n",
      "Epoch 2454 cost: 0.05027081186009379\n",
      "Epoch 2455 cost: 0.05776601636861654\n",
      "Epoch 2456 cost: 0.07132336014353682\n",
      "Epoch 2457 cost: 0.046955306607503355\n",
      "Epoch 2458 cost: 0.05744117366396252\n",
      "Epoch 2459 cost: 0.07759719028198843\n",
      "Epoch 2460 cost: 0.04943001999448226\n"
     ]
    },
    {
     "name": "stdout",
     "output_type": "stream",
     "text": [
      "Epoch 2461 cost: 0.07704079642526566\n",
      "Epoch 2462 cost: 0.06817822332011936\n",
      "Epoch 2463 cost: 0.05910764226248847\n",
      "Epoch 2464 cost: 0.07332300959052211\n",
      "Epoch 2465 cost: 0.06420282732769103\n",
      "Epoch 2466 cost: 0.07050797288478926\n",
      "Epoch 2467 cost: 0.07365035483503674\n",
      "Epoch 2468 cost: 0.05672369698217762\n",
      "Epoch 2469 cost: 0.04358149499936417\n",
      "Epoch 2470 cost: 0.06392986308327551\n"
     ]
    },
    {
     "name": "stdout",
     "output_type": "stream",
     "text": [
      "Epoch 2471 cost: 0.05651115936499087\n",
      "Epoch 2472 cost: 0.052626281107770116\n",
      "Epoch 2473 cost: 0.045874820096602126\n",
      "Epoch 2474 cost: 0.05737732915788772\n",
      "Epoch 2475 cost: 0.05494258873063117\n",
      "Epoch 2476 cost: 0.08185677408889959\n",
      "Epoch 2477 cost: 0.05555335754711233\n",
      "Epoch 2478 cost: 0.057872242838685264\n",
      "Epoch 2479 cost: 0.05058759624983699\n",
      "Epoch 2480 cost: 0.04977057336248119\n"
     ]
    },
    {
     "name": "stdout",
     "output_type": "stream",
     "text": [
      "Epoch 2481 cost: 0.060463694618672154\n",
      "Epoch 2482 cost: 0.05746002260035798\n",
      "Epoch 2483 cost: 0.05043301741399628\n",
      "Epoch 2484 cost: 0.07311837411714904\n",
      "Epoch 2485 cost: 0.05853681331971205\n",
      "Epoch 2486 cost: 0.04793473278980063\n",
      "Epoch 2487 cost: 0.04827330547047678\n",
      "Epoch 2488 cost: 0.05765000017375226\n",
      "Epoch 2489 cost: 0.057599384006165454\n",
      "Epoch 2490 cost: 0.05401825351682169\n"
     ]
    },
    {
     "name": "stdout",
     "output_type": "stream",
     "text": [
      "Epoch 2491 cost: 0.04620805984428696\n",
      "Epoch 2492 cost: 0.04936179673755467\n",
      "Epoch 2493 cost: 0.04753890994031205\n",
      "Epoch 2494 cost: 0.05590504323466552\n",
      "Epoch 2495 cost: 0.05753621927827668\n",
      "Epoch 2496 cost: 0.0611003778522669\n",
      "Epoch 2497 cost: 0.053604518443143324\n",
      "Epoch 2498 cost: 0.053080989150922395\n",
      "Epoch 2499 cost: 0.05368988628382336\n",
      "Epoch 2500 cost: 0.05357926669661347\n"
     ]
    },
    {
     "name": "stdout",
     "output_type": "stream",
     "text": [
      "Epoch 2501 cost: 0.0665649972092442\n",
      "Epoch 2502 cost: 0.06250110748974372\n",
      "Epoch 2503 cost: 0.07708081611093615\n",
      "Epoch 2504 cost: 0.053388408465424135\n",
      "Epoch 2505 cost: 0.05389776349131524\n",
      "Epoch 2506 cost: 0.0509856553041647\n",
      "Epoch 2507 cost: 0.04572094604594234\n",
      "Epoch 2508 cost: 0.056044290705400915\n",
      "Epoch 2509 cost: 0.04822331709359078\n",
      "Epoch 2510 cost: 0.04916136752611454\n"
     ]
    },
    {
     "name": "stdout",
     "output_type": "stream",
     "text": [
      "Epoch 2511 cost: 0.058200466404769995\n",
      "Epoch 2512 cost: 0.05647749040157641\n",
      "Epoch 2513 cost: 0.050337225986037216\n",
      "Epoch 2514 cost: 0.07709479523014902\n",
      "Epoch 2515 cost: 0.054480332293597285\n",
      "Epoch 2516 cost: 0.04349860232610068\n",
      "Epoch 2517 cost: 0.05842519430264408\n",
      "Epoch 2518 cost: 0.0461077123841964\n",
      "Epoch 2519 cost: 0.050257471537398526\n",
      "Epoch 2520 cost: 0.054723831325972735\n"
     ]
    },
    {
     "name": "stdout",
     "output_type": "stream",
     "text": [
      "Epoch 2521 cost: 0.05581923146643033\n",
      "Epoch 2522 cost: 0.05459139916569203\n",
      "Epoch 2523 cost: 0.05455177941779899\n",
      "Epoch 2524 cost: 0.08043208434966172\n",
      "Epoch 2525 cost: 0.06790683952190052\n",
      "Epoch 2526 cost: 0.05401448311277066\n",
      "Epoch 2527 cost: 0.05401736255541985\n",
      "Epoch 2528 cost: 0.042633323648339536\n",
      "Epoch 2529 cost: 0.06642372090340128\n",
      "Epoch 2530 cost: 0.06785239769428063\n"
     ]
    },
    {
     "name": "stdout",
     "output_type": "stream",
     "text": [
      "Epoch 2531 cost: 0.060223313972729973\n",
      "Epoch 2532 cost: 0.052830368194093466\n",
      "Epoch 2533 cost: 0.049868162875524785\n",
      "Epoch 2534 cost: 0.04615637865960942\n",
      "Epoch 2535 cost: 0.05174446498119777\n",
      "Epoch 2536 cost: 0.050236162479291385\n",
      "Epoch 2537 cost: 0.05867003679762762\n",
      "Epoch 2538 cost: 0.06303296610527594\n",
      "Epoch 2539 cost: 0.08821814934761428\n",
      "Epoch 2540 cost: 0.04207186581858121\n"
     ]
    },
    {
     "name": "stdout",
     "output_type": "stream",
     "text": [
      "Epoch 2541 cost: 0.059052523906372056\n",
      "Epoch 2542 cost: 0.05954544159169751\n",
      "Epoch 2543 cost: 0.055473302877225523\n",
      "Epoch 2544 cost: 0.0532691067657098\n",
      "Epoch 2545 cost: 0.052201673351459886\n",
      "Epoch 2546 cost: 0.06521385380861723\n",
      "Epoch 2547 cost: 0.05692713184398446\n",
      "Epoch 2548 cost: 0.053689878007609444\n",
      "Epoch 2549 cost: 0.046648000492636794\n",
      "Epoch 2550 cost: 0.06573214849819992\n"
     ]
    },
    {
     "name": "stdout",
     "output_type": "stream",
     "text": [
      "Epoch 2551 cost: 0.06466765311900657\n",
      "Epoch 2552 cost: 0.07657409640004222\n",
      "Epoch 2553 cost: 0.047926676808380315\n",
      "Epoch 2554 cost: 0.05215583505190759\n",
      "Epoch 2555 cost: 0.05576188601928738\n",
      "Epoch 2556 cost: 0.04605402061587872\n",
      "Epoch 2557 cost: 0.04512622941122644\n",
      "Epoch 2558 cost: 0.05893284857058769\n",
      "Epoch 2559 cost: 0.04575305138296524\n",
      "Epoch 2560 cost: 0.0862533966302055\n"
     ]
    },
    {
     "name": "stdout",
     "output_type": "stream",
     "text": [
      "Epoch 2561 cost: 0.054407329929229836\n",
      "Epoch 2562 cost: 0.05244372163900383\n",
      "Epoch 2563 cost: 0.07574834057095758\n",
      "Epoch 2564 cost: 0.08029978467058116\n",
      "Epoch 2565 cost: 0.05218864648453129\n",
      "Epoch 2566 cost: 0.048343710044097404\n",
      "Epoch 2567 cost: 0.0669986849856426\n",
      "Epoch 2568 cost: 0.05692190253750682\n",
      "Epoch 2569 cost: 0.05504716442285507\n",
      "Epoch 2570 cost: 0.05997780768295453\n"
     ]
    },
    {
     "name": "stdout",
     "output_type": "stream",
     "text": [
      "Epoch 2571 cost: 0.04924104150320234\n",
      "Epoch 2572 cost: 0.059144741764210626\n",
      "Epoch 2573 cost: 0.048684278056171745\n",
      "Epoch 2574 cost: 0.051706928442825525\n",
      "Epoch 2575 cost: 0.06521856133057931\n",
      "Epoch 2576 cost: 0.09682536411196906\n",
      "Epoch 2577 cost: 0.050009888714470034\n",
      "Epoch 2578 cost: 0.05215418207704508\n",
      "Epoch 2579 cost: 0.05798847840843644\n",
      "Epoch 2580 cost: 0.04286313353689562\n"
     ]
    },
    {
     "name": "stdout",
     "output_type": "stream",
     "text": [
      "Epoch 2581 cost: 0.07229287392181293\n",
      "Epoch 2582 cost: 0.06323911963334046\n",
      "Epoch 2583 cost: 0.050110977801739426\n",
      "Epoch 2584 cost: 0.05419305092283179\n",
      "Epoch 2585 cost: 0.055864908849941206\n",
      "Epoch 2586 cost: 0.05253249959139402\n",
      "Epoch 2587 cost: 0.056464653879580745\n",
      "Epoch 2588 cost: 0.0630699265852869\n",
      "Epoch 2589 cost: 0.09456788560262282\n",
      "Epoch 2590 cost: 0.04402852758899583\n"
     ]
    },
    {
     "name": "stdout",
     "output_type": "stream",
     "text": [
      "Epoch 2591 cost: 0.043585550439775515\n",
      "Epoch 2592 cost: 0.04503294117449387\n",
      "Epoch 2593 cost: 0.04697074277433901\n",
      "Epoch 2594 cost: 0.057121664062516425\n",
      "Epoch 2595 cost: 0.06052410129367002\n",
      "Epoch 2596 cost: 0.055727468665979475\n",
      "Epoch 2597 cost: 0.05331168818558117\n",
      "Epoch 2598 cost: 0.05244045068615382\n",
      "Epoch 2599 cost: 0.044908421367852246\n",
      "Epoch 2600 cost: 0.04994111925531933\n"
     ]
    },
    {
     "name": "stdout",
     "output_type": "stream",
     "text": [
      "Epoch 2601 cost: 0.06072755156772994\n",
      "Epoch 2602 cost: 0.05613773104829207\n",
      "Epoch 2603 cost: 0.058176049270880555\n",
      "Epoch 2604 cost: 0.04798306742147635\n",
      "Epoch 2605 cost: 0.0475532745473745\n",
      "Epoch 2606 cost: 0.05302091273307563\n",
      "Epoch 2607 cost: 0.08117349946828077\n",
      "Epoch 2608 cost: 0.0453401038150019\n",
      "Epoch 2609 cost: 0.04821770716580576\n",
      "Epoch 2610 cost: 0.0441557584496094\n"
     ]
    },
    {
     "name": "stdout",
     "output_type": "stream",
     "text": [
      "Epoch 2611 cost: 0.060045909087834234\n",
      "Epoch 2612 cost: 0.084201226393914\n",
      "Epoch 2613 cost: 0.055618226767465286\n",
      "Epoch 2614 cost: 0.06038142349378528\n",
      "Epoch 2615 cost: 0.0624052094701043\n",
      "Epoch 2616 cost: 0.05350104983841774\n",
      "Epoch 2617 cost: 0.04501787107463613\n",
      "Epoch 2618 cost: 0.06039021716463597\n",
      "Epoch 2619 cost: 0.049156025293453455\n",
      "Epoch 2620 cost: 0.05195540827514401\n"
     ]
    },
    {
     "name": "stdout",
     "output_type": "stream",
     "text": [
      "Epoch 2621 cost: 0.04347217652810912\n",
      "Epoch 2622 cost: 0.07006788392433791\n",
      "Epoch 2623 cost: 0.0450177924528318\n",
      "Epoch 2624 cost: 0.06027259807413881\n",
      "Epoch 2625 cost: 0.07595494182027723\n",
      "Epoch 2626 cost: 0.04498087576194733\n",
      "Epoch 2627 cost: 0.04717864541799559\n",
      "Epoch 2628 cost: 0.04211444746619145\n",
      "Epoch 2629 cost: 0.046397408978536635\n",
      "Epoch 2630 cost: 0.04781308330089356\n"
     ]
    },
    {
     "name": "stdout",
     "output_type": "stream",
     "text": [
      "Epoch 2631 cost: 0.051695555927986005\n",
      "Epoch 2632 cost: 0.04800901966254719\n",
      "Epoch 2633 cost: 0.04650729855540032\n",
      "Epoch 2634 cost: 0.05763695163599785\n",
      "Epoch 2635 cost: 0.06187138656512022\n",
      "Epoch 2636 cost: 0.05895633051414219\n",
      "Epoch 2637 cost: 0.05491810981707617\n",
      "Epoch 2638 cost: 0.04582648924029163\n",
      "Epoch 2639 cost: 0.049714524583692535\n",
      "Epoch 2640 cost: 0.06440528391645532\n"
     ]
    },
    {
     "name": "stdout",
     "output_type": "stream",
     "text": [
      "Epoch 2641 cost: 0.041078487295257676\n",
      "Epoch 2642 cost: 0.0641601929722223\n",
      "Epoch 2643 cost: 0.061093026754818515\n",
      "Epoch 2644 cost: 0.049715592638202154\n",
      "Epoch 2645 cost: 0.06850493216694807\n",
      "Epoch 2646 cost: 0.08190043088332026\n",
      "Epoch 2647 cost: 0.06664150220277804\n",
      "Epoch 2648 cost: 0.054265281016646814\n",
      "Epoch 2649 cost: 0.05467257727616182\n",
      "Epoch 2650 cost: 0.048283599321582785\n"
     ]
    },
    {
     "name": "stdout",
     "output_type": "stream",
     "text": [
      "Epoch 2651 cost: 0.05389551093403085\n",
      "Epoch 2652 cost: 0.07190709899201182\n",
      "Epoch 2653 cost: 0.07453583409817105\n",
      "Epoch 2654 cost: 0.04370798810041927\n",
      "Epoch 2655 cost: 0.04772711725689612\n",
      "Epoch 2656 cost: 0.07062739744026085\n",
      "Epoch 2657 cost: 0.04805569745725447\n",
      "Epoch 2658 cost: 0.05434500432270923\n",
      "Epoch 2659 cost: 0.048514953006961334\n",
      "Epoch 2660 cost: 0.06492213957162242\n"
     ]
    },
    {
     "name": "stdout",
     "output_type": "stream",
     "text": [
      "Epoch 2661 cost: 0.06730682359655349\n",
      "Epoch 2662 cost: 0.05170811142125601\n",
      "Epoch 2663 cost: 0.07357753475520983\n",
      "Epoch 2664 cost: 0.05466567275844006\n",
      "Epoch 2665 cost: 0.044927241063283475\n",
      "Epoch 2666 cost: 0.04348963806033267\n",
      "Epoch 2667 cost: 0.06666154276903832\n",
      "Epoch 2668 cost: 0.07325900504066928\n",
      "Epoch 2669 cost: 0.10000747805735008\n",
      "Epoch 2670 cost: 0.048274291718700756\n"
     ]
    },
    {
     "name": "stdout",
     "output_type": "stream",
     "text": [
      "Epoch 2671 cost: 0.04639087138117912\n",
      "Epoch 2672 cost: 0.06587678625421026\n",
      "Epoch 2673 cost: 0.045947240147417384\n",
      "Epoch 2674 cost: 0.08493246602189577\n",
      "Epoch 2675 cost: 0.046917636426808795\n",
      "Epoch 2676 cost: 0.04331350924364125\n",
      "Epoch 2677 cost: 0.044761496605732254\n",
      "Epoch 2678 cost: 0.046294377082333533\n",
      "Epoch 2679 cost: 0.04181404917071005\n",
      "Epoch 2680 cost: 0.0462026371317469\n"
     ]
    },
    {
     "name": "stdout",
     "output_type": "stream",
     "text": [
      "Epoch 2681 cost: 0.05667593671121203\n",
      "Epoch 2682 cost: 0.05670453411344504\n",
      "Epoch 2683 cost: 0.04748425077381637\n",
      "Epoch 2684 cost: 0.06403827428019568\n",
      "Epoch 2685 cost: 0.05044569703128098\n",
      "Epoch 2686 cost: 0.06643287350018622\n",
      "Epoch 2687 cost: 0.04634192555459237\n",
      "Epoch 2688 cost: 0.05575374862418359\n",
      "Epoch 2689 cost: 0.059265458537390396\n",
      "Epoch 2690 cost: 0.06372749605295747\n"
     ]
    },
    {
     "name": "stdout",
     "output_type": "stream",
     "text": [
      "Epoch 2691 cost: 0.059198750495691385\n",
      "Epoch 2692 cost: 0.06025663844648034\n",
      "Epoch 2693 cost: 0.07277680037562373\n",
      "Epoch 2694 cost: 0.05315293500422615\n",
      "Epoch 2695 cost: 0.06722448962377073\n",
      "Epoch 2696 cost: 0.08830635241880498\n",
      "Epoch 2697 cost: 0.06208875734176774\n",
      "Epoch 2698 cost: 0.04501620049141512\n",
      "Epoch 2699 cost: 0.045564261268596744\n",
      "Epoch 2700 cost: 0.044115618595483255\n"
     ]
    },
    {
     "name": "stdout",
     "output_type": "stream",
     "text": [
      "Epoch 2701 cost: 0.05287197554514231\n",
      "Epoch 2702 cost: 0.060307059411420554\n",
      "Epoch 2703 cost: 0.0452207705934435\n",
      "Epoch 2704 cost: 0.047669881149635975\n",
      "Epoch 2705 cost: 0.0417408161325485\n",
      "Epoch 2706 cost: 0.07076008292328623\n",
      "Epoch 2707 cost: 0.061343406021297904\n",
      "Epoch 2708 cost: 0.048996019618156354\n",
      "Epoch 2709 cost: 0.043549562899564735\n",
      "Epoch 2710 cost: 0.04351484435024034\n"
     ]
    },
    {
     "name": "stdout",
     "output_type": "stream",
     "text": [
      "Epoch 2711 cost: 0.039969513903425215\n",
      "Epoch 2712 cost: 0.04666730729435163\n",
      "Epoch 2713 cost: 0.045089919863026615\n",
      "Epoch 2714 cost: 0.052685247436236524\n",
      "Epoch 2715 cost: 0.05660342114855168\n",
      "Epoch 2716 cost: 0.0421413191974082\n",
      "Epoch 2717 cost: 0.05848201622480521\n",
      "Epoch 2718 cost: 0.06809393419885865\n",
      "Epoch 2719 cost: 0.04530430478012328\n",
      "Epoch 2720 cost: 0.05920212385041668\n"
     ]
    },
    {
     "name": "stdout",
     "output_type": "stream",
     "text": [
      "Epoch 2721 cost: 0.06770291388379443\n",
      "Epoch 2722 cost: 0.04502979684084458\n",
      "Epoch 2723 cost: 0.039889661745429766\n",
      "Epoch 2724 cost: 0.0688704394488344\n",
      "Epoch 2725 cost: 0.04555933699605414\n",
      "Epoch 2726 cost: 0.07287246883540698\n",
      "Epoch 2727 cost: 0.08845193661904507\n",
      "Epoch 2728 cost: 0.09048916295093996\n",
      "Epoch 2729 cost: 0.0829837097783479\n",
      "Epoch 2730 cost: 0.06268826791146018\n"
     ]
    },
    {
     "name": "stdout",
     "output_type": "stream",
     "text": [
      "Epoch 2731 cost: 0.07083260007073387\n",
      "Epoch 2732 cost: 0.053062152268351634\n",
      "Epoch 2733 cost: 0.05444665526589736\n",
      "Epoch 2734 cost: 0.046931161491322544\n",
      "Epoch 2735 cost: 0.052702919075787724\n",
      "Epoch 2736 cost: 0.06274413254915656\n",
      "Epoch 2737 cost: 0.057675452875017005\n",
      "Epoch 2738 cost: 0.0641539542728884\n",
      "Epoch 2739 cost: 0.04856237348114856\n",
      "Epoch 2740 cost: 0.04642757729846672\n"
     ]
    },
    {
     "name": "stdout",
     "output_type": "stream",
     "text": [
      "Epoch 2741 cost: 0.041451445196001954\n",
      "Epoch 2742 cost: 0.0413235905386268\n",
      "Epoch 2743 cost: 0.06066441328657367\n",
      "Epoch 2744 cost: 0.04544700893614414\n",
      "Epoch 2745 cost: 0.05275166579839928\n",
      "Epoch 2746 cost: 0.04312991017243673\n",
      "Epoch 2747 cost: 0.03857199106054491\n",
      "Epoch 2748 cost: 0.062475165342663494\n",
      "Epoch 2749 cost: 0.07469347033359079\n",
      "Epoch 2750 cost: 0.04711762071240095\n"
     ]
    },
    {
     "name": "stdout",
     "output_type": "stream",
     "text": [
      "Epoch 2751 cost: 0.04092861591769353\n",
      "Epoch 2752 cost: 0.04504956655113135\n",
      "Epoch 2753 cost: 0.07055871841950503\n",
      "Epoch 2754 cost: 0.07587069593457599\n",
      "Epoch 2755 cost: 0.05750627894048892\n",
      "Epoch 2756 cost: 0.052386512825668835\n",
      "Epoch 2757 cost: 0.05657589658967336\n",
      "Epoch 2758 cost: 0.05200485892575819\n",
      "Epoch 2759 cost: 0.04254127302299092\n",
      "Epoch 2760 cost: 0.0433141345495797\n"
     ]
    },
    {
     "name": "stdout",
     "output_type": "stream",
     "text": [
      "Epoch 2761 cost: 0.04543478943165964\n",
      "Epoch 2762 cost: 0.05820180456735058\n",
      "Epoch 2763 cost: 0.08262448539864509\n",
      "Epoch 2764 cost: 0.06645314741007578\n",
      "Epoch 2765 cost: 0.04724013947885679\n",
      "Epoch 2766 cost: 0.049916000121432255\n",
      "Epoch 2767 cost: 0.04568469511384573\n",
      "Epoch 2768 cost: 0.05221723576067023\n",
      "Epoch 2769 cost: 0.05206144236403442\n",
      "Epoch 2770 cost: 0.044432340131887474\n"
     ]
    },
    {
     "name": "stdout",
     "output_type": "stream",
     "text": [
      "Epoch 2771 cost: 0.051984493738138085\n",
      "Epoch 2772 cost: 0.05184574150375155\n",
      "Epoch 2773 cost: 0.044646621202842754\n",
      "Epoch 2774 cost: 0.0432760715966753\n",
      "Epoch 2775 cost: 0.04908306950966828\n",
      "Epoch 2776 cost: 0.04068376384171188\n",
      "Epoch 2777 cost: 0.047394101092403856\n",
      "Epoch 2778 cost: 0.05069727317218817\n",
      "Epoch 2779 cost: 0.05592474774692003\n",
      "Epoch 2780 cost: 0.05970154125465042\n"
     ]
    },
    {
     "name": "stdout",
     "output_type": "stream",
     "text": [
      "Epoch 2781 cost: 0.04515179808478405\n",
      "Epoch 2782 cost: 0.053879379028046966\n",
      "Epoch 2783 cost: 0.08660359344105786\n",
      "Epoch 2784 cost: 0.06568579373405477\n",
      "Epoch 2785 cost: 0.05666936548083364\n",
      "Epoch 2786 cost: 0.056658699908592486\n",
      "Epoch 2787 cost: 0.06778173813952329\n",
      "Epoch 2788 cost: 0.06449722544010134\n",
      "Epoch 2789 cost: 0.0559222628149096\n",
      "Epoch 2790 cost: 0.04371279190755819\n"
     ]
    },
    {
     "name": "stdout",
     "output_type": "stream",
     "text": [
      "Epoch 2791 cost: 0.050032906683406854\n",
      "Epoch 2792 cost: 0.07505540275841623\n",
      "Epoch 2793 cost: 0.04816327489664114\n",
      "Epoch 2794 cost: 0.040681002681481095\n",
      "Epoch 2795 cost: 0.0446619642598215\n",
      "Epoch 2796 cost: 0.055249172591876256\n",
      "Epoch 2797 cost: 0.08712444933666266\n",
      "Epoch 2798 cost: 0.05025330844652934\n",
      "Epoch 2799 cost: 0.04257835554869693\n",
      "Epoch 2800 cost: 0.058601513002478955\n"
     ]
    },
    {
     "name": "stdout",
     "output_type": "stream",
     "text": [
      "Epoch 2801 cost: 0.049477973836944314\n",
      "Epoch 2802 cost: 0.04670396591949908\n",
      "Epoch 2803 cost: 0.07379462843924606\n",
      "Epoch 2804 cost: 0.047639532960926476\n",
      "Epoch 2805 cost: 0.05808772924494738\n",
      "Epoch 2806 cost: 0.051090275694214364\n",
      "Epoch 2807 cost: 0.04781176904924263\n",
      "Epoch 2808 cost: 0.037481578988137726\n",
      "Epoch 2809 cost: 0.042128283664464534\n",
      "Epoch 2810 cost: 0.037318196612460136\n"
     ]
    },
    {
     "name": "stdout",
     "output_type": "stream",
     "text": [
      "Epoch 2811 cost: 0.052134974934355274\n",
      "Epoch 2812 cost: 0.0426243264370763\n",
      "Epoch 2813 cost: 0.042455922057319066\n",
      "Epoch 2814 cost: 0.07835097841433095\n",
      "Epoch 2815 cost: 0.06385780246495452\n",
      "Epoch 2816 cost: 0.044040869766328795\n",
      "Epoch 2817 cost: 0.0864237541344605\n",
      "Epoch 2818 cost: 0.04763882608966221\n",
      "Epoch 2819 cost: 0.05613996683736656\n",
      "Epoch 2820 cost: 0.04844133822262113\n"
     ]
    },
    {
     "name": "stdout",
     "output_type": "stream",
     "text": [
      "Epoch 2821 cost: 0.040493830367655796\n",
      "Epoch 2822 cost: 0.0388074325760467\n",
      "Epoch 2823 cost: 0.05515601967598979\n",
      "Epoch 2824 cost: 0.06309109393248734\n",
      "Epoch 2825 cost: 0.048111330872279964\n",
      "Epoch 2826 cost: 0.07359383454384476\n",
      "Epoch 2827 cost: 0.0577035191853874\n",
      "Epoch 2828 cost: 0.05491382212163023\n",
      "Epoch 2829 cost: 0.06428106135635801\n",
      "Epoch 2830 cost: 0.03708368734926691\n"
     ]
    },
    {
     "name": "stdout",
     "output_type": "stream",
     "text": [
      "Epoch 2831 cost: 0.042064117982767\n",
      "Epoch 2832 cost: 0.04572835996189587\n",
      "Epoch 2833 cost: 0.05742389568568532\n",
      "Epoch 2834 cost: 0.04427095446859237\n",
      "Epoch 2835 cost: 0.05130261881077602\n",
      "Epoch 2836 cost: 0.05528453941987551\n",
      "Epoch 2837 cost: 0.039845345394123495\n",
      "Epoch 2838 cost: 0.04649250075372118\n",
      "Epoch 2839 cost: 0.044338352239489856\n",
      "Epoch 2840 cost: 0.04523689683695095\n"
     ]
    },
    {
     "name": "stdout",
     "output_type": "stream",
     "text": [
      "Epoch 2841 cost: 0.06833725593167393\n",
      "Epoch 2842 cost: 0.0518708300215736\n",
      "Epoch 2843 cost: 0.04726280863974837\n",
      "Epoch 2844 cost: 0.045918789552049304\n",
      "Epoch 2845 cost: 0.05409046342858991\n",
      "Epoch 2846 cost: 0.04355107332801096\n",
      "Epoch 2847 cost: 0.05230185923046746\n",
      "Epoch 2848 cost: 0.04469811817172618\n",
      "Epoch 2849 cost: 0.04346228112433654\n",
      "Epoch 2850 cost: 0.07295704690484876\n"
     ]
    },
    {
     "name": "stdout",
     "output_type": "stream",
     "text": [
      "Epoch 2851 cost: 0.04266291223955854\n",
      "Epoch 2852 cost: 0.06528803286679838\n",
      "Epoch 2853 cost: 0.051334123243200004\n",
      "Epoch 2854 cost: 0.04237056940287776\n",
      "Epoch 2855 cost: 0.04217052153760591\n",
      "Epoch 2856 cost: 0.05306420292080704\n",
      "Epoch 2857 cost: 0.07044510637986144\n",
      "Epoch 2858 cost: 0.05150598340166494\n",
      "Epoch 2859 cost: 0.04592257277464684\n",
      "Epoch 2860 cost: 0.04941433151151309\n"
     ]
    },
    {
     "name": "stdout",
     "output_type": "stream",
     "text": [
      "Epoch 2861 cost: 0.04925216245213135\n",
      "Epoch 2862 cost: 0.04564887580829952\n",
      "Epoch 2863 cost: 0.05051763855346835\n",
      "Epoch 2864 cost: 0.06876713980063272\n",
      "Epoch 2865 cost: 0.09364201503498615\n",
      "Epoch 2866 cost: 0.04843656444598041\n",
      "Epoch 2867 cost: 0.04716708574653939\n",
      "Epoch 2868 cost: 0.042229686611112344\n",
      "Epoch 2869 cost: 0.03766356864348033\n",
      "Epoch 2870 cost: 0.05545918058692261\n"
     ]
    },
    {
     "name": "stdout",
     "output_type": "stream",
     "text": [
      "Epoch 2871 cost: 0.04153409707170969\n",
      "Epoch 2872 cost: 0.06556482553957754\n",
      "Epoch 2873 cost: 0.057137278062744754\n",
      "Epoch 2874 cost: 0.07156102582173628\n",
      "Epoch 2875 cost: 0.08054122543733715\n",
      "Epoch 2876 cost: 0.03726139211696702\n",
      "Epoch 2877 cost: 0.03915013840243001\n",
      "Epoch 2878 cost: 0.0594067204200777\n",
      "Epoch 2879 cost: 0.042937630420896516\n",
      "Epoch 2880 cost: 0.050205418151581534\n"
     ]
    },
    {
     "name": "stdout",
     "output_type": "stream",
     "text": [
      "Epoch 2881 cost: 0.05617367636134338\n",
      "Epoch 2882 cost: 0.04486602806094807\n",
      "Epoch 2883 cost: 0.04227306216622693\n",
      "Epoch 2884 cost: 0.059750338826969215\n",
      "Epoch 2885 cost: 0.06787579777993359\n",
      "Epoch 2886 cost: 0.05724506032183538\n",
      "Epoch 2887 cost: 0.043056898733890035\n",
      "Epoch 2888 cost: 0.053628073597458595\n",
      "Epoch 2889 cost: 0.07315241298573191\n",
      "Epoch 2890 cost: 0.03851232547092654\n"
     ]
    },
    {
     "name": "stdout",
     "output_type": "stream",
     "text": [
      "Epoch 2891 cost: 0.04098833146068634\n",
      "Epoch 2892 cost: 0.04276930610724227\n",
      "Epoch 2893 cost: 0.04899437841677306\n",
      "Epoch 2894 cost: 0.05529822732448396\n",
      "Epoch 2895 cost: 0.04799154239036607\n",
      "Epoch 2896 cost: 0.042631788347342985\n",
      "Epoch 2897 cost: 0.041432344461799206\n",
      "Epoch 2898 cost: 0.058770121630450055\n",
      "Epoch 2899 cost: 0.07747992293545734\n",
      "Epoch 2900 cost: 0.03953888541026205\n"
     ]
    },
    {
     "name": "stdout",
     "output_type": "stream",
     "text": [
      "Epoch 2901 cost: 0.053501439274499206\n",
      "Epoch 2902 cost: 0.06421216126032762\n",
      "Epoch 2903 cost: 0.05664515190424082\n",
      "Epoch 2904 cost: 0.07083057066443989\n",
      "Epoch 2905 cost: 0.04615090358484925\n",
      "Epoch 2906 cost: 0.04065864864613699\n",
      "Epoch 2907 cost: 0.03935618593909461\n",
      "Epoch 2908 cost: 0.05368738324438873\n",
      "Epoch 2909 cost: 0.08158076293257935\n",
      "Epoch 2910 cost: 0.06491160318907423\n"
     ]
    },
    {
     "name": "stdout",
     "output_type": "stream",
     "text": [
      "Epoch 2911 cost: 0.041276623727916004\n",
      "Epoch 2912 cost: 0.06712353811776847\n",
      "Epoch 2913 cost: 0.061067526868696\n",
      "Epoch 2914 cost: 0.04246403425325659\n",
      "Epoch 2915 cost: 0.07661058150547297\n",
      "Epoch 2916 cost: 0.06892016737271515\n",
      "Epoch 2917 cost: 0.03758817048457655\n",
      "Epoch 2918 cost: 0.06586375134764784\n",
      "Epoch 2919 cost: 0.07050246415196113\n",
      "Epoch 2920 cost: 0.0395255317729437\n"
     ]
    },
    {
     "name": "stdout",
     "output_type": "stream",
     "text": [
      "Epoch 2921 cost: 0.045056783509602044\n",
      "Epoch 2922 cost: 0.04856619473863613\n",
      "Epoch 2923 cost: 0.04733089837977915\n",
      "Epoch 2924 cost: 0.05099513282661108\n",
      "Epoch 2925 cost: 0.07123326455601504\n",
      "Epoch 2926 cost: 0.07903499549351435\n",
      "Epoch 2927 cost: 0.09248553233929038\n",
      "Epoch 2928 cost: 0.046045488594573206\n",
      "Epoch 2929 cost: 0.040223137851349476\n",
      "Epoch 2930 cost: 0.04176147311073307\n"
     ]
    },
    {
     "name": "stdout",
     "output_type": "stream",
     "text": [
      "Epoch 2931 cost: 0.038375626778402054\n",
      "Epoch 2932 cost: 0.05274511520759685\n",
      "Epoch 2933 cost: 0.04735603269012894\n",
      "Epoch 2934 cost: 0.0485728527580285\n",
      "Epoch 2935 cost: 0.05280142869934539\n",
      "Epoch 2936 cost: 0.06249939623092406\n",
      "Epoch 2937 cost: 0.06236900391798661\n",
      "Epoch 2938 cost: 0.05076168054581596\n",
      "Epoch 2939 cost: 0.0686061349893682\n",
      "Epoch 2940 cost: 0.03784391441192159\n"
     ]
    },
    {
     "name": "stdout",
     "output_type": "stream",
     "text": [
      "Epoch 2941 cost: 0.049392718580813656\n",
      "Epoch 2942 cost: 0.06233878576243283\n",
      "Epoch 2943 cost: 0.09073887526276217\n",
      "Epoch 2944 cost: 0.04414169608973551\n",
      "Epoch 2945 cost: 0.04390316260345773\n",
      "Epoch 2946 cost: 0.041267849510685364\n",
      "Epoch 2947 cost: 0.041922117471411474\n",
      "Epoch 2948 cost: 0.05370157905060369\n",
      "Epoch 2949 cost: 0.05533115073310821\n",
      "Epoch 2950 cost: 0.04539439690271173\n"
     ]
    },
    {
     "name": "stdout",
     "output_type": "stream",
     "text": [
      "Epoch 2951 cost: 0.05323874516850516\n",
      "Epoch 2952 cost: 0.045162998201901075\n",
      "Epoch 2953 cost: 0.0459588140521214\n",
      "Epoch 2954 cost: 0.054390047159271475\n",
      "Epoch 2955 cost: 0.07066030515877866\n",
      "Epoch 2956 cost: 0.03703233288882734\n",
      "Epoch 2957 cost: 0.038076922026428005\n",
      "Epoch 2958 cost: 0.045557029382005766\n",
      "Epoch 2959 cost: 0.05436823107618508\n",
      "Epoch 2960 cost: 0.04680235479900493\n"
     ]
    },
    {
     "name": "stdout",
     "output_type": "stream",
     "text": [
      "Epoch 2961 cost: 0.03886266593824338\n",
      "Epoch 2962 cost: 0.0679587216973358\n",
      "Epoch 2963 cost: 0.04190046229909532\n",
      "Epoch 2964 cost: 0.040301706742360985\n",
      "Epoch 2965 cost: 0.06535772255350457\n",
      "Epoch 2966 cost: 0.043163413946784024\n",
      "Epoch 2967 cost: 0.08627385944517638\n",
      "Epoch 2968 cost: 0.05562817170660788\n",
      "Epoch 2969 cost: 0.03425694588314844\n",
      "Epoch 2970 cost: 0.05061899968608537\n"
     ]
    },
    {
     "name": "stdout",
     "output_type": "stream",
     "text": [
      "Epoch 2971 cost: 0.06496115945630325\n",
      "Epoch 2972 cost: 0.052752033622223506\n",
      "Epoch 2973 cost: 0.037625368771455434\n",
      "Epoch 2974 cost: 0.05140040371599894\n",
      "Epoch 2975 cost: 0.08432931959433114\n",
      "Epoch 2976 cost: 0.04493307016607846\n",
      "Epoch 2977 cost: 0.08913389637374611\n",
      "Epoch 2978 cost: 0.08402636779590218\n",
      "Epoch 2979 cost: 0.04441383588227557\n",
      "Epoch 2980 cost: 0.05734880831021617\n"
     ]
    },
    {
     "name": "stdout",
     "output_type": "stream",
     "text": [
      "Epoch 2981 cost: 0.036525840715157444\n",
      "Epoch 2982 cost: 0.05621888163023669\n",
      "Epoch 2983 cost: 0.07516437028759813\n",
      "Epoch 2984 cost: 0.056180621524211855\n",
      "Epoch 2985 cost: 0.0697706542720259\n",
      "Epoch 2986 cost: 0.054695707384554364\n",
      "Epoch 2987 cost: 0.04008848156147068\n",
      "Epoch 2988 cost: 0.03722102231883126\n",
      "Epoch 2989 cost: 0.05498590538826711\n",
      "Epoch 2990 cost: 0.06276606055822095\n"
     ]
    },
    {
     "name": "stdout",
     "output_type": "stream",
     "text": [
      "Epoch 2991 cost: 0.051133579200829386\n",
      "Epoch 2992 cost: 0.05263568738001114\n",
      "Epoch 2993 cost: 0.08205593944233994\n",
      "Epoch 2994 cost: 0.0699534802033095\n",
      "Epoch 2995 cost: 0.04490948686670115\n",
      "Epoch 2996 cost: 0.07429327970999103\n",
      "Epoch 2997 cost: 0.05415443798457751\n",
      "Epoch 2998 cost: 0.05449667894579943\n",
      "Epoch 2999 cost: 0.04578432164748245\n",
      "Epoch 3000 cost: 0.036796415972011116\n"
     ]
    }
   ],
   "source": [
    "η = 0.01 # learning rate\n",
    "max_epoch = 3000 # maximum iteration\n",
    "anim = Animation() # visualization\n",
    "\n",
    "### Training loop\n",
    "for i in 1:max_epoch\n",
    "    dataset = minibatch(input, output, 5)\n",
    "\n",
    "    # Train model\n",
    "    cost = train!(neural_model, Cost, dataset, η)\n",
    "\n",
    "    # Report loss\n",
    "    println(\"Epoch $i cost: $cost\")\n",
    "\n",
    "    # Update visualization\n",
    "    if i % 10 == 0\n",
    "        plot_model(neural_model, x1grid, x2grid)\n",
    "        frame(anim)\n",
    "    end\n",
    "end"
   ]
  },
  {
   "cell_type": "code",
   "execution_count": 7,
   "metadata": {
    "collapsed": false
   },
   "outputs": [
    {
     "name": "stderr",
     "output_type": "stream",
     "text": [
      "┌ Info: Saved animation to \n",
      "│   fn = /home/user/tmp.gif\n",
      "└ @ Plots /ext/julia/depot/packages/Plots/AXUqs/src/animation.jl:98\n"
     ]
    },
    {
     "data": {
      "image/svg+xml": "<?xml version=\"1.0\" encoding=\"utf-8\"?>\n<svg xmlns=\"http://www.w3.org/2000/svg\" xmlns:xlink=\"http://www.w3.org/1999/xlink\" width=\"600\" height=\"400\" viewBox=\"0 0 2400 1600\">\n<defs>\n  <clipPath id=\"clip9100\">\n    <rect x=\"0\" y=\"0\" width=\"2400\" height=\"1600\"/>\n  </clipPath>\n</defs>\n<path clip-path=\"url(#clip9100)\" d=\"\nM0 1600 L2400 1600 L2400 0 L0 0  Z\n  \" fill=\"#ffffff\" fill-rule=\"evenodd\" fill-opacity=\"1\"/>\n<defs>\n  <clipPath id=\"clip9101\">\n    <rect x=\"480\" y=\"0\" width=\"1681\" height=\"1600\"/>\n  </clipPath>\n</defs>\n<path clip-path=\"url(#clip9100)\" d=\"\nM168.627 1487.47 L1612.67 1487.47 L1612.67 47.2441 L168.627 47.2441  Z\n  \" fill=\"#ffffff\" fill-rule=\"evenodd\" fill-opacity=\"1\"/>\n<defs>\n  <clipPath id=\"clip9102\">\n    <rect x=\"168\" y=\"47\" width=\"1445\" height=\"1441\"/>\n  </clipPath>\n</defs>\n<polyline clip-path=\"url(#clip9102)\" style=\"stroke:#000000; stroke-width:2; stroke-opacity:0.1; fill:none\" points=\"\n  209.496,1487.47 209.496,47.2441 \n  \"/>\n<polyline clip-path=\"url(#clip9102)\" style=\"stroke:#000000; stroke-width:2; stroke-opacity:0.1; fill:none\" points=\"\n  436.546,1487.47 436.546,47.2441 \n  \"/>\n<polyline clip-path=\"url(#clip9102)\" style=\"stroke:#000000; stroke-width:2; stroke-opacity:0.1; fill:none\" points=\"\n  663.596,1487.47 663.596,47.2441 \n  \"/>\n<polyline clip-path=\"url(#clip9102)\" style=\"stroke:#000000; stroke-width:2; stroke-opacity:0.1; fill:none\" points=\"\n  890.646,1487.47 890.646,47.2441 \n  \"/>\n<polyline clip-path=\"url(#clip9102)\" style=\"stroke:#000000; stroke-width:2; stroke-opacity:0.1; fill:none\" points=\"\n  1117.7,1487.47 1117.7,47.2441 \n  \"/>\n<polyline clip-path=\"url(#clip9102)\" style=\"stroke:#000000; stroke-width:2; stroke-opacity:0.1; fill:none\" points=\"\n  1344.75,1487.47 1344.75,47.2441 \n  \"/>\n<polyline clip-path=\"url(#clip9102)\" style=\"stroke:#000000; stroke-width:2; stroke-opacity:0.1; fill:none\" points=\"\n  1571.8,1487.47 1571.8,47.2441 \n  \"/>\n<polyline clip-path=\"url(#clip9102)\" style=\"stroke:#000000; stroke-width:2; stroke-opacity:0.1; fill:none\" points=\"\n  168.627,1220.26 1612.67,1220.26 \n  \"/>\n<polyline clip-path=\"url(#clip9102)\" style=\"stroke:#000000; stroke-width:2; stroke-opacity:0.1; fill:none\" points=\"\n  168.627,842.843 1612.67,842.843 \n  \"/>\n<polyline clip-path=\"url(#clip9102)\" style=\"stroke:#000000; stroke-width:2; stroke-opacity:0.1; fill:none\" points=\"\n  168.627,465.424 1612.67,465.424 \n  \"/>\n<polyline clip-path=\"url(#clip9102)\" style=\"stroke:#000000; stroke-width:2; stroke-opacity:0.1; fill:none\" points=\"\n  168.627,88.0053 1612.67,88.0053 \n  \"/>\n<polyline clip-path=\"url(#clip9100)\" style=\"stroke:#000000; stroke-width:4; stroke-opacity:1; fill:none\" points=\"\n  168.627,1487.47 1612.67,1487.47 \n  \"/>\n<polyline clip-path=\"url(#clip9100)\" style=\"stroke:#000000; stroke-width:4; stroke-opacity:1; fill:none\" points=\"\n  168.627,1487.47 168.627,47.2441 \n  \"/>\n<polyline clip-path=\"url(#clip9100)\" style=\"stroke:#000000; stroke-width:4; stroke-opacity:1; fill:none\" points=\"\n  209.496,1487.47 209.496,1465.87 \n  \"/>\n<polyline clip-path=\"url(#clip9100)\" style=\"stroke:#000000; stroke-width:4; stroke-opacity:1; fill:none\" points=\"\n  436.546,1487.47 436.546,1465.87 \n  \"/>\n<polyline clip-path=\"url(#clip9100)\" style=\"stroke:#000000; stroke-width:4; stroke-opacity:1; fill:none\" points=\"\n  663.596,1487.47 663.596,1465.87 \n  \"/>\n<polyline clip-path=\"url(#clip9100)\" style=\"stroke:#000000; stroke-width:4; stroke-opacity:1; fill:none\" points=\"\n  890.646,1487.47 890.646,1465.87 \n  \"/>\n<polyline clip-path=\"url(#clip9100)\" style=\"stroke:#000000; stroke-width:4; stroke-opacity:1; fill:none\" points=\"\n  1117.7,1487.47 1117.7,1465.87 \n  \"/>\n<polyline clip-path=\"url(#clip9100)\" style=\"stroke:#000000; stroke-width:4; stroke-opacity:1; fill:none\" points=\"\n  1344.75,1487.47 1344.75,1465.87 \n  \"/>\n<polyline clip-path=\"url(#clip9100)\" style=\"stroke:#000000; stroke-width:4; stroke-opacity:1; fill:none\" points=\"\n  1571.8,1487.47 1571.8,1465.87 \n  \"/>\n<polyline clip-path=\"url(#clip9100)\" style=\"stroke:#000000; stroke-width:4; stroke-opacity:1; fill:none\" points=\"\n  168.627,1220.26 190.287,1220.26 \n  \"/>\n<polyline clip-path=\"url(#clip9100)\" style=\"stroke:#000000; stroke-width:4; stroke-opacity:1; fill:none\" points=\"\n  168.627,842.843 190.287,842.843 \n  \"/>\n<polyline clip-path=\"url(#clip9100)\" style=\"stroke:#000000; stroke-width:4; stroke-opacity:1; fill:none\" points=\"\n  168.627,465.424 190.287,465.424 \n  \"/>\n<polyline clip-path=\"url(#clip9100)\" style=\"stroke:#000000; stroke-width:4; stroke-opacity:1; fill:none\" points=\"\n  168.627,88.0053 190.287,88.0053 \n  \"/>\n<g clip-path=\"url(#clip9100)\">\n<text style=\"fill:#000000; fill-opacity:1; font-family:Arial,Helvetica Neue,Helvetica,sans-serif; font-size:48px; text-anchor:middle;\" transform=\"rotate(0, 209.496, 1541.47)\" x=\"209.496\" y=\"1541.47\">-3</text>\n</g>\n<g clip-path=\"url(#clip9100)\">\n<text style=\"fill:#000000; fill-opacity:1; font-family:Arial,Helvetica Neue,Helvetica,sans-serif; font-size:48px; text-anchor:middle;\" transform=\"rotate(0, 436.546, 1541.47)\" x=\"436.546\" y=\"1541.47\">-2</text>\n</g>\n<g clip-path=\"url(#clip9100)\">\n<text style=\"fill:#000000; fill-opacity:1; font-family:Arial,Helvetica Neue,Helvetica,sans-serif; font-size:48px; text-anchor:middle;\" transform=\"rotate(0, 663.596, 1541.47)\" x=\"663.596\" y=\"1541.47\">-1</text>\n</g>\n<g clip-path=\"url(#clip9100)\">\n<text style=\"fill:#000000; fill-opacity:1; font-family:Arial,Helvetica Neue,Helvetica,sans-serif; font-size:48px; text-anchor:middle;\" transform=\"rotate(0, 890.646, 1541.47)\" x=\"890.646\" y=\"1541.47\">0</text>\n</g>\n<g clip-path=\"url(#clip9100)\">\n<text style=\"fill:#000000; fill-opacity:1; font-family:Arial,Helvetica Neue,Helvetica,sans-serif; font-size:48px; text-anchor:middle;\" transform=\"rotate(0, 1117.7, 1541.47)\" x=\"1117.7\" y=\"1541.47\">1</text>\n</g>\n<g clip-path=\"url(#clip9100)\">\n<text style=\"fill:#000000; fill-opacity:1; font-family:Arial,Helvetica Neue,Helvetica,sans-serif; font-size:48px; text-anchor:middle;\" transform=\"rotate(0, 1344.75, 1541.47)\" x=\"1344.75\" y=\"1541.47\">2</text>\n</g>\n<g clip-path=\"url(#clip9100)\">\n<text style=\"fill:#000000; fill-opacity:1; font-family:Arial,Helvetica Neue,Helvetica,sans-serif; font-size:48px; text-anchor:middle;\" transform=\"rotate(0, 1571.8, 1541.47)\" x=\"1571.8\" y=\"1541.47\">3</text>\n</g>\n<g clip-path=\"url(#clip9100)\">\n<text style=\"fill:#000000; fill-opacity:1; font-family:Arial,Helvetica Neue,Helvetica,sans-serif; font-size:48px; text-anchor:end;\" transform=\"rotate(0, 144.627, 1237.76)\" x=\"144.627\" y=\"1237.76\">-10</text>\n</g>\n<g clip-path=\"url(#clip9100)\">\n<text style=\"fill:#000000; fill-opacity:1; font-family:Arial,Helvetica Neue,Helvetica,sans-serif; font-size:48px; text-anchor:end;\" transform=\"rotate(0, 144.627, 860.343)\" x=\"144.627\" y=\"860.343\">0</text>\n</g>\n<g clip-path=\"url(#clip9100)\">\n<text style=\"fill:#000000; fill-opacity:1; font-family:Arial,Helvetica Neue,Helvetica,sans-serif; font-size:48px; text-anchor:end;\" transform=\"rotate(0, 144.627, 482.924)\" x=\"144.627\" y=\"482.924\">10</text>\n</g>\n<g clip-path=\"url(#clip9100)\">\n<text style=\"fill:#000000; fill-opacity:1; font-family:Arial,Helvetica Neue,Helvetica,sans-serif; font-size:48px; text-anchor:end;\" transform=\"rotate(0, 144.627, 105.505)\" x=\"144.627\" y=\"105.505\">20</text>\n</g>\n<circle clip-path=\"url(#clip9102)\" style=\"fill:#000000; stroke:none; fill-opacity:1\" cx=\"552.521\" cy=\"547.162\" r=\"18\"/>\n<circle clip-path=\"url(#clip9102)\" style=\"fill:#0000ff; stroke:none; fill-opacity:1\" cx=\"552.521\" cy=\"547.162\" r=\"14\"/>\n<circle clip-path=\"url(#clip9102)\" style=\"fill:#000000; stroke:none; fill-opacity:1\" cx=\"280.774\" cy=\"186.141\" r=\"18\"/>\n<circle clip-path=\"url(#clip9102)\" style=\"fill:#0000ff; stroke:none; fill-opacity:1\" cx=\"280.774\" cy=\"186.141\" r=\"14\"/>\n<circle clip-path=\"url(#clip9102)\" style=\"fill:#000000; stroke:none; fill-opacity:1\" cx=\"1176.88\" cy=\"399.666\" r=\"18\"/>\n<circle clip-path=\"url(#clip9102)\" style=\"fill:#0000ff; stroke:none; fill-opacity:1\" cx=\"1176.88\" cy=\"399.666\" r=\"14\"/>\n<circle clip-path=\"url(#clip9102)\" style=\"fill:#000000; stroke:none; fill-opacity:1\" cx=\"209.744\" cy=\"1099.57\" r=\"18\"/>\n<circle clip-path=\"url(#clip9102)\" style=\"fill:#0000ff; stroke:none; fill-opacity:1\" cx=\"209.744\" cy=\"1099.57\" r=\"14\"/>\n<circle clip-path=\"url(#clip9102)\" style=\"fill:#000000; stroke:none; fill-opacity:1\" cx=\"1045.75\" cy=\"678.375\" r=\"18\"/>\n<circle clip-path=\"url(#clip9102)\" style=\"fill:#0000ff; stroke:none; fill-opacity:1\" cx=\"1045.75\" cy=\"678.375\" r=\"14\"/>\n<circle clip-path=\"url(#clip9102)\" style=\"fill:#000000; stroke:none; fill-opacity:1\" cx=\"1363.33\" cy=\"168.987\" r=\"18\"/>\n<circle clip-path=\"url(#clip9102)\" style=\"fill:#0000ff; stroke:none; fill-opacity:1\" cx=\"1363.33\" cy=\"168.987\" r=\"14\"/>\n<circle clip-path=\"url(#clip9102)\" style=\"fill:#000000; stroke:none; fill-opacity:1\" cx=\"870.255\" cy=\"624.167\" r=\"18\"/>\n<circle clip-path=\"url(#clip9102)\" style=\"fill:#0000ff; stroke:none; fill-opacity:1\" cx=\"870.255\" cy=\"624.167\" r=\"14\"/>\n<circle clip-path=\"url(#clip9102)\" style=\"fill:#000000; stroke:none; fill-opacity:1\" cx=\"1009.22\" cy=\"103.26\" r=\"18\"/>\n<circle clip-path=\"url(#clip9102)\" style=\"fill:#0000ff; stroke:none; fill-opacity:1\" cx=\"1009.22\" cy=\"103.26\" r=\"14\"/>\n<circle clip-path=\"url(#clip9102)\" style=\"fill:#000000; stroke:none; fill-opacity:1\" cx=\"585.359\" cy=\"615.518\" r=\"18\"/>\n<circle clip-path=\"url(#clip9102)\" style=\"fill:#0000ff; stroke:none; fill-opacity:1\" cx=\"585.359\" cy=\"615.518\" r=\"14\"/>\n<circle clip-path=\"url(#clip9102)\" style=\"fill:#000000; stroke:none; fill-opacity:1\" cx=\"597.639\" cy=\"624.21\" r=\"18\"/>\n<circle clip-path=\"url(#clip9102)\" style=\"fill:#0000ff; stroke:none; fill-opacity:1\" cx=\"597.639\" cy=\"624.21\" r=\"14\"/>\n<circle clip-path=\"url(#clip9102)\" style=\"fill:#000000; stroke:none; fill-opacity:1\" cx=\"589.005\" cy=\"229.425\" r=\"18\"/>\n<circle clip-path=\"url(#clip9102)\" style=\"fill:#0000ff; stroke:none; fill-opacity:1\" cx=\"589.005\" cy=\"229.425\" r=\"14\"/>\n<circle clip-path=\"url(#clip9102)\" style=\"fill:#000000; stroke:none; fill-opacity:1\" cx=\"1259.92\" cy=\"575.055\" r=\"18\"/>\n<circle clip-path=\"url(#clip9102)\" style=\"fill:#0000ff; stroke:none; fill-opacity:1\" cx=\"1259.92\" cy=\"575.055\" r=\"14\"/>\n<circle clip-path=\"url(#clip9102)\" style=\"fill:#000000; stroke:none; fill-opacity:1\" cx=\"524.018\" cy=\"97.4728\" r=\"18\"/>\n<circle clip-path=\"url(#clip9102)\" style=\"fill:#0000ff; stroke:none; fill-opacity:1\" cx=\"524.018\" cy=\"97.4728\" r=\"14\"/>\n<circle clip-path=\"url(#clip9102)\" style=\"fill:#000000; stroke:none; fill-opacity:1\" cx=\"418.6\" cy=\"507.266\" r=\"18\"/>\n<circle clip-path=\"url(#clip9102)\" style=\"fill:#0000ff; stroke:none; fill-opacity:1\" cx=\"418.6\" cy=\"507.266\" r=\"14\"/>\n<circle clip-path=\"url(#clip9102)\" style=\"fill:#000000; stroke:none; fill-opacity:1\" cx=\"334.179\" cy=\"351.995\" r=\"18\"/>\n<circle clip-path=\"url(#clip9102)\" style=\"fill:#0000ff; stroke:none; fill-opacity:1\" cx=\"334.179\" cy=\"351.995\" r=\"14\"/>\n<circle clip-path=\"url(#clip9102)\" style=\"fill:#000000; stroke:none; fill-opacity:1\" cx=\"449.873\" cy=\"500.188\" r=\"18\"/>\n<circle clip-path=\"url(#clip9102)\" style=\"fill:#0000ff; stroke:none; fill-opacity:1\" cx=\"449.873\" cy=\"500.188\" r=\"14\"/>\n<circle clip-path=\"url(#clip9102)\" style=\"fill:#000000; stroke:none; fill-opacity:1\" cx=\"275.73\" cy=\"581.899\" r=\"18\"/>\n<circle clip-path=\"url(#clip9102)\" style=\"fill:#0000ff; stroke:none; fill-opacity:1\" cx=\"275.73\" cy=\"581.899\" r=\"14\"/>\n<circle clip-path=\"url(#clip9102)\" style=\"fill:#000000; stroke:none; fill-opacity:1\" cx=\"454.036\" cy=\"716.399\" r=\"18\"/>\n<circle clip-path=\"url(#clip9102)\" style=\"fill:#0000ff; stroke:none; fill-opacity:1\" cx=\"454.036\" cy=\"716.399\" r=\"14\"/>\n<circle clip-path=\"url(#clip9102)\" style=\"fill:#000000; stroke:none; fill-opacity:1\" cx=\"458.39\" cy=\"192.245\" r=\"18\"/>\n<circle clip-path=\"url(#clip9102)\" style=\"fill:#0000ff; stroke:none; fill-opacity:1\" cx=\"458.39\" cy=\"192.245\" r=\"14\"/>\n<circle clip-path=\"url(#clip9102)\" style=\"fill:#000000; stroke:none; fill-opacity:1\" cx=\"1111.02\" cy=\"767.741\" r=\"18\"/>\n<circle clip-path=\"url(#clip9102)\" style=\"fill:#0000ff; stroke:none; fill-opacity:1\" cx=\"1111.02\" cy=\"767.741\" r=\"14\"/>\n<circle clip-path=\"url(#clip9102)\" style=\"fill:#000000; stroke:none; fill-opacity:1\" cx=\"577.08\" cy=\"600.832\" r=\"18\"/>\n<circle clip-path=\"url(#clip9102)\" style=\"fill:#0000ff; stroke:none; fill-opacity:1\" cx=\"577.08\" cy=\"600.832\" r=\"14\"/>\n<circle clip-path=\"url(#clip9102)\" style=\"fill:#000000; stroke:none; fill-opacity:1\" cx=\"613.989\" cy=\"447.177\" r=\"18\"/>\n<circle clip-path=\"url(#clip9102)\" style=\"fill:#0000ff; stroke:none; fill-opacity:1\" cx=\"613.989\" cy=\"447.177\" r=\"14\"/>\n<circle clip-path=\"url(#clip9102)\" style=\"fill:#000000; stroke:none; fill-opacity:1\" cx=\"1153.79\" cy=\"676.253\" r=\"18\"/>\n<circle clip-path=\"url(#clip9102)\" style=\"fill:#0000ff; stroke:none; fill-opacity:1\" cx=\"1153.79\" cy=\"676.253\" r=\"14\"/>\n<circle clip-path=\"url(#clip9102)\" style=\"fill:#000000; stroke:none; fill-opacity:1\" cx=\"966.893\" cy=\"680.986\" r=\"18\"/>\n<circle clip-path=\"url(#clip9102)\" style=\"fill:#0000ff; stroke:none; fill-opacity:1\" cx=\"966.893\" cy=\"680.986\" r=\"14\"/>\n<circle clip-path=\"url(#clip9102)\" style=\"fill:#000000; stroke:none; fill-opacity:1\" cx=\"397.582\" cy=\"586.834\" r=\"18\"/>\n<circle clip-path=\"url(#clip9102)\" style=\"fill:#0000ff; stroke:none; fill-opacity:1\" cx=\"397.582\" cy=\"586.834\" r=\"14\"/>\n<circle clip-path=\"url(#clip9102)\" style=\"fill:#000000; stroke:none; fill-opacity:1\" cx=\"1366.37\" cy=\"334.858\" r=\"18\"/>\n<circle clip-path=\"url(#clip9102)\" style=\"fill:#0000ff; stroke:none; fill-opacity:1\" cx=\"1366.37\" cy=\"334.858\" r=\"14\"/>\n<circle clip-path=\"url(#clip9102)\" style=\"fill:#000000; stroke:none; fill-opacity:1\" cx=\"1127.86\" cy=\"453.009\" r=\"18\"/>\n<circle clip-path=\"url(#clip9102)\" style=\"fill:#0000ff; stroke:none; fill-opacity:1\" cx=\"1127.86\" cy=\"453.009\" r=\"14\"/>\n<circle clip-path=\"url(#clip9102)\" style=\"fill:#000000; stroke:none; fill-opacity:1\" cx=\"885.289\" cy=\"567.923\" r=\"18\"/>\n<circle clip-path=\"url(#clip9102)\" style=\"fill:#0000ff; stroke:none; fill-opacity:1\" cx=\"885.289\" cy=\"567.923\" r=\"14\"/>\n<circle clip-path=\"url(#clip9102)\" style=\"fill:#000000; stroke:none; fill-opacity:1\" cx=\"1356.94\" cy=\"572.907\" r=\"18\"/>\n<circle clip-path=\"url(#clip9102)\" style=\"fill:#0000ff; stroke:none; fill-opacity:1\" cx=\"1356.94\" cy=\"572.907\" r=\"14\"/>\n<circle clip-path=\"url(#clip9102)\" style=\"fill:#000000; stroke:none; fill-opacity:1\" cx=\"350.642\" cy=\"471.919\" r=\"18\"/>\n<circle clip-path=\"url(#clip9102)\" style=\"fill:#0000ff; stroke:none; fill-opacity:1\" cx=\"350.642\" cy=\"471.919\" r=\"14\"/>\n<circle clip-path=\"url(#clip9102)\" style=\"fill:#000000; stroke:none; fill-opacity:1\" cx=\"1003.22\" cy=\"587.111\" r=\"18\"/>\n<circle clip-path=\"url(#clip9102)\" style=\"fill:#0000ff; stroke:none; fill-opacity:1\" cx=\"1003.22\" cy=\"587.111\" r=\"14\"/>\n<circle clip-path=\"url(#clip9102)\" style=\"fill:#000000; stroke:none; fill-opacity:1\" cx=\"244.006\" cy=\"848.693\" r=\"18\"/>\n<circle clip-path=\"url(#clip9102)\" style=\"fill:#0000ff; stroke:none; fill-opacity:1\" cx=\"244.006\" cy=\"848.693\" r=\"14\"/>\n<circle clip-path=\"url(#clip9102)\" style=\"fill:#000000; stroke:none; fill-opacity:1\" cx=\"918.134\" cy=\"504.121\" r=\"18\"/>\n<circle clip-path=\"url(#clip9102)\" style=\"fill:#0000ff; stroke:none; fill-opacity:1\" cx=\"918.134\" cy=\"504.121\" r=\"14\"/>\n<circle clip-path=\"url(#clip9102)\" style=\"fill:#000000; stroke:none; fill-opacity:1\" cx=\"577.464\" cy=\"590.966\" r=\"18\"/>\n<circle clip-path=\"url(#clip9102)\" style=\"fill:#0000ff; stroke:none; fill-opacity:1\" cx=\"577.464\" cy=\"590.966\" r=\"14\"/>\n<circle clip-path=\"url(#clip9102)\" style=\"fill:#000000; stroke:none; fill-opacity:1\" cx=\"280.969\" cy=\"1081.85\" r=\"18\"/>\n<circle clip-path=\"url(#clip9102)\" style=\"fill:#0000ff; stroke:none; fill-opacity:1\" cx=\"280.969\" cy=\"1081.85\" r=\"14\"/>\n<circle clip-path=\"url(#clip9102)\" style=\"fill:#000000; stroke:none; fill-opacity:1\" cx=\"1285.78\" cy=\"747.795\" r=\"18\"/>\n<circle clip-path=\"url(#clip9102)\" style=\"fill:#0000ff; stroke:none; fill-opacity:1\" cx=\"1285.78\" cy=\"747.795\" r=\"14\"/>\n<circle clip-path=\"url(#clip9102)\" style=\"fill:#000000; stroke:none; fill-opacity:1\" cx=\"243.657\" cy=\"191.841\" r=\"18\"/>\n<circle clip-path=\"url(#clip9102)\" style=\"fill:#0000ff; stroke:none; fill-opacity:1\" cx=\"243.657\" cy=\"191.841\" r=\"14\"/>\n<circle clip-path=\"url(#clip9102)\" style=\"fill:#000000; stroke:none; fill-opacity:1\" cx=\"261.415\" cy=\"450.342\" r=\"18\"/>\n<circle clip-path=\"url(#clip9102)\" style=\"fill:#0000ff; stroke:none; fill-opacity:1\" cx=\"261.415\" cy=\"450.342\" r=\"14\"/>\n<circle clip-path=\"url(#clip9102)\" style=\"fill:#000000; stroke:none; fill-opacity:1\" cx=\"1020.67\" cy=\"232.12\" r=\"18\"/>\n<circle clip-path=\"url(#clip9102)\" style=\"fill:#0000ff; stroke:none; fill-opacity:1\" cx=\"1020.67\" cy=\"232.12\" r=\"14\"/>\n<circle clip-path=\"url(#clip9102)\" style=\"fill:#000000; stroke:none; fill-opacity:1\" cx=\"511.063\" cy=\"538.958\" r=\"18\"/>\n<circle clip-path=\"url(#clip9102)\" style=\"fill:#0000ff; stroke:none; fill-opacity:1\" cx=\"511.063\" cy=\"538.958\" r=\"14\"/>\n<circle clip-path=\"url(#clip9102)\" style=\"fill:#000000; stroke:none; fill-opacity:1\" cx=\"1039.48\" cy=\"246.857\" r=\"18\"/>\n<circle clip-path=\"url(#clip9102)\" style=\"fill:#0000ff; stroke:none; fill-opacity:1\" cx=\"1039.48\" cy=\"246.857\" r=\"14\"/>\n<circle clip-path=\"url(#clip9102)\" style=\"fill:#000000; stroke:none; fill-opacity:1\" cx=\"1416.88\" cy=\"319.456\" r=\"18\"/>\n<circle clip-path=\"url(#clip9102)\" style=\"fill:#0000ff; stroke:none; fill-opacity:1\" cx=\"1416.88\" cy=\"319.456\" r=\"14\"/>\n<circle clip-path=\"url(#clip9102)\" style=\"fill:#000000; stroke:none; fill-opacity:1\" cx=\"223.927\" cy=\"410.651\" r=\"18\"/>\n<circle clip-path=\"url(#clip9102)\" style=\"fill:#0000ff; stroke:none; fill-opacity:1\" cx=\"223.927\" cy=\"410.651\" r=\"14\"/>\n<circle clip-path=\"url(#clip9102)\" style=\"fill:#000000; stroke:none; fill-opacity:1\" cx=\"646.621\" cy=\"352.838\" r=\"18\"/>\n<circle clip-path=\"url(#clip9102)\" style=\"fill:#0000ff; stroke:none; fill-opacity:1\" cx=\"646.621\" cy=\"352.838\" r=\"14\"/>\n<circle clip-path=\"url(#clip9102)\" style=\"fill:#000000; stroke:none; fill-opacity:1\" cx=\"522.365\" cy=\"510.407\" r=\"18\"/>\n<circle clip-path=\"url(#clip9102)\" style=\"fill:#0000ff; stroke:none; fill-opacity:1\" cx=\"522.365\" cy=\"510.407\" r=\"14\"/>\n<circle clip-path=\"url(#clip9102)\" style=\"fill:#000000; stroke:none; fill-opacity:1\" cx=\"349.36\" cy=\"920.548\" r=\"18\"/>\n<circle clip-path=\"url(#clip9102)\" style=\"fill:#0000ff; stroke:none; fill-opacity:1\" cx=\"349.36\" cy=\"920.548\" r=\"14\"/>\n<circle clip-path=\"url(#clip9102)\" style=\"fill:#000000; stroke:none; fill-opacity:1\" cx=\"273.904\" cy=\"956.172\" r=\"18\"/>\n<circle clip-path=\"url(#clip9102)\" style=\"fill:#0000ff; stroke:none; fill-opacity:1\" cx=\"273.904\" cy=\"956.172\" r=\"14\"/>\n<circle clip-path=\"url(#clip9102)\" style=\"fill:#000000; stroke:none; fill-opacity:1\" cx=\"270.639\" cy=\"1035.73\" r=\"18\"/>\n<circle clip-path=\"url(#clip9102)\" style=\"fill:#0000ff; stroke:none; fill-opacity:1\" cx=\"270.639\" cy=\"1035.73\" r=\"14\"/>\n<circle clip-path=\"url(#clip9102)\" style=\"fill:#000000; stroke:none; fill-opacity:1\" cx=\"485.062\" cy=\"388.936\" r=\"18\"/>\n<circle clip-path=\"url(#clip9102)\" style=\"fill:#0000ff; stroke:none; fill-opacity:1\" cx=\"485.062\" cy=\"388.936\" r=\"14\"/>\n<circle clip-path=\"url(#clip9102)\" style=\"fill:#000000; stroke:none; fill-opacity:1\" cx=\"1334.98\" cy=\"541.771\" r=\"18\"/>\n<circle clip-path=\"url(#clip9102)\" style=\"fill:#0000ff; stroke:none; fill-opacity:1\" cx=\"1334.98\" cy=\"541.771\" r=\"14\"/>\n<circle clip-path=\"url(#clip9102)\" style=\"fill:#000000; stroke:none; fill-opacity:1\" cx=\"229.281\" cy=\"93.3316\" r=\"18\"/>\n<circle clip-path=\"url(#clip9102)\" style=\"fill:#0000ff; stroke:none; fill-opacity:1\" cx=\"229.281\" cy=\"93.3316\" r=\"14\"/>\n<circle clip-path=\"url(#clip9102)\" style=\"fill:#000000; stroke:none; fill-opacity:1\" cx=\"756.281\" cy=\"422.905\" r=\"18\"/>\n<circle clip-path=\"url(#clip9102)\" style=\"fill:#0000ff; stroke:none; fill-opacity:1\" cx=\"756.281\" cy=\"422.905\" r=\"14\"/>\n<circle clip-path=\"url(#clip9102)\" style=\"fill:#000000; stroke:none; fill-opacity:1\" cx=\"532.266\" cy=\"326.202\" r=\"18\"/>\n<circle clip-path=\"url(#clip9102)\" style=\"fill:#0000ff; stroke:none; fill-opacity:1\" cx=\"532.266\" cy=\"326.202\" r=\"14\"/>\n<circle clip-path=\"url(#clip9102)\" style=\"fill:#000000; stroke:none; fill-opacity:1\" cx=\"871.25\" cy=\"177.557\" r=\"18\"/>\n<circle clip-path=\"url(#clip9102)\" style=\"fill:#0000ff; stroke:none; fill-opacity:1\" cx=\"871.25\" cy=\"177.557\" r=\"14\"/>\n<circle clip-path=\"url(#clip9102)\" style=\"fill:#000000; stroke:none; fill-opacity:1\" cx=\"1038.06\" cy=\"387.524\" r=\"18\"/>\n<circle clip-path=\"url(#clip9102)\" style=\"fill:#0000ff; stroke:none; fill-opacity:1\" cx=\"1038.06\" cy=\"387.524\" r=\"14\"/>\n<circle clip-path=\"url(#clip9102)\" style=\"fill:#000000; stroke:none; fill-opacity:1\" cx=\"243.085\" cy=\"448.619\" r=\"18\"/>\n<circle clip-path=\"url(#clip9102)\" style=\"fill:#0000ff; stroke:none; fill-opacity:1\" cx=\"243.085\" cy=\"448.619\" r=\"14\"/>\n<circle clip-path=\"url(#clip9102)\" style=\"fill:#000000; stroke:none; fill-opacity:1\" cx=\"1351.82\" cy=\"546.742\" r=\"18\"/>\n<circle clip-path=\"url(#clip9102)\" style=\"fill:#0000ff; stroke:none; fill-opacity:1\" cx=\"1351.82\" cy=\"546.742\" r=\"14\"/>\n<circle clip-path=\"url(#clip9102)\" style=\"fill:#000000; stroke:none; fill-opacity:1\" cx=\"295.637\" cy=\"421.878\" r=\"18\"/>\n<circle clip-path=\"url(#clip9102)\" style=\"fill:#0000ff; stroke:none; fill-opacity:1\" cx=\"295.637\" cy=\"421.878\" r=\"14\"/>\n<circle clip-path=\"url(#clip9102)\" style=\"fill:#000000; stroke:none; fill-opacity:1\" cx=\"381.001\" cy=\"142.066\" r=\"18\"/>\n<circle clip-path=\"url(#clip9102)\" style=\"fill:#0000ff; stroke:none; fill-opacity:1\" cx=\"381.001\" cy=\"142.066\" r=\"14\"/>\n<circle clip-path=\"url(#clip9102)\" style=\"fill:#000000; stroke:none; fill-opacity:1\" cx=\"1261.97\" cy=\"249.444\" r=\"18\"/>\n<circle clip-path=\"url(#clip9102)\" style=\"fill:#0000ff; stroke:none; fill-opacity:1\" cx=\"1261.97\" cy=\"249.444\" r=\"14\"/>\n<circle clip-path=\"url(#clip9102)\" style=\"fill:#000000; stroke:none; fill-opacity:1\" cx=\"1113.05\" cy=\"98.6455\" r=\"18\"/>\n<circle clip-path=\"url(#clip9102)\" style=\"fill:#0000ff; stroke:none; fill-opacity:1\" cx=\"1113.05\" cy=\"98.6455\" r=\"14\"/>\n<circle clip-path=\"url(#clip9102)\" style=\"fill:#000000; stroke:none; fill-opacity:1\" cx=\"280.56\" cy=\"556.308\" r=\"18\"/>\n<circle clip-path=\"url(#clip9102)\" style=\"fill:#0000ff; stroke:none; fill-opacity:1\" cx=\"280.56\" cy=\"556.308\" r=\"14\"/>\n<circle clip-path=\"url(#clip9102)\" style=\"fill:#000000; stroke:none; fill-opacity:1\" cx=\"1078.71\" cy=\"533.532\" r=\"18\"/>\n<circle clip-path=\"url(#clip9102)\" style=\"fill:#0000ff; stroke:none; fill-opacity:1\" cx=\"1078.71\" cy=\"533.532\" r=\"14\"/>\n<circle clip-path=\"url(#clip9102)\" style=\"fill:#000000; stroke:none; fill-opacity:1\" cx=\"1028.33\" cy=\"283.333\" r=\"18\"/>\n<circle clip-path=\"url(#clip9102)\" style=\"fill:#0000ff; stroke:none; fill-opacity:1\" cx=\"1028.33\" cy=\"283.333\" r=\"14\"/>\n<circle clip-path=\"url(#clip9102)\" style=\"fill:#000000; stroke:none; fill-opacity:1\" cx=\"665.472\" cy=\"642.615\" r=\"18\"/>\n<circle clip-path=\"url(#clip9102)\" style=\"fill:#0000ff; stroke:none; fill-opacity:1\" cx=\"665.472\" cy=\"642.615\" r=\"14\"/>\n<circle clip-path=\"url(#clip9102)\" style=\"fill:#000000; stroke:none; fill-opacity:1\" cx=\"1330.11\" cy=\"152.237\" r=\"18\"/>\n<circle clip-path=\"url(#clip9102)\" style=\"fill:#0000ff; stroke:none; fill-opacity:1\" cx=\"1330.11\" cy=\"152.237\" r=\"14\"/>\n<circle clip-path=\"url(#clip9102)\" style=\"fill:#000000; stroke:none; fill-opacity:1\" cx=\"1153.36\" cy=\"649.91\" r=\"18\"/>\n<circle clip-path=\"url(#clip9102)\" style=\"fill:#0000ff; stroke:none; fill-opacity:1\" cx=\"1153.36\" cy=\"649.91\" r=\"14\"/>\n<circle clip-path=\"url(#clip9102)\" style=\"fill:#000000; stroke:none; fill-opacity:1\" cx=\"298.224\" cy=\"545.288\" r=\"18\"/>\n<circle clip-path=\"url(#clip9102)\" style=\"fill:#0000ff; stroke:none; fill-opacity:1\" cx=\"298.224\" cy=\"545.288\" r=\"14\"/>\n<circle clip-path=\"url(#clip9102)\" style=\"fill:#000000; stroke:none; fill-opacity:1\" cx=\"355.393\" cy=\"811.32\" r=\"18\"/>\n<circle clip-path=\"url(#clip9102)\" style=\"fill:#0000ff; stroke:none; fill-opacity:1\" cx=\"355.393\" cy=\"811.32\" r=\"14\"/>\n<circle clip-path=\"url(#clip9102)\" style=\"fill:#000000; stroke:none; fill-opacity:1\" cx=\"1406.02\" cy=\"514.717\" r=\"18\"/>\n<circle clip-path=\"url(#clip9102)\" style=\"fill:#0000ff; stroke:none; fill-opacity:1\" cx=\"1406.02\" cy=\"514.717\" r=\"14\"/>\n<circle clip-path=\"url(#clip9102)\" style=\"fill:#000000; stroke:none; fill-opacity:1\" cx=\"536.436\" cy=\"138.679\" r=\"18\"/>\n<circle clip-path=\"url(#clip9102)\" style=\"fill:#0000ff; stroke:none; fill-opacity:1\" cx=\"536.436\" cy=\"138.679\" r=\"14\"/>\n<circle clip-path=\"url(#clip9102)\" style=\"fill:#000000; stroke:none; fill-opacity:1\" cx=\"223.841\" cy=\"789.005\" r=\"18\"/>\n<circle clip-path=\"url(#clip9102)\" style=\"fill:#0000ff; stroke:none; fill-opacity:1\" cx=\"223.841\" cy=\"789.005\" r=\"14\"/>\n<circle clip-path=\"url(#clip9102)\" style=\"fill:#000000; stroke:none; fill-opacity:1\" cx=\"1537.2\" cy=\"170.187\" r=\"18\"/>\n<circle clip-path=\"url(#clip9102)\" style=\"fill:#0000ff; stroke:none; fill-opacity:1\" cx=\"1537.2\" cy=\"170.187\" r=\"14\"/>\n<circle clip-path=\"url(#clip9102)\" style=\"fill:#000000; stroke:none; fill-opacity:1\" cx=\"983.069\" cy=\"544.051\" r=\"18\"/>\n<circle clip-path=\"url(#clip9102)\" style=\"fill:#0000ff; stroke:none; fill-opacity:1\" cx=\"983.069\" cy=\"544.051\" r=\"14\"/>\n<circle clip-path=\"url(#clip9102)\" style=\"fill:#000000; stroke:none; fill-opacity:1\" cx=\"365.76\" cy=\"350.795\" r=\"18\"/>\n<circle clip-path=\"url(#clip9102)\" style=\"fill:#0000ff; stroke:none; fill-opacity:1\" cx=\"365.76\" cy=\"350.795\" r=\"14\"/>\n<circle clip-path=\"url(#clip9102)\" style=\"fill:#000000; stroke:none; fill-opacity:1\" cx=\"214.145\" cy=\"457.083\" r=\"18\"/>\n<circle clip-path=\"url(#clip9102)\" style=\"fill:#0000ff; stroke:none; fill-opacity:1\" cx=\"214.145\" cy=\"457.083\" r=\"14\"/>\n<circle clip-path=\"url(#clip9102)\" style=\"fill:#000000; stroke:none; fill-opacity:1\" cx=\"754.129\" cy=\"634.999\" r=\"18\"/>\n<circle clip-path=\"url(#clip9102)\" style=\"fill:#0000ff; stroke:none; fill-opacity:1\" cx=\"754.129\" cy=\"634.999\" r=\"14\"/>\n<circle clip-path=\"url(#clip9102)\" style=\"fill:#000000; stroke:none; fill-opacity:1\" cx=\"993.91\" cy=\"746.653\" r=\"18\"/>\n<circle clip-path=\"url(#clip9102)\" style=\"fill:#0000ff; stroke:none; fill-opacity:1\" cx=\"993.91\" cy=\"746.653\" r=\"14\"/>\n<circle clip-path=\"url(#clip9102)\" style=\"fill:#000000; stroke:none; fill-opacity:1\" cx=\"331.368\" cy=\"759.759\" r=\"18\"/>\n<circle clip-path=\"url(#clip9102)\" style=\"fill:#0000ff; stroke:none; fill-opacity:1\" cx=\"331.368\" cy=\"759.759\" r=\"14\"/>\n<circle clip-path=\"url(#clip9102)\" style=\"fill:#000000; stroke:none; fill-opacity:1\" cx=\"891.516\" cy=\"207.016\" r=\"18\"/>\n<circle clip-path=\"url(#clip9102)\" style=\"fill:#0000ff; stroke:none; fill-opacity:1\" cx=\"891.516\" cy=\"207.016\" r=\"14\"/>\n<circle clip-path=\"url(#clip9102)\" style=\"fill:#000000; stroke:none; fill-opacity:1\" cx=\"745.082\" cy=\"448.876\" r=\"18\"/>\n<circle clip-path=\"url(#clip9102)\" style=\"fill:#0000ff; stroke:none; fill-opacity:1\" cx=\"745.082\" cy=\"448.876\" r=\"14\"/>\n<circle clip-path=\"url(#clip9102)\" style=\"fill:#000000; stroke:none; fill-opacity:1\" cx=\"876.282\" cy=\"541.38\" r=\"18\"/>\n<circle clip-path=\"url(#clip9102)\" style=\"fill:#0000ff; stroke:none; fill-opacity:1\" cx=\"876.282\" cy=\"541.38\" r=\"14\"/>\n<circle clip-path=\"url(#clip9102)\" style=\"fill:#000000; stroke:none; fill-opacity:1\" cx=\"220.37\" cy=\"103.754\" r=\"18\"/>\n<circle clip-path=\"url(#clip9102)\" style=\"fill:#0000ff; stroke:none; fill-opacity:1\" cx=\"220.37\" cy=\"103.754\" r=\"14\"/>\n<circle clip-path=\"url(#clip9102)\" style=\"fill:#000000; stroke:none; fill-opacity:1\" cx=\"1158.12\" cy=\"808.577\" r=\"18\"/>\n<circle clip-path=\"url(#clip9102)\" style=\"fill:#0000ff; stroke:none; fill-opacity:1\" cx=\"1158.12\" cy=\"808.577\" r=\"14\"/>\n<circle clip-path=\"url(#clip9102)\" style=\"fill:#000000; stroke:none; fill-opacity:1\" cx=\"1008.62\" cy=\"215.522\" r=\"18\"/>\n<circle clip-path=\"url(#clip9102)\" style=\"fill:#0000ff; stroke:none; fill-opacity:1\" cx=\"1008.62\" cy=\"215.522\" r=\"14\"/>\n<circle clip-path=\"url(#clip9102)\" style=\"fill:#000000; stroke:none; fill-opacity:1\" cx=\"731.553\" cy=\"143.671\" r=\"18\"/>\n<circle clip-path=\"url(#clip9102)\" style=\"fill:#0000ff; stroke:none; fill-opacity:1\" cx=\"731.553\" cy=\"143.671\" r=\"14\"/>\n<circle clip-path=\"url(#clip9102)\" style=\"fill:#000000; stroke:none; fill-opacity:1\" cx=\"1135.38\" cy=\"301.431\" r=\"18\"/>\n<circle clip-path=\"url(#clip9102)\" style=\"fill:#0000ff; stroke:none; fill-opacity:1\" cx=\"1135.38\" cy=\"301.431\" r=\"14\"/>\n<circle clip-path=\"url(#clip9102)\" style=\"fill:#000000; stroke:none; fill-opacity:1\" cx=\"885.557\" cy=\"303.591\" r=\"18\"/>\n<circle clip-path=\"url(#clip9102)\" style=\"fill:#0000ff; stroke:none; fill-opacity:1\" cx=\"885.557\" cy=\"303.591\" r=\"14\"/>\n<circle clip-path=\"url(#clip9102)\" style=\"fill:#000000; stroke:none; fill-opacity:1\" cx=\"553.87\" cy=\"461.326\" r=\"18\"/>\n<circle clip-path=\"url(#clip9102)\" style=\"fill:#0000ff; stroke:none; fill-opacity:1\" cx=\"553.87\" cy=\"461.326\" r=\"14\"/>\n<circle clip-path=\"url(#clip9102)\" style=\"fill:#000000; stroke:none; fill-opacity:1\" cx=\"1329.14\" cy=\"358.065\" r=\"18\"/>\n<circle clip-path=\"url(#clip9102)\" style=\"fill:#0000ff; stroke:none; fill-opacity:1\" cx=\"1329.14\" cy=\"358.065\" r=\"14\"/>\n<circle clip-path=\"url(#clip9102)\" style=\"fill:#000000; stroke:none; fill-opacity:1\" cx=\"1239.32\" cy=\"429.055\" r=\"18\"/>\n<circle clip-path=\"url(#clip9102)\" style=\"fill:#0000ff; stroke:none; fill-opacity:1\" cx=\"1239.32\" cy=\"429.055\" r=\"14\"/>\n<circle clip-path=\"url(#clip9102)\" style=\"fill:#000000; stroke:none; fill-opacity:1\" cx=\"901.45\" cy=\"491.858\" r=\"18\"/>\n<circle clip-path=\"url(#clip9102)\" style=\"fill:#0000ff; stroke:none; fill-opacity:1\" cx=\"901.45\" cy=\"491.858\" r=\"14\"/>\n<circle clip-path=\"url(#clip9102)\" style=\"fill:#000000; stroke:none; fill-opacity:1\" cx=\"1283.11\" cy=\"599.454\" r=\"18\"/>\n<circle clip-path=\"url(#clip9102)\" style=\"fill:#0000ff; stroke:none; fill-opacity:1\" cx=\"1283.11\" cy=\"599.454\" r=\"14\"/>\n<circle clip-path=\"url(#clip9102)\" style=\"fill:#000000; stroke:none; fill-opacity:1\" cx=\"1043.42\" cy=\"735.173\" r=\"18\"/>\n<circle clip-path=\"url(#clip9102)\" style=\"fill:#0000ff; stroke:none; fill-opacity:1\" cx=\"1043.42\" cy=\"735.173\" r=\"14\"/>\n<circle clip-path=\"url(#clip9102)\" style=\"fill:#000000; stroke:none; fill-opacity:1\" cx=\"475.456\" cy=\"333.761\" r=\"18\"/>\n<circle clip-path=\"url(#clip9102)\" style=\"fill:#0000ff; stroke:none; fill-opacity:1\" cx=\"475.456\" cy=\"333.761\" r=\"14\"/>\n<circle clip-path=\"url(#clip9102)\" style=\"fill:#000000; stroke:none; fill-opacity:1\" cx=\"718.678\" cy=\"316.192\" r=\"18\"/>\n<circle clip-path=\"url(#clip9102)\" style=\"fill:#0000ff; stroke:none; fill-opacity:1\" cx=\"718.678\" cy=\"316.192\" r=\"14\"/>\n<circle clip-path=\"url(#clip9102)\" style=\"fill:#000000; stroke:none; fill-opacity:1\" cx=\"210.117\" cy=\"1189.1\" r=\"18\"/>\n<circle clip-path=\"url(#clip9102)\" style=\"fill:#0000ff; stroke:none; fill-opacity:1\" cx=\"210.117\" cy=\"1189.1\" r=\"14\"/>\n<circle clip-path=\"url(#clip9102)\" style=\"fill:#000000; stroke:none; fill-opacity:1\" cx=\"314.473\" cy=\"419.445\" r=\"18\"/>\n<circle clip-path=\"url(#clip9102)\" style=\"fill:#0000ff; stroke:none; fill-opacity:1\" cx=\"314.473\" cy=\"419.445\" r=\"14\"/>\n<circle clip-path=\"url(#clip9102)\" style=\"fill:#000000; stroke:none; fill-opacity:1\" cx=\"228.473\" cy=\"982.722\" r=\"18\"/>\n<circle clip-path=\"url(#clip9102)\" style=\"fill:#0000ff; stroke:none; fill-opacity:1\" cx=\"228.473\" cy=\"982.722\" r=\"14\"/>\n<circle clip-path=\"url(#clip9102)\" style=\"fill:#000000; stroke:none; fill-opacity:1\" cx=\"1126.63\" cy=\"522.374\" r=\"18\"/>\n<circle clip-path=\"url(#clip9102)\" style=\"fill:#0000ff; stroke:none; fill-opacity:1\" cx=\"1126.63\" cy=\"522.374\" r=\"14\"/>\n<circle clip-path=\"url(#clip9102)\" style=\"fill:#000000; stroke:none; fill-opacity:1\" cx=\"220.617\" cy=\"1037.7\" r=\"18\"/>\n<circle clip-path=\"url(#clip9102)\" style=\"fill:#0000ff; stroke:none; fill-opacity:1\" cx=\"220.617\" cy=\"1037.7\" r=\"14\"/>\n<circle clip-path=\"url(#clip9102)\" style=\"fill:#000000; stroke:none; fill-opacity:1\" cx=\"1194.62\" cy=\"731.189\" r=\"18\"/>\n<circle clip-path=\"url(#clip9102)\" style=\"fill:#0000ff; stroke:none; fill-opacity:1\" cx=\"1194.62\" cy=\"731.189\" r=\"14\"/>\n<circle clip-path=\"url(#clip9102)\" style=\"fill:#000000; stroke:none; fill-opacity:1\" cx=\"1085.23\" cy=\"229.964\" r=\"18\"/>\n<circle clip-path=\"url(#clip9102)\" style=\"fill:#0000ff; stroke:none; fill-opacity:1\" cx=\"1085.23\" cy=\"229.964\" r=\"14\"/>\n<circle clip-path=\"url(#clip9102)\" style=\"fill:#000000; stroke:none; fill-opacity:1\" cx=\"1139.71\" cy=\"473.88\" r=\"18\"/>\n<circle clip-path=\"url(#clip9102)\" style=\"fill:#0000ff; stroke:none; fill-opacity:1\" cx=\"1139.71\" cy=\"473.88\" r=\"14\"/>\n<circle clip-path=\"url(#clip9102)\" style=\"fill:#000000; stroke:none; fill-opacity:1\" cx=\"239.932\" cy=\"966.422\" r=\"18\"/>\n<circle clip-path=\"url(#clip9102)\" style=\"fill:#0000ff; stroke:none; fill-opacity:1\" cx=\"239.932\" cy=\"966.422\" r=\"14\"/>\n<circle clip-path=\"url(#clip9102)\" style=\"fill:#000000; stroke:none; fill-opacity:1\" cx=\"1454.82\" cy=\"148.796\" r=\"18\"/>\n<circle clip-path=\"url(#clip9102)\" style=\"fill:#0000ff; stroke:none; fill-opacity:1\" cx=\"1454.82\" cy=\"148.796\" r=\"14\"/>\n<circle clip-path=\"url(#clip9102)\" style=\"fill:#000000; stroke:none; fill-opacity:1\" cx=\"482.903\" cy=\"106.596\" r=\"18\"/>\n<circle clip-path=\"url(#clip9102)\" style=\"fill:#0000ff; stroke:none; fill-opacity:1\" cx=\"482.903\" cy=\"106.596\" r=\"14\"/>\n<circle clip-path=\"url(#clip9102)\" style=\"fill:#000000; stroke:none; fill-opacity:1\" cx=\"1541.99\" cy=\"182.853\" r=\"18\"/>\n<circle clip-path=\"url(#clip9102)\" style=\"fill:#0000ff; stroke:none; fill-opacity:1\" cx=\"1541.99\" cy=\"182.853\" r=\"14\"/>\n<circle clip-path=\"url(#clip9102)\" style=\"fill:#000000; stroke:none; fill-opacity:1\" cx=\"1347.84\" cy=\"558.249\" r=\"18\"/>\n<circle clip-path=\"url(#clip9102)\" style=\"fill:#0000ff; stroke:none; fill-opacity:1\" cx=\"1347.84\" cy=\"558.249\" r=\"14\"/>\n<circle clip-path=\"url(#clip9102)\" style=\"fill:#000000; stroke:none; fill-opacity:1\" cx=\"1335.08\" cy=\"622.191\" r=\"18\"/>\n<circle clip-path=\"url(#clip9102)\" style=\"fill:#0000ff; stroke:none; fill-opacity:1\" cx=\"1335.08\" cy=\"622.191\" r=\"14\"/>\n<circle clip-path=\"url(#clip9102)\" style=\"fill:#000000; stroke:none; fill-opacity:1\" cx=\"416.991\" cy=\"220.405\" r=\"18\"/>\n<circle clip-path=\"url(#clip9102)\" style=\"fill:#0000ff; stroke:none; fill-opacity:1\" cx=\"416.991\" cy=\"220.405\" r=\"14\"/>\n<circle clip-path=\"url(#clip9102)\" style=\"fill:#000000; stroke:none; fill-opacity:1\" cx=\"416.743\" cy=\"239.302\" r=\"18\"/>\n<circle clip-path=\"url(#clip9102)\" style=\"fill:#0000ff; stroke:none; fill-opacity:1\" cx=\"416.743\" cy=\"239.302\" r=\"14\"/>\n<circle clip-path=\"url(#clip9102)\" style=\"fill:#000000; stroke:none; fill-opacity:1\" cx=\"535.266\" cy=\"530.563\" r=\"18\"/>\n<circle clip-path=\"url(#clip9102)\" style=\"fill:#0000ff; stroke:none; fill-opacity:1\" cx=\"535.266\" cy=\"530.563\" r=\"14\"/>\n<circle clip-path=\"url(#clip9102)\" style=\"fill:#000000; stroke:none; fill-opacity:1\" cx=\"1377.49\" cy=\"131.044\" r=\"18\"/>\n<circle clip-path=\"url(#clip9102)\" style=\"fill:#0000ff; stroke:none; fill-opacity:1\" cx=\"1377.49\" cy=\"131.044\" r=\"14\"/>\n<circle clip-path=\"url(#clip9102)\" style=\"fill:#000000; stroke:none; fill-opacity:1\" cx=\"1290.99\" cy=\"614.048\" r=\"18\"/>\n<circle clip-path=\"url(#clip9102)\" style=\"fill:#0000ff; stroke:none; fill-opacity:1\" cx=\"1290.99\" cy=\"614.048\" r=\"14\"/>\n<circle clip-path=\"url(#clip9102)\" style=\"fill:#000000; stroke:none; fill-opacity:1\" cx=\"501.362\" cy=\"339.266\" r=\"18\"/>\n<circle clip-path=\"url(#clip9102)\" style=\"fill:#0000ff; stroke:none; fill-opacity:1\" cx=\"501.362\" cy=\"339.266\" r=\"14\"/>\n<circle clip-path=\"url(#clip9102)\" style=\"fill:#000000; stroke:none; fill-opacity:1\" cx=\"496.693\" cy=\"742.78\" r=\"18\"/>\n<circle clip-path=\"url(#clip9102)\" style=\"fill:#0000ff; stroke:none; fill-opacity:1\" cx=\"496.693\" cy=\"742.78\" r=\"14\"/>\n<circle clip-path=\"url(#clip9102)\" style=\"fill:#000000; stroke:none; fill-opacity:1\" cx=\"1275.39\" cy=\"210.914\" r=\"18\"/>\n<circle clip-path=\"url(#clip9102)\" style=\"fill:#0000ff; stroke:none; fill-opacity:1\" cx=\"1275.39\" cy=\"210.914\" r=\"14\"/>\n<circle clip-path=\"url(#clip9102)\" style=\"fill:#000000; stroke:none; fill-opacity:1\" cx=\"919.363\" cy=\"223.361\" r=\"18\"/>\n<circle clip-path=\"url(#clip9102)\" style=\"fill:#0000ff; stroke:none; fill-opacity:1\" cx=\"919.363\" cy=\"223.361\" r=\"14\"/>\n<circle clip-path=\"url(#clip9102)\" style=\"fill:#000000; stroke:none; fill-opacity:1\" cx=\"262.718\" cy=\"496.723\" r=\"18\"/>\n<circle clip-path=\"url(#clip9102)\" style=\"fill:#0000ff; stroke:none; fill-opacity:1\" cx=\"262.718\" cy=\"496.723\" r=\"14\"/>\n<circle clip-path=\"url(#clip9102)\" style=\"fill:#000000; stroke:none; fill-opacity:1\" cx=\"609.446\" cy=\"297.843\" r=\"18\"/>\n<circle clip-path=\"url(#clip9102)\" style=\"fill:#0000ff; stroke:none; fill-opacity:1\" cx=\"609.446\" cy=\"297.843\" r=\"14\"/>\n<circle clip-path=\"url(#clip9102)\" style=\"fill:#000000; stroke:none; fill-opacity:1\" cx=\"793.718\" cy=\"695.086\" r=\"18\"/>\n<circle clip-path=\"url(#clip9102)\" style=\"fill:#0000ff; stroke:none; fill-opacity:1\" cx=\"793.718\" cy=\"695.086\" r=\"14\"/>\n<circle clip-path=\"url(#clip9102)\" style=\"fill:#000000; stroke:none; fill-opacity:1\" cx=\"750.57\" cy=\"623.105\" r=\"18\"/>\n<circle clip-path=\"url(#clip9102)\" style=\"fill:#0000ff; stroke:none; fill-opacity:1\" cx=\"750.57\" cy=\"623.105\" r=\"14\"/>\n<circle clip-path=\"url(#clip9102)\" style=\"fill:#000000; stroke:none; fill-opacity:1\" cx=\"336.387\" cy=\"99.6815\" r=\"18\"/>\n<circle clip-path=\"url(#clip9102)\" style=\"fill:#0000ff; stroke:none; fill-opacity:1\" cx=\"336.387\" cy=\"99.6815\" r=\"14\"/>\n<circle clip-path=\"url(#clip9102)\" style=\"fill:#000000; stroke:none; fill-opacity:1\" cx=\"1213.66\" cy=\"776.744\" r=\"18\"/>\n<circle clip-path=\"url(#clip9102)\" style=\"fill:#0000ff; stroke:none; fill-opacity:1\" cx=\"1213.66\" cy=\"776.744\" r=\"14\"/>\n<circle clip-path=\"url(#clip9102)\" style=\"fill:#000000; stroke:none; fill-opacity:1\" cx=\"284.477\" cy=\"749.539\" r=\"18\"/>\n<circle clip-path=\"url(#clip9102)\" style=\"fill:#0000ff; stroke:none; fill-opacity:1\" cx=\"284.477\" cy=\"749.539\" r=\"14\"/>\n<circle clip-path=\"url(#clip9102)\" style=\"fill:#000000; stroke:none; fill-opacity:1\" cx=\"1498.55\" cy=\"255.617\" r=\"18\"/>\n<circle clip-path=\"url(#clip9102)\" style=\"fill:#0000ff; stroke:none; fill-opacity:1\" cx=\"1498.55\" cy=\"255.617\" r=\"14\"/>\n<circle clip-path=\"url(#clip9102)\" style=\"fill:#000000; stroke:none; fill-opacity:1\" cx=\"646.346\" cy=\"228.209\" r=\"18\"/>\n<circle clip-path=\"url(#clip9102)\" style=\"fill:#0000ff; stroke:none; fill-opacity:1\" cx=\"646.346\" cy=\"228.209\" r=\"14\"/>\n<circle clip-path=\"url(#clip9102)\" style=\"fill:#000000; stroke:none; fill-opacity:1\" cx=\"1138.96\" cy=\"671.96\" r=\"18\"/>\n<circle clip-path=\"url(#clip9102)\" style=\"fill:#0000ff; stroke:none; fill-opacity:1\" cx=\"1138.96\" cy=\"671.96\" r=\"14\"/>\n<circle clip-path=\"url(#clip9102)\" style=\"fill:#000000; stroke:none; fill-opacity:1\" cx=\"892.938\" cy=\"169.036\" r=\"18\"/>\n<circle clip-path=\"url(#clip9102)\" style=\"fill:#0000ff; stroke:none; fill-opacity:1\" cx=\"892.938\" cy=\"169.036\" r=\"14\"/>\n<circle clip-path=\"url(#clip9102)\" style=\"fill:#000000; stroke:none; fill-opacity:1\" cx=\"1078.76\" cy=\"102.302\" r=\"18\"/>\n<circle clip-path=\"url(#clip9102)\" style=\"fill:#0000ff; stroke:none; fill-opacity:1\" cx=\"1078.76\" cy=\"102.302\" r=\"14\"/>\n<circle clip-path=\"url(#clip9102)\" style=\"fill:#000000; stroke:none; fill-opacity:1\" cx=\"1427.27\" cy=\"200.081\" r=\"18\"/>\n<circle clip-path=\"url(#clip9102)\" style=\"fill:#0000ff; stroke:none; fill-opacity:1\" cx=\"1427.27\" cy=\"200.081\" r=\"14\"/>\n<circle clip-path=\"url(#clip9102)\" style=\"fill:#000000; stroke:none; fill-opacity:1\" cx=\"628.882\" cy=\"519.04\" r=\"18\"/>\n<circle clip-path=\"url(#clip9102)\" style=\"fill:#0000ff; stroke:none; fill-opacity:1\" cx=\"628.882\" cy=\"519.04\" r=\"14\"/>\n<circle clip-path=\"url(#clip9102)\" style=\"fill:#000000; stroke:none; fill-opacity:1\" cx=\"263.537\" cy=\"142.086\" r=\"18\"/>\n<circle clip-path=\"url(#clip9102)\" style=\"fill:#0000ff; stroke:none; fill-opacity:1\" cx=\"263.537\" cy=\"142.086\" r=\"14\"/>\n<circle clip-path=\"url(#clip9102)\" style=\"fill:#000000; stroke:none; fill-opacity:1\" cx=\"275.795\" cy=\"553.921\" r=\"18\"/>\n<circle clip-path=\"url(#clip9102)\" style=\"fill:#0000ff; stroke:none; fill-opacity:1\" cx=\"275.795\" cy=\"553.921\" r=\"14\"/>\n<circle clip-path=\"url(#clip9102)\" style=\"fill:#000000; stroke:none; fill-opacity:1\" cx=\"1015.5\" cy=\"371.838\" r=\"18\"/>\n<circle clip-path=\"url(#clip9102)\" style=\"fill:#0000ff; stroke:none; fill-opacity:1\" cx=\"1015.5\" cy=\"371.838\" r=\"14\"/>\n<circle clip-path=\"url(#clip9102)\" style=\"fill:#000000; stroke:none; fill-opacity:1\" cx=\"1104.8\" cy=\"330.975\" r=\"18\"/>\n<circle clip-path=\"url(#clip9102)\" style=\"fill:#0000ff; stroke:none; fill-opacity:1\" cx=\"1104.8\" cy=\"330.975\" r=\"14\"/>\n<circle clip-path=\"url(#clip9102)\" style=\"fill:#000000; stroke:none; fill-opacity:1\" cx=\"734.605\" cy=\"229.639\" r=\"18\"/>\n<circle clip-path=\"url(#clip9102)\" style=\"fill:#0000ff; stroke:none; fill-opacity:1\" cx=\"734.605\" cy=\"229.639\" r=\"14\"/>\n<circle clip-path=\"url(#clip9102)\" style=\"fill:#000000; stroke:none; fill-opacity:1\" cx=\"235.654\" cy=\"825.987\" r=\"18\"/>\n<circle clip-path=\"url(#clip9102)\" style=\"fill:#0000ff; stroke:none; fill-opacity:1\" cx=\"235.654\" cy=\"825.987\" r=\"14\"/>\n<circle clip-path=\"url(#clip9102)\" style=\"fill:#000000; stroke:none; fill-opacity:1\" cx=\"351.275\" cy=\"655.499\" r=\"18\"/>\n<circle clip-path=\"url(#clip9102)\" style=\"fill:#0000ff; stroke:none; fill-opacity:1\" cx=\"351.275\" cy=\"655.499\" r=\"14\"/>\n<circle clip-path=\"url(#clip9102)\" style=\"fill:#000000; stroke:none; fill-opacity:1\" cx=\"391.942\" cy=\"387.049\" r=\"18\"/>\n<circle clip-path=\"url(#clip9102)\" style=\"fill:#0000ff; stroke:none; fill-opacity:1\" cx=\"391.942\" cy=\"387.049\" r=\"14\"/>\n<circle clip-path=\"url(#clip9102)\" style=\"fill:#000000; stroke:none; fill-opacity:1\" cx=\"253.405\" cy=\"518.172\" r=\"18\"/>\n<circle clip-path=\"url(#clip9102)\" style=\"fill:#0000ff; stroke:none; fill-opacity:1\" cx=\"253.405\" cy=\"518.172\" r=\"14\"/>\n<circle clip-path=\"url(#clip9102)\" style=\"fill:#000000; stroke:none; fill-opacity:1\" cx=\"1241.99\" cy=\"475.33\" r=\"18\"/>\n<circle clip-path=\"url(#clip9102)\" style=\"fill:#0000ff; stroke:none; fill-opacity:1\" cx=\"1241.99\" cy=\"475.33\" r=\"14\"/>\n<circle clip-path=\"url(#clip9102)\" style=\"fill:#000000; stroke:none; fill-opacity:1\" cx=\"536.108\" cy=\"431.458\" r=\"18\"/>\n<circle clip-path=\"url(#clip9102)\" style=\"fill:#0000ff; stroke:none; fill-opacity:1\" cx=\"536.108\" cy=\"431.458\" r=\"14\"/>\n<circle clip-path=\"url(#clip9102)\" style=\"fill:#000000; stroke:none; fill-opacity:1\" cx=\"743.344\" cy=\"652.333\" r=\"18\"/>\n<circle clip-path=\"url(#clip9102)\" style=\"fill:#0000ff; stroke:none; fill-opacity:1\" cx=\"743.344\" cy=\"652.333\" r=\"14\"/>\n<circle clip-path=\"url(#clip9102)\" style=\"fill:#000000; stroke:none; fill-opacity:1\" cx=\"387.476\" cy=\"280.3\" r=\"18\"/>\n<circle clip-path=\"url(#clip9102)\" style=\"fill:#0000ff; stroke:none; fill-opacity:1\" cx=\"387.476\" cy=\"280.3\" r=\"14\"/>\n<circle clip-path=\"url(#clip9102)\" style=\"fill:#000000; stroke:none; fill-opacity:1\" cx=\"1026.73\" cy=\"377.841\" r=\"18\"/>\n<circle clip-path=\"url(#clip9102)\" style=\"fill:#0000ff; stroke:none; fill-opacity:1\" cx=\"1026.73\" cy=\"377.841\" r=\"14\"/>\n<circle clip-path=\"url(#clip9102)\" style=\"fill:#000000; stroke:none; fill-opacity:1\" cx=\"344.681\" cy=\"806.526\" r=\"18\"/>\n<circle clip-path=\"url(#clip9102)\" style=\"fill:#0000ff; stroke:none; fill-opacity:1\" cx=\"344.681\" cy=\"806.526\" r=\"14\"/>\n<circle clip-path=\"url(#clip9102)\" style=\"fill:#000000; stroke:none; fill-opacity:1\" cx=\"1213.21\" cy=\"340.017\" r=\"18\"/>\n<circle clip-path=\"url(#clip9102)\" style=\"fill:#0000ff; stroke:none; fill-opacity:1\" cx=\"1213.21\" cy=\"340.017\" r=\"14\"/>\n<circle clip-path=\"url(#clip9102)\" style=\"fill:#000000; stroke:none; fill-opacity:1\" cx=\"1165.08\" cy=\"446.288\" r=\"18\"/>\n<circle clip-path=\"url(#clip9102)\" style=\"fill:#0000ff; stroke:none; fill-opacity:1\" cx=\"1165.08\" cy=\"446.288\" r=\"14\"/>\n<circle clip-path=\"url(#clip9102)\" style=\"fill:#000000; stroke:none; fill-opacity:1\" cx=\"230.961\" cy=\"329.808\" r=\"18\"/>\n<circle clip-path=\"url(#clip9102)\" style=\"fill:#0000ff; stroke:none; fill-opacity:1\" cx=\"230.961\" cy=\"329.808\" r=\"14\"/>\n<circle clip-path=\"url(#clip9102)\" style=\"fill:#000000; stroke:none; fill-opacity:1\" cx=\"953.483\" cy=\"428.607\" r=\"18\"/>\n<circle clip-path=\"url(#clip9102)\" style=\"fill:#0000ff; stroke:none; fill-opacity:1\" cx=\"953.483\" cy=\"428.607\" r=\"14\"/>\n<circle clip-path=\"url(#clip9102)\" style=\"fill:#000000; stroke:none; fill-opacity:1\" cx=\"853.549\" cy=\"608.37\" r=\"18\"/>\n<circle clip-path=\"url(#clip9102)\" style=\"fill:#0000ff; stroke:none; fill-opacity:1\" cx=\"853.549\" cy=\"608.37\" r=\"14\"/>\n<circle clip-path=\"url(#clip9102)\" style=\"fill:#000000; stroke:none; fill-opacity:1\" cx=\"1022.13\" cy=\"155.747\" r=\"18\"/>\n<circle clip-path=\"url(#clip9102)\" style=\"fill:#0000ff; stroke:none; fill-opacity:1\" cx=\"1022.13\" cy=\"155.747\" r=\"14\"/>\n<circle clip-path=\"url(#clip9102)\" style=\"fill:#000000; stroke:none; fill-opacity:1\" cx=\"987.148\" cy=\"1179.88\" r=\"18\"/>\n<circle clip-path=\"url(#clip9102)\" style=\"fill:#ff0000; stroke:none; fill-opacity:1\" cx=\"987.148\" cy=\"1179.88\" r=\"14\"/>\n<circle clip-path=\"url(#clip9102)\" style=\"fill:#000000; stroke:none; fill-opacity:1\" cx=\"813.365\" cy=\"1053.31\" r=\"18\"/>\n<circle clip-path=\"url(#clip9102)\" style=\"fill:#ff0000; stroke:none; fill-opacity:1\" cx=\"813.365\" cy=\"1053.31\" r=\"14\"/>\n<circle clip-path=\"url(#clip9102)\" style=\"fill:#000000; stroke:none; fill-opacity:1\" cx=\"679.395\" cy=\"771.122\" r=\"18\"/>\n<circle clip-path=\"url(#clip9102)\" style=\"fill:#ff0000; stroke:none; fill-opacity:1\" cx=\"679.395\" cy=\"771.122\" r=\"14\"/>\n<circle clip-path=\"url(#clip9102)\" style=\"fill:#000000; stroke:none; fill-opacity:1\" cx=\"348.156\" cy=\"1168.17\" r=\"18\"/>\n<circle clip-path=\"url(#clip9102)\" style=\"fill:#ff0000; stroke:none; fill-opacity:1\" cx=\"348.156\" cy=\"1168.17\" r=\"14\"/>\n<circle clip-path=\"url(#clip9102)\" style=\"fill:#000000; stroke:none; fill-opacity:1\" cx=\"960.435\" cy=\"1119.83\" r=\"18\"/>\n<circle clip-path=\"url(#clip9102)\" style=\"fill:#ff0000; stroke:none; fill-opacity:1\" cx=\"960.435\" cy=\"1119.83\" r=\"14\"/>\n<circle clip-path=\"url(#clip9102)\" style=\"fill:#000000; stroke:none; fill-opacity:1\" cx=\"1254.65\" cy=\"1318.91\" r=\"18\"/>\n<circle clip-path=\"url(#clip9102)\" style=\"fill:#ff0000; stroke:none; fill-opacity:1\" cx=\"1254.65\" cy=\"1318.91\" r=\"14\"/>\n<circle clip-path=\"url(#clip9102)\" style=\"fill:#000000; stroke:none; fill-opacity:1\" cx=\"1107.68\" cy=\"958.228\" r=\"18\"/>\n<circle clip-path=\"url(#clip9102)\" style=\"fill:#ff0000; stroke:none; fill-opacity:1\" cx=\"1107.68\" cy=\"958.228\" r=\"14\"/>\n<circle clip-path=\"url(#clip9102)\" style=\"fill:#000000; stroke:none; fill-opacity:1\" cx=\"1243.29\" cy=\"823.879\" r=\"18\"/>\n<circle clip-path=\"url(#clip9102)\" style=\"fill:#ff0000; stroke:none; fill-opacity:1\" cx=\"1243.29\" cy=\"823.879\" r=\"14\"/>\n<circle clip-path=\"url(#clip9102)\" style=\"fill:#000000; stroke:none; fill-opacity:1\" cx=\"943.179\" cy=\"1425.71\" r=\"18\"/>\n<circle clip-path=\"url(#clip9102)\" style=\"fill:#ff0000; stroke:none; fill-opacity:1\" cx=\"943.179\" cy=\"1425.71\" r=\"14\"/>\n<circle clip-path=\"url(#clip9102)\" style=\"fill:#000000; stroke:none; fill-opacity:1\" cx=\"995.77\" cy=\"1131.7\" r=\"18\"/>\n<circle clip-path=\"url(#clip9102)\" style=\"fill:#ff0000; stroke:none; fill-opacity:1\" cx=\"995.77\" cy=\"1131.7\" r=\"14\"/>\n<circle clip-path=\"url(#clip9102)\" style=\"fill:#000000; stroke:none; fill-opacity:1\" cx=\"1482.89\" cy=\"1180.15\" r=\"18\"/>\n<circle clip-path=\"url(#clip9102)\" style=\"fill:#ff0000; stroke:none; fill-opacity:1\" cx=\"1482.89\" cy=\"1180.15\" r=\"14\"/>\n<circle clip-path=\"url(#clip9102)\" style=\"fill:#000000; stroke:none; fill-opacity:1\" cx=\"867.659\" cy=\"1370.48\" r=\"18\"/>\n<circle clip-path=\"url(#clip9102)\" style=\"fill:#ff0000; stroke:none; fill-opacity:1\" cx=\"867.659\" cy=\"1370.48\" r=\"14\"/>\n<circle clip-path=\"url(#clip9102)\" style=\"fill:#000000; stroke:none; fill-opacity:1\" cx=\"379.532\" cy=\"1272\" r=\"18\"/>\n<circle clip-path=\"url(#clip9102)\" style=\"fill:#ff0000; stroke:none; fill-opacity:1\" cx=\"379.532\" cy=\"1272\" r=\"14\"/>\n<circle clip-path=\"url(#clip9102)\" style=\"fill:#000000; stroke:none; fill-opacity:1\" cx=\"566.679\" cy=\"1182.1\" r=\"18\"/>\n<circle clip-path=\"url(#clip9102)\" style=\"fill:#ff0000; stroke:none; fill-opacity:1\" cx=\"566.679\" cy=\"1182.1\" r=\"14\"/>\n<circle clip-path=\"url(#clip9102)\" style=\"fill:#000000; stroke:none; fill-opacity:1\" cx=\"497.817\" cy=\"992.346\" r=\"18\"/>\n<circle clip-path=\"url(#clip9102)\" style=\"fill:#ff0000; stroke:none; fill-opacity:1\" cx=\"497.817\" cy=\"992.346\" r=\"14\"/>\n<circle clip-path=\"url(#clip9102)\" style=\"fill:#000000; stroke:none; fill-opacity:1\" cx=\"1391.06\" cy=\"778.613\" r=\"18\"/>\n<circle clip-path=\"url(#clip9102)\" style=\"fill:#ff0000; stroke:none; fill-opacity:1\" cx=\"1391.06\" cy=\"778.613\" r=\"14\"/>\n<circle clip-path=\"url(#clip9102)\" style=\"fill:#000000; stroke:none; fill-opacity:1\" cx=\"1505.08\" cy=\"671.21\" r=\"18\"/>\n<circle clip-path=\"url(#clip9102)\" style=\"fill:#ff0000; stroke:none; fill-opacity:1\" cx=\"1505.08\" cy=\"671.21\" r=\"14\"/>\n<circle clip-path=\"url(#clip9102)\" style=\"fill:#000000; stroke:none; fill-opacity:1\" cx=\"870.976\" cy=\"1429.12\" r=\"18\"/>\n<circle clip-path=\"url(#clip9102)\" style=\"fill:#ff0000; stroke:none; fill-opacity:1\" cx=\"870.976\" cy=\"1429.12\" r=\"14\"/>\n<circle clip-path=\"url(#clip9102)\" style=\"fill:#000000; stroke:none; fill-opacity:1\" cx=\"447.233\" cy=\"842.079\" r=\"18\"/>\n<circle clip-path=\"url(#clip9102)\" style=\"fill:#ff0000; stroke:none; fill-opacity:1\" cx=\"447.233\" cy=\"842.079\" r=\"14\"/>\n<circle clip-path=\"url(#clip9102)\" style=\"fill:#000000; stroke:none; fill-opacity:1\" cx=\"904.981\" cy=\"1411.2\" r=\"18\"/>\n<circle clip-path=\"url(#clip9102)\" style=\"fill:#ff0000; stroke:none; fill-opacity:1\" cx=\"904.981\" cy=\"1411.2\" r=\"14\"/>\n<circle clip-path=\"url(#clip9102)\" style=\"fill:#000000; stroke:none; fill-opacity:1\" cx=\"422.938\" cy=\"1289.26\" r=\"18\"/>\n<circle clip-path=\"url(#clip9102)\" style=\"fill:#ff0000; stroke:none; fill-opacity:1\" cx=\"422.938\" cy=\"1289.26\" r=\"14\"/>\n<circle clip-path=\"url(#clip9102)\" style=\"fill:#000000; stroke:none; fill-opacity:1\" cx=\"1356.62\" cy=\"1098.5\" r=\"18\"/>\n<circle clip-path=\"url(#clip9102)\" style=\"fill:#ff0000; stroke:none; fill-opacity:1\" cx=\"1356.62\" cy=\"1098.5\" r=\"14\"/>\n<circle clip-path=\"url(#clip9102)\" style=\"fill:#000000; stroke:none; fill-opacity:1\" cx=\"1200.03\" cy=\"1185.36\" r=\"18\"/>\n<circle clip-path=\"url(#clip9102)\" style=\"fill:#ff0000; stroke:none; fill-opacity:1\" cx=\"1200.03\" cy=\"1185.36\" r=\"14\"/>\n<circle clip-path=\"url(#clip9102)\" style=\"fill:#000000; stroke:none; fill-opacity:1\" cx=\"800.956\" cy=\"751.39\" r=\"18\"/>\n<circle clip-path=\"url(#clip9102)\" style=\"fill:#ff0000; stroke:none; fill-opacity:1\" cx=\"800.956\" cy=\"751.39\" r=\"14\"/>\n<circle clip-path=\"url(#clip9102)\" style=\"fill:#000000; stroke:none; fill-opacity:1\" cx=\"649.206\" cy=\"1427.82\" r=\"18\"/>\n<circle clip-path=\"url(#clip9102)\" style=\"fill:#ff0000; stroke:none; fill-opacity:1\" cx=\"649.206\" cy=\"1427.82\" r=\"14\"/>\n<circle clip-path=\"url(#clip9102)\" style=\"fill:#000000; stroke:none; fill-opacity:1\" cx=\"691.794\" cy=\"1035.51\" r=\"18\"/>\n<circle clip-path=\"url(#clip9102)\" style=\"fill:#ff0000; stroke:none; fill-opacity:1\" cx=\"691.794\" cy=\"1035.51\" r=\"14\"/>\n<circle clip-path=\"url(#clip9102)\" style=\"fill:#000000; stroke:none; fill-opacity:1\" cx=\"465.394\" cy=\"1146.93\" r=\"18\"/>\n<circle clip-path=\"url(#clip9102)\" style=\"fill:#ff0000; stroke:none; fill-opacity:1\" cx=\"465.394\" cy=\"1146.93\" r=\"14\"/>\n<circle clip-path=\"url(#clip9102)\" style=\"fill:#000000; stroke:none; fill-opacity:1\" cx=\"1386.51\" cy=\"1200.47\" r=\"18\"/>\n<circle clip-path=\"url(#clip9102)\" style=\"fill:#ff0000; stroke:none; fill-opacity:1\" cx=\"1386.51\" cy=\"1200.47\" r=\"14\"/>\n<circle clip-path=\"url(#clip9102)\" style=\"fill:#000000; stroke:none; fill-opacity:1\" cx=\"578.324\" cy=\"1203.22\" r=\"18\"/>\n<circle clip-path=\"url(#clip9102)\" style=\"fill:#ff0000; stroke:none; fill-opacity:1\" cx=\"578.324\" cy=\"1203.22\" r=\"14\"/>\n<circle clip-path=\"url(#clip9102)\" style=\"fill:#000000; stroke:none; fill-opacity:1\" cx=\"647.521\" cy=\"1312.62\" r=\"18\"/>\n<circle clip-path=\"url(#clip9102)\" style=\"fill:#ff0000; stroke:none; fill-opacity:1\" cx=\"647.521\" cy=\"1312.62\" r=\"14\"/>\n<circle clip-path=\"url(#clip9102)\" style=\"fill:#000000; stroke:none; fill-opacity:1\" cx=\"872.135\" cy=\"1339.42\" r=\"18\"/>\n<circle clip-path=\"url(#clip9102)\" style=\"fill:#ff0000; stroke:none; fill-opacity:1\" cx=\"872.135\" cy=\"1339.42\" r=\"14\"/>\n<circle clip-path=\"url(#clip9102)\" style=\"fill:#000000; stroke:none; fill-opacity:1\" cx=\"713.54\" cy=\"709.187\" r=\"18\"/>\n<circle clip-path=\"url(#clip9102)\" style=\"fill:#ff0000; stroke:none; fill-opacity:1\" cx=\"713.54\" cy=\"709.187\" r=\"14\"/>\n<circle clip-path=\"url(#clip9102)\" style=\"fill:#000000; stroke:none; fill-opacity:1\" cx=\"657.195\" cy=\"760.567\" r=\"18\"/>\n<circle clip-path=\"url(#clip9102)\" style=\"fill:#ff0000; stroke:none; fill-opacity:1\" cx=\"657.195\" cy=\"760.567\" r=\"14\"/>\n<circle clip-path=\"url(#clip9102)\" style=\"fill:#000000; stroke:none; fill-opacity:1\" cx=\"615.211\" cy=\"1308.35\" r=\"18\"/>\n<circle clip-path=\"url(#clip9102)\" style=\"fill:#ff0000; stroke:none; fill-opacity:1\" cx=\"615.211\" cy=\"1308.35\" r=\"14\"/>\n<circle clip-path=\"url(#clip9102)\" style=\"fill:#000000; stroke:none; fill-opacity:1\" cx=\"684.998\" cy=\"697.072\" r=\"18\"/>\n<circle clip-path=\"url(#clip9102)\" style=\"fill:#ff0000; stroke:none; fill-opacity:1\" cx=\"684.998\" cy=\"697.072\" r=\"14\"/>\n<circle clip-path=\"url(#clip9102)\" style=\"fill:#000000; stroke:none; fill-opacity:1\" cx=\"1400.99\" cy=\"825.851\" r=\"18\"/>\n<circle clip-path=\"url(#clip9102)\" style=\"fill:#ff0000; stroke:none; fill-opacity:1\" cx=\"1400.99\" cy=\"825.851\" r=\"14\"/>\n<circle clip-path=\"url(#clip9102)\" style=\"fill:#000000; stroke:none; fill-opacity:1\" cx=\"1513.22\" cy=\"1170.13\" r=\"18\"/>\n<circle clip-path=\"url(#clip9102)\" style=\"fill:#ff0000; stroke:none; fill-opacity:1\" cx=\"1513.22\" cy=\"1170.13\" r=\"14\"/>\n<circle clip-path=\"url(#clip9102)\" style=\"fill:#000000; stroke:none; fill-opacity:1\" cx=\"1539.62\" cy=\"1260.14\" r=\"18\"/>\n<circle clip-path=\"url(#clip9102)\" style=\"fill:#ff0000; stroke:none; fill-opacity:1\" cx=\"1539.62\" cy=\"1260.14\" r=\"14\"/>\n<circle clip-path=\"url(#clip9102)\" style=\"fill:#000000; stroke:none; fill-opacity:1\" cx=\"792.418\" cy=\"808.459\" r=\"18\"/>\n<circle clip-path=\"url(#clip9102)\" style=\"fill:#ff0000; stroke:none; fill-opacity:1\" cx=\"792.418\" cy=\"808.459\" r=\"14\"/>\n<circle clip-path=\"url(#clip9102)\" style=\"fill:#000000; stroke:none; fill-opacity:1\" cx=\"1464.1\" cy=\"1179.98\" r=\"18\"/>\n<circle clip-path=\"url(#clip9102)\" style=\"fill:#ff0000; stroke:none; fill-opacity:1\" cx=\"1464.1\" cy=\"1179.98\" r=\"14\"/>\n<circle clip-path=\"url(#clip9102)\" style=\"fill:#000000; stroke:none; fill-opacity:1\" cx=\"886.568\" cy=\"861.797\" r=\"18\"/>\n<circle clip-path=\"url(#clip9102)\" style=\"fill:#ff0000; stroke:none; fill-opacity:1\" cx=\"886.568\" cy=\"861.797\" r=\"14\"/>\n<circle clip-path=\"url(#clip9102)\" style=\"fill:#000000; stroke:none; fill-opacity:1\" cx=\"650.649\" cy=\"949.174\" r=\"18\"/>\n<circle clip-path=\"url(#clip9102)\" style=\"fill:#ff0000; stroke:none; fill-opacity:1\" cx=\"650.649\" cy=\"949.174\" r=\"14\"/>\n<circle clip-path=\"url(#clip9102)\" style=\"fill:#000000; stroke:none; fill-opacity:1\" cx=\"564.914\" cy=\"1298.56\" r=\"18\"/>\n<circle clip-path=\"url(#clip9102)\" style=\"fill:#ff0000; stroke:none; fill-opacity:1\" cx=\"564.914\" cy=\"1298.56\" r=\"14\"/>\n<circle clip-path=\"url(#clip9102)\" style=\"fill:#000000; stroke:none; fill-opacity:1\" cx=\"1292.75\" cy=\"945.63\" r=\"18\"/>\n<circle clip-path=\"url(#clip9102)\" style=\"fill:#ff0000; stroke:none; fill-opacity:1\" cx=\"1292.75\" cy=\"945.63\" r=\"14\"/>\n<circle clip-path=\"url(#clip9102)\" style=\"fill:#000000; stroke:none; fill-opacity:1\" cx=\"809.815\" cy=\"1027.66\" r=\"18\"/>\n<circle clip-path=\"url(#clip9102)\" style=\"fill:#ff0000; stroke:none; fill-opacity:1\" cx=\"809.815\" cy=\"1027.66\" r=\"14\"/>\n<circle clip-path=\"url(#clip9102)\" style=\"fill:#000000; stroke:none; fill-opacity:1\" cx=\"522.086\" cy=\"1155.73\" r=\"18\"/>\n<circle clip-path=\"url(#clip9102)\" style=\"fill:#ff0000; stroke:none; fill-opacity:1\" cx=\"522.086\" cy=\"1155.73\" r=\"14\"/>\n<circle clip-path=\"url(#clip9102)\" style=\"fill:#000000; stroke:none; fill-opacity:1\" cx=\"957.577\" cy=\"1044.06\" r=\"18\"/>\n<circle clip-path=\"url(#clip9102)\" style=\"fill:#ff0000; stroke:none; fill-opacity:1\" cx=\"957.577\" cy=\"1044.06\" r=\"14\"/>\n<circle clip-path=\"url(#clip9102)\" style=\"fill:#000000; stroke:none; fill-opacity:1\" cx=\"1305.77\" cy=\"1008.13\" r=\"18\"/>\n<circle clip-path=\"url(#clip9102)\" style=\"fill:#ff0000; stroke:none; fill-opacity:1\" cx=\"1305.77\" cy=\"1008.13\" r=\"14\"/>\n<circle clip-path=\"url(#clip9102)\" style=\"fill:#000000; stroke:none; fill-opacity:1\" cx=\"1326.22\" cy=\"1182.37\" r=\"18\"/>\n<circle clip-path=\"url(#clip9102)\" style=\"fill:#ff0000; stroke:none; fill-opacity:1\" cx=\"1326.22\" cy=\"1182.37\" r=\"14\"/>\n<circle clip-path=\"url(#clip9102)\" style=\"fill:#000000; stroke:none; fill-opacity:1\" cx=\"1193.28\" cy=\"1055.82\" r=\"18\"/>\n<circle clip-path=\"url(#clip9102)\" style=\"fill:#ff0000; stroke:none; fill-opacity:1\" cx=\"1193.28\" cy=\"1055.82\" r=\"14\"/>\n<circle clip-path=\"url(#clip9102)\" style=\"fill:#000000; stroke:none; fill-opacity:1\" cx=\"437.218\" cy=\"1419.22\" r=\"18\"/>\n<circle clip-path=\"url(#clip9102)\" style=\"fill:#ff0000; stroke:none; fill-opacity:1\" cx=\"437.218\" cy=\"1419.22\" r=\"14\"/>\n<circle clip-path=\"url(#clip9102)\" style=\"fill:#000000; stroke:none; fill-opacity:1\" cx=\"357.479\" cy=\"1215.65\" r=\"18\"/>\n<circle clip-path=\"url(#clip9102)\" style=\"fill:#ff0000; stroke:none; fill-opacity:1\" cx=\"357.479\" cy=\"1215.65\" r=\"14\"/>\n<circle clip-path=\"url(#clip9102)\" style=\"fill:#000000; stroke:none; fill-opacity:1\" cx=\"909.834\" cy=\"858.131\" r=\"18\"/>\n<circle clip-path=\"url(#clip9102)\" style=\"fill:#ff0000; stroke:none; fill-opacity:1\" cx=\"909.834\" cy=\"858.131\" r=\"14\"/>\n<circle clip-path=\"url(#clip9102)\" style=\"fill:#000000; stroke:none; fill-opacity:1\" cx=\"681.775\" cy=\"1248.28\" r=\"18\"/>\n<circle clip-path=\"url(#clip9102)\" style=\"fill:#ff0000; stroke:none; fill-opacity:1\" cx=\"681.775\" cy=\"1248.28\" r=\"14\"/>\n<circle clip-path=\"url(#clip9102)\" style=\"fill:#000000; stroke:none; fill-opacity:1\" cx=\"1032.66\" cy=\"1208.87\" r=\"18\"/>\n<circle clip-path=\"url(#clip9102)\" style=\"fill:#ff0000; stroke:none; fill-opacity:1\" cx=\"1032.66\" cy=\"1208.87\" r=\"14\"/>\n<circle clip-path=\"url(#clip9102)\" style=\"fill:#000000; stroke:none; fill-opacity:1\" cx=\"1487.64\" cy=\"580.292\" r=\"18\"/>\n<circle clip-path=\"url(#clip9102)\" style=\"fill:#ff0000; stroke:none; fill-opacity:1\" cx=\"1487.64\" cy=\"580.292\" r=\"14\"/>\n<circle clip-path=\"url(#clip9102)\" style=\"fill:#000000; stroke:none; fill-opacity:1\" cx=\"1504.82\" cy=\"859.536\" r=\"18\"/>\n<circle clip-path=\"url(#clip9102)\" style=\"fill:#ff0000; stroke:none; fill-opacity:1\" cx=\"1504.82\" cy=\"859.536\" r=\"14\"/>\n<circle clip-path=\"url(#clip9102)\" style=\"fill:#000000; stroke:none; fill-opacity:1\" cx=\"733.669\" cy=\"1344.2\" r=\"18\"/>\n<circle clip-path=\"url(#clip9102)\" style=\"fill:#ff0000; stroke:none; fill-opacity:1\" cx=\"733.669\" cy=\"1344.2\" r=\"14\"/>\n<circle clip-path=\"url(#clip9102)\" style=\"fill:#000000; stroke:none; fill-opacity:1\" cx=\"1064.21\" cy=\"1066.94\" r=\"18\"/>\n<circle clip-path=\"url(#clip9102)\" style=\"fill:#ff0000; stroke:none; fill-opacity:1\" cx=\"1064.21\" cy=\"1066.94\" r=\"14\"/>\n<circle clip-path=\"url(#clip9102)\" style=\"fill:#000000; stroke:none; fill-opacity:1\" cx=\"596.714\" cy=\"1325.12\" r=\"18\"/>\n<circle clip-path=\"url(#clip9102)\" style=\"fill:#ff0000; stroke:none; fill-opacity:1\" cx=\"596.714\" cy=\"1325.12\" r=\"14\"/>\n<circle clip-path=\"url(#clip9102)\" style=\"fill:#000000; stroke:none; fill-opacity:1\" cx=\"505.215\" cy=\"1128.18\" r=\"18\"/>\n<circle clip-path=\"url(#clip9102)\" style=\"fill:#ff0000; stroke:none; fill-opacity:1\" cx=\"505.215\" cy=\"1128.18\" r=\"14\"/>\n<circle clip-path=\"url(#clip9102)\" style=\"fill:#000000; stroke:none; fill-opacity:1\" cx=\"468.507\" cy=\"1285.16\" r=\"18\"/>\n<circle clip-path=\"url(#clip9102)\" style=\"fill:#ff0000; stroke:none; fill-opacity:1\" cx=\"468.507\" cy=\"1285.16\" r=\"14\"/>\n<circle clip-path=\"url(#clip9102)\" style=\"fill:#000000; stroke:none; fill-opacity:1\" cx=\"516.72\" cy=\"1291.82\" r=\"18\"/>\n<circle clip-path=\"url(#clip9102)\" style=\"fill:#ff0000; stroke:none; fill-opacity:1\" cx=\"516.72\" cy=\"1291.82\" r=\"14\"/>\n<circle clip-path=\"url(#clip9102)\" style=\"fill:#000000; stroke:none; fill-opacity:1\" cx=\"914.135\" cy=\"1127.32\" r=\"18\"/>\n<circle clip-path=\"url(#clip9102)\" style=\"fill:#ff0000; stroke:none; fill-opacity:1\" cx=\"914.135\" cy=\"1127.32\" r=\"14\"/>\n<circle clip-path=\"url(#clip9102)\" style=\"fill:#000000; stroke:none; fill-opacity:1\" cx=\"397.493\" cy=\"1323.63\" r=\"18\"/>\n<circle clip-path=\"url(#clip9102)\" style=\"fill:#ff0000; stroke:none; fill-opacity:1\" cx=\"397.493\" cy=\"1323.63\" r=\"14\"/>\n<circle clip-path=\"url(#clip9102)\" style=\"fill:#000000; stroke:none; fill-opacity:1\" cx=\"1512.85\" cy=\"389.347\" r=\"18\"/>\n<circle clip-path=\"url(#clip9102)\" style=\"fill:#ff0000; stroke:none; fill-opacity:1\" cx=\"1512.85\" cy=\"389.347\" r=\"14\"/>\n<circle clip-path=\"url(#clip9102)\" style=\"fill:#000000; stroke:none; fill-opacity:1\" cx=\"839.824\" cy=\"1150.49\" r=\"18\"/>\n<circle clip-path=\"url(#clip9102)\" style=\"fill:#ff0000; stroke:none; fill-opacity:1\" cx=\"839.824\" cy=\"1150.49\" r=\"14\"/>\n<circle clip-path=\"url(#clip9102)\" style=\"fill:#000000; stroke:none; fill-opacity:1\" cx=\"1119.26\" cy=\"888.049\" r=\"18\"/>\n<circle clip-path=\"url(#clip9102)\" style=\"fill:#ff0000; stroke:none; fill-opacity:1\" cx=\"1119.26\" cy=\"888.049\" r=\"14\"/>\n<circle clip-path=\"url(#clip9102)\" style=\"fill:#000000; stroke:none; fill-opacity:1\" cx=\"1564.66\" cy=\"740.323\" r=\"18\"/>\n<circle clip-path=\"url(#clip9102)\" style=\"fill:#ff0000; stroke:none; fill-opacity:1\" cx=\"1564.66\" cy=\"740.323\" r=\"14\"/>\n<circle clip-path=\"url(#clip9102)\" style=\"fill:#000000; stroke:none; fill-opacity:1\" cx=\"1565.84\" cy=\"336.131\" r=\"18\"/>\n<circle clip-path=\"url(#clip9102)\" style=\"fill:#ff0000; stroke:none; fill-opacity:1\" cx=\"1565.84\" cy=\"336.131\" r=\"14\"/>\n<circle clip-path=\"url(#clip9102)\" style=\"fill:#000000; stroke:none; fill-opacity:1\" cx=\"682.66\" cy=\"1240.47\" r=\"18\"/>\n<circle clip-path=\"url(#clip9102)\" style=\"fill:#ff0000; stroke:none; fill-opacity:1\" cx=\"682.66\" cy=\"1240.47\" r=\"14\"/>\n<circle clip-path=\"url(#clip9102)\" style=\"fill:#000000; stroke:none; fill-opacity:1\" cx=\"625.253\" cy=\"701.336\" r=\"18\"/>\n<circle clip-path=\"url(#clip9102)\" style=\"fill:#ff0000; stroke:none; fill-opacity:1\" cx=\"625.253\" cy=\"701.336\" r=\"14\"/>\n<circle clip-path=\"url(#clip9102)\" style=\"fill:#000000; stroke:none; fill-opacity:1\" cx=\"730.198\" cy=\"813.152\" r=\"18\"/>\n<circle clip-path=\"url(#clip9102)\" style=\"fill:#ff0000; stroke:none; fill-opacity:1\" cx=\"730.198\" cy=\"813.152\" r=\"14\"/>\n<circle clip-path=\"url(#clip9102)\" style=\"fill:#000000; stroke:none; fill-opacity:1\" cx=\"1567.41\" cy=\"443.458\" r=\"18\"/>\n<circle clip-path=\"url(#clip9102)\" style=\"fill:#ff0000; stroke:none; fill-opacity:1\" cx=\"1567.41\" cy=\"443.458\" r=\"14\"/>\n<circle clip-path=\"url(#clip9102)\" style=\"fill:#000000; stroke:none; fill-opacity:1\" cx=\"1368.89\" cy=\"1360.53\" r=\"18\"/>\n<circle clip-path=\"url(#clip9102)\" style=\"fill:#ff0000; stroke:none; fill-opacity:1\" cx=\"1368.89\" cy=\"1360.53\" r=\"14\"/>\n<circle clip-path=\"url(#clip9102)\" style=\"fill:#000000; stroke:none; fill-opacity:1\" cx=\"1242.74\" cy=\"1046.65\" r=\"18\"/>\n<circle clip-path=\"url(#clip9102)\" style=\"fill:#ff0000; stroke:none; fill-opacity:1\" cx=\"1242.74\" cy=\"1046.65\" r=\"14\"/>\n<circle clip-path=\"url(#clip9102)\" style=\"fill:#000000; stroke:none; fill-opacity:1\" cx=\"784.053\" cy=\"1051.32\" r=\"18\"/>\n<circle clip-path=\"url(#clip9102)\" style=\"fill:#ff0000; stroke:none; fill-opacity:1\" cx=\"784.053\" cy=\"1051.32\" r=\"14\"/>\n<circle clip-path=\"url(#clip9102)\" style=\"fill:#000000; stroke:none; fill-opacity:1\" cx=\"1449.7\" cy=\"948.698\" r=\"18\"/>\n<circle clip-path=\"url(#clip9102)\" style=\"fill:#ff0000; stroke:none; fill-opacity:1\" cx=\"1449.7\" cy=\"948.698\" r=\"14\"/>\n<circle clip-path=\"url(#clip9102)\" style=\"fill:#000000; stroke:none; fill-opacity:1\" cx=\"342.941\" cy=\"1272.5\" r=\"18\"/>\n<circle clip-path=\"url(#clip9102)\" style=\"fill:#ff0000; stroke:none; fill-opacity:1\" cx=\"342.941\" cy=\"1272.5\" r=\"14\"/>\n<circle clip-path=\"url(#clip9102)\" style=\"fill:#000000; stroke:none; fill-opacity:1\" cx=\"358.476\" cy=\"1028.7\" r=\"18\"/>\n<circle clip-path=\"url(#clip9102)\" style=\"fill:#ff0000; stroke:none; fill-opacity:1\" cx=\"358.476\" cy=\"1028.7\" r=\"14\"/>\n<circle clip-path=\"url(#clip9102)\" style=\"fill:#000000; stroke:none; fill-opacity:1\" cx=\"492.329\" cy=\"1183.13\" r=\"18\"/>\n<circle clip-path=\"url(#clip9102)\" style=\"fill:#ff0000; stroke:none; fill-opacity:1\" cx=\"492.329\" cy=\"1183.13\" r=\"14\"/>\n<circle clip-path=\"url(#clip9102)\" style=\"fill:#000000; stroke:none; fill-opacity:1\" cx=\"1426.41\" cy=\"553.185\" r=\"18\"/>\n<circle clip-path=\"url(#clip9102)\" style=\"fill:#ff0000; stroke:none; fill-opacity:1\" cx=\"1426.41\" cy=\"553.185\" r=\"14\"/>\n<circle clip-path=\"url(#clip9102)\" style=\"fill:#000000; stroke:none; fill-opacity:1\" cx=\"1171.03\" cy=\"1048.69\" r=\"18\"/>\n<circle clip-path=\"url(#clip9102)\" style=\"fill:#ff0000; stroke:none; fill-opacity:1\" cx=\"1171.03\" cy=\"1048.69\" r=\"14\"/>\n<circle clip-path=\"url(#clip9102)\" style=\"fill:#000000; stroke:none; fill-opacity:1\" cx=\"1538.11\" cy=\"715.319\" r=\"18\"/>\n<circle clip-path=\"url(#clip9102)\" style=\"fill:#ff0000; stroke:none; fill-opacity:1\" cx=\"1538.11\" cy=\"715.319\" r=\"14\"/>\n<circle clip-path=\"url(#clip9102)\" style=\"fill:#000000; stroke:none; fill-opacity:1\" cx=\"1436.42\" cy=\"600.324\" r=\"18\"/>\n<circle clip-path=\"url(#clip9102)\" style=\"fill:#ff0000; stroke:none; fill-opacity:1\" cx=\"1436.42\" cy=\"600.324\" r=\"14\"/>\n<circle clip-path=\"url(#clip9102)\" style=\"fill:#000000; stroke:none; fill-opacity:1\" cx=\"1503.26\" cy=\"717.358\" r=\"18\"/>\n<circle clip-path=\"url(#clip9102)\" style=\"fill:#ff0000; stroke:none; fill-opacity:1\" cx=\"1503.26\" cy=\"717.358\" r=\"14\"/>\n<circle clip-path=\"url(#clip9102)\" style=\"fill:#000000; stroke:none; fill-opacity:1\" cx=\"1562.42\" cy=\"1310.5\" r=\"18\"/>\n<circle clip-path=\"url(#clip9102)\" style=\"fill:#ff0000; stroke:none; fill-opacity:1\" cx=\"1562.42\" cy=\"1310.5\" r=\"14\"/>\n<circle clip-path=\"url(#clip9102)\" style=\"fill:#000000; stroke:none; fill-opacity:1\" cx=\"1409.46\" cy=\"1405.09\" r=\"18\"/>\n<circle clip-path=\"url(#clip9102)\" style=\"fill:#ff0000; stroke:none; fill-opacity:1\" cx=\"1409.46\" cy=\"1405.09\" r=\"14\"/>\n<circle clip-path=\"url(#clip9102)\" style=\"fill:#000000; stroke:none; fill-opacity:1\" cx=\"1418.25\" cy=\"1195.02\" r=\"18\"/>\n<circle clip-path=\"url(#clip9102)\" style=\"fill:#ff0000; stroke:none; fill-opacity:1\" cx=\"1418.25\" cy=\"1195.02\" r=\"14\"/>\n<circle clip-path=\"url(#clip9102)\" style=\"fill:#000000; stroke:none; fill-opacity:1\" cx=\"1379.13\" cy=\"838.039\" r=\"18\"/>\n<circle clip-path=\"url(#clip9102)\" style=\"fill:#ff0000; stroke:none; fill-opacity:1\" cx=\"1379.13\" cy=\"838.039\" r=\"14\"/>\n<circle clip-path=\"url(#clip9102)\" style=\"fill:#000000; stroke:none; fill-opacity:1\" cx=\"912.07\" cy=\"1272.94\" r=\"18\"/>\n<circle clip-path=\"url(#clip9102)\" style=\"fill:#ff0000; stroke:none; fill-opacity:1\" cx=\"912.07\" cy=\"1272.94\" r=\"14\"/>\n<circle clip-path=\"url(#clip9102)\" style=\"fill:#000000; stroke:none; fill-opacity:1\" cx=\"949.324\" cy=\"1096.63\" r=\"18\"/>\n<circle clip-path=\"url(#clip9102)\" style=\"fill:#ff0000; stroke:none; fill-opacity:1\" cx=\"949.324\" cy=\"1096.63\" r=\"14\"/>\n<circle clip-path=\"url(#clip9102)\" style=\"fill:#000000; stroke:none; fill-opacity:1\" cx=\"871.741\" cy=\"1179.39\" r=\"18\"/>\n<circle clip-path=\"url(#clip9102)\" style=\"fill:#ff0000; stroke:none; fill-opacity:1\" cx=\"871.741\" cy=\"1179.39\" r=\"14\"/>\n<circle clip-path=\"url(#clip9102)\" style=\"fill:#000000; stroke:none; fill-opacity:1\" cx=\"340.3\" cy=\"1356.08\" r=\"18\"/>\n<circle clip-path=\"url(#clip9102)\" style=\"fill:#ff0000; stroke:none; fill-opacity:1\" cx=\"340.3\" cy=\"1356.08\" r=\"14\"/>\n<circle clip-path=\"url(#clip9102)\" style=\"fill:#000000; stroke:none; fill-opacity:1\" cx=\"830.56\" cy=\"944.502\" r=\"18\"/>\n<circle clip-path=\"url(#clip9102)\" style=\"fill:#ff0000; stroke:none; fill-opacity:1\" cx=\"830.56\" cy=\"944.502\" r=\"14\"/>\n<circle clip-path=\"url(#clip9102)\" style=\"fill:#000000; stroke:none; fill-opacity:1\" cx=\"714.93\" cy=\"1264.27\" r=\"18\"/>\n<circle clip-path=\"url(#clip9102)\" style=\"fill:#ff0000; stroke:none; fill-opacity:1\" cx=\"714.93\" cy=\"1264.27\" r=\"14\"/>\n<circle clip-path=\"url(#clip9102)\" style=\"fill:#000000; stroke:none; fill-opacity:1\" cx=\"960.441\" cy=\"1149.05\" r=\"18\"/>\n<circle clip-path=\"url(#clip9102)\" style=\"fill:#ff0000; stroke:none; fill-opacity:1\" cx=\"960.441\" cy=\"1149.05\" r=\"14\"/>\n<circle clip-path=\"url(#clip9102)\" style=\"fill:#000000; stroke:none; fill-opacity:1\" cx=\"434.067\" cy=\"1052.9\" r=\"18\"/>\n<circle clip-path=\"url(#clip9102)\" style=\"fill:#ff0000; stroke:none; fill-opacity:1\" cx=\"434.067\" cy=\"1052.9\" r=\"14\"/>\n<circle clip-path=\"url(#clip9102)\" style=\"fill:#000000; stroke:none; fill-opacity:1\" cx=\"806.855\" cy=\"1214.89\" r=\"18\"/>\n<circle clip-path=\"url(#clip9102)\" style=\"fill:#ff0000; stroke:none; fill-opacity:1\" cx=\"806.855\" cy=\"1214.89\" r=\"14\"/>\n<circle clip-path=\"url(#clip9102)\" style=\"fill:#000000; stroke:none; fill-opacity:1\" cx=\"1189.88\" cy=\"830.339\" r=\"18\"/>\n<circle clip-path=\"url(#clip9102)\" style=\"fill:#ff0000; stroke:none; fill-opacity:1\" cx=\"1189.88\" cy=\"830.339\" r=\"14\"/>\n<circle clip-path=\"url(#clip9102)\" style=\"fill:#000000; stroke:none; fill-opacity:1\" cx=\"1292.66\" cy=\"794.36\" r=\"18\"/>\n<circle clip-path=\"url(#clip9102)\" style=\"fill:#ff0000; stroke:none; fill-opacity:1\" cx=\"1292.66\" cy=\"794.36\" r=\"14\"/>\n<circle clip-path=\"url(#clip9102)\" style=\"fill:#000000; stroke:none; fill-opacity:1\" cx=\"767.085\" cy=\"756.276\" r=\"18\"/>\n<circle clip-path=\"url(#clip9102)\" style=\"fill:#ff0000; stroke:none; fill-opacity:1\" cx=\"767.085\" cy=\"756.276\" r=\"14\"/>\n<circle clip-path=\"url(#clip9102)\" style=\"fill:#000000; stroke:none; fill-opacity:1\" cx=\"896.859\" cy=\"1139.69\" r=\"18\"/>\n<circle clip-path=\"url(#clip9102)\" style=\"fill:#ff0000; stroke:none; fill-opacity:1\" cx=\"896.859\" cy=\"1139.69\" r=\"14\"/>\n<circle clip-path=\"url(#clip9102)\" style=\"fill:#000000; stroke:none; fill-opacity:1\" cx=\"1542.32\" cy=\"603.731\" r=\"18\"/>\n<circle clip-path=\"url(#clip9102)\" style=\"fill:#ff0000; stroke:none; fill-opacity:1\" cx=\"1542.32\" cy=\"603.731\" r=\"14\"/>\n<circle clip-path=\"url(#clip9102)\" style=\"fill:#000000; stroke:none; fill-opacity:1\" cx=\"746.191\" cy=\"1015.24\" r=\"18\"/>\n<circle clip-path=\"url(#clip9102)\" style=\"fill:#ff0000; stroke:none; fill-opacity:1\" cx=\"746.191\" cy=\"1015.24\" r=\"14\"/>\n<circle clip-path=\"url(#clip9102)\" style=\"fill:#000000; stroke:none; fill-opacity:1\" cx=\"1004.51\" cy=\"1314.37\" r=\"18\"/>\n<circle clip-path=\"url(#clip9102)\" style=\"fill:#ff0000; stroke:none; fill-opacity:1\" cx=\"1004.51\" cy=\"1314.37\" r=\"14\"/>\n<circle clip-path=\"url(#clip9102)\" style=\"fill:#000000; stroke:none; fill-opacity:1\" cx=\"438.947\" cy=\"1400.57\" r=\"18\"/>\n<circle clip-path=\"url(#clip9102)\" style=\"fill:#ff0000; stroke:none; fill-opacity:1\" cx=\"438.947\" cy=\"1400.57\" r=\"14\"/>\n<circle clip-path=\"url(#clip9102)\" style=\"fill:#000000; stroke:none; fill-opacity:1\" cx=\"884.481\" cy=\"1113.12\" r=\"18\"/>\n<circle clip-path=\"url(#clip9102)\" style=\"fill:#ff0000; stroke:none; fill-opacity:1\" cx=\"884.481\" cy=\"1113.12\" r=\"14\"/>\n<circle clip-path=\"url(#clip9102)\" style=\"fill:#000000; stroke:none; fill-opacity:1\" cx=\"351.155\" cy=\"1404.55\" r=\"18\"/>\n<circle clip-path=\"url(#clip9102)\" style=\"fill:#ff0000; stroke:none; fill-opacity:1\" cx=\"351.155\" cy=\"1404.55\" r=\"14\"/>\n<circle clip-path=\"url(#clip9102)\" style=\"fill:#000000; stroke:none; fill-opacity:1\" cx=\"1506.57\" cy=\"1194.36\" r=\"18\"/>\n<circle clip-path=\"url(#clip9102)\" style=\"fill:#ff0000; stroke:none; fill-opacity:1\" cx=\"1506.57\" cy=\"1194.36\" r=\"14\"/>\n<circle clip-path=\"url(#clip9102)\" style=\"fill:#000000; stroke:none; fill-opacity:1\" cx=\"1418.27\" cy=\"682.016\" r=\"18\"/>\n<circle clip-path=\"url(#clip9102)\" style=\"fill:#ff0000; stroke:none; fill-opacity:1\" cx=\"1418.27\" cy=\"682.016\" r=\"14\"/>\n<circle clip-path=\"url(#clip9102)\" style=\"fill:#000000; stroke:none; fill-opacity:1\" cx=\"634.858\" cy=\"1243.2\" r=\"18\"/>\n<circle clip-path=\"url(#clip9102)\" style=\"fill:#ff0000; stroke:none; fill-opacity:1\" cx=\"634.858\" cy=\"1243.2\" r=\"14\"/>\n<circle clip-path=\"url(#clip9102)\" style=\"fill:#000000; stroke:none; fill-opacity:1\" cx=\"569.634\" cy=\"1002.05\" r=\"18\"/>\n<circle clip-path=\"url(#clip9102)\" style=\"fill:#ff0000; stroke:none; fill-opacity:1\" cx=\"569.634\" cy=\"1002.05\" r=\"14\"/>\n<circle clip-path=\"url(#clip9102)\" style=\"fill:#000000; stroke:none; fill-opacity:1\" cx=\"1050.6\" cy=\"1278.12\" r=\"18\"/>\n<circle clip-path=\"url(#clip9102)\" style=\"fill:#ff0000; stroke:none; fill-opacity:1\" cx=\"1050.6\" cy=\"1278.12\" r=\"14\"/>\n<circle clip-path=\"url(#clip9102)\" style=\"fill:#000000; stroke:none; fill-opacity:1\" cx=\"1522.37\" cy=\"1297.25\" r=\"18\"/>\n<circle clip-path=\"url(#clip9102)\" style=\"fill:#ff0000; stroke:none; fill-opacity:1\" cx=\"1522.37\" cy=\"1297.25\" r=\"14\"/>\n<circle clip-path=\"url(#clip9102)\" style=\"fill:#000000; stroke:none; fill-opacity:1\" cx=\"700.704\" cy=\"1333.17\" r=\"18\"/>\n<circle clip-path=\"url(#clip9102)\" style=\"fill:#ff0000; stroke:none; fill-opacity:1\" cx=\"700.704\" cy=\"1333.17\" r=\"14\"/>\n<circle clip-path=\"url(#clip9102)\" style=\"fill:#000000; stroke:none; fill-opacity:1\" cx=\"1495.23\" cy=\"589.97\" r=\"18\"/>\n<circle clip-path=\"url(#clip9102)\" style=\"fill:#ff0000; stroke:none; fill-opacity:1\" cx=\"1495.23\" cy=\"589.97\" r=\"14\"/>\n<circle clip-path=\"url(#clip9102)\" style=\"fill:#000000; stroke:none; fill-opacity:1\" cx=\"1329.97\" cy=\"937.709\" r=\"18\"/>\n<circle clip-path=\"url(#clip9102)\" style=\"fill:#ff0000; stroke:none; fill-opacity:1\" cx=\"1329.97\" cy=\"937.709\" r=\"14\"/>\n<circle clip-path=\"url(#clip9102)\" style=\"fill:#000000; stroke:none; fill-opacity:1\" cx=\"1361.19\" cy=\"1116.29\" r=\"18\"/>\n<circle clip-path=\"url(#clip9102)\" style=\"fill:#ff0000; stroke:none; fill-opacity:1\" cx=\"1361.19\" cy=\"1116.29\" r=\"14\"/>\n<circle clip-path=\"url(#clip9102)\" style=\"fill:#000000; stroke:none; fill-opacity:1\" cx=\"1506.6\" cy=\"497.302\" r=\"18\"/>\n<circle clip-path=\"url(#clip9102)\" style=\"fill:#ff0000; stroke:none; fill-opacity:1\" cx=\"1506.6\" cy=\"497.302\" r=\"14\"/>\n<circle clip-path=\"url(#clip9102)\" style=\"fill:#000000; stroke:none; fill-opacity:1\" cx=\"1564.14\" cy=\"185.984\" r=\"18\"/>\n<circle clip-path=\"url(#clip9102)\" style=\"fill:#ff0000; stroke:none; fill-opacity:1\" cx=\"1564.14\" cy=\"185.984\" r=\"14\"/>\n<circle clip-path=\"url(#clip9102)\" style=\"fill:#000000; stroke:none; fill-opacity:1\" cx=\"813.112\" cy=\"1072.38\" r=\"18\"/>\n<circle clip-path=\"url(#clip9102)\" style=\"fill:#ff0000; stroke:none; fill-opacity:1\" cx=\"813.112\" cy=\"1072.38\" r=\"14\"/>\n<circle clip-path=\"url(#clip9102)\" style=\"fill:#000000; stroke:none; fill-opacity:1\" cx=\"1257.44\" cy=\"827.601\" r=\"18\"/>\n<circle clip-path=\"url(#clip9102)\" style=\"fill:#ff0000; stroke:none; fill-opacity:1\" cx=\"1257.44\" cy=\"827.601\" r=\"14\"/>\n<circle clip-path=\"url(#clip9102)\" style=\"fill:#000000; stroke:none; fill-opacity:1\" cx=\"423.282\" cy=\"1243.24\" r=\"18\"/>\n<circle clip-path=\"url(#clip9102)\" style=\"fill:#ff0000; stroke:none; fill-opacity:1\" cx=\"423.282\" cy=\"1243.24\" r=\"14\"/>\n<circle clip-path=\"url(#clip9102)\" style=\"fill:#000000; stroke:none; fill-opacity:1\" cx=\"367.9\" cy=\"1338.58\" r=\"18\"/>\n<circle clip-path=\"url(#clip9102)\" style=\"fill:#ff0000; stroke:none; fill-opacity:1\" cx=\"367.9\" cy=\"1338.58\" r=\"14\"/>\n<circle clip-path=\"url(#clip9102)\" style=\"fill:#000000; stroke:none; fill-opacity:1\" cx=\"1479.41\" cy=\"422.713\" r=\"18\"/>\n<circle clip-path=\"url(#clip9102)\" style=\"fill:#ff0000; stroke:none; fill-opacity:1\" cx=\"1479.41\" cy=\"422.713\" r=\"14\"/>\n<circle clip-path=\"url(#clip9102)\" style=\"fill:#000000; stroke:none; fill-opacity:1\" cx=\"1568.17\" cy=\"189.458\" r=\"18\"/>\n<circle clip-path=\"url(#clip9102)\" style=\"fill:#ff0000; stroke:none; fill-opacity:1\" cx=\"1568.17\" cy=\"189.458\" r=\"14\"/>\n<circle clip-path=\"url(#clip9102)\" style=\"fill:#000000; stroke:none; fill-opacity:1\" cx=\"1123.61\" cy=\"935.964\" r=\"18\"/>\n<circle clip-path=\"url(#clip9102)\" style=\"fill:#ff0000; stroke:none; fill-opacity:1\" cx=\"1123.61\" cy=\"935.964\" r=\"14\"/>\n<circle clip-path=\"url(#clip9102)\" style=\"fill:#000000; stroke:none; fill-opacity:1\" cx=\"475.365\" cy=\"855.72\" r=\"18\"/>\n<circle clip-path=\"url(#clip9102)\" style=\"fill:#ff0000; stroke:none; fill-opacity:1\" cx=\"475.365\" cy=\"855.72\" r=\"14\"/>\n<circle clip-path=\"url(#clip9102)\" style=\"fill:#000000; stroke:none; fill-opacity:1\" cx=\"1164.2\" cy=\"1407.59\" r=\"18\"/>\n<circle clip-path=\"url(#clip9102)\" style=\"fill:#ff0000; stroke:none; fill-opacity:1\" cx=\"1164.2\" cy=\"1407.59\" r=\"14\"/>\n<circle clip-path=\"url(#clip9102)\" style=\"fill:#000000; stroke:none; fill-opacity:1\" cx=\"752.192\" cy=\"1011.18\" r=\"18\"/>\n<circle clip-path=\"url(#clip9102)\" style=\"fill:#ff0000; stroke:none; fill-opacity:1\" cx=\"752.192\" cy=\"1011.18\" r=\"14\"/>\n<circle clip-path=\"url(#clip9102)\" style=\"fill:#000000; stroke:none; fill-opacity:1\" cx=\"1365\" cy=\"1361.73\" r=\"18\"/>\n<circle clip-path=\"url(#clip9102)\" style=\"fill:#ff0000; stroke:none; fill-opacity:1\" cx=\"1365\" cy=\"1361.73\" r=\"14\"/>\n<circle clip-path=\"url(#clip9102)\" style=\"fill:#000000; stroke:none; fill-opacity:1\" cx=\"441.757\" cy=\"1211.11\" r=\"18\"/>\n<circle clip-path=\"url(#clip9102)\" style=\"fill:#ff0000; stroke:none; fill-opacity:1\" cx=\"441.757\" cy=\"1211.11\" r=\"14\"/>\n<circle clip-path=\"url(#clip9102)\" style=\"fill:#000000; stroke:none; fill-opacity:1\" cx=\"1484.38\" cy=\"500.464\" r=\"18\"/>\n<circle clip-path=\"url(#clip9102)\" style=\"fill:#ff0000; stroke:none; fill-opacity:1\" cx=\"1484.38\" cy=\"500.464\" r=\"14\"/>\n<circle clip-path=\"url(#clip9102)\" style=\"fill:#000000; stroke:none; fill-opacity:1\" cx=\"1039.45\" cy=\"1410.35\" r=\"18\"/>\n<circle clip-path=\"url(#clip9102)\" style=\"fill:#ff0000; stroke:none; fill-opacity:1\" cx=\"1039.45\" cy=\"1410.35\" r=\"14\"/>\n<circle clip-path=\"url(#clip9102)\" style=\"fill:#000000; stroke:none; fill-opacity:1\" cx=\"1570.83\" cy=\"500.524\" r=\"18\"/>\n<circle clip-path=\"url(#clip9102)\" style=\"fill:#ff0000; stroke:none; fill-opacity:1\" cx=\"1570.83\" cy=\"500.524\" r=\"14\"/>\n<circle clip-path=\"url(#clip9102)\" style=\"fill:#000000; stroke:none; fill-opacity:1\" cx=\"402.505\" cy=\"929.975\" r=\"18\"/>\n<circle clip-path=\"url(#clip9102)\" style=\"fill:#ff0000; stroke:none; fill-opacity:1\" cx=\"402.505\" cy=\"929.975\" r=\"14\"/>\n<circle clip-path=\"url(#clip9102)\" style=\"fill:#000000; stroke:none; fill-opacity:1\" cx=\"1092.98\" cy=\"1025.36\" r=\"18\"/>\n<circle clip-path=\"url(#clip9102)\" style=\"fill:#ff0000; stroke:none; fill-opacity:1\" cx=\"1092.98\" cy=\"1025.36\" r=\"14\"/>\n<circle clip-path=\"url(#clip9102)\" style=\"fill:#000000; stroke:none; fill-opacity:1\" cx=\"1375.92\" cy=\"853.542\" r=\"18\"/>\n<circle clip-path=\"url(#clip9102)\" style=\"fill:#ff0000; stroke:none; fill-opacity:1\" cx=\"1375.92\" cy=\"853.542\" r=\"14\"/>\n<circle clip-path=\"url(#clip9102)\" style=\"fill:#000000; stroke:none; fill-opacity:1\" cx=\"1496.17\" cy=\"379.53\" r=\"18\"/>\n<circle clip-path=\"url(#clip9102)\" style=\"fill:#ff0000; stroke:none; fill-opacity:1\" cx=\"1496.17\" cy=\"379.53\" r=\"14\"/>\n<circle clip-path=\"url(#clip9102)\" style=\"fill:#000000; stroke:none; fill-opacity:1\" cx=\"1528.49\" cy=\"1099.15\" r=\"18\"/>\n<circle clip-path=\"url(#clip9102)\" style=\"fill:#ff0000; stroke:none; fill-opacity:1\" cx=\"1528.49\" cy=\"1099.15\" r=\"14\"/>\n<circle clip-path=\"url(#clip9102)\" style=\"fill:#000000; stroke:none; fill-opacity:1\" cx=\"1542.1\" cy=\"1153.4\" r=\"18\"/>\n<circle clip-path=\"url(#clip9102)\" style=\"fill:#ff0000; stroke:none; fill-opacity:1\" cx=\"1542.1\" cy=\"1153.4\" r=\"14\"/>\n<circle clip-path=\"url(#clip9102)\" style=\"fill:#000000; stroke:none; fill-opacity:1\" cx=\"814.402\" cy=\"734.261\" r=\"18\"/>\n<circle clip-path=\"url(#clip9102)\" style=\"fill:#ff0000; stroke:none; fill-opacity:1\" cx=\"814.402\" cy=\"734.261\" r=\"14\"/>\n<circle clip-path=\"url(#clip9102)\" style=\"fill:#000000; stroke:none; fill-opacity:1\" cx=\"1256.76\" cy=\"1434.28\" r=\"18\"/>\n<circle clip-path=\"url(#clip9102)\" style=\"fill:#ff0000; stroke:none; fill-opacity:1\" cx=\"1256.76\" cy=\"1434.28\" r=\"14\"/>\n<circle clip-path=\"url(#clip9102)\" style=\"fill:#000000; stroke:none; fill-opacity:1\" cx=\"761.296\" cy=\"848.277\" r=\"18\"/>\n<circle clip-path=\"url(#clip9102)\" style=\"fill:#ff0000; stroke:none; fill-opacity:1\" cx=\"761.296\" cy=\"848.277\" r=\"14\"/>\n<circle clip-path=\"url(#clip9102)\" style=\"fill:#000000; stroke:none; fill-opacity:1\" cx=\"614.877\" cy=\"774.533\" r=\"18\"/>\n<circle clip-path=\"url(#clip9102)\" style=\"fill:#ff0000; stroke:none; fill-opacity:1\" cx=\"614.877\" cy=\"774.533\" r=\"14\"/>\n<polyline clip-path=\"url(#clip9102)\" style=\"stroke:#3da44d; stroke-width:4; stroke-opacity:1; fill:none\" points=\"\n  209.496,1446.71 232.201,1359.49 254.906,1278.84 277.611,1204.52 300.316,1136.32 323.021,1074.01 345.726,1017.36 368.431,966.146 391.136,920.139 413.841,879.113 \n  436.546,842.843 459.251,811.102 481.956,783.664 504.661,760.302 527.366,740.789 550.071,724.9 572.776,712.407 595.481,703.085 618.186,696.707 640.891,693.046 \n  663.596,691.876 686.301,692.97 709.006,696.103 731.711,701.047 754.416,707.576 777.121,715.464 799.826,724.485 822.531,734.411 845.236,745.016 867.941,756.075 \n  890.646,767.359 913.351,778.644 936.056,789.703 958.761,800.308 981.466,810.234 1004.17,819.255 1026.88,827.143 1049.58,833.672 1072.29,838.616 1094.99,841.749 \n  1117.7,842.843 1140.4,841.673 1163.11,838.012 1185.81,831.634 1208.52,822.312 1231.22,809.819 1253.93,793.93 1276.63,774.417 1299.34,751.055 1322.04,723.617 \n  1344.75,691.876 1367.45,655.606 1390.16,614.58 1412.86,568.573 1435.57,517.357 1458.27,460.707 1480.98,398.395 1503.68,330.195 1526.39,255.881 1549.09,175.227 \n  1571.8,88.0053 \n  \"/>\n<polyline clip-path=\"url(#clip9102)\" style=\"stroke:#c271d2; stroke-width:4; stroke-opacity:1; fill:none\" points=\"\n  209.496,1227.81 232.201,1197.62 254.906,1163.65 277.611,1133.46 300.316,1099.49 323.021,1069.29 345.726,1039.1 368.431,1005.13 391.136,846.617 413.841,827.746 \n  436.546,812.65 459.251,793.779 481.956,778.682 504.661,759.811 527.366,744.714 550.071,729.618 572.776,710.747 595.481,695.65 618.186,680.553 640.891,680.553 \n  663.596,680.553 686.301,680.553 709.006,684.327 731.711,691.876 754.416,699.424 777.121,706.972 799.826,714.521 822.531,718.295 845.236,725.843 867.941,733.392 \n  890.646,740.94 913.351,748.488 936.056,756.037 958.761,759.811 981.466,767.359 1004.17,774.908 1026.88,782.456 1049.58,793.779 1072.29,801.327 1094.99,805.101 \n  1117.7,805.101 1140.4,808.875 1163.11,812.65 1185.81,812.65 1208.52,812.65 1231.22,801.327 1253.93,786.23 1276.63,771.134 1299.34,752.263 1322.04,703.198 \n  1344.75,642.811 1367.45,586.198 1390.16,529.585 1412.86,472.973 1435.57,416.36 1458.27,359.747 1480.98,303.134 1503.68,250.295 1526.39,193.683 1549.09,137.07 \n  1571.8,88.0053 \n  \"/>\n<path clip-path=\"url(#clip9100)\" d=\"\nM1684.67 312.204 L2400.76 312.204 L2400.76 130.764 L1684.67 130.764  Z\n  \" fill=\"#ffffff\" fill-rule=\"evenodd\" fill-opacity=\"1\"/>\n<polyline clip-path=\"url(#clip9100)\" style=\"stroke:#000000; stroke-width:4; stroke-opacity:1; fill:none\" points=\"\n  1684.67,312.204 2400.76,312.204 2400.76,130.764 1684.67,130.764 1684.67,312.204 \n  \"/>\n<polyline clip-path=\"url(#clip9100)\" style=\"stroke:#3da44d; stroke-width:4; stroke-opacity:1; fill:none\" points=\"\n  1708.67,191.244 1852.67,191.244 \n  \"/>\n<g clip-path=\"url(#clip9100)\">\n<text style=\"fill:#000000; fill-opacity:1; font-family:Arial,Helvetica Neue,Helvetica,sans-serif; font-size:48px; text-anchor:start;\" transform=\"rotate(0, 1876.67, 208.744)\" x=\"1876.67\" y=\"208.744\">True Model</text>\n</g>\n<polyline clip-path=\"url(#clip9100)\" style=\"stroke:#c271d2; stroke-width:4; stroke-opacity:1; fill:none\" points=\"\n  1708.67,251.724 1852.67,251.724 \n  \"/>\n<g clip-path=\"url(#clip9100)\">\n<text style=\"fill:#000000; fill-opacity:1; font-family:Arial,Helvetica Neue,Helvetica,sans-serif; font-size:48px; text-anchor:start;\" transform=\"rotate(0, 1876.67, 269.224)\" x=\"1876.67\" y=\"269.224\">Neural Network Model</text>\n</g>\n</svg>\n"
     },
     "execution_count": 7,
     "metadata": {
     },
     "output_type": "execute_result"
    }
   ],
   "source": [
    "gif(anim)\n",
    "plot_model(neural_model, x1grid, x2grid)"
   ]
  },
  {
   "cell_type": "code",
   "execution_count": 0,
   "metadata": {
    "collapsed": false
   },
   "outputs": [
   ],
   "source": [
   ]
  }
 ],
 "metadata": {
  "kernelspec": {
   "display_name": "Julia 1.3.1",
   "env": {
    "JULIA_DEPOT_PATH": "/home/user/.julia/:/ext/julia/depot/",
    "JULIA_PROJECT": "/home/user/.julia/environment/v1.3"
   },
   "language": "julia",
   "metadata": {
    "cocalc": {
     "description": "The Julia Programming Language",
     "priority": 10,
     "url": "https://julialang.org/"
    }
   },
   "name": "julia-1.3"
  },
  "language_info": {
   "file_extension": ".jl",
   "mimetype": "application/julia",
   "name": "julia",
   "version": "1.3.1"
  }
 },
 "nbformat": 4,
 "nbformat_minor": 0
}