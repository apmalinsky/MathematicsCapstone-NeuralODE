{
 "cells": [
  {
   "cell_type": "code",
   "execution_count": 1,
   "metadata": {
    "collapsed": false
   },
   "outputs": [
   ],
   "source": [
    "using Plots, LinearAlgebra\n",
    "import Random"
   ]
  },
  {
   "cell_type": "markdown",
   "metadata": {
    "collapsed": false
   },
   "source": [
    "We define a simple true model to classify data points as either above or below the model. We will train the neural network to learn this classfication."
   ]
  },
  {
   "cell_type": "code",
   "execution_count": 2,
   "metadata": {
    "collapsed": false
   },
   "outputs": [
    {
     "data": {
      "text/plain": [
       "model (generic function with 1 method)"
      ]
     },
     "execution_count": 2,
     "metadata": {
     },
     "output_type": "execute_result"
    }
   ],
   "source": [
    "model(x) = x^3 - 3x + 2"
   ]
  },
  {
   "cell_type": "markdown",
   "metadata": {
    "collapsed": false
   },
   "source": [
    "Next, we define some helpful functions to generate a random data set for the model."
   ]
  },
  {
   "cell_type": "code",
   "execution_count": 3,
   "metadata": {
    "collapsed": false
   },
   "outputs": [
    {
     "data": {
      "text/plain": [
       "generate_dataset (generic function with 1 method)"
      ]
     },
     "execution_count": 3,
     "metadata": {
     },
     "output_type": "execute_result"
    }
   ],
   "source": [
    "# Sample `size` numbers from `range`\n",
    "function sample(range, size)\n",
    "    return rand(size) * (last(range) - first(range)) .+ first(range)\n",
    "end\n",
    "\n",
    "# Generate dataset with `size` from the given `x1range`, `x2range`.\n",
    "function generate_dataset(model, x1range, x2range, size)\n",
    "    # Sample x and y\n",
    "    x1s = sample(x1range, size)\n",
    "    x2s = sample(x2range, size)\n",
    "\n",
    "    # Create the input matrix\n",
    "    input = hcat(x1s, x2s)'\n",
    "\n",
    "    # Classify points to be below or above the model, labeled 0 and 1\n",
    "    output = Float64.(x2s .≥ model.(x1s))'\n",
    "\n",
    "    return Array(input), Array(output)\n",
    "end"
   ]
  },
  {
   "cell_type": "markdown",
   "metadata": {
    "collapsed": false
   },
   "source": [
    "Now we generate a data set between (-3, 3) on the x-axis and (-16, 20) on the y-axis"
   ]
  },
  {
   "cell_type": "code",
   "execution_count": 4,
   "metadata": {
    "collapsed": false
   },
   "outputs": [
    {
     "data": {
      "image/svg+xml": "<?xml version=\"1.0\" encoding=\"utf-8\"?>\n<svg xmlns=\"http://www.w3.org/2000/svg\" xmlns:xlink=\"http://www.w3.org/1999/xlink\" width=\"600\" height=\"400\" viewBox=\"0 0 2400 1600\">\n<defs>\n  <clipPath id=\"clip3200\">\n    <rect x=\"0\" y=\"0\" width=\"2400\" height=\"1600\"/>\n  </clipPath>\n</defs>\n<path clip-path=\"url(#clip3200)\" d=\"\nM0 1600 L2400 1600 L2400 0 L0 0  Z\n  \" fill=\"#ffffff\" fill-rule=\"evenodd\" fill-opacity=\"1\"/>\n<defs>\n  <clipPath id=\"clip3201\">\n    <rect x=\"480\" y=\"0\" width=\"1681\" height=\"1600\"/>\n  </clipPath>\n</defs>\n<path clip-path=\"url(#clip3200)\" d=\"\nM168.627 1487.47 L1845.34 1487.47 L1845.34 47.2441 L168.627 47.2441  Z\n  \" fill=\"#ffffff\" fill-rule=\"evenodd\" fill-opacity=\"1\"/>\n<defs>\n  <clipPath id=\"clip3202\">\n    <rect x=\"168\" y=\"47\" width=\"1678\" height=\"1441\"/>\n  </clipPath>\n</defs>\n<polyline clip-path=\"url(#clip3202)\" style=\"stroke:#000000; stroke-width:2; stroke-opacity:0.1; fill:none\" points=\"\n  216.081,1487.47 216.081,47.2441 \n  \"/>\n<polyline clip-path=\"url(#clip3202)\" style=\"stroke:#000000; stroke-width:2; stroke-opacity:0.1; fill:none\" points=\"\n  479.716,1487.47 479.716,47.2441 \n  \"/>\n<polyline clip-path=\"url(#clip3202)\" style=\"stroke:#000000; stroke-width:2; stroke-opacity:0.1; fill:none\" points=\"\n  743.351,1487.47 743.351,47.2441 \n  \"/>\n<polyline clip-path=\"url(#clip3202)\" style=\"stroke:#000000; stroke-width:2; stroke-opacity:0.1; fill:none\" points=\"\n  1006.99,1487.47 1006.99,47.2441 \n  \"/>\n<polyline clip-path=\"url(#clip3202)\" style=\"stroke:#000000; stroke-width:2; stroke-opacity:0.1; fill:none\" points=\"\n  1270.62,1487.47 1270.62,47.2441 \n  \"/>\n<polyline clip-path=\"url(#clip3202)\" style=\"stroke:#000000; stroke-width:2; stroke-opacity:0.1; fill:none\" points=\"\n  1534.25,1487.47 1534.25,47.2441 \n  \"/>\n<polyline clip-path=\"url(#clip3202)\" style=\"stroke:#000000; stroke-width:2; stroke-opacity:0.1; fill:none\" points=\"\n  1797.89,1487.47 1797.89,47.2441 \n  \"/>\n<polyline clip-path=\"url(#clip3202)\" style=\"stroke:#000000; stroke-width:2; stroke-opacity:0.1; fill:none\" points=\"\n  168.627,1220.26 1845.34,1220.26 \n  \"/>\n<polyline clip-path=\"url(#clip3202)\" style=\"stroke:#000000; stroke-width:2; stroke-opacity:0.1; fill:none\" points=\"\n  168.627,842.843 1845.34,842.843 \n  \"/>\n<polyline clip-path=\"url(#clip3202)\" style=\"stroke:#000000; stroke-width:2; stroke-opacity:0.1; fill:none\" points=\"\n  168.627,465.424 1845.34,465.424 \n  \"/>\n<polyline clip-path=\"url(#clip3202)\" style=\"stroke:#000000; stroke-width:2; stroke-opacity:0.1; fill:none\" points=\"\n  168.627,88.0053 1845.34,88.0053 \n  \"/>\n<polyline clip-path=\"url(#clip3200)\" style=\"stroke:#000000; stroke-width:4; stroke-opacity:1; fill:none\" points=\"\n  168.627,1487.47 1845.34,1487.47 \n  \"/>\n<polyline clip-path=\"url(#clip3200)\" style=\"stroke:#000000; stroke-width:4; stroke-opacity:1; fill:none\" points=\"\n  168.627,1487.47 168.627,47.2441 \n  \"/>\n<polyline clip-path=\"url(#clip3200)\" style=\"stroke:#000000; stroke-width:4; stroke-opacity:1; fill:none\" points=\"\n  216.081,1487.47 216.081,1465.87 \n  \"/>\n<polyline clip-path=\"url(#clip3200)\" style=\"stroke:#000000; stroke-width:4; stroke-opacity:1; fill:none\" points=\"\n  479.716,1487.47 479.716,1465.87 \n  \"/>\n<polyline clip-path=\"url(#clip3200)\" style=\"stroke:#000000; stroke-width:4; stroke-opacity:1; fill:none\" points=\"\n  743.351,1487.47 743.351,1465.87 \n  \"/>\n<polyline clip-path=\"url(#clip3200)\" style=\"stroke:#000000; stroke-width:4; stroke-opacity:1; fill:none\" points=\"\n  1006.99,1487.47 1006.99,1465.87 \n  \"/>\n<polyline clip-path=\"url(#clip3200)\" style=\"stroke:#000000; stroke-width:4; stroke-opacity:1; fill:none\" points=\"\n  1270.62,1487.47 1270.62,1465.87 \n  \"/>\n<polyline clip-path=\"url(#clip3200)\" style=\"stroke:#000000; stroke-width:4; stroke-opacity:1; fill:none\" points=\"\n  1534.25,1487.47 1534.25,1465.87 \n  \"/>\n<polyline clip-path=\"url(#clip3200)\" style=\"stroke:#000000; stroke-width:4; stroke-opacity:1; fill:none\" points=\"\n  1797.89,1487.47 1797.89,1465.87 \n  \"/>\n<polyline clip-path=\"url(#clip3200)\" style=\"stroke:#000000; stroke-width:4; stroke-opacity:1; fill:none\" points=\"\n  168.627,1220.26 193.778,1220.26 \n  \"/>\n<polyline clip-path=\"url(#clip3200)\" style=\"stroke:#000000; stroke-width:4; stroke-opacity:1; fill:none\" points=\"\n  168.627,842.843 193.778,842.843 \n  \"/>\n<polyline clip-path=\"url(#clip3200)\" style=\"stroke:#000000; stroke-width:4; stroke-opacity:1; fill:none\" points=\"\n  168.627,465.424 193.778,465.424 \n  \"/>\n<polyline clip-path=\"url(#clip3200)\" style=\"stroke:#000000; stroke-width:4; stroke-opacity:1; fill:none\" points=\"\n  168.627,88.0053 193.778,88.0053 \n  \"/>\n<g clip-path=\"url(#clip3200)\">\n<text style=\"fill:#000000; fill-opacity:1; font-family:Arial,Helvetica Neue,Helvetica,sans-serif; font-size:48px; text-anchor:middle;\" transform=\"rotate(0, 216.081, 1541.47)\" x=\"216.081\" y=\"1541.47\">-3</text>\n</g>\n<g clip-path=\"url(#clip3200)\">\n<text style=\"fill:#000000; fill-opacity:1; font-family:Arial,Helvetica Neue,Helvetica,sans-serif; font-size:48px; text-anchor:middle;\" transform=\"rotate(0, 479.716, 1541.47)\" x=\"479.716\" y=\"1541.47\">-2</text>\n</g>\n<g clip-path=\"url(#clip3200)\">\n<text style=\"fill:#000000; fill-opacity:1; font-family:Arial,Helvetica Neue,Helvetica,sans-serif; font-size:48px; text-anchor:middle;\" transform=\"rotate(0, 743.351, 1541.47)\" x=\"743.351\" y=\"1541.47\">-1</text>\n</g>\n<g clip-path=\"url(#clip3200)\">\n<text style=\"fill:#000000; fill-opacity:1; font-family:Arial,Helvetica Neue,Helvetica,sans-serif; font-size:48px; text-anchor:middle;\" transform=\"rotate(0, 1006.99, 1541.47)\" x=\"1006.99\" y=\"1541.47\">0</text>\n</g>\n<g clip-path=\"url(#clip3200)\">\n<text style=\"fill:#000000; fill-opacity:1; font-family:Arial,Helvetica Neue,Helvetica,sans-serif; font-size:48px; text-anchor:middle;\" transform=\"rotate(0, 1270.62, 1541.47)\" x=\"1270.62\" y=\"1541.47\">1</text>\n</g>\n<g clip-path=\"url(#clip3200)\">\n<text style=\"fill:#000000; fill-opacity:1; font-family:Arial,Helvetica Neue,Helvetica,sans-serif; font-size:48px; text-anchor:middle;\" transform=\"rotate(0, 1534.25, 1541.47)\" x=\"1534.25\" y=\"1541.47\">2</text>\n</g>\n<g clip-path=\"url(#clip3200)\">\n<text style=\"fill:#000000; fill-opacity:1; font-family:Arial,Helvetica Neue,Helvetica,sans-serif; font-size:48px; text-anchor:middle;\" transform=\"rotate(0, 1797.89, 1541.47)\" x=\"1797.89\" y=\"1541.47\">3</text>\n</g>\n<g clip-path=\"url(#clip3200)\">\n<text style=\"fill:#000000; fill-opacity:1; font-family:Arial,Helvetica Neue,Helvetica,sans-serif; font-size:48px; text-anchor:end;\" transform=\"rotate(0, 144.627, 1237.76)\" x=\"144.627\" y=\"1237.76\">-10</text>\n</g>\n<g clip-path=\"url(#clip3200)\">\n<text style=\"fill:#000000; fill-opacity:1; font-family:Arial,Helvetica Neue,Helvetica,sans-serif; font-size:48px; text-anchor:end;\" transform=\"rotate(0, 144.627, 860.343)\" x=\"144.627\" y=\"860.343\">0</text>\n</g>\n<g clip-path=\"url(#clip3200)\">\n<text style=\"fill:#000000; fill-opacity:1; font-family:Arial,Helvetica Neue,Helvetica,sans-serif; font-size:48px; text-anchor:end;\" transform=\"rotate(0, 144.627, 482.924)\" x=\"144.627\" y=\"482.924\">10</text>\n</g>\n<g clip-path=\"url(#clip3200)\">\n<text style=\"fill:#000000; fill-opacity:1; font-family:Arial,Helvetica Neue,Helvetica,sans-serif; font-size:48px; text-anchor:end;\" transform=\"rotate(0, 144.627, 105.505)\" x=\"144.627\" y=\"105.505\">20</text>\n</g>\n<circle clip-path=\"url(#clip3202)\" style=\"fill:#000000; stroke:none; fill-opacity:1\" cx=\"1252.19\" cy=\"345.056\" r=\"18\"/>\n<circle clip-path=\"url(#clip3202)\" style=\"fill:#0000ff; stroke:none; fill-opacity:1\" cx=\"1252.19\" cy=\"345.056\" r=\"14\"/>\n<circle clip-path=\"url(#clip3202)\" style=\"fill:#000000; stroke:none; fill-opacity:1\" cx=\"717.157\" cy=\"95.8857\" r=\"18\"/>\n<circle clip-path=\"url(#clip3202)\" style=\"fill:#0000ff; stroke:none; fill-opacity:1\" cx=\"717.157\" cy=\"95.8857\" r=\"14\"/>\n<circle clip-path=\"url(#clip3202)\" style=\"fill:#000000; stroke:none; fill-opacity:1\" cx=\"1745.47\" cy=\"134.179\" r=\"18\"/>\n<circle clip-path=\"url(#clip3202)\" style=\"fill:#0000ff; stroke:none; fill-opacity:1\" cx=\"1745.47\" cy=\"134.179\" r=\"14\"/>\n<circle clip-path=\"url(#clip3202)\" style=\"fill:#000000; stroke:none; fill-opacity:1\" cx=\"262.902\" cy=\"428.618\" r=\"18\"/>\n<circle clip-path=\"url(#clip3202)\" style=\"fill:#0000ff; stroke:none; fill-opacity:1\" cx=\"262.902\" cy=\"428.618\" r=\"14\"/>\n<circle clip-path=\"url(#clip3202)\" style=\"fill:#000000; stroke:none; fill-opacity:1\" cx=\"1135.56\" cy=\"571.256\" r=\"18\"/>\n<circle clip-path=\"url(#clip3202)\" style=\"fill:#0000ff; stroke:none; fill-opacity:1\" cx=\"1135.56\" cy=\"571.256\" r=\"14\"/>\n<circle clip-path=\"url(#clip3202)\" style=\"fill:#000000; stroke:none; fill-opacity:1\" cx=\"493.348\" cy=\"395.378\" r=\"18\"/>\n<circle clip-path=\"url(#clip3202)\" style=\"fill:#0000ff; stroke:none; fill-opacity:1\" cx=\"493.348\" cy=\"395.378\" r=\"14\"/>\n<circle clip-path=\"url(#clip3202)\" style=\"fill:#000000; stroke:none; fill-opacity:1\" cx=\"901.576\" cy=\"259.388\" r=\"18\"/>\n<circle clip-path=\"url(#clip3202)\" style=\"fill:#0000ff; stroke:none; fill-opacity:1\" cx=\"901.576\" cy=\"259.388\" r=\"14\"/>\n<circle clip-path=\"url(#clip3202)\" style=\"fill:#000000; stroke:none; fill-opacity:1\" cx=\"1210.08\" cy=\"499.72\" r=\"18\"/>\n<circle clip-path=\"url(#clip3202)\" style=\"fill:#0000ff; stroke:none; fill-opacity:1\" cx=\"1210.08\" cy=\"499.72\" r=\"14\"/>\n<circle clip-path=\"url(#clip3202)\" style=\"fill:#000000; stroke:none; fill-opacity:1\" cx=\"1139.36\" cy=\"502.681\" r=\"18\"/>\n<circle clip-path=\"url(#clip3202)\" style=\"fill:#0000ff; stroke:none; fill-opacity:1\" cx=\"1139.36\" cy=\"502.681\" r=\"14\"/>\n<circle clip-path=\"url(#clip3202)\" style=\"fill:#000000; stroke:none; fill-opacity:1\" cx=\"1035.51\" cy=\"579.438\" r=\"18\"/>\n<circle clip-path=\"url(#clip3202)\" style=\"fill:#0000ff; stroke:none; fill-opacity:1\" cx=\"1035.51\" cy=\"579.438\" r=\"14\"/>\n<circle clip-path=\"url(#clip3202)\" style=\"fill:#000000; stroke:none; fill-opacity:1\" cx=\"361.303\" cy=\"1016.79\" r=\"18\"/>\n<circle clip-path=\"url(#clip3202)\" style=\"fill:#0000ff; stroke:none; fill-opacity:1\" cx=\"361.303\" cy=\"1016.79\" r=\"14\"/>\n<circle clip-path=\"url(#clip3202)\" style=\"fill:#000000; stroke:none; fill-opacity:1\" cx=\"768.027\" cy=\"485.196\" r=\"18\"/>\n<circle clip-path=\"url(#clip3202)\" style=\"fill:#0000ff; stroke:none; fill-opacity:1\" cx=\"768.027\" cy=\"485.196\" r=\"14\"/>\n<circle clip-path=\"url(#clip3202)\" style=\"fill:#000000; stroke:none; fill-opacity:1\" cx=\"1052.88\" cy=\"264.365\" r=\"18\"/>\n<circle clip-path=\"url(#clip3202)\" style=\"fill:#0000ff; stroke:none; fill-opacity:1\" cx=\"1052.88\" cy=\"264.365\" r=\"14\"/>\n<circle clip-path=\"url(#clip3202)\" style=\"fill:#000000; stroke:none; fill-opacity:1\" cx=\"359.317\" cy=\"733.435\" r=\"18\"/>\n<circle clip-path=\"url(#clip3202)\" style=\"fill:#0000ff; stroke:none; fill-opacity:1\" cx=\"359.317\" cy=\"733.435\" r=\"14\"/>\n<circle clip-path=\"url(#clip3202)\" style=\"fill:#000000; stroke:none; fill-opacity:1\" cx=\"1643.71\" cy=\"117.394\" r=\"18\"/>\n<circle clip-path=\"url(#clip3202)\" style=\"fill:#0000ff; stroke:none; fill-opacity:1\" cx=\"1643.71\" cy=\"117.394\" r=\"14\"/>\n<circle clip-path=\"url(#clip3202)\" style=\"fill:#000000; stroke:none; fill-opacity:1\" cx=\"474.592\" cy=\"241.857\" r=\"18\"/>\n<circle clip-path=\"url(#clip3202)\" style=\"fill:#0000ff; stroke:none; fill-opacity:1\" cx=\"474.592\" cy=\"241.857\" r=\"14\"/>\n<circle clip-path=\"url(#clip3202)\" style=\"fill:#000000; stroke:none; fill-opacity:1\" cx=\"564.709\" cy=\"718.054\" r=\"18\"/>\n<circle clip-path=\"url(#clip3202)\" style=\"fill:#0000ff; stroke:none; fill-opacity:1\" cx=\"564.709\" cy=\"718.054\" r=\"14\"/>\n<circle clip-path=\"url(#clip3202)\" style=\"fill:#000000; stroke:none; fill-opacity:1\" cx=\"1767.41\" cy=\"155.339\" r=\"18\"/>\n<circle clip-path=\"url(#clip3202)\" style=\"fill:#0000ff; stroke:none; fill-opacity:1\" cx=\"1767.41\" cy=\"155.339\" r=\"14\"/>\n<circle clip-path=\"url(#clip3202)\" style=\"fill:#000000; stroke:none; fill-opacity:1\" cx=\"1185.61\" cy=\"199.34\" r=\"18\"/>\n<circle clip-path=\"url(#clip3202)\" style=\"fill:#0000ff; stroke:none; fill-opacity:1\" cx=\"1185.61\" cy=\"199.34\" r=\"14\"/>\n<circle clip-path=\"url(#clip3202)\" style=\"fill:#000000; stroke:none; fill-opacity:1\" cx=\"294.053\" cy=\"954.207\" r=\"18\"/>\n<circle clip-path=\"url(#clip3202)\" style=\"fill:#0000ff; stroke:none; fill-opacity:1\" cx=\"294.053\" cy=\"954.207\" r=\"14\"/>\n<circle clip-path=\"url(#clip3202)\" style=\"fill:#000000; stroke:none; fill-opacity:1\" cx=\"1575.31\" cy=\"485.434\" r=\"18\"/>\n<circle clip-path=\"url(#clip3202)\" style=\"fill:#0000ff; stroke:none; fill-opacity:1\" cx=\"1575.31\" cy=\"485.434\" r=\"14\"/>\n<circle clip-path=\"url(#clip3202)\" style=\"fill:#000000; stroke:none; fill-opacity:1\" cx=\"796.027\" cy=\"154.149\" r=\"18\"/>\n<circle clip-path=\"url(#clip3202)\" style=\"fill:#0000ff; stroke:none; fill-opacity:1\" cx=\"796.027\" cy=\"154.149\" r=\"14\"/>\n<circle clip-path=\"url(#clip3202)\" style=\"fill:#000000; stroke:none; fill-opacity:1\" cx=\"732.518\" cy=\"161.682\" r=\"18\"/>\n<circle clip-path=\"url(#clip3202)\" style=\"fill:#0000ff; stroke:none; fill-opacity:1\" cx=\"732.518\" cy=\"161.682\" r=\"14\"/>\n<circle clip-path=\"url(#clip3202)\" style=\"fill:#000000; stroke:none; fill-opacity:1\" cx=\"1533.18\" cy=\"508.613\" r=\"18\"/>\n<circle clip-path=\"url(#clip3202)\" style=\"fill:#0000ff; stroke:none; fill-opacity:1\" cx=\"1533.18\" cy=\"508.613\" r=\"14\"/>\n<circle clip-path=\"url(#clip3202)\" style=\"fill:#000000; stroke:none; fill-opacity:1\" cx=\"365.391\" cy=\"907.28\" r=\"18\"/>\n<circle clip-path=\"url(#clip3202)\" style=\"fill:#0000ff; stroke:none; fill-opacity:1\" cx=\"365.391\" cy=\"907.28\" r=\"14\"/>\n<circle clip-path=\"url(#clip3202)\" style=\"fill:#000000; stroke:none; fill-opacity:1\" cx=\"224.44\" cy=\"673.592\" r=\"18\"/>\n<circle clip-path=\"url(#clip3202)\" style=\"fill:#0000ff; stroke:none; fill-opacity:1\" cx=\"224.44\" cy=\"673.592\" r=\"14\"/>\n<circle clip-path=\"url(#clip3202)\" style=\"fill:#000000; stroke:none; fill-opacity:1\" cx=\"242.418\" cy=\"397.58\" r=\"18\"/>\n<circle clip-path=\"url(#clip3202)\" style=\"fill:#0000ff; stroke:none; fill-opacity:1\" cx=\"242.418\" cy=\"397.58\" r=\"14\"/>\n<circle clip-path=\"url(#clip3202)\" style=\"fill:#000000; stroke:none; fill-opacity:1\" cx=\"1353.57\" cy=\"607.24\" r=\"18\"/>\n<circle clip-path=\"url(#clip3202)\" style=\"fill:#0000ff; stroke:none; fill-opacity:1\" cx=\"1353.57\" cy=\"607.24\" r=\"14\"/>\n<circle clip-path=\"url(#clip3202)\" style=\"fill:#000000; stroke:none; fill-opacity:1\" cx=\"939.6\" cy=\"393.173\" r=\"18\"/>\n<circle clip-path=\"url(#clip3202)\" style=\"fill:#0000ff; stroke:none; fill-opacity:1\" cx=\"939.6\" cy=\"393.173\" r=\"14\"/>\n<circle clip-path=\"url(#clip3202)\" style=\"fill:#000000; stroke:none; fill-opacity:1\" cx=\"1763.58\" cy=\"186.823\" r=\"18\"/>\n<circle clip-path=\"url(#clip3202)\" style=\"fill:#0000ff; stroke:none; fill-opacity:1\" cx=\"1763.58\" cy=\"186.823\" r=\"14\"/>\n<circle clip-path=\"url(#clip3202)\" style=\"fill:#000000; stroke:none; fill-opacity:1\" cx=\"559.359\" cy=\"540.635\" r=\"18\"/>\n<circle clip-path=\"url(#clip3202)\" style=\"fill:#0000ff; stroke:none; fill-opacity:1\" cx=\"559.359\" cy=\"540.635\" r=\"14\"/>\n<circle clip-path=\"url(#clip3202)\" style=\"fill:#000000; stroke:none; fill-opacity:1\" cx=\"483.418\" cy=\"404.534\" r=\"18\"/>\n<circle clip-path=\"url(#clip3202)\" style=\"fill:#0000ff; stroke:none; fill-opacity:1\" cx=\"483.418\" cy=\"404.534\" r=\"14\"/>\n<circle clip-path=\"url(#clip3202)\" style=\"fill:#000000; stroke:none; fill-opacity:1\" cx=\"1434.47\" cy=\"568.218\" r=\"18\"/>\n<circle clip-path=\"url(#clip3202)\" style=\"fill:#0000ff; stroke:none; fill-opacity:1\" cx=\"1434.47\" cy=\"568.218\" r=\"14\"/>\n<circle clip-path=\"url(#clip3202)\" style=\"fill:#000000; stroke:none; fill-opacity:1\" cx=\"1106.1\" cy=\"418.081\" r=\"18\"/>\n<circle clip-path=\"url(#clip3202)\" style=\"fill:#0000ff; stroke:none; fill-opacity:1\" cx=\"1106.1\" cy=\"418.081\" r=\"14\"/>\n<circle clip-path=\"url(#clip3202)\" style=\"fill:#000000; stroke:none; fill-opacity:1\" cx=\"353.571\" cy=\"896.679\" r=\"18\"/>\n<circle clip-path=\"url(#clip3202)\" style=\"fill:#0000ff; stroke:none; fill-opacity:1\" cx=\"353.571\" cy=\"896.679\" r=\"14\"/>\n<circle clip-path=\"url(#clip3202)\" style=\"fill:#000000; stroke:none; fill-opacity:1\" cx=\"655.531\" cy=\"626.027\" r=\"18\"/>\n<circle clip-path=\"url(#clip3202)\" style=\"fill:#0000ff; stroke:none; fill-opacity:1\" cx=\"655.531\" cy=\"626.027\" r=\"14\"/>\n<circle clip-path=\"url(#clip3202)\" style=\"fill:#000000; stroke:none; fill-opacity:1\" cx=\"1418.99\" cy=\"151.819\" r=\"18\"/>\n<circle clip-path=\"url(#clip3202)\" style=\"fill:#0000ff; stroke:none; fill-opacity:1\" cx=\"1418.99\" cy=\"151.819\" r=\"14\"/>\n<circle clip-path=\"url(#clip3202)\" style=\"fill:#000000; stroke:none; fill-opacity:1\" cx=\"703.337\" cy=\"405.046\" r=\"18\"/>\n<circle clip-path=\"url(#clip3202)\" style=\"fill:#0000ff; stroke:none; fill-opacity:1\" cx=\"703.337\" cy=\"405.046\" r=\"14\"/>\n<circle clip-path=\"url(#clip3202)\" style=\"fill:#000000; stroke:none; fill-opacity:1\" cx=\"1276.36\" cy=\"133.637\" r=\"18\"/>\n<circle clip-path=\"url(#clip3202)\" style=\"fill:#0000ff; stroke:none; fill-opacity:1\" cx=\"1276.36\" cy=\"133.637\" r=\"14\"/>\n<circle clip-path=\"url(#clip3202)\" style=\"fill:#000000; stroke:none; fill-opacity:1\" cx=\"456.458\" cy=\"606.219\" r=\"18\"/>\n<circle clip-path=\"url(#clip3202)\" style=\"fill:#0000ff; stroke:none; fill-opacity:1\" cx=\"456.458\" cy=\"606.219\" r=\"14\"/>\n<circle clip-path=\"url(#clip3202)\" style=\"fill:#000000; stroke:none; fill-opacity:1\" cx=\"752.929\" cy=\"495.541\" r=\"18\"/>\n<circle clip-path=\"url(#clip3202)\" style=\"fill:#0000ff; stroke:none; fill-opacity:1\" cx=\"752.929\" cy=\"495.541\" r=\"14\"/>\n<circle clip-path=\"url(#clip3202)\" style=\"fill:#000000; stroke:none; fill-opacity:1\" cx=\"1154.12\" cy=\"541.676\" r=\"18\"/>\n<circle clip-path=\"url(#clip3202)\" style=\"fill:#0000ff; stroke:none; fill-opacity:1\" cx=\"1154.12\" cy=\"541.676\" r=\"14\"/>\n<circle clip-path=\"url(#clip3202)\" style=\"fill:#000000; stroke:none; fill-opacity:1\" cx=\"1054.17\" cy=\"95.3592\" r=\"18\"/>\n<circle clip-path=\"url(#clip3202)\" style=\"fill:#0000ff; stroke:none; fill-opacity:1\" cx=\"1054.17\" cy=\"95.3592\" r=\"14\"/>\n<circle clip-path=\"url(#clip3202)\" style=\"fill:#000000; stroke:none; fill-opacity:1\" cx=\"1220.13\" cy=\"205.013\" r=\"18\"/>\n<circle clip-path=\"url(#clip3202)\" style=\"fill:#0000ff; stroke:none; fill-opacity:1\" cx=\"1220.13\" cy=\"205.013\" r=\"14\"/>\n<circle clip-path=\"url(#clip3202)\" style=\"fill:#000000; stroke:none; fill-opacity:1\" cx=\"379.652\" cy=\"324.946\" r=\"18\"/>\n<circle clip-path=\"url(#clip3202)\" style=\"fill:#0000ff; stroke:none; fill-opacity:1\" cx=\"379.652\" cy=\"324.946\" r=\"14\"/>\n<circle clip-path=\"url(#clip3202)\" style=\"fill:#000000; stroke:none; fill-opacity:1\" cx=\"1544.29\" cy=\"405.44\" r=\"18\"/>\n<circle clip-path=\"url(#clip3202)\" style=\"fill:#0000ff; stroke:none; fill-opacity:1\" cx=\"1544.29\" cy=\"405.44\" r=\"14\"/>\n<circle clip-path=\"url(#clip3202)\" style=\"fill:#000000; stroke:none; fill-opacity:1\" cx=\"406.192\" cy=\"665.003\" r=\"18\"/>\n<circle clip-path=\"url(#clip3202)\" style=\"fill:#0000ff; stroke:none; fill-opacity:1\" cx=\"406.192\" cy=\"665.003\" r=\"14\"/>\n<circle clip-path=\"url(#clip3202)\" style=\"fill:#000000; stroke:none; fill-opacity:1\" cx=\"1290.12\" cy=\"404.022\" r=\"18\"/>\n<circle clip-path=\"url(#clip3202)\" style=\"fill:#0000ff; stroke:none; fill-opacity:1\" cx=\"1290.12\" cy=\"404.022\" r=\"14\"/>\n<circle clip-path=\"url(#clip3202)\" style=\"fill:#000000; stroke:none; fill-opacity:1\" cx=\"766.049\" cy=\"258.276\" r=\"18\"/>\n<circle clip-path=\"url(#clip3202)\" style=\"fill:#0000ff; stroke:none; fill-opacity:1\" cx=\"766.049\" cy=\"258.276\" r=\"14\"/>\n<circle clip-path=\"url(#clip3202)\" style=\"fill:#000000; stroke:none; fill-opacity:1\" cx=\"882.897\" cy=\"134.423\" r=\"18\"/>\n<circle clip-path=\"url(#clip3202)\" style=\"fill:#0000ff; stroke:none; fill-opacity:1\" cx=\"882.897\" cy=\"134.423\" r=\"14\"/>\n<circle clip-path=\"url(#clip3202)\" style=\"fill:#000000; stroke:none; fill-opacity:1\" cx=\"1463.58\" cy=\"345.963\" r=\"18\"/>\n<circle clip-path=\"url(#clip3202)\" style=\"fill:#0000ff; stroke:none; fill-opacity:1\" cx=\"1463.58\" cy=\"345.963\" r=\"14\"/>\n<circle clip-path=\"url(#clip3202)\" style=\"fill:#000000; stroke:none; fill-opacity:1\" cx=\"1386.16\" cy=\"264.63\" r=\"18\"/>\n<circle clip-path=\"url(#clip3202)\" style=\"fill:#0000ff; stroke:none; fill-opacity:1\" cx=\"1386.16\" cy=\"264.63\" r=\"14\"/>\n<circle clip-path=\"url(#clip3202)\" style=\"fill:#000000; stroke:none; fill-opacity:1\" cx=\"1414.3\" cy=\"657.001\" r=\"18\"/>\n<circle clip-path=\"url(#clip3202)\" style=\"fill:#0000ff; stroke:none; fill-opacity:1\" cx=\"1414.3\" cy=\"657.001\" r=\"14\"/>\n<circle clip-path=\"url(#clip3202)\" style=\"fill:#000000; stroke:none; fill-opacity:1\" cx=\"741.279\" cy=\"137.374\" r=\"18\"/>\n<circle clip-path=\"url(#clip3202)\" style=\"fill:#0000ff; stroke:none; fill-opacity:1\" cx=\"741.279\" cy=\"137.374\" r=\"14\"/>\n<circle clip-path=\"url(#clip3202)\" style=\"fill:#000000; stroke:none; fill-opacity:1\" cx=\"1689.29\" cy=\"260.688\" r=\"18\"/>\n<circle clip-path=\"url(#clip3202)\" style=\"fill:#0000ff; stroke:none; fill-opacity:1\" cx=\"1689.29\" cy=\"260.688\" r=\"14\"/>\n<circle clip-path=\"url(#clip3202)\" style=\"fill:#000000; stroke:none; fill-opacity:1\" cx=\"359.747\" cy=\"884.606\" r=\"18\"/>\n<circle clip-path=\"url(#clip3202)\" style=\"fill:#0000ff; stroke:none; fill-opacity:1\" cx=\"359.747\" cy=\"884.606\" r=\"14\"/>\n<circle clip-path=\"url(#clip3202)\" style=\"fill:#000000; stroke:none; fill-opacity:1\" cx=\"864.798\" cy=\"516.175\" r=\"18\"/>\n<circle clip-path=\"url(#clip3202)\" style=\"fill:#0000ff; stroke:none; fill-opacity:1\" cx=\"864.798\" cy=\"516.175\" r=\"14\"/>\n<circle clip-path=\"url(#clip3202)\" style=\"fill:#000000; stroke:none; fill-opacity:1\" cx=\"1354.13\" cy=\"771.267\" r=\"18\"/>\n<circle clip-path=\"url(#clip3202)\" style=\"fill:#0000ff; stroke:none; fill-opacity:1\" cx=\"1354.13\" cy=\"771.267\" r=\"14\"/>\n<circle clip-path=\"url(#clip3202)\" style=\"fill:#000000; stroke:none; fill-opacity:1\" cx=\"322.61\" cy=\"90.9593\" r=\"18\"/>\n<circle clip-path=\"url(#clip3202)\" style=\"fill:#0000ff; stroke:none; fill-opacity:1\" cx=\"322.61\" cy=\"90.9593\" r=\"14\"/>\n<circle clip-path=\"url(#clip3202)\" style=\"fill:#000000; stroke:none; fill-opacity:1\" cx=\"1372.72\" cy=\"660.914\" r=\"18\"/>\n<circle clip-path=\"url(#clip3202)\" style=\"fill:#0000ff; stroke:none; fill-opacity:1\" cx=\"1372.72\" cy=\"660.914\" r=\"14\"/>\n<circle clip-path=\"url(#clip3202)\" style=\"fill:#000000; stroke:none; fill-opacity:1\" cx=\"1563.17\" cy=\"364.696\" r=\"18\"/>\n<circle clip-path=\"url(#clip3202)\" style=\"fill:#0000ff; stroke:none; fill-opacity:1\" cx=\"1563.17\" cy=\"364.696\" r=\"14\"/>\n<circle clip-path=\"url(#clip3202)\" style=\"fill:#000000; stroke:none; fill-opacity:1\" cx=\"1684.7\" cy=\"326.334\" r=\"18\"/>\n<circle clip-path=\"url(#clip3202)\" style=\"fill:#0000ff; stroke:none; fill-opacity:1\" cx=\"1684.7\" cy=\"326.334\" r=\"14\"/>\n<circle clip-path=\"url(#clip3202)\" style=\"fill:#000000; stroke:none; fill-opacity:1\" cx=\"463.126\" cy=\"489.308\" r=\"18\"/>\n<circle clip-path=\"url(#clip3202)\" style=\"fill:#0000ff; stroke:none; fill-opacity:1\" cx=\"463.126\" cy=\"489.308\" r=\"14\"/>\n<circle clip-path=\"url(#clip3202)\" style=\"fill:#000000; stroke:none; fill-opacity:1\" cx=\"365.416\" cy=\"134.987\" r=\"18\"/>\n<circle clip-path=\"url(#clip3202)\" style=\"fill:#0000ff; stroke:none; fill-opacity:1\" cx=\"365.416\" cy=\"134.987\" r=\"14\"/>\n<circle clip-path=\"url(#clip3202)\" style=\"fill:#000000; stroke:none; fill-opacity:1\" cx=\"1138.4\" cy=\"300.1\" r=\"18\"/>\n<circle clip-path=\"url(#clip3202)\" style=\"fill:#0000ff; stroke:none; fill-opacity:1\" cx=\"1138.4\" cy=\"300.1\" r=\"14\"/>\n<circle clip-path=\"url(#clip3202)\" style=\"fill:#000000; stroke:none; fill-opacity:1\" cx=\"551.888\" cy=\"644.297\" r=\"18\"/>\n<circle clip-path=\"url(#clip3202)\" style=\"fill:#0000ff; stroke:none; fill-opacity:1\" cx=\"551.888\" cy=\"644.297\" r=\"14\"/>\n<circle clip-path=\"url(#clip3202)\" style=\"fill:#000000; stroke:none; fill-opacity:1\" cx=\"1081.13\" cy=\"734.476\" r=\"18\"/>\n<circle clip-path=\"url(#clip3202)\" style=\"fill:#0000ff; stroke:none; fill-opacity:1\" cx=\"1081.13\" cy=\"734.476\" r=\"14\"/>\n<circle clip-path=\"url(#clip3202)\" style=\"fill:#000000; stroke:none; fill-opacity:1\" cx=\"237.072\" cy=\"1043.49\" r=\"18\"/>\n<circle clip-path=\"url(#clip3202)\" style=\"fill:#0000ff; stroke:none; fill-opacity:1\" cx=\"237.072\" cy=\"1043.49\" r=\"14\"/>\n<circle clip-path=\"url(#clip3202)\" style=\"fill:#000000; stroke:none; fill-opacity:1\" cx=\"345.635\" cy=\"497.777\" r=\"18\"/>\n<circle clip-path=\"url(#clip3202)\" style=\"fill:#0000ff; stroke:none; fill-opacity:1\" cx=\"345.635\" cy=\"497.777\" r=\"14\"/>\n<circle clip-path=\"url(#clip3202)\" style=\"fill:#000000; stroke:none; fill-opacity:1\" cx=\"460.917\" cy=\"676.474\" r=\"18\"/>\n<circle clip-path=\"url(#clip3202)\" style=\"fill:#0000ff; stroke:none; fill-opacity:1\" cx=\"460.917\" cy=\"676.474\" r=\"14\"/>\n<circle clip-path=\"url(#clip3202)\" style=\"fill:#000000; stroke:none; fill-opacity:1\" cx=\"765.21\" cy=\"278.004\" r=\"18\"/>\n<circle clip-path=\"url(#clip3202)\" style=\"fill:#0000ff; stroke:none; fill-opacity:1\" cx=\"765.21\" cy=\"278.004\" r=\"14\"/>\n<circle clip-path=\"url(#clip3202)\" style=\"fill:#000000; stroke:none; fill-opacity:1\" cx=\"1270.56\" cy=\"164.532\" r=\"18\"/>\n<circle clip-path=\"url(#clip3202)\" style=\"fill:#0000ff; stroke:none; fill-opacity:1\" cx=\"1270.56\" cy=\"164.532\" r=\"14\"/>\n<circle clip-path=\"url(#clip3202)\" style=\"fill:#000000; stroke:none; fill-opacity:1\" cx=\"310.84\" cy=\"581.009\" r=\"18\"/>\n<circle clip-path=\"url(#clip3202)\" style=\"fill:#0000ff; stroke:none; fill-opacity:1\" cx=\"310.84\" cy=\"581.009\" r=\"14\"/>\n<circle clip-path=\"url(#clip3202)\" style=\"fill:#000000; stroke:none; fill-opacity:1\" cx=\"1220.12\" cy=\"666.757\" r=\"18\"/>\n<circle clip-path=\"url(#clip3202)\" style=\"fill:#0000ff; stroke:none; fill-opacity:1\" cx=\"1220.12\" cy=\"666.757\" r=\"14\"/>\n<circle clip-path=\"url(#clip3202)\" style=\"fill:#000000; stroke:none; fill-opacity:1\" cx=\"245.185\" cy=\"539.489\" r=\"18\"/>\n<circle clip-path=\"url(#clip3202)\" style=\"fill:#0000ff; stroke:none; fill-opacity:1\" cx=\"245.185\" cy=\"539.489\" r=\"14\"/>\n<circle clip-path=\"url(#clip3202)\" style=\"fill:#000000; stroke:none; fill-opacity:1\" cx=\"1315.98\" cy=\"455.293\" r=\"18\"/>\n<circle clip-path=\"url(#clip3202)\" style=\"fill:#0000ff; stroke:none; fill-opacity:1\" cx=\"1315.98\" cy=\"455.293\" r=\"14\"/>\n<circle clip-path=\"url(#clip3202)\" style=\"fill:#000000; stroke:none; fill-opacity:1\" cx=\"522.47\" cy=\"676.564\" r=\"18\"/>\n<circle clip-path=\"url(#clip3202)\" style=\"fill:#0000ff; stroke:none; fill-opacity:1\" cx=\"522.47\" cy=\"676.564\" r=\"14\"/>\n<circle clip-path=\"url(#clip3202)\" style=\"fill:#000000; stroke:none; fill-opacity:1\" cx=\"1135.69\" cy=\"357.148\" r=\"18\"/>\n<circle clip-path=\"url(#clip3202)\" style=\"fill:#0000ff; stroke:none; fill-opacity:1\" cx=\"1135.69\" cy=\"357.148\" r=\"14\"/>\n<circle clip-path=\"url(#clip3202)\" style=\"fill:#000000; stroke:none; fill-opacity:1\" cx=\"239.968\" cy=\"1121.24\" r=\"18\"/>\n<circle clip-path=\"url(#clip3202)\" style=\"fill:#0000ff; stroke:none; fill-opacity:1\" cx=\"239.968\" cy=\"1121.24\" r=\"14\"/>\n<circle clip-path=\"url(#clip3202)\" style=\"fill:#000000; stroke:none; fill-opacity:1\" cx=\"221.586\" cy=\"194.765\" r=\"18\"/>\n<circle clip-path=\"url(#clip3202)\" style=\"fill:#0000ff; stroke:none; fill-opacity:1\" cx=\"221.586\" cy=\"194.765\" r=\"14\"/>\n<circle clip-path=\"url(#clip3202)\" style=\"fill:#000000; stroke:none; fill-opacity:1\" cx=\"1053.73\" cy=\"681.473\" r=\"18\"/>\n<circle clip-path=\"url(#clip3202)\" style=\"fill:#0000ff; stroke:none; fill-opacity:1\" cx=\"1053.73\" cy=\"681.473\" r=\"14\"/>\n<circle clip-path=\"url(#clip3202)\" style=\"fill:#000000; stroke:none; fill-opacity:1\" cx=\"1152.16\" cy=\"117.946\" r=\"18\"/>\n<circle clip-path=\"url(#clip3202)\" style=\"fill:#0000ff; stroke:none; fill-opacity:1\" cx=\"1152.16\" cy=\"117.946\" r=\"14\"/>\n<circle clip-path=\"url(#clip3202)\" style=\"fill:#000000; stroke:none; fill-opacity:1\" cx=\"1585.44\" cy=\"574.106\" r=\"18\"/>\n<circle clip-path=\"url(#clip3202)\" style=\"fill:#0000ff; stroke:none; fill-opacity:1\" cx=\"1585.44\" cy=\"574.106\" r=\"14\"/>\n<circle clip-path=\"url(#clip3202)\" style=\"fill:#000000; stroke:none; fill-opacity:1\" cx=\"1587.37\" cy=\"468.901\" r=\"18\"/>\n<circle clip-path=\"url(#clip3202)\" style=\"fill:#0000ff; stroke:none; fill-opacity:1\" cx=\"1587.37\" cy=\"468.901\" r=\"14\"/>\n<circle clip-path=\"url(#clip3202)\" style=\"fill:#000000; stroke:none; fill-opacity:1\" cx=\"270.116\" cy=\"557.945\" r=\"18\"/>\n<circle clip-path=\"url(#clip3202)\" style=\"fill:#0000ff; stroke:none; fill-opacity:1\" cx=\"270.116\" cy=\"557.945\" r=\"14\"/>\n<circle clip-path=\"url(#clip3202)\" style=\"fill:#000000; stroke:none; fill-opacity:1\" cx=\"1463.24\" cy=\"342.274\" r=\"18\"/>\n<circle clip-path=\"url(#clip3202)\" style=\"fill:#0000ff; stroke:none; fill-opacity:1\" cx=\"1463.24\" cy=\"342.274\" r=\"14\"/>\n<circle clip-path=\"url(#clip3202)\" style=\"fill:#000000; stroke:none; fill-opacity:1\" cx=\"680.707\" cy=\"421.325\" r=\"18\"/>\n<circle clip-path=\"url(#clip3202)\" style=\"fill:#0000ff; stroke:none; fill-opacity:1\" cx=\"680.707\" cy=\"421.325\" r=\"14\"/>\n<circle clip-path=\"url(#clip3202)\" style=\"fill:#000000; stroke:none; fill-opacity:1\" cx=\"334.044\" cy=\"421.001\" r=\"18\"/>\n<circle clip-path=\"url(#clip3202)\" style=\"fill:#0000ff; stroke:none; fill-opacity:1\" cx=\"334.044\" cy=\"421.001\" r=\"14\"/>\n<circle clip-path=\"url(#clip3202)\" style=\"fill:#000000; stroke:none; fill-opacity:1\" cx=\"598.087\" cy=\"402.391\" r=\"18\"/>\n<circle clip-path=\"url(#clip3202)\" style=\"fill:#0000ff; stroke:none; fill-opacity:1\" cx=\"598.087\" cy=\"402.391\" r=\"14\"/>\n<circle clip-path=\"url(#clip3202)\" style=\"fill:#000000; stroke:none; fill-opacity:1\" cx=\"1543.73\" cy=\"387.378\" r=\"18\"/>\n<circle clip-path=\"url(#clip3202)\" style=\"fill:#0000ff; stroke:none; fill-opacity:1\" cx=\"1543.73\" cy=\"387.378\" r=\"14\"/>\n<circle clip-path=\"url(#clip3202)\" style=\"fill:#000000; stroke:none; fill-opacity:1\" cx=\"293.27\" cy=\"228.533\" r=\"18\"/>\n<circle clip-path=\"url(#clip3202)\" style=\"fill:#0000ff; stroke:none; fill-opacity:1\" cx=\"293.27\" cy=\"228.533\" r=\"14\"/>\n<circle clip-path=\"url(#clip3202)\" style=\"fill:#000000; stroke:none; fill-opacity:1\" cx=\"1298.2\" cy=\"388.539\" r=\"18\"/>\n<circle clip-path=\"url(#clip3202)\" style=\"fill:#0000ff; stroke:none; fill-opacity:1\" cx=\"1298.2\" cy=\"388.539\" r=\"14\"/>\n<circle clip-path=\"url(#clip3202)\" style=\"fill:#000000; stroke:none; fill-opacity:1\" cx=\"1380.77\" cy=\"558.071\" r=\"18\"/>\n<circle clip-path=\"url(#clip3202)\" style=\"fill:#0000ff; stroke:none; fill-opacity:1\" cx=\"1380.77\" cy=\"558.071\" r=\"14\"/>\n<circle clip-path=\"url(#clip3202)\" style=\"fill:#000000; stroke:none; fill-opacity:1\" cx=\"453.888\" cy=\"687.344\" r=\"18\"/>\n<circle clip-path=\"url(#clip3202)\" style=\"fill:#0000ff; stroke:none; fill-opacity:1\" cx=\"453.888\" cy=\"687.344\" r=\"14\"/>\n<circle clip-path=\"url(#clip3202)\" style=\"fill:#000000; stroke:none; fill-opacity:1\" cx=\"1043.57\" cy=\"709.931\" r=\"18\"/>\n<circle clip-path=\"url(#clip3202)\" style=\"fill:#0000ff; stroke:none; fill-opacity:1\" cx=\"1043.57\" cy=\"709.931\" r=\"14\"/>\n<circle clip-path=\"url(#clip3202)\" style=\"fill:#000000; stroke:none; fill-opacity:1\" cx=\"1193.07\" cy=\"467.731\" r=\"18\"/>\n<circle clip-path=\"url(#clip3202)\" style=\"fill:#0000ff; stroke:none; fill-opacity:1\" cx=\"1193.07\" cy=\"467.731\" r=\"14\"/>\n<circle clip-path=\"url(#clip3202)\" style=\"fill:#000000; stroke:none; fill-opacity:1\" cx=\"529.895\" cy=\"242.343\" r=\"18\"/>\n<circle clip-path=\"url(#clip3202)\" style=\"fill:#0000ff; stroke:none; fill-opacity:1\" cx=\"529.895\" cy=\"242.343\" r=\"14\"/>\n<circle clip-path=\"url(#clip3202)\" style=\"fill:#000000; stroke:none; fill-opacity:1\" cx=\"1475.19\" cy=\"483.172\" r=\"18\"/>\n<circle clip-path=\"url(#clip3202)\" style=\"fill:#0000ff; stroke:none; fill-opacity:1\" cx=\"1475.19\" cy=\"483.172\" r=\"14\"/>\n<circle clip-path=\"url(#clip3202)\" style=\"fill:#000000; stroke:none; fill-opacity:1\" cx=\"765.439\" cy=\"641.638\" r=\"18\"/>\n<circle clip-path=\"url(#clip3202)\" style=\"fill:#0000ff; stroke:none; fill-opacity:1\" cx=\"765.439\" cy=\"641.638\" r=\"14\"/>\n<circle clip-path=\"url(#clip3202)\" style=\"fill:#000000; stroke:none; fill-opacity:1\" cx=\"337.196\" cy=\"538.165\" r=\"18\"/>\n<circle clip-path=\"url(#clip3202)\" style=\"fill:#0000ff; stroke:none; fill-opacity:1\" cx=\"337.196\" cy=\"538.165\" r=\"14\"/>\n<circle clip-path=\"url(#clip3202)\" style=\"fill:#000000; stroke:none; fill-opacity:1\" cx=\"1051.65\" cy=\"510.597\" r=\"18\"/>\n<circle clip-path=\"url(#clip3202)\" style=\"fill:#0000ff; stroke:none; fill-opacity:1\" cx=\"1051.65\" cy=\"510.597\" r=\"14\"/>\n<circle clip-path=\"url(#clip3202)\" style=\"fill:#000000; stroke:none; fill-opacity:1\" cx=\"1291.91\" cy=\"616.592\" r=\"18\"/>\n<circle clip-path=\"url(#clip3202)\" style=\"fill:#0000ff; stroke:none; fill-opacity:1\" cx=\"1291.91\" cy=\"616.592\" r=\"14\"/>\n<circle clip-path=\"url(#clip3202)\" style=\"fill:#000000; stroke:none; fill-opacity:1\" cx=\"1448.47\" cy=\"303.899\" r=\"18\"/>\n<circle clip-path=\"url(#clip3202)\" style=\"fill:#0000ff; stroke:none; fill-opacity:1\" cx=\"1448.47\" cy=\"303.899\" r=\"14\"/>\n<circle clip-path=\"url(#clip3202)\" style=\"fill:#000000; stroke:none; fill-opacity:1\" cx=\"521.022\" cy=\"506.772\" r=\"18\"/>\n<circle clip-path=\"url(#clip3202)\" style=\"fill:#0000ff; stroke:none; fill-opacity:1\" cx=\"521.022\" cy=\"506.772\" r=\"14\"/>\n<circle clip-path=\"url(#clip3202)\" style=\"fill:#000000; stroke:none; fill-opacity:1\" cx=\"450.836\" cy=\"648.309\" r=\"18\"/>\n<circle clip-path=\"url(#clip3202)\" style=\"fill:#0000ff; stroke:none; fill-opacity:1\" cx=\"450.836\" cy=\"648.309\" r=\"14\"/>\n<circle clip-path=\"url(#clip3202)\" style=\"fill:#000000; stroke:none; fill-opacity:1\" cx=\"406.454\" cy=\"193.304\" r=\"18\"/>\n<circle clip-path=\"url(#clip3202)\" style=\"fill:#0000ff; stroke:none; fill-opacity:1\" cx=\"406.454\" cy=\"193.304\" r=\"14\"/>\n<circle clip-path=\"url(#clip3202)\" style=\"fill:#000000; stroke:none; fill-opacity:1\" cx=\"481.358\" cy=\"198.166\" r=\"18\"/>\n<circle clip-path=\"url(#clip3202)\" style=\"fill:#0000ff; stroke:none; fill-opacity:1\" cx=\"481.358\" cy=\"198.166\" r=\"14\"/>\n<circle clip-path=\"url(#clip3202)\" style=\"fill:#000000; stroke:none; fill-opacity:1\" cx=\"1381.8\" cy=\"363.859\" r=\"18\"/>\n<circle clip-path=\"url(#clip3202)\" style=\"fill:#0000ff; stroke:none; fill-opacity:1\" cx=\"1381.8\" cy=\"363.859\" r=\"14\"/>\n<circle clip-path=\"url(#clip3202)\" style=\"fill:#000000; stroke:none; fill-opacity:1\" cx=\"264.96\" cy=\"1080.16\" r=\"18\"/>\n<circle clip-path=\"url(#clip3202)\" style=\"fill:#0000ff; stroke:none; fill-opacity:1\" cx=\"264.96\" cy=\"1080.16\" r=\"14\"/>\n<circle clip-path=\"url(#clip3202)\" style=\"fill:#000000; stroke:none; fill-opacity:1\" cx=\"1601.61\" cy=\"168.519\" r=\"18\"/>\n<circle clip-path=\"url(#clip3202)\" style=\"fill:#0000ff; stroke:none; fill-opacity:1\" cx=\"1601.61\" cy=\"168.519\" r=\"14\"/>\n<circle clip-path=\"url(#clip3202)\" style=\"fill:#000000; stroke:none; fill-opacity:1\" cx=\"809.124\" cy=\"195.157\" r=\"18\"/>\n<circle clip-path=\"url(#clip3202)\" style=\"fill:#0000ff; stroke:none; fill-opacity:1\" cx=\"809.124\" cy=\"195.157\" r=\"14\"/>\n<circle clip-path=\"url(#clip3202)\" style=\"fill:#000000; stroke:none; fill-opacity:1\" cx=\"460.357\" cy=\"288.247\" r=\"18\"/>\n<circle clip-path=\"url(#clip3202)\" style=\"fill:#0000ff; stroke:none; fill-opacity:1\" cx=\"460.357\" cy=\"288.247\" r=\"14\"/>\n<circle clip-path=\"url(#clip3202)\" style=\"fill:#000000; stroke:none; fill-opacity:1\" cx=\"421.16\" cy=\"587.432\" r=\"18\"/>\n<circle clip-path=\"url(#clip3202)\" style=\"fill:#0000ff; stroke:none; fill-opacity:1\" cx=\"421.16\" cy=\"587.432\" r=\"14\"/>\n<circle clip-path=\"url(#clip3202)\" style=\"fill:#000000; stroke:none; fill-opacity:1\" cx=\"313.231\" cy=\"514.432\" r=\"18\"/>\n<circle clip-path=\"url(#clip3202)\" style=\"fill:#0000ff; stroke:none; fill-opacity:1\" cx=\"313.231\" cy=\"514.432\" r=\"14\"/>\n<circle clip-path=\"url(#clip3202)\" style=\"fill:#000000; stroke:none; fill-opacity:1\" cx=\"1128.93\" cy=\"501.222\" r=\"18\"/>\n<circle clip-path=\"url(#clip3202)\" style=\"fill:#0000ff; stroke:none; fill-opacity:1\" cx=\"1128.93\" cy=\"501.222\" r=\"14\"/>\n<circle clip-path=\"url(#clip3202)\" style=\"fill:#000000; stroke:none; fill-opacity:1\" cx=\"286.267\" cy=\"1012.68\" r=\"18\"/>\n<circle clip-path=\"url(#clip3202)\" style=\"fill:#0000ff; stroke:none; fill-opacity:1\" cx=\"286.267\" cy=\"1012.68\" r=\"14\"/>\n<circle clip-path=\"url(#clip3202)\" style=\"fill:#000000; stroke:none; fill-opacity:1\" cx=\"1783.3\" cy=\"115.397\" r=\"18\"/>\n<circle clip-path=\"url(#clip3202)\" style=\"fill:#0000ff; stroke:none; fill-opacity:1\" cx=\"1783.3\" cy=\"115.397\" r=\"14\"/>\n<circle clip-path=\"url(#clip3202)\" style=\"fill:#000000; stroke:none; fill-opacity:1\" cx=\"1387.62\" cy=\"545.152\" r=\"18\"/>\n<circle clip-path=\"url(#clip3202)\" style=\"fill:#0000ff; stroke:none; fill-opacity:1\" cx=\"1387.62\" cy=\"545.152\" r=\"14\"/>\n<circle clip-path=\"url(#clip3202)\" style=\"fill:#000000; stroke:none; fill-opacity:1\" cx=\"342.586\" cy=\"370.919\" r=\"18\"/>\n<circle clip-path=\"url(#clip3202)\" style=\"fill:#0000ff; stroke:none; fill-opacity:1\" cx=\"342.586\" cy=\"370.919\" r=\"14\"/>\n<circle clip-path=\"url(#clip3202)\" style=\"fill:#000000; stroke:none; fill-opacity:1\" cx=\"636.704\" cy=\"473.563\" r=\"18\"/>\n<circle clip-path=\"url(#clip3202)\" style=\"fill:#0000ff; stroke:none; fill-opacity:1\" cx=\"636.704\" cy=\"473.563\" r=\"14\"/>\n<circle clip-path=\"url(#clip3202)\" style=\"fill:#000000; stroke:none; fill-opacity:1\" cx=\"672.151\" cy=\"104.195\" r=\"18\"/>\n<circle clip-path=\"url(#clip3202)\" style=\"fill:#0000ff; stroke:none; fill-opacity:1\" cx=\"672.151\" cy=\"104.195\" r=\"14\"/>\n<circle clip-path=\"url(#clip3202)\" style=\"fill:#000000; stroke:none; fill-opacity:1\" cx=\"1159.77\" cy=\"458.004\" r=\"18\"/>\n<circle clip-path=\"url(#clip3202)\" style=\"fill:#0000ff; stroke:none; fill-opacity:1\" cx=\"1159.77\" cy=\"458.004\" r=\"14\"/>\n<circle clip-path=\"url(#clip3202)\" style=\"fill:#000000; stroke:none; fill-opacity:1\" cx=\"346.22\" cy=\"706.101\" r=\"18\"/>\n<circle clip-path=\"url(#clip3202)\" style=\"fill:#0000ff; stroke:none; fill-opacity:1\" cx=\"346.22\" cy=\"706.101\" r=\"14\"/>\n<circle clip-path=\"url(#clip3202)\" style=\"fill:#000000; stroke:none; fill-opacity:1\" cx=\"1219.81\" cy=\"792.233\" r=\"18\"/>\n<circle clip-path=\"url(#clip3202)\" style=\"fill:#0000ff; stroke:none; fill-opacity:1\" cx=\"1219.81\" cy=\"792.233\" r=\"14\"/>\n<circle clip-path=\"url(#clip3202)\" style=\"fill:#000000; stroke:none; fill-opacity:1\" cx=\"619.009\" cy=\"646.561\" r=\"18\"/>\n<circle clip-path=\"url(#clip3202)\" style=\"fill:#0000ff; stroke:none; fill-opacity:1\" cx=\"619.009\" cy=\"646.561\" r=\"14\"/>\n<circle clip-path=\"url(#clip3202)\" style=\"fill:#000000; stroke:none; fill-opacity:1\" cx=\"375.114\" cy=\"699.277\" r=\"18\"/>\n<circle clip-path=\"url(#clip3202)\" style=\"fill:#0000ff; stroke:none; fill-opacity:1\" cx=\"375.114\" cy=\"699.277\" r=\"14\"/>\n<circle clip-path=\"url(#clip3202)\" style=\"fill:#000000; stroke:none; fill-opacity:1\" cx=\"472.599\" cy=\"808.76\" r=\"18\"/>\n<circle clip-path=\"url(#clip3202)\" style=\"fill:#0000ff; stroke:none; fill-opacity:1\" cx=\"472.599\" cy=\"808.76\" r=\"14\"/>\n<circle clip-path=\"url(#clip3202)\" style=\"fill:#000000; stroke:none; fill-opacity:1\" cx=\"341.909\" cy=\"387.125\" r=\"18\"/>\n<circle clip-path=\"url(#clip3202)\" style=\"fill:#0000ff; stroke:none; fill-opacity:1\" cx=\"341.909\" cy=\"387.125\" r=\"14\"/>\n<circle clip-path=\"url(#clip3202)\" style=\"fill:#000000; stroke:none; fill-opacity:1\" cx=\"1038.99\" cy=\"113.948\" r=\"18\"/>\n<circle clip-path=\"url(#clip3202)\" style=\"fill:#0000ff; stroke:none; fill-opacity:1\" cx=\"1038.99\" cy=\"113.948\" r=\"14\"/>\n<circle clip-path=\"url(#clip3202)\" style=\"fill:#000000; stroke:none; fill-opacity:1\" cx=\"846.14\" cy=\"445.048\" r=\"18\"/>\n<circle clip-path=\"url(#clip3202)\" style=\"fill:#0000ff; stroke:none; fill-opacity:1\" cx=\"846.14\" cy=\"445.048\" r=\"14\"/>\n<circle clip-path=\"url(#clip3202)\" style=\"fill:#000000; stroke:none; fill-opacity:1\" cx=\"1671.84\" cy=\"413.13\" r=\"18\"/>\n<circle clip-path=\"url(#clip3202)\" style=\"fill:#0000ff; stroke:none; fill-opacity:1\" cx=\"1671.84\" cy=\"413.13\" r=\"14\"/>\n<circle clip-path=\"url(#clip3202)\" style=\"fill:#000000; stroke:none; fill-opacity:1\" cx=\"225.245\" cy=\"288.829\" r=\"18\"/>\n<circle clip-path=\"url(#clip3202)\" style=\"fill:#0000ff; stroke:none; fill-opacity:1\" cx=\"225.245\" cy=\"288.829\" r=\"14\"/>\n<circle clip-path=\"url(#clip3202)\" style=\"fill:#000000; stroke:none; fill-opacity:1\" cx=\"690.371\" cy=\"206.376\" r=\"18\"/>\n<circle clip-path=\"url(#clip3202)\" style=\"fill:#0000ff; stroke:none; fill-opacity:1\" cx=\"690.371\" cy=\"206.376\" r=\"14\"/>\n<circle clip-path=\"url(#clip3202)\" style=\"fill:#000000; stroke:none; fill-opacity:1\" cx=\"1357.8\" cy=\"703.846\" r=\"18\"/>\n<circle clip-path=\"url(#clip3202)\" style=\"fill:#0000ff; stroke:none; fill-opacity:1\" cx=\"1357.8\" cy=\"703.846\" r=\"14\"/>\n<circle clip-path=\"url(#clip3202)\" style=\"fill:#000000; stroke:none; fill-opacity:1\" cx=\"640.942\" cy=\"244.224\" r=\"18\"/>\n<circle clip-path=\"url(#clip3202)\" style=\"fill:#0000ff; stroke:none; fill-opacity:1\" cx=\"640.942\" cy=\"244.224\" r=\"14\"/>\n<circle clip-path=\"url(#clip3202)\" style=\"fill:#000000; stroke:none; fill-opacity:1\" cx=\"450.17\" cy=\"546.022\" r=\"18\"/>\n<circle clip-path=\"url(#clip3202)\" style=\"fill:#0000ff; stroke:none; fill-opacity:1\" cx=\"450.17\" cy=\"546.022\" r=\"14\"/>\n<circle clip-path=\"url(#clip3202)\" style=\"fill:#000000; stroke:none; fill-opacity:1\" cx=\"344.135\" cy=\"188.138\" r=\"18\"/>\n<circle clip-path=\"url(#clip3202)\" style=\"fill:#0000ff; stroke:none; fill-opacity:1\" cx=\"344.135\" cy=\"188.138\" r=\"14\"/>\n<circle clip-path=\"url(#clip3202)\" style=\"fill:#000000; stroke:none; fill-opacity:1\" cx=\"936.214\" cy=\"237.889\" r=\"18\"/>\n<circle clip-path=\"url(#clip3202)\" style=\"fill:#0000ff; stroke:none; fill-opacity:1\" cx=\"936.214\" cy=\"237.889\" r=\"14\"/>\n<circle clip-path=\"url(#clip3202)\" style=\"fill:#000000; stroke:none; fill-opacity:1\" cx=\"542.202\" cy=\"117.273\" r=\"18\"/>\n<circle clip-path=\"url(#clip3202)\" style=\"fill:#0000ff; stroke:none; fill-opacity:1\" cx=\"542.202\" cy=\"117.273\" r=\"14\"/>\n<circle clip-path=\"url(#clip3202)\" style=\"fill:#000000; stroke:none; fill-opacity:1\" cx=\"584.546\" cy=\"736.766\" r=\"18\"/>\n<circle clip-path=\"url(#clip3202)\" style=\"fill:#0000ff; stroke:none; fill-opacity:1\" cx=\"584.546\" cy=\"736.766\" r=\"14\"/>\n<circle clip-path=\"url(#clip3202)\" style=\"fill:#000000; stroke:none; fill-opacity:1\" cx=\"617.745\" cy=\"101.216\" r=\"18\"/>\n<circle clip-path=\"url(#clip3202)\" style=\"fill:#0000ff; stroke:none; fill-opacity:1\" cx=\"617.745\" cy=\"101.216\" r=\"14\"/>\n<circle clip-path=\"url(#clip3202)\" style=\"fill:#000000; stroke:none; fill-opacity:1\" cx=\"1597.72\" cy=\"159.674\" r=\"18\"/>\n<circle clip-path=\"url(#clip3202)\" style=\"fill:#0000ff; stroke:none; fill-opacity:1\" cx=\"1597.72\" cy=\"159.674\" r=\"14\"/>\n<circle clip-path=\"url(#clip3202)\" style=\"fill:#000000; stroke:none; fill-opacity:1\" cx=\"1309.95\" cy=\"717.066\" r=\"18\"/>\n<circle clip-path=\"url(#clip3202)\" style=\"fill:#0000ff; stroke:none; fill-opacity:1\" cx=\"1309.95\" cy=\"717.066\" r=\"14\"/>\n<circle clip-path=\"url(#clip3202)\" style=\"fill:#000000; stroke:none; fill-opacity:1\" cx=\"389.582\" cy=\"299.905\" r=\"18\"/>\n<circle clip-path=\"url(#clip3202)\" style=\"fill:#0000ff; stroke:none; fill-opacity:1\" cx=\"389.582\" cy=\"299.905\" r=\"14\"/>\n<circle clip-path=\"url(#clip3202)\" style=\"fill:#000000; stroke:none; fill-opacity:1\" cx=\"1125.86\" cy=\"608.11\" r=\"18\"/>\n<circle clip-path=\"url(#clip3202)\" style=\"fill:#0000ff; stroke:none; fill-opacity:1\" cx=\"1125.86\" cy=\"608.11\" r=\"14\"/>\n<circle clip-path=\"url(#clip3202)\" style=\"fill:#000000; stroke:none; fill-opacity:1\" cx=\"800.802\" cy=\"577.488\" r=\"18\"/>\n<circle clip-path=\"url(#clip3202)\" style=\"fill:#0000ff; stroke:none; fill-opacity:1\" cx=\"800.802\" cy=\"577.488\" r=\"14\"/>\n<circle clip-path=\"url(#clip3202)\" style=\"fill:#000000; stroke:none; fill-opacity:1\" cx=\"1396.27\" cy=\"564.936\" r=\"18\"/>\n<circle clip-path=\"url(#clip3202)\" style=\"fill:#0000ff; stroke:none; fill-opacity:1\" cx=\"1396.27\" cy=\"564.936\" r=\"14\"/>\n<circle clip-path=\"url(#clip3202)\" style=\"fill:#000000; stroke:none; fill-opacity:1\" cx=\"323.931\" cy=\"717.721\" r=\"18\"/>\n<circle clip-path=\"url(#clip3202)\" style=\"fill:#0000ff; stroke:none; fill-opacity:1\" cx=\"323.931\" cy=\"717.721\" r=\"14\"/>\n<circle clip-path=\"url(#clip3202)\" style=\"fill:#000000; stroke:none; fill-opacity:1\" cx=\"1115.41\" cy=\"585.9\" r=\"18\"/>\n<circle clip-path=\"url(#clip3202)\" style=\"fill:#0000ff; stroke:none; fill-opacity:1\" cx=\"1115.41\" cy=\"585.9\" r=\"14\"/>\n<circle clip-path=\"url(#clip3202)\" style=\"fill:#000000; stroke:none; fill-opacity:1\" cx=\"723.593\" cy=\"613.873\" r=\"18\"/>\n<circle clip-path=\"url(#clip3202)\" style=\"fill:#0000ff; stroke:none; fill-opacity:1\" cx=\"723.593\" cy=\"613.873\" r=\"14\"/>\n<circle clip-path=\"url(#clip3202)\" style=\"fill:#000000; stroke:none; fill-opacity:1\" cx=\"665.398\" cy=\"176.886\" r=\"18\"/>\n<circle clip-path=\"url(#clip3202)\" style=\"fill:#0000ff; stroke:none; fill-opacity:1\" cx=\"665.398\" cy=\"176.886\" r=\"14\"/>\n<circle clip-path=\"url(#clip3202)\" style=\"fill:#000000; stroke:none; fill-opacity:1\" cx=\"294.815\" cy=\"335.349\" r=\"18\"/>\n<circle clip-path=\"url(#clip3202)\" style=\"fill:#0000ff; stroke:none; fill-opacity:1\" cx=\"294.815\" cy=\"335.349\" r=\"14\"/>\n<circle clip-path=\"url(#clip3202)\" style=\"fill:#000000; stroke:none; fill-opacity:1\" cx=\"931.981\" cy=\"91.2945\" r=\"18\"/>\n<circle clip-path=\"url(#clip3202)\" style=\"fill:#0000ff; stroke:none; fill-opacity:1\" cx=\"931.981\" cy=\"91.2945\" r=\"14\"/>\n<circle clip-path=\"url(#clip3202)\" style=\"fill:#000000; stroke:none; fill-opacity:1\" cx=\"1379.57\" cy=\"383.577\" r=\"18\"/>\n<circle clip-path=\"url(#clip3202)\" style=\"fill:#0000ff; stroke:none; fill-opacity:1\" cx=\"1379.57\" cy=\"383.577\" r=\"14\"/>\n<circle clip-path=\"url(#clip3202)\" style=\"fill:#000000; stroke:none; fill-opacity:1\" cx=\"1652\" cy=\"1276.73\" r=\"18\"/>\n<circle clip-path=\"url(#clip3202)\" style=\"fill:#ff0000; stroke:none; fill-opacity:1\" cx=\"1652\" cy=\"1276.73\" r=\"14\"/>\n<circle clip-path=\"url(#clip3202)\" style=\"fill:#000000; stroke:none; fill-opacity:1\" cx=\"290.458\" cy=\"1438.9\" r=\"18\"/>\n<circle clip-path=\"url(#clip3202)\" style=\"fill:#ff0000; stroke:none; fill-opacity:1\" cx=\"290.458\" cy=\"1438.9\" r=\"14\"/>\n<circle clip-path=\"url(#clip3202)\" style=\"fill:#000000; stroke:none; fill-opacity:1\" cx=\"1659.52\" cy=\"1072.01\" r=\"18\"/>\n<circle clip-path=\"url(#clip3202)\" style=\"fill:#ff0000; stroke:none; fill-opacity:1\" cx=\"1659.52\" cy=\"1072.01\" r=\"14\"/>\n<circle clip-path=\"url(#clip3202)\" style=\"fill:#000000; stroke:none; fill-opacity:1\" cx=\"1654.24\" cy=\"990.072\" r=\"18\"/>\n<circle clip-path=\"url(#clip3202)\" style=\"fill:#ff0000; stroke:none; fill-opacity:1\" cx=\"1654.24\" cy=\"990.072\" r=\"14\"/>\n<circle clip-path=\"url(#clip3202)\" style=\"fill:#000000; stroke:none; fill-opacity:1\" cx=\"599.742\" cy=\"1351.6\" r=\"18\"/>\n<circle clip-path=\"url(#clip3202)\" style=\"fill:#ff0000; stroke:none; fill-opacity:1\" cx=\"599.742\" cy=\"1351.6\" r=\"14\"/>\n<circle clip-path=\"url(#clip3202)\" style=\"fill:#000000; stroke:none; fill-opacity:1\" cx=\"1473.23\" cy=\"1218.5\" r=\"18\"/>\n<circle clip-path=\"url(#clip3202)\" style=\"fill:#ff0000; stroke:none; fill-opacity:1\" cx=\"1473.23\" cy=\"1218.5\" r=\"14\"/>\n<circle clip-path=\"url(#clip3202)\" style=\"fill:#000000; stroke:none; fill-opacity:1\" cx=\"1544.43\" cy=\"914.64\" r=\"18\"/>\n<circle clip-path=\"url(#clip3202)\" style=\"fill:#ff0000; stroke:none; fill-opacity:1\" cx=\"1544.43\" cy=\"914.64\" r=\"14\"/>\n<circle clip-path=\"url(#clip3202)\" style=\"fill:#000000; stroke:none; fill-opacity:1\" cx=\"1601.93\" cy=\"1081.03\" r=\"18\"/>\n<circle clip-path=\"url(#clip3202)\" style=\"fill:#ff0000; stroke:none; fill-opacity:1\" cx=\"1601.93\" cy=\"1081.03\" r=\"14\"/>\n<circle clip-path=\"url(#clip3202)\" style=\"fill:#000000; stroke:none; fill-opacity:1\" cx=\"759.169\" cy=\"1267\" r=\"18\"/>\n<circle clip-path=\"url(#clip3202)\" style=\"fill:#ff0000; stroke:none; fill-opacity:1\" cx=\"759.169\" cy=\"1267\" r=\"14\"/>\n<circle clip-path=\"url(#clip3202)\" style=\"fill:#000000; stroke:none; fill-opacity:1\" cx=\"1177.89\" cy=\"1018.72\" r=\"18\"/>\n<circle clip-path=\"url(#clip3202)\" style=\"fill:#ff0000; stroke:none; fill-opacity:1\" cx=\"1177.89\" cy=\"1018.72\" r=\"14\"/>\n<circle clip-path=\"url(#clip3202)\" style=\"fill:#000000; stroke:none; fill-opacity:1\" cx=\"1464.65\" cy=\"1241.59\" r=\"18\"/>\n<circle clip-path=\"url(#clip3202)\" style=\"fill:#ff0000; stroke:none; fill-opacity:1\" cx=\"1464.65\" cy=\"1241.59\" r=\"14\"/>\n<circle clip-path=\"url(#clip3202)\" style=\"fill:#000000; stroke:none; fill-opacity:1\" cx=\"641.076\" cy=\"1108.08\" r=\"18\"/>\n<circle clip-path=\"url(#clip3202)\" style=\"fill:#ff0000; stroke:none; fill-opacity:1\" cx=\"641.076\" cy=\"1108.08\" r=\"14\"/>\n<circle clip-path=\"url(#clip3202)\" style=\"fill:#000000; stroke:none; fill-opacity:1\" cx=\"490.238\" cy=\"876.371\" r=\"18\"/>\n<circle clip-path=\"url(#clip3202)\" style=\"fill:#ff0000; stroke:none; fill-opacity:1\" cx=\"490.238\" cy=\"876.371\" r=\"14\"/>\n<circle clip-path=\"url(#clip3202)\" style=\"fill:#000000; stroke:none; fill-opacity:1\" cx=\"781.562\" cy=\"1225.95\" r=\"18\"/>\n<circle clip-path=\"url(#clip3202)\" style=\"fill:#ff0000; stroke:none; fill-opacity:1\" cx=\"781.562\" cy=\"1225.95\" r=\"14\"/>\n<circle clip-path=\"url(#clip3202)\" style=\"fill:#000000; stroke:none; fill-opacity:1\" cx=\"709.798\" cy=\"1296.24\" r=\"18\"/>\n<circle clip-path=\"url(#clip3202)\" style=\"fill:#ff0000; stroke:none; fill-opacity:1\" cx=\"709.798\" cy=\"1296.24\" r=\"14\"/>\n<circle clip-path=\"url(#clip3202)\" style=\"fill:#000000; stroke:none; fill-opacity:1\" cx=\"1068.03\" cy=\"1405.46\" r=\"18\"/>\n<circle clip-path=\"url(#clip3202)\" style=\"fill:#ff0000; stroke:none; fill-opacity:1\" cx=\"1068.03\" cy=\"1405.46\" r=\"14\"/>\n<circle clip-path=\"url(#clip3202)\" style=\"fill:#000000; stroke:none; fill-opacity:1\" cx=\"1659.62\" cy=\"1200.6\" r=\"18\"/>\n<circle clip-path=\"url(#clip3202)\" style=\"fill:#ff0000; stroke:none; fill-opacity:1\" cx=\"1659.62\" cy=\"1200.6\" r=\"14\"/>\n<circle clip-path=\"url(#clip3202)\" style=\"fill:#000000; stroke:none; fill-opacity:1\" cx=\"1470.81\" cy=\"1446.46\" r=\"18\"/>\n<circle clip-path=\"url(#clip3202)\" style=\"fill:#ff0000; stroke:none; fill-opacity:1\" cx=\"1470.81\" cy=\"1446.46\" r=\"14\"/>\n<circle clip-path=\"url(#clip3202)\" style=\"fill:#000000; stroke:none; fill-opacity:1\" cx=\"516.086\" cy=\"908.339\" r=\"18\"/>\n<circle clip-path=\"url(#clip3202)\" style=\"fill:#ff0000; stroke:none; fill-opacity:1\" cx=\"516.086\" cy=\"908.339\" r=\"14\"/>\n<circle clip-path=\"url(#clip3202)\" style=\"fill:#000000; stroke:none; fill-opacity:1\" cx=\"1772.03\" cy=\"1147.98\" r=\"18\"/>\n<circle clip-path=\"url(#clip3202)\" style=\"fill:#ff0000; stroke:none; fill-opacity:1\" cx=\"1772.03\" cy=\"1147.98\" r=\"14\"/>\n<circle clip-path=\"url(#clip3202)\" style=\"fill:#000000; stroke:none; fill-opacity:1\" cx=\"1502.72\" cy=\"1378.39\" r=\"18\"/>\n<circle clip-path=\"url(#clip3202)\" style=\"fill:#ff0000; stroke:none; fill-opacity:1\" cx=\"1502.72\" cy=\"1378.39\" r=\"14\"/>\n<circle clip-path=\"url(#clip3202)\" style=\"fill:#000000; stroke:none; fill-opacity:1\" cx=\"725.41\" cy=\"1022.19\" r=\"18\"/>\n<circle clip-path=\"url(#clip3202)\" style=\"fill:#ff0000; stroke:none; fill-opacity:1\" cx=\"725.41\" cy=\"1022.19\" r=\"14\"/>\n<circle clip-path=\"url(#clip3202)\" style=\"fill:#000000; stroke:none; fill-opacity:1\" cx=\"1279.53\" cy=\"1124.12\" r=\"18\"/>\n<circle clip-path=\"url(#clip3202)\" style=\"fill:#ff0000; stroke:none; fill-opacity:1\" cx=\"1279.53\" cy=\"1124.12\" r=\"14\"/>\n<circle clip-path=\"url(#clip3202)\" style=\"fill:#000000; stroke:none; fill-opacity:1\" cx=\"1385.68\" cy=\"865.118\" r=\"18\"/>\n<circle clip-path=\"url(#clip3202)\" style=\"fill:#ff0000; stroke:none; fill-opacity:1\" cx=\"1385.68\" cy=\"865.118\" r=\"14\"/>\n<circle clip-path=\"url(#clip3202)\" style=\"fill:#000000; stroke:none; fill-opacity:1\" cx=\"1754.85\" cy=\"569.735\" r=\"18\"/>\n<circle clip-path=\"url(#clip3202)\" style=\"fill:#ff0000; stroke:none; fill-opacity:1\" cx=\"1754.85\" cy=\"569.735\" r=\"14\"/>\n<circle clip-path=\"url(#clip3202)\" style=\"fill:#000000; stroke:none; fill-opacity:1\" cx=\"1323.48\" cy=\"1269.16\" r=\"18\"/>\n<circle clip-path=\"url(#clip3202)\" style=\"fill:#ff0000; stroke:none; fill-opacity:1\" cx=\"1323.48\" cy=\"1269.16\" r=\"14\"/>\n<circle clip-path=\"url(#clip3202)\" style=\"fill:#000000; stroke:none; fill-opacity:1\" cx=\"1209.53\" cy=\"1219.46\" r=\"18\"/>\n<circle clip-path=\"url(#clip3202)\" style=\"fill:#ff0000; stroke:none; fill-opacity:1\" cx=\"1209.53\" cy=\"1219.46\" r=\"14\"/>\n<circle clip-path=\"url(#clip3202)\" style=\"fill:#000000; stroke:none; fill-opacity:1\" cx=\"849.637\" cy=\"1253.57\" r=\"18\"/>\n<circle clip-path=\"url(#clip3202)\" style=\"fill:#ff0000; stroke:none; fill-opacity:1\" cx=\"849.637\" cy=\"1253.57\" r=\"14\"/>\n<circle clip-path=\"url(#clip3202)\" style=\"fill:#000000; stroke:none; fill-opacity:1\" cx=\"1565.47\" cy=\"1116.83\" r=\"18\"/>\n<circle clip-path=\"url(#clip3202)\" style=\"fill:#ff0000; stroke:none; fill-opacity:1\" cx=\"1565.47\" cy=\"1116.83\" r=\"14\"/>\n<circle clip-path=\"url(#clip3202)\" style=\"fill:#000000; stroke:none; fill-opacity:1\" cx=\"1204.52\" cy=\"1369.79\" r=\"18\"/>\n<circle clip-path=\"url(#clip3202)\" style=\"fill:#ff0000; stroke:none; fill-opacity:1\" cx=\"1204.52\" cy=\"1369.79\" r=\"14\"/>\n<circle clip-path=\"url(#clip3202)\" style=\"fill:#000000; stroke:none; fill-opacity:1\" cx=\"857.849\" cy=\"1231.19\" r=\"18\"/>\n<circle clip-path=\"url(#clip3202)\" style=\"fill:#ff0000; stroke:none; fill-opacity:1\" cx=\"857.849\" cy=\"1231.19\" r=\"14\"/>\n<circle clip-path=\"url(#clip3202)\" style=\"fill:#000000; stroke:none; fill-opacity:1\" cx=\"952.111\" cy=\"872.73\" r=\"18\"/>\n<circle clip-path=\"url(#clip3202)\" style=\"fill:#ff0000; stroke:none; fill-opacity:1\" cx=\"952.111\" cy=\"872.73\" r=\"14\"/>\n<circle clip-path=\"url(#clip3202)\" style=\"fill:#000000; stroke:none; fill-opacity:1\" cx=\"1649.3\" cy=\"1002.16\" r=\"18\"/>\n<circle clip-path=\"url(#clip3202)\" style=\"fill:#ff0000; stroke:none; fill-opacity:1\" cx=\"1649.3\" cy=\"1002.16\" r=\"14\"/>\n<circle clip-path=\"url(#clip3202)\" style=\"fill:#000000; stroke:none; fill-opacity:1\" cx=\"1363.44\" cy=\"1178.67\" r=\"18\"/>\n<circle clip-path=\"url(#clip3202)\" style=\"fill:#ff0000; stroke:none; fill-opacity:1\" cx=\"1363.44\" cy=\"1178.67\" r=\"14\"/>\n<circle clip-path=\"url(#clip3202)\" style=\"fill:#000000; stroke:none; fill-opacity:1\" cx=\"628.519\" cy=\"771.831\" r=\"18\"/>\n<circle clip-path=\"url(#clip3202)\" style=\"fill:#ff0000; stroke:none; fill-opacity:1\" cx=\"628.519\" cy=\"771.831\" r=\"14\"/>\n<circle clip-path=\"url(#clip3202)\" style=\"fill:#000000; stroke:none; fill-opacity:1\" cx=\"573.325\" cy=\"1147.83\" r=\"18\"/>\n<circle clip-path=\"url(#clip3202)\" style=\"fill:#ff0000; stroke:none; fill-opacity:1\" cx=\"573.325\" cy=\"1147.83\" r=\"14\"/>\n<circle clip-path=\"url(#clip3202)\" style=\"fill:#000000; stroke:none; fill-opacity:1\" cx=\"905.04\" cy=\"813.757\" r=\"18\"/>\n<circle clip-path=\"url(#clip3202)\" style=\"fill:#ff0000; stroke:none; fill-opacity:1\" cx=\"905.04\" cy=\"813.757\" r=\"14\"/>\n<circle clip-path=\"url(#clip3202)\" style=\"fill:#000000; stroke:none; fill-opacity:1\" cx=\"557.629\" cy=\"1318.12\" r=\"18\"/>\n<circle clip-path=\"url(#clip3202)\" style=\"fill:#ff0000; stroke:none; fill-opacity:1\" cx=\"557.629\" cy=\"1318.12\" r=\"14\"/>\n<circle clip-path=\"url(#clip3202)\" style=\"fill:#000000; stroke:none; fill-opacity:1\" cx=\"645.345\" cy=\"791.679\" r=\"18\"/>\n<circle clip-path=\"url(#clip3202)\" style=\"fill:#ff0000; stroke:none; fill-opacity:1\" cx=\"645.345\" cy=\"791.679\" r=\"14\"/>\n<circle clip-path=\"url(#clip3202)\" style=\"fill:#000000; stroke:none; fill-opacity:1\" cx=\"884.675\" cy=\"1404.34\" r=\"18\"/>\n<circle clip-path=\"url(#clip3202)\" style=\"fill:#ff0000; stroke:none; fill-opacity:1\" cx=\"884.675\" cy=\"1404.34\" r=\"14\"/>\n<circle clip-path=\"url(#clip3202)\" style=\"fill:#000000; stroke:none; fill-opacity:1\" cx=\"832.263\" cy=\"747.88\" r=\"18\"/>\n<circle clip-path=\"url(#clip3202)\" style=\"fill:#ff0000; stroke:none; fill-opacity:1\" cx=\"832.263\" cy=\"747.88\" r=\"14\"/>\n<circle clip-path=\"url(#clip3202)\" style=\"fill:#000000; stroke:none; fill-opacity:1\" cx=\"628.324\" cy=\"904.491\" r=\"18\"/>\n<circle clip-path=\"url(#clip3202)\" style=\"fill:#ff0000; stroke:none; fill-opacity:1\" cx=\"628.324\" cy=\"904.491\" r=\"14\"/>\n<circle clip-path=\"url(#clip3202)\" style=\"fill:#000000; stroke:none; fill-opacity:1\" cx=\"645.428\" cy=\"732.198\" r=\"18\"/>\n<circle clip-path=\"url(#clip3202)\" style=\"fill:#ff0000; stroke:none; fill-opacity:1\" cx=\"645.428\" cy=\"732.198\" r=\"14\"/>\n<circle clip-path=\"url(#clip3202)\" style=\"fill:#000000; stroke:none; fill-opacity:1\" cx=\"893.085\" cy=\"1217.66\" r=\"18\"/>\n<circle clip-path=\"url(#clip3202)\" style=\"fill:#ff0000; stroke:none; fill-opacity:1\" cx=\"893.085\" cy=\"1217.66\" r=\"14\"/>\n<circle clip-path=\"url(#clip3202)\" style=\"fill:#000000; stroke:none; fill-opacity:1\" cx=\"899.267\" cy=\"1279.89\" r=\"18\"/>\n<circle clip-path=\"url(#clip3202)\" style=\"fill:#ff0000; stroke:none; fill-opacity:1\" cx=\"899.267\" cy=\"1279.89\" r=\"14\"/>\n<circle clip-path=\"url(#clip3202)\" style=\"fill:#000000; stroke:none; fill-opacity:1\" cx=\"1381.92\" cy=\"1167.08\" r=\"18\"/>\n<circle clip-path=\"url(#clip3202)\" style=\"fill:#ff0000; stroke:none; fill-opacity:1\" cx=\"1381.92\" cy=\"1167.08\" r=\"14\"/>\n<circle clip-path=\"url(#clip3202)\" style=\"fill:#000000; stroke:none; fill-opacity:1\" cx=\"628.22\" cy=\"1250.04\" r=\"18\"/>\n<circle clip-path=\"url(#clip3202)\" style=\"fill:#ff0000; stroke:none; fill-opacity:1\" cx=\"628.22\" cy=\"1250.04\" r=\"14\"/>\n<circle clip-path=\"url(#clip3202)\" style=\"fill:#000000; stroke:none; fill-opacity:1\" cx=\"1783.56\" cy=\"571.211\" r=\"18\"/>\n<circle clip-path=\"url(#clip3202)\" style=\"fill:#ff0000; stroke:none; fill-opacity:1\" cx=\"1783.56\" cy=\"571.211\" r=\"14\"/>\n<circle clip-path=\"url(#clip3202)\" style=\"fill:#000000; stroke:none; fill-opacity:1\" cx=\"1621.11\" cy=\"1155.73\" r=\"18\"/>\n<circle clip-path=\"url(#clip3202)\" style=\"fill:#ff0000; stroke:none; fill-opacity:1\" cx=\"1621.11\" cy=\"1155.73\" r=\"14\"/>\n<circle clip-path=\"url(#clip3202)\" style=\"fill:#000000; stroke:none; fill-opacity:1\" cx=\"716.881\" cy=\"1178.87\" r=\"18\"/>\n<circle clip-path=\"url(#clip3202)\" style=\"fill:#ff0000; stroke:none; fill-opacity:1\" cx=\"716.881\" cy=\"1178.87\" r=\"14\"/>\n<circle clip-path=\"url(#clip3202)\" style=\"fill:#000000; stroke:none; fill-opacity:1\" cx=\"490.786\" cy=\"1361.07\" r=\"18\"/>\n<circle clip-path=\"url(#clip3202)\" style=\"fill:#ff0000; stroke:none; fill-opacity:1\" cx=\"490.786\" cy=\"1361.07\" r=\"14\"/>\n<circle clip-path=\"url(#clip3202)\" style=\"fill:#000000; stroke:none; fill-opacity:1\" cx=\"794.153\" cy=\"989.643\" r=\"18\"/>\n<circle clip-path=\"url(#clip3202)\" style=\"fill:#ff0000; stroke:none; fill-opacity:1\" cx=\"794.153\" cy=\"989.643\" r=\"14\"/>\n<circle clip-path=\"url(#clip3202)\" style=\"fill:#000000; stroke:none; fill-opacity:1\" cx=\"483.185\" cy=\"954.002\" r=\"18\"/>\n<circle clip-path=\"url(#clip3202)\" style=\"fill:#ff0000; stroke:none; fill-opacity:1\" cx=\"483.185\" cy=\"954.002\" r=\"14\"/>\n<circle clip-path=\"url(#clip3202)\" style=\"fill:#000000; stroke:none; fill-opacity:1\" cx=\"1619.25\" cy=\"1288.06\" r=\"18\"/>\n<circle clip-path=\"url(#clip3202)\" style=\"fill:#ff0000; stroke:none; fill-opacity:1\" cx=\"1619.25\" cy=\"1288.06\" r=\"14\"/>\n<circle clip-path=\"url(#clip3202)\" style=\"fill:#000000; stroke:none; fill-opacity:1\" cx=\"1070.28\" cy=\"1242.92\" r=\"18\"/>\n<circle clip-path=\"url(#clip3202)\" style=\"fill:#ff0000; stroke:none; fill-opacity:1\" cx=\"1070.28\" cy=\"1242.92\" r=\"14\"/>\n<circle clip-path=\"url(#clip3202)\" style=\"fill:#000000; stroke:none; fill-opacity:1\" cx=\"928.179\" cy=\"1259.84\" r=\"18\"/>\n<circle clip-path=\"url(#clip3202)\" style=\"fill:#ff0000; stroke:none; fill-opacity:1\" cx=\"928.179\" cy=\"1259.84\" r=\"14\"/>\n<circle clip-path=\"url(#clip3202)\" style=\"fill:#000000; stroke:none; fill-opacity:1\" cx=\"934.993\" cy=\"1016.07\" r=\"18\"/>\n<circle clip-path=\"url(#clip3202)\" style=\"fill:#ff0000; stroke:none; fill-opacity:1\" cx=\"934.993\" cy=\"1016.07\" r=\"14\"/>\n<circle clip-path=\"url(#clip3202)\" style=\"fill:#000000; stroke:none; fill-opacity:1\" cx=\"1488.3\" cy=\"763.881\" r=\"18\"/>\n<circle clip-path=\"url(#clip3202)\" style=\"fill:#ff0000; stroke:none; fill-opacity:1\" cx=\"1488.3\" cy=\"763.881\" r=\"14\"/>\n<circle clip-path=\"url(#clip3202)\" style=\"fill:#000000; stroke:none; fill-opacity:1\" cx=\"1574.48\" cy=\"717.583\" r=\"18\"/>\n<circle clip-path=\"url(#clip3202)\" style=\"fill:#ff0000; stroke:none; fill-opacity:1\" cx=\"1574.48\" cy=\"717.583\" r=\"14\"/>\n<circle clip-path=\"url(#clip3202)\" style=\"fill:#000000; stroke:none; fill-opacity:1\" cx=\"1325.18\" cy=\"1215.1\" r=\"18\"/>\n<circle clip-path=\"url(#clip3202)\" style=\"fill:#ff0000; stroke:none; fill-opacity:1\" cx=\"1325.18\" cy=\"1215.1\" r=\"14\"/>\n<circle clip-path=\"url(#clip3202)\" style=\"fill:#000000; stroke:none; fill-opacity:1\" cx=\"1705.52\" cy=\"968.519\" r=\"18\"/>\n<circle clip-path=\"url(#clip3202)\" style=\"fill:#ff0000; stroke:none; fill-opacity:1\" cx=\"1705.52\" cy=\"968.519\" r=\"14\"/>\n<circle clip-path=\"url(#clip3202)\" style=\"fill:#000000; stroke:none; fill-opacity:1\" cx=\"1690.39\" cy=\"776.328\" r=\"18\"/>\n<circle clip-path=\"url(#clip3202)\" style=\"fill:#ff0000; stroke:none; fill-opacity:1\" cx=\"1690.39\" cy=\"776.328\" r=\"14\"/>\n<circle clip-path=\"url(#clip3202)\" style=\"fill:#000000; stroke:none; fill-opacity:1\" cx=\"433.957\" cy=\"1226.5\" r=\"18\"/>\n<circle clip-path=\"url(#clip3202)\" style=\"fill:#ff0000; stroke:none; fill-opacity:1\" cx=\"433.957\" cy=\"1226.5\" r=\"14\"/>\n<circle clip-path=\"url(#clip3202)\" style=\"fill:#000000; stroke:none; fill-opacity:1\" cx=\"1253.19\" cy=\"1133.45\" r=\"18\"/>\n<circle clip-path=\"url(#clip3202)\" style=\"fill:#ff0000; stroke:none; fill-opacity:1\" cx=\"1253.19\" cy=\"1133.45\" r=\"14\"/>\n<circle clip-path=\"url(#clip3202)\" style=\"fill:#000000; stroke:none; fill-opacity:1\" cx=\"911.13\" cy=\"1036.78\" r=\"18\"/>\n<circle clip-path=\"url(#clip3202)\" style=\"fill:#ff0000; stroke:none; fill-opacity:1\" cx=\"911.13\" cy=\"1036.78\" r=\"14\"/>\n<circle clip-path=\"url(#clip3202)\" style=\"fill:#000000; stroke:none; fill-opacity:1\" cx=\"1667.85\" cy=\"739.891\" r=\"18\"/>\n<circle clip-path=\"url(#clip3202)\" style=\"fill:#ff0000; stroke:none; fill-opacity:1\" cx=\"1667.85\" cy=\"739.891\" r=\"14\"/>\n<circle clip-path=\"url(#clip3202)\" style=\"fill:#000000; stroke:none; fill-opacity:1\" cx=\"1370.98\" cy=\"1176.13\" r=\"18\"/>\n<circle clip-path=\"url(#clip3202)\" style=\"fill:#ff0000; stroke:none; fill-opacity:1\" cx=\"1370.98\" cy=\"1176.13\" r=\"14\"/>\n<circle clip-path=\"url(#clip3202)\" style=\"fill:#000000; stroke:none; fill-opacity:1\" cx=\"1351.39\" cy=\"1048.63\" r=\"18\"/>\n<circle clip-path=\"url(#clip3202)\" style=\"fill:#ff0000; stroke:none; fill-opacity:1\" cx=\"1351.39\" cy=\"1048.63\" r=\"14\"/>\n<circle clip-path=\"url(#clip3202)\" style=\"fill:#000000; stroke:none; fill-opacity:1\" cx=\"994.945\" cy=\"1383.3\" r=\"18\"/>\n<circle clip-path=\"url(#clip3202)\" style=\"fill:#ff0000; stroke:none; fill-opacity:1\" cx=\"994.945\" cy=\"1383.3\" r=\"14\"/>\n<circle clip-path=\"url(#clip3202)\" style=\"fill:#000000; stroke:none; fill-opacity:1\" cx=\"1465.77\" cy=\"864.022\" r=\"18\"/>\n<circle clip-path=\"url(#clip3202)\" style=\"fill:#ff0000; stroke:none; fill-opacity:1\" cx=\"1465.77\" cy=\"864.022\" r=\"14\"/>\n<circle clip-path=\"url(#clip3202)\" style=\"fill:#000000; stroke:none; fill-opacity:1\" cx=\"1655.94\" cy=\"1006.69\" r=\"18\"/>\n<circle clip-path=\"url(#clip3202)\" style=\"fill:#ff0000; stroke:none; fill-opacity:1\" cx=\"1655.94\" cy=\"1006.69\" r=\"14\"/>\n<circle clip-path=\"url(#clip3202)\" style=\"fill:#000000; stroke:none; fill-opacity:1\" cx=\"962.682\" cy=\"1087.52\" r=\"18\"/>\n<circle clip-path=\"url(#clip3202)\" style=\"fill:#ff0000; stroke:none; fill-opacity:1\" cx=\"962.682\" cy=\"1087.52\" r=\"14\"/>\n<circle clip-path=\"url(#clip3202)\" style=\"fill:#000000; stroke:none; fill-opacity:1\" cx=\"1165.34\" cy=\"1361.41\" r=\"18\"/>\n<circle clip-path=\"url(#clip3202)\" style=\"fill:#ff0000; stroke:none; fill-opacity:1\" cx=\"1165.34\" cy=\"1361.41\" r=\"14\"/>\n<circle clip-path=\"url(#clip3202)\" style=\"fill:#000000; stroke:none; fill-opacity:1\" cx=\"1055.69\" cy=\"1239.34\" r=\"18\"/>\n<circle clip-path=\"url(#clip3202)\" style=\"fill:#ff0000; stroke:none; fill-opacity:1\" cx=\"1055.69\" cy=\"1239.34\" r=\"14\"/>\n<circle clip-path=\"url(#clip3202)\" style=\"fill:#000000; stroke:none; fill-opacity:1\" cx=\"1164.97\" cy=\"912.889\" r=\"18\"/>\n<circle clip-path=\"url(#clip3202)\" style=\"fill:#ff0000; stroke:none; fill-opacity:1\" cx=\"1164.97\" cy=\"912.889\" r=\"14\"/>\n<circle clip-path=\"url(#clip3202)\" style=\"fill:#000000; stroke:none; fill-opacity:1\" cx=\"1144.02\" cy=\"1233.43\" r=\"18\"/>\n<circle clip-path=\"url(#clip3202)\" style=\"fill:#ff0000; stroke:none; fill-opacity:1\" cx=\"1144.02\" cy=\"1233.43\" r=\"14\"/>\n<circle clip-path=\"url(#clip3202)\" style=\"fill:#000000; stroke:none; fill-opacity:1\" cx=\"1520.75\" cy=\"1314\" r=\"18\"/>\n<circle clip-path=\"url(#clip3202)\" style=\"fill:#ff0000; stroke:none; fill-opacity:1\" cx=\"1520.75\" cy=\"1314\" r=\"14\"/>\n<circle clip-path=\"url(#clip3202)\" style=\"fill:#000000; stroke:none; fill-opacity:1\" cx=\"1472.22\" cy=\"1392.72\" r=\"18\"/>\n<circle clip-path=\"url(#clip3202)\" style=\"fill:#ff0000; stroke:none; fill-opacity:1\" cx=\"1472.22\" cy=\"1392.72\" r=\"14\"/>\n<circle clip-path=\"url(#clip3202)\" style=\"fill:#000000; stroke:none; fill-opacity:1\" cx=\"1145.13\" cy=\"844.49\" r=\"18\"/>\n<circle clip-path=\"url(#clip3202)\" style=\"fill:#ff0000; stroke:none; fill-opacity:1\" cx=\"1145.13\" cy=\"844.49\" r=\"14\"/>\n<circle clip-path=\"url(#clip3202)\" style=\"fill:#000000; stroke:none; fill-opacity:1\" cx=\"1607.5\" cy=\"677.439\" r=\"18\"/>\n<circle clip-path=\"url(#clip3202)\" style=\"fill:#ff0000; stroke:none; fill-opacity:1\" cx=\"1607.5\" cy=\"677.439\" r=\"14\"/>\n<circle clip-path=\"url(#clip3202)\" style=\"fill:#000000; stroke:none; fill-opacity:1\" cx=\"1611.24\" cy=\"1198.67\" r=\"18\"/>\n<circle clip-path=\"url(#clip3202)\" style=\"fill:#ff0000; stroke:none; fill-opacity:1\" cx=\"1611.24\" cy=\"1198.67\" r=\"14\"/>\n<circle clip-path=\"url(#clip3202)\" style=\"fill:#000000; stroke:none; fill-opacity:1\" cx=\"803.304\" cy=\"1374.01\" r=\"18\"/>\n<circle clip-path=\"url(#clip3202)\" style=\"fill:#ff0000; stroke:none; fill-opacity:1\" cx=\"803.304\" cy=\"1374.01\" r=\"14\"/>\n<circle clip-path=\"url(#clip3202)\" style=\"fill:#000000; stroke:none; fill-opacity:1\" cx=\"875.73\" cy=\"1143.85\" r=\"18\"/>\n<circle clip-path=\"url(#clip3202)\" style=\"fill:#ff0000; stroke:none; fill-opacity:1\" cx=\"875.73\" cy=\"1143.85\" r=\"14\"/>\n<circle clip-path=\"url(#clip3202)\" style=\"fill:#000000; stroke:none; fill-opacity:1\" cx=\"870.678\" cy=\"938.864\" r=\"18\"/>\n<circle clip-path=\"url(#clip3202)\" style=\"fill:#ff0000; stroke:none; fill-opacity:1\" cx=\"870.678\" cy=\"938.864\" r=\"14\"/>\n<circle clip-path=\"url(#clip3202)\" style=\"fill:#000000; stroke:none; fill-opacity:1\" cx=\"1785.89\" cy=\"244.377\" r=\"18\"/>\n<circle clip-path=\"url(#clip3202)\" style=\"fill:#ff0000; stroke:none; fill-opacity:1\" cx=\"1785.89\" cy=\"244.377\" r=\"14\"/>\n<circle clip-path=\"url(#clip3202)\" style=\"fill:#000000; stroke:none; fill-opacity:1\" cx=\"1691.11\" cy=\"440.53\" r=\"18\"/>\n<circle clip-path=\"url(#clip3202)\" style=\"fill:#ff0000; stroke:none; fill-opacity:1\" cx=\"1691.11\" cy=\"440.53\" r=\"14\"/>\n<circle clip-path=\"url(#clip3202)\" style=\"fill:#000000; stroke:none; fill-opacity:1\" cx=\"1550.66\" cy=\"1321.89\" r=\"18\"/>\n<circle clip-path=\"url(#clip3202)\" style=\"fill:#ff0000; stroke:none; fill-opacity:1\" cx=\"1550.66\" cy=\"1321.89\" r=\"14\"/>\n<circle clip-path=\"url(#clip3202)\" style=\"fill:#000000; stroke:none; fill-opacity:1\" cx=\"1711.07\" cy=\"1346.85\" r=\"18\"/>\n<circle clip-path=\"url(#clip3202)\" style=\"fill:#ff0000; stroke:none; fill-opacity:1\" cx=\"1711.07\" cy=\"1346.85\" r=\"14\"/>\n<circle clip-path=\"url(#clip3202)\" style=\"fill:#000000; stroke:none; fill-opacity:1\" cx=\"886.314\" cy=\"942.817\" r=\"18\"/>\n<circle clip-path=\"url(#clip3202)\" style=\"fill:#ff0000; stroke:none; fill-opacity:1\" cx=\"886.314\" cy=\"942.817\" r=\"14\"/>\n<circle clip-path=\"url(#clip3202)\" style=\"fill:#000000; stroke:none; fill-opacity:1\" cx=\"993.614\" cy=\"1374.2\" r=\"18\"/>\n<circle clip-path=\"url(#clip3202)\" style=\"fill:#ff0000; stroke:none; fill-opacity:1\" cx=\"993.614\" cy=\"1374.2\" r=\"14\"/>\n<circle clip-path=\"url(#clip3202)\" style=\"fill:#000000; stroke:none; fill-opacity:1\" cx=\"1689.66\" cy=\"907.61\" r=\"18\"/>\n<circle clip-path=\"url(#clip3202)\" style=\"fill:#ff0000; stroke:none; fill-opacity:1\" cx=\"1689.66\" cy=\"907.61\" r=\"14\"/>\n<circle clip-path=\"url(#clip3202)\" style=\"fill:#000000; stroke:none; fill-opacity:1\" cx=\"1754.54\" cy=\"301\" r=\"18\"/>\n<circle clip-path=\"url(#clip3202)\" style=\"fill:#ff0000; stroke:none; fill-opacity:1\" cx=\"1754.54\" cy=\"301\" r=\"14\"/>\n<circle clip-path=\"url(#clip3202)\" style=\"fill:#000000; stroke:none; fill-opacity:1\" cx=\"396.151\" cy=\"1399.48\" r=\"18\"/>\n<circle clip-path=\"url(#clip3202)\" style=\"fill:#ff0000; stroke:none; fill-opacity:1\" cx=\"396.151\" cy=\"1399.48\" r=\"14\"/>\n<circle clip-path=\"url(#clip3202)\" style=\"fill:#000000; stroke:none; fill-opacity:1\" cx=\"714.203\" cy=\"862.328\" r=\"18\"/>\n<circle clip-path=\"url(#clip3202)\" style=\"fill:#ff0000; stroke:none; fill-opacity:1\" cx=\"714.203\" cy=\"862.328\" r=\"14\"/>\n<circle clip-path=\"url(#clip3202)\" style=\"fill:#000000; stroke:none; fill-opacity:1\" cx=\"1224.31\" cy=\"1036.24\" r=\"18\"/>\n<circle clip-path=\"url(#clip3202)\" style=\"fill:#ff0000; stroke:none; fill-opacity:1\" cx=\"1224.31\" cy=\"1036.24\" r=\"14\"/>\n<circle clip-path=\"url(#clip3202)\" style=\"fill:#000000; stroke:none; fill-opacity:1\" cx=\"1361.13\" cy=\"1199.43\" r=\"18\"/>\n<circle clip-path=\"url(#clip3202)\" style=\"fill:#ff0000; stroke:none; fill-opacity:1\" cx=\"1361.13\" cy=\"1199.43\" r=\"14\"/>\n<circle clip-path=\"url(#clip3202)\" style=\"fill:#000000; stroke:none; fill-opacity:1\" cx=\"453.312\" cy=\"990.3\" r=\"18\"/>\n<circle clip-path=\"url(#clip3202)\" style=\"fill:#ff0000; stroke:none; fill-opacity:1\" cx=\"453.312\" cy=\"990.3\" r=\"14\"/>\n<circle clip-path=\"url(#clip3202)\" style=\"fill:#000000; stroke:none; fill-opacity:1\" cx=\"319.071\" cy=\"1311.46\" r=\"18\"/>\n<circle clip-path=\"url(#clip3202)\" style=\"fill:#ff0000; stroke:none; fill-opacity:1\" cx=\"319.071\" cy=\"1311.46\" r=\"14\"/>\n<circle clip-path=\"url(#clip3202)\" style=\"fill:#000000; stroke:none; fill-opacity:1\" cx=\"1712.55\" cy=\"584.189\" r=\"18\"/>\n<circle clip-path=\"url(#clip3202)\" style=\"fill:#ff0000; stroke:none; fill-opacity:1\" cx=\"1712.55\" cy=\"584.189\" r=\"14\"/>\n<circle clip-path=\"url(#clip3202)\" style=\"fill:#000000; stroke:none; fill-opacity:1\" cx=\"875.24\" cy=\"785.468\" r=\"18\"/>\n<circle clip-path=\"url(#clip3202)\" style=\"fill:#ff0000; stroke:none; fill-opacity:1\" cx=\"875.24\" cy=\"785.468\" r=\"14\"/>\n<circle clip-path=\"url(#clip3202)\" style=\"fill:#000000; stroke:none; fill-opacity:1\" cx=\"741.028\" cy=\"873.735\" r=\"18\"/>\n<circle clip-path=\"url(#clip3202)\" style=\"fill:#ff0000; stroke:none; fill-opacity:1\" cx=\"741.028\" cy=\"873.735\" r=\"14\"/>\n<circle clip-path=\"url(#clip3202)\" style=\"fill:#000000; stroke:none; fill-opacity:1\" cx=\"375.373\" cy=\"1276.73\" r=\"18\"/>\n<circle clip-path=\"url(#clip3202)\" style=\"fill:#ff0000; stroke:none; fill-opacity:1\" cx=\"375.373\" cy=\"1276.73\" r=\"14\"/>\n<circle clip-path=\"url(#clip3202)\" style=\"fill:#000000; stroke:none; fill-opacity:1\" cx=\"561.027\" cy=\"900.433\" r=\"18\"/>\n<circle clip-path=\"url(#clip3202)\" style=\"fill:#ff0000; stroke:none; fill-opacity:1\" cx=\"561.027\" cy=\"900.433\" r=\"14\"/>\n<circle clip-path=\"url(#clip3202)\" style=\"fill:#000000; stroke:none; fill-opacity:1\" cx=\"1548.14\" cy=\"1010.44\" r=\"18\"/>\n<circle clip-path=\"url(#clip3202)\" style=\"fill:#ff0000; stroke:none; fill-opacity:1\" cx=\"1548.14\" cy=\"1010.44\" r=\"14\"/>\n<circle clip-path=\"url(#clip3202)\" style=\"fill:#000000; stroke:none; fill-opacity:1\" cx=\"838.669\" cy=\"1296.96\" r=\"18\"/>\n<circle clip-path=\"url(#clip3202)\" style=\"fill:#ff0000; stroke:none; fill-opacity:1\" cx=\"838.669\" cy=\"1296.96\" r=\"14\"/>\n<circle clip-path=\"url(#clip3202)\" style=\"fill:#000000; stroke:none; fill-opacity:1\" cx=\"379.967\" cy=\"1146.91\" r=\"18\"/>\n<circle clip-path=\"url(#clip3202)\" style=\"fill:#ff0000; stroke:none; fill-opacity:1\" cx=\"379.967\" cy=\"1146.91\" r=\"14\"/>\n<circle clip-path=\"url(#clip3202)\" style=\"fill:#000000; stroke:none; fill-opacity:1\" cx=\"803.845\" cy=\"1146.38\" r=\"18\"/>\n<circle clip-path=\"url(#clip3202)\" style=\"fill:#ff0000; stroke:none; fill-opacity:1\" cx=\"803.845\" cy=\"1146.38\" r=\"14\"/>\n<circle clip-path=\"url(#clip3202)\" style=\"fill:#000000; stroke:none; fill-opacity:1\" cx=\"1514.95\" cy=\"885.311\" r=\"18\"/>\n<circle clip-path=\"url(#clip3202)\" style=\"fill:#ff0000; stroke:none; fill-opacity:1\" cx=\"1514.95\" cy=\"885.311\" r=\"14\"/>\n<circle clip-path=\"url(#clip3202)\" style=\"fill:#000000; stroke:none; fill-opacity:1\" cx=\"567.278\" cy=\"1344.51\" r=\"18\"/>\n<circle clip-path=\"url(#clip3202)\" style=\"fill:#ff0000; stroke:none; fill-opacity:1\" cx=\"567.278\" cy=\"1344.51\" r=\"14\"/>\n<circle clip-path=\"url(#clip3202)\" style=\"fill:#000000; stroke:none; fill-opacity:1\" cx=\"597.847\" cy=\"782.53\" r=\"18\"/>\n<circle clip-path=\"url(#clip3202)\" style=\"fill:#ff0000; stroke:none; fill-opacity:1\" cx=\"597.847\" cy=\"782.53\" r=\"14\"/>\n<circle clip-path=\"url(#clip3202)\" style=\"fill:#000000; stroke:none; fill-opacity:1\" cx=\"604.715\" cy=\"1426.99\" r=\"18\"/>\n<circle clip-path=\"url(#clip3202)\" style=\"fill:#ff0000; stroke:none; fill-opacity:1\" cx=\"604.715\" cy=\"1426.99\" r=\"14\"/>\n<circle clip-path=\"url(#clip3202)\" style=\"fill:#000000; stroke:none; fill-opacity:1\" cx=\"416.639\" cy=\"1279.82\" r=\"18\"/>\n<circle clip-path=\"url(#clip3202)\" style=\"fill:#ff0000; stroke:none; fill-opacity:1\" cx=\"416.639\" cy=\"1279.82\" r=\"14\"/>\n<circle clip-path=\"url(#clip3202)\" style=\"fill:#000000; stroke:none; fill-opacity:1\" cx=\"1004.81\" cy=\"1278.82\" r=\"18\"/>\n<circle clip-path=\"url(#clip3202)\" style=\"fill:#ff0000; stroke:none; fill-opacity:1\" cx=\"1004.81\" cy=\"1278.82\" r=\"14\"/>\n<circle clip-path=\"url(#clip3202)\" style=\"fill:#000000; stroke:none; fill-opacity:1\" cx=\"721.927\" cy=\"1083.3\" r=\"18\"/>\n<circle clip-path=\"url(#clip3202)\" style=\"fill:#ff0000; stroke:none; fill-opacity:1\" cx=\"721.927\" cy=\"1083.3\" r=\"14\"/>\n<circle clip-path=\"url(#clip3202)\" style=\"fill:#000000; stroke:none; fill-opacity:1\" cx=\"1398.88\" cy=\"1256.32\" r=\"18\"/>\n<circle clip-path=\"url(#clip3202)\" style=\"fill:#ff0000; stroke:none; fill-opacity:1\" cx=\"1398.88\" cy=\"1256.32\" r=\"14\"/>\n<circle clip-path=\"url(#clip3202)\" style=\"fill:#000000; stroke:none; fill-opacity:1\" cx=\"1492.21\" cy=\"1259.7\" r=\"18\"/>\n<circle clip-path=\"url(#clip3202)\" style=\"fill:#ff0000; stroke:none; fill-opacity:1\" cx=\"1492.21\" cy=\"1259.7\" r=\"14\"/>\n<circle clip-path=\"url(#clip3202)\" style=\"fill:#000000; stroke:none; fill-opacity:1\" cx=\"768.024\" cy=\"1330.8\" r=\"18\"/>\n<circle clip-path=\"url(#clip3202)\" style=\"fill:#ff0000; stroke:none; fill-opacity:1\" cx=\"768.024\" cy=\"1330.8\" r=\"14\"/>\n<circle clip-path=\"url(#clip3202)\" style=\"fill:#000000; stroke:none; fill-opacity:1\" cx=\"1437.33\" cy=\"867.096\" r=\"18\"/>\n<circle clip-path=\"url(#clip3202)\" style=\"fill:#ff0000; stroke:none; fill-opacity:1\" cx=\"1437.33\" cy=\"867.096\" r=\"14\"/>\n<circle clip-path=\"url(#clip3202)\" style=\"fill:#000000; stroke:none; fill-opacity:1\" cx=\"775.391\" cy=\"1259.37\" r=\"18\"/>\n<circle clip-path=\"url(#clip3202)\" style=\"fill:#ff0000; stroke:none; fill-opacity:1\" cx=\"775.391\" cy=\"1259.37\" r=\"14\"/>\n<circle clip-path=\"url(#clip3202)\" style=\"fill:#000000; stroke:none; fill-opacity:1\" cx=\"1681.61\" cy=\"1102.16\" r=\"18\"/>\n<circle clip-path=\"url(#clip3202)\" style=\"fill:#ff0000; stroke:none; fill-opacity:1\" cx=\"1681.61\" cy=\"1102.16\" r=\"14\"/>\n<circle clip-path=\"url(#clip3202)\" style=\"fill:#000000; stroke:none; fill-opacity:1\" cx=\"1109.62\" cy=\"1059.37\" r=\"18\"/>\n<circle clip-path=\"url(#clip3202)\" style=\"fill:#ff0000; stroke:none; fill-opacity:1\" cx=\"1109.62\" cy=\"1059.37\" r=\"14\"/>\n<circle clip-path=\"url(#clip3202)\" style=\"fill:#000000; stroke:none; fill-opacity:1\" cx=\"1115.66\" cy=\"1119.13\" r=\"18\"/>\n<circle clip-path=\"url(#clip3202)\" style=\"fill:#ff0000; stroke:none; fill-opacity:1\" cx=\"1115.66\" cy=\"1119.13\" r=\"14\"/>\n<circle clip-path=\"url(#clip3202)\" style=\"fill:#000000; stroke:none; fill-opacity:1\" cx=\"467.768\" cy=\"1252.49\" r=\"18\"/>\n<circle clip-path=\"url(#clip3202)\" style=\"fill:#ff0000; stroke:none; fill-opacity:1\" cx=\"467.768\" cy=\"1252.49\" r=\"14\"/>\n<circle clip-path=\"url(#clip3202)\" style=\"fill:#000000; stroke:none; fill-opacity:1\" cx=\"634.439\" cy=\"1369.69\" r=\"18\"/>\n<circle clip-path=\"url(#clip3202)\" style=\"fill:#ff0000; stroke:none; fill-opacity:1\" cx=\"634.439\" cy=\"1369.69\" r=\"14\"/>\n<circle clip-path=\"url(#clip3202)\" style=\"fill:#000000; stroke:none; fill-opacity:1\" cx=\"573.296\" cy=\"1431.93\" r=\"18\"/>\n<circle clip-path=\"url(#clip3202)\" style=\"fill:#ff0000; stroke:none; fill-opacity:1\" cx=\"573.296\" cy=\"1431.93\" r=\"14\"/>\n<circle clip-path=\"url(#clip3202)\" style=\"fill:#000000; stroke:none; fill-opacity:1\" cx=\"1273.57\" cy=\"998.285\" r=\"18\"/>\n<circle clip-path=\"url(#clip3202)\" style=\"fill:#ff0000; stroke:none; fill-opacity:1\" cx=\"1273.57\" cy=\"998.285\" r=\"14\"/>\n<circle clip-path=\"url(#clip3202)\" style=\"fill:#000000; stroke:none; fill-opacity:1\" cx=\"1699.27\" cy=\"602.326\" r=\"18\"/>\n<circle clip-path=\"url(#clip3202)\" style=\"fill:#ff0000; stroke:none; fill-opacity:1\" cx=\"1699.27\" cy=\"602.326\" r=\"14\"/>\n<circle clip-path=\"url(#clip3202)\" style=\"fill:#000000; stroke:none; fill-opacity:1\" cx=\"678.077\" cy=\"1297.33\" r=\"18\"/>\n<circle clip-path=\"url(#clip3202)\" style=\"fill:#ff0000; stroke:none; fill-opacity:1\" cx=\"678.077\" cy=\"1297.33\" r=\"14\"/>\n<circle clip-path=\"url(#clip3202)\" style=\"fill:#000000; stroke:none; fill-opacity:1\" cx=\"707.026\" cy=\"1222.05\" r=\"18\"/>\n<circle clip-path=\"url(#clip3202)\" style=\"fill:#ff0000; stroke:none; fill-opacity:1\" cx=\"707.026\" cy=\"1222.05\" r=\"14\"/>\n<circle clip-path=\"url(#clip3202)\" style=\"fill:#000000; stroke:none; fill-opacity:1\" cx=\"1730.67\" cy=\"1333.29\" r=\"18\"/>\n<circle clip-path=\"url(#clip3202)\" style=\"fill:#ff0000; stroke:none; fill-opacity:1\" cx=\"1730.67\" cy=\"1333.29\" r=\"14\"/>\n<circle clip-path=\"url(#clip3202)\" style=\"fill:#000000; stroke:none; fill-opacity:1\" cx=\"1011.78\" cy=\"942.563\" r=\"18\"/>\n<circle clip-path=\"url(#clip3202)\" style=\"fill:#ff0000; stroke:none; fill-opacity:1\" cx=\"1011.78\" cy=\"942.563\" r=\"14\"/>\n<circle clip-path=\"url(#clip3202)\" style=\"fill:#000000; stroke:none; fill-opacity:1\" cx=\"526.218\" cy=\"1403.22\" r=\"18\"/>\n<circle clip-path=\"url(#clip3202)\" style=\"fill:#ff0000; stroke:none; fill-opacity:1\" cx=\"526.218\" cy=\"1403.22\" r=\"14\"/>\n<circle clip-path=\"url(#clip3202)\" style=\"fill:#000000; stroke:none; fill-opacity:1\" cx=\"1000.75\" cy=\"1228.27\" r=\"18\"/>\n<circle clip-path=\"url(#clip3202)\" style=\"fill:#ff0000; stroke:none; fill-opacity:1\" cx=\"1000.75\" cy=\"1228.27\" r=\"14\"/>\n<circle clip-path=\"url(#clip3202)\" style=\"fill:#000000; stroke:none; fill-opacity:1\" cx=\"1322.7\" cy=\"1381.21\" r=\"18\"/>\n<circle clip-path=\"url(#clip3202)\" style=\"fill:#ff0000; stroke:none; fill-opacity:1\" cx=\"1322.7\" cy=\"1381.21\" r=\"14\"/>\n<circle clip-path=\"url(#clip3202)\" style=\"fill:#000000; stroke:none; fill-opacity:1\" cx=\"899.583\" cy=\"1027.13\" r=\"18\"/>\n<circle clip-path=\"url(#clip3202)\" style=\"fill:#ff0000; stroke:none; fill-opacity:1\" cx=\"899.583\" cy=\"1027.13\" r=\"14\"/>\n<circle clip-path=\"url(#clip3202)\" style=\"fill:#000000; stroke:none; fill-opacity:1\" cx=\"1092.87\" cy=\"1356.79\" r=\"18\"/>\n<circle clip-path=\"url(#clip3202)\" style=\"fill:#ff0000; stroke:none; fill-opacity:1\" cx=\"1092.87\" cy=\"1356.79\" r=\"14\"/>\n<circle clip-path=\"url(#clip3202)\" style=\"fill:#000000; stroke:none; fill-opacity:1\" cx=\"1398.44\" cy=\"1280.05\" r=\"18\"/>\n<circle clip-path=\"url(#clip3202)\" style=\"fill:#ff0000; stroke:none; fill-opacity:1\" cx=\"1398.44\" cy=\"1280.05\" r=\"14\"/>\n<circle clip-path=\"url(#clip3202)\" style=\"fill:#000000; stroke:none; fill-opacity:1\" cx=\"1248.49\" cy=\"1127.96\" r=\"18\"/>\n<circle clip-path=\"url(#clip3202)\" style=\"fill:#ff0000; stroke:none; fill-opacity:1\" cx=\"1248.49\" cy=\"1127.96\" r=\"14\"/>\n<circle clip-path=\"url(#clip3202)\" style=\"fill:#000000; stroke:none; fill-opacity:1\" cx=\"1658.28\" cy=\"1165.11\" r=\"18\"/>\n<circle clip-path=\"url(#clip3202)\" style=\"fill:#ff0000; stroke:none; fill-opacity:1\" cx=\"1658.28\" cy=\"1165.11\" r=\"14\"/>\n<circle clip-path=\"url(#clip3202)\" style=\"fill:#000000; stroke:none; fill-opacity:1\" cx=\"544.918\" cy=\"1001.28\" r=\"18\"/>\n<circle clip-path=\"url(#clip3202)\" style=\"fill:#ff0000; stroke:none; fill-opacity:1\" cx=\"544.918\" cy=\"1001.28\" r=\"14\"/>\n<circle clip-path=\"url(#clip3202)\" style=\"fill:#000000; stroke:none; fill-opacity:1\" cx=\"651.296\" cy=\"887.961\" r=\"18\"/>\n<circle clip-path=\"url(#clip3202)\" style=\"fill:#ff0000; stroke:none; fill-opacity:1\" cx=\"651.296\" cy=\"887.961\" r=\"14\"/>\n<circle clip-path=\"url(#clip3202)\" style=\"fill:#000000; stroke:none; fill-opacity:1\" cx=\"738.851\" cy=\"948.557\" r=\"18\"/>\n<circle clip-path=\"url(#clip3202)\" style=\"fill:#ff0000; stroke:none; fill-opacity:1\" cx=\"738.851\" cy=\"948.557\" r=\"14\"/>\n<circle clip-path=\"url(#clip3202)\" style=\"fill:#000000; stroke:none; fill-opacity:1\" cx=\"1769.04\" cy=\"1341.44\" r=\"18\"/>\n<circle clip-path=\"url(#clip3202)\" style=\"fill:#ff0000; stroke:none; fill-opacity:1\" cx=\"1769.04\" cy=\"1341.44\" r=\"14\"/>\n<circle clip-path=\"url(#clip3202)\" style=\"fill:#000000; stroke:none; fill-opacity:1\" cx=\"1077\" cy=\"1280.78\" r=\"18\"/>\n<circle clip-path=\"url(#clip3202)\" style=\"fill:#ff0000; stroke:none; fill-opacity:1\" cx=\"1077\" cy=\"1280.78\" r=\"14\"/>\n<circle clip-path=\"url(#clip3202)\" style=\"fill:#000000; stroke:none; fill-opacity:1\" cx=\"752.783\" cy=\"1261.13\" r=\"18\"/>\n<circle clip-path=\"url(#clip3202)\" style=\"fill:#ff0000; stroke:none; fill-opacity:1\" cx=\"752.783\" cy=\"1261.13\" r=\"14\"/>\n<circle clip-path=\"url(#clip3202)\" style=\"fill:#000000; stroke:none; fill-opacity:1\" cx=\"1036.23\" cy=\"1137.54\" r=\"18\"/>\n<circle clip-path=\"url(#clip3202)\" style=\"fill:#ff0000; stroke:none; fill-opacity:1\" cx=\"1036.23\" cy=\"1137.54\" r=\"14\"/>\n<polyline clip-path=\"url(#clip3202)\" style=\"stroke:#3da44d; stroke-width:4; stroke-opacity:1; fill:none\" points=\"\n  216.081,1446.71 242.445,1359.49 268.808,1278.84 295.172,1204.52 321.535,1136.32 347.899,1074.01 374.262,1017.36 400.625,966.146 426.989,920.139 453.352,879.113 \n  479.716,842.843 506.079,811.102 532.443,783.664 558.806,760.302 585.17,740.789 611.533,724.9 637.897,712.407 664.26,703.085 690.624,696.707 716.987,693.046 \n  743.351,691.876 769.714,692.97 796.078,696.103 822.441,701.047 848.804,707.576 875.168,715.464 901.531,724.485 927.895,734.411 954.258,745.016 980.622,756.075 \n  1006.99,767.359 1033.35,778.644 1059.71,789.703 1086.08,800.308 1112.44,810.234 1138.8,819.255 1165.17,827.143 1191.53,833.672 1217.89,838.616 1244.26,841.749 \n  1270.62,842.843 1296.98,841.673 1323.35,838.012 1349.71,831.634 1376.07,822.312 1402.44,809.819 1428.8,793.93 1455.16,774.417 1481.53,751.055 1507.89,723.617 \n  1534.25,691.876 1560.62,655.606 1586.98,614.58 1613.35,568.573 1639.71,517.357 1666.07,460.707 1692.44,398.395 1718.8,330.195 1745.16,255.881 1771.53,175.227 \n  1797.89,88.0053 \n  \"/>\n<path clip-path=\"url(#clip3200)\" d=\"\nM1917.34 251.724 L2400.76 251.724 L2400.76 130.764 L1917.34 130.764  Z\n  \" fill=\"#ffffff\" fill-rule=\"evenodd\" fill-opacity=\"1\"/>\n<polyline clip-path=\"url(#clip3200)\" style=\"stroke:#000000; stroke-width:4; stroke-opacity:1; fill:none\" points=\"\n  1917.34,251.724 2400.76,251.724 2400.76,130.764 1917.34,130.764 1917.34,251.724 \n  \"/>\n<polyline clip-path=\"url(#clip3200)\" style=\"stroke:#3da44d; stroke-width:4; stroke-opacity:1; fill:none\" points=\"\n  1941.34,191.244 2085.34,191.244 \n  \"/>\n<g clip-path=\"url(#clip3200)\">\n<text style=\"fill:#000000; fill-opacity:1; font-family:Arial,Helvetica Neue,Helvetica,sans-serif; font-size:48px; text-anchor:start;\" transform=\"rotate(0, 2109.34, 208.744)\" x=\"2109.34\" y=\"208.744\">True Model</text>\n</g>\n</svg>\n"
     },
     "execution_count": 4,
     "metadata": {
     },
     "output_type": "execute_result"
    }
   ],
   "source": [
    "x1grid = -3:0.1:3\n",
    "x2grid = -16:0.1:20\n",
    "\n",
    "# Generate the inputs and corresponding outputs\n",
    "input, output = generate_dataset(model, x1grid, x2grid, 300)\n",
    "\n",
    "# Plot the data set\n",
    "ishigher = vec(output .== 1)\n",
    "function plot_data()\n",
    "    scatter(input[1, ishigher], input[2, ishigher], label=\"\", color=:blue)\n",
    "    scatter!(input[1, .!ishigher], input[2, .!ishigher], label=\"\", color=:red)\n",
    "    plot!(x1grid, model.(x1grid), label=\"True Model\", legend=:outertopright)\n",
    "end\n",
    "plot_data()"
   ]
  },
  {
   "cell_type": "markdown",
   "metadata": {
    "collapsed": false
   },
   "source": [
    "Below is the code for a general neural network architecture."
   ]
  },
  {
   "cell_type": "code",
   "execution_count": 5,
   "metadata": {
    "collapsed": false,
    "scrolled": true
   },
   "outputs": [
    {
     "data": {
      "text/plain": [
       "train! (generic function with 1 method)"
      ]
     },
     "execution_count": 5,
     "metadata": {
     },
     "output_type": "execute_result"
    }
   ],
   "source": [
    "### Layer struct\n",
    "struct Layer\n",
    "    W # weight\n",
    "    b # bias\n",
    "    σ # activation function\n",
    "    z::Ref{AbstractArray} # intermediate state\n",
    "end\n",
    "\n",
    "# Layer constructor: takes in the dimensions of the input and the output, as well as an activation function\n",
    "Layer(in::Int, out::Int, σ::Function) = Layer(rand(out, in) .- 0.5, zeros(out), σ, [])\n",
    "\n",
    "# Layer evaluation\n",
    "function (l::Layer)(X)\n",
    "    l.z[] = l.W * X .+ l.b # store intermediate state for back propagation\n",
    "    return l.σ.(l.z[])\n",
    "end\n",
    "\n",
    "# Update layer given partial derivatives and learning rate\n",
    "function update!(l::Layer, dW, db, η)\n",
    "    l.W .-= η * dW\n",
    "    l.b .-= η * db\n",
    "end\n",
    "\n",
    "# Back propagation given the input from the previous layer and the cost gradient wrt this layer's output\n",
    "function back_propagate!(l::Layer, ∂Cost∂a_out, a_in, η)\n",
    "    dσ = derive(l.σ)\n",
    "\n",
    "    # Cost with respect to z\n",
    "    ∂Cost∂z = ∂Cost∂a_out .* dσ.(l.z[])\n",
    "\n",
    "    # Cost with respect to W\n",
    "    ∂Cost∂W = sum([∂Cost∂z[:, i] * a_in[:, i]' for i in size(∂Cost∂z, 2)])\n",
    "\n",
    "    # Cost with respect to b\n",
    "    ∂Cost∂b = ∂Cost∂z * ones(size(∂Cost∂z, 2))\n",
    "\n",
    "    # Update parameters\n",
    "    update!(l, ∂Cost∂W, ∂Cost∂b, η)\n",
    "\n",
    "    # Cost with respect to input from last layer\n",
    "    ∂Cost∂a_in = l.W' * ∂Cost∂z\n",
    "end\n",
    "\n",
    "### Model struct\n",
    "struct Model\n",
    "    layers\n",
    "    a::Ref{AbstractArray} # layer outputs\n",
    "\n",
    "    # Model constructor\n",
    "    Model(layers...) = new(layers, [])\n",
    "end\n",
    "\n",
    "# Model evaluation\n",
    "function (m::Model)(X)\n",
    "    m.a[] = [X]\n",
    "    # Evaluate each layer and store their outputs\n",
    "    for layer in m.layers\n",
    "        push!(m.a[], layer(m.a[][end]))\n",
    "    end\n",
    "    # Return final output\n",
    "    return m.a[][end]\n",
    "end\n",
    "\n",
    "# Model back propagation\n",
    "function back_propagate!(m::Model, Cost, Y, η)\n",
    "    # Calculate cost\n",
    "    aL = pop!(m.a[]) # last output\n",
    "    cost = Cost(aL, Y)\n",
    "    ∂Cost∂aL = derive(Cost)(aL, Y) # gradient wrt aL\n",
    "\n",
    "    # Back propagate through each layer\n",
    "    ∂Cost∂a = ∂Cost∂aL\n",
    "    for layer in reverse(m.layers)\n",
    "        a_in = pop!(m.a[])\n",
    "        ∂Cost∂a = back_propagate!(layer, ∂Cost∂a, a_in, η)\n",
    "    end\n",
    "\n",
    "    return cost\n",
    "end\n",
    "\n",
    "# Train model with a Cost objective, dataset, and learning rate\n",
    "function train!(m::Model, Cost, dataset, η)\n",
    "    costs = Float64[]\n",
    "\n",
    "    for batch in dataset\n",
    "        X, Y = batch\n",
    "        # Forward pass\n",
    "        output = m(X)\n",
    "        # Back propagation\n",
    "        cost = back_propagate!(m, Cost, Y, η)\n",
    "        push!(costs, cost)\n",
    "    end\n",
    "\n",
    "    return sum(costs) / length(dataset)\n",
    "end"
   ]
  },
  {
   "cell_type": "markdown",
   "metadata": {
    "collapsed": false
   },
   "source": [
    "Let's build our neural network!"
   ]
  },
  {
   "cell_type": "code",
   "execution_count": 6,
   "metadata": {
    "collapsed": false
   },
   "outputs": [
    {
     "data": {
      "text/plain": [
       "plot_model (generic function with 1 method)"
      ]
     },
     "execution_count": 6,
     "metadata": {
     },
     "output_type": "execute_result"
    }
   ],
   "source": [
    "### Sigmoid activation function\n",
    "sigmoid(x) = 1 / (1 + exp(-x))\n",
    "derive(::typeof(sigmoid)) = x -> sigmoid(x) * (1 - sigmoid(x))\n",
    "\n",
    "### Relu activation function\n",
    "relu(x) = max(0, x)\n",
    "derive(::typeof(relu)) = x -> (x ≥ 0 ? 1 : 0)\n",
    "\n",
    "### Set up model\n",
    "neural_model = Model(\n",
    "    Layer(2, 10, relu),\n",
    "    Layer(10, 1, sigmoid))\n",
    "\n",
    "### Cost objective\n",
    "# Binary cross entropy loss\n",
    "bcentropy(ŷ, y) = -y * log(ŷ + 1e-7) - (1 - y) * log(1 - ŷ + 1e-7)\n",
    "derive(::typeof(bcentropy)) = (ŷ, y) -> -y / ŷ + (1 - y) / (1 - ŷ)\n",
    "# Cost function\n",
    "Cost(Ŷ, Y) = sum(bcentropy.(Ŷ, Y)) / size(Y, 2)\n",
    "derive(::typeof(Cost)) = (Ŷ, Y) -> derive(bcentropy).(Ŷ, Y) / size(Y, 2)\n",
    "\n",
    "### Minibatching\n",
    "function minibatch(input, output, batch_size)\n",
    "    @assert size(input, 2) == size(output, 2) \"Numbers of input and output doesn't match.\"\n",
    "    inputs = Array[]\n",
    "    outputs = Array[]\n",
    "\n",
    "    rand_idxs = Random.randperm(size(input, 2))\n",
    "    batch_idxs = Iterators.partition(rand_idxs, batch_size)\n",
    "    for batch_idx in batch_idxs\n",
    "        push!(inputs, input[:, batch_idx])\n",
    "        push!(outputs, output[:, batch_idx])\n",
    "    end\n",
    "\n",
    "    zip(inputs, outputs) |> collect\n",
    "end\n",
    "\n",
    "### Model visualization\n",
    "function plot_model(neural_model, x1grid, x2grid)\n",
    "    plot_data()\n",
    "    bound = fill(maximum(x2grid), size(x1grid))\n",
    "\n",
    "    # Classify each point\n",
    "    for (i, x1) in enumerate(x1grid)\n",
    "        for x2 in x2grid\n",
    "            out = neural_model([x1, x2])[1]\n",
    "            if out ≥ 0.5\n",
    "                bound[i] = x2\n",
    "                break\n",
    "            end\n",
    "         end\n",
    "    end\n",
    "\n",
    "    plot!(x1grid, bound, label=\"Neural Network Model\")\n",
    "end"
   ]
  },
  {
   "cell_type": "markdown",
   "metadata": {
    "collapsed": false
   },
   "source": [
    "Finally, train our model on the generated data set"
   ]
  },
  {
   "cell_type": "code",
   "execution_count": 7,
   "metadata": {
    "collapsed": false,
    "scrolled": true
   },
   "outputs": [
    {
     "name": "stdout",
     "output_type": "stream",
     "text": [
      "Epoch 1 cost: 0.4926723587635671\n"
     ]
    },
    {
     "name": "stdout",
     "output_type": "stream",
     "text": [
      "Epoch 2 cost: 0.3489956210637208\n"
     ]
    },
    {
     "name": "stdout",
     "output_type": "stream",
     "text": [
      "Epoch 3 cost: 0.3114974827971079\n"
     ]
    },
    {
     "name": "stdout",
     "output_type": "stream",
     "text": [
      "Epoch 4 cost: 0.2885409098048912\n"
     ]
    },
    {
     "name": "stdout",
     "output_type": "stream",
     "text": [
      "Epoch 5 cost: 0.27879031268505544\n"
     ]
    },
    {
     "name": "stdout",
     "output_type": "stream",
     "text": [
      "Epoch 6 cost: 0.2745030257257012\n"
     ]
    },
    {
     "name": "stdout",
     "output_type": "stream",
     "text": [
      "Epoch 7 cost: 0.26661206421700767\n"
     ]
    },
    {
     "name": "stdout",
     "output_type": "stream",
     "text": [
      "Epoch 8 cost: 0.2611280282471438\n"
     ]
    },
    {
     "name": "stdout",
     "output_type": "stream",
     "text": [
      "Epoch 9 cost: 0.2589685836928885\n"
     ]
    },
    {
     "name": "stdout",
     "output_type": "stream",
     "text": [
      "Epoch 10 cost: 0.2561170536087659\n"
     ]
    },
    {
     "name": "stdout",
     "output_type": "stream",
     "text": [
      "Epoch 11 cost: 0.25351659540953314\n"
     ]
    },
    {
     "name": "stdout",
     "output_type": "stream",
     "text": [
      "Epoch 12 cost: 0.25175999961511164\n"
     ]
    },
    {
     "name": "stdout",
     "output_type": "stream",
     "text": [
      "Epoch 13 cost: 0.25275070924683696\n"
     ]
    },
    {
     "name": "stdout",
     "output_type": "stream",
     "text": [
      "Epoch 14 cost: 0.24980979738981285\n"
     ]
    },
    {
     "name": "stdout",
     "output_type": "stream",
     "text": [
      "Epoch 15 cost: 0.24838090954417746\n"
     ]
    },
    {
     "name": "stdout",
     "output_type": "stream",
     "text": [
      "Epoch 16 cost: 0.24711392864666398\n"
     ]
    },
    {
     "name": "stdout",
     "output_type": "stream",
     "text": [
      "Epoch 17 cost: 0.2422399273086831\n"
     ]
    },
    {
     "name": "stdout",
     "output_type": "stream",
     "text": [
      "Epoch 18 cost: 0.24172708406548624\n"
     ]
    },
    {
     "name": "stdout",
     "output_type": "stream",
     "text": [
      "Epoch 19 cost: 0.2408596747511252\n"
     ]
    },
    {
     "name": "stdout",
     "output_type": "stream",
     "text": [
      "Epoch 20 cost: 0.23893840164868005\n"
     ]
    },
    {
     "name": "stdout",
     "output_type": "stream",
     "text": [
      "Epoch 21 cost: 0.2393214724122856\n"
     ]
    },
    {
     "name": "stdout",
     "output_type": "stream",
     "text": [
      "Epoch 22 cost: 0.23689527814114214\n"
     ]
    },
    {
     "name": "stdout",
     "output_type": "stream",
     "text": [
      "Epoch 23 cost: 0.23651791185869436\n"
     ]
    },
    {
     "name": "stdout",
     "output_type": "stream",
     "text": [
      "Epoch 24 cost: 0.23579466874749055\n"
     ]
    },
    {
     "name": "stdout",
     "output_type": "stream",
     "text": [
      "Epoch 25 cost: 0.23370678657661298\n"
     ]
    },
    {
     "name": "stdout",
     "output_type": "stream",
     "text": [
      "Epoch 26 cost: 0.23260454374367978\n"
     ]
    },
    {
     "name": "stdout",
     "output_type": "stream",
     "text": [
      "Epoch 27 cost: 0.23080907850820365\n"
     ]
    },
    {
     "name": "stdout",
     "output_type": "stream",
     "text": [
      "Epoch 28 cost: 0.23022634306999554\n"
     ]
    },
    {
     "name": "stdout",
     "output_type": "stream",
     "text": [
      "Epoch 29 cost: 0.22946601497469832\n"
     ]
    },
    {
     "name": "stdout",
     "output_type": "stream",
     "text": [
      "Epoch 30 cost: 0.22918018254524955\n"
     ]
    },
    {
     "name": "stdout",
     "output_type": "stream",
     "text": [
      "Epoch 31 cost: 0.22735540903010718\n"
     ]
    },
    {
     "name": "stdout",
     "output_type": "stream",
     "text": [
      "Epoch 32 cost: 0.22719286836562932\n"
     ]
    },
    {
     "name": "stdout",
     "output_type": "stream",
     "text": [
      "Epoch 33 cost: 0.22568822371694466\n"
     ]
    },
    {
     "name": "stdout",
     "output_type": "stream",
     "text": [
      "Epoch 34 cost: 0.2241504759377763\n"
     ]
    },
    {
     "name": "stdout",
     "output_type": "stream",
     "text": [
      "Epoch 35 cost: 0.2225848684593154\n"
     ]
    },
    {
     "name": "stdout",
     "output_type": "stream",
     "text": [
      "Epoch 36 cost: 0.22151191148145613\n"
     ]
    },
    {
     "name": "stdout",
     "output_type": "stream",
     "text": [
      "Epoch 37 cost: 0.22235038411812963\n"
     ]
    },
    {
     "name": "stdout",
     "output_type": "stream",
     "text": [
      "Epoch 38 cost: 0.22108748964209138\n"
     ]
    },
    {
     "name": "stdout",
     "output_type": "stream",
     "text": [
      "Epoch 39 cost: 0.22080012786386563\n"
     ]
    },
    {
     "name": "stdout",
     "output_type": "stream",
     "text": [
      "Epoch 40 cost: 0.21889479173806203\n"
     ]
    },
    {
     "name": "stdout",
     "output_type": "stream",
     "text": [
      "Epoch 41 cost: 0.21977670243448286\n"
     ]
    },
    {
     "name": "stdout",
     "output_type": "stream",
     "text": [
      "Epoch 42 cost: 0.21850788326284892\n"
     ]
    },
    {
     "name": "stdout",
     "output_type": "stream",
     "text": [
      "Epoch 43 cost: 0.21849199996165886\n"
     ]
    },
    {
     "name": "stdout",
     "output_type": "stream",
     "text": [
      "Epoch 44 cost: 0.21600626162698508\n"
     ]
    },
    {
     "name": "stdout",
     "output_type": "stream",
     "text": [
      "Epoch 45 cost: 0.21494541105088796\n"
     ]
    },
    {
     "name": "stdout",
     "output_type": "stream",
     "text": [
      "Epoch 46 cost: 0.2158555344223586\n"
     ]
    },
    {
     "name": "stdout",
     "output_type": "stream",
     "text": [
      "Epoch 47 cost: 0.21321240495659508\n"
     ]
    },
    {
     "name": "stdout",
     "output_type": "stream",
     "text": [
      "Epoch 48 cost: 0.2132205000730856\n"
     ]
    },
    {
     "name": "stdout",
     "output_type": "stream",
     "text": [
      "Epoch 49 cost: 0.21382338264185555\n"
     ]
    },
    {
     "name": "stdout",
     "output_type": "stream",
     "text": [
      "Epoch 50 cost: 0.21116787893456643\n"
     ]
    },
    {
     "name": "stdout",
     "output_type": "stream",
     "text": [
      "Epoch 51 cost: 0.21226622614166443\n"
     ]
    },
    {
     "name": "stdout",
     "output_type": "stream",
     "text": [
      "Epoch 52 cost: 0.21237410564416842\n"
     ]
    },
    {
     "name": "stdout",
     "output_type": "stream",
     "text": [
      "Epoch 53 cost: 0.21086654338895894\n"
     ]
    },
    {
     "name": "stdout",
     "output_type": "stream",
     "text": [
      "Epoch 54 cost: 0.21125876650926612\n"
     ]
    },
    {
     "name": "stdout",
     "output_type": "stream",
     "text": [
      "Epoch 55 cost: 0.20864737277791243\n"
     ]
    },
    {
     "name": "stdout",
     "output_type": "stream",
     "text": [
      "Epoch 56 cost: 0.20963192251222149\n"
     ]
    },
    {
     "name": "stdout",
     "output_type": "stream",
     "text": [
      "Epoch 57 cost: 0.20909122821257867\n"
     ]
    },
    {
     "name": "stdout",
     "output_type": "stream",
     "text": [
      "Epoch 58 cost: 0.20880883425748958\n"
     ]
    },
    {
     "name": "stdout",
     "output_type": "stream",
     "text": [
      "Epoch 59 cost: 0.20712074994065494\n"
     ]
    },
    {
     "name": "stdout",
     "output_type": "stream",
     "text": [
      "Epoch 60 cost: 0.20665000325084953\n"
     ]
    },
    {
     "name": "stdout",
     "output_type": "stream",
     "text": [
      "Epoch 61 cost: 0.20726058053937818\n"
     ]
    },
    {
     "name": "stdout",
     "output_type": "stream",
     "text": [
      "Epoch 62 cost: 0.20589215974748235\n"
     ]
    },
    {
     "name": "stdout",
     "output_type": "stream",
     "text": [
      "Epoch 63 cost: 0.20605829469178746\n"
     ]
    },
    {
     "name": "stdout",
     "output_type": "stream",
     "text": [
      "Epoch 64 cost: 0.2078959844280565\n"
     ]
    },
    {
     "name": "stdout",
     "output_type": "stream",
     "text": [
      "Epoch 65 cost: 0.2072142777796478\n"
     ]
    },
    {
     "name": "stdout",
     "output_type": "stream",
     "text": [
      "Epoch 66 cost: 0.2073125365256497\n"
     ]
    },
    {
     "name": "stdout",
     "output_type": "stream",
     "text": [
      "Epoch 67 cost: 0.2062583768722688\n"
     ]
    },
    {
     "name": "stdout",
     "output_type": "stream",
     "text": [
      "Epoch 68 cost: 0.2055221263052607\n"
     ]
    },
    {
     "name": "stdout",
     "output_type": "stream",
     "text": [
      "Epoch 69 cost: 0.20350498152080634\n"
     ]
    },
    {
     "name": "stdout",
     "output_type": "stream",
     "text": [
      "Epoch 70 cost: 0.20370705652773174\n"
     ]
    },
    {
     "name": "stdout",
     "output_type": "stream",
     "text": [
      "Epoch 71 cost: 0.2026938317777745\n"
     ]
    },
    {
     "name": "stdout",
     "output_type": "stream",
     "text": [
      "Epoch 72 cost: 0.20511664514239578\n"
     ]
    },
    {
     "name": "stdout",
     "output_type": "stream",
     "text": [
      "Epoch 73 cost: 0.20419870465416867\n"
     ]
    },
    {
     "name": "stdout",
     "output_type": "stream",
     "text": [
      "Epoch 74 cost: 0.2048645908915927\n"
     ]
    },
    {
     "name": "stdout",
     "output_type": "stream",
     "text": [
      "Epoch 75 cost: 0.2040961214751694\n"
     ]
    },
    {
     "name": "stdout",
     "output_type": "stream",
     "text": [
      "Epoch 76 cost: 0.20482995108611932\n"
     ]
    },
    {
     "name": "stdout",
     "output_type": "stream",
     "text": [
      "Epoch 77 cost: 0.20490170097971416\n"
     ]
    },
    {
     "name": "stdout",
     "output_type": "stream",
     "text": [
      "Epoch 78 cost: 0.2046360736999705\n"
     ]
    },
    {
     "name": "stdout",
     "output_type": "stream",
     "text": [
      "Epoch 79 cost: 0.203769875521819\n"
     ]
    },
    {
     "name": "stdout",
     "output_type": "stream",
     "text": [
      "Epoch 80 cost: 0.2029476435140041\n"
     ]
    },
    {
     "name": "stdout",
     "output_type": "stream",
     "text": [
      "Epoch 81 cost: 0.20408953094374693\n"
     ]
    },
    {
     "name": "stdout",
     "output_type": "stream",
     "text": [
      "Epoch 82 cost: 0.2019255648879694\n"
     ]
    },
    {
     "name": "stdout",
     "output_type": "stream",
     "text": [
      "Epoch 83 cost: 0.19894577317715242\n"
     ]
    },
    {
     "name": "stdout",
     "output_type": "stream",
     "text": [
      "Epoch 84 cost: 0.19636589611554336\n"
     ]
    },
    {
     "name": "stdout",
     "output_type": "stream",
     "text": [
      "Epoch 85 cost: 0.19770524978980847\n"
     ]
    },
    {
     "name": "stdout",
     "output_type": "stream",
     "text": [
      "Epoch 86 cost: 0.19869155525656826\n"
     ]
    },
    {
     "name": "stdout",
     "output_type": "stream",
     "text": [
      "Epoch 87 cost: 0.19871295464187722\n"
     ]
    },
    {
     "name": "stdout",
     "output_type": "stream",
     "text": [
      "Epoch 88 cost: 0.19450664737047266\n"
     ]
    },
    {
     "name": "stdout",
     "output_type": "stream",
     "text": [
      "Epoch 89 cost: 0.19551134251520377\n"
     ]
    },
    {
     "name": "stdout",
     "output_type": "stream",
     "text": [
      "Epoch 90 cost: 0.19455728190269791\n"
     ]
    },
    {
     "name": "stdout",
     "output_type": "stream",
     "text": [
      "Epoch 91 cost: 0.19430119983240765\n"
     ]
    },
    {
     "name": "stdout",
     "output_type": "stream",
     "text": [
      "Epoch 92 cost: 0.19341111617758827\n"
     ]
    },
    {
     "name": "stdout",
     "output_type": "stream",
     "text": [
      "Epoch 93 cost: 0.19202987556903536\n"
     ]
    },
    {
     "name": "stdout",
     "output_type": "stream",
     "text": [
      "Epoch 94 cost: 0.1912755750596924\n"
     ]
    },
    {
     "name": "stdout",
     "output_type": "stream",
     "text": [
      "Epoch 95 cost: 0.19211147498061065\n"
     ]
    },
    {
     "name": "stdout",
     "output_type": "stream",
     "text": [
      "Epoch 96 cost: 0.1924100016747844\n"
     ]
    },
    {
     "name": "stdout",
     "output_type": "stream",
     "text": [
      "Epoch 97 cost: 0.1924939467607659\n"
     ]
    },
    {
     "name": "stdout",
     "output_type": "stream",
     "text": [
      "Epoch 98 cost: 0.1929261453715548\n"
     ]
    },
    {
     "name": "stdout",
     "output_type": "stream",
     "text": [
      "Epoch 99 cost: 0.1909257805085616\n"
     ]
    },
    {
     "name": "stdout",
     "output_type": "stream",
     "text": [
      "Epoch 100 cost: 0.19208831334017268\n"
     ]
    },
    {
     "name": "stdout",
     "output_type": "stream",
     "text": [
      "Epoch 101 cost: 0.19134991500742185\n"
     ]
    },
    {
     "name": "stdout",
     "output_type": "stream",
     "text": [
      "Epoch 102 cost: 0.1915712518629114\n"
     ]
    },
    {
     "name": "stdout",
     "output_type": "stream",
     "text": [
      "Epoch 103 cost: 0.193331295230408\n"
     ]
    },
    {
     "name": "stdout",
     "output_type": "stream",
     "text": [
      "Epoch 104 cost: 0.1904361079078739\n"
     ]
    },
    {
     "name": "stdout",
     "output_type": "stream",
     "text": [
      "Epoch 105 cost: 0.19098910475935763\n"
     ]
    },
    {
     "name": "stdout",
     "output_type": "stream",
     "text": [
      "Epoch 106 cost: 0.1893534540984162\n"
     ]
    },
    {
     "name": "stdout",
     "output_type": "stream",
     "text": [
      "Epoch 107 cost: 0.19031026468639572\n"
     ]
    },
    {
     "name": "stdout",
     "output_type": "stream",
     "text": [
      "Epoch 108 cost: 0.1909647044313284\n"
     ]
    },
    {
     "name": "stdout",
     "output_type": "stream",
     "text": [
      "Epoch 109 cost: 0.1884400847564221\n"
     ]
    },
    {
     "name": "stdout",
     "output_type": "stream",
     "text": [
      "Epoch 110 cost: 0.18888351060041547\n"
     ]
    },
    {
     "name": "stdout",
     "output_type": "stream",
     "text": [
      "Epoch 111 cost: 0.18786536067763676\n"
     ]
    },
    {
     "name": "stdout",
     "output_type": "stream",
     "text": [
      "Epoch 112 cost: 0.18733523597135807\n"
     ]
    },
    {
     "name": "stdout",
     "output_type": "stream",
     "text": [
      "Epoch 113 cost: 0.1872481709420469\n"
     ]
    },
    {
     "name": "stdout",
     "output_type": "stream",
     "text": [
      "Epoch 114 cost: 0.1855897297736128\n"
     ]
    },
    {
     "name": "stdout",
     "output_type": "stream",
     "text": [
      "Epoch 115 cost: 0.18747065748339223\n"
     ]
    },
    {
     "name": "stdout",
     "output_type": "stream",
     "text": [
      "Epoch 116 cost: 0.18627497079760172\n"
     ]
    },
    {
     "name": "stdout",
     "output_type": "stream",
     "text": [
      "Epoch 117 cost: 0.1861116724017518\n"
     ]
    },
    {
     "name": "stdout",
     "output_type": "stream",
     "text": [
      "Epoch 118 cost: 0.18552444524062708\n"
     ]
    },
    {
     "name": "stdout",
     "output_type": "stream",
     "text": [
      "Epoch 119 cost: 0.18582566772533995\n"
     ]
    },
    {
     "name": "stdout",
     "output_type": "stream",
     "text": [
      "Epoch 120 cost: 0.18486180106150024\n"
     ]
    },
    {
     "name": "stdout",
     "output_type": "stream",
     "text": [
      "Epoch 121 cost: 0.1854974427474953\n"
     ]
    },
    {
     "name": "stdout",
     "output_type": "stream",
     "text": [
      "Epoch 122 cost: 0.18451786311595111\n"
     ]
    },
    {
     "name": "stdout",
     "output_type": "stream",
     "text": [
      "Epoch 123 cost: 0.18479699376826855\n"
     ]
    },
    {
     "name": "stdout",
     "output_type": "stream",
     "text": [
      "Epoch 124 cost: 0.18440074107344004\n"
     ]
    },
    {
     "name": "stdout",
     "output_type": "stream",
     "text": [
      "Epoch 125 cost: 0.18444152017610194\n"
     ]
    },
    {
     "name": "stdout",
     "output_type": "stream",
     "text": [
      "Epoch 126 cost: 0.18416858632449384\n"
     ]
    },
    {
     "name": "stdout",
     "output_type": "stream",
     "text": [
      "Epoch 127 cost: 0.18541343775044422\n"
     ]
    },
    {
     "name": "stdout",
     "output_type": "stream",
     "text": [
      "Epoch 128 cost: 0.18537329022434382\n"
     ]
    },
    {
     "name": "stdout",
     "output_type": "stream",
     "text": [
      "Epoch 129 cost: 0.18485264854746702\n"
     ]
    },
    {
     "name": "stdout",
     "output_type": "stream",
     "text": [
      "Epoch 130 cost: 0.18581641296477036\n"
     ]
    },
    {
     "name": "stdout",
     "output_type": "stream",
     "text": [
      "Epoch 131 cost: 0.18709743439938284\n"
     ]
    },
    {
     "name": "stdout",
     "output_type": "stream",
     "text": [
      "Epoch 132 cost: 0.1833255970633353\n"
     ]
    },
    {
     "name": "stdout",
     "output_type": "stream",
     "text": [
      "Epoch 133 cost: 0.18591209486307983\n"
     ]
    },
    {
     "name": "stdout",
     "output_type": "stream",
     "text": [
      "Epoch 134 cost: 0.1841284413362034\n"
     ]
    },
    {
     "name": "stdout",
     "output_type": "stream",
     "text": [
      "Epoch 135 cost: 0.18410253368782822\n"
     ]
    },
    {
     "name": "stdout",
     "output_type": "stream",
     "text": [
      "Epoch 136 cost: 0.18329664566133094\n"
     ]
    },
    {
     "name": "stdout",
     "output_type": "stream",
     "text": [
      "Epoch 137 cost: 0.18295724451068404\n"
     ]
    },
    {
     "name": "stdout",
     "output_type": "stream",
     "text": [
      "Epoch 138 cost: 0.18266870956202297\n"
     ]
    },
    {
     "name": "stdout",
     "output_type": "stream",
     "text": [
      "Epoch 139 cost: 0.1832241877470115\n"
     ]
    },
    {
     "name": "stdout",
     "output_type": "stream",
     "text": [
      "Epoch 140 cost: 0.1837315047784844\n"
     ]
    },
    {
     "name": "stdout",
     "output_type": "stream",
     "text": [
      "Epoch 141 cost: 0.18581106261016628\n"
     ]
    },
    {
     "name": "stdout",
     "output_type": "stream",
     "text": [
      "Epoch 142 cost: 0.18271963532382765\n"
     ]
    },
    {
     "name": "stdout",
     "output_type": "stream",
     "text": [
      "Epoch 143 cost: 0.1804031893602744\n"
     ]
    },
    {
     "name": "stdout",
     "output_type": "stream",
     "text": [
      "Epoch 144 cost: 0.18150004421113436\n"
     ]
    },
    {
     "name": "stdout",
     "output_type": "stream",
     "text": [
      "Epoch 145 cost: 0.18120904835256188\n"
     ]
    },
    {
     "name": "stdout",
     "output_type": "stream",
     "text": [
      "Epoch 146 cost: 0.18182791224341563\n"
     ]
    },
    {
     "name": "stdout",
     "output_type": "stream",
     "text": [
      "Epoch 147 cost: 0.18377483300649633\n"
     ]
    },
    {
     "name": "stdout",
     "output_type": "stream",
     "text": [
      "Epoch 148 cost: 0.18251909962912327\n"
     ]
    },
    {
     "name": "stdout",
     "output_type": "stream",
     "text": [
      "Epoch 149 cost: 0.18264456940797744\n"
     ]
    },
    {
     "name": "stdout",
     "output_type": "stream",
     "text": [
      "Epoch 150 cost: 0.182407833742714\n"
     ]
    },
    {
     "name": "stdout",
     "output_type": "stream",
     "text": [
      "Epoch 151 cost: 0.18398443546368395\n"
     ]
    },
    {
     "name": "stdout",
     "output_type": "stream",
     "text": [
      "Epoch 152 cost: 0.18455580857206197\n"
     ]
    },
    {
     "name": "stdout",
     "output_type": "stream",
     "text": [
      "Epoch 153 cost: 0.18504455132091674\n"
     ]
    },
    {
     "name": "stdout",
     "output_type": "stream",
     "text": [
      "Epoch 154 cost: 0.18562349297280706\n"
     ]
    },
    {
     "name": "stdout",
     "output_type": "stream",
     "text": [
      "Epoch 155 cost: 0.1869938851849019\n"
     ]
    },
    {
     "name": "stdout",
     "output_type": "stream",
     "text": [
      "Epoch 156 cost: 0.18280252816944648\n"
     ]
    },
    {
     "name": "stdout",
     "output_type": "stream",
     "text": [
      "Epoch 157 cost: 0.18170205952861557\n"
     ]
    },
    {
     "name": "stdout",
     "output_type": "stream",
     "text": [
      "Epoch 158 cost: 0.18206262951212923\n"
     ]
    },
    {
     "name": "stdout",
     "output_type": "stream",
     "text": [
      "Epoch 159 cost: 0.1816311966865848\n"
     ]
    },
    {
     "name": "stdout",
     "output_type": "stream",
     "text": [
      "Epoch 160 cost: 0.18024653270268792\n"
     ]
    },
    {
     "name": "stdout",
     "output_type": "stream",
     "text": [
      "Epoch 161 cost: 0.17916636272805744\n"
     ]
    },
    {
     "name": "stdout",
     "output_type": "stream",
     "text": [
      "Epoch 162 cost: 0.17907311662906997\n"
     ]
    },
    {
     "name": "stdout",
     "output_type": "stream",
     "text": [
      "Epoch 163 cost: 0.17875723979815333\n"
     ]
    },
    {
     "name": "stdout",
     "output_type": "stream",
     "text": [
      "Epoch 164 cost: 0.18165064596304645\n"
     ]
    },
    {
     "name": "stdout",
     "output_type": "stream",
     "text": [
      "Epoch 165 cost: 0.17680043973425857\n"
     ]
    },
    {
     "name": "stdout",
     "output_type": "stream",
     "text": [
      "Epoch 166 cost: 0.17979810691440926\n"
     ]
    },
    {
     "name": "stdout",
     "output_type": "stream",
     "text": [
      "Epoch 167 cost: 0.18062540814420994\n"
     ]
    },
    {
     "name": "stdout",
     "output_type": "stream",
     "text": [
      "Epoch 168 cost: 0.18060877765289204\n"
     ]
    },
    {
     "name": "stdout",
     "output_type": "stream",
     "text": [
      "Epoch 169 cost: 0.17841947294309612\n"
     ]
    },
    {
     "name": "stdout",
     "output_type": "stream",
     "text": [
      "Epoch 170 cost: 0.17700259541395788\n"
     ]
    },
    {
     "name": "stdout",
     "output_type": "stream",
     "text": [
      "Epoch 171 cost: 0.17815280301749736\n"
     ]
    },
    {
     "name": "stdout",
     "output_type": "stream",
     "text": [
      "Epoch 172 cost: 0.1765548203722869\n"
     ]
    },
    {
     "name": "stdout",
     "output_type": "stream",
     "text": [
      "Epoch 173 cost: 0.1772013861949229\n"
     ]
    },
    {
     "name": "stdout",
     "output_type": "stream",
     "text": [
      "Epoch 174 cost: 0.17697450255225985\n"
     ]
    },
    {
     "name": "stdout",
     "output_type": "stream",
     "text": [
      "Epoch 175 cost: 0.17703006681351158\n"
     ]
    },
    {
     "name": "stdout",
     "output_type": "stream",
     "text": [
      "Epoch 176 cost: 0.17798633987890533\n"
     ]
    },
    {
     "name": "stdout",
     "output_type": "stream",
     "text": [
      "Epoch 177 cost: 0.17764568261604713\n"
     ]
    },
    {
     "name": "stdout",
     "output_type": "stream",
     "text": [
      "Epoch 178 cost: 0.1759347357970741\n"
     ]
    },
    {
     "name": "stdout",
     "output_type": "stream",
     "text": [
      "Epoch 179 cost: 0.1758544258081401\n"
     ]
    },
    {
     "name": "stdout",
     "output_type": "stream",
     "text": [
      "Epoch 180 cost: 0.17901789980481722\n"
     ]
    },
    {
     "name": "stdout",
     "output_type": "stream",
     "text": [
      "Epoch 181 cost: 0.17636202601137627\n"
     ]
    },
    {
     "name": "stdout",
     "output_type": "stream",
     "text": [
      "Epoch 182 cost: 0.17591853985307168\n"
     ]
    },
    {
     "name": "stdout",
     "output_type": "stream",
     "text": [
      "Epoch 183 cost: 0.1744796068022172\n"
     ]
    },
    {
     "name": "stdout",
     "output_type": "stream",
     "text": [
      "Epoch 184 cost: 0.17527955256209035\n"
     ]
    },
    {
     "name": "stdout",
     "output_type": "stream",
     "text": [
      "Epoch 185 cost: 0.1742229995380685\n"
     ]
    },
    {
     "name": "stdout",
     "output_type": "stream",
     "text": [
      "Epoch 186 cost: 0.17494027259246797\n"
     ]
    },
    {
     "name": "stdout",
     "output_type": "stream",
     "text": [
      "Epoch 187 cost: 0.17510815145681982\n"
     ]
    },
    {
     "name": "stdout",
     "output_type": "stream",
     "text": [
      "Epoch 188 cost: 0.1749976926316799\n"
     ]
    },
    {
     "name": "stdout",
     "output_type": "stream",
     "text": [
      "Epoch 189 cost: 0.17578532165115873\n"
     ]
    },
    {
     "name": "stdout",
     "output_type": "stream",
     "text": [
      "Epoch 190 cost: 0.1741444520869432\n"
     ]
    },
    {
     "name": "stdout",
     "output_type": "stream",
     "text": [
      "Epoch 191 cost: 0.17390313813743452\n"
     ]
    },
    {
     "name": "stdout",
     "output_type": "stream",
     "text": [
      "Epoch 192 cost: 0.17574857402358066\n"
     ]
    },
    {
     "name": "stdout",
     "output_type": "stream",
     "text": [
      "Epoch 193 cost: 0.1746722485577132\n"
     ]
    },
    {
     "name": "stdout",
     "output_type": "stream",
     "text": [
      "Epoch 194 cost: 0.17389318312392701\n"
     ]
    },
    {
     "name": "stdout",
     "output_type": "stream",
     "text": [
      "Epoch 195 cost: 0.1746141863405315\n"
     ]
    },
    {
     "name": "stdout",
     "output_type": "stream",
     "text": [
      "Epoch 196 cost: 0.17562232303109407\n"
     ]
    },
    {
     "name": "stdout",
     "output_type": "stream",
     "text": [
      "Epoch 197 cost: 0.17355188116052567\n"
     ]
    },
    {
     "name": "stdout",
     "output_type": "stream",
     "text": [
      "Epoch 198 cost: 0.1739700765813822\n"
     ]
    },
    {
     "name": "stdout",
     "output_type": "stream",
     "text": [
      "Epoch 199 cost: 0.17547906493785528\n"
     ]
    },
    {
     "name": "stdout",
     "output_type": "stream",
     "text": [
      "Epoch 200 cost: 0.17560608110418477\n"
     ]
    },
    {
     "name": "stdout",
     "output_type": "stream",
     "text": [
      "Epoch 201 cost: 0.17356338133000093\n"
     ]
    },
    {
     "name": "stdout",
     "output_type": "stream",
     "text": [
      "Epoch 202 cost: 0.17333443237253873\n"
     ]
    },
    {
     "name": "stdout",
     "output_type": "stream",
     "text": [
      "Epoch 203 cost: 0.17418839963934937\n"
     ]
    },
    {
     "name": "stdout",
     "output_type": "stream",
     "text": [
      "Epoch 204 cost: 0.17250369679326563\n"
     ]
    },
    {
     "name": "stdout",
     "output_type": "stream",
     "text": [
      "Epoch 205 cost: 0.17381219484504026\n"
     ]
    },
    {
     "name": "stdout",
     "output_type": "stream",
     "text": [
      "Epoch 206 cost: 0.1717651027177328\n"
     ]
    },
    {
     "name": "stdout",
     "output_type": "stream",
     "text": [
      "Epoch 207 cost: 0.17313966827037133\n"
     ]
    },
    {
     "name": "stdout",
     "output_type": "stream",
     "text": [
      "Epoch 208 cost: 0.1718589414404865\n"
     ]
    },
    {
     "name": "stdout",
     "output_type": "stream",
     "text": [
      "Epoch 209 cost: 0.17209036005015046\n"
     ]
    },
    {
     "name": "stdout",
     "output_type": "stream",
     "text": [
      "Epoch 210 cost: 0.172441598862135\n"
     ]
    },
    {
     "name": "stdout",
     "output_type": "stream",
     "text": [
      "Epoch 211 cost: 0.17392979725717614\n"
     ]
    },
    {
     "name": "stdout",
     "output_type": "stream",
     "text": [
      "Epoch 212 cost: 0.17451743568405967\n"
     ]
    },
    {
     "name": "stdout",
     "output_type": "stream",
     "text": [
      "Epoch 213 cost: 0.17459742616585255\n"
     ]
    },
    {
     "name": "stdout",
     "output_type": "stream",
     "text": [
      "Epoch 214 cost: 0.1747937357776529\n"
     ]
    },
    {
     "name": "stdout",
     "output_type": "stream",
     "text": [
      "Epoch 215 cost: 0.17444027425582084\n"
     ]
    },
    {
     "name": "stdout",
     "output_type": "stream",
     "text": [
      "Epoch 216 cost: 0.1730727138141827\n"
     ]
    },
    {
     "name": "stdout",
     "output_type": "stream",
     "text": [
      "Epoch 217 cost: 0.17169394272524247\n"
     ]
    },
    {
     "name": "stdout",
     "output_type": "stream",
     "text": [
      "Epoch 218 cost: 0.1701646428000238\n"
     ]
    },
    {
     "name": "stdout",
     "output_type": "stream",
     "text": [
      "Epoch 219 cost: 0.16965217751326825\n"
     ]
    },
    {
     "name": "stdout",
     "output_type": "stream",
     "text": [
      "Epoch 220 cost: 0.17121839014937618\n"
     ]
    },
    {
     "name": "stdout",
     "output_type": "stream",
     "text": [
      "Epoch 221 cost: 0.1695063070330494\n"
     ]
    },
    {
     "name": "stdout",
     "output_type": "stream",
     "text": [
      "Epoch 222 cost: 0.17062991474340589\n"
     ]
    },
    {
     "name": "stdout",
     "output_type": "stream",
     "text": [
      "Epoch 223 cost: 0.17151338624595183\n"
     ]
    },
    {
     "name": "stdout",
     "output_type": "stream",
     "text": [
      "Epoch 224 cost: 0.17076585049050996\n"
     ]
    },
    {
     "name": "stdout",
     "output_type": "stream",
     "text": [
      "Epoch 225 cost: 0.16944959093224024\n"
     ]
    },
    {
     "name": "stdout",
     "output_type": "stream",
     "text": [
      "Epoch 226 cost: 0.17003741511718123\n"
     ]
    },
    {
     "name": "stdout",
     "output_type": "stream",
     "text": [
      "Epoch 227 cost: 0.1711129994032125\n"
     ]
    },
    {
     "name": "stdout",
     "output_type": "stream",
     "text": [
      "Epoch 228 cost: 0.16915472900357073\n"
     ]
    },
    {
     "name": "stdout",
     "output_type": "stream",
     "text": [
      "Epoch 229 cost: 0.17621461773164054\n"
     ]
    },
    {
     "name": "stdout",
     "output_type": "stream",
     "text": [
      "Epoch 230 cost: 0.17315085562238916\n"
     ]
    },
    {
     "name": "stdout",
     "output_type": "stream",
     "text": [
      "Epoch 231 cost: 0.1727215308909919\n"
     ]
    },
    {
     "name": "stdout",
     "output_type": "stream",
     "text": [
      "Epoch 232 cost: 0.17737396083492663\n"
     ]
    },
    {
     "name": "stdout",
     "output_type": "stream",
     "text": [
      "Epoch 233 cost: 0.17915737163037196\n"
     ]
    },
    {
     "name": "stdout",
     "output_type": "stream",
     "text": [
      "Epoch 234 cost: 0.17007389224197514\n"
     ]
    },
    {
     "name": "stdout",
     "output_type": "stream",
     "text": [
      "Epoch 235 cost: 0.1688028274865508\n"
     ]
    },
    {
     "name": "stdout",
     "output_type": "stream",
     "text": [
      "Epoch 236 cost: 0.16710003008026356\n"
     ]
    },
    {
     "name": "stdout",
     "output_type": "stream",
     "text": [
      "Epoch 237 cost: 0.16893258556750698\n"
     ]
    },
    {
     "name": "stdout",
     "output_type": "stream",
     "text": [
      "Epoch 238 cost: 0.16783727860033723\n"
     ]
    },
    {
     "name": "stdout",
     "output_type": "stream",
     "text": [
      "Epoch 239 cost: 0.16974315624456743\n"
     ]
    },
    {
     "name": "stdout",
     "output_type": "stream",
     "text": [
      "Epoch 240 cost: 0.16727620644854974\n"
     ]
    },
    {
     "name": "stdout",
     "output_type": "stream",
     "text": [
      "Epoch 241 cost: 0.16778910601281213\n"
     ]
    },
    {
     "name": "stdout",
     "output_type": "stream",
     "text": [
      "Epoch 242 cost: 0.1666122147199983\n"
     ]
    },
    {
     "name": "stdout",
     "output_type": "stream",
     "text": [
      "Epoch 243 cost: 0.1691020564149681\n"
     ]
    },
    {
     "name": "stdout",
     "output_type": "stream",
     "text": [
      "Epoch 244 cost: 0.16771650385441325\n"
     ]
    },
    {
     "name": "stdout",
     "output_type": "stream",
     "text": [
      "Epoch 245 cost: 0.1654669020761593\n"
     ]
    },
    {
     "name": "stdout",
     "output_type": "stream",
     "text": [
      "Epoch 246 cost: 0.16710183640772017\n"
     ]
    },
    {
     "name": "stdout",
     "output_type": "stream",
     "text": [
      "Epoch 247 cost: 0.16880111289746605\n"
     ]
    },
    {
     "name": "stdout",
     "output_type": "stream",
     "text": [
      "Epoch 248 cost: 0.1672587488766912\n"
     ]
    },
    {
     "name": "stdout",
     "output_type": "stream",
     "text": [
      "Epoch 249 cost: 0.16824714487255008\n"
     ]
    },
    {
     "name": "stdout",
     "output_type": "stream",
     "text": [
      "Epoch 250 cost: 0.16837470229505075\n"
     ]
    },
    {
     "name": "stdout",
     "output_type": "stream",
     "text": [
      "Epoch 251 cost: 0.1682471354246369\n"
     ]
    },
    {
     "name": "stdout",
     "output_type": "stream",
     "text": [
      "Epoch 252 cost: 0.1658936379402975\n"
     ]
    },
    {
     "name": "stdout",
     "output_type": "stream",
     "text": [
      "Epoch 253 cost: 0.1672720220686724\n"
     ]
    },
    {
     "name": "stdout",
     "output_type": "stream",
     "text": [
      "Epoch 254 cost: 0.16744976934608993\n"
     ]
    },
    {
     "name": "stdout",
     "output_type": "stream",
     "text": [
      "Epoch 255 cost: 0.16831165965334122\n"
     ]
    },
    {
     "name": "stdout",
     "output_type": "stream",
     "text": [
      "Epoch 256 cost: 0.16663370261187266\n"
     ]
    },
    {
     "name": "stdout",
     "output_type": "stream",
     "text": [
      "Epoch 257 cost: 0.16715079777625613\n"
     ]
    },
    {
     "name": "stdout",
     "output_type": "stream",
     "text": [
      "Epoch 258 cost: 0.17025152392920073\n"
     ]
    },
    {
     "name": "stdout",
     "output_type": "stream",
     "text": [
      "Epoch 259 cost: 0.171197235925273\n"
     ]
    },
    {
     "name": "stdout",
     "output_type": "stream",
     "text": [
      "Epoch 260 cost: 0.16686732480730665\n"
     ]
    },
    {
     "name": "stdout",
     "output_type": "stream",
     "text": [
      "Epoch 261 cost: 0.1672944110445062\n"
     ]
    },
    {
     "name": "stdout",
     "output_type": "stream",
     "text": [
      "Epoch 262 cost: 0.16633465937953146\n"
     ]
    },
    {
     "name": "stdout",
     "output_type": "stream",
     "text": [
      "Epoch 263 cost: 0.16575188653301692\n"
     ]
    },
    {
     "name": "stdout",
     "output_type": "stream",
     "text": [
      "Epoch 264 cost: 0.16510421729978642\n"
     ]
    },
    {
     "name": "stdout",
     "output_type": "stream",
     "text": [
      "Epoch 265 cost: 0.16576357584755047\n"
     ]
    },
    {
     "name": "stdout",
     "output_type": "stream",
     "text": [
      "Epoch 266 cost: 0.16555968561068435\n"
     ]
    },
    {
     "name": "stdout",
     "output_type": "stream",
     "text": [
      "Epoch 267 cost: 0.1645965191025093\n"
     ]
    },
    {
     "name": "stdout",
     "output_type": "stream",
     "text": [
      "Epoch 268 cost: 0.16520739734723494\n"
     ]
    },
    {
     "name": "stdout",
     "output_type": "stream",
     "text": [
      "Epoch 269 cost: 0.16539900251454867\n"
     ]
    },
    {
     "name": "stdout",
     "output_type": "stream",
     "text": [
      "Epoch 270 cost: 0.16473775201367424\n"
     ]
    },
    {
     "name": "stdout",
     "output_type": "stream",
     "text": [
      "Epoch 271 cost: 0.16488972292929782\n"
     ]
    },
    {
     "name": "stdout",
     "output_type": "stream",
     "text": [
      "Epoch 272 cost: 0.16679822377508918\n"
     ]
    },
    {
     "name": "stdout",
     "output_type": "stream",
     "text": [
      "Epoch 273 cost: 0.16604684801606212\n"
     ]
    },
    {
     "name": "stdout",
     "output_type": "stream",
     "text": [
      "Epoch 274 cost: 0.16978150022725322\n"
     ]
    },
    {
     "name": "stdout",
     "output_type": "stream",
     "text": [
      "Epoch 275 cost: 0.1710721545042264\n"
     ]
    },
    {
     "name": "stdout",
     "output_type": "stream",
     "text": [
      "Epoch 276 cost: 0.16853825961740915\n"
     ]
    },
    {
     "name": "stdout",
     "output_type": "stream",
     "text": [
      "Epoch 277 cost: 0.16634846101692483\n"
     ]
    },
    {
     "name": "stdout",
     "output_type": "stream",
     "text": [
      "Epoch 278 cost: 0.16690102713682067\n"
     ]
    },
    {
     "name": "stdout",
     "output_type": "stream",
     "text": [
      "Epoch 279 cost: 0.16583670975882506\n"
     ]
    },
    {
     "name": "stdout",
     "output_type": "stream",
     "text": [
      "Epoch 280 cost: 0.16527554475483722\n"
     ]
    },
    {
     "name": "stdout",
     "output_type": "stream",
     "text": [
      "Epoch 281 cost: 0.16436639257002977\n"
     ]
    },
    {
     "name": "stdout",
     "output_type": "stream",
     "text": [
      "Epoch 282 cost: 0.16504737764615734\n"
     ]
    },
    {
     "name": "stdout",
     "output_type": "stream",
     "text": [
      "Epoch 283 cost: 0.1659101109262258\n"
     ]
    },
    {
     "name": "stdout",
     "output_type": "stream",
     "text": [
      "Epoch 284 cost: 0.1631901751306925\n"
     ]
    },
    {
     "name": "stdout",
     "output_type": "stream",
     "text": [
      "Epoch 285 cost: 0.16525961090569413\n"
     ]
    },
    {
     "name": "stdout",
     "output_type": "stream",
     "text": [
      "Epoch 286 cost: 0.16594285875303383\n"
     ]
    },
    {
     "name": "stdout",
     "output_type": "stream",
     "text": [
      "Epoch 287 cost: 0.16492761050780683\n"
     ]
    },
    {
     "name": "stdout",
     "output_type": "stream",
     "text": [
      "Epoch 288 cost: 0.1643758000330065\n"
     ]
    },
    {
     "name": "stdout",
     "output_type": "stream",
     "text": [
      "Epoch 289 cost: 0.16750042952124994\n"
     ]
    },
    {
     "name": "stdout",
     "output_type": "stream",
     "text": [
      "Epoch 290 cost: 0.16534964423597023\n"
     ]
    },
    {
     "name": "stdout",
     "output_type": "stream",
     "text": [
      "Epoch 291 cost: 0.1713943534614934\n"
     ]
    },
    {
     "name": "stdout",
     "output_type": "stream",
     "text": [
      "Epoch 292 cost: 0.1658857224624634\n"
     ]
    },
    {
     "name": "stdout",
     "output_type": "stream",
     "text": [
      "Epoch 293 cost: 0.1624758482315927\n"
     ]
    },
    {
     "name": "stdout",
     "output_type": "stream",
     "text": [
      "Epoch 294 cost: 0.1624987006162563\n"
     ]
    },
    {
     "name": "stdout",
     "output_type": "stream",
     "text": [
      "Epoch 295 cost: 0.16327677096558102\n"
     ]
    },
    {
     "name": "stdout",
     "output_type": "stream",
     "text": [
      "Epoch 296 cost: 0.1688910466795461\n"
     ]
    },
    {
     "name": "stdout",
     "output_type": "stream",
     "text": [
      "Epoch 297 cost: 0.1632622964412485\n"
     ]
    },
    {
     "name": "stdout",
     "output_type": "stream",
     "text": [
      "Epoch 298 cost: 0.16319421881309001\n"
     ]
    },
    {
     "name": "stdout",
     "output_type": "stream",
     "text": [
      "Epoch 299 cost: 0.16046420523073807\n"
     ]
    },
    {
     "name": "stdout",
     "output_type": "stream",
     "text": [
      "Epoch 300 cost: 0.1615083036329974\n"
     ]
    },
    {
     "name": "stdout",
     "output_type": "stream",
     "text": [
      "Epoch 301 cost: 0.16343614145500182\n"
     ]
    },
    {
     "name": "stdout",
     "output_type": "stream",
     "text": [
      "Epoch 302 cost: 0.16356869738527086\n"
     ]
    },
    {
     "name": "stdout",
     "output_type": "stream",
     "text": [
      "Epoch 303 cost: 0.16341158641271375\n"
     ]
    },
    {
     "name": "stdout",
     "output_type": "stream",
     "text": [
      "Epoch 304 cost: 0.1633771720531167\n"
     ]
    },
    {
     "name": "stdout",
     "output_type": "stream",
     "text": [
      "Epoch 305 cost: 0.16252195322245205\n"
     ]
    },
    {
     "name": "stdout",
     "output_type": "stream",
     "text": [
      "Epoch 306 cost: 0.16213802887367892\n"
     ]
    },
    {
     "name": "stdout",
     "output_type": "stream",
     "text": [
      "Epoch 307 cost: 0.16426887610450783\n"
     ]
    },
    {
     "name": "stdout",
     "output_type": "stream",
     "text": [
      "Epoch 308 cost: 0.16112557196457342\n"
     ]
    },
    {
     "name": "stdout",
     "output_type": "stream",
     "text": [
      "Epoch 309 cost: 0.16192613257661773\n"
     ]
    },
    {
     "name": "stdout",
     "output_type": "stream",
     "text": [
      "Epoch 310 cost: 0.16120108324960397\n"
     ]
    },
    {
     "name": "stdout",
     "output_type": "stream",
     "text": [
      "Epoch 311 cost: 0.1637529166324287\n"
     ]
    },
    {
     "name": "stdout",
     "output_type": "stream",
     "text": [
      "Epoch 312 cost: 0.16364672902820057\n"
     ]
    },
    {
     "name": "stdout",
     "output_type": "stream",
     "text": [
      "Epoch 313 cost: 0.16271006184756195\n"
     ]
    },
    {
     "name": "stdout",
     "output_type": "stream",
     "text": [
      "Epoch 314 cost: 0.1623661098882214\n"
     ]
    },
    {
     "name": "stdout",
     "output_type": "stream",
     "text": [
      "Epoch 315 cost: 0.1605764672612761\n"
     ]
    },
    {
     "name": "stdout",
     "output_type": "stream",
     "text": [
      "Epoch 316 cost: 0.1615723043924238\n"
     ]
    },
    {
     "name": "stdout",
     "output_type": "stream",
     "text": [
      "Epoch 317 cost: 0.1627075589544729\n"
     ]
    },
    {
     "name": "stdout",
     "output_type": "stream",
     "text": [
      "Epoch 318 cost: 0.16022849790957214\n"
     ]
    },
    {
     "name": "stdout",
     "output_type": "stream",
     "text": [
      "Epoch 319 cost: 0.16009345460425617\n"
     ]
    },
    {
     "name": "stdout",
     "output_type": "stream",
     "text": [
      "Epoch 320 cost: 0.16126287572376904\n"
     ]
    },
    {
     "name": "stdout",
     "output_type": "stream",
     "text": [
      "Epoch 321 cost: 0.15921536180542228\n"
     ]
    },
    {
     "name": "stdout",
     "output_type": "stream",
     "text": [
      "Epoch 322 cost: 0.15973422869365503\n"
     ]
    },
    {
     "name": "stdout",
     "output_type": "stream",
     "text": [
      "Epoch 323 cost: 0.16130722885248794\n"
     ]
    },
    {
     "name": "stdout",
     "output_type": "stream",
     "text": [
      "Epoch 324 cost: 0.16154816398871155\n"
     ]
    },
    {
     "name": "stdout",
     "output_type": "stream",
     "text": [
      "Epoch 325 cost: 0.16030974361807923\n"
     ]
    },
    {
     "name": "stdout",
     "output_type": "stream",
     "text": [
      "Epoch 326 cost: 0.16264346434043142\n"
     ]
    },
    {
     "name": "stdout",
     "output_type": "stream",
     "text": [
      "Epoch 327 cost: 0.1609670455735931\n"
     ]
    },
    {
     "name": "stdout",
     "output_type": "stream",
     "text": [
      "Epoch 328 cost: 0.16350370516310653\n"
     ]
    },
    {
     "name": "stdout",
     "output_type": "stream",
     "text": [
      "Epoch 329 cost: 0.16267904841380007\n"
     ]
    },
    {
     "name": "stdout",
     "output_type": "stream",
     "text": [
      "Epoch 330 cost: 0.1646447582895896\n"
     ]
    },
    {
     "name": "stdout",
     "output_type": "stream",
     "text": [
      "Epoch 331 cost: 0.16676596173486932\n"
     ]
    },
    {
     "name": "stdout",
     "output_type": "stream",
     "text": [
      "Epoch 332 cost: 0.16091345706314422\n"
     ]
    },
    {
     "name": "stdout",
     "output_type": "stream",
     "text": [
      "Epoch 333 cost: 0.16042539797990427\n"
     ]
    },
    {
     "name": "stdout",
     "output_type": "stream",
     "text": [
      "Epoch 334 cost: 0.1603512382572626\n"
     ]
    },
    {
     "name": "stdout",
     "output_type": "stream",
     "text": [
      "Epoch 335 cost: 0.15891470189164592\n"
     ]
    },
    {
     "name": "stdout",
     "output_type": "stream",
     "text": [
      "Epoch 336 cost: 0.15924017556934528\n"
     ]
    },
    {
     "name": "stdout",
     "output_type": "stream",
     "text": [
      "Epoch 337 cost: 0.1587166745476525\n"
     ]
    },
    {
     "name": "stdout",
     "output_type": "stream",
     "text": [
      "Epoch 338 cost: 0.15866901509358075\n"
     ]
    },
    {
     "name": "stdout",
     "output_type": "stream",
     "text": [
      "Epoch 339 cost: 0.15875895790386693\n"
     ]
    },
    {
     "name": "stdout",
     "output_type": "stream",
     "text": [
      "Epoch 340 cost: 0.1621757814335995\n"
     ]
    },
    {
     "name": "stdout",
     "output_type": "stream",
     "text": [
      "Epoch 341 cost: 0.1630174107745425\n"
     ]
    },
    {
     "name": "stdout",
     "output_type": "stream",
     "text": [
      "Epoch 342 cost: 0.1621339336527239\n"
     ]
    },
    {
     "name": "stdout",
     "output_type": "stream",
     "text": [
      "Epoch 343 cost: 0.16302497952303738\n"
     ]
    },
    {
     "name": "stdout",
     "output_type": "stream",
     "text": [
      "Epoch 344 cost: 0.1582495109175447\n"
     ]
    },
    {
     "name": "stdout",
     "output_type": "stream",
     "text": [
      "Epoch 345 cost: 0.15832014141639125\n"
     ]
    },
    {
     "name": "stdout",
     "output_type": "stream",
     "text": [
      "Epoch 346 cost: 0.15978256229142887\n"
     ]
    },
    {
     "name": "stdout",
     "output_type": "stream",
     "text": [
      "Epoch 347 cost: 0.1591439876924619\n"
     ]
    },
    {
     "name": "stdout",
     "output_type": "stream",
     "text": [
      "Epoch 348 cost: 0.15928792812870854\n"
     ]
    },
    {
     "name": "stdout",
     "output_type": "stream",
     "text": [
      "Epoch 349 cost: 0.16281075350554747\n"
     ]
    },
    {
     "name": "stdout",
     "output_type": "stream",
     "text": [
      "Epoch 350 cost: 0.15961947899777815\n"
     ]
    },
    {
     "name": "stdout",
     "output_type": "stream",
     "text": [
      "Epoch 351 cost: 0.16061586989907334\n"
     ]
    },
    {
     "name": "stdout",
     "output_type": "stream",
     "text": [
      "Epoch 352 cost: 0.15924322090440557\n"
     ]
    },
    {
     "name": "stdout",
     "output_type": "stream",
     "text": [
      "Epoch 353 cost: 0.15788103465975337\n"
     ]
    },
    {
     "name": "stdout",
     "output_type": "stream",
     "text": [
      "Epoch 354 cost: 0.15884332626191364\n"
     ]
    },
    {
     "name": "stdout",
     "output_type": "stream",
     "text": [
      "Epoch 355 cost: 0.16029661305147383\n"
     ]
    },
    {
     "name": "stdout",
     "output_type": "stream",
     "text": [
      "Epoch 356 cost: 0.15858527236561112\n"
     ]
    },
    {
     "name": "stdout",
     "output_type": "stream",
     "text": [
      "Epoch 357 cost: 0.15862791177789906\n"
     ]
    },
    {
     "name": "stdout",
     "output_type": "stream",
     "text": [
      "Epoch 358 cost: 0.1596002525876701\n"
     ]
    },
    {
     "name": "stdout",
     "output_type": "stream",
     "text": [
      "Epoch 359 cost: 0.16011038863733146\n"
     ]
    },
    {
     "name": "stdout",
     "output_type": "stream",
     "text": [
      "Epoch 360 cost: 0.1606696905444342\n"
     ]
    },
    {
     "name": "stdout",
     "output_type": "stream",
     "text": [
      "Epoch 361 cost: 0.16141500068438563\n"
     ]
    },
    {
     "name": "stdout",
     "output_type": "stream",
     "text": [
      "Epoch 362 cost: 0.16135578954314758\n"
     ]
    },
    {
     "name": "stdout",
     "output_type": "stream",
     "text": [
      "Epoch 363 cost: 0.15945356526066026\n"
     ]
    },
    {
     "name": "stdout",
     "output_type": "stream",
     "text": [
      "Epoch 364 cost: 0.16013252703211017\n"
     ]
    },
    {
     "name": "stdout",
     "output_type": "stream",
     "text": [
      "Epoch 365 cost: 0.15985181873130738\n"
     ]
    },
    {
     "name": "stdout",
     "output_type": "stream",
     "text": [
      "Epoch 366 cost: 0.16040579164706575\n"
     ]
    },
    {
     "name": "stdout",
     "output_type": "stream",
     "text": [
      "Epoch 367 cost: 0.15989609074598693\n"
     ]
    },
    {
     "name": "stdout",
     "output_type": "stream",
     "text": [
      "Epoch 368 cost: 0.1586249625840266\n"
     ]
    },
    {
     "name": "stdout",
     "output_type": "stream",
     "text": [
      "Epoch 369 cost: 0.1598747111159821\n"
     ]
    },
    {
     "name": "stdout",
     "output_type": "stream",
     "text": [
      "Epoch 370 cost: 0.1599909838844405\n"
     ]
    },
    {
     "name": "stdout",
     "output_type": "stream",
     "text": [
      "Epoch 371 cost: 0.1605205593269405\n"
     ]
    },
    {
     "name": "stdout",
     "output_type": "stream",
     "text": [
      "Epoch 372 cost: 0.16294880149354707\n"
     ]
    },
    {
     "name": "stdout",
     "output_type": "stream",
     "text": [
      "Epoch 373 cost: 0.15614645820336223\n"
     ]
    },
    {
     "name": "stdout",
     "output_type": "stream",
     "text": [
      "Epoch 374 cost: 0.15771861302612172\n"
     ]
    },
    {
     "name": "stdout",
     "output_type": "stream",
     "text": [
      "Epoch 375 cost: 0.15938784158467784\n"
     ]
    },
    {
     "name": "stdout",
     "output_type": "stream",
     "text": [
      "Epoch 376 cost: 0.1568608851199693\n"
     ]
    },
    {
     "name": "stdout",
     "output_type": "stream",
     "text": [
      "Epoch 377 cost: 0.15897490900476202\n"
     ]
    },
    {
     "name": "stdout",
     "output_type": "stream",
     "text": [
      "Epoch 378 cost: 0.16034680069893698\n"
     ]
    },
    {
     "name": "stdout",
     "output_type": "stream",
     "text": [
      "Epoch 379 cost: 0.15807851048859428\n"
     ]
    },
    {
     "name": "stdout",
     "output_type": "stream",
     "text": [
      "Epoch 380 cost: 0.1607635472187265\n"
     ]
    },
    {
     "name": "stdout",
     "output_type": "stream",
     "text": [
      "Epoch 381 cost: 0.1631264828771855\n"
     ]
    },
    {
     "name": "stdout",
     "output_type": "stream",
     "text": [
      "Epoch 382 cost: 0.15703568513426452\n"
     ]
    },
    {
     "name": "stdout",
     "output_type": "stream",
     "text": [
      "Epoch 383 cost: 0.15633442446157525\n"
     ]
    },
    {
     "name": "stdout",
     "output_type": "stream",
     "text": [
      "Epoch 384 cost: 0.1557793311877236\n"
     ]
    },
    {
     "name": "stdout",
     "output_type": "stream",
     "text": [
      "Epoch 385 cost: 0.1564263999624271\n"
     ]
    },
    {
     "name": "stdout",
     "output_type": "stream",
     "text": [
      "Epoch 386 cost: 0.15663980976975592\n"
     ]
    },
    {
     "name": "stdout",
     "output_type": "stream",
     "text": [
      "Epoch 387 cost: 0.15631283827364326\n"
     ]
    },
    {
     "name": "stdout",
     "output_type": "stream",
     "text": [
      "Epoch 388 cost: 0.15784360721575327\n"
     ]
    },
    {
     "name": "stdout",
     "output_type": "stream",
     "text": [
      "Epoch 389 cost: 0.15680012946504557\n"
     ]
    },
    {
     "name": "stdout",
     "output_type": "stream",
     "text": [
      "Epoch 390 cost: 0.1560726141792596\n"
     ]
    },
    {
     "name": "stdout",
     "output_type": "stream",
     "text": [
      "Epoch 391 cost: 0.1562296248230152\n"
     ]
    },
    {
     "name": "stdout",
     "output_type": "stream",
     "text": [
      "Epoch 392 cost: 0.1580755758973336\n"
     ]
    },
    {
     "name": "stdout",
     "output_type": "stream",
     "text": [
      "Epoch 393 cost: 0.15603755371111985\n"
     ]
    },
    {
     "name": "stdout",
     "output_type": "stream",
     "text": [
      "Epoch 394 cost: 0.15837701502698925\n"
     ]
    },
    {
     "name": "stdout",
     "output_type": "stream",
     "text": [
      "Epoch 395 cost: 0.1561480238589413\n"
     ]
    },
    {
     "name": "stdout",
     "output_type": "stream",
     "text": [
      "Epoch 396 cost: 0.1546724522989445\n"
     ]
    },
    {
     "name": "stdout",
     "output_type": "stream",
     "text": [
      "Epoch 397 cost: 0.1545166980666955\n"
     ]
    },
    {
     "name": "stdout",
     "output_type": "stream",
     "text": [
      "Epoch 398 cost: 0.15483072272163864\n"
     ]
    },
    {
     "name": "stdout",
     "output_type": "stream",
     "text": [
      "Epoch 399 cost: 0.15464057224393438\n"
     ]
    },
    {
     "name": "stdout",
     "output_type": "stream",
     "text": [
      "Epoch 400 cost: 0.15503459621324683\n"
     ]
    },
    {
     "name": "stdout",
     "output_type": "stream",
     "text": [
      "Epoch 401 cost: 0.15543744476430335\n"
     ]
    },
    {
     "name": "stdout",
     "output_type": "stream",
     "text": [
      "Epoch 402 cost: 0.15640471331346534\n"
     ]
    },
    {
     "name": "stdout",
     "output_type": "stream",
     "text": [
      "Epoch 403 cost: 0.15661049198654\n"
     ]
    },
    {
     "name": "stdout",
     "output_type": "stream",
     "text": [
      "Epoch 404 cost: 0.15661642521828892\n"
     ]
    },
    {
     "name": "stdout",
     "output_type": "stream",
     "text": [
      "Epoch 405 cost: 0.15905718623144835\n"
     ]
    },
    {
     "name": "stdout",
     "output_type": "stream",
     "text": [
      "Epoch 406 cost: 0.1552896982254512\n"
     ]
    },
    {
     "name": "stdout",
     "output_type": "stream",
     "text": [
      "Epoch 407 cost: 0.1557126927578582\n"
     ]
    },
    {
     "name": "stdout",
     "output_type": "stream",
     "text": [
      "Epoch 408 cost: 0.1555832393675027\n"
     ]
    },
    {
     "name": "stdout",
     "output_type": "stream",
     "text": [
      "Epoch 409 cost: 0.1562573808289553\n"
     ]
    },
    {
     "name": "stdout",
     "output_type": "stream",
     "text": [
      "Epoch 410 cost: 0.15749966987163333\n"
     ]
    },
    {
     "name": "stdout",
     "output_type": "stream",
     "text": [
      "Epoch 411 cost: 0.15549023813749505\n"
     ]
    },
    {
     "name": "stdout",
     "output_type": "stream",
     "text": [
      "Epoch 412 cost: 0.15844974075766202\n"
     ]
    },
    {
     "name": "stdout",
     "output_type": "stream",
     "text": [
      "Epoch 413 cost: 0.15984112738982795\n"
     ]
    },
    {
     "name": "stdout",
     "output_type": "stream",
     "text": [
      "Epoch 414 cost: 0.1631838840660612\n"
     ]
    },
    {
     "name": "stdout",
     "output_type": "stream",
     "text": [
      "Epoch 415 cost: 0.16738875747689236\n"
     ]
    },
    {
     "name": "stdout",
     "output_type": "stream",
     "text": [
      "Epoch 416 cost: 0.15867072153093073\n"
     ]
    },
    {
     "name": "stdout",
     "output_type": "stream",
     "text": [
      "Epoch 417 cost: 0.15827837998994226\n"
     ]
    },
    {
     "name": "stdout",
     "output_type": "stream",
     "text": [
      "Epoch 418 cost: 0.1593149167993153\n"
     ]
    },
    {
     "name": "stdout",
     "output_type": "stream",
     "text": [
      "Epoch 419 cost: 0.15464031003079226\n"
     ]
    },
    {
     "name": "stdout",
     "output_type": "stream",
     "text": [
      "Epoch 420 cost: 0.1532504164668801\n"
     ]
    },
    {
     "name": "stdout",
     "output_type": "stream",
     "text": [
      "Epoch 421 cost: 0.15212253529049402\n"
     ]
    },
    {
     "name": "stdout",
     "output_type": "stream",
     "text": [
      "Epoch 422 cost: 0.15633771666420504\n"
     ]
    },
    {
     "name": "stdout",
     "output_type": "stream",
     "text": [
      "Epoch 423 cost: 0.1528574192703488\n"
     ]
    },
    {
     "name": "stdout",
     "output_type": "stream",
     "text": [
      "Epoch 424 cost: 0.15378838279501045\n"
     ]
    },
    {
     "name": "stdout",
     "output_type": "stream",
     "text": [
      "Epoch 425 cost: 0.15358641670986903\n"
     ]
    },
    {
     "name": "stdout",
     "output_type": "stream",
     "text": [
      "Epoch 426 cost: 0.1531574489306127\n"
     ]
    },
    {
     "name": "stdout",
     "output_type": "stream",
     "text": [
      "Epoch 427 cost: 0.1530154590017085\n"
     ]
    },
    {
     "name": "stdout",
     "output_type": "stream",
     "text": [
      "Epoch 428 cost: 0.152332978055596\n"
     ]
    },
    {
     "name": "stdout",
     "output_type": "stream",
     "text": [
      "Epoch 429 cost: 0.1554119909875017\n"
     ]
    },
    {
     "name": "stdout",
     "output_type": "stream",
     "text": [
      "Epoch 430 cost: 0.1532401596950549\n"
     ]
    },
    {
     "name": "stdout",
     "output_type": "stream",
     "text": [
      "Epoch 431 cost: 0.15246564297855064\n"
     ]
    },
    {
     "name": "stdout",
     "output_type": "stream",
     "text": [
      "Epoch 432 cost: 0.15447809364771486\n"
     ]
    },
    {
     "name": "stdout",
     "output_type": "stream",
     "text": [
      "Epoch 433 cost: 0.15292446892300351\n"
     ]
    },
    {
     "name": "stdout",
     "output_type": "stream",
     "text": [
      "Epoch 434 cost: 0.1533649240930732\n"
     ]
    },
    {
     "name": "stdout",
     "output_type": "stream",
     "text": [
      "Epoch 435 cost: 0.1541112826618956\n"
     ]
    },
    {
     "name": "stdout",
     "output_type": "stream",
     "text": [
      "Epoch 436 cost: 0.15111734644288716\n"
     ]
    },
    {
     "name": "stdout",
     "output_type": "stream",
     "text": [
      "Epoch 437 cost: 0.15060917846338776\n"
     ]
    },
    {
     "name": "stdout",
     "output_type": "stream",
     "text": [
      "Epoch 438 cost: 0.15168806066837942\n"
     ]
    },
    {
     "name": "stdout",
     "output_type": "stream",
     "text": [
      "Epoch 439 cost: 0.15220041102657664\n"
     ]
    },
    {
     "name": "stdout",
     "output_type": "stream",
     "text": [
      "Epoch 440 cost: 0.15223537388204425\n"
     ]
    },
    {
     "name": "stdout",
     "output_type": "stream",
     "text": [
      "Epoch 441 cost: 0.15149978163552139\n"
     ]
    },
    {
     "name": "stdout",
     "output_type": "stream",
     "text": [
      "Epoch 442 cost: 0.15307232898722586\n"
     ]
    },
    {
     "name": "stdout",
     "output_type": "stream",
     "text": [
      "Epoch 443 cost: 0.15111914497576173\n"
     ]
    },
    {
     "name": "stdout",
     "output_type": "stream",
     "text": [
      "Epoch 444 cost: 0.15234789893092499\n"
     ]
    },
    {
     "name": "stdout",
     "output_type": "stream",
     "text": [
      "Epoch 445 cost: 0.14920524019340287\n"
     ]
    },
    {
     "name": "stdout",
     "output_type": "stream",
     "text": [
      "Epoch 446 cost: 0.15419228468811988\n"
     ]
    },
    {
     "name": "stdout",
     "output_type": "stream",
     "text": [
      "Epoch 447 cost: 0.15482488770787556\n"
     ]
    },
    {
     "name": "stdout",
     "output_type": "stream",
     "text": [
      "Epoch 448 cost: 0.15212774988360914\n"
     ]
    },
    {
     "name": "stdout",
     "output_type": "stream",
     "text": [
      "Epoch 449 cost: 0.15298125027287218\n"
     ]
    },
    {
     "name": "stdout",
     "output_type": "stream",
     "text": [
      "Epoch 450 cost: 0.15195060585473705\n"
     ]
    },
    {
     "name": "stdout",
     "output_type": "stream",
     "text": [
      "Epoch 451 cost: 0.1529191192713964\n"
     ]
    },
    {
     "name": "stdout",
     "output_type": "stream",
     "text": [
      "Epoch 452 cost: 0.15453741586276223\n"
     ]
    },
    {
     "name": "stdout",
     "output_type": "stream",
     "text": [
      "Epoch 453 cost: 0.15250970552577175\n"
     ]
    },
    {
     "name": "stdout",
     "output_type": "stream",
     "text": [
      "Epoch 454 cost: 0.15134640975211777\n"
     ]
    },
    {
     "name": "stdout",
     "output_type": "stream",
     "text": [
      "Epoch 455 cost: 0.1546703223718681\n"
     ]
    },
    {
     "name": "stdout",
     "output_type": "stream",
     "text": [
      "Epoch 456 cost: 0.15723579313584676\n"
     ]
    },
    {
     "name": "stdout",
     "output_type": "stream",
     "text": [
      "Epoch 457 cost: 0.1523407402429787\n"
     ]
    },
    {
     "name": "stdout",
     "output_type": "stream",
     "text": [
      "Epoch 458 cost: 0.15078750831270002\n"
     ]
    },
    {
     "name": "stdout",
     "output_type": "stream",
     "text": [
      "Epoch 459 cost: 0.15112754314020246\n"
     ]
    },
    {
     "name": "stdout",
     "output_type": "stream",
     "text": [
      "Epoch 460 cost: 0.15037305074987423\n"
     ]
    },
    {
     "name": "stdout",
     "output_type": "stream",
     "text": [
      "Epoch 461 cost: 0.14990045405065933\n"
     ]
    },
    {
     "name": "stdout",
     "output_type": "stream",
     "text": [
      "Epoch 462 cost: 0.15071013874674102\n"
     ]
    },
    {
     "name": "stdout",
     "output_type": "stream",
     "text": [
      "Epoch 463 cost: 0.14981589944564816\n"
     ]
    },
    {
     "name": "stdout",
     "output_type": "stream",
     "text": [
      "Epoch 464 cost: 0.15198281411281878\n"
     ]
    },
    {
     "name": "stdout",
     "output_type": "stream",
     "text": [
      "Epoch 465 cost: 0.15424500429337448\n"
     ]
    },
    {
     "name": "stdout",
     "output_type": "stream",
     "text": [
      "Epoch 466 cost: 0.15053086947698896\n"
     ]
    },
    {
     "name": "stdout",
     "output_type": "stream",
     "text": [
      "Epoch 467 cost: 0.1510158058067968\n"
     ]
    },
    {
     "name": "stdout",
     "output_type": "stream",
     "text": [
      "Epoch 468 cost: 0.15133473012327378\n"
     ]
    },
    {
     "name": "stdout",
     "output_type": "stream",
     "text": [
      "Epoch 469 cost: 0.1513638425604837\n"
     ]
    },
    {
     "name": "stdout",
     "output_type": "stream",
     "text": [
      "Epoch 470 cost: 0.14938335864282962\n"
     ]
    },
    {
     "name": "stdout",
     "output_type": "stream",
     "text": [
      "Epoch 471 cost: 0.1500216967717995\n"
     ]
    },
    {
     "name": "stdout",
     "output_type": "stream",
     "text": [
      "Epoch 472 cost: 0.1486077446555211\n"
     ]
    },
    {
     "name": "stdout",
     "output_type": "stream",
     "text": [
      "Epoch 473 cost: 0.1478356255153686\n"
     ]
    },
    {
     "name": "stdout",
     "output_type": "stream",
     "text": [
      "Epoch 474 cost: 0.14922738291130339\n"
     ]
    },
    {
     "name": "stdout",
     "output_type": "stream",
     "text": [
      "Epoch 475 cost: 0.15233034434230186\n"
     ]
    },
    {
     "name": "stdout",
     "output_type": "stream",
     "text": [
      "Epoch 476 cost: 0.1499626281605644\n"
     ]
    },
    {
     "name": "stdout",
     "output_type": "stream",
     "text": [
      "Epoch 477 cost: 0.14857423094964944\n"
     ]
    },
    {
     "name": "stdout",
     "output_type": "stream",
     "text": [
      "Epoch 478 cost: 0.147094179061587\n"
     ]
    },
    {
     "name": "stdout",
     "output_type": "stream",
     "text": [
      "Epoch 479 cost: 0.14776296424313295\n"
     ]
    },
    {
     "name": "stdout",
     "output_type": "stream",
     "text": [
      "Epoch 480 cost: 0.15284118233160907\n"
     ]
    },
    {
     "name": "stdout",
     "output_type": "stream",
     "text": [
      "Epoch 481 cost: 0.14939514352786906\n"
     ]
    },
    {
     "name": "stdout",
     "output_type": "stream",
     "text": [
      "Epoch 482 cost: 0.14643354526501995\n"
     ]
    },
    {
     "name": "stdout",
     "output_type": "stream",
     "text": [
      "Epoch 483 cost: 0.1472667893050129\n"
     ]
    },
    {
     "name": "stdout",
     "output_type": "stream",
     "text": [
      "Epoch 484 cost: 0.14822937569597439\n"
     ]
    },
    {
     "name": "stdout",
     "output_type": "stream",
     "text": [
      "Epoch 485 cost: 0.14725443367922442\n"
     ]
    },
    {
     "name": "stdout",
     "output_type": "stream",
     "text": [
      "Epoch 486 cost: 0.1486301504537525\n"
     ]
    },
    {
     "name": "stdout",
     "output_type": "stream",
     "text": [
      "Epoch 487 cost: 0.1491509381826156\n"
     ]
    },
    {
     "name": "stdout",
     "output_type": "stream",
     "text": [
      "Epoch 488 cost: 0.14760208036728678\n"
     ]
    },
    {
     "name": "stdout",
     "output_type": "stream",
     "text": [
      "Epoch 489 cost: 0.147641868043134\n"
     ]
    },
    {
     "name": "stdout",
     "output_type": "stream",
     "text": [
      "Epoch 490 cost: 0.14802797288801334\n"
     ]
    },
    {
     "name": "stdout",
     "output_type": "stream",
     "text": [
      "Epoch 491 cost: 0.14795126105185533\n"
     ]
    },
    {
     "name": "stdout",
     "output_type": "stream",
     "text": [
      "Epoch 492 cost: 0.1491316588157875\n"
     ]
    },
    {
     "name": "stdout",
     "output_type": "stream",
     "text": [
      "Epoch 493 cost: 0.14790564436053977\n"
     ]
    },
    {
     "name": "stdout",
     "output_type": "stream",
     "text": [
      "Epoch 494 cost: 0.15002221626016357\n"
     ]
    },
    {
     "name": "stdout",
     "output_type": "stream",
     "text": [
      "Epoch 495 cost: 0.14847614604273485\n"
     ]
    },
    {
     "name": "stdout",
     "output_type": "stream",
     "text": [
      "Epoch 496 cost: 0.14808855833655502\n"
     ]
    },
    {
     "name": "stdout",
     "output_type": "stream",
     "text": [
      "Epoch 497 cost: 0.14740524745224654\n"
     ]
    },
    {
     "name": "stdout",
     "output_type": "stream",
     "text": [
      "Epoch 498 cost: 0.14867678659430814\n"
     ]
    },
    {
     "name": "stdout",
     "output_type": "stream",
     "text": [
      "Epoch 499 cost: 0.15120320920295327\n"
     ]
    },
    {
     "name": "stdout",
     "output_type": "stream",
     "text": [
      "Epoch 500 cost: 0.14889565257515752\n"
     ]
    },
    {
     "name": "stdout",
     "output_type": "stream",
     "text": [
      "Epoch 501 cost: 0.14751608567340105\n"
     ]
    },
    {
     "name": "stdout",
     "output_type": "stream",
     "text": [
      "Epoch 502 cost: 0.1490891299779835\n"
     ]
    },
    {
     "name": "stdout",
     "output_type": "stream",
     "text": [
      "Epoch 503 cost: 0.14746885011134328\n"
     ]
    },
    {
     "name": "stdout",
     "output_type": "stream",
     "text": [
      "Epoch 504 cost: 0.14665976586751703\n"
     ]
    },
    {
     "name": "stdout",
     "output_type": "stream",
     "text": [
      "Epoch 505 cost: 0.14672855857385853\n"
     ]
    },
    {
     "name": "stdout",
     "output_type": "stream",
     "text": [
      "Epoch 506 cost: 0.14790200903449857\n"
     ]
    },
    {
     "name": "stdout",
     "output_type": "stream",
     "text": [
      "Epoch 507 cost: 0.1483149159087139\n"
     ]
    },
    {
     "name": "stdout",
     "output_type": "stream",
     "text": [
      "Epoch 508 cost: 0.151724756594966\n"
     ]
    },
    {
     "name": "stdout",
     "output_type": "stream",
     "text": [
      "Epoch 509 cost: 0.14933461210036716\n"
     ]
    },
    {
     "name": "stdout",
     "output_type": "stream",
     "text": [
      "Epoch 510 cost: 0.14592766906288912\n"
     ]
    },
    {
     "name": "stdout",
     "output_type": "stream",
     "text": [
      "Epoch 511 cost: 0.1465666047006358\n"
     ]
    },
    {
     "name": "stdout",
     "output_type": "stream",
     "text": [
      "Epoch 512 cost: 0.14823256503520504\n"
     ]
    },
    {
     "name": "stdout",
     "output_type": "stream",
     "text": [
      "Epoch 513 cost: 0.15031954742318915\n"
     ]
    },
    {
     "name": "stdout",
     "output_type": "stream",
     "text": [
      "Epoch 514 cost: 0.14830837017644308\n"
     ]
    },
    {
     "name": "stdout",
     "output_type": "stream",
     "text": [
      "Epoch 515 cost: 0.14777102743596354\n"
     ]
    },
    {
     "name": "stdout",
     "output_type": "stream",
     "text": [
      "Epoch 516 cost: 0.1501834404974026\n"
     ]
    },
    {
     "name": "stdout",
     "output_type": "stream",
     "text": [
      "Epoch 517 cost: 0.14824487478807366\n"
     ]
    },
    {
     "name": "stdout",
     "output_type": "stream",
     "text": [
      "Epoch 518 cost: 0.14607838212882\n"
     ]
    },
    {
     "name": "stdout",
     "output_type": "stream",
     "text": [
      "Epoch 519 cost: 0.1442412153853968\n"
     ]
    },
    {
     "name": "stdout",
     "output_type": "stream",
     "text": [
      "Epoch 520 cost: 0.1444202420302094\n"
     ]
    },
    {
     "name": "stdout",
     "output_type": "stream",
     "text": [
      "Epoch 521 cost: 0.15204544353694396\n"
     ]
    },
    {
     "name": "stdout",
     "output_type": "stream",
     "text": [
      "Epoch 522 cost: 0.1468308124890737\n"
     ]
    },
    {
     "name": "stdout",
     "output_type": "stream",
     "text": [
      "Epoch 523 cost: 0.14506808175440478\n"
     ]
    },
    {
     "name": "stdout",
     "output_type": "stream",
     "text": [
      "Epoch 524 cost: 0.14692391519718895\n"
     ]
    },
    {
     "name": "stdout",
     "output_type": "stream",
     "text": [
      "Epoch 525 cost: 0.14374481795122807\n"
     ]
    },
    {
     "name": "stdout",
     "output_type": "stream",
     "text": [
      "Epoch 526 cost: 0.14569319404114336\n"
     ]
    },
    {
     "name": "stdout",
     "output_type": "stream",
     "text": [
      "Epoch 527 cost: 0.14660578965759932\n"
     ]
    },
    {
     "name": "stdout",
     "output_type": "stream",
     "text": [
      "Epoch 528 cost: 0.14609592837462354\n"
     ]
    },
    {
     "name": "stdout",
     "output_type": "stream",
     "text": [
      "Epoch 529 cost: 0.1452867569731143\n"
     ]
    },
    {
     "name": "stdout",
     "output_type": "stream",
     "text": [
      "Epoch 530 cost: 0.1440502644539884\n"
     ]
    },
    {
     "name": "stdout",
     "output_type": "stream",
     "text": [
      "Epoch 531 cost: 0.145821981117698\n"
     ]
    },
    {
     "name": "stdout",
     "output_type": "stream",
     "text": [
      "Epoch 532 cost: 0.14441320531280857\n"
     ]
    },
    {
     "name": "stdout",
     "output_type": "stream",
     "text": [
      "Epoch 533 cost: 0.14393577258841528\n"
     ]
    },
    {
     "name": "stdout",
     "output_type": "stream",
     "text": [
      "Epoch 534 cost: 0.14430298135391514\n"
     ]
    },
    {
     "name": "stdout",
     "output_type": "stream",
     "text": [
      "Epoch 535 cost: 0.14716591106041482\n"
     ]
    },
    {
     "name": "stdout",
     "output_type": "stream",
     "text": [
      "Epoch 536 cost: 0.14802676101584533\n"
     ]
    },
    {
     "name": "stdout",
     "output_type": "stream",
     "text": [
      "Epoch 537 cost: 0.14940968259180482\n"
     ]
    },
    {
     "name": "stdout",
     "output_type": "stream",
     "text": [
      "Epoch 538 cost: 0.14678337510137265\n"
     ]
    },
    {
     "name": "stdout",
     "output_type": "stream",
     "text": [
      "Epoch 539 cost: 0.15212512538426057\n"
     ]
    },
    {
     "name": "stdout",
     "output_type": "stream",
     "text": [
      "Epoch 540 cost: 0.14824657107087277\n"
     ]
    },
    {
     "name": "stdout",
     "output_type": "stream",
     "text": [
      "Epoch 541 cost: 0.1449891579865422\n"
     ]
    },
    {
     "name": "stdout",
     "output_type": "stream",
     "text": [
      "Epoch 542 cost: 0.14523712235490446\n"
     ]
    },
    {
     "name": "stdout",
     "output_type": "stream",
     "text": [
      "Epoch 543 cost: 0.1425163346236238\n"
     ]
    },
    {
     "name": "stdout",
     "output_type": "stream",
     "text": [
      "Epoch 544 cost: 0.14294521449576855\n"
     ]
    },
    {
     "name": "stdout",
     "output_type": "stream",
     "text": [
      "Epoch 545 cost: 0.14356050964376993\n"
     ]
    },
    {
     "name": "stdout",
     "output_type": "stream",
     "text": [
      "Epoch 546 cost: 0.14328104348621923\n"
     ]
    },
    {
     "name": "stdout",
     "output_type": "stream",
     "text": [
      "Epoch 547 cost: 0.14355644468626025\n"
     ]
    },
    {
     "name": "stdout",
     "output_type": "stream",
     "text": [
      "Epoch 548 cost: 0.1430841754293344\n"
     ]
    },
    {
     "name": "stdout",
     "output_type": "stream",
     "text": [
      "Epoch 549 cost: 0.14358180882445173\n"
     ]
    },
    {
     "name": "stdout",
     "output_type": "stream",
     "text": [
      "Epoch 550 cost: 0.14550028590312464\n"
     ]
    },
    {
     "name": "stdout",
     "output_type": "stream",
     "text": [
      "Epoch 551 cost: 0.1431513622061192\n"
     ]
    },
    {
     "name": "stdout",
     "output_type": "stream",
     "text": [
      "Epoch 552 cost: 0.14246543308634066\n"
     ]
    },
    {
     "name": "stdout",
     "output_type": "stream",
     "text": [
      "Epoch 553 cost: 0.14690498391275691\n"
     ]
    },
    {
     "name": "stdout",
     "output_type": "stream",
     "text": [
      "Epoch 554 cost: 0.1436252190689205\n"
     ]
    },
    {
     "name": "stdout",
     "output_type": "stream",
     "text": [
      "Epoch 555 cost: 0.14347830444382811\n"
     ]
    },
    {
     "name": "stdout",
     "output_type": "stream",
     "text": [
      "Epoch 556 cost: 0.13923022693798717\n"
     ]
    },
    {
     "name": "stdout",
     "output_type": "stream",
     "text": [
      "Epoch 557 cost: 0.1424771223863579\n"
     ]
    },
    {
     "name": "stdout",
     "output_type": "stream",
     "text": [
      "Epoch 558 cost: 0.14161487106432263\n"
     ]
    },
    {
     "name": "stdout",
     "output_type": "stream",
     "text": [
      "Epoch 559 cost: 0.14206961862378217\n"
     ]
    },
    {
     "name": "stdout",
     "output_type": "stream",
     "text": [
      "Epoch 560 cost: 0.14343116157136976\n"
     ]
    },
    {
     "name": "stdout",
     "output_type": "stream",
     "text": [
      "Epoch 561 cost: 0.14192813335093613\n"
     ]
    },
    {
     "name": "stdout",
     "output_type": "stream",
     "text": [
      "Epoch 562 cost: 0.14229335014735056\n"
     ]
    },
    {
     "name": "stdout",
     "output_type": "stream",
     "text": [
      "Epoch 563 cost: 0.14340042986663507\n"
     ]
    },
    {
     "name": "stdout",
     "output_type": "stream",
     "text": [
      "Epoch 564 cost: 0.1448444134458022\n"
     ]
    },
    {
     "name": "stdout",
     "output_type": "stream",
     "text": [
      "Epoch 565 cost: 0.1431757142029108\n"
     ]
    },
    {
     "name": "stdout",
     "output_type": "stream",
     "text": [
      "Epoch 566 cost: 0.14520330596185774\n"
     ]
    },
    {
     "name": "stdout",
     "output_type": "stream",
     "text": [
      "Epoch 567 cost: 0.14702314311363196\n"
     ]
    },
    {
     "name": "stdout",
     "output_type": "stream",
     "text": [
      "Epoch 568 cost: 0.14037518516244268\n"
     ]
    },
    {
     "name": "stdout",
     "output_type": "stream",
     "text": [
      "Epoch 569 cost: 0.1402870296684443\n"
     ]
    },
    {
     "name": "stdout",
     "output_type": "stream",
     "text": [
      "Epoch 570 cost: 0.14193860421408594\n"
     ]
    },
    {
     "name": "stdout",
     "output_type": "stream",
     "text": [
      "Epoch 571 cost: 0.14111456340229425\n"
     ]
    },
    {
     "name": "stdout",
     "output_type": "stream",
     "text": [
      "Epoch 572 cost: 0.1404618282907889\n"
     ]
    },
    {
     "name": "stdout",
     "output_type": "stream",
     "text": [
      "Epoch 573 cost: 0.1430784651892294\n"
     ]
    },
    {
     "name": "stdout",
     "output_type": "stream",
     "text": [
      "Epoch 574 cost: 0.14381435494203684\n"
     ]
    },
    {
     "name": "stdout",
     "output_type": "stream",
     "text": [
      "Epoch 575 cost: 0.14263095811081622\n"
     ]
    },
    {
     "name": "stdout",
     "output_type": "stream",
     "text": [
      "Epoch 576 cost: 0.14187642179910762\n"
     ]
    },
    {
     "name": "stdout",
     "output_type": "stream",
     "text": [
      "Epoch 577 cost: 0.13952085376708317\n"
     ]
    },
    {
     "name": "stdout",
     "output_type": "stream",
     "text": [
      "Epoch 578 cost: 0.14274802576805\n"
     ]
    },
    {
     "name": "stdout",
     "output_type": "stream",
     "text": [
      "Epoch 579 cost: 0.14250677009663495\n"
     ]
    },
    {
     "name": "stdout",
     "output_type": "stream",
     "text": [
      "Epoch 580 cost: 0.14175074265136903\n"
     ]
    },
    {
     "name": "stdout",
     "output_type": "stream",
     "text": [
      "Epoch 581 cost: 0.14125349484409902\n"
     ]
    },
    {
     "name": "stdout",
     "output_type": "stream",
     "text": [
      "Epoch 582 cost: 0.13970436941905662\n"
     ]
    },
    {
     "name": "stdout",
     "output_type": "stream",
     "text": [
      "Epoch 583 cost: 0.1402062754792806\n"
     ]
    },
    {
     "name": "stdout",
     "output_type": "stream",
     "text": [
      "Epoch 584 cost: 0.14006148137839744\n"
     ]
    },
    {
     "name": "stdout",
     "output_type": "stream",
     "text": [
      "Epoch 585 cost: 0.14079529435983065\n"
     ]
    },
    {
     "name": "stdout",
     "output_type": "stream",
     "text": [
      "Epoch 586 cost: 0.1427996838792103\n"
     ]
    },
    {
     "name": "stdout",
     "output_type": "stream",
     "text": [
      "Epoch 587 cost: 0.1431048291675595\n"
     ]
    },
    {
     "name": "stdout",
     "output_type": "stream",
     "text": [
      "Epoch 588 cost: 0.14221379530983227\n"
     ]
    },
    {
     "name": "stdout",
     "output_type": "stream",
     "text": [
      "Epoch 589 cost: 0.14384957224228997\n"
     ]
    },
    {
     "name": "stdout",
     "output_type": "stream",
     "text": [
      "Epoch 590 cost: 0.1425593925291045\n"
     ]
    },
    {
     "name": "stdout",
     "output_type": "stream",
     "text": [
      "Epoch 591 cost: 0.14207660240796066\n"
     ]
    },
    {
     "name": "stdout",
     "output_type": "stream",
     "text": [
      "Epoch 592 cost: 0.1449050987128732\n"
     ]
    },
    {
     "name": "stdout",
     "output_type": "stream",
     "text": [
      "Epoch 593 cost: 0.14101161436170043\n"
     ]
    },
    {
     "name": "stdout",
     "output_type": "stream",
     "text": [
      "Epoch 594 cost: 0.1407626955259398\n"
     ]
    },
    {
     "name": "stdout",
     "output_type": "stream",
     "text": [
      "Epoch 595 cost: 0.14053896122767776\n"
     ]
    },
    {
     "name": "stdout",
     "output_type": "stream",
     "text": [
      "Epoch 596 cost: 0.14320878507746776\n"
     ]
    },
    {
     "name": "stdout",
     "output_type": "stream",
     "text": [
      "Epoch 597 cost: 0.14117045934893463\n"
     ]
    },
    {
     "name": "stdout",
     "output_type": "stream",
     "text": [
      "Epoch 598 cost: 0.14153643005415853\n"
     ]
    },
    {
     "name": "stdout",
     "output_type": "stream",
     "text": [
      "Epoch 599 cost: 0.1412519018380514\n"
     ]
    },
    {
     "name": "stdout",
     "output_type": "stream",
     "text": [
      "Epoch 600 cost: 0.14327461665359603\n"
     ]
    },
    {
     "name": "stdout",
     "output_type": "stream",
     "text": [
      "Epoch 601 cost: 0.14103110088274884\n"
     ]
    },
    {
     "name": "stdout",
     "output_type": "stream",
     "text": [
      "Epoch 602 cost: 0.14029866846155684\n"
     ]
    },
    {
     "name": "stdout",
     "output_type": "stream",
     "text": [
      "Epoch 603 cost: 0.13996133772437133\n"
     ]
    },
    {
     "name": "stdout",
     "output_type": "stream",
     "text": [
      "Epoch 604 cost: 0.14244358316972988\n"
     ]
    },
    {
     "name": "stdout",
     "output_type": "stream",
     "text": [
      "Epoch 605 cost: 0.14295865491060872\n"
     ]
    },
    {
     "name": "stdout",
     "output_type": "stream",
     "text": [
      "Epoch 606 cost: 0.14413401147044036\n"
     ]
    },
    {
     "name": "stdout",
     "output_type": "stream",
     "text": [
      "Epoch 607 cost: 0.14479543473866327\n"
     ]
    },
    {
     "name": "stdout",
     "output_type": "stream",
     "text": [
      "Epoch 608 cost: 0.13961522906920248\n"
     ]
    },
    {
     "name": "stdout",
     "output_type": "stream",
     "text": [
      "Epoch 609 cost: 0.14549712395525158\n"
     ]
    },
    {
     "name": "stdout",
     "output_type": "stream",
     "text": [
      "Epoch 610 cost: 0.14654647357505626\n"
     ]
    },
    {
     "name": "stdout",
     "output_type": "stream",
     "text": [
      "Epoch 611 cost: 0.1398600102387018\n"
     ]
    },
    {
     "name": "stdout",
     "output_type": "stream",
     "text": [
      "Epoch 612 cost: 0.1373477730954267\n"
     ]
    },
    {
     "name": "stdout",
     "output_type": "stream",
     "text": [
      "Epoch 613 cost: 0.13749437971591102\n"
     ]
    },
    {
     "name": "stdout",
     "output_type": "stream",
     "text": [
      "Epoch 614 cost: 0.13731109716040235\n"
     ]
    },
    {
     "name": "stdout",
     "output_type": "stream",
     "text": [
      "Epoch 615 cost: 0.14011780644051758\n"
     ]
    },
    {
     "name": "stdout",
     "output_type": "stream",
     "text": [
      "Epoch 616 cost: 0.1383501382927071\n"
     ]
    },
    {
     "name": "stdout",
     "output_type": "stream",
     "text": [
      "Epoch 617 cost: 0.1392783824807479\n"
     ]
    },
    {
     "name": "stdout",
     "output_type": "stream",
     "text": [
      "Epoch 618 cost: 0.13802175288852492\n"
     ]
    },
    {
     "name": "stdout",
     "output_type": "stream",
     "text": [
      "Epoch 619 cost: 0.13781133282166172\n"
     ]
    },
    {
     "name": "stdout",
     "output_type": "stream",
     "text": [
      "Epoch 620 cost: 0.13668060354022354\n"
     ]
    },
    {
     "name": "stdout",
     "output_type": "stream",
     "text": [
      "Epoch 621 cost: 0.13726357104183784\n"
     ]
    },
    {
     "name": "stdout",
     "output_type": "stream",
     "text": [
      "Epoch 622 cost: 0.13712254848903546\n"
     ]
    },
    {
     "name": "stdout",
     "output_type": "stream",
     "text": [
      "Epoch 623 cost: 0.13749207276003456\n"
     ]
    },
    {
     "name": "stdout",
     "output_type": "stream",
     "text": [
      "Epoch 624 cost: 0.13860295840285805\n"
     ]
    },
    {
     "name": "stdout",
     "output_type": "stream",
     "text": [
      "Epoch 625 cost: 0.14620034219513445\n"
     ]
    },
    {
     "name": "stdout",
     "output_type": "stream",
     "text": [
      "Epoch 626 cost: 0.14085788908557928\n"
     ]
    },
    {
     "name": "stdout",
     "output_type": "stream",
     "text": [
      "Epoch 627 cost: 0.14386292227618344\n"
     ]
    },
    {
     "name": "stdout",
     "output_type": "stream",
     "text": [
      "Epoch 628 cost: 0.14106651711461163\n"
     ]
    },
    {
     "name": "stdout",
     "output_type": "stream",
     "text": [
      "Epoch 629 cost: 0.1344098421445979\n"
     ]
    },
    {
     "name": "stdout",
     "output_type": "stream",
     "text": [
      "Epoch 630 cost: 0.1369299155488582\n"
     ]
    },
    {
     "name": "stdout",
     "output_type": "stream",
     "text": [
      "Epoch 631 cost: 0.1375014665746737\n"
     ]
    },
    {
     "name": "stdout",
     "output_type": "stream",
     "text": [
      "Epoch 632 cost: 0.1356807340204503\n"
     ]
    },
    {
     "name": "stdout",
     "output_type": "stream",
     "text": [
      "Epoch 633 cost: 0.13682821580281723\n"
     ]
    },
    {
     "name": "stdout",
     "output_type": "stream",
     "text": [
      "Epoch 634 cost: 0.13479253462843593\n"
     ]
    },
    {
     "name": "stdout",
     "output_type": "stream",
     "text": [
      "Epoch 635 cost: 0.14025043249959498\n"
     ]
    },
    {
     "name": "stdout",
     "output_type": "stream",
     "text": [
      "Epoch 636 cost: 0.13517346418273535\n"
     ]
    },
    {
     "name": "stdout",
     "output_type": "stream",
     "text": [
      "Epoch 637 cost: 0.13707304922777594\n"
     ]
    },
    {
     "name": "stdout",
     "output_type": "stream",
     "text": [
      "Epoch 638 cost: 0.13514182313625253\n"
     ]
    },
    {
     "name": "stdout",
     "output_type": "stream",
     "text": [
      "Epoch 639 cost: 0.13519995408288202\n"
     ]
    },
    {
     "name": "stdout",
     "output_type": "stream",
     "text": [
      "Epoch 640 cost: 0.13498894420550986\n"
     ]
    },
    {
     "name": "stdout",
     "output_type": "stream",
     "text": [
      "Epoch 641 cost: 0.13579719151482614\n"
     ]
    },
    {
     "name": "stdout",
     "output_type": "stream",
     "text": [
      "Epoch 642 cost: 0.13566633032699874\n"
     ]
    },
    {
     "name": "stdout",
     "output_type": "stream",
     "text": [
      "Epoch 643 cost: 0.1348960217667962\n"
     ]
    },
    {
     "name": "stdout",
     "output_type": "stream",
     "text": [
      "Epoch 644 cost: 0.13882403888928416\n"
     ]
    },
    {
     "name": "stdout",
     "output_type": "stream",
     "text": [
      "Epoch 645 cost: 0.13348009488993232\n"
     ]
    },
    {
     "name": "stdout",
     "output_type": "stream",
     "text": [
      "Epoch 646 cost: 0.13320984521043885\n"
     ]
    },
    {
     "name": "stdout",
     "output_type": "stream",
     "text": [
      "Epoch 647 cost: 0.13107961460843584\n"
     ]
    },
    {
     "name": "stdout",
     "output_type": "stream",
     "text": [
      "Epoch 648 cost: 0.13525363953891154\n"
     ]
    },
    {
     "name": "stdout",
     "output_type": "stream",
     "text": [
      "Epoch 649 cost: 0.13675013970486224\n"
     ]
    },
    {
     "name": "stdout",
     "output_type": "stream",
     "text": [
      "Epoch 650 cost: 0.13828677459441177\n"
     ]
    },
    {
     "name": "stdout",
     "output_type": "stream",
     "text": [
      "Epoch 651 cost: 0.13344185799537378\n"
     ]
    },
    {
     "name": "stdout",
     "output_type": "stream",
     "text": [
      "Epoch 652 cost: 0.13947590034405935\n"
     ]
    },
    {
     "name": "stdout",
     "output_type": "stream",
     "text": [
      "Epoch 653 cost: 0.13404735437506204\n"
     ]
    },
    {
     "name": "stdout",
     "output_type": "stream",
     "text": [
      "Epoch 654 cost: 0.13822876293951128\n"
     ]
    },
    {
     "name": "stdout",
     "output_type": "stream",
     "text": [
      "Epoch 655 cost: 0.14062632923493082\n"
     ]
    },
    {
     "name": "stdout",
     "output_type": "stream",
     "text": [
      "Epoch 656 cost: 0.1335777082871445\n"
     ]
    },
    {
     "name": "stdout",
     "output_type": "stream",
     "text": [
      "Epoch 657 cost: 0.13154932529635383\n"
     ]
    },
    {
     "name": "stdout",
     "output_type": "stream",
     "text": [
      "Epoch 658 cost: 0.13299262000665105\n"
     ]
    },
    {
     "name": "stdout",
     "output_type": "stream",
     "text": [
      "Epoch 659 cost: 0.13297592654397888\n"
     ]
    },
    {
     "name": "stdout",
     "output_type": "stream",
     "text": [
      "Epoch 660 cost: 0.13550300095018258\n"
     ]
    },
    {
     "name": "stdout",
     "output_type": "stream",
     "text": [
      "Epoch 661 cost: 0.13789894024341967\n"
     ]
    },
    {
     "name": "stdout",
     "output_type": "stream",
     "text": [
      "Epoch 662 cost: 0.13395492451778448\n"
     ]
    },
    {
     "name": "stdout",
     "output_type": "stream",
     "text": [
      "Epoch 663 cost: 0.13309891264500268\n"
     ]
    },
    {
     "name": "stdout",
     "output_type": "stream",
     "text": [
      "Epoch 664 cost: 0.13354216438019267\n"
     ]
    },
    {
     "name": "stdout",
     "output_type": "stream",
     "text": [
      "Epoch 665 cost: 0.1346931320801504\n"
     ]
    },
    {
     "name": "stdout",
     "output_type": "stream",
     "text": [
      "Epoch 666 cost: 0.1356624538932457\n"
     ]
    },
    {
     "name": "stdout",
     "output_type": "stream",
     "text": [
      "Epoch 667 cost: 0.1366818336949723\n"
     ]
    },
    {
     "name": "stdout",
     "output_type": "stream",
     "text": [
      "Epoch 668 cost: 0.13257706899079538\n"
     ]
    },
    {
     "name": "stdout",
     "output_type": "stream",
     "text": [
      "Epoch 669 cost: 0.13385167224061423\n"
     ]
    },
    {
     "name": "stdout",
     "output_type": "stream",
     "text": [
      "Epoch 670 cost: 0.13500398686437073\n"
     ]
    },
    {
     "name": "stdout",
     "output_type": "stream",
     "text": [
      "Epoch 671 cost: 0.13476244699455667\n"
     ]
    },
    {
     "name": "stdout",
     "output_type": "stream",
     "text": [
      "Epoch 672 cost: 0.13185560704271196\n"
     ]
    },
    {
     "name": "stdout",
     "output_type": "stream",
     "text": [
      "Epoch 673 cost: 0.13563889124046338\n"
     ]
    },
    {
     "name": "stdout",
     "output_type": "stream",
     "text": [
      "Epoch 674 cost: 0.13737933510772782\n"
     ]
    },
    {
     "name": "stdout",
     "output_type": "stream",
     "text": [
      "Epoch 675 cost: 0.13991148332062545\n"
     ]
    },
    {
     "name": "stdout",
     "output_type": "stream",
     "text": [
      "Epoch 676 cost: 0.14185402836108668\n"
     ]
    },
    {
     "name": "stdout",
     "output_type": "stream",
     "text": [
      "Epoch 677 cost: 0.14218853429298114\n"
     ]
    },
    {
     "name": "stdout",
     "output_type": "stream",
     "text": [
      "Epoch 678 cost: 0.14030191942637368\n"
     ]
    },
    {
     "name": "stdout",
     "output_type": "stream",
     "text": [
      "Epoch 679 cost: 0.1337555331004207\n"
     ]
    },
    {
     "name": "stdout",
     "output_type": "stream",
     "text": [
      "Epoch 680 cost: 0.1328295287621945\n"
     ]
    },
    {
     "name": "stdout",
     "output_type": "stream",
     "text": [
      "Epoch 681 cost: 0.1344545011724518\n"
     ]
    },
    {
     "name": "stdout",
     "output_type": "stream",
     "text": [
      "Epoch 682 cost: 0.13149550637382879\n"
     ]
    },
    {
     "name": "stdout",
     "output_type": "stream",
     "text": [
      "Epoch 683 cost: 0.13393782900604065\n"
     ]
    },
    {
     "name": "stdout",
     "output_type": "stream",
     "text": [
      "Epoch 684 cost: 0.13615036102326847\n"
     ]
    },
    {
     "name": "stdout",
     "output_type": "stream",
     "text": [
      "Epoch 685 cost: 0.13871656786480055\n"
     ]
    },
    {
     "name": "stdout",
     "output_type": "stream",
     "text": [
      "Epoch 686 cost: 0.1376016289975207\n"
     ]
    },
    {
     "name": "stdout",
     "output_type": "stream",
     "text": [
      "Epoch 687 cost: 0.13757547186755847\n"
     ]
    },
    {
     "name": "stdout",
     "output_type": "stream",
     "text": [
      "Epoch 688 cost: 0.13951721984995\n"
     ]
    },
    {
     "name": "stdout",
     "output_type": "stream",
     "text": [
      "Epoch 689 cost: 0.1348281438209122\n"
     ]
    },
    {
     "name": "stdout",
     "output_type": "stream",
     "text": [
      "Epoch 690 cost: 0.13938875779277635\n"
     ]
    },
    {
     "name": "stdout",
     "output_type": "stream",
     "text": [
      "Epoch 691 cost: 0.1373422610171862\n"
     ]
    },
    {
     "name": "stdout",
     "output_type": "stream",
     "text": [
      "Epoch 692 cost: 0.13047513539699337\n"
     ]
    },
    {
     "name": "stdout",
     "output_type": "stream",
     "text": [
      "Epoch 693 cost: 0.13425590134098153\n"
     ]
    },
    {
     "name": "stdout",
     "output_type": "stream",
     "text": [
      "Epoch 694 cost: 0.13094032510686193\n"
     ]
    },
    {
     "name": "stdout",
     "output_type": "stream",
     "text": [
      "Epoch 695 cost: 0.13296980255886975\n"
     ]
    },
    {
     "name": "stdout",
     "output_type": "stream",
     "text": [
      "Epoch 696 cost: 0.130937959351498\n"
     ]
    },
    {
     "name": "stdout",
     "output_type": "stream",
     "text": [
      "Epoch 697 cost: 0.13020235848160353\n"
     ]
    },
    {
     "name": "stdout",
     "output_type": "stream",
     "text": [
      "Epoch 698 cost: 0.13192503113833473\n"
     ]
    },
    {
     "name": "stdout",
     "output_type": "stream",
     "text": [
      "Epoch 699 cost: 0.1296262522958289\n"
     ]
    },
    {
     "name": "stdout",
     "output_type": "stream",
     "text": [
      "Epoch 700 cost: 0.1301539800649622\n"
     ]
    },
    {
     "name": "stdout",
     "output_type": "stream",
     "text": [
      "Epoch 701 cost: 0.13095889676914033\n"
     ]
    },
    {
     "name": "stdout",
     "output_type": "stream",
     "text": [
      "Epoch 702 cost: 0.13086604465368337\n"
     ]
    },
    {
     "name": "stdout",
     "output_type": "stream",
     "text": [
      "Epoch 703 cost: 0.13217105851444086\n"
     ]
    },
    {
     "name": "stdout",
     "output_type": "stream",
     "text": [
      "Epoch 704 cost: 0.1310916052918338\n"
     ]
    },
    {
     "name": "stdout",
     "output_type": "stream",
     "text": [
      "Epoch 705 cost: 0.13035841268192586\n"
     ]
    },
    {
     "name": "stdout",
     "output_type": "stream",
     "text": [
      "Epoch 706 cost: 0.13233821562022\n"
     ]
    },
    {
     "name": "stdout",
     "output_type": "stream",
     "text": [
      "Epoch 707 cost: 0.13286562557163878\n"
     ]
    },
    {
     "name": "stdout",
     "output_type": "stream",
     "text": [
      "Epoch 708 cost: 0.13199950989696846\n"
     ]
    },
    {
     "name": "stdout",
     "output_type": "stream",
     "text": [
      "Epoch 709 cost: 0.1295302675691252\n"
     ]
    },
    {
     "name": "stdout",
     "output_type": "stream",
     "text": [
      "Epoch 710 cost: 0.13236221053831507\n"
     ]
    },
    {
     "name": "stdout",
     "output_type": "stream",
     "text": [
      "Epoch 711 cost: 0.13250277686292822\n"
     ]
    },
    {
     "name": "stdout",
     "output_type": "stream",
     "text": [
      "Epoch 712 cost: 0.13538503265600366\n"
     ]
    },
    {
     "name": "stdout",
     "output_type": "stream",
     "text": [
      "Epoch 713 cost: 0.13294166809812286\n"
     ]
    },
    {
     "name": "stdout",
     "output_type": "stream",
     "text": [
      "Epoch 714 cost: 0.1364934044435454\n"
     ]
    },
    {
     "name": "stdout",
     "output_type": "stream",
     "text": [
      "Epoch 715 cost: 0.13113511985380075\n"
     ]
    },
    {
     "name": "stdout",
     "output_type": "stream",
     "text": [
      "Epoch 716 cost: 0.1323483454204601\n"
     ]
    },
    {
     "name": "stdout",
     "output_type": "stream",
     "text": [
      "Epoch 717 cost: 0.1300726155031133\n"
     ]
    },
    {
     "name": "stdout",
     "output_type": "stream",
     "text": [
      "Epoch 718 cost: 0.12972417188641563\n"
     ]
    },
    {
     "name": "stdout",
     "output_type": "stream",
     "text": [
      "Epoch 719 cost: 0.13189542579685992\n"
     ]
    },
    {
     "name": "stdout",
     "output_type": "stream",
     "text": [
      "Epoch 720 cost: 0.12993472407060416\n"
     ]
    },
    {
     "name": "stdout",
     "output_type": "stream",
     "text": [
      "Epoch 721 cost: 0.12834981004111565\n"
     ]
    },
    {
     "name": "stdout",
     "output_type": "stream",
     "text": [
      "Epoch 722 cost: 0.1279393495927021\n"
     ]
    },
    {
     "name": "stdout",
     "output_type": "stream",
     "text": [
      "Epoch 723 cost: 0.1289953239264444\n"
     ]
    },
    {
     "name": "stdout",
     "output_type": "stream",
     "text": [
      "Epoch 724 cost: 0.13062397669695153\n"
     ]
    },
    {
     "name": "stdout",
     "output_type": "stream",
     "text": [
      "Epoch 725 cost: 0.1375563899110129\n"
     ]
    },
    {
     "name": "stdout",
     "output_type": "stream",
     "text": [
      "Epoch 726 cost: 0.13266571568058194\n"
     ]
    },
    {
     "name": "stdout",
     "output_type": "stream",
     "text": [
      "Epoch 727 cost: 0.1274812117928265\n"
     ]
    },
    {
     "name": "stdout",
     "output_type": "stream",
     "text": [
      "Epoch 728 cost: 0.12799004586527743\n"
     ]
    },
    {
     "name": "stdout",
     "output_type": "stream",
     "text": [
      "Epoch 729 cost: 0.13044930190964865\n"
     ]
    },
    {
     "name": "stdout",
     "output_type": "stream",
     "text": [
      "Epoch 730 cost: 0.12798793602320804\n"
     ]
    },
    {
     "name": "stdout",
     "output_type": "stream",
     "text": [
      "Epoch 731 cost: 0.12697389844017704\n"
     ]
    },
    {
     "name": "stdout",
     "output_type": "stream",
     "text": [
      "Epoch 732 cost: 0.12981837695333606\n"
     ]
    },
    {
     "name": "stdout",
     "output_type": "stream",
     "text": [
      "Epoch 733 cost: 0.13134848685452374\n"
     ]
    },
    {
     "name": "stdout",
     "output_type": "stream",
     "text": [
      "Epoch 734 cost: 0.1330242665837388\n"
     ]
    },
    {
     "name": "stdout",
     "output_type": "stream",
     "text": [
      "Epoch 735 cost: 0.12775084731930472\n"
     ]
    },
    {
     "name": "stdout",
     "output_type": "stream",
     "text": [
      "Epoch 736 cost: 0.1270235003997821\n"
     ]
    },
    {
     "name": "stdout",
     "output_type": "stream",
     "text": [
      "Epoch 737 cost: 0.13007724503736548\n"
     ]
    },
    {
     "name": "stdout",
     "output_type": "stream",
     "text": [
      "Epoch 738 cost: 0.13276686906293564\n"
     ]
    },
    {
     "name": "stdout",
     "output_type": "stream",
     "text": [
      "Epoch 739 cost: 0.13181503312199433\n"
     ]
    },
    {
     "name": "stdout",
     "output_type": "stream",
     "text": [
      "Epoch 740 cost: 0.1282052755176901\n"
     ]
    },
    {
     "name": "stdout",
     "output_type": "stream",
     "text": [
      "Epoch 741 cost: 0.1267096587260734\n"
     ]
    },
    {
     "name": "stdout",
     "output_type": "stream",
     "text": [
      "Epoch 742 cost: 0.13323760489835956\n"
     ]
    },
    {
     "name": "stdout",
     "output_type": "stream",
     "text": [
      "Epoch 743 cost: 0.15085232311918856\n"
     ]
    },
    {
     "name": "stdout",
     "output_type": "stream",
     "text": [
      "Epoch 744 cost: 0.1311158618881252\n"
     ]
    },
    {
     "name": "stdout",
     "output_type": "stream",
     "text": [
      "Epoch 745 cost: 0.12685198556859248\n"
     ]
    },
    {
     "name": "stdout",
     "output_type": "stream",
     "text": [
      "Epoch 746 cost: 0.126572486231903\n"
     ]
    },
    {
     "name": "stdout",
     "output_type": "stream",
     "text": [
      "Epoch 747 cost: 0.12676065357264282\n"
     ]
    },
    {
     "name": "stdout",
     "output_type": "stream",
     "text": [
      "Epoch 748 cost: 0.12457486784829098\n"
     ]
    },
    {
     "name": "stdout",
     "output_type": "stream",
     "text": [
      "Epoch 749 cost: 0.12480382217923411\n"
     ]
    },
    {
     "name": "stdout",
     "output_type": "stream",
     "text": [
      "Epoch 750 cost: 0.12614573367571275\n"
     ]
    },
    {
     "name": "stdout",
     "output_type": "stream",
     "text": [
      "Epoch 751 cost: 0.12347532352659511\n"
     ]
    },
    {
     "name": "stdout",
     "output_type": "stream",
     "text": [
      "Epoch 752 cost: 0.1301254762794677\n"
     ]
    },
    {
     "name": "stdout",
     "output_type": "stream",
     "text": [
      "Epoch 753 cost: 0.12551073945534408\n"
     ]
    },
    {
     "name": "stdout",
     "output_type": "stream",
     "text": [
      "Epoch 754 cost: 0.1265178853731612\n"
     ]
    },
    {
     "name": "stdout",
     "output_type": "stream",
     "text": [
      "Epoch 755 cost: 0.12760867448755722\n"
     ]
    },
    {
     "name": "stdout",
     "output_type": "stream",
     "text": [
      "Epoch 756 cost: 0.12815747613405176\n"
     ]
    },
    {
     "name": "stdout",
     "output_type": "stream",
     "text": [
      "Epoch 757 cost: 0.12630830227381443\n"
     ]
    },
    {
     "name": "stdout",
     "output_type": "stream",
     "text": [
      "Epoch 758 cost: 0.12391645610683423\n"
     ]
    },
    {
     "name": "stdout",
     "output_type": "stream",
     "text": [
      "Epoch 759 cost: 0.1292326871784623\n"
     ]
    },
    {
     "name": "stdout",
     "output_type": "stream",
     "text": [
      "Epoch 760 cost: 0.12927571269771257\n"
     ]
    },
    {
     "name": "stdout",
     "output_type": "stream",
     "text": [
      "Epoch 761 cost: 0.12917317938057848\n"
     ]
    },
    {
     "name": "stdout",
     "output_type": "stream",
     "text": [
      "Epoch 762 cost: 0.12437968192269513\n"
     ]
    },
    {
     "name": "stdout",
     "output_type": "stream",
     "text": [
      "Epoch 763 cost: 0.12396269047507151\n"
     ]
    },
    {
     "name": "stdout",
     "output_type": "stream",
     "text": [
      "Epoch 764 cost: 0.128931800704097\n"
     ]
    },
    {
     "name": "stdout",
     "output_type": "stream",
     "text": [
      "Epoch 765 cost: 0.12677422930492815\n"
     ]
    },
    {
     "name": "stdout",
     "output_type": "stream",
     "text": [
      "Epoch 766 cost: 0.12675393080346678\n"
     ]
    },
    {
     "name": "stdout",
     "output_type": "stream",
     "text": [
      "Epoch 767 cost: 0.125658772246395\n"
     ]
    },
    {
     "name": "stdout",
     "output_type": "stream",
     "text": [
      "Epoch 768 cost: 0.1261162554861166\n"
     ]
    },
    {
     "name": "stdout",
     "output_type": "stream",
     "text": [
      "Epoch 769 cost: 0.12401493137922873\n"
     ]
    },
    {
     "name": "stdout",
     "output_type": "stream",
     "text": [
      "Epoch 770 cost: 0.12236128807252468\n"
     ]
    },
    {
     "name": "stdout",
     "output_type": "stream",
     "text": [
      "Epoch 771 cost: 0.12581705684018532\n"
     ]
    },
    {
     "name": "stdout",
     "output_type": "stream",
     "text": [
      "Epoch 772 cost: 0.12360969785494727\n"
     ]
    },
    {
     "name": "stdout",
     "output_type": "stream",
     "text": [
      "Epoch 773 cost: 0.1267412650331795\n"
     ]
    },
    {
     "name": "stdout",
     "output_type": "stream",
     "text": [
      "Epoch 774 cost: 0.12977121565035316\n"
     ]
    },
    {
     "name": "stdout",
     "output_type": "stream",
     "text": [
      "Epoch 775 cost: 0.12646336637265596\n"
     ]
    },
    {
     "name": "stdout",
     "output_type": "stream",
     "text": [
      "Epoch 776 cost: 0.13526479566962848\n"
     ]
    },
    {
     "name": "stdout",
     "output_type": "stream",
     "text": [
      "Epoch 777 cost: 0.12279851779515359\n"
     ]
    },
    {
     "name": "stdout",
     "output_type": "stream",
     "text": [
      "Epoch 778 cost: 0.1224993647395687\n"
     ]
    },
    {
     "name": "stdout",
     "output_type": "stream",
     "text": [
      "Epoch 779 cost: 0.12131579097536513\n"
     ]
    },
    {
     "name": "stdout",
     "output_type": "stream",
     "text": [
      "Epoch 780 cost: 0.12512694212230402\n"
     ]
    },
    {
     "name": "stdout",
     "output_type": "stream",
     "text": [
      "Epoch 781 cost: 0.12391599726609509\n"
     ]
    },
    {
     "name": "stdout",
     "output_type": "stream",
     "text": [
      "Epoch 782 cost: 0.12494726126965094\n"
     ]
    },
    {
     "name": "stdout",
     "output_type": "stream",
     "text": [
      "Epoch 783 cost: 0.12280519286444155\n"
     ]
    },
    {
     "name": "stdout",
     "output_type": "stream",
     "text": [
      "Epoch 784 cost: 0.1244954771961286\n"
     ]
    },
    {
     "name": "stdout",
     "output_type": "stream",
     "text": [
      "Epoch 785 cost: 0.12203057488450128\n"
     ]
    },
    {
     "name": "stdout",
     "output_type": "stream",
     "text": [
      "Epoch 786 cost: 0.1262716686856404\n"
     ]
    },
    {
     "name": "stdout",
     "output_type": "stream",
     "text": [
      "Epoch 787 cost: 0.122975416982611\n"
     ]
    },
    {
     "name": "stdout",
     "output_type": "stream",
     "text": [
      "Epoch 788 cost: 0.12706913981939147\n"
     ]
    },
    {
     "name": "stdout",
     "output_type": "stream",
     "text": [
      "Epoch 789 cost: 0.121148768433067\n"
     ]
    },
    {
     "name": "stdout",
     "output_type": "stream",
     "text": [
      "Epoch 790 cost: 0.1227040553098064\n"
     ]
    },
    {
     "name": "stdout",
     "output_type": "stream",
     "text": [
      "Epoch 791 cost: 0.12268796701565009\n"
     ]
    },
    {
     "name": "stdout",
     "output_type": "stream",
     "text": [
      "Epoch 792 cost: 0.12362014696884722\n"
     ]
    },
    {
     "name": "stdout",
     "output_type": "stream",
     "text": [
      "Epoch 793 cost: 0.11946010802467187\n"
     ]
    },
    {
     "name": "stdout",
     "output_type": "stream",
     "text": [
      "Epoch 794 cost: 0.11863706262711612\n"
     ]
    },
    {
     "name": "stdout",
     "output_type": "stream",
     "text": [
      "Epoch 795 cost: 0.12072790576500465\n"
     ]
    },
    {
     "name": "stdout",
     "output_type": "stream",
     "text": [
      "Epoch 796 cost: 0.12317238295824014\n"
     ]
    },
    {
     "name": "stdout",
     "output_type": "stream",
     "text": [
      "Epoch 797 cost: 0.12055614596401334\n"
     ]
    },
    {
     "name": "stdout",
     "output_type": "stream",
     "text": [
      "Epoch 798 cost: 0.12552923053553866\n"
     ]
    },
    {
     "name": "stdout",
     "output_type": "stream",
     "text": [
      "Epoch 799 cost: 0.12068836623125324\n"
     ]
    },
    {
     "name": "stdout",
     "output_type": "stream",
     "text": [
      "Epoch 800 cost: 0.12073558933490666\n"
     ]
    },
    {
     "name": "stdout",
     "output_type": "stream",
     "text": [
      "Epoch 801 cost: 0.12571993293103798\n"
     ]
    },
    {
     "name": "stdout",
     "output_type": "stream",
     "text": [
      "Epoch 802 cost: 0.12370598541184179\n"
     ]
    },
    {
     "name": "stdout",
     "output_type": "stream",
     "text": [
      "Epoch 803 cost: 0.12509205530664425\n"
     ]
    },
    {
     "name": "stdout",
     "output_type": "stream",
     "text": [
      "Epoch 804 cost: 0.12225062427301843\n"
     ]
    },
    {
     "name": "stdout",
     "output_type": "stream",
     "text": [
      "Epoch 805 cost: 0.12186962667416731\n"
     ]
    },
    {
     "name": "stdout",
     "output_type": "stream",
     "text": [
      "Epoch 806 cost: 0.11941690854647906\n"
     ]
    },
    {
     "name": "stdout",
     "output_type": "stream",
     "text": [
      "Epoch 807 cost: 0.12133902674529086\n"
     ]
    },
    {
     "name": "stdout",
     "output_type": "stream",
     "text": [
      "Epoch 808 cost: 0.12008199471083841\n"
     ]
    },
    {
     "name": "stdout",
     "output_type": "stream",
     "text": [
      "Epoch 809 cost: 0.12184095761104796\n"
     ]
    },
    {
     "name": "stdout",
     "output_type": "stream",
     "text": [
      "Epoch 810 cost: 0.12239068394488745\n"
     ]
    },
    {
     "name": "stdout",
     "output_type": "stream",
     "text": [
      "Epoch 811 cost: 0.1212686523824524\n"
     ]
    },
    {
     "name": "stdout",
     "output_type": "stream",
     "text": [
      "Epoch 812 cost: 0.1256298277660294\n"
     ]
    },
    {
     "name": "stdout",
     "output_type": "stream",
     "text": [
      "Epoch 813 cost: 0.11961381658756304\n"
     ]
    },
    {
     "name": "stdout",
     "output_type": "stream",
     "text": [
      "Epoch 814 cost: 0.12318440229850373\n"
     ]
    },
    {
     "name": "stdout",
     "output_type": "stream",
     "text": [
      "Epoch 815 cost: 0.12272445097207331\n"
     ]
    },
    {
     "name": "stdout",
     "output_type": "stream",
     "text": [
      "Epoch 816 cost: 0.12342038495871173\n"
     ]
    },
    {
     "name": "stdout",
     "output_type": "stream",
     "text": [
      "Epoch 817 cost: 0.12351064377189819\n"
     ]
    },
    {
     "name": "stdout",
     "output_type": "stream",
     "text": [
      "Epoch 818 cost: 0.12647926450299526\n"
     ]
    },
    {
     "name": "stdout",
     "output_type": "stream",
     "text": [
      "Epoch 819 cost: 0.12149821286189853\n"
     ]
    },
    {
     "name": "stdout",
     "output_type": "stream",
     "text": [
      "Epoch 820 cost: 0.11871295574936915\n"
     ]
    },
    {
     "name": "stdout",
     "output_type": "stream",
     "text": [
      "Epoch 821 cost: 0.11948415857010285\n"
     ]
    },
    {
     "name": "stdout",
     "output_type": "stream",
     "text": [
      "Epoch 822 cost: 0.12025212447656325\n"
     ]
    },
    {
     "name": "stdout",
     "output_type": "stream",
     "text": [
      "Epoch 823 cost: 0.12241029301990526\n"
     ]
    },
    {
     "name": "stdout",
     "output_type": "stream",
     "text": [
      "Epoch 824 cost: 0.12562009151994952\n"
     ]
    },
    {
     "name": "stdout",
     "output_type": "stream",
     "text": [
      "Epoch 825 cost: 0.12709514278683526\n"
     ]
    },
    {
     "name": "stdout",
     "output_type": "stream",
     "text": [
      "Epoch 826 cost: 0.12077521506322036\n"
     ]
    },
    {
     "name": "stdout",
     "output_type": "stream",
     "text": [
      "Epoch 827 cost: 0.12241558007509355\n"
     ]
    },
    {
     "name": "stdout",
     "output_type": "stream",
     "text": [
      "Epoch 828 cost: 0.11777224135402338\n"
     ]
    },
    {
     "name": "stdout",
     "output_type": "stream",
     "text": [
      "Epoch 829 cost: 0.12042789161651743\n"
     ]
    },
    {
     "name": "stdout",
     "output_type": "stream",
     "text": [
      "Epoch 830 cost: 0.13179524271508486\n"
     ]
    },
    {
     "name": "stdout",
     "output_type": "stream",
     "text": [
      "Epoch 831 cost: 0.12002084650302798\n"
     ]
    },
    {
     "name": "stdout",
     "output_type": "stream",
     "text": [
      "Epoch 832 cost: 0.12222425073598941\n"
     ]
    },
    {
     "name": "stdout",
     "output_type": "stream",
     "text": [
      "Epoch 833 cost: 0.12190626045114626\n"
     ]
    },
    {
     "name": "stdout",
     "output_type": "stream",
     "text": [
      "Epoch 834 cost: 0.12156204158559596\n"
     ]
    },
    {
     "name": "stdout",
     "output_type": "stream",
     "text": [
      "Epoch 835 cost: 0.1206688669990768\n"
     ]
    },
    {
     "name": "stdout",
     "output_type": "stream",
     "text": [
      "Epoch 836 cost: 0.12011096774583789\n"
     ]
    },
    {
     "name": "stdout",
     "output_type": "stream",
     "text": [
      "Epoch 837 cost: 0.12518722874947696\n"
     ]
    },
    {
     "name": "stdout",
     "output_type": "stream",
     "text": [
      "Epoch 838 cost: 0.11645511161094226\n"
     ]
    },
    {
     "name": "stdout",
     "output_type": "stream",
     "text": [
      "Epoch 839 cost: 0.11588825979432792\n"
     ]
    },
    {
     "name": "stdout",
     "output_type": "stream",
     "text": [
      "Epoch 840 cost: 0.12145768612048354\n"
     ]
    },
    {
     "name": "stdout",
     "output_type": "stream",
     "text": [
      "Epoch 841 cost: 0.12208394473263601\n"
     ]
    },
    {
     "name": "stdout",
     "output_type": "stream",
     "text": [
      "Epoch 842 cost: 0.11937349888151931\n"
     ]
    },
    {
     "name": "stdout",
     "output_type": "stream",
     "text": [
      "Epoch 843 cost: 0.12096962373380159\n"
     ]
    },
    {
     "name": "stdout",
     "output_type": "stream",
     "text": [
      "Epoch 844 cost: 0.11865023698262285\n"
     ]
    },
    {
     "name": "stdout",
     "output_type": "stream",
     "text": [
      "Epoch 845 cost: 0.11936591153705747\n"
     ]
    },
    {
     "name": "stdout",
     "output_type": "stream",
     "text": [
      "Epoch 846 cost: 0.12173939355293215\n"
     ]
    },
    {
     "name": "stdout",
     "output_type": "stream",
     "text": [
      "Epoch 847 cost: 0.12333461322667906\n"
     ]
    },
    {
     "name": "stdout",
     "output_type": "stream",
     "text": [
      "Epoch 848 cost: 0.11797448462154278\n"
     ]
    },
    {
     "name": "stdout",
     "output_type": "stream",
     "text": [
      "Epoch 849 cost: 0.11559818920166756\n"
     ]
    },
    {
     "name": "stdout",
     "output_type": "stream",
     "text": [
      "Epoch 850 cost: 0.11541591714283941\n"
     ]
    },
    {
     "name": "stdout",
     "output_type": "stream",
     "text": [
      "Epoch 851 cost: 0.11624410237329387\n"
     ]
    },
    {
     "name": "stdout",
     "output_type": "stream",
     "text": [
      "Epoch 852 cost: 0.11845309091468065\n"
     ]
    },
    {
     "name": "stdout",
     "output_type": "stream",
     "text": [
      "Epoch 853 cost: 0.12237719311299429\n"
     ]
    },
    {
     "name": "stdout",
     "output_type": "stream",
     "text": [
      "Epoch 854 cost: 0.12436696415862601\n"
     ]
    },
    {
     "name": "stdout",
     "output_type": "stream",
     "text": [
      "Epoch 855 cost: 0.12283149948832008\n"
     ]
    },
    {
     "name": "stdout",
     "output_type": "stream",
     "text": [
      "Epoch 856 cost: 0.1245614788730835\n"
     ]
    },
    {
     "name": "stdout",
     "output_type": "stream",
     "text": [
      "Epoch 857 cost: 0.12690281102980616\n"
     ]
    },
    {
     "name": "stdout",
     "output_type": "stream",
     "text": [
      "Epoch 858 cost: 0.12694267136130657\n"
     ]
    },
    {
     "name": "stdout",
     "output_type": "stream",
     "text": [
      "Epoch 859 cost: 0.12734073439859114\n"
     ]
    },
    {
     "name": "stdout",
     "output_type": "stream",
     "text": [
      "Epoch 860 cost: 0.12851408485681295\n"
     ]
    },
    {
     "name": "stdout",
     "output_type": "stream",
     "text": [
      "Epoch 861 cost: 0.13234507924347247\n"
     ]
    },
    {
     "name": "stdout",
     "output_type": "stream",
     "text": [
      "Epoch 862 cost: 0.12744982741627353\n"
     ]
    },
    {
     "name": "stdout",
     "output_type": "stream",
     "text": [
      "Epoch 863 cost: 0.12012384859405414\n"
     ]
    },
    {
     "name": "stdout",
     "output_type": "stream",
     "text": [
      "Epoch 864 cost: 0.11543368245601447\n"
     ]
    },
    {
     "name": "stdout",
     "output_type": "stream",
     "text": [
      "Epoch 865 cost: 0.11750424070810722\n"
     ]
    },
    {
     "name": "stdout",
     "output_type": "stream",
     "text": [
      "Epoch 866 cost: 0.12139500951165702\n"
     ]
    },
    {
     "name": "stdout",
     "output_type": "stream",
     "text": [
      "Epoch 867 cost: 0.11452468233943704\n"
     ]
    },
    {
     "name": "stdout",
     "output_type": "stream",
     "text": [
      "Epoch 868 cost: 0.11930911418356528\n"
     ]
    },
    {
     "name": "stdout",
     "output_type": "stream",
     "text": [
      "Epoch 869 cost: 0.11276472094452075\n"
     ]
    },
    {
     "name": "stdout",
     "output_type": "stream",
     "text": [
      "Epoch 870 cost: 0.11865721292730064\n"
     ]
    },
    {
     "name": "stdout",
     "output_type": "stream",
     "text": [
      "Epoch 871 cost: 0.1124245108947136\n"
     ]
    },
    {
     "name": "stdout",
     "output_type": "stream",
     "text": [
      "Epoch 872 cost: 0.12248823527203509\n"
     ]
    },
    {
     "name": "stdout",
     "output_type": "stream",
     "text": [
      "Epoch 873 cost: 0.12256303576646298\n"
     ]
    },
    {
     "name": "stdout",
     "output_type": "stream",
     "text": [
      "Epoch 874 cost: 0.11380783068143469\n"
     ]
    },
    {
     "name": "stdout",
     "output_type": "stream",
     "text": [
      "Epoch 875 cost: 0.11428451768249487\n"
     ]
    },
    {
     "name": "stdout",
     "output_type": "stream",
     "text": [
      "Epoch 876 cost: 0.11759257841976244\n"
     ]
    },
    {
     "name": "stdout",
     "output_type": "stream",
     "text": [
      "Epoch 877 cost: 0.11489531149340497\n"
     ]
    },
    {
     "name": "stdout",
     "output_type": "stream",
     "text": [
      "Epoch 878 cost: 0.11291751742314646\n"
     ]
    },
    {
     "name": "stdout",
     "output_type": "stream",
     "text": [
      "Epoch 879 cost: 0.11606302818395424\n"
     ]
    },
    {
     "name": "stdout",
     "output_type": "stream",
     "text": [
      "Epoch 880 cost: 0.1137742861660417\n"
     ]
    },
    {
     "name": "stdout",
     "output_type": "stream",
     "text": [
      "Epoch 881 cost: 0.11495457961461567\n"
     ]
    },
    {
     "name": "stdout",
     "output_type": "stream",
     "text": [
      "Epoch 882 cost: 0.11384874513267167\n"
     ]
    },
    {
     "name": "stdout",
     "output_type": "stream",
     "text": [
      "Epoch 883 cost: 0.1157497553102689\n"
     ]
    },
    {
     "name": "stdout",
     "output_type": "stream",
     "text": [
      "Epoch 884 cost: 0.11733380781741845\n"
     ]
    },
    {
     "name": "stdout",
     "output_type": "stream",
     "text": [
      "Epoch 885 cost: 0.11979154457984871\n"
     ]
    },
    {
     "name": "stdout",
     "output_type": "stream",
     "text": [
      "Epoch 886 cost: 0.11260868019253338\n"
     ]
    },
    {
     "name": "stdout",
     "output_type": "stream",
     "text": [
      "Epoch 887 cost: 0.11260286039402752\n"
     ]
    },
    {
     "name": "stdout",
     "output_type": "stream",
     "text": [
      "Epoch 888 cost: 0.11209889946416766\n"
     ]
    },
    {
     "name": "stdout",
     "output_type": "stream",
     "text": [
      "Epoch 889 cost: 0.1347633198320151\n"
     ]
    },
    {
     "name": "stdout",
     "output_type": "stream",
     "text": [
      "Epoch 890 cost: 0.1172889322021896\n"
     ]
    },
    {
     "name": "stdout",
     "output_type": "stream",
     "text": [
      "Epoch 891 cost: 0.11400508332594848\n"
     ]
    },
    {
     "name": "stdout",
     "output_type": "stream",
     "text": [
      "Epoch 892 cost: 0.11313902499684134\n"
     ]
    },
    {
     "name": "stdout",
     "output_type": "stream",
     "text": [
      "Epoch 893 cost: 0.1146953536567254\n"
     ]
    },
    {
     "name": "stdout",
     "output_type": "stream",
     "text": [
      "Epoch 894 cost: 0.1141435794599182\n"
     ]
    },
    {
     "name": "stdout",
     "output_type": "stream",
     "text": [
      "Epoch 895 cost: 0.11336046636623212\n"
     ]
    },
    {
     "name": "stdout",
     "output_type": "stream",
     "text": [
      "Epoch 896 cost: 0.11687576306130586\n"
     ]
    },
    {
     "name": "stdout",
     "output_type": "stream",
     "text": [
      "Epoch 897 cost: 0.11177690604981019\n"
     ]
    },
    {
     "name": "stdout",
     "output_type": "stream",
     "text": [
      "Epoch 898 cost: 0.11665421075926584\n"
     ]
    },
    {
     "name": "stdout",
     "output_type": "stream",
     "text": [
      "Epoch 899 cost: 0.11743496787183484\n"
     ]
    },
    {
     "name": "stdout",
     "output_type": "stream",
     "text": [
      "Epoch 900 cost: 0.11395428177356705\n"
     ]
    },
    {
     "name": "stdout",
     "output_type": "stream",
     "text": [
      "Epoch 901 cost: 0.111874213784767\n"
     ]
    },
    {
     "name": "stdout",
     "output_type": "stream",
     "text": [
      "Epoch 902 cost: 0.11234338921653607\n"
     ]
    },
    {
     "name": "stdout",
     "output_type": "stream",
     "text": [
      "Epoch 903 cost: 0.11804394218808317\n"
     ]
    },
    {
     "name": "stdout",
     "output_type": "stream",
     "text": [
      "Epoch 904 cost: 0.11678681648633162\n"
     ]
    },
    {
     "name": "stdout",
     "output_type": "stream",
     "text": [
      "Epoch 905 cost: 0.11254961069459987\n"
     ]
    },
    {
     "name": "stdout",
     "output_type": "stream",
     "text": [
      "Epoch 906 cost: 0.119945835823341\n"
     ]
    },
    {
     "name": "stdout",
     "output_type": "stream",
     "text": [
      "Epoch 907 cost: 0.11690048016249892\n"
     ]
    },
    {
     "name": "stdout",
     "output_type": "stream",
     "text": [
      "Epoch 908 cost: 0.1097379456353362\n"
     ]
    },
    {
     "name": "stdout",
     "output_type": "stream",
     "text": [
      "Epoch 909 cost: 0.11325043042042178\n"
     ]
    },
    {
     "name": "stdout",
     "output_type": "stream",
     "text": [
      "Epoch 910 cost: 0.11105228806632825\n"
     ]
    },
    {
     "name": "stdout",
     "output_type": "stream",
     "text": [
      "Epoch 911 cost: 0.11123407784384634\n"
     ]
    },
    {
     "name": "stdout",
     "output_type": "stream",
     "text": [
      "Epoch 912 cost: 0.11003252633987087\n"
     ]
    },
    {
     "name": "stdout",
     "output_type": "stream",
     "text": [
      "Epoch 913 cost: 0.11436715376793365\n"
     ]
    },
    {
     "name": "stdout",
     "output_type": "stream",
     "text": [
      "Epoch 914 cost: 0.11440838443124153\n"
     ]
    },
    {
     "name": "stdout",
     "output_type": "stream",
     "text": [
      "Epoch 915 cost: 0.11404956037400352\n"
     ]
    },
    {
     "name": "stdout",
     "output_type": "stream",
     "text": [
      "Epoch 916 cost: 0.1113722314719523\n"
     ]
    },
    {
     "name": "stdout",
     "output_type": "stream",
     "text": [
      "Epoch 917 cost: 0.11342105348647781\n"
     ]
    },
    {
     "name": "stdout",
     "output_type": "stream",
     "text": [
      "Epoch 918 cost: 0.11770207219475423\n"
     ]
    },
    {
     "name": "stdout",
     "output_type": "stream",
     "text": [
      "Epoch 919 cost: 0.11296443285082512\n"
     ]
    },
    {
     "name": "stdout",
     "output_type": "stream",
     "text": [
      "Epoch 920 cost: 0.11418755307905212\n"
     ]
    },
    {
     "name": "stdout",
     "output_type": "stream",
     "text": [
      "Epoch 921 cost: 0.11590979048547703\n"
     ]
    },
    {
     "name": "stdout",
     "output_type": "stream",
     "text": [
      "Epoch 922 cost: 0.11212866054573963\n"
     ]
    },
    {
     "name": "stdout",
     "output_type": "stream",
     "text": [
      "Epoch 923 cost: 0.10885202964292841\n"
     ]
    },
    {
     "name": "stdout",
     "output_type": "stream",
     "text": [
      "Epoch 924 cost: 0.11048603541869993\n"
     ]
    },
    {
     "name": "stdout",
     "output_type": "stream",
     "text": [
      "Epoch 925 cost: 0.11238606223419967\n"
     ]
    },
    {
     "name": "stdout",
     "output_type": "stream",
     "text": [
      "Epoch 926 cost: 0.11614648630212329\n"
     ]
    },
    {
     "name": "stdout",
     "output_type": "stream",
     "text": [
      "Epoch 927 cost: 0.10877525496704568\n"
     ]
    },
    {
     "name": "stdout",
     "output_type": "stream",
     "text": [
      "Epoch 928 cost: 0.11196041420741681\n"
     ]
    },
    {
     "name": "stdout",
     "output_type": "stream",
     "text": [
      "Epoch 929 cost: 0.1119270754946808\n"
     ]
    },
    {
     "name": "stdout",
     "output_type": "stream",
     "text": [
      "Epoch 930 cost: 0.11201580620102734\n"
     ]
    },
    {
     "name": "stdout",
     "output_type": "stream",
     "text": [
      "Epoch 931 cost: 0.1124960275331189\n"
     ]
    },
    {
     "name": "stdout",
     "output_type": "stream",
     "text": [
      "Epoch 932 cost: 0.11703983649382659\n"
     ]
    },
    {
     "name": "stdout",
     "output_type": "stream",
     "text": [
      "Epoch 933 cost: 0.11534745766821644\n"
     ]
    },
    {
     "name": "stdout",
     "output_type": "stream",
     "text": [
      "Epoch 934 cost: 0.11272454147393543\n"
     ]
    },
    {
     "name": "stdout",
     "output_type": "stream",
     "text": [
      "Epoch 935 cost: 0.11090480634936786\n"
     ]
    },
    {
     "name": "stdout",
     "output_type": "stream",
     "text": [
      "Epoch 936 cost: 0.11407809338888011\n"
     ]
    },
    {
     "name": "stdout",
     "output_type": "stream",
     "text": [
      "Epoch 937 cost: 0.10958085952125228\n"
     ]
    },
    {
     "name": "stdout",
     "output_type": "stream",
     "text": [
      "Epoch 938 cost: 0.1087186089912796\n"
     ]
    },
    {
     "name": "stdout",
     "output_type": "stream",
     "text": [
      "Epoch 939 cost: 0.11238180413682916\n"
     ]
    },
    {
     "name": "stdout",
     "output_type": "stream",
     "text": [
      "Epoch 940 cost: 0.10978979534012298\n"
     ]
    },
    {
     "name": "stdout",
     "output_type": "stream",
     "text": [
      "Epoch 941 cost: 0.11321264106757081\n"
     ]
    },
    {
     "name": "stdout",
     "output_type": "stream",
     "text": [
      "Epoch 942 cost: 0.11033891945466179\n"
     ]
    },
    {
     "name": "stdout",
     "output_type": "stream",
     "text": [
      "Epoch 943 cost: 0.11093479353186408\n"
     ]
    },
    {
     "name": "stdout",
     "output_type": "stream",
     "text": [
      "Epoch 944 cost: 0.11663011820201043\n"
     ]
    },
    {
     "name": "stdout",
     "output_type": "stream",
     "text": [
      "Epoch 945 cost: 0.11083885761297951\n"
     ]
    },
    {
     "name": "stdout",
     "output_type": "stream",
     "text": [
      "Epoch 946 cost: 0.10731988521003893\n"
     ]
    },
    {
     "name": "stdout",
     "output_type": "stream",
     "text": [
      "Epoch 947 cost: 0.1063390113325727\n"
     ]
    },
    {
     "name": "stdout",
     "output_type": "stream",
     "text": [
      "Epoch 948 cost: 0.10778828681031355\n"
     ]
    },
    {
     "name": "stdout",
     "output_type": "stream",
     "text": [
      "Epoch 949 cost: 0.1096385280485474\n"
     ]
    },
    {
     "name": "stdout",
     "output_type": "stream",
     "text": [
      "Epoch 950 cost: 0.10711852021434119\n"
     ]
    },
    {
     "name": "stdout",
     "output_type": "stream",
     "text": [
      "Epoch 951 cost: 0.11177565926207665\n"
     ]
    },
    {
     "name": "stdout",
     "output_type": "stream",
     "text": [
      "Epoch 952 cost: 0.10698463852969892\n"
     ]
    },
    {
     "name": "stdout",
     "output_type": "stream",
     "text": [
      "Epoch 953 cost: 0.10859650584555751\n"
     ]
    },
    {
     "name": "stdout",
     "output_type": "stream",
     "text": [
      "Epoch 954 cost: 0.1061328604004179\n"
     ]
    },
    {
     "name": "stdout",
     "output_type": "stream",
     "text": [
      "Epoch 955 cost: 0.10640867837485643\n"
     ]
    },
    {
     "name": "stdout",
     "output_type": "stream",
     "text": [
      "Epoch 956 cost: 0.10608704495848045\n"
     ]
    },
    {
     "name": "stdout",
     "output_type": "stream",
     "text": [
      "Epoch 957 cost: 0.1142536471997307\n"
     ]
    },
    {
     "name": "stdout",
     "output_type": "stream",
     "text": [
      "Epoch 958 cost: 0.11764435221684487\n"
     ]
    },
    {
     "name": "stdout",
     "output_type": "stream",
     "text": [
      "Epoch 959 cost: 0.10852664030870424\n"
     ]
    },
    {
     "name": "stdout",
     "output_type": "stream",
     "text": [
      "Epoch 960 cost: 0.10700693840595991\n"
     ]
    },
    {
     "name": "stdout",
     "output_type": "stream",
     "text": [
      "Epoch 961 cost: 0.10626475659508099\n"
     ]
    },
    {
     "name": "stdout",
     "output_type": "stream",
     "text": [
      "Epoch 962 cost: 0.1089156134072928\n"
     ]
    },
    {
     "name": "stdout",
     "output_type": "stream",
     "text": [
      "Epoch 963 cost: 0.11230357037907443\n"
     ]
    },
    {
     "name": "stdout",
     "output_type": "stream",
     "text": [
      "Epoch 964 cost: 0.10905444990709343\n"
     ]
    },
    {
     "name": "stdout",
     "output_type": "stream",
     "text": [
      "Epoch 965 cost: 0.10919909273496448\n"
     ]
    },
    {
     "name": "stdout",
     "output_type": "stream",
     "text": [
      "Epoch 966 cost: 0.10711947596992379\n"
     ]
    },
    {
     "name": "stdout",
     "output_type": "stream",
     "text": [
      "Epoch 967 cost: 0.11001721431671199\n"
     ]
    },
    {
     "name": "stdout",
     "output_type": "stream",
     "text": [
      "Epoch 968 cost: 0.11214721553001947\n"
     ]
    },
    {
     "name": "stdout",
     "output_type": "stream",
     "text": [
      "Epoch 969 cost: 0.11070393417243028\n"
     ]
    },
    {
     "name": "stdout",
     "output_type": "stream",
     "text": [
      "Epoch 970 cost: 0.1097973877840168\n"
     ]
    },
    {
     "name": "stdout",
     "output_type": "stream",
     "text": [
      "Epoch 971 cost: 0.10858021766271245\n"
     ]
    },
    {
     "name": "stdout",
     "output_type": "stream",
     "text": [
      "Epoch 972 cost: 0.10763413172672752\n"
     ]
    },
    {
     "name": "stdout",
     "output_type": "stream",
     "text": [
      "Epoch 973 cost: 0.10903521502782271\n"
     ]
    },
    {
     "name": "stdout",
     "output_type": "stream",
     "text": [
      "Epoch 974 cost: 0.10684463946595969\n"
     ]
    },
    {
     "name": "stdout",
     "output_type": "stream",
     "text": [
      "Epoch 975 cost: 0.11431656368625721\n"
     ]
    },
    {
     "name": "stdout",
     "output_type": "stream",
     "text": [
      "Epoch 976 cost: 0.10548332647924565\n"
     ]
    },
    {
     "name": "stdout",
     "output_type": "stream",
     "text": [
      "Epoch 977 cost: 0.10621175061289098\n"
     ]
    },
    {
     "name": "stdout",
     "output_type": "stream",
     "text": [
      "Epoch 978 cost: 0.10474221545046572\n"
     ]
    },
    {
     "name": "stdout",
     "output_type": "stream",
     "text": [
      "Epoch 979 cost: 0.10514469877071987\n"
     ]
    },
    {
     "name": "stdout",
     "output_type": "stream",
     "text": [
      "Epoch 980 cost: 0.10740497904659194\n"
     ]
    },
    {
     "name": "stdout",
     "output_type": "stream",
     "text": [
      "Epoch 981 cost: 0.11000538004061032\n"
     ]
    },
    {
     "name": "stdout",
     "output_type": "stream",
     "text": [
      "Epoch 982 cost: 0.10962493519826659\n"
     ]
    },
    {
     "name": "stdout",
     "output_type": "stream",
     "text": [
      "Epoch 983 cost: 0.11515900752490874\n"
     ]
    },
    {
     "name": "stdout",
     "output_type": "stream",
     "text": [
      "Epoch 984 cost: 0.11438487658216638\n"
     ]
    },
    {
     "name": "stdout",
     "output_type": "stream",
     "text": [
      "Epoch 985 cost: 0.1075585233924035\n"
     ]
    },
    {
     "name": "stdout",
     "output_type": "stream",
     "text": [
      "Epoch 986 cost: 0.10534071829933997\n"
     ]
    },
    {
     "name": "stdout",
     "output_type": "stream",
     "text": [
      "Epoch 987 cost: 0.10858194295908326\n"
     ]
    },
    {
     "name": "stdout",
     "output_type": "stream",
     "text": [
      "Epoch 988 cost: 0.10397271412792328\n"
     ]
    },
    {
     "name": "stdout",
     "output_type": "stream",
     "text": [
      "Epoch 989 cost: 0.10652342966262988\n"
     ]
    },
    {
     "name": "stdout",
     "output_type": "stream",
     "text": [
      "Epoch 990 cost: 0.11381679046180139\n"
     ]
    },
    {
     "name": "stdout",
     "output_type": "stream",
     "text": [
      "Epoch 991 cost: 0.11074547039326657\n"
     ]
    },
    {
     "name": "stdout",
     "output_type": "stream",
     "text": [
      "Epoch 992 cost: 0.11226473626920139\n"
     ]
    },
    {
     "name": "stdout",
     "output_type": "stream",
     "text": [
      "Epoch 993 cost: 0.10863812867071025\n"
     ]
    },
    {
     "name": "stdout",
     "output_type": "stream",
     "text": [
      "Epoch 994 cost: 0.11002418388089473\n"
     ]
    },
    {
     "name": "stdout",
     "output_type": "stream",
     "text": [
      "Epoch 995 cost: 0.10799715125542429\n"
     ]
    },
    {
     "name": "stdout",
     "output_type": "stream",
     "text": [
      "Epoch 996 cost: 0.10913031737668903\n"
     ]
    },
    {
     "name": "stdout",
     "output_type": "stream",
     "text": [
      "Epoch 997 cost: 0.10632934865513118\n"
     ]
    },
    {
     "name": "stdout",
     "output_type": "stream",
     "text": [
      "Epoch 998 cost: 0.10822398057822262\n"
     ]
    },
    {
     "name": "stdout",
     "output_type": "stream",
     "text": [
      "Epoch 999 cost: 0.10844881935617122\n"
     ]
    },
    {
     "name": "stdout",
     "output_type": "stream",
     "text": [
      "Epoch 1000 cost: 0.10977238219287543\n"
     ]
    },
    {
     "name": "stdout",
     "output_type": "stream",
     "text": [
      "Epoch 1001 cost: 0.10659869992759435\n"
     ]
    },
    {
     "name": "stdout",
     "output_type": "stream",
     "text": [
      "Epoch 1002 cost: 0.10751317787868704\n"
     ]
    },
    {
     "name": "stdout",
     "output_type": "stream",
     "text": [
      "Epoch 1003 cost: 0.10550905225716443\n"
     ]
    },
    {
     "name": "stdout",
     "output_type": "stream",
     "text": [
      "Epoch 1004 cost: 0.10448945686420297\n"
     ]
    },
    {
     "name": "stdout",
     "output_type": "stream",
     "text": [
      "Epoch 1005 cost: 0.10534492405463643\n"
     ]
    },
    {
     "name": "stdout",
     "output_type": "stream",
     "text": [
      "Epoch 1006 cost: 0.10889020534073132\n"
     ]
    },
    {
     "name": "stdout",
     "output_type": "stream",
     "text": [
      "Epoch 1007 cost: 0.10503465777696452\n"
     ]
    },
    {
     "name": "stdout",
     "output_type": "stream",
     "text": [
      "Epoch 1008 cost: 0.11905601613917013\n"
     ]
    },
    {
     "name": "stdout",
     "output_type": "stream",
     "text": [
      "Epoch 1009 cost: 0.10383069203069877\n"
     ]
    },
    {
     "name": "stdout",
     "output_type": "stream",
     "text": [
      "Epoch 1010 cost: 0.10476416660733713\n"
     ]
    },
    {
     "name": "stdout",
     "output_type": "stream",
     "text": [
      "Epoch 1011 cost: 0.10749149779408365\n"
     ]
    },
    {
     "name": "stdout",
     "output_type": "stream",
     "text": [
      "Epoch 1012 cost: 0.10493914313139979\n"
     ]
    },
    {
     "name": "stdout",
     "output_type": "stream",
     "text": [
      "Epoch 1013 cost: 0.1035295827619747\n"
     ]
    },
    {
     "name": "stdout",
     "output_type": "stream",
     "text": [
      "Epoch 1014 cost: 0.10554202041289401\n"
     ]
    },
    {
     "name": "stdout",
     "output_type": "stream",
     "text": [
      "Epoch 1015 cost: 0.1069169407376411\n"
     ]
    },
    {
     "name": "stdout",
     "output_type": "stream",
     "text": [
      "Epoch 1016 cost: 0.10677738483207858\n"
     ]
    },
    {
     "name": "stdout",
     "output_type": "stream",
     "text": [
      "Epoch 1017 cost: 0.10642487544877627\n"
     ]
    },
    {
     "name": "stdout",
     "output_type": "stream",
     "text": [
      "Epoch 1018 cost: 0.10496846288142013\n"
     ]
    },
    {
     "name": "stdout",
     "output_type": "stream",
     "text": [
      "Epoch 1019 cost: 0.10974904213757417\n"
     ]
    },
    {
     "name": "stdout",
     "output_type": "stream",
     "text": [
      "Epoch 1020 cost: 0.11092967064178713\n"
     ]
    },
    {
     "name": "stdout",
     "output_type": "stream",
     "text": [
      "Epoch 1021 cost: 0.11514085060643484\n"
     ]
    },
    {
     "name": "stdout",
     "output_type": "stream",
     "text": [
      "Epoch 1022 cost: 0.10877546244063735\n"
     ]
    },
    {
     "name": "stdout",
     "output_type": "stream",
     "text": [
      "Epoch 1023 cost: 0.10678032780432319\n"
     ]
    },
    {
     "name": "stdout",
     "output_type": "stream",
     "text": [
      "Epoch 1024 cost: 0.10132843159301287\n"
     ]
    },
    {
     "name": "stdout",
     "output_type": "stream",
     "text": [
      "Epoch 1025 cost: 0.10342075888766293\n"
     ]
    },
    {
     "name": "stdout",
     "output_type": "stream",
     "text": [
      "Epoch 1026 cost: 0.10596492291302283\n"
     ]
    },
    {
     "name": "stdout",
     "output_type": "stream",
     "text": [
      "Epoch 1027 cost: 0.10179412754808781\n"
     ]
    },
    {
     "name": "stdout",
     "output_type": "stream",
     "text": [
      "Epoch 1028 cost: 0.10254150441366172\n"
     ]
    },
    {
     "name": "stdout",
     "output_type": "stream",
     "text": [
      "Epoch 1029 cost: 0.10267148116721721\n"
     ]
    },
    {
     "name": "stdout",
     "output_type": "stream",
     "text": [
      "Epoch 1030 cost: 0.10480366889259374\n"
     ]
    },
    {
     "name": "stdout",
     "output_type": "stream",
     "text": [
      "Epoch 1031 cost: 0.10121731299390097\n"
     ]
    },
    {
     "name": "stdout",
     "output_type": "stream",
     "text": [
      "Epoch 1032 cost: 0.10463384006231852\n"
     ]
    },
    {
     "name": "stdout",
     "output_type": "stream",
     "text": [
      "Epoch 1033 cost: 0.1057355707874217\n"
     ]
    },
    {
     "name": "stdout",
     "output_type": "stream",
     "text": [
      "Epoch 1034 cost: 0.10067876330821525\n"
     ]
    },
    {
     "name": "stdout",
     "output_type": "stream",
     "text": [
      "Epoch 1035 cost: 0.10434089195977968\n"
     ]
    },
    {
     "name": "stdout",
     "output_type": "stream",
     "text": [
      "Epoch 1036 cost: 0.1104418825788349\n"
     ]
    },
    {
     "name": "stdout",
     "output_type": "stream",
     "text": [
      "Epoch 1037 cost: 0.10590350078273136\n"
     ]
    },
    {
     "name": "stdout",
     "output_type": "stream",
     "text": [
      "Epoch 1038 cost: 0.10679432833589596\n"
     ]
    },
    {
     "name": "stdout",
     "output_type": "stream",
     "text": [
      "Epoch 1039 cost: 0.10264948130117202\n"
     ]
    },
    {
     "name": "stdout",
     "output_type": "stream",
     "text": [
      "Epoch 1040 cost: 0.11031667916482024\n"
     ]
    },
    {
     "name": "stdout",
     "output_type": "stream",
     "text": [
      "Epoch 1041 cost: 0.10707658795165048\n"
     ]
    },
    {
     "name": "stdout",
     "output_type": "stream",
     "text": [
      "Epoch 1042 cost: 0.10164979786384051\n"
     ]
    },
    {
     "name": "stdout",
     "output_type": "stream",
     "text": [
      "Epoch 1043 cost: 0.10786253258085511\n"
     ]
    },
    {
     "name": "stdout",
     "output_type": "stream",
     "text": [
      "Epoch 1044 cost: 0.104676753353353\n"
     ]
    },
    {
     "name": "stdout",
     "output_type": "stream",
     "text": [
      "Epoch 1045 cost: 0.10185404736072944\n"
     ]
    },
    {
     "name": "stdout",
     "output_type": "stream",
     "text": [
      "Epoch 1046 cost: 0.10198901785411421\n"
     ]
    },
    {
     "name": "stdout",
     "output_type": "stream",
     "text": [
      "Epoch 1047 cost: 0.10511800876901325\n"
     ]
    },
    {
     "name": "stdout",
     "output_type": "stream",
     "text": [
      "Epoch 1048 cost: 0.10372963708136688\n"
     ]
    },
    {
     "name": "stdout",
     "output_type": "stream",
     "text": [
      "Epoch 1049 cost: 0.10131918769710607\n"
     ]
    },
    {
     "name": "stdout",
     "output_type": "stream",
     "text": [
      "Epoch 1050 cost: 0.10911896571078837\n"
     ]
    },
    {
     "name": "stdout",
     "output_type": "stream",
     "text": [
      "Epoch 1051 cost: 0.10298719909107378\n"
     ]
    },
    {
     "name": "stdout",
     "output_type": "stream",
     "text": [
      "Epoch 1052 cost: 0.09988471456934199\n"
     ]
    },
    {
     "name": "stdout",
     "output_type": "stream",
     "text": [
      "Epoch 1053 cost: 0.100094331544591\n"
     ]
    },
    {
     "name": "stdout",
     "output_type": "stream",
     "text": [
      "Epoch 1054 cost: 0.10919756980226786\n"
     ]
    },
    {
     "name": "stdout",
     "output_type": "stream",
     "text": [
      "Epoch 1055 cost: 0.10893504150008014\n"
     ]
    },
    {
     "name": "stdout",
     "output_type": "stream",
     "text": [
      "Epoch 1056 cost: 0.10105077898529412\n"
     ]
    },
    {
     "name": "stdout",
     "output_type": "stream",
     "text": [
      "Epoch 1057 cost: 0.10532707514415027\n"
     ]
    },
    {
     "name": "stdout",
     "output_type": "stream",
     "text": [
      "Epoch 1058 cost: 0.11203516380097936\n"
     ]
    },
    {
     "name": "stdout",
     "output_type": "stream",
     "text": [
      "Epoch 1059 cost: 0.09672885293515855\n"
     ]
    },
    {
     "name": "stdout",
     "output_type": "stream",
     "text": [
      "Epoch 1060 cost: 0.10311577474830677\n"
     ]
    },
    {
     "name": "stdout",
     "output_type": "stream",
     "text": [
      "Epoch 1061 cost: 0.10672916966075063\n"
     ]
    },
    {
     "name": "stdout",
     "output_type": "stream",
     "text": [
      "Epoch 1062 cost: 0.11020482508720156\n"
     ]
    },
    {
     "name": "stdout",
     "output_type": "stream",
     "text": [
      "Epoch 1063 cost: 0.1023922170586468\n"
     ]
    },
    {
     "name": "stdout",
     "output_type": "stream",
     "text": [
      "Epoch 1064 cost: 0.10365092222114258\n"
     ]
    },
    {
     "name": "stdout",
     "output_type": "stream",
     "text": [
      "Epoch 1065 cost: 0.10515922974908104\n"
     ]
    },
    {
     "name": "stdout",
     "output_type": "stream",
     "text": [
      "Epoch 1066 cost: 0.10146295161433282\n"
     ]
    },
    {
     "name": "stdout",
     "output_type": "stream",
     "text": [
      "Epoch 1067 cost: 0.10173236022873583\n"
     ]
    },
    {
     "name": "stdout",
     "output_type": "stream",
     "text": [
      "Epoch 1068 cost: 0.11068329597342465\n"
     ]
    },
    {
     "name": "stdout",
     "output_type": "stream",
     "text": [
      "Epoch 1069 cost: 0.10005268237046011\n"
     ]
    },
    {
     "name": "stdout",
     "output_type": "stream",
     "text": [
      "Epoch 1070 cost: 0.09654061756033747\n"
     ]
    },
    {
     "name": "stdout",
     "output_type": "stream",
     "text": [
      "Epoch 1071 cost: 0.09700029755381291\n"
     ]
    },
    {
     "name": "stdout",
     "output_type": "stream",
     "text": [
      "Epoch 1072 cost: 0.11251468752702132\n"
     ]
    },
    {
     "name": "stdout",
     "output_type": "stream",
     "text": [
      "Epoch 1073 cost: 0.10134904272519678\n"
     ]
    },
    {
     "name": "stdout",
     "output_type": "stream",
     "text": [
      "Epoch 1074 cost: 0.10272872565213204\n"
     ]
    },
    {
     "name": "stdout",
     "output_type": "stream",
     "text": [
      "Epoch 1075 cost: 0.10144796740396414\n"
     ]
    },
    {
     "name": "stdout",
     "output_type": "stream",
     "text": [
      "Epoch 1076 cost: 0.10531384070968576\n"
     ]
    },
    {
     "name": "stdout",
     "output_type": "stream",
     "text": [
      "Epoch 1077 cost: 0.10143244937487735\n"
     ]
    },
    {
     "name": "stdout",
     "output_type": "stream",
     "text": [
      "Epoch 1078 cost: 0.1100956315687325\n"
     ]
    },
    {
     "name": "stdout",
     "output_type": "stream",
     "text": [
      "Epoch 1079 cost: 0.10070151972634618\n"
     ]
    },
    {
     "name": "stdout",
     "output_type": "stream",
     "text": [
      "Epoch 1080 cost: 0.09925231952077095\n"
     ]
    },
    {
     "name": "stdout",
     "output_type": "stream",
     "text": [
      "Epoch 1081 cost: 0.10960259942174541\n"
     ]
    },
    {
     "name": "stdout",
     "output_type": "stream",
     "text": [
      "Epoch 1082 cost: 0.09612728651467482\n"
     ]
    },
    {
     "name": "stdout",
     "output_type": "stream",
     "text": [
      "Epoch 1083 cost: 0.1031143114821644\n"
     ]
    },
    {
     "name": "stdout",
     "output_type": "stream",
     "text": [
      "Epoch 1084 cost: 0.0991226623602528\n"
     ]
    },
    {
     "name": "stdout",
     "output_type": "stream",
     "text": [
      "Epoch 1085 cost: 0.09708385905075753\n"
     ]
    },
    {
     "name": "stdout",
     "output_type": "stream",
     "text": [
      "Epoch 1086 cost: 0.09781519800668304\n"
     ]
    },
    {
     "name": "stdout",
     "output_type": "stream",
     "text": [
      "Epoch 1087 cost: 0.10337571318137843\n"
     ]
    },
    {
     "name": "stdout",
     "output_type": "stream",
     "text": [
      "Epoch 1088 cost: 0.10680162057605662\n"
     ]
    },
    {
     "name": "stdout",
     "output_type": "stream",
     "text": [
      "Epoch 1089 cost: 0.09685088990461203\n"
     ]
    },
    {
     "name": "stdout",
     "output_type": "stream",
     "text": [
      "Epoch 1090 cost: 0.09483124354324186\n"
     ]
    },
    {
     "name": "stdout",
     "output_type": "stream",
     "text": [
      "Epoch 1091 cost: 0.09872122127240372\n"
     ]
    },
    {
     "name": "stdout",
     "output_type": "stream",
     "text": [
      "Epoch 1092 cost: 0.09984277645688545\n"
     ]
    },
    {
     "name": "stdout",
     "output_type": "stream",
     "text": [
      "Epoch 1093 cost: 0.10025242976543368\n"
     ]
    },
    {
     "name": "stdout",
     "output_type": "stream",
     "text": [
      "Epoch 1094 cost: 0.10545854548927111\n"
     ]
    },
    {
     "name": "stdout",
     "output_type": "stream",
     "text": [
      "Epoch 1095 cost: 0.115794937588002\n"
     ]
    },
    {
     "name": "stdout",
     "output_type": "stream",
     "text": [
      "Epoch 1096 cost: 0.098082526056479\n"
     ]
    },
    {
     "name": "stdout",
     "output_type": "stream",
     "text": [
      "Epoch 1097 cost: 0.09770685868588423\n"
     ]
    },
    {
     "name": "stdout",
     "output_type": "stream",
     "text": [
      "Epoch 1098 cost: 0.09587159146024157\n"
     ]
    },
    {
     "name": "stdout",
     "output_type": "stream",
     "text": [
      "Epoch 1099 cost: 0.09839701437959895\n"
     ]
    },
    {
     "name": "stdout",
     "output_type": "stream",
     "text": [
      "Epoch 1100 cost: 0.09765695084651514\n"
     ]
    },
    {
     "name": "stdout",
     "output_type": "stream",
     "text": [
      "Epoch 1101 cost: 0.09847756569964791\n"
     ]
    },
    {
     "name": "stdout",
     "output_type": "stream",
     "text": [
      "Epoch 1102 cost: 0.10185007799235761\n"
     ]
    },
    {
     "name": "stdout",
     "output_type": "stream",
     "text": [
      "Epoch 1103 cost: 0.10231593544826202\n"
     ]
    },
    {
     "name": "stdout",
     "output_type": "stream",
     "text": [
      "Epoch 1104 cost: 0.09581101915737586\n"
     ]
    },
    {
     "name": "stdout",
     "output_type": "stream",
     "text": [
      "Epoch 1105 cost: 0.09689136252619159\n"
     ]
    },
    {
     "name": "stdout",
     "output_type": "stream",
     "text": [
      "Epoch 1106 cost: 0.09892328140474081\n"
     ]
    },
    {
     "name": "stdout",
     "output_type": "stream",
     "text": [
      "Epoch 1107 cost: 0.10347267845898825\n"
     ]
    },
    {
     "name": "stdout",
     "output_type": "stream",
     "text": [
      "Epoch 1108 cost: 0.09225354028024221\n"
     ]
    },
    {
     "name": "stdout",
     "output_type": "stream",
     "text": [
      "Epoch 1109 cost: 0.09796759465325026\n"
     ]
    },
    {
     "name": "stdout",
     "output_type": "stream",
     "text": [
      "Epoch 1110 cost: 0.10277329552143045\n"
     ]
    },
    {
     "name": "stdout",
     "output_type": "stream",
     "text": [
      "Epoch 1111 cost: 0.10805137882395774\n"
     ]
    },
    {
     "name": "stdout",
     "output_type": "stream",
     "text": [
      "Epoch 1112 cost: 0.11071497963992383\n"
     ]
    },
    {
     "name": "stdout",
     "output_type": "stream",
     "text": [
      "Epoch 1113 cost: 0.09924638129273831\n"
     ]
    },
    {
     "name": "stdout",
     "output_type": "stream",
     "text": [
      "Epoch 1114 cost: 0.09831185104769524\n"
     ]
    },
    {
     "name": "stdout",
     "output_type": "stream",
     "text": [
      "Epoch 1115 cost: 0.0983057799953229\n"
     ]
    },
    {
     "name": "stdout",
     "output_type": "stream",
     "text": [
      "Epoch 1116 cost: 0.09404490450313228\n"
     ]
    },
    {
     "name": "stdout",
     "output_type": "stream",
     "text": [
      "Epoch 1117 cost: 0.09617513537950052\n"
     ]
    },
    {
     "name": "stdout",
     "output_type": "stream",
     "text": [
      "Epoch 1118 cost: 0.10958876243967289\n"
     ]
    },
    {
     "name": "stdout",
     "output_type": "stream",
     "text": [
      "Epoch 1119 cost: 0.09293556106053284\n"
     ]
    },
    {
     "name": "stdout",
     "output_type": "stream",
     "text": [
      "Epoch 1120 cost: 0.09457115917330829\n"
     ]
    },
    {
     "name": "stdout",
     "output_type": "stream",
     "text": [
      "Epoch 1121 cost: 0.09935027915463919\n"
     ]
    },
    {
     "name": "stdout",
     "output_type": "stream",
     "text": [
      "Epoch 1122 cost: 0.10232139357509314\n"
     ]
    },
    {
     "name": "stdout",
     "output_type": "stream",
     "text": [
      "Epoch 1123 cost: 0.09999990176375165\n"
     ]
    },
    {
     "name": "stdout",
     "output_type": "stream",
     "text": [
      "Epoch 1124 cost: 0.09852413195170433\n"
     ]
    },
    {
     "name": "stdout",
     "output_type": "stream",
     "text": [
      "Epoch 1125 cost: 0.09844645921548742\n"
     ]
    },
    {
     "name": "stdout",
     "output_type": "stream",
     "text": [
      "Epoch 1126 cost: 0.10089979195798902\n"
     ]
    },
    {
     "name": "stdout",
     "output_type": "stream",
     "text": [
      "Epoch 1127 cost: 0.09406948774447693\n"
     ]
    },
    {
     "name": "stdout",
     "output_type": "stream",
     "text": [
      "Epoch 1128 cost: 0.09500224404568465\n"
     ]
    },
    {
     "name": "stdout",
     "output_type": "stream",
     "text": [
      "Epoch 1129 cost: 0.09324452797116578\n"
     ]
    },
    {
     "name": "stdout",
     "output_type": "stream",
     "text": [
      "Epoch 1130 cost: 0.1065857566142488\n"
     ]
    },
    {
     "name": "stdout",
     "output_type": "stream",
     "text": [
      "Epoch 1131 cost: 0.09807211393418104\n"
     ]
    },
    {
     "name": "stdout",
     "output_type": "stream",
     "text": [
      "Epoch 1132 cost: 0.09989418350326476\n"
     ]
    },
    {
     "name": "stdout",
     "output_type": "stream",
     "text": [
      "Epoch 1133 cost: 0.09846119237571328\n"
     ]
    },
    {
     "name": "stdout",
     "output_type": "stream",
     "text": [
      "Epoch 1134 cost: 0.10406421211587832\n"
     ]
    },
    {
     "name": "stdout",
     "output_type": "stream",
     "text": [
      "Epoch 1135 cost: 0.09343277803517097\n"
     ]
    },
    {
     "name": "stdout",
     "output_type": "stream",
     "text": [
      "Epoch 1136 cost: 0.09774267104472398\n"
     ]
    },
    {
     "name": "stdout",
     "output_type": "stream",
     "text": [
      "Epoch 1137 cost: 0.09677364011599401\n"
     ]
    },
    {
     "name": "stdout",
     "output_type": "stream",
     "text": [
      "Epoch 1138 cost: 0.09383696401466197\n"
     ]
    },
    {
     "name": "stdout",
     "output_type": "stream",
     "text": [
      "Epoch 1139 cost: 0.09779504763128473\n"
     ]
    },
    {
     "name": "stdout",
     "output_type": "stream",
     "text": [
      "Epoch 1140 cost: 0.09699014533019962\n"
     ]
    },
    {
     "name": "stdout",
     "output_type": "stream",
     "text": [
      "Epoch 1141 cost: 0.09231986756835789\n"
     ]
    },
    {
     "name": "stdout",
     "output_type": "stream",
     "text": [
      "Epoch 1142 cost: 0.09282932074844549\n"
     ]
    },
    {
     "name": "stdout",
     "output_type": "stream",
     "text": [
      "Epoch 1143 cost: 0.0943258758028462\n"
     ]
    },
    {
     "name": "stdout",
     "output_type": "stream",
     "text": [
      "Epoch 1144 cost: 0.09831991826524551\n"
     ]
    },
    {
     "name": "stdout",
     "output_type": "stream",
     "text": [
      "Epoch 1145 cost: 0.09741950323862911\n"
     ]
    },
    {
     "name": "stdout",
     "output_type": "stream",
     "text": [
      "Epoch 1146 cost: 0.09244531190640583\n"
     ]
    },
    {
     "name": "stdout",
     "output_type": "stream",
     "text": [
      "Epoch 1147 cost: 0.09441061071099997\n"
     ]
    },
    {
     "name": "stdout",
     "output_type": "stream",
     "text": [
      "Epoch 1148 cost: 0.09532875374936878\n"
     ]
    },
    {
     "name": "stdout",
     "output_type": "stream",
     "text": [
      "Epoch 1149 cost: 0.10900889201861827\n"
     ]
    },
    {
     "name": "stdout",
     "output_type": "stream",
     "text": [
      "Epoch 1150 cost: 0.0954095244242225\n"
     ]
    },
    {
     "name": "stdout",
     "output_type": "stream",
     "text": [
      "Epoch 1151 cost: 0.1007695587887475\n"
     ]
    },
    {
     "name": "stdout",
     "output_type": "stream",
     "text": [
      "Epoch 1152 cost: 0.10592114564347636\n"
     ]
    },
    {
     "name": "stdout",
     "output_type": "stream",
     "text": [
      "Epoch 1153 cost: 0.09582437483562407\n"
     ]
    },
    {
     "name": "stdout",
     "output_type": "stream",
     "text": [
      "Epoch 1154 cost: 0.10473150137962463\n"
     ]
    },
    {
     "name": "stdout",
     "output_type": "stream",
     "text": [
      "Epoch 1155 cost: 0.0949314853038187\n"
     ]
    },
    {
     "name": "stdout",
     "output_type": "stream",
     "text": [
      "Epoch 1156 cost: 0.09271074853857054\n"
     ]
    },
    {
     "name": "stdout",
     "output_type": "stream",
     "text": [
      "Epoch 1157 cost: 0.09717054574354055\n"
     ]
    },
    {
     "name": "stdout",
     "output_type": "stream",
     "text": [
      "Epoch 1158 cost: 0.09339942607142016\n"
     ]
    },
    {
     "name": "stdout",
     "output_type": "stream",
     "text": [
      "Epoch 1159 cost: 0.09468135940666339\n"
     ]
    },
    {
     "name": "stdout",
     "output_type": "stream",
     "text": [
      "Epoch 1160 cost: 0.09694406512906445\n"
     ]
    },
    {
     "name": "stdout",
     "output_type": "stream",
     "text": [
      "Epoch 1161 cost: 0.09064751430376816\n"
     ]
    },
    {
     "name": "stdout",
     "output_type": "stream",
     "text": [
      "Epoch 1162 cost: 0.09290017119417031\n"
     ]
    },
    {
     "name": "stdout",
     "output_type": "stream",
     "text": [
      "Epoch 1163 cost: 0.09409506025237152\n"
     ]
    },
    {
     "name": "stdout",
     "output_type": "stream",
     "text": [
      "Epoch 1164 cost: 0.09754963058397555\n"
     ]
    },
    {
     "name": "stdout",
     "output_type": "stream",
     "text": [
      "Epoch 1165 cost: 0.0963151514976351\n"
     ]
    },
    {
     "name": "stdout",
     "output_type": "stream",
     "text": [
      "Epoch 1166 cost: 0.09303380700998234\n"
     ]
    },
    {
     "name": "stdout",
     "output_type": "stream",
     "text": [
      "Epoch 1167 cost: 0.09531917038767923\n"
     ]
    },
    {
     "name": "stdout",
     "output_type": "stream",
     "text": [
      "Epoch 1168 cost: 0.09842001001202859\n"
     ]
    },
    {
     "name": "stdout",
     "output_type": "stream",
     "text": [
      "Epoch 1169 cost: 0.09931633009913804\n"
     ]
    },
    {
     "name": "stdout",
     "output_type": "stream",
     "text": [
      "Epoch 1170 cost: 0.09560234392500032\n"
     ]
    },
    {
     "name": "stdout",
     "output_type": "stream",
     "text": [
      "Epoch 1171 cost: 0.0929958512945677\n"
     ]
    },
    {
     "name": "stdout",
     "output_type": "stream",
     "text": [
      "Epoch 1172 cost: 0.10185709350784553\n"
     ]
    },
    {
     "name": "stdout",
     "output_type": "stream",
     "text": [
      "Epoch 1173 cost: 0.09227792433893796\n"
     ]
    },
    {
     "name": "stdout",
     "output_type": "stream",
     "text": [
      "Epoch 1174 cost: 0.09970248577199659\n"
     ]
    },
    {
     "name": "stdout",
     "output_type": "stream",
     "text": [
      "Epoch 1175 cost: 0.09901288938603253\n"
     ]
    },
    {
     "name": "stdout",
     "output_type": "stream",
     "text": [
      "Epoch 1176 cost: 0.09111765087878236\n"
     ]
    },
    {
     "name": "stdout",
     "output_type": "stream",
     "text": [
      "Epoch 1177 cost: 0.09482762477555723\n"
     ]
    },
    {
     "name": "stdout",
     "output_type": "stream",
     "text": [
      "Epoch 1178 cost: 0.0969095745577539\n"
     ]
    },
    {
     "name": "stdout",
     "output_type": "stream",
     "text": [
      "Epoch 1179 cost: 0.09930473421479016\n"
     ]
    },
    {
     "name": "stdout",
     "output_type": "stream",
     "text": [
      "Epoch 1180 cost: 0.09889252140891194\n"
     ]
    },
    {
     "name": "stdout",
     "output_type": "stream",
     "text": [
      "Epoch 1181 cost: 0.09684736405633382\n"
     ]
    },
    {
     "name": "stdout",
     "output_type": "stream",
     "text": [
      "Epoch 1182 cost: 0.09854547396930585\n"
     ]
    },
    {
     "name": "stdout",
     "output_type": "stream",
     "text": [
      "Epoch 1183 cost: 0.09280910553672404\n"
     ]
    },
    {
     "name": "stdout",
     "output_type": "stream",
     "text": [
      "Epoch 1184 cost: 0.0901874190664635\n"
     ]
    },
    {
     "name": "stdout",
     "output_type": "stream",
     "text": [
      "Epoch 1185 cost: 0.09225339296949665\n"
     ]
    },
    {
     "name": "stdout",
     "output_type": "stream",
     "text": [
      "Epoch 1186 cost: 0.09757089629775373\n"
     ]
    },
    {
     "name": "stdout",
     "output_type": "stream",
     "text": [
      "Epoch 1187 cost: 0.10712209126810775\n"
     ]
    },
    {
     "name": "stdout",
     "output_type": "stream",
     "text": [
      "Epoch 1188 cost: 0.09176587680407816\n"
     ]
    },
    {
     "name": "stdout",
     "output_type": "stream",
     "text": [
      "Epoch 1189 cost: 0.09279311819677165\n"
     ]
    },
    {
     "name": "stdout",
     "output_type": "stream",
     "text": [
      "Epoch 1190 cost: 0.08812631595487315\n"
     ]
    },
    {
     "name": "stdout",
     "output_type": "stream",
     "text": [
      "Epoch 1191 cost: 0.09152979533024766\n"
     ]
    },
    {
     "name": "stdout",
     "output_type": "stream",
     "text": [
      "Epoch 1192 cost: 0.09607547521925017\n"
     ]
    },
    {
     "name": "stdout",
     "output_type": "stream",
     "text": [
      "Epoch 1193 cost: 0.09105396846106692\n"
     ]
    },
    {
     "name": "stdout",
     "output_type": "stream",
     "text": [
      "Epoch 1194 cost: 0.09107370775002123\n"
     ]
    },
    {
     "name": "stdout",
     "output_type": "stream",
     "text": [
      "Epoch 1195 cost: 0.09285843105061029\n"
     ]
    },
    {
     "name": "stdout",
     "output_type": "stream",
     "text": [
      "Epoch 1196 cost: 0.09404412037638944\n"
     ]
    },
    {
     "name": "stdout",
     "output_type": "stream",
     "text": [
      "Epoch 1197 cost: 0.08956923654377191\n"
     ]
    },
    {
     "name": "stdout",
     "output_type": "stream",
     "text": [
      "Epoch 1198 cost: 0.08903880786877184\n"
     ]
    },
    {
     "name": "stdout",
     "output_type": "stream",
     "text": [
      "Epoch 1199 cost: 0.09058115169465504\n"
     ]
    },
    {
     "name": "stdout",
     "output_type": "stream",
     "text": [
      "Epoch 1200 cost: 0.0976638411179522\n"
     ]
    },
    {
     "name": "stdout",
     "output_type": "stream",
     "text": [
      "Epoch 1201 cost: 0.08981634396113947\n"
     ]
    },
    {
     "name": "stdout",
     "output_type": "stream",
     "text": [
      "Epoch 1202 cost: 0.09346712270079398\n"
     ]
    },
    {
     "name": "stdout",
     "output_type": "stream",
     "text": [
      "Epoch 1203 cost: 0.08992837953470091\n"
     ]
    },
    {
     "name": "stdout",
     "output_type": "stream",
     "text": [
      "Epoch 1204 cost: 0.08774951367577512\n"
     ]
    },
    {
     "name": "stdout",
     "output_type": "stream",
     "text": [
      "Epoch 1205 cost: 0.11018177025026986\n"
     ]
    },
    {
     "name": "stdout",
     "output_type": "stream",
     "text": [
      "Epoch 1206 cost: 0.09535861595133607\n"
     ]
    },
    {
     "name": "stdout",
     "output_type": "stream",
     "text": [
      "Epoch 1207 cost: 0.09081317487159515\n"
     ]
    },
    {
     "name": "stdout",
     "output_type": "stream",
     "text": [
      "Epoch 1208 cost: 0.09128044837587318\n"
     ]
    },
    {
     "name": "stdout",
     "output_type": "stream",
     "text": [
      "Epoch 1209 cost: 0.0920250643477333\n"
     ]
    },
    {
     "name": "stdout",
     "output_type": "stream",
     "text": [
      "Epoch 1210 cost: 0.08636694253141132\n"
     ]
    },
    {
     "name": "stdout",
     "output_type": "stream",
     "text": [
      "Epoch 1211 cost: 0.09069266406492957\n"
     ]
    },
    {
     "name": "stdout",
     "output_type": "stream",
     "text": [
      "Epoch 1212 cost: 0.09321402863635914\n"
     ]
    },
    {
     "name": "stdout",
     "output_type": "stream",
     "text": [
      "Epoch 1213 cost: 0.09243042448042563\n"
     ]
    },
    {
     "name": "stdout",
     "output_type": "stream",
     "text": [
      "Epoch 1214 cost: 0.10111592406318318\n"
     ]
    },
    {
     "name": "stdout",
     "output_type": "stream",
     "text": [
      "Epoch 1215 cost: 0.09620333720306892\n"
     ]
    },
    {
     "name": "stdout",
     "output_type": "stream",
     "text": [
      "Epoch 1216 cost: 0.09186508931089388\n"
     ]
    },
    {
     "name": "stdout",
     "output_type": "stream",
     "text": [
      "Epoch 1217 cost: 0.09664107619997006\n"
     ]
    },
    {
     "name": "stdout",
     "output_type": "stream",
     "text": [
      "Epoch 1218 cost: 0.09267308521223507\n"
     ]
    },
    {
     "name": "stdout",
     "output_type": "stream",
     "text": [
      "Epoch 1219 cost: 0.09875721106512399\n"
     ]
    },
    {
     "name": "stdout",
     "output_type": "stream",
     "text": [
      "Epoch 1220 cost: 0.10297437382101457\n"
     ]
    },
    {
     "name": "stdout",
     "output_type": "stream",
     "text": [
      "Epoch 1221 cost: 0.09984517763630171\n"
     ]
    },
    {
     "name": "stdout",
     "output_type": "stream",
     "text": [
      "Epoch 1222 cost: 0.1009565822141067\n"
     ]
    },
    {
     "name": "stdout",
     "output_type": "stream",
     "text": [
      "Epoch 1223 cost: 0.09926588788733196\n"
     ]
    },
    {
     "name": "stdout",
     "output_type": "stream",
     "text": [
      "Epoch 1224 cost: 0.10064583797878211\n"
     ]
    },
    {
     "name": "stdout",
     "output_type": "stream",
     "text": [
      "Epoch 1225 cost: 0.08959439087538022\n"
     ]
    },
    {
     "name": "stdout",
     "output_type": "stream",
     "text": [
      "Epoch 1226 cost: 0.09031665063089168\n"
     ]
    },
    {
     "name": "stdout",
     "output_type": "stream",
     "text": [
      "Epoch 1227 cost: 0.09948365994782432\n"
     ]
    },
    {
     "name": "stdout",
     "output_type": "stream",
     "text": [
      "Epoch 1228 cost: 0.0906219671204642\n"
     ]
    },
    {
     "name": "stdout",
     "output_type": "stream",
     "text": [
      "Epoch 1229 cost: 0.09502724270353809\n"
     ]
    },
    {
     "name": "stdout",
     "output_type": "stream",
     "text": [
      "Epoch 1230 cost: 0.09356124786415707\n"
     ]
    },
    {
     "name": "stdout",
     "output_type": "stream",
     "text": [
      "Epoch 1231 cost: 0.08736516449607792\n"
     ]
    },
    {
     "name": "stdout",
     "output_type": "stream",
     "text": [
      "Epoch 1232 cost: 0.08610037089587676\n"
     ]
    },
    {
     "name": "stdout",
     "output_type": "stream",
     "text": [
      "Epoch 1233 cost: 0.08784110093604479\n"
     ]
    },
    {
     "name": "stdout",
     "output_type": "stream",
     "text": [
      "Epoch 1234 cost: 0.09228500093893012\n"
     ]
    },
    {
     "name": "stdout",
     "output_type": "stream",
     "text": [
      "Epoch 1235 cost: 0.08750505619998088\n"
     ]
    },
    {
     "name": "stdout",
     "output_type": "stream",
     "text": [
      "Epoch 1236 cost: 0.08598789592393245\n"
     ]
    },
    {
     "name": "stdout",
     "output_type": "stream",
     "text": [
      "Epoch 1237 cost: 0.11760440418015183\n"
     ]
    },
    {
     "name": "stdout",
     "output_type": "stream",
     "text": [
      "Epoch 1238 cost: 0.08670734191942353\n"
     ]
    },
    {
     "name": "stdout",
     "output_type": "stream",
     "text": [
      "Epoch 1239 cost: 0.09073110774909095\n"
     ]
    },
    {
     "name": "stdout",
     "output_type": "stream",
     "text": [
      "Epoch 1240 cost: 0.11275949958687466\n"
     ]
    },
    {
     "name": "stdout",
     "output_type": "stream",
     "text": [
      "Epoch 1241 cost: 0.09231747805474128\n"
     ]
    },
    {
     "name": "stdout",
     "output_type": "stream",
     "text": [
      "Epoch 1242 cost: 0.08852610636374392\n"
     ]
    },
    {
     "name": "stdout",
     "output_type": "stream",
     "text": [
      "Epoch 1243 cost: 0.0915360171406538\n"
     ]
    },
    {
     "name": "stdout",
     "output_type": "stream",
     "text": [
      "Epoch 1244 cost: 0.089040804784422\n"
     ]
    },
    {
     "name": "stdout",
     "output_type": "stream",
     "text": [
      "Epoch 1245 cost: 0.08895062028088478\n"
     ]
    },
    {
     "name": "stdout",
     "output_type": "stream",
     "text": [
      "Epoch 1246 cost: 0.08996272491827798\n"
     ]
    },
    {
     "name": "stdout",
     "output_type": "stream",
     "text": [
      "Epoch 1247 cost: 0.0901581413014005\n"
     ]
    },
    {
     "name": "stdout",
     "output_type": "stream",
     "text": [
      "Epoch 1248 cost: 0.09200233208477004\n"
     ]
    },
    {
     "name": "stdout",
     "output_type": "stream",
     "text": [
      "Epoch 1249 cost: 0.10007277949399887\n"
     ]
    },
    {
     "name": "stdout",
     "output_type": "stream",
     "text": [
      "Epoch 1250 cost: 0.08560641392635938\n"
     ]
    },
    {
     "name": "stdout",
     "output_type": "stream",
     "text": [
      "Epoch 1251 cost: 0.0915891052929198\n"
     ]
    },
    {
     "name": "stdout",
     "output_type": "stream",
     "text": [
      "Epoch 1252 cost: 0.0908134046993284\n"
     ]
    },
    {
     "name": "stdout",
     "output_type": "stream",
     "text": [
      "Epoch 1253 cost: 0.08794192101835348\n"
     ]
    },
    {
     "name": "stdout",
     "output_type": "stream",
     "text": [
      "Epoch 1254 cost: 0.09562934324228203\n"
     ]
    },
    {
     "name": "stdout",
     "output_type": "stream",
     "text": [
      "Epoch 1255 cost: 0.08748018068174486\n"
     ]
    },
    {
     "name": "stdout",
     "output_type": "stream",
     "text": [
      "Epoch 1256 cost: 0.0916735353796944\n"
     ]
    },
    {
     "name": "stdout",
     "output_type": "stream",
     "text": [
      "Epoch 1257 cost: 0.09354292756858937\n"
     ]
    },
    {
     "name": "stdout",
     "output_type": "stream",
     "text": [
      "Epoch 1258 cost: 0.11087283829628287\n"
     ]
    },
    {
     "name": "stdout",
     "output_type": "stream",
     "text": [
      "Epoch 1259 cost: 0.09389883547901848\n"
     ]
    },
    {
     "name": "stdout",
     "output_type": "stream",
     "text": [
      "Epoch 1260 cost: 0.09617715703835421\n"
     ]
    },
    {
     "name": "stdout",
     "output_type": "stream",
     "text": [
      "Epoch 1261 cost: 0.10607781741156767\n"
     ]
    },
    {
     "name": "stdout",
     "output_type": "stream",
     "text": [
      "Epoch 1262 cost: 0.09501715502445678\n"
     ]
    },
    {
     "name": "stdout",
     "output_type": "stream",
     "text": [
      "Epoch 1263 cost: 0.09034826937489396\n"
     ]
    },
    {
     "name": "stdout",
     "output_type": "stream",
     "text": [
      "Epoch 1264 cost: 0.08416820443068501\n"
     ]
    },
    {
     "name": "stdout",
     "output_type": "stream",
     "text": [
      "Epoch 1265 cost: 0.08815688855672842\n"
     ]
    },
    {
     "name": "stdout",
     "output_type": "stream",
     "text": [
      "Epoch 1266 cost: 0.0935436250459263\n"
     ]
    },
    {
     "name": "stdout",
     "output_type": "stream",
     "text": [
      "Epoch 1267 cost: 0.08633484852815225\n"
     ]
    },
    {
     "name": "stdout",
     "output_type": "stream",
     "text": [
      "Epoch 1268 cost: 0.0857017765500421\n"
     ]
    },
    {
     "name": "stdout",
     "output_type": "stream",
     "text": [
      "Epoch 1269 cost: 0.09191910705657615\n"
     ]
    },
    {
     "name": "stdout",
     "output_type": "stream",
     "text": [
      "Epoch 1270 cost: 0.08516682378019777\n"
     ]
    },
    {
     "name": "stdout",
     "output_type": "stream",
     "text": [
      "Epoch 1271 cost: 0.08609005057734548\n"
     ]
    },
    {
     "name": "stdout",
     "output_type": "stream",
     "text": [
      "Epoch 1272 cost: 0.08652809984239379\n"
     ]
    },
    {
     "name": "stdout",
     "output_type": "stream",
     "text": [
      "Epoch 1273 cost: 0.08922779803853263\n"
     ]
    },
    {
     "name": "stdout",
     "output_type": "stream",
     "text": [
      "Epoch 1274 cost: 0.0798861936239103\n"
     ]
    },
    {
     "name": "stdout",
     "output_type": "stream",
     "text": [
      "Epoch 1275 cost: 0.08901491339293752\n"
     ]
    },
    {
     "name": "stdout",
     "output_type": "stream",
     "text": [
      "Epoch 1276 cost: 0.08722732871714485\n"
     ]
    },
    {
     "name": "stdout",
     "output_type": "stream",
     "text": [
      "Epoch 1277 cost: 0.08842038390324594\n"
     ]
    },
    {
     "name": "stdout",
     "output_type": "stream",
     "text": [
      "Epoch 1278 cost: 0.09624098155008833\n"
     ]
    },
    {
     "name": "stdout",
     "output_type": "stream",
     "text": [
      "Epoch 1279 cost: 0.08596120549565268\n"
     ]
    },
    {
     "name": "stdout",
     "output_type": "stream",
     "text": [
      "Epoch 1280 cost: 0.10864871513272853\n"
     ]
    },
    {
     "name": "stdout",
     "output_type": "stream",
     "text": [
      "Epoch 1281 cost: 0.08945923380359257\n"
     ]
    },
    {
     "name": "stdout",
     "output_type": "stream",
     "text": [
      "Epoch 1282 cost: 0.08475125275997786\n"
     ]
    },
    {
     "name": "stdout",
     "output_type": "stream",
     "text": [
      "Epoch 1283 cost: 0.08671603086917884\n"
     ]
    },
    {
     "name": "stdout",
     "output_type": "stream",
     "text": [
      "Epoch 1284 cost: 0.09132369234201826\n"
     ]
    },
    {
     "name": "stdout",
     "output_type": "stream",
     "text": [
      "Epoch 1285 cost: 0.09753859387498033\n"
     ]
    },
    {
     "name": "stdout",
     "output_type": "stream",
     "text": [
      "Epoch 1286 cost: 0.09894049145952552\n"
     ]
    },
    {
     "name": "stdout",
     "output_type": "stream",
     "text": [
      "Epoch 1287 cost: 0.09878991848334023\n"
     ]
    },
    {
     "name": "stdout",
     "output_type": "stream",
     "text": [
      "Epoch 1288 cost: 0.08686511635102752\n"
     ]
    },
    {
     "name": "stdout",
     "output_type": "stream",
     "text": [
      "Epoch 1289 cost: 0.08509391420747128\n"
     ]
    },
    {
     "name": "stdout",
     "output_type": "stream",
     "text": [
      "Epoch 1290 cost: 0.08705515505659657\n"
     ]
    },
    {
     "name": "stdout",
     "output_type": "stream",
     "text": [
      "Epoch 1291 cost: 0.08634427135359772\n"
     ]
    },
    {
     "name": "stdout",
     "output_type": "stream",
     "text": [
      "Epoch 1292 cost: 0.08513922226043386\n"
     ]
    },
    {
     "name": "stdout",
     "output_type": "stream",
     "text": [
      "Epoch 1293 cost: 0.08870934978505972\n"
     ]
    },
    {
     "name": "stdout",
     "output_type": "stream",
     "text": [
      "Epoch 1294 cost: 0.0965293620416752\n"
     ]
    },
    {
     "name": "stdout",
     "output_type": "stream",
     "text": [
      "Epoch 1295 cost: 0.08569658720409597\n"
     ]
    },
    {
     "name": "stdout",
     "output_type": "stream",
     "text": [
      "Epoch 1296 cost: 0.08660255985719155\n"
     ]
    },
    {
     "name": "stdout",
     "output_type": "stream",
     "text": [
      "Epoch 1297 cost: 0.08070815292307523\n"
     ]
    },
    {
     "name": "stdout",
     "output_type": "stream",
     "text": [
      "Epoch 1298 cost: 0.08755572321948067\n"
     ]
    },
    {
     "name": "stdout",
     "output_type": "stream",
     "text": [
      "Epoch 1299 cost: 0.08915673455103153\n"
     ]
    },
    {
     "name": "stdout",
     "output_type": "stream",
     "text": [
      "Epoch 1300 cost: 0.08773451105141424\n"
     ]
    },
    {
     "name": "stdout",
     "output_type": "stream",
     "text": [
      "Epoch 1301 cost: 0.08366113671261567\n"
     ]
    },
    {
     "name": "stdout",
     "output_type": "stream",
     "text": [
      "Epoch 1302 cost: 0.08484645337678409\n"
     ]
    },
    {
     "name": "stdout",
     "output_type": "stream",
     "text": [
      "Epoch 1303 cost: 0.08125953603736814\n"
     ]
    },
    {
     "name": "stdout",
     "output_type": "stream",
     "text": [
      "Epoch 1304 cost: 0.08596484689519625\n"
     ]
    },
    {
     "name": "stdout",
     "output_type": "stream",
     "text": [
      "Epoch 1305 cost: 0.08870373497268928\n"
     ]
    },
    {
     "name": "stdout",
     "output_type": "stream",
     "text": [
      "Epoch 1306 cost: 0.08367401873825113\n"
     ]
    },
    {
     "name": "stdout",
     "output_type": "stream",
     "text": [
      "Epoch 1307 cost: 0.0828174969186427\n"
     ]
    },
    {
     "name": "stdout",
     "output_type": "stream",
     "text": [
      "Epoch 1308 cost: 0.08953175158113186\n"
     ]
    },
    {
     "name": "stdout",
     "output_type": "stream",
     "text": [
      "Epoch 1309 cost: 0.08787891245538544\n"
     ]
    },
    {
     "name": "stdout",
     "output_type": "stream",
     "text": [
      "Epoch 1310 cost: 0.0827408634873107\n"
     ]
    },
    {
     "name": "stdout",
     "output_type": "stream",
     "text": [
      "Epoch 1311 cost: 0.08466292048926505\n"
     ]
    },
    {
     "name": "stdout",
     "output_type": "stream",
     "text": [
      "Epoch 1312 cost: 0.09358722671134219\n"
     ]
    },
    {
     "name": "stdout",
     "output_type": "stream",
     "text": [
      "Epoch 1313 cost: 0.08397170858401763\n"
     ]
    },
    {
     "name": "stdout",
     "output_type": "stream",
     "text": [
      "Epoch 1314 cost: 0.0851286246603362\n"
     ]
    },
    {
     "name": "stdout",
     "output_type": "stream",
     "text": [
      "Epoch 1315 cost: 0.08732323602261714\n"
     ]
    },
    {
     "name": "stdout",
     "output_type": "stream",
     "text": [
      "Epoch 1316 cost: 0.08334083069337002\n"
     ]
    },
    {
     "name": "stdout",
     "output_type": "stream",
     "text": [
      "Epoch 1317 cost: 0.08792592697979539\n"
     ]
    },
    {
     "name": "stdout",
     "output_type": "stream",
     "text": [
      "Epoch 1318 cost: 0.08710378308254532\n"
     ]
    },
    {
     "name": "stdout",
     "output_type": "stream",
     "text": [
      "Epoch 1319 cost: 0.08821308717038943\n"
     ]
    },
    {
     "name": "stdout",
     "output_type": "stream",
     "text": [
      "Epoch 1320 cost: 0.10255631202102365\n"
     ]
    },
    {
     "name": "stdout",
     "output_type": "stream",
     "text": [
      "Epoch 1321 cost: 0.08905673194111821\n"
     ]
    },
    {
     "name": "stdout",
     "output_type": "stream",
     "text": [
      "Epoch 1322 cost: 0.0823263837646712\n"
     ]
    },
    {
     "name": "stdout",
     "output_type": "stream",
     "text": [
      "Epoch 1323 cost: 0.08424315931169707\n"
     ]
    },
    {
     "name": "stdout",
     "output_type": "stream",
     "text": [
      "Epoch 1324 cost: 0.08795386118688889\n"
     ]
    },
    {
     "name": "stdout",
     "output_type": "stream",
     "text": [
      "Epoch 1325 cost: 0.08466557346412558\n"
     ]
    },
    {
     "name": "stdout",
     "output_type": "stream",
     "text": [
      "Epoch 1326 cost: 0.08483093955112492\n"
     ]
    },
    {
     "name": "stdout",
     "output_type": "stream",
     "text": [
      "Epoch 1327 cost: 0.08741690592419675\n"
     ]
    },
    {
     "name": "stdout",
     "output_type": "stream",
     "text": [
      "Epoch 1328 cost: 0.08969072497952654\n"
     ]
    },
    {
     "name": "stdout",
     "output_type": "stream",
     "text": [
      "Epoch 1329 cost: 0.08433254404342432\n"
     ]
    },
    {
     "name": "stdout",
     "output_type": "stream",
     "text": [
      "Epoch 1330 cost: 0.08355455599825028\n"
     ]
    },
    {
     "name": "stdout",
     "output_type": "stream",
     "text": [
      "Epoch 1331 cost: 0.0804107126260633\n"
     ]
    },
    {
     "name": "stdout",
     "output_type": "stream",
     "text": [
      "Epoch 1332 cost: 0.08190386289070162\n"
     ]
    },
    {
     "name": "stdout",
     "output_type": "stream",
     "text": [
      "Epoch 1333 cost: 0.07992330840115434\n"
     ]
    },
    {
     "name": "stdout",
     "output_type": "stream",
     "text": [
      "Epoch 1334 cost: 0.08124141821411501\n"
     ]
    },
    {
     "name": "stdout",
     "output_type": "stream",
     "text": [
      "Epoch 1335 cost: 0.08375655023892922\n"
     ]
    },
    {
     "name": "stdout",
     "output_type": "stream",
     "text": [
      "Epoch 1336 cost: 0.08913746301904754\n"
     ]
    },
    {
     "name": "stdout",
     "output_type": "stream",
     "text": [
      "Epoch 1337 cost: 0.09093893267450244\n"
     ]
    },
    {
     "name": "stdout",
     "output_type": "stream",
     "text": [
      "Epoch 1338 cost: 0.08973283902237314\n"
     ]
    },
    {
     "name": "stdout",
     "output_type": "stream",
     "text": [
      "Epoch 1339 cost: 0.08307050676898799\n"
     ]
    },
    {
     "name": "stdout",
     "output_type": "stream",
     "text": [
      "Epoch 1340 cost: 0.08623732322755033\n"
     ]
    },
    {
     "name": "stdout",
     "output_type": "stream",
     "text": [
      "Epoch 1341 cost: 0.09812663313235445\n"
     ]
    },
    {
     "name": "stdout",
     "output_type": "stream",
     "text": [
      "Epoch 1342 cost: 0.08568981786798918\n"
     ]
    },
    {
     "name": "stdout",
     "output_type": "stream",
     "text": [
      "Epoch 1343 cost: 0.07976915603249055\n"
     ]
    },
    {
     "name": "stdout",
     "output_type": "stream",
     "text": [
      "Epoch 1344 cost: 0.08551245645910183\n"
     ]
    },
    {
     "name": "stdout",
     "output_type": "stream",
     "text": [
      "Epoch 1345 cost: 0.08688665238197393\n"
     ]
    },
    {
     "name": "stdout",
     "output_type": "stream",
     "text": [
      "Epoch 1346 cost: 0.08110635269205084\n"
     ]
    },
    {
     "name": "stdout",
     "output_type": "stream",
     "text": [
      "Epoch 1347 cost: 0.08459508774155482\n"
     ]
    },
    {
     "name": "stdout",
     "output_type": "stream",
     "text": [
      "Epoch 1348 cost: 0.09051218150917796\n"
     ]
    },
    {
     "name": "stdout",
     "output_type": "stream",
     "text": [
      "Epoch 1349 cost: 0.08395322671986787\n"
     ]
    },
    {
     "name": "stdout",
     "output_type": "stream",
     "text": [
      "Epoch 1350 cost: 0.08058136950175494\n"
     ]
    },
    {
     "name": "stdout",
     "output_type": "stream",
     "text": [
      "Epoch 1351 cost: 0.0786681023677299\n"
     ]
    },
    {
     "name": "stdout",
     "output_type": "stream",
     "text": [
      "Epoch 1352 cost: 0.09915271901321958\n"
     ]
    },
    {
     "name": "stdout",
     "output_type": "stream",
     "text": [
      "Epoch 1353 cost: 0.0821358817118392\n"
     ]
    },
    {
     "name": "stdout",
     "output_type": "stream",
     "text": [
      "Epoch 1354 cost: 0.08405187916368048\n"
     ]
    },
    {
     "name": "stdout",
     "output_type": "stream",
     "text": [
      "Epoch 1355 cost: 0.08583122549387666\n"
     ]
    },
    {
     "name": "stdout",
     "output_type": "stream",
     "text": [
      "Epoch 1356 cost: 0.0832505977053854\n"
     ]
    },
    {
     "name": "stdout",
     "output_type": "stream",
     "text": [
      "Epoch 1357 cost: 0.0884734884122241\n"
     ]
    },
    {
     "name": "stdout",
     "output_type": "stream",
     "text": [
      "Epoch 1358 cost: 0.08354231307438899\n"
     ]
    },
    {
     "name": "stdout",
     "output_type": "stream",
     "text": [
      "Epoch 1359 cost: 0.08028638116920585\n"
     ]
    },
    {
     "name": "stdout",
     "output_type": "stream",
     "text": [
      "Epoch 1360 cost: 0.08192056231543407\n"
     ]
    },
    {
     "name": "stdout",
     "output_type": "stream",
     "text": [
      "Epoch 1361 cost: 0.07966799991715141\n"
     ]
    },
    {
     "name": "stdout",
     "output_type": "stream",
     "text": [
      "Epoch 1362 cost: 0.07704881228550152\n"
     ]
    },
    {
     "name": "stdout",
     "output_type": "stream",
     "text": [
      "Epoch 1363 cost: 0.08169849567818782\n"
     ]
    },
    {
     "name": "stdout",
     "output_type": "stream",
     "text": [
      "Epoch 1364 cost: 0.08295580995528015\n"
     ]
    },
    {
     "name": "stdout",
     "output_type": "stream",
     "text": [
      "Epoch 1365 cost: 0.0849795574080471\n"
     ]
    },
    {
     "name": "stdout",
     "output_type": "stream",
     "text": [
      "Epoch 1366 cost: 0.08363423995634951\n"
     ]
    },
    {
     "name": "stdout",
     "output_type": "stream",
     "text": [
      "Epoch 1367 cost: 0.07750466160487136\n"
     ]
    },
    {
     "name": "stdout",
     "output_type": "stream",
     "text": [
      "Epoch 1368 cost: 0.07681004769830843\n"
     ]
    },
    {
     "name": "stdout",
     "output_type": "stream",
     "text": [
      "Epoch 1369 cost: 0.0804573307180415\n"
     ]
    },
    {
     "name": "stdout",
     "output_type": "stream",
     "text": [
      "Epoch 1370 cost: 0.07998540956770617\n"
     ]
    },
    {
     "name": "stdout",
     "output_type": "stream",
     "text": [
      "Epoch 1371 cost: 0.0859689665629335\n"
     ]
    },
    {
     "name": "stdout",
     "output_type": "stream",
     "text": [
      "Epoch 1372 cost: 0.08065567497498353\n"
     ]
    },
    {
     "name": "stdout",
     "output_type": "stream",
     "text": [
      "Epoch 1373 cost: 0.08607289708901406\n"
     ]
    },
    {
     "name": "stdout",
     "output_type": "stream",
     "text": [
      "Epoch 1374 cost: 0.08181844945854587\n"
     ]
    },
    {
     "name": "stdout",
     "output_type": "stream",
     "text": [
      "Epoch 1375 cost: 0.08886152760711628\n"
     ]
    },
    {
     "name": "stdout",
     "output_type": "stream",
     "text": [
      "Epoch 1376 cost: 0.08664136847125853\n"
     ]
    },
    {
     "name": "stdout",
     "output_type": "stream",
     "text": [
      "Epoch 1377 cost: 0.0896405691528662\n"
     ]
    },
    {
     "name": "stdout",
     "output_type": "stream",
     "text": [
      "Epoch 1378 cost: 0.07925117631709967\n"
     ]
    },
    {
     "name": "stdout",
     "output_type": "stream",
     "text": [
      "Epoch 1379 cost: 0.08522329653669664\n"
     ]
    },
    {
     "name": "stdout",
     "output_type": "stream",
     "text": [
      "Epoch 1380 cost: 0.07875831029532004\n"
     ]
    },
    {
     "name": "stdout",
     "output_type": "stream",
     "text": [
      "Epoch 1381 cost: 0.07842189141608263\n"
     ]
    },
    {
     "name": "stdout",
     "output_type": "stream",
     "text": [
      "Epoch 1382 cost: 0.08089100868945638\n"
     ]
    },
    {
     "name": "stdout",
     "output_type": "stream",
     "text": [
      "Epoch 1383 cost: 0.09197469968705317\n"
     ]
    },
    {
     "name": "stdout",
     "output_type": "stream",
     "text": [
      "Epoch 1384 cost: 0.07655339021982412\n"
     ]
    },
    {
     "name": "stdout",
     "output_type": "stream",
     "text": [
      "Epoch 1385 cost: 0.0828837681390489\n"
     ]
    },
    {
     "name": "stdout",
     "output_type": "stream",
     "text": [
      "Epoch 1386 cost: 0.08932474186286364\n"
     ]
    },
    {
     "name": "stdout",
     "output_type": "stream",
     "text": [
      "Epoch 1387 cost: 0.08236313425177412\n"
     ]
    },
    {
     "name": "stdout",
     "output_type": "stream",
     "text": [
      "Epoch 1388 cost: 0.07745188709167805\n"
     ]
    },
    {
     "name": "stdout",
     "output_type": "stream",
     "text": [
      "Epoch 1389 cost: 0.07580742572570996\n"
     ]
    },
    {
     "name": "stdout",
     "output_type": "stream",
     "text": [
      "Epoch 1390 cost: 0.0774709497742225\n"
     ]
    },
    {
     "name": "stdout",
     "output_type": "stream",
     "text": [
      "Epoch 1391 cost: 0.07908702048792467\n"
     ]
    },
    {
     "name": "stdout",
     "output_type": "stream",
     "text": [
      "Epoch 1392 cost: 0.0817641502840897\n"
     ]
    },
    {
     "name": "stdout",
     "output_type": "stream",
     "text": [
      "Epoch 1393 cost: 0.08182048825529882\n"
     ]
    },
    {
     "name": "stdout",
     "output_type": "stream",
     "text": [
      "Epoch 1394 cost: 0.0815513104988875\n"
     ]
    },
    {
     "name": "stdout",
     "output_type": "stream",
     "text": [
      "Epoch 1395 cost: 0.08020677967047668\n"
     ]
    },
    {
     "name": "stdout",
     "output_type": "stream",
     "text": [
      "Epoch 1396 cost: 0.08144782883243645\n"
     ]
    },
    {
     "name": "stdout",
     "output_type": "stream",
     "text": [
      "Epoch 1397 cost: 0.07928945370883184\n"
     ]
    },
    {
     "name": "stdout",
     "output_type": "stream",
     "text": [
      "Epoch 1398 cost: 0.08357009985027956\n"
     ]
    },
    {
     "name": "stdout",
     "output_type": "stream",
     "text": [
      "Epoch 1399 cost: 0.08746855583200633\n"
     ]
    },
    {
     "name": "stdout",
     "output_type": "stream",
     "text": [
      "Epoch 1400 cost: 0.08857871327848038\n"
     ]
    },
    {
     "name": "stdout",
     "output_type": "stream",
     "text": [
      "Epoch 1401 cost: 0.08387741526318117\n"
     ]
    },
    {
     "name": "stdout",
     "output_type": "stream",
     "text": [
      "Epoch 1402 cost: 0.08109671689508666\n"
     ]
    },
    {
     "name": "stdout",
     "output_type": "stream",
     "text": [
      "Epoch 1403 cost: 0.08046455276118743\n"
     ]
    },
    {
     "name": "stdout",
     "output_type": "stream",
     "text": [
      "Epoch 1404 cost: 0.07915267479463807\n"
     ]
    },
    {
     "name": "stdout",
     "output_type": "stream",
     "text": [
      "Epoch 1405 cost: 0.07655808162546587\n"
     ]
    },
    {
     "name": "stdout",
     "output_type": "stream",
     "text": [
      "Epoch 1406 cost: 0.08107096361066421\n"
     ]
    },
    {
     "name": "stdout",
     "output_type": "stream",
     "text": [
      "Epoch 1407 cost: 0.07724234001707356\n"
     ]
    },
    {
     "name": "stdout",
     "output_type": "stream",
     "text": [
      "Epoch 1408 cost: 0.08774488413725438\n"
     ]
    },
    {
     "name": "stdout",
     "output_type": "stream",
     "text": [
      "Epoch 1409 cost: 0.07741048398301058\n"
     ]
    },
    {
     "name": "stdout",
     "output_type": "stream",
     "text": [
      "Epoch 1410 cost: 0.07692586485229325\n"
     ]
    },
    {
     "name": "stdout",
     "output_type": "stream",
     "text": [
      "Epoch 1411 cost: 0.07540092560897896\n"
     ]
    },
    {
     "name": "stdout",
     "output_type": "stream",
     "text": [
      "Epoch 1412 cost: 0.08194519228197242\n"
     ]
    },
    {
     "name": "stdout",
     "output_type": "stream",
     "text": [
      "Epoch 1413 cost: 0.08453594549137398\n"
     ]
    },
    {
     "name": "stdout",
     "output_type": "stream",
     "text": [
      "Epoch 1414 cost: 0.07794046677142429\n"
     ]
    },
    {
     "name": "stdout",
     "output_type": "stream",
     "text": [
      "Epoch 1415 cost: 0.0792593141377349\n"
     ]
    },
    {
     "name": "stdout",
     "output_type": "stream",
     "text": [
      "Epoch 1416 cost: 0.07985324018316131\n"
     ]
    },
    {
     "name": "stdout",
     "output_type": "stream",
     "text": [
      "Epoch 1417 cost: 0.0833453469543755\n"
     ]
    },
    {
     "name": "stdout",
     "output_type": "stream",
     "text": [
      "Epoch 1418 cost: 0.0826458162201159\n"
     ]
    },
    {
     "name": "stdout",
     "output_type": "stream",
     "text": [
      "Epoch 1419 cost: 0.08278322886823905\n"
     ]
    },
    {
     "name": "stdout",
     "output_type": "stream",
     "text": [
      "Epoch 1420 cost: 0.08340887374024089\n"
     ]
    },
    {
     "name": "stdout",
     "output_type": "stream",
     "text": [
      "Epoch 1421 cost: 0.09391799869295997\n"
     ]
    },
    {
     "name": "stdout",
     "output_type": "stream",
     "text": [
      "Epoch 1422 cost: 0.0788351969734476\n"
     ]
    },
    {
     "name": "stdout",
     "output_type": "stream",
     "text": [
      "Epoch 1423 cost: 0.07716119839966305\n"
     ]
    },
    {
     "name": "stdout",
     "output_type": "stream",
     "text": [
      "Epoch 1424 cost: 0.0800202428683474\n"
     ]
    },
    {
     "name": "stdout",
     "output_type": "stream",
     "text": [
      "Epoch 1425 cost: 0.08345724995444463\n"
     ]
    },
    {
     "name": "stdout",
     "output_type": "stream",
     "text": [
      "Epoch 1426 cost: 0.0772672604120998\n"
     ]
    },
    {
     "name": "stdout",
     "output_type": "stream",
     "text": [
      "Epoch 1427 cost: 0.0799111403779425\n"
     ]
    },
    {
     "name": "stdout",
     "output_type": "stream",
     "text": [
      "Epoch 1428 cost: 0.07431802791308477\n"
     ]
    },
    {
     "name": "stdout",
     "output_type": "stream",
     "text": [
      "Epoch 1429 cost: 0.07870428917126436\n"
     ]
    },
    {
     "name": "stdout",
     "output_type": "stream",
     "text": [
      "Epoch 1430 cost: 0.08237288554880234\n"
     ]
    },
    {
     "name": "stdout",
     "output_type": "stream",
     "text": [
      "Epoch 1431 cost: 0.07978916077378452\n"
     ]
    },
    {
     "name": "stdout",
     "output_type": "stream",
     "text": [
      "Epoch 1432 cost: 0.08218989638849922\n"
     ]
    },
    {
     "name": "stdout",
     "output_type": "stream",
     "text": [
      "Epoch 1433 cost: 0.08434140774973214\n"
     ]
    },
    {
     "name": "stdout",
     "output_type": "stream",
     "text": [
      "Epoch 1434 cost: 0.08377490275344471\n"
     ]
    },
    {
     "name": "stdout",
     "output_type": "stream",
     "text": [
      "Epoch 1435 cost: 0.08444326505899827\n"
     ]
    },
    {
     "name": "stdout",
     "output_type": "stream",
     "text": [
      "Epoch 1436 cost: 0.08236494883587225\n"
     ]
    },
    {
     "name": "stdout",
     "output_type": "stream",
     "text": [
      "Epoch 1437 cost: 0.0913133682179222\n"
     ]
    },
    {
     "name": "stdout",
     "output_type": "stream",
     "text": [
      "Epoch 1438 cost: 0.07890959063731305\n"
     ]
    },
    {
     "name": "stdout",
     "output_type": "stream",
     "text": [
      "Epoch 1439 cost: 0.0832780493921945\n"
     ]
    },
    {
     "name": "stdout",
     "output_type": "stream",
     "text": [
      "Epoch 1440 cost: 0.07703024735390153\n"
     ]
    },
    {
     "name": "stdout",
     "output_type": "stream",
     "text": [
      "Epoch 1441 cost: 0.07650382910095718\n"
     ]
    },
    {
     "name": "stdout",
     "output_type": "stream",
     "text": [
      "Epoch 1442 cost: 0.0744752507792374\n"
     ]
    },
    {
     "name": "stdout",
     "output_type": "stream",
     "text": [
      "Epoch 1443 cost: 0.09385812490759773\n"
     ]
    },
    {
     "name": "stdout",
     "output_type": "stream",
     "text": [
      "Epoch 1444 cost: 0.07795868387883953\n"
     ]
    },
    {
     "name": "stdout",
     "output_type": "stream",
     "text": [
      "Epoch 1445 cost: 0.07702959795492054\n"
     ]
    },
    {
     "name": "stdout",
     "output_type": "stream",
     "text": [
      "Epoch 1446 cost: 0.07889474903081914\n"
     ]
    },
    {
     "name": "stdout",
     "output_type": "stream",
     "text": [
      "Epoch 1447 cost: 0.08298630968285219\n"
     ]
    },
    {
     "name": "stdout",
     "output_type": "stream",
     "text": [
      "Epoch 1448 cost: 0.07849508394978336\n"
     ]
    },
    {
     "name": "stdout",
     "output_type": "stream",
     "text": [
      "Epoch 1449 cost: 0.07584976992296229\n"
     ]
    },
    {
     "name": "stdout",
     "output_type": "stream",
     "text": [
      "Epoch 1450 cost: 0.07873872118158882\n"
     ]
    },
    {
     "name": "stdout",
     "output_type": "stream",
     "text": [
      "Epoch 1451 cost: 0.08880051347504084\n"
     ]
    },
    {
     "name": "stdout",
     "output_type": "stream",
     "text": [
      "Epoch 1452 cost: 0.07332162932461005\n"
     ]
    },
    {
     "name": "stdout",
     "output_type": "stream",
     "text": [
      "Epoch 1453 cost: 0.07744620280211682\n"
     ]
    },
    {
     "name": "stdout",
     "output_type": "stream",
     "text": [
      "Epoch 1454 cost: 0.08273218351611605\n"
     ]
    },
    {
     "name": "stdout",
     "output_type": "stream",
     "text": [
      "Epoch 1455 cost: 0.08246257118631467\n"
     ]
    },
    {
     "name": "stdout",
     "output_type": "stream",
     "text": [
      "Epoch 1456 cost: 0.0812353063893652\n"
     ]
    },
    {
     "name": "stdout",
     "output_type": "stream",
     "text": [
      "Epoch 1457 cost: 0.08553451497474025\n"
     ]
    },
    {
     "name": "stdout",
     "output_type": "stream",
     "text": [
      "Epoch 1458 cost: 0.08262650560463587\n"
     ]
    },
    {
     "name": "stdout",
     "output_type": "stream",
     "text": [
      "Epoch 1459 cost: 0.07670152130599375\n"
     ]
    },
    {
     "name": "stdout",
     "output_type": "stream",
     "text": [
      "Epoch 1460 cost: 0.08991469236098092\n"
     ]
    },
    {
     "name": "stdout",
     "output_type": "stream",
     "text": [
      "Epoch 1461 cost: 0.07477877570109533\n"
     ]
    },
    {
     "name": "stdout",
     "output_type": "stream",
     "text": [
      "Epoch 1462 cost: 0.08090204639564157\n"
     ]
    },
    {
     "name": "stdout",
     "output_type": "stream",
     "text": [
      "Epoch 1463 cost: 0.09136906482455044\n"
     ]
    },
    {
     "name": "stdout",
     "output_type": "stream",
     "text": [
      "Epoch 1464 cost: 0.07494617064624914\n"
     ]
    },
    {
     "name": "stdout",
     "output_type": "stream",
     "text": [
      "Epoch 1465 cost: 0.07866624490100844\n"
     ]
    },
    {
     "name": "stdout",
     "output_type": "stream",
     "text": [
      "Epoch 1466 cost: 0.07753931413646876\n"
     ]
    },
    {
     "name": "stdout",
     "output_type": "stream",
     "text": [
      "Epoch 1467 cost: 0.08254052913436244\n"
     ]
    },
    {
     "name": "stdout",
     "output_type": "stream",
     "text": [
      "Epoch 1468 cost: 0.08459945455541136\n"
     ]
    },
    {
     "name": "stdout",
     "output_type": "stream",
     "text": [
      "Epoch 1469 cost: 0.08793713190873469\n"
     ]
    },
    {
     "name": "stdout",
     "output_type": "stream",
     "text": [
      "Epoch 1470 cost: 0.08270146568912981\n"
     ]
    },
    {
     "name": "stdout",
     "output_type": "stream",
     "text": [
      "Epoch 1471 cost: 0.08181535346844561\n"
     ]
    },
    {
     "name": "stdout",
     "output_type": "stream",
     "text": [
      "Epoch 1472 cost: 0.08899216390903236\n"
     ]
    },
    {
     "name": "stdout",
     "output_type": "stream",
     "text": [
      "Epoch 1473 cost: 0.09058292265769723\n"
     ]
    },
    {
     "name": "stdout",
     "output_type": "stream",
     "text": [
      "Epoch 1474 cost: 0.08317942923851906\n"
     ]
    },
    {
     "name": "stdout",
     "output_type": "stream",
     "text": [
      "Epoch 1475 cost: 0.08629718707659786\n"
     ]
    },
    {
     "name": "stdout",
     "output_type": "stream",
     "text": [
      "Epoch 1476 cost: 0.08348263974441247\n"
     ]
    },
    {
     "name": "stdout",
     "output_type": "stream",
     "text": [
      "Epoch 1477 cost: 0.07870894394841194\n"
     ]
    },
    {
     "name": "stdout",
     "output_type": "stream",
     "text": [
      "Epoch 1478 cost: 0.08681745092026523\n"
     ]
    },
    {
     "name": "stdout",
     "output_type": "stream",
     "text": [
      "Epoch 1479 cost: 0.07979074535160055\n"
     ]
    },
    {
     "name": "stdout",
     "output_type": "stream",
     "text": [
      "Epoch 1480 cost: 0.07508566725000573\n"
     ]
    },
    {
     "name": "stdout",
     "output_type": "stream",
     "text": [
      "Epoch 1481 cost: 0.08065144147264539\n"
     ]
    },
    {
     "name": "stdout",
     "output_type": "stream",
     "text": [
      "Epoch 1482 cost: 0.07316837644102242\n"
     ]
    },
    {
     "name": "stdout",
     "output_type": "stream",
     "text": [
      "Epoch 1483 cost: 0.07556320989983824\n"
     ]
    },
    {
     "name": "stdout",
     "output_type": "stream",
     "text": [
      "Epoch 1484 cost: 0.07731454675493435\n"
     ]
    },
    {
     "name": "stdout",
     "output_type": "stream",
     "text": [
      "Epoch 1485 cost: 0.07415724877356035\n"
     ]
    },
    {
     "name": "stdout",
     "output_type": "stream",
     "text": [
      "Epoch 1486 cost: 0.07287508678159682\n"
     ]
    },
    {
     "name": "stdout",
     "output_type": "stream",
     "text": [
      "Epoch 1487 cost: 0.07951166416027537\n"
     ]
    },
    {
     "name": "stdout",
     "output_type": "stream",
     "text": [
      "Epoch 1488 cost: 0.07536616802186742\n"
     ]
    },
    {
     "name": "stdout",
     "output_type": "stream",
     "text": [
      "Epoch 1489 cost: 0.07525063444917185\n"
     ]
    },
    {
     "name": "stdout",
     "output_type": "stream",
     "text": [
      "Epoch 1490 cost: 0.07512845739474985\n"
     ]
    },
    {
     "name": "stdout",
     "output_type": "stream",
     "text": [
      "Epoch 1491 cost: 0.07779066080736506\n"
     ]
    },
    {
     "name": "stdout",
     "output_type": "stream",
     "text": [
      "Epoch 1492 cost: 0.07751790089400247\n"
     ]
    },
    {
     "name": "stdout",
     "output_type": "stream",
     "text": [
      "Epoch 1493 cost: 0.07851908745316293\n"
     ]
    },
    {
     "name": "stdout",
     "output_type": "stream",
     "text": [
      "Epoch 1494 cost: 0.07271848241946356\n"
     ]
    },
    {
     "name": "stdout",
     "output_type": "stream",
     "text": [
      "Epoch 1495 cost: 0.07695833090278661\n"
     ]
    },
    {
     "name": "stdout",
     "output_type": "stream",
     "text": [
      "Epoch 1496 cost: 0.0812146186219579\n"
     ]
    },
    {
     "name": "stdout",
     "output_type": "stream",
     "text": [
      "Epoch 1497 cost: 0.0799308694679893\n"
     ]
    },
    {
     "name": "stdout",
     "output_type": "stream",
     "text": [
      "Epoch 1498 cost: 0.08933422994749242\n"
     ]
    },
    {
     "name": "stdout",
     "output_type": "stream",
     "text": [
      "Epoch 1499 cost: 0.07909790569033981\n"
     ]
    },
    {
     "name": "stdout",
     "output_type": "stream",
     "text": [
      "Epoch 1500 cost: 0.09078222563105141\n"
     ]
    },
    {
     "name": "stdout",
     "output_type": "stream",
     "text": [
      "Epoch 1501 cost: 0.07443513289213426\n"
     ]
    },
    {
     "name": "stdout",
     "output_type": "stream",
     "text": [
      "Epoch 1502 cost: 0.07412456513496889\n"
     ]
    },
    {
     "name": "stdout",
     "output_type": "stream",
     "text": [
      "Epoch 1503 cost: 0.0781785883894186\n"
     ]
    },
    {
     "name": "stdout",
     "output_type": "stream",
     "text": [
      "Epoch 1504 cost: 0.09154897241122752\n"
     ]
    },
    {
     "name": "stdout",
     "output_type": "stream",
     "text": [
      "Epoch 1505 cost: 0.08166271985974834\n"
     ]
    },
    {
     "name": "stdout",
     "output_type": "stream",
     "text": [
      "Epoch 1506 cost: 0.07679241733578264\n"
     ]
    },
    {
     "name": "stdout",
     "output_type": "stream",
     "text": [
      "Epoch 1507 cost: 0.07294995956522872\n"
     ]
    },
    {
     "name": "stdout",
     "output_type": "stream",
     "text": [
      "Epoch 1508 cost: 0.08780767197389729\n"
     ]
    },
    {
     "name": "stdout",
     "output_type": "stream",
     "text": [
      "Epoch 1509 cost: 0.07243525087575922\n"
     ]
    },
    {
     "name": "stdout",
     "output_type": "stream",
     "text": [
      "Epoch 1510 cost: 0.0749422704114046\n"
     ]
    },
    {
     "name": "stdout",
     "output_type": "stream",
     "text": [
      "Epoch 1511 cost: 0.07930755238970284\n"
     ]
    },
    {
     "name": "stdout",
     "output_type": "stream",
     "text": [
      "Epoch 1512 cost: 0.08095207847743988\n"
     ]
    },
    {
     "name": "stdout",
     "output_type": "stream",
     "text": [
      "Epoch 1513 cost: 0.07188448817516614\n"
     ]
    },
    {
     "name": "stdout",
     "output_type": "stream",
     "text": [
      "Epoch 1514 cost: 0.07733832029999102\n"
     ]
    },
    {
     "name": "stdout",
     "output_type": "stream",
     "text": [
      "Epoch 1515 cost: 0.07174369087020643\n"
     ]
    },
    {
     "name": "stdout",
     "output_type": "stream",
     "text": [
      "Epoch 1516 cost: 0.07549734561157231\n"
     ]
    },
    {
     "name": "stdout",
     "output_type": "stream",
     "text": [
      "Epoch 1517 cost: 0.08237222391559457\n"
     ]
    },
    {
     "name": "stdout",
     "output_type": "stream",
     "text": [
      "Epoch 1518 cost: 0.07058968951240033\n"
     ]
    },
    {
     "name": "stdout",
     "output_type": "stream",
     "text": [
      "Epoch 1519 cost: 0.0800898644208519\n"
     ]
    },
    {
     "name": "stdout",
     "output_type": "stream",
     "text": [
      "Epoch 1520 cost: 0.07539840333526217\n"
     ]
    },
    {
     "name": "stdout",
     "output_type": "stream",
     "text": [
      "Epoch 1521 cost: 0.07770267776414007\n"
     ]
    },
    {
     "name": "stdout",
     "output_type": "stream",
     "text": [
      "Epoch 1522 cost: 0.0780940353971038\n"
     ]
    },
    {
     "name": "stdout",
     "output_type": "stream",
     "text": [
      "Epoch 1523 cost: 0.07831735480893352\n"
     ]
    },
    {
     "name": "stdout",
     "output_type": "stream",
     "text": [
      "Epoch 1524 cost: 0.07303911498328661\n"
     ]
    },
    {
     "name": "stdout",
     "output_type": "stream",
     "text": [
      "Epoch 1525 cost: 0.07117710266199072\n"
     ]
    },
    {
     "name": "stdout",
     "output_type": "stream",
     "text": [
      "Epoch 1526 cost: 0.0741804297253628\n"
     ]
    },
    {
     "name": "stdout",
     "output_type": "stream",
     "text": [
      "Epoch 1527 cost: 0.08136119526241735\n"
     ]
    },
    {
     "name": "stdout",
     "output_type": "stream",
     "text": [
      "Epoch 1528 cost: 0.07152624121576676\n"
     ]
    },
    {
     "name": "stdout",
     "output_type": "stream",
     "text": [
      "Epoch 1529 cost: 0.07382043370769806\n"
     ]
    },
    {
     "name": "stdout",
     "output_type": "stream",
     "text": [
      "Epoch 1530 cost: 0.0705644758577407\n"
     ]
    },
    {
     "name": "stdout",
     "output_type": "stream",
     "text": [
      "Epoch 1531 cost: 0.0891319972749423\n"
     ]
    },
    {
     "name": "stdout",
     "output_type": "stream",
     "text": [
      "Epoch 1532 cost: 0.0861352590135671\n"
     ]
    },
    {
     "name": "stdout",
     "output_type": "stream",
     "text": [
      "Epoch 1533 cost: 0.07638230163722078\n"
     ]
    },
    {
     "name": "stdout",
     "output_type": "stream",
     "text": [
      "Epoch 1534 cost: 0.0781911770961192\n"
     ]
    },
    {
     "name": "stdout",
     "output_type": "stream",
     "text": [
      "Epoch 1535 cost: 0.07146381109824797\n"
     ]
    },
    {
     "name": "stdout",
     "output_type": "stream",
     "text": [
      "Epoch 1536 cost: 0.08222618643667565\n"
     ]
    },
    {
     "name": "stdout",
     "output_type": "stream",
     "text": [
      "Epoch 1537 cost: 0.07369940505937038\n"
     ]
    },
    {
     "name": "stdout",
     "output_type": "stream",
     "text": [
      "Epoch 1538 cost: 0.07325550707483591\n"
     ]
    },
    {
     "name": "stdout",
     "output_type": "stream",
     "text": [
      "Epoch 1539 cost: 0.07373194838292711\n"
     ]
    },
    {
     "name": "stdout",
     "output_type": "stream",
     "text": [
      "Epoch 1540 cost: 0.08209192444950444\n"
     ]
    },
    {
     "name": "stdout",
     "output_type": "stream",
     "text": [
      "Epoch 1541 cost: 0.0739973255318051\n"
     ]
    },
    {
     "name": "stdout",
     "output_type": "stream",
     "text": [
      "Epoch 1542 cost: 0.07126502483014073\n"
     ]
    },
    {
     "name": "stdout",
     "output_type": "stream",
     "text": [
      "Epoch 1543 cost: 0.08195908842495421\n"
     ]
    },
    {
     "name": "stdout",
     "output_type": "stream",
     "text": [
      "Epoch 1544 cost: 0.08494021376851624\n"
     ]
    },
    {
     "name": "stdout",
     "output_type": "stream",
     "text": [
      "Epoch 1545 cost: 0.07115249702255201\n"
     ]
    },
    {
     "name": "stdout",
     "output_type": "stream",
     "text": [
      "Epoch 1546 cost: 0.07720111014369103\n"
     ]
    },
    {
     "name": "stdout",
     "output_type": "stream",
     "text": [
      "Epoch 1547 cost: 0.0737087662980653\n"
     ]
    },
    {
     "name": "stdout",
     "output_type": "stream",
     "text": [
      "Epoch 1548 cost: 0.07535720078550183\n"
     ]
    },
    {
     "name": "stdout",
     "output_type": "stream",
     "text": [
      "Epoch 1549 cost: 0.07596470349078892\n"
     ]
    },
    {
     "name": "stdout",
     "output_type": "stream",
     "text": [
      "Epoch 1550 cost: 0.07510890462209814\n"
     ]
    },
    {
     "name": "stdout",
     "output_type": "stream",
     "text": [
      "Epoch 1551 cost: 0.0754998437104638\n"
     ]
    },
    {
     "name": "stdout",
     "output_type": "stream",
     "text": [
      "Epoch 1552 cost: 0.07583305929612723\n"
     ]
    },
    {
     "name": "stdout",
     "output_type": "stream",
     "text": [
      "Epoch 1553 cost: 0.07948027641443152\n"
     ]
    },
    {
     "name": "stdout",
     "output_type": "stream",
     "text": [
      "Epoch 1554 cost: 0.08091828649572012\n"
     ]
    },
    {
     "name": "stdout",
     "output_type": "stream",
     "text": [
      "Epoch 1555 cost: 0.07815039597167392\n"
     ]
    },
    {
     "name": "stdout",
     "output_type": "stream",
     "text": [
      "Epoch 1556 cost: 0.07001521266101368\n"
     ]
    },
    {
     "name": "stdout",
     "output_type": "stream",
     "text": [
      "Epoch 1557 cost: 0.08377204058162398\n"
     ]
    },
    {
     "name": "stdout",
     "output_type": "stream",
     "text": [
      "Epoch 1558 cost: 0.07451149750407439\n"
     ]
    },
    {
     "name": "stdout",
     "output_type": "stream",
     "text": [
      "Epoch 1559 cost: 0.07228783874430159\n"
     ]
    },
    {
     "name": "stdout",
     "output_type": "stream",
     "text": [
      "Epoch 1560 cost: 0.08308978046658942\n"
     ]
    },
    {
     "name": "stdout",
     "output_type": "stream",
     "text": [
      "Epoch 1561 cost: 0.07972446057876777\n"
     ]
    },
    {
     "name": "stdout",
     "output_type": "stream",
     "text": [
      "Epoch 1562 cost: 0.07654606596964769\n"
     ]
    },
    {
     "name": "stdout",
     "output_type": "stream",
     "text": [
      "Epoch 1563 cost: 0.07029412857938058\n"
     ]
    },
    {
     "name": "stdout",
     "output_type": "stream",
     "text": [
      "Epoch 1564 cost: 0.06797739857049619\n"
     ]
    },
    {
     "name": "stdout",
     "output_type": "stream",
     "text": [
      "Epoch 1565 cost: 0.08115898842850156\n"
     ]
    },
    {
     "name": "stdout",
     "output_type": "stream",
     "text": [
      "Epoch 1566 cost: 0.07484737016165839\n"
     ]
    },
    {
     "name": "stdout",
     "output_type": "stream",
     "text": [
      "Epoch 1567 cost: 0.07264442338351391\n"
     ]
    },
    {
     "name": "stdout",
     "output_type": "stream",
     "text": [
      "Epoch 1568 cost: 0.07820075260607405\n"
     ]
    },
    {
     "name": "stdout",
     "output_type": "stream",
     "text": [
      "Epoch 1569 cost: 0.07655253908018782\n"
     ]
    },
    {
     "name": "stdout",
     "output_type": "stream",
     "text": [
      "Epoch 1570 cost: 0.06798364622906103\n"
     ]
    },
    {
     "name": "stdout",
     "output_type": "stream",
     "text": [
      "Epoch 1571 cost: 0.07442098201663364\n"
     ]
    },
    {
     "name": "stdout",
     "output_type": "stream",
     "text": [
      "Epoch 1572 cost: 0.07435243635243369\n"
     ]
    },
    {
     "name": "stdout",
     "output_type": "stream",
     "text": [
      "Epoch 1573 cost: 0.0751669858800324\n"
     ]
    },
    {
     "name": "stdout",
     "output_type": "stream",
     "text": [
      "Epoch 1574 cost: 0.0749678911738912\n"
     ]
    },
    {
     "name": "stdout",
     "output_type": "stream",
     "text": [
      "Epoch 1575 cost: 0.0756577326637145\n"
     ]
    },
    {
     "name": "stdout",
     "output_type": "stream",
     "text": [
      "Epoch 1576 cost: 0.07421432283044896\n"
     ]
    },
    {
     "name": "stdout",
     "output_type": "stream",
     "text": [
      "Epoch 1577 cost: 0.08459661379538909\n"
     ]
    },
    {
     "name": "stdout",
     "output_type": "stream",
     "text": [
      "Epoch 1578 cost: 0.06705630606945169\n"
     ]
    },
    {
     "name": "stdout",
     "output_type": "stream",
     "text": [
      "Epoch 1579 cost: 0.0740047833595629\n"
     ]
    },
    {
     "name": "stdout",
     "output_type": "stream",
     "text": [
      "Epoch 1580 cost: 0.07910977982103727\n"
     ]
    },
    {
     "name": "stdout",
     "output_type": "stream",
     "text": [
      "Epoch 1581 cost: 0.07702609331764122\n"
     ]
    },
    {
     "name": "stdout",
     "output_type": "stream",
     "text": [
      "Epoch 1582 cost: 0.07362555554825065\n"
     ]
    },
    {
     "name": "stdout",
     "output_type": "stream",
     "text": [
      "Epoch 1583 cost: 0.07214438614118937\n"
     ]
    },
    {
     "name": "stdout",
     "output_type": "stream",
     "text": [
      "Epoch 1584 cost: 0.07877964280542758\n"
     ]
    },
    {
     "name": "stdout",
     "output_type": "stream",
     "text": [
      "Epoch 1585 cost: 0.07820253059246554\n"
     ]
    },
    {
     "name": "stdout",
     "output_type": "stream",
     "text": [
      "Epoch 1586 cost: 0.07778258900809965\n"
     ]
    },
    {
     "name": "stdout",
     "output_type": "stream",
     "text": [
      "Epoch 1587 cost: 0.07164590696837612\n"
     ]
    },
    {
     "name": "stdout",
     "output_type": "stream",
     "text": [
      "Epoch 1588 cost: 0.07626166631120562\n"
     ]
    },
    {
     "name": "stdout",
     "output_type": "stream",
     "text": [
      "Epoch 1589 cost: 0.08230522089212959\n"
     ]
    },
    {
     "name": "stdout",
     "output_type": "stream",
     "text": [
      "Epoch 1590 cost: 0.08662564986286311\n"
     ]
    },
    {
     "name": "stdout",
     "output_type": "stream",
     "text": [
      "Epoch 1591 cost: 0.08296801676828605\n"
     ]
    },
    {
     "name": "stdout",
     "output_type": "stream",
     "text": [
      "Epoch 1592 cost: 0.08297183760245352\n"
     ]
    },
    {
     "name": "stdout",
     "output_type": "stream",
     "text": [
      "Epoch 1593 cost: 0.06926821177644213\n"
     ]
    },
    {
     "name": "stdout",
     "output_type": "stream",
     "text": [
      "Epoch 1594 cost: 0.08136857075689109\n"
     ]
    },
    {
     "name": "stdout",
     "output_type": "stream",
     "text": [
      "Epoch 1595 cost: 0.07530858793627962\n"
     ]
    },
    {
     "name": "stdout",
     "output_type": "stream",
     "text": [
      "Epoch 1596 cost: 0.08126206324536162\n"
     ]
    },
    {
     "name": "stdout",
     "output_type": "stream",
     "text": [
      "Epoch 1597 cost: 0.08766667116403198\n"
     ]
    },
    {
     "name": "stdout",
     "output_type": "stream",
     "text": [
      "Epoch 1598 cost: 0.07871921753712875\n"
     ]
    },
    {
     "name": "stdout",
     "output_type": "stream",
     "text": [
      "Epoch 1599 cost: 0.07788538525423004\n"
     ]
    },
    {
     "name": "stdout",
     "output_type": "stream",
     "text": [
      "Epoch 1600 cost: 0.07155823987727736\n"
     ]
    },
    {
     "name": "stdout",
     "output_type": "stream",
     "text": [
      "Epoch 1601 cost: 0.07744574034962225\n"
     ]
    },
    {
     "name": "stdout",
     "output_type": "stream",
     "text": [
      "Epoch 1602 cost: 0.07589501011274699\n"
     ]
    },
    {
     "name": "stdout",
     "output_type": "stream",
     "text": [
      "Epoch 1603 cost: 0.07028438754013955\n"
     ]
    },
    {
     "name": "stdout",
     "output_type": "stream",
     "text": [
      "Epoch 1604 cost: 0.06970248185116018\n"
     ]
    },
    {
     "name": "stdout",
     "output_type": "stream",
     "text": [
      "Epoch 1605 cost: 0.07504706730904649\n"
     ]
    },
    {
     "name": "stdout",
     "output_type": "stream",
     "text": [
      "Epoch 1606 cost: 0.07912224093235222\n"
     ]
    },
    {
     "name": "stdout",
     "output_type": "stream",
     "text": [
      "Epoch 1607 cost: 0.07899086742658808\n"
     ]
    },
    {
     "name": "stdout",
     "output_type": "stream",
     "text": [
      "Epoch 1608 cost: 0.07375424366425463\n"
     ]
    },
    {
     "name": "stdout",
     "output_type": "stream",
     "text": [
      "Epoch 1609 cost: 0.07932186986352757\n"
     ]
    },
    {
     "name": "stdout",
     "output_type": "stream",
     "text": [
      "Epoch 1610 cost: 0.07201472944663542\n"
     ]
    },
    {
     "name": "stdout",
     "output_type": "stream",
     "text": [
      "Epoch 1611 cost: 0.07426152297191704\n"
     ]
    },
    {
     "name": "stdout",
     "output_type": "stream",
     "text": [
      "Epoch 1612 cost: 0.07738420469191738\n"
     ]
    },
    {
     "name": "stdout",
     "output_type": "stream",
     "text": [
      "Epoch 1613 cost: 0.07660969256185084\n"
     ]
    },
    {
     "name": "stdout",
     "output_type": "stream",
     "text": [
      "Epoch 1614 cost: 0.07816351674529304\n"
     ]
    },
    {
     "name": "stdout",
     "output_type": "stream",
     "text": [
      "Epoch 1615 cost: 0.07788753761354544\n"
     ]
    },
    {
     "name": "stdout",
     "output_type": "stream",
     "text": [
      "Epoch 1616 cost: 0.07728623158692562\n"
     ]
    },
    {
     "name": "stdout",
     "output_type": "stream",
     "text": [
      "Epoch 1617 cost: 0.0720743603064772\n"
     ]
    },
    {
     "name": "stdout",
     "output_type": "stream",
     "text": [
      "Epoch 1618 cost: 0.0718525233333233\n"
     ]
    },
    {
     "name": "stdout",
     "output_type": "stream",
     "text": [
      "Epoch 1619 cost: 0.0778900912019612\n"
     ]
    },
    {
     "name": "stdout",
     "output_type": "stream",
     "text": [
      "Epoch 1620 cost: 0.07847817632179278\n"
     ]
    },
    {
     "name": "stdout",
     "output_type": "stream",
     "text": [
      "Epoch 1621 cost: 0.07173676478797349\n"
     ]
    },
    {
     "name": "stdout",
     "output_type": "stream",
     "text": [
      "Epoch 1622 cost: 0.07371010259417907\n"
     ]
    },
    {
     "name": "stdout",
     "output_type": "stream",
     "text": [
      "Epoch 1623 cost: 0.07411680600834819\n"
     ]
    },
    {
     "name": "stdout",
     "output_type": "stream",
     "text": [
      "Epoch 1624 cost: 0.07320844141104357\n"
     ]
    },
    {
     "name": "stdout",
     "output_type": "stream",
     "text": [
      "Epoch 1625 cost: 0.08292107990985097\n"
     ]
    },
    {
     "name": "stdout",
     "output_type": "stream",
     "text": [
      "Epoch 1626 cost: 0.06863818661152642\n"
     ]
    },
    {
     "name": "stdout",
     "output_type": "stream",
     "text": [
      "Epoch 1627 cost: 0.0786559137778562\n"
     ]
    },
    {
     "name": "stdout",
     "output_type": "stream",
     "text": [
      "Epoch 1628 cost: 0.07809510330778109\n"
     ]
    },
    {
     "name": "stdout",
     "output_type": "stream",
     "text": [
      "Epoch 1629 cost: 0.07556281506119333\n"
     ]
    },
    {
     "name": "stdout",
     "output_type": "stream",
     "text": [
      "Epoch 1630 cost: 0.07960914636461425\n"
     ]
    },
    {
     "name": "stdout",
     "output_type": "stream",
     "text": [
      "Epoch 1631 cost: 0.0717647183259895\n"
     ]
    },
    {
     "name": "stdout",
     "output_type": "stream",
     "text": [
      "Epoch 1632 cost: 0.07247054720578384\n"
     ]
    },
    {
     "name": "stdout",
     "output_type": "stream",
     "text": [
      "Epoch 1633 cost: 0.07430064557523404\n"
     ]
    },
    {
     "name": "stdout",
     "output_type": "stream",
     "text": [
      "Epoch 1634 cost: 0.07775734868711122\n"
     ]
    },
    {
     "name": "stdout",
     "output_type": "stream",
     "text": [
      "Epoch 1635 cost: 0.08025749542522721\n"
     ]
    },
    {
     "name": "stdout",
     "output_type": "stream",
     "text": [
      "Epoch 1636 cost: 0.08371691724665355\n"
     ]
    },
    {
     "name": "stdout",
     "output_type": "stream",
     "text": [
      "Epoch 1637 cost: 0.0887822138546483\n"
     ]
    },
    {
     "name": "stdout",
     "output_type": "stream",
     "text": [
      "Epoch 1638 cost: 0.07833889007676016\n"
     ]
    },
    {
     "name": "stdout",
     "output_type": "stream",
     "text": [
      "Epoch 1639 cost: 0.07431138833460692\n"
     ]
    },
    {
     "name": "stdout",
     "output_type": "stream",
     "text": [
      "Epoch 1640 cost: 0.08306442926765029\n"
     ]
    },
    {
     "name": "stdout",
     "output_type": "stream",
     "text": [
      "Epoch 1641 cost: 0.0759492787697759\n"
     ]
    },
    {
     "name": "stdout",
     "output_type": "stream",
     "text": [
      "Epoch 1642 cost: 0.0691881372317946\n"
     ]
    },
    {
     "name": "stdout",
     "output_type": "stream",
     "text": [
      "Epoch 1643 cost: 0.07140516230569909\n"
     ]
    },
    {
     "name": "stdout",
     "output_type": "stream",
     "text": [
      "Epoch 1644 cost: 0.07580747472992001\n"
     ]
    },
    {
     "name": "stdout",
     "output_type": "stream",
     "text": [
      "Epoch 1645 cost: 0.07396579287185553\n"
     ]
    },
    {
     "name": "stdout",
     "output_type": "stream",
     "text": [
      "Epoch 1646 cost: 0.07449305579862998\n"
     ]
    },
    {
     "name": "stdout",
     "output_type": "stream",
     "text": [
      "Epoch 1647 cost: 0.0726264201255831\n"
     ]
    },
    {
     "name": "stdout",
     "output_type": "stream",
     "text": [
      "Epoch 1648 cost: 0.0738442258831332\n"
     ]
    },
    {
     "name": "stdout",
     "output_type": "stream",
     "text": [
      "Epoch 1649 cost: 0.07410842219770011\n"
     ]
    },
    {
     "name": "stdout",
     "output_type": "stream",
     "text": [
      "Epoch 1650 cost: 0.07858134855039174\n"
     ]
    },
    {
     "name": "stdout",
     "output_type": "stream",
     "text": [
      "Epoch 1651 cost: 0.06963834313012933\n"
     ]
    },
    {
     "name": "stdout",
     "output_type": "stream",
     "text": [
      "Epoch 1652 cost: 0.07608536367070445\n"
     ]
    },
    {
     "name": "stdout",
     "output_type": "stream",
     "text": [
      "Epoch 1653 cost: 0.06999539127444086\n"
     ]
    },
    {
     "name": "stdout",
     "output_type": "stream",
     "text": [
      "Epoch 1654 cost: 0.0795124044954057\n"
     ]
    },
    {
     "name": "stdout",
     "output_type": "stream",
     "text": [
      "Epoch 1655 cost: 0.07473659183291696\n"
     ]
    },
    {
     "name": "stdout",
     "output_type": "stream",
     "text": [
      "Epoch 1656 cost: 0.06886747294922986\n"
     ]
    },
    {
     "name": "stdout",
     "output_type": "stream",
     "text": [
      "Epoch 1657 cost: 0.06984772760554916\n"
     ]
    },
    {
     "name": "stdout",
     "output_type": "stream",
     "text": [
      "Epoch 1658 cost: 0.07377322173612265\n"
     ]
    },
    {
     "name": "stdout",
     "output_type": "stream",
     "text": [
      "Epoch 1659 cost: 0.07416176696132094\n"
     ]
    },
    {
     "name": "stdout",
     "output_type": "stream",
     "text": [
      "Epoch 1660 cost: 0.0694521799501973\n"
     ]
    },
    {
     "name": "stdout",
     "output_type": "stream",
     "text": [
      "Epoch 1661 cost: 0.0724229333350043\n"
     ]
    },
    {
     "name": "stdout",
     "output_type": "stream",
     "text": [
      "Epoch 1662 cost: 0.07002391718526083\n"
     ]
    },
    {
     "name": "stdout",
     "output_type": "stream",
     "text": [
      "Epoch 1663 cost: 0.08828199110177738\n"
     ]
    },
    {
     "name": "stdout",
     "output_type": "stream",
     "text": [
      "Epoch 1664 cost: 0.08449948061555737\n"
     ]
    },
    {
     "name": "stdout",
     "output_type": "stream",
     "text": [
      "Epoch 1665 cost: 0.07106266304896398\n"
     ]
    },
    {
     "name": "stdout",
     "output_type": "stream",
     "text": [
      "Epoch 1666 cost: 0.07379051884608774\n"
     ]
    },
    {
     "name": "stdout",
     "output_type": "stream",
     "text": [
      "Epoch 1667 cost: 0.06835659421071592\n"
     ]
    },
    {
     "name": "stdout",
     "output_type": "stream",
     "text": [
      "Epoch 1668 cost: 0.08420220958223353\n"
     ]
    },
    {
     "name": "stdout",
     "output_type": "stream",
     "text": [
      "Epoch 1669 cost: 0.08379770854058684\n"
     ]
    },
    {
     "name": "stdout",
     "output_type": "stream",
     "text": [
      "Epoch 1670 cost: 0.07099117472926983\n"
     ]
    },
    {
     "name": "stdout",
     "output_type": "stream",
     "text": [
      "Epoch 1671 cost: 0.0740872928837902\n"
     ]
    },
    {
     "name": "stdout",
     "output_type": "stream",
     "text": [
      "Epoch 1672 cost: 0.08676201088608151\n"
     ]
    },
    {
     "name": "stdout",
     "output_type": "stream",
     "text": [
      "Epoch 1673 cost: 0.06803478206787879\n"
     ]
    },
    {
     "name": "stdout",
     "output_type": "stream",
     "text": [
      "Epoch 1674 cost: 0.0640418656954038\n"
     ]
    },
    {
     "name": "stdout",
     "output_type": "stream",
     "text": [
      "Epoch 1675 cost: 0.06552039495967092\n"
     ]
    },
    {
     "name": "stdout",
     "output_type": "stream",
     "text": [
      "Epoch 1676 cost: 0.07839759114105523\n"
     ]
    },
    {
     "name": "stdout",
     "output_type": "stream",
     "text": [
      "Epoch 1677 cost: 0.07332729530257588\n"
     ]
    },
    {
     "name": "stdout",
     "output_type": "stream",
     "text": [
      "Epoch 1678 cost: 0.07167627352874956\n"
     ]
    },
    {
     "name": "stdout",
     "output_type": "stream",
     "text": [
      "Epoch 1679 cost: 0.07376921590078603\n"
     ]
    },
    {
     "name": "stdout",
     "output_type": "stream",
     "text": [
      "Epoch 1680 cost: 0.08295358111901632\n"
     ]
    },
    {
     "name": "stdout",
     "output_type": "stream",
     "text": [
      "Epoch 1681 cost: 0.0724967529080212\n"
     ]
    },
    {
     "name": "stdout",
     "output_type": "stream",
     "text": [
      "Epoch 1682 cost: 0.06716688603941043\n"
     ]
    },
    {
     "name": "stdout",
     "output_type": "stream",
     "text": [
      "Epoch 1683 cost: 0.07306841521022038\n"
     ]
    },
    {
     "name": "stdout",
     "output_type": "stream",
     "text": [
      "Epoch 1684 cost: 0.07523304330197295\n"
     ]
    },
    {
     "name": "stdout",
     "output_type": "stream",
     "text": [
      "Epoch 1685 cost: 0.08787209209939793\n"
     ]
    },
    {
     "name": "stdout",
     "output_type": "stream",
     "text": [
      "Epoch 1686 cost: 0.0679782069968322\n"
     ]
    },
    {
     "name": "stdout",
     "output_type": "stream",
     "text": [
      "Epoch 1687 cost: 0.07437501852629434\n"
     ]
    },
    {
     "name": "stdout",
     "output_type": "stream",
     "text": [
      "Epoch 1688 cost: 0.07322281140317756\n"
     ]
    },
    {
     "name": "stdout",
     "output_type": "stream",
     "text": [
      "Epoch 1689 cost: 0.07986933580311464\n"
     ]
    },
    {
     "name": "stdout",
     "output_type": "stream",
     "text": [
      "Epoch 1690 cost: 0.07296856627587149\n"
     ]
    },
    {
     "name": "stdout",
     "output_type": "stream",
     "text": [
      "Epoch 1691 cost: 0.06931539827829178\n"
     ]
    },
    {
     "name": "stdout",
     "output_type": "stream",
     "text": [
      "Epoch 1692 cost: 0.07256201593289231\n"
     ]
    },
    {
     "name": "stdout",
     "output_type": "stream",
     "text": [
      "Epoch 1693 cost: 0.07204828820922754\n"
     ]
    },
    {
     "name": "stdout",
     "output_type": "stream",
     "text": [
      "Epoch 1694 cost: 0.07168869917551614\n"
     ]
    },
    {
     "name": "stdout",
     "output_type": "stream",
     "text": [
      "Epoch 1695 cost: 0.07545511540236136\n"
     ]
    },
    {
     "name": "stdout",
     "output_type": "stream",
     "text": [
      "Epoch 1696 cost: 0.06905019293144148\n"
     ]
    },
    {
     "name": "stdout",
     "output_type": "stream",
     "text": [
      "Epoch 1697 cost: 0.07937327144296624\n"
     ]
    },
    {
     "name": "stdout",
     "output_type": "stream",
     "text": [
      "Epoch 1698 cost: 0.07155778481272623\n"
     ]
    },
    {
     "name": "stdout",
     "output_type": "stream",
     "text": [
      "Epoch 1699 cost: 0.07366804150966204\n"
     ]
    },
    {
     "name": "stdout",
     "output_type": "stream",
     "text": [
      "Epoch 1700 cost: 0.07811037004441382\n"
     ]
    },
    {
     "name": "stdout",
     "output_type": "stream",
     "text": [
      "Epoch 1701 cost: 0.0672445045300202\n"
     ]
    },
    {
     "name": "stdout",
     "output_type": "stream",
     "text": [
      "Epoch 1702 cost: 0.06903320181617703\n"
     ]
    },
    {
     "name": "stdout",
     "output_type": "stream",
     "text": [
      "Epoch 1703 cost: 0.07323218280460189\n"
     ]
    },
    {
     "name": "stdout",
     "output_type": "stream",
     "text": [
      "Epoch 1704 cost: 0.06714424345428706\n"
     ]
    },
    {
     "name": "stdout",
     "output_type": "stream",
     "text": [
      "Epoch 1705 cost: 0.0757353589520199\n"
     ]
    },
    {
     "name": "stdout",
     "output_type": "stream",
     "text": [
      "Epoch 1706 cost: 0.06693635500794892\n"
     ]
    },
    {
     "name": "stdout",
     "output_type": "stream",
     "text": [
      "Epoch 1707 cost: 0.07448166758285929\n"
     ]
    },
    {
     "name": "stdout",
     "output_type": "stream",
     "text": [
      "Epoch 1708 cost: 0.08353747951832075\n"
     ]
    },
    {
     "name": "stdout",
     "output_type": "stream",
     "text": [
      "Epoch 1709 cost: 0.06984446840594108\n"
     ]
    },
    {
     "name": "stdout",
     "output_type": "stream",
     "text": [
      "Epoch 1710 cost: 0.06983764982361455\n"
     ]
    },
    {
     "name": "stdout",
     "output_type": "stream",
     "text": [
      "Epoch 1711 cost: 0.07306810235035086\n"
     ]
    },
    {
     "name": "stdout",
     "output_type": "stream",
     "text": [
      "Epoch 1712 cost: 0.06792812133535933\n"
     ]
    },
    {
     "name": "stdout",
     "output_type": "stream",
     "text": [
      "Epoch 1713 cost: 0.07532521127632937\n"
     ]
    },
    {
     "name": "stdout",
     "output_type": "stream",
     "text": [
      "Epoch 1714 cost: 0.07975041775711893\n"
     ]
    },
    {
     "name": "stdout",
     "output_type": "stream",
     "text": [
      "Epoch 1715 cost: 0.07065479817140066\n"
     ]
    },
    {
     "name": "stdout",
     "output_type": "stream",
     "text": [
      "Epoch 1716 cost: 0.07003618081878288\n"
     ]
    },
    {
     "name": "stdout",
     "output_type": "stream",
     "text": [
      "Epoch 1717 cost: 0.07355791652092393\n"
     ]
    },
    {
     "name": "stdout",
     "output_type": "stream",
     "text": [
      "Epoch 1718 cost: 0.06845489252424859\n"
     ]
    },
    {
     "name": "stdout",
     "output_type": "stream",
     "text": [
      "Epoch 1719 cost: 0.08815727145461355\n"
     ]
    },
    {
     "name": "stdout",
     "output_type": "stream",
     "text": [
      "Epoch 1720 cost: 0.06492209410383648\n"
     ]
    },
    {
     "name": "stdout",
     "output_type": "stream",
     "text": [
      "Epoch 1721 cost: 0.06764359248595046\n"
     ]
    },
    {
     "name": "stdout",
     "output_type": "stream",
     "text": [
      "Epoch 1722 cost: 0.07717731713968087\n"
     ]
    },
    {
     "name": "stdout",
     "output_type": "stream",
     "text": [
      "Epoch 1723 cost: 0.06396542144517472\n"
     ]
    },
    {
     "name": "stdout",
     "output_type": "stream",
     "text": [
      "Epoch 1724 cost: 0.0719193802173747\n"
     ]
    },
    {
     "name": "stdout",
     "output_type": "stream",
     "text": [
      "Epoch 1725 cost: 0.08606702110234994\n"
     ]
    },
    {
     "name": "stdout",
     "output_type": "stream",
     "text": [
      "Epoch 1726 cost: 0.06836314157794567\n"
     ]
    },
    {
     "name": "stdout",
     "output_type": "stream",
     "text": [
      "Epoch 1727 cost: 0.06904924024177952\n"
     ]
    },
    {
     "name": "stdout",
     "output_type": "stream",
     "text": [
      "Epoch 1728 cost: 0.06363116483422873\n"
     ]
    },
    {
     "name": "stdout",
     "output_type": "stream",
     "text": [
      "Epoch 1729 cost: 0.06935638816011112\n"
     ]
    },
    {
     "name": "stdout",
     "output_type": "stream",
     "text": [
      "Epoch 1730 cost: 0.07661285921970742\n"
     ]
    },
    {
     "name": "stdout",
     "output_type": "stream",
     "text": [
      "Epoch 1731 cost: 0.07259661452352359\n"
     ]
    },
    {
     "name": "stdout",
     "output_type": "stream",
     "text": [
      "Epoch 1732 cost: 0.06545702625248387\n"
     ]
    },
    {
     "name": "stdout",
     "output_type": "stream",
     "text": [
      "Epoch 1733 cost: 0.0647989202425982\n"
     ]
    },
    {
     "name": "stdout",
     "output_type": "stream",
     "text": [
      "Epoch 1734 cost: 0.06840664477204336\n"
     ]
    },
    {
     "name": "stdout",
     "output_type": "stream",
     "text": [
      "Epoch 1735 cost: 0.06755627378312629\n"
     ]
    },
    {
     "name": "stdout",
     "output_type": "stream",
     "text": [
      "Epoch 1736 cost: 0.06949405473937918\n"
     ]
    },
    {
     "name": "stdout",
     "output_type": "stream",
     "text": [
      "Epoch 1737 cost: 0.06239100675864565\n"
     ]
    },
    {
     "name": "stdout",
     "output_type": "stream",
     "text": [
      "Epoch 1738 cost: 0.07400218466890322\n"
     ]
    },
    {
     "name": "stdout",
     "output_type": "stream",
     "text": [
      "Epoch 1739 cost: 0.06295368519110764\n"
     ]
    },
    {
     "name": "stdout",
     "output_type": "stream",
     "text": [
      "Epoch 1740 cost: 0.06764485784802234\n"
     ]
    },
    {
     "name": "stdout",
     "output_type": "stream",
     "text": [
      "Epoch 1741 cost: 0.08370292333145442\n"
     ]
    },
    {
     "name": "stdout",
     "output_type": "stream",
     "text": [
      "Epoch 1742 cost: 0.06163035293285735\n"
     ]
    },
    {
     "name": "stdout",
     "output_type": "stream",
     "text": [
      "Epoch 1743 cost: 0.07206369762608765\n"
     ]
    },
    {
     "name": "stdout",
     "output_type": "stream",
     "text": [
      "Epoch 1744 cost: 0.07174760865011888\n"
     ]
    },
    {
     "name": "stdout",
     "output_type": "stream",
     "text": [
      "Epoch 1745 cost: 0.06277306134240163\n"
     ]
    },
    {
     "name": "stdout",
     "output_type": "stream",
     "text": [
      "Epoch 1746 cost: 0.07858683417960848\n"
     ]
    },
    {
     "name": "stdout",
     "output_type": "stream",
     "text": [
      "Epoch 1747 cost: 0.06775920222642154\n"
     ]
    },
    {
     "name": "stdout",
     "output_type": "stream",
     "text": [
      "Epoch 1748 cost: 0.0738350097507084\n"
     ]
    },
    {
     "name": "stdout",
     "output_type": "stream",
     "text": [
      "Epoch 1749 cost: 0.07668999202035076\n"
     ]
    },
    {
     "name": "stdout",
     "output_type": "stream",
     "text": [
      "Epoch 1750 cost: 0.07419940006868998\n"
     ]
    },
    {
     "name": "stdout",
     "output_type": "stream",
     "text": [
      "Epoch 1751 cost: 0.0681314656991529\n"
     ]
    },
    {
     "name": "stdout",
     "output_type": "stream",
     "text": [
      "Epoch 1752 cost: 0.07187229305623002\n"
     ]
    },
    {
     "name": "stdout",
     "output_type": "stream",
     "text": [
      "Epoch 1753 cost: 0.07062404888276237\n"
     ]
    },
    {
     "name": "stdout",
     "output_type": "stream",
     "text": [
      "Epoch 1754 cost: 0.06872688548821365\n"
     ]
    },
    {
     "name": "stdout",
     "output_type": "stream",
     "text": [
      "Epoch 1755 cost: 0.06961374086757713\n"
     ]
    },
    {
     "name": "stdout",
     "output_type": "stream",
     "text": [
      "Epoch 1756 cost: 0.07369142077856136\n"
     ]
    },
    {
     "name": "stdout",
     "output_type": "stream",
     "text": [
      "Epoch 1757 cost: 0.062457875232192865\n"
     ]
    },
    {
     "name": "stdout",
     "output_type": "stream",
     "text": [
      "Epoch 1758 cost: 0.07187472380553632\n"
     ]
    },
    {
     "name": "stdout",
     "output_type": "stream",
     "text": [
      "Epoch 1759 cost: 0.07311719511739036\n"
     ]
    },
    {
     "name": "stdout",
     "output_type": "stream",
     "text": [
      "Epoch 1760 cost: 0.08276873430530372\n"
     ]
    },
    {
     "name": "stdout",
     "output_type": "stream",
     "text": [
      "Epoch 1761 cost: 0.06383072546529983\n"
     ]
    },
    {
     "name": "stdout",
     "output_type": "stream",
     "text": [
      "Epoch 1762 cost: 0.06760175125631826\n"
     ]
    },
    {
     "name": "stdout",
     "output_type": "stream",
     "text": [
      "Epoch 1763 cost: 0.08242056262473027\n"
     ]
    },
    {
     "name": "stdout",
     "output_type": "stream",
     "text": [
      "Epoch 1764 cost: 0.06967205027029268\n"
     ]
    },
    {
     "name": "stdout",
     "output_type": "stream",
     "text": [
      "Epoch 1765 cost: 0.08001324080777197\n"
     ]
    },
    {
     "name": "stdout",
     "output_type": "stream",
     "text": [
      "Epoch 1766 cost: 0.07603904253650406\n"
     ]
    },
    {
     "name": "stdout",
     "output_type": "stream",
     "text": [
      "Epoch 1767 cost: 0.07342891390552057\n"
     ]
    },
    {
     "name": "stdout",
     "output_type": "stream",
     "text": [
      "Epoch 1768 cost: 0.07537618140524724\n"
     ]
    },
    {
     "name": "stdout",
     "output_type": "stream",
     "text": [
      "Epoch 1769 cost: 0.07562794982077947\n"
     ]
    },
    {
     "name": "stdout",
     "output_type": "stream",
     "text": [
      "Epoch 1770 cost: 0.059848865437385226\n"
     ]
    },
    {
     "name": "stdout",
     "output_type": "stream",
     "text": [
      "Epoch 1771 cost: 0.0704853395927942\n"
     ]
    },
    {
     "name": "stdout",
     "output_type": "stream",
     "text": [
      "Epoch 1772 cost: 0.07600247439465611\n"
     ]
    },
    {
     "name": "stdout",
     "output_type": "stream",
     "text": [
      "Epoch 1773 cost: 0.0685242558913544\n"
     ]
    },
    {
     "name": "stdout",
     "output_type": "stream",
     "text": [
      "Epoch 1774 cost: 0.06475593542508\n"
     ]
    },
    {
     "name": "stdout",
     "output_type": "stream",
     "text": [
      "Epoch 1775 cost: 0.06305963277379842\n"
     ]
    },
    {
     "name": "stdout",
     "output_type": "stream",
     "text": [
      "Epoch 1776 cost: 0.06460986240120996\n"
     ]
    },
    {
     "name": "stdout",
     "output_type": "stream",
     "text": [
      "Epoch 1777 cost: 0.07965220428081965\n"
     ]
    },
    {
     "name": "stdout",
     "output_type": "stream",
     "text": [
      "Epoch 1778 cost: 0.0804607135937691\n"
     ]
    },
    {
     "name": "stdout",
     "output_type": "stream",
     "text": [
      "Epoch 1779 cost: 0.06528574625267598\n"
     ]
    },
    {
     "name": "stdout",
     "output_type": "stream",
     "text": [
      "Epoch 1780 cost: 0.05965794016689145\n"
     ]
    },
    {
     "name": "stdout",
     "output_type": "stream",
     "text": [
      "Epoch 1781 cost: 0.06776603669009917\n"
     ]
    },
    {
     "name": "stdout",
     "output_type": "stream",
     "text": [
      "Epoch 1782 cost: 0.0657361561640559\n"
     ]
    },
    {
     "name": "stdout",
     "output_type": "stream",
     "text": [
      "Epoch 1783 cost: 0.06281968776123416\n"
     ]
    },
    {
     "name": "stdout",
     "output_type": "stream",
     "text": [
      "Epoch 1784 cost: 0.06888611604328491\n"
     ]
    },
    {
     "name": "stdout",
     "output_type": "stream",
     "text": [
      "Epoch 1785 cost: 0.06346124397626149\n"
     ]
    },
    {
     "name": "stdout",
     "output_type": "stream",
     "text": [
      "Epoch 1786 cost: 0.06648632190588723\n"
     ]
    },
    {
     "name": "stdout",
     "output_type": "stream",
     "text": [
      "Epoch 1787 cost: 0.06494964459423165\n"
     ]
    },
    {
     "name": "stdout",
     "output_type": "stream",
     "text": [
      "Epoch 1788 cost: 0.06407889545941871\n"
     ]
    },
    {
     "name": "stdout",
     "output_type": "stream",
     "text": [
      "Epoch 1789 cost: 0.06674431946871594\n"
     ]
    },
    {
     "name": "stdout",
     "output_type": "stream",
     "text": [
      "Epoch 1790 cost: 0.06704639261972424\n"
     ]
    },
    {
     "name": "stdout",
     "output_type": "stream",
     "text": [
      "Epoch 1791 cost: 0.06094192548441417\n"
     ]
    },
    {
     "name": "stdout",
     "output_type": "stream",
     "text": [
      "Epoch 1792 cost: 0.06480180217416037\n"
     ]
    },
    {
     "name": "stdout",
     "output_type": "stream",
     "text": [
      "Epoch 1793 cost: 0.06738335469727197\n"
     ]
    },
    {
     "name": "stdout",
     "output_type": "stream",
     "text": [
      "Epoch 1794 cost: 0.06389904021801843\n"
     ]
    },
    {
     "name": "stdout",
     "output_type": "stream",
     "text": [
      "Epoch 1795 cost: 0.06910452145986896\n"
     ]
    },
    {
     "name": "stdout",
     "output_type": "stream",
     "text": [
      "Epoch 1796 cost: 0.08390578185659879\n"
     ]
    },
    {
     "name": "stdout",
     "output_type": "stream",
     "text": [
      "Epoch 1797 cost: 0.07628526799897604\n"
     ]
    },
    {
     "name": "stdout",
     "output_type": "stream",
     "text": [
      "Epoch 1798 cost: 0.07025507413354984\n"
     ]
    },
    {
     "name": "stdout",
     "output_type": "stream",
     "text": [
      "Epoch 1799 cost: 0.06109799696728838\n"
     ]
    },
    {
     "name": "stdout",
     "output_type": "stream",
     "text": [
      "Epoch 1800 cost: 0.06375826370692209\n"
     ]
    },
    {
     "name": "stdout",
     "output_type": "stream",
     "text": [
      "Epoch 1801 cost: 0.061992113870490896\n"
     ]
    },
    {
     "name": "stdout",
     "output_type": "stream",
     "text": [
      "Epoch 1802 cost: 0.06406440730762816\n"
     ]
    },
    {
     "name": "stdout",
     "output_type": "stream",
     "text": [
      "Epoch 1803 cost: 0.06440585301790375\n"
     ]
    },
    {
     "name": "stdout",
     "output_type": "stream",
     "text": [
      "Epoch 1804 cost: 0.06360512390335742\n"
     ]
    },
    {
     "name": "stdout",
     "output_type": "stream",
     "text": [
      "Epoch 1805 cost: 0.07124281221804421\n"
     ]
    },
    {
     "name": "stdout",
     "output_type": "stream",
     "text": [
      "Epoch 1806 cost: 0.0728351739992331\n"
     ]
    },
    {
     "name": "stdout",
     "output_type": "stream",
     "text": [
      "Epoch 1807 cost: 0.0634037887065483\n"
     ]
    },
    {
     "name": "stdout",
     "output_type": "stream",
     "text": [
      "Epoch 1808 cost: 0.06132596249915496\n"
     ]
    },
    {
     "name": "stdout",
     "output_type": "stream",
     "text": [
      "Epoch 1809 cost: 0.0735121155881263\n"
     ]
    },
    {
     "name": "stdout",
     "output_type": "stream",
     "text": [
      "Epoch 1810 cost: 0.06857866774022653\n"
     ]
    },
    {
     "name": "stdout",
     "output_type": "stream",
     "text": [
      "Epoch 1811 cost: 0.06769372729544372\n"
     ]
    },
    {
     "name": "stdout",
     "output_type": "stream",
     "text": [
      "Epoch 1812 cost: 0.07899979098329508\n"
     ]
    },
    {
     "name": "stdout",
     "output_type": "stream",
     "text": [
      "Epoch 1813 cost: 0.07230143681248472\n"
     ]
    },
    {
     "name": "stdout",
     "output_type": "stream",
     "text": [
      "Epoch 1814 cost: 0.07406413352988764\n"
     ]
    },
    {
     "name": "stdout",
     "output_type": "stream",
     "text": [
      "Epoch 1815 cost: 0.08334963143839204\n"
     ]
    },
    {
     "name": "stdout",
     "output_type": "stream",
     "text": [
      "Epoch 1816 cost: 0.07476951438782833\n"
     ]
    },
    {
     "name": "stdout",
     "output_type": "stream",
     "text": [
      "Epoch 1817 cost: 0.06630633210551301\n"
     ]
    },
    {
     "name": "stdout",
     "output_type": "stream",
     "text": [
      "Epoch 1818 cost: 0.06335603515906711\n"
     ]
    },
    {
     "name": "stdout",
     "output_type": "stream",
     "text": [
      "Epoch 1819 cost: 0.06464369616473853\n"
     ]
    },
    {
     "name": "stdout",
     "output_type": "stream",
     "text": [
      "Epoch 1820 cost: 0.073341846626706\n"
     ]
    },
    {
     "name": "stdout",
     "output_type": "stream",
     "text": [
      "Epoch 1821 cost: 0.06512580920230242\n"
     ]
    },
    {
     "name": "stdout",
     "output_type": "stream",
     "text": [
      "Epoch 1822 cost: 0.0650297326711679\n"
     ]
    },
    {
     "name": "stdout",
     "output_type": "stream",
     "text": [
      "Epoch 1823 cost: 0.06905326296189092\n"
     ]
    },
    {
     "name": "stdout",
     "output_type": "stream",
     "text": [
      "Epoch 1824 cost: 0.0671084554742495\n"
     ]
    },
    {
     "name": "stdout",
     "output_type": "stream",
     "text": [
      "Epoch 1825 cost: 0.07129056083703873\n"
     ]
    },
    {
     "name": "stdout",
     "output_type": "stream",
     "text": [
      "Epoch 1826 cost: 0.0643563059065064\n"
     ]
    },
    {
     "name": "stdout",
     "output_type": "stream",
     "text": [
      "Epoch 1827 cost: 0.062916272949934\n"
     ]
    },
    {
     "name": "stdout",
     "output_type": "stream",
     "text": [
      "Epoch 1828 cost: 0.06504105180126589\n"
     ]
    },
    {
     "name": "stdout",
     "output_type": "stream",
     "text": [
      "Epoch 1829 cost: 0.06736832331036274\n"
     ]
    },
    {
     "name": "stdout",
     "output_type": "stream",
     "text": [
      "Epoch 1830 cost: 0.06868547720760207\n"
     ]
    },
    {
     "name": "stdout",
     "output_type": "stream",
     "text": [
      "Epoch 1831 cost: 0.07122493728108142\n"
     ]
    },
    {
     "name": "stdout",
     "output_type": "stream",
     "text": [
      "Epoch 1832 cost: 0.06597834071920411\n"
     ]
    },
    {
     "name": "stdout",
     "output_type": "stream",
     "text": [
      "Epoch 1833 cost: 0.06714507117846921\n"
     ]
    },
    {
     "name": "stdout",
     "output_type": "stream",
     "text": [
      "Epoch 1834 cost: 0.0710717464825859\n"
     ]
    },
    {
     "name": "stdout",
     "output_type": "stream",
     "text": [
      "Epoch 1835 cost: 0.07857805063568479\n"
     ]
    },
    {
     "name": "stdout",
     "output_type": "stream",
     "text": [
      "Epoch 1836 cost: 0.07151939446096889\n"
     ]
    },
    {
     "name": "stdout",
     "output_type": "stream",
     "text": [
      "Epoch 1837 cost: 0.0650418394684428\n"
     ]
    },
    {
     "name": "stdout",
     "output_type": "stream",
     "text": [
      "Epoch 1838 cost: 0.07239282519558671\n"
     ]
    },
    {
     "name": "stdout",
     "output_type": "stream",
     "text": [
      "Epoch 1839 cost: 0.07607147720385982\n"
     ]
    },
    {
     "name": "stdout",
     "output_type": "stream",
     "text": [
      "Epoch 1840 cost: 0.06074544250025547\n"
     ]
    },
    {
     "name": "stdout",
     "output_type": "stream",
     "text": [
      "Epoch 1841 cost: 0.06293836631743356\n"
     ]
    },
    {
     "name": "stdout",
     "output_type": "stream",
     "text": [
      "Epoch 1842 cost: 0.06300070648881578\n"
     ]
    },
    {
     "name": "stdout",
     "output_type": "stream",
     "text": [
      "Epoch 1843 cost: 0.06166313638768111\n"
     ]
    },
    {
     "name": "stdout",
     "output_type": "stream",
     "text": [
      "Epoch 1844 cost: 0.060722230039986315\n"
     ]
    },
    {
     "name": "stdout",
     "output_type": "stream",
     "text": [
      "Epoch 1845 cost: 0.07023484601291483\n"
     ]
    },
    {
     "name": "stdout",
     "output_type": "stream",
     "text": [
      "Epoch 1846 cost: 0.06958909126399233\n"
     ]
    },
    {
     "name": "stdout",
     "output_type": "stream",
     "text": [
      "Epoch 1847 cost: 0.06940680669374298\n"
     ]
    },
    {
     "name": "stdout",
     "output_type": "stream",
     "text": [
      "Epoch 1848 cost: 0.06905345062660675\n"
     ]
    },
    {
     "name": "stdout",
     "output_type": "stream",
     "text": [
      "Epoch 1849 cost: 0.06234132753499198\n"
     ]
    },
    {
     "name": "stdout",
     "output_type": "stream",
     "text": [
      "Epoch 1850 cost: 0.07046713795987578\n"
     ]
    },
    {
     "name": "stdout",
     "output_type": "stream",
     "text": [
      "Epoch 1851 cost: 0.06895714124070142\n"
     ]
    },
    {
     "name": "stdout",
     "output_type": "stream",
     "text": [
      "Epoch 1852 cost: 0.06516547454824523\n"
     ]
    },
    {
     "name": "stdout",
     "output_type": "stream",
     "text": [
      "Epoch 1853 cost: 0.06967332413590523\n"
     ]
    },
    {
     "name": "stdout",
     "output_type": "stream",
     "text": [
      "Epoch 1854 cost: 0.06403101294775024\n"
     ]
    },
    {
     "name": "stdout",
     "output_type": "stream",
     "text": [
      "Epoch 1855 cost: 0.0747576277585011\n"
     ]
    },
    {
     "name": "stdout",
     "output_type": "stream",
     "text": [
      "Epoch 1856 cost: 0.06539362200265286\n"
     ]
    },
    {
     "name": "stdout",
     "output_type": "stream",
     "text": [
      "Epoch 1857 cost: 0.08409491393252465\n"
     ]
    },
    {
     "name": "stdout",
     "output_type": "stream",
     "text": [
      "Epoch 1858 cost: 0.057416641414326314\n"
     ]
    },
    {
     "name": "stdout",
     "output_type": "stream",
     "text": [
      "Epoch 1859 cost: 0.06092615457214008\n"
     ]
    },
    {
     "name": "stdout",
     "output_type": "stream",
     "text": [
      "Epoch 1860 cost: 0.060959483475280914\n"
     ]
    },
    {
     "name": "stdout",
     "output_type": "stream",
     "text": [
      "Epoch 1861 cost: 0.06275081292616295\n"
     ]
    },
    {
     "name": "stdout",
     "output_type": "stream",
     "text": [
      "Epoch 1862 cost: 0.06959443069206957\n"
     ]
    },
    {
     "name": "stdout",
     "output_type": "stream",
     "text": [
      "Epoch 1863 cost: 0.06150931322382122\n"
     ]
    },
    {
     "name": "stdout",
     "output_type": "stream",
     "text": [
      "Epoch 1864 cost: 0.06553776503987735\n"
     ]
    },
    {
     "name": "stdout",
     "output_type": "stream",
     "text": [
      "Epoch 1865 cost: 0.0712824152206294\n"
     ]
    },
    {
     "name": "stdout",
     "output_type": "stream",
     "text": [
      "Epoch 1866 cost: 0.06281520257776116\n"
     ]
    },
    {
     "name": "stdout",
     "output_type": "stream",
     "text": [
      "Epoch 1867 cost: 0.06390457244214183\n"
     ]
    },
    {
     "name": "stdout",
     "output_type": "stream",
     "text": [
      "Epoch 1868 cost: 0.06590218130557039\n"
     ]
    },
    {
     "name": "stdout",
     "output_type": "stream",
     "text": [
      "Epoch 1869 cost: 0.06363253119573516\n"
     ]
    },
    {
     "name": "stdout",
     "output_type": "stream",
     "text": [
      "Epoch 1870 cost: 0.06270636808846626\n"
     ]
    },
    {
     "name": "stdout",
     "output_type": "stream",
     "text": [
      "Epoch 1871 cost: 0.06593902301762994\n"
     ]
    },
    {
     "name": "stdout",
     "output_type": "stream",
     "text": [
      "Epoch 1872 cost: 0.06403643593572322\n"
     ]
    },
    {
     "name": "stdout",
     "output_type": "stream",
     "text": [
      "Epoch 1873 cost: 0.060367984361603656\n"
     ]
    },
    {
     "name": "stdout",
     "output_type": "stream",
     "text": [
      "Epoch 1874 cost: 0.06068596687143115\n"
     ]
    },
    {
     "name": "stdout",
     "output_type": "stream",
     "text": [
      "Epoch 1875 cost: 0.06389613716042374\n"
     ]
    },
    {
     "name": "stdout",
     "output_type": "stream",
     "text": [
      "Epoch 1876 cost: 0.06472880703337651\n"
     ]
    },
    {
     "name": "stdout",
     "output_type": "stream",
     "text": [
      "Epoch 1877 cost: 0.07692745702641803\n"
     ]
    },
    {
     "name": "stdout",
     "output_type": "stream",
     "text": [
      "Epoch 1878 cost: 0.06506529559994208\n"
     ]
    },
    {
     "name": "stdout",
     "output_type": "stream",
     "text": [
      "Epoch 1879 cost: 0.06799808602606339\n"
     ]
    },
    {
     "name": "stdout",
     "output_type": "stream",
     "text": [
      "Epoch 1880 cost: 0.07155842861360136\n"
     ]
    },
    {
     "name": "stdout",
     "output_type": "stream",
     "text": [
      "Epoch 1881 cost: 0.0777393285043814\n"
     ]
    },
    {
     "name": "stdout",
     "output_type": "stream",
     "text": [
      "Epoch 1882 cost: 0.0622119183045396\n"
     ]
    },
    {
     "name": "stdout",
     "output_type": "stream",
     "text": [
      "Epoch 1883 cost: 0.0774704352164943\n"
     ]
    },
    {
     "name": "stdout",
     "output_type": "stream",
     "text": [
      "Epoch 1884 cost: 0.06323664518203959\n"
     ]
    },
    {
     "name": "stdout",
     "output_type": "stream",
     "text": [
      "Epoch 1885 cost: 0.06396280694856575\n"
     ]
    },
    {
     "name": "stdout",
     "output_type": "stream",
     "text": [
      "Epoch 1886 cost: 0.06434638728678076\n"
     ]
    },
    {
     "name": "stdout",
     "output_type": "stream",
     "text": [
      "Epoch 1887 cost: 0.06354338014334851\n"
     ]
    },
    {
     "name": "stdout",
     "output_type": "stream",
     "text": [
      "Epoch 1888 cost: 0.060085259678644795\n"
     ]
    },
    {
     "name": "stdout",
     "output_type": "stream",
     "text": [
      "Epoch 1889 cost: 0.06439256555325067\n"
     ]
    },
    {
     "name": "stdout",
     "output_type": "stream",
     "text": [
      "Epoch 1890 cost: 0.06204182917874927\n"
     ]
    },
    {
     "name": "stdout",
     "output_type": "stream",
     "text": [
      "Epoch 1891 cost: 0.05698840768201637\n"
     ]
    },
    {
     "name": "stdout",
     "output_type": "stream",
     "text": [
      "Epoch 1892 cost: 0.06341429614562653\n"
     ]
    },
    {
     "name": "stdout",
     "output_type": "stream",
     "text": [
      "Epoch 1893 cost: 0.06969083962947191\n"
     ]
    },
    {
     "name": "stdout",
     "output_type": "stream",
     "text": [
      "Epoch 1894 cost: 0.06536835414491221\n"
     ]
    },
    {
     "name": "stdout",
     "output_type": "stream",
     "text": [
      "Epoch 1895 cost: 0.06633084416846464\n"
     ]
    },
    {
     "name": "stdout",
     "output_type": "stream",
     "text": [
      "Epoch 1896 cost: 0.06072240941162235\n"
     ]
    },
    {
     "name": "stdout",
     "output_type": "stream",
     "text": [
      "Epoch 1897 cost: 0.09071632554928886\n"
     ]
    },
    {
     "name": "stdout",
     "output_type": "stream",
     "text": [
      "Epoch 1898 cost: 0.06277807188483711\n"
     ]
    },
    {
     "name": "stdout",
     "output_type": "stream",
     "text": [
      "Epoch 1899 cost: 0.06563367311693086\n"
     ]
    },
    {
     "name": "stdout",
     "output_type": "stream",
     "text": [
      "Epoch 1900 cost: 0.06974058817641747\n"
     ]
    },
    {
     "name": "stdout",
     "output_type": "stream",
     "text": [
      "Epoch 1901 cost: 0.07140481899974321\n"
     ]
    },
    {
     "name": "stdout",
     "output_type": "stream",
     "text": [
      "Epoch 1902 cost: 0.07136839559738815\n"
     ]
    },
    {
     "name": "stdout",
     "output_type": "stream",
     "text": [
      "Epoch 1903 cost: 0.0734129750332901\n"
     ]
    },
    {
     "name": "stdout",
     "output_type": "stream",
     "text": [
      "Epoch 1904 cost: 0.06862276604066762\n"
     ]
    },
    {
     "name": "stdout",
     "output_type": "stream",
     "text": [
      "Epoch 1905 cost: 0.06906704897049795\n"
     ]
    },
    {
     "name": "stdout",
     "output_type": "stream",
     "text": [
      "Epoch 1906 cost: 0.07190225089514322\n"
     ]
    },
    {
     "name": "stdout",
     "output_type": "stream",
     "text": [
      "Epoch 1907 cost: 0.0652058081340965\n"
     ]
    },
    {
     "name": "stdout",
     "output_type": "stream",
     "text": [
      "Epoch 1908 cost: 0.06073250217954994\n"
     ]
    },
    {
     "name": "stdout",
     "output_type": "stream",
     "text": [
      "Epoch 1909 cost: 0.06975573362014477\n"
     ]
    },
    {
     "name": "stdout",
     "output_type": "stream",
     "text": [
      "Epoch 1910 cost: 0.0627958132264518\n"
     ]
    },
    {
     "name": "stdout",
     "output_type": "stream",
     "text": [
      "Epoch 1911 cost: 0.07028817980542694\n"
     ]
    },
    {
     "name": "stdout",
     "output_type": "stream",
     "text": [
      "Epoch 1912 cost: 0.06970497078535343\n"
     ]
    },
    {
     "name": "stdout",
     "output_type": "stream",
     "text": [
      "Epoch 1913 cost: 0.0710795880897954\n"
     ]
    },
    {
     "name": "stdout",
     "output_type": "stream",
     "text": [
      "Epoch 1914 cost: 0.07181431588872876\n"
     ]
    },
    {
     "name": "stdout",
     "output_type": "stream",
     "text": [
      "Epoch 1915 cost: 0.06693729043895996\n"
     ]
    },
    {
     "name": "stdout",
     "output_type": "stream",
     "text": [
      "Epoch 1916 cost: 0.06410378530448232\n"
     ]
    },
    {
     "name": "stdout",
     "output_type": "stream",
     "text": [
      "Epoch 1917 cost: 0.06623366264593485\n"
     ]
    },
    {
     "name": "stdout",
     "output_type": "stream",
     "text": [
      "Epoch 1918 cost: 0.07671680854633588\n"
     ]
    },
    {
     "name": "stdout",
     "output_type": "stream",
     "text": [
      "Epoch 1919 cost: 0.08019108273199636\n"
     ]
    },
    {
     "name": "stdout",
     "output_type": "stream",
     "text": [
      "Epoch 1920 cost: 0.07339595838899123\n"
     ]
    },
    {
     "name": "stdout",
     "output_type": "stream",
     "text": [
      "Epoch 1921 cost: 0.06744268524697399\n"
     ]
    },
    {
     "name": "stdout",
     "output_type": "stream",
     "text": [
      "Epoch 1922 cost: 0.06543339590718192\n"
     ]
    },
    {
     "name": "stdout",
     "output_type": "stream",
     "text": [
      "Epoch 1923 cost: 0.06652227501959845\n"
     ]
    },
    {
     "name": "stdout",
     "output_type": "stream",
     "text": [
      "Epoch 1924 cost: 0.07742133926744586\n"
     ]
    },
    {
     "name": "stdout",
     "output_type": "stream",
     "text": [
      "Epoch 1925 cost: 0.0626713102061551\n"
     ]
    },
    {
     "name": "stdout",
     "output_type": "stream",
     "text": [
      "Epoch 1926 cost: 0.07291992263280478\n"
     ]
    },
    {
     "name": "stdout",
     "output_type": "stream",
     "text": [
      "Epoch 1927 cost: 0.060577180001860104\n"
     ]
    },
    {
     "name": "stdout",
     "output_type": "stream",
     "text": [
      "Epoch 1928 cost: 0.06441413587141022\n"
     ]
    },
    {
     "name": "stdout",
     "output_type": "stream",
     "text": [
      "Epoch 1929 cost: 0.07084671396808659\n"
     ]
    },
    {
     "name": "stdout",
     "output_type": "stream",
     "text": [
      "Epoch 1930 cost: 0.08529725192199884\n"
     ]
    },
    {
     "name": "stdout",
     "output_type": "stream",
     "text": [
      "Epoch 1931 cost: 0.06243138253598504\n"
     ]
    },
    {
     "name": "stdout",
     "output_type": "stream",
     "text": [
      "Epoch 1932 cost: 0.0675532123474475\n"
     ]
    },
    {
     "name": "stdout",
     "output_type": "stream",
     "text": [
      "Epoch 1933 cost: 0.07737540054464506\n"
     ]
    },
    {
     "name": "stdout",
     "output_type": "stream",
     "text": [
      "Epoch 1934 cost: 0.07273752105032269\n"
     ]
    },
    {
     "name": "stdout",
     "output_type": "stream",
     "text": [
      "Epoch 1935 cost: 0.06172731516349768\n"
     ]
    },
    {
     "name": "stdout",
     "output_type": "stream",
     "text": [
      "Epoch 1936 cost: 0.06594805684156342\n"
     ]
    },
    {
     "name": "stdout",
     "output_type": "stream",
     "text": [
      "Epoch 1937 cost: 0.0685576317794688\n"
     ]
    },
    {
     "name": "stdout",
     "output_type": "stream",
     "text": [
      "Epoch 1938 cost: 0.07094595766846262\n"
     ]
    },
    {
     "name": "stdout",
     "output_type": "stream",
     "text": [
      "Epoch 1939 cost: 0.07116178242554758\n"
     ]
    },
    {
     "name": "stdout",
     "output_type": "stream",
     "text": [
      "Epoch 1940 cost: 0.07636148761398956\n"
     ]
    },
    {
     "name": "stdout",
     "output_type": "stream",
     "text": [
      "Epoch 1941 cost: 0.05607467528655599\n"
     ]
    },
    {
     "name": "stdout",
     "output_type": "stream",
     "text": [
      "Epoch 1942 cost: 0.07878986041566938\n"
     ]
    },
    {
     "name": "stdout",
     "output_type": "stream",
     "text": [
      "Epoch 1943 cost: 0.06406449242683858\n"
     ]
    },
    {
     "name": "stdout",
     "output_type": "stream",
     "text": [
      "Epoch 1944 cost: 0.05702696691181723\n"
     ]
    },
    {
     "name": "stdout",
     "output_type": "stream",
     "text": [
      "Epoch 1945 cost: 0.06248995589706429\n"
     ]
    },
    {
     "name": "stdout",
     "output_type": "stream",
     "text": [
      "Epoch 1946 cost: 0.06267530944590996\n"
     ]
    },
    {
     "name": "stdout",
     "output_type": "stream",
     "text": [
      "Epoch 1947 cost: 0.06324455762872273\n"
     ]
    },
    {
     "name": "stdout",
     "output_type": "stream",
     "text": [
      "Epoch 1948 cost: 0.07113782133898218\n"
     ]
    },
    {
     "name": "stdout",
     "output_type": "stream",
     "text": [
      "Epoch 1949 cost: 0.05915790473749185\n"
     ]
    },
    {
     "name": "stdout",
     "output_type": "stream",
     "text": [
      "Epoch 1950 cost: 0.06086319702046986\n"
     ]
    },
    {
     "name": "stdout",
     "output_type": "stream",
     "text": [
      "Epoch 1951 cost: 0.058415222041158\n"
     ]
    },
    {
     "name": "stdout",
     "output_type": "stream",
     "text": [
      "Epoch 1952 cost: 0.06226978142914625\n"
     ]
    },
    {
     "name": "stdout",
     "output_type": "stream",
     "text": [
      "Epoch 1953 cost: 0.06391016278666599\n"
     ]
    },
    {
     "name": "stdout",
     "output_type": "stream",
     "text": [
      "Epoch 1954 cost: 0.06788181136234386\n"
     ]
    },
    {
     "name": "stdout",
     "output_type": "stream",
     "text": [
      "Epoch 1955 cost: 0.05884767642856008\n"
     ]
    },
    {
     "name": "stdout",
     "output_type": "stream",
     "text": [
      "Epoch 1956 cost: 0.07841684247648639\n"
     ]
    },
    {
     "name": "stdout",
     "output_type": "stream",
     "text": [
      "Epoch 1957 cost: 0.059244851420063416\n"
     ]
    },
    {
     "name": "stdout",
     "output_type": "stream",
     "text": [
      "Epoch 1958 cost: 0.06943235891067893\n"
     ]
    },
    {
     "name": "stdout",
     "output_type": "stream",
     "text": [
      "Epoch 1959 cost: 0.06892507833193882\n"
     ]
    },
    {
     "name": "stdout",
     "output_type": "stream",
     "text": [
      "Epoch 1960 cost: 0.0716921655765649\n"
     ]
    },
    {
     "name": "stdout",
     "output_type": "stream",
     "text": [
      "Epoch 1961 cost: 0.07627987308276786\n"
     ]
    },
    {
     "name": "stdout",
     "output_type": "stream",
     "text": [
      "Epoch 1962 cost: 0.0613948343493183\n"
     ]
    },
    {
     "name": "stdout",
     "output_type": "stream",
     "text": [
      "Epoch 1963 cost: 0.09935872039057873\n"
     ]
    },
    {
     "name": "stdout",
     "output_type": "stream",
     "text": [
      "Epoch 1964 cost: 0.07187760093511293\n"
     ]
    },
    {
     "name": "stdout",
     "output_type": "stream",
     "text": [
      "Epoch 1965 cost: 0.06638003530211374\n"
     ]
    },
    {
     "name": "stdout",
     "output_type": "stream",
     "text": [
      "Epoch 1966 cost: 0.070090295456582\n"
     ]
    },
    {
     "name": "stdout",
     "output_type": "stream",
     "text": [
      "Epoch 1967 cost: 0.07850938431194714\n"
     ]
    },
    {
     "name": "stdout",
     "output_type": "stream",
     "text": [
      "Epoch 1968 cost: 0.058967564375670176\n"
     ]
    },
    {
     "name": "stdout",
     "output_type": "stream",
     "text": [
      "Epoch 1969 cost: 0.06514797280887234\n"
     ]
    },
    {
     "name": "stdout",
     "output_type": "stream",
     "text": [
      "Epoch 1970 cost: 0.0701725194756812\n"
     ]
    },
    {
     "name": "stdout",
     "output_type": "stream",
     "text": [
      "Epoch 1971 cost: 0.07948980605179366\n"
     ]
    },
    {
     "name": "stdout",
     "output_type": "stream",
     "text": [
      "Epoch 1972 cost: 0.0595209655932598\n"
     ]
    },
    {
     "name": "stdout",
     "output_type": "stream",
     "text": [
      "Epoch 1973 cost: 0.060971968404391806\n"
     ]
    },
    {
     "name": "stdout",
     "output_type": "stream",
     "text": [
      "Epoch 1974 cost: 0.059743031379629635\n"
     ]
    },
    {
     "name": "stdout",
     "output_type": "stream",
     "text": [
      "Epoch 1975 cost: 0.08288531032950051\n"
     ]
    },
    {
     "name": "stdout",
     "output_type": "stream",
     "text": [
      "Epoch 1976 cost: 0.07329072614431352\n"
     ]
    },
    {
     "name": "stdout",
     "output_type": "stream",
     "text": [
      "Epoch 1977 cost: 0.07472989968952906\n"
     ]
    },
    {
     "name": "stdout",
     "output_type": "stream",
     "text": [
      "Epoch 1978 cost: 0.07087007705073917\n"
     ]
    },
    {
     "name": "stdout",
     "output_type": "stream",
     "text": [
      "Epoch 1979 cost: 0.058952069509682806\n"
     ]
    },
    {
     "name": "stdout",
     "output_type": "stream",
     "text": [
      "Epoch 1980 cost: 0.06959129638475074\n"
     ]
    },
    {
     "name": "stdout",
     "output_type": "stream",
     "text": [
      "Epoch 1981 cost: 0.05911808429133972\n"
     ]
    },
    {
     "name": "stdout",
     "output_type": "stream",
     "text": [
      "Epoch 1982 cost: 0.07008213459827539\n"
     ]
    },
    {
     "name": "stdout",
     "output_type": "stream",
     "text": [
      "Epoch 1983 cost: 0.058772030231796286\n"
     ]
    },
    {
     "name": "stdout",
     "output_type": "stream",
     "text": [
      "Epoch 1984 cost: 0.058774650093778864\n"
     ]
    },
    {
     "name": "stdout",
     "output_type": "stream",
     "text": [
      "Epoch 1985 cost: 0.05944568448572206\n"
     ]
    },
    {
     "name": "stdout",
     "output_type": "stream",
     "text": [
      "Epoch 1986 cost: 0.06346015731155431\n"
     ]
    },
    {
     "name": "stdout",
     "output_type": "stream",
     "text": [
      "Epoch 1987 cost: 0.09489368713541012\n"
     ]
    },
    {
     "name": "stdout",
     "output_type": "stream",
     "text": [
      "Epoch 1988 cost: 0.060864872253746684\n"
     ]
    },
    {
     "name": "stdout",
     "output_type": "stream",
     "text": [
      "Epoch 1989 cost: 0.0617610325124568\n"
     ]
    },
    {
     "name": "stdout",
     "output_type": "stream",
     "text": [
      "Epoch 1990 cost: 0.07043060717518393\n"
     ]
    },
    {
     "name": "stdout",
     "output_type": "stream",
     "text": [
      "Epoch 1991 cost: 0.06422256056583889\n"
     ]
    },
    {
     "name": "stdout",
     "output_type": "stream",
     "text": [
      "Epoch 1992 cost: 0.05918810046863713\n"
     ]
    },
    {
     "name": "stdout",
     "output_type": "stream",
     "text": [
      "Epoch 1993 cost: 0.057982706614860165\n"
     ]
    },
    {
     "name": "stdout",
     "output_type": "stream",
     "text": [
      "Epoch 1994 cost: 0.07440877592715837\n"
     ]
    },
    {
     "name": "stdout",
     "output_type": "stream",
     "text": [
      "Epoch 1995 cost: 0.06783917256359355\n"
     ]
    },
    {
     "name": "stdout",
     "output_type": "stream",
     "text": [
      "Epoch 1996 cost: 0.056970839171649995\n"
     ]
    },
    {
     "name": "stdout",
     "output_type": "stream",
     "text": [
      "Epoch 1997 cost: 0.06240109190780707\n"
     ]
    },
    {
     "name": "stdout",
     "output_type": "stream",
     "text": [
      "Epoch 1998 cost: 0.1020744875983644\n"
     ]
    },
    {
     "name": "stdout",
     "output_type": "stream",
     "text": [
      "Epoch 1999 cost: 0.07795741024985671\n"
     ]
    },
    {
     "name": "stdout",
     "output_type": "stream",
     "text": [
      "Epoch 2000 cost: 0.06086526973277848\n"
     ]
    }
   ],
   "source": [
    "η = 0.01 # learning rate\n",
    "max_epoch = 2000 # maximum iteration\n",
    "anim = Animation() # visualization\n",
    "\n",
    "### Training loop\n",
    "for i in 1:max_epoch\n",
    "    dataset = minibatch(input, output, 5)\n",
    "\n",
    "    # Train model\n",
    "    cost = train!(neural_model, Cost, dataset, η)\n",
    "\n",
    "    # Report loss\n",
    "    println(\"Epoch $i cost: $cost\")\n",
    "\n",
    "    # Update visualization\n",
    "    plot_model(neural_model, x1grid, x2grid)\n",
    "    frame(anim)\n",
    "end"
   ]
  },
  {
   "cell_type": "code",
   "execution_count": 8,
   "metadata": {
    "collapsed": false
   },
   "outputs": [
    {
     "name": "stderr",
     "output_type": "stream",
     "text": [
      "┌ Info: Saved animation to \n",
      "│   fn = /home/user/tmp.gif\n",
      "└ @ Plots /ext/julia/depot/packages/Plots/AXUqs/src/animation.jl:98\n"
     ]
    },
    {
     "data": {
      "image/svg+xml": "<?xml version=\"1.0\" encoding=\"utf-8\"?>\n<svg xmlns=\"http://www.w3.org/2000/svg\" xmlns:xlink=\"http://www.w3.org/1999/xlink\" width=\"600\" height=\"400\" viewBox=\"0 0 2400 1600\">\n<defs>\n  <clipPath id=\"clip3600\">\n    <rect x=\"0\" y=\"0\" width=\"2400\" height=\"1600\"/>\n  </clipPath>\n</defs>\n<path clip-path=\"url(#clip3600)\" d=\"\nM0 1600 L2400 1600 L2400 0 L0 0  Z\n  \" fill=\"#ffffff\" fill-rule=\"evenodd\" fill-opacity=\"1\"/>\n<defs>\n  <clipPath id=\"clip3601\">\n    <rect x=\"480\" y=\"0\" width=\"1681\" height=\"1600\"/>\n  </clipPath>\n</defs>\n<path clip-path=\"url(#clip3600)\" d=\"\nM168.627 1487.47 L1612.67 1487.47 L1612.67 47.2441 L168.627 47.2441  Z\n  \" fill=\"#ffffff\" fill-rule=\"evenodd\" fill-opacity=\"1\"/>\n<defs>\n  <clipPath id=\"clip3602\">\n    <rect x=\"168\" y=\"47\" width=\"1445\" height=\"1441\"/>\n  </clipPath>\n</defs>\n<polyline clip-path=\"url(#clip3602)\" style=\"stroke:#000000; stroke-width:2; stroke-opacity:0.1; fill:none\" points=\"\n  209.496,1487.47 209.496,47.2441 \n  \"/>\n<polyline clip-path=\"url(#clip3602)\" style=\"stroke:#000000; stroke-width:2; stroke-opacity:0.1; fill:none\" points=\"\n  436.546,1487.47 436.546,47.2441 \n  \"/>\n<polyline clip-path=\"url(#clip3602)\" style=\"stroke:#000000; stroke-width:2; stroke-opacity:0.1; fill:none\" points=\"\n  663.596,1487.47 663.596,47.2441 \n  \"/>\n<polyline clip-path=\"url(#clip3602)\" style=\"stroke:#000000; stroke-width:2; stroke-opacity:0.1; fill:none\" points=\"\n  890.646,1487.47 890.646,47.2441 \n  \"/>\n<polyline clip-path=\"url(#clip3602)\" style=\"stroke:#000000; stroke-width:2; stroke-opacity:0.1; fill:none\" points=\"\n  1117.7,1487.47 1117.7,47.2441 \n  \"/>\n<polyline clip-path=\"url(#clip3602)\" style=\"stroke:#000000; stroke-width:2; stroke-opacity:0.1; fill:none\" points=\"\n  1344.75,1487.47 1344.75,47.2441 \n  \"/>\n<polyline clip-path=\"url(#clip3602)\" style=\"stroke:#000000; stroke-width:2; stroke-opacity:0.1; fill:none\" points=\"\n  1571.8,1487.47 1571.8,47.2441 \n  \"/>\n<polyline clip-path=\"url(#clip3602)\" style=\"stroke:#000000; stroke-width:2; stroke-opacity:0.1; fill:none\" points=\"\n  168.627,1220.26 1612.67,1220.26 \n  \"/>\n<polyline clip-path=\"url(#clip3602)\" style=\"stroke:#000000; stroke-width:2; stroke-opacity:0.1; fill:none\" points=\"\n  168.627,842.843 1612.67,842.843 \n  \"/>\n<polyline clip-path=\"url(#clip3602)\" style=\"stroke:#000000; stroke-width:2; stroke-opacity:0.1; fill:none\" points=\"\n  168.627,465.424 1612.67,465.424 \n  \"/>\n<polyline clip-path=\"url(#clip3602)\" style=\"stroke:#000000; stroke-width:2; stroke-opacity:0.1; fill:none\" points=\"\n  168.627,88.0053 1612.67,88.0053 \n  \"/>\n<polyline clip-path=\"url(#clip3600)\" style=\"stroke:#000000; stroke-width:4; stroke-opacity:1; fill:none\" points=\"\n  168.627,1487.47 1612.67,1487.47 \n  \"/>\n<polyline clip-path=\"url(#clip3600)\" style=\"stroke:#000000; stroke-width:4; stroke-opacity:1; fill:none\" points=\"\n  168.627,1487.47 168.627,47.2441 \n  \"/>\n<polyline clip-path=\"url(#clip3600)\" style=\"stroke:#000000; stroke-width:4; stroke-opacity:1; fill:none\" points=\"\n  209.496,1487.47 209.496,1465.87 \n  \"/>\n<polyline clip-path=\"url(#clip3600)\" style=\"stroke:#000000; stroke-width:4; stroke-opacity:1; fill:none\" points=\"\n  436.546,1487.47 436.546,1465.87 \n  \"/>\n<polyline clip-path=\"url(#clip3600)\" style=\"stroke:#000000; stroke-width:4; stroke-opacity:1; fill:none\" points=\"\n  663.596,1487.47 663.596,1465.87 \n  \"/>\n<polyline clip-path=\"url(#clip3600)\" style=\"stroke:#000000; stroke-width:4; stroke-opacity:1; fill:none\" points=\"\n  890.646,1487.47 890.646,1465.87 \n  \"/>\n<polyline clip-path=\"url(#clip3600)\" style=\"stroke:#000000; stroke-width:4; stroke-opacity:1; fill:none\" points=\"\n  1117.7,1487.47 1117.7,1465.87 \n  \"/>\n<polyline clip-path=\"url(#clip3600)\" style=\"stroke:#000000; stroke-width:4; stroke-opacity:1; fill:none\" points=\"\n  1344.75,1487.47 1344.75,1465.87 \n  \"/>\n<polyline clip-path=\"url(#clip3600)\" style=\"stroke:#000000; stroke-width:4; stroke-opacity:1; fill:none\" points=\"\n  1571.8,1487.47 1571.8,1465.87 \n  \"/>\n<polyline clip-path=\"url(#clip3600)\" style=\"stroke:#000000; stroke-width:4; stroke-opacity:1; fill:none\" points=\"\n  168.627,1220.26 190.287,1220.26 \n  \"/>\n<polyline clip-path=\"url(#clip3600)\" style=\"stroke:#000000; stroke-width:4; stroke-opacity:1; fill:none\" points=\"\n  168.627,842.843 190.287,842.843 \n  \"/>\n<polyline clip-path=\"url(#clip3600)\" style=\"stroke:#000000; stroke-width:4; stroke-opacity:1; fill:none\" points=\"\n  168.627,465.424 190.287,465.424 \n  \"/>\n<polyline clip-path=\"url(#clip3600)\" style=\"stroke:#000000; stroke-width:4; stroke-opacity:1; fill:none\" points=\"\n  168.627,88.0053 190.287,88.0053 \n  \"/>\n<g clip-path=\"url(#clip3600)\">\n<text style=\"fill:#000000; fill-opacity:1; font-family:Arial,Helvetica Neue,Helvetica,sans-serif; font-size:48px; text-anchor:middle;\" transform=\"rotate(0, 209.496, 1541.47)\" x=\"209.496\" y=\"1541.47\">-3</text>\n</g>\n<g clip-path=\"url(#clip3600)\">\n<text style=\"fill:#000000; fill-opacity:1; font-family:Arial,Helvetica Neue,Helvetica,sans-serif; font-size:48px; text-anchor:middle;\" transform=\"rotate(0, 436.546, 1541.47)\" x=\"436.546\" y=\"1541.47\">-2</text>\n</g>\n<g clip-path=\"url(#clip3600)\">\n<text style=\"fill:#000000; fill-opacity:1; font-family:Arial,Helvetica Neue,Helvetica,sans-serif; font-size:48px; text-anchor:middle;\" transform=\"rotate(0, 663.596, 1541.47)\" x=\"663.596\" y=\"1541.47\">-1</text>\n</g>\n<g clip-path=\"url(#clip3600)\">\n<text style=\"fill:#000000; fill-opacity:1; font-family:Arial,Helvetica Neue,Helvetica,sans-serif; font-size:48px; text-anchor:middle;\" transform=\"rotate(0, 890.646, 1541.47)\" x=\"890.646\" y=\"1541.47\">0</text>\n</g>\n<g clip-path=\"url(#clip3600)\">\n<text style=\"fill:#000000; fill-opacity:1; font-family:Arial,Helvetica Neue,Helvetica,sans-serif; font-size:48px; text-anchor:middle;\" transform=\"rotate(0, 1117.7, 1541.47)\" x=\"1117.7\" y=\"1541.47\">1</text>\n</g>\n<g clip-path=\"url(#clip3600)\">\n<text style=\"fill:#000000; fill-opacity:1; font-family:Arial,Helvetica Neue,Helvetica,sans-serif; font-size:48px; text-anchor:middle;\" transform=\"rotate(0, 1344.75, 1541.47)\" x=\"1344.75\" y=\"1541.47\">2</text>\n</g>\n<g clip-path=\"url(#clip3600)\">\n<text style=\"fill:#000000; fill-opacity:1; font-family:Arial,Helvetica Neue,Helvetica,sans-serif; font-size:48px; text-anchor:middle;\" transform=\"rotate(0, 1571.8, 1541.47)\" x=\"1571.8\" y=\"1541.47\">3</text>\n</g>\n<g clip-path=\"url(#clip3600)\">\n<text style=\"fill:#000000; fill-opacity:1; font-family:Arial,Helvetica Neue,Helvetica,sans-serif; font-size:48px; text-anchor:end;\" transform=\"rotate(0, 144.627, 1237.76)\" x=\"144.627\" y=\"1237.76\">-10</text>\n</g>\n<g clip-path=\"url(#clip3600)\">\n<text style=\"fill:#000000; fill-opacity:1; font-family:Arial,Helvetica Neue,Helvetica,sans-serif; font-size:48px; text-anchor:end;\" transform=\"rotate(0, 144.627, 860.343)\" x=\"144.627\" y=\"860.343\">0</text>\n</g>\n<g clip-path=\"url(#clip3600)\">\n<text style=\"fill:#000000; fill-opacity:1; font-family:Arial,Helvetica Neue,Helvetica,sans-serif; font-size:48px; text-anchor:end;\" transform=\"rotate(0, 144.627, 482.924)\" x=\"144.627\" y=\"482.924\">10</text>\n</g>\n<g clip-path=\"url(#clip3600)\">\n<text style=\"fill:#000000; fill-opacity:1; font-family:Arial,Helvetica Neue,Helvetica,sans-serif; font-size:48px; text-anchor:end;\" transform=\"rotate(0, 144.627, 105.505)\" x=\"144.627\" y=\"105.505\">20</text>\n</g>\n<circle clip-path=\"url(#clip3602)\" style=\"fill:#000000; stroke:none; fill-opacity:1\" cx=\"1101.82\" cy=\"345.056\" r=\"18\"/>\n<circle clip-path=\"url(#clip3602)\" style=\"fill:#0000ff; stroke:none; fill-opacity:1\" cx=\"1101.82\" cy=\"345.056\" r=\"14\"/>\n<circle clip-path=\"url(#clip3602)\" style=\"fill:#000000; stroke:none; fill-opacity:1\" cx=\"641.037\" cy=\"95.8857\" r=\"18\"/>\n<circle clip-path=\"url(#clip3602)\" style=\"fill:#0000ff; stroke:none; fill-opacity:1\" cx=\"641.037\" cy=\"95.8857\" r=\"14\"/>\n<circle clip-path=\"url(#clip3602)\" style=\"fill:#000000; stroke:none; fill-opacity:1\" cx=\"1526.65\" cy=\"134.179\" r=\"18\"/>\n<circle clip-path=\"url(#clip3602)\" style=\"fill:#0000ff; stroke:none; fill-opacity:1\" cx=\"1526.65\" cy=\"134.179\" r=\"14\"/>\n<circle clip-path=\"url(#clip3602)\" style=\"fill:#000000; stroke:none; fill-opacity:1\" cx=\"249.82\" cy=\"428.618\" r=\"18\"/>\n<circle clip-path=\"url(#clip3602)\" style=\"fill:#0000ff; stroke:none; fill-opacity:1\" cx=\"249.82\" cy=\"428.618\" r=\"14\"/>\n<circle clip-path=\"url(#clip3602)\" style=\"fill:#000000; stroke:none; fill-opacity:1\" cx=\"1001.38\" cy=\"571.256\" r=\"18\"/>\n<circle clip-path=\"url(#clip3602)\" style=\"fill:#0000ff; stroke:none; fill-opacity:1\" cx=\"1001.38\" cy=\"571.256\" r=\"14\"/>\n<circle clip-path=\"url(#clip3602)\" style=\"fill:#000000; stroke:none; fill-opacity:1\" cx=\"448.287\" cy=\"395.378\" r=\"18\"/>\n<circle clip-path=\"url(#clip3602)\" style=\"fill:#0000ff; stroke:none; fill-opacity:1\" cx=\"448.287\" cy=\"395.378\" r=\"14\"/>\n<circle clip-path=\"url(#clip3602)\" style=\"fill:#000000; stroke:none; fill-opacity:1\" cx=\"799.864\" cy=\"259.388\" r=\"18\"/>\n<circle clip-path=\"url(#clip3602)\" style=\"fill:#0000ff; stroke:none; fill-opacity:1\" cx=\"799.864\" cy=\"259.388\" r=\"14\"/>\n<circle clip-path=\"url(#clip3602)\" style=\"fill:#000000; stroke:none; fill-opacity:1\" cx=\"1065.56\" cy=\"499.72\" r=\"18\"/>\n<circle clip-path=\"url(#clip3602)\" style=\"fill:#0000ff; stroke:none; fill-opacity:1\" cx=\"1065.56\" cy=\"499.72\" r=\"14\"/>\n<circle clip-path=\"url(#clip3602)\" style=\"fill:#000000; stroke:none; fill-opacity:1\" cx=\"1004.65\" cy=\"502.681\" r=\"18\"/>\n<circle clip-path=\"url(#clip3602)\" style=\"fill:#0000ff; stroke:none; fill-opacity:1\" cx=\"1004.65\" cy=\"502.681\" r=\"14\"/>\n<circle clip-path=\"url(#clip3602)\" style=\"fill:#000000; stroke:none; fill-opacity:1\" cx=\"915.212\" cy=\"579.438\" r=\"18\"/>\n<circle clip-path=\"url(#clip3602)\" style=\"fill:#0000ff; stroke:none; fill-opacity:1\" cx=\"915.212\" cy=\"579.438\" r=\"14\"/>\n<circle clip-path=\"url(#clip3602)\" style=\"fill:#000000; stroke:none; fill-opacity:1\" cx=\"334.565\" cy=\"1016.79\" r=\"18\"/>\n<circle clip-path=\"url(#clip3602)\" style=\"fill:#0000ff; stroke:none; fill-opacity:1\" cx=\"334.565\" cy=\"1016.79\" r=\"14\"/>\n<circle clip-path=\"url(#clip3602)\" style=\"fill:#000000; stroke:none; fill-opacity:1\" cx=\"684.848\" cy=\"485.196\" r=\"18\"/>\n<circle clip-path=\"url(#clip3602)\" style=\"fill:#0000ff; stroke:none; fill-opacity:1\" cx=\"684.848\" cy=\"485.196\" r=\"14\"/>\n<circle clip-path=\"url(#clip3602)\" style=\"fill:#000000; stroke:none; fill-opacity:1\" cx=\"930.176\" cy=\"264.365\" r=\"18\"/>\n<circle clip-path=\"url(#clip3602)\" style=\"fill:#0000ff; stroke:none; fill-opacity:1\" cx=\"930.176\" cy=\"264.365\" r=\"14\"/>\n<circle clip-path=\"url(#clip3602)\" style=\"fill:#000000; stroke:none; fill-opacity:1\" cx=\"332.855\" cy=\"733.435\" r=\"18\"/>\n<circle clip-path=\"url(#clip3602)\" style=\"fill:#0000ff; stroke:none; fill-opacity:1\" cx=\"332.855\" cy=\"733.435\" r=\"14\"/>\n<circle clip-path=\"url(#clip3602)\" style=\"fill:#000000; stroke:none; fill-opacity:1\" cx=\"1439.01\" cy=\"117.394\" r=\"18\"/>\n<circle clip-path=\"url(#clip3602)\" style=\"fill:#0000ff; stroke:none; fill-opacity:1\" cx=\"1439.01\" cy=\"117.394\" r=\"14\"/>\n<circle clip-path=\"url(#clip3602)\" style=\"fill:#000000; stroke:none; fill-opacity:1\" cx=\"432.133\" cy=\"241.857\" r=\"18\"/>\n<circle clip-path=\"url(#clip3602)\" style=\"fill:#0000ff; stroke:none; fill-opacity:1\" cx=\"432.133\" cy=\"241.857\" r=\"14\"/>\n<circle clip-path=\"url(#clip3602)\" style=\"fill:#000000; stroke:none; fill-opacity:1\" cx=\"509.744\" cy=\"718.054\" r=\"18\"/>\n<circle clip-path=\"url(#clip3602)\" style=\"fill:#0000ff; stroke:none; fill-opacity:1\" cx=\"509.744\" cy=\"718.054\" r=\"14\"/>\n<circle clip-path=\"url(#clip3602)\" style=\"fill:#000000; stroke:none; fill-opacity:1\" cx=\"1545.55\" cy=\"155.339\" r=\"18\"/>\n<circle clip-path=\"url(#clip3602)\" style=\"fill:#0000ff; stroke:none; fill-opacity:1\" cx=\"1545.55\" cy=\"155.339\" r=\"14\"/>\n<circle clip-path=\"url(#clip3602)\" style=\"fill:#000000; stroke:none; fill-opacity:1\" cx=\"1044.48\" cy=\"199.34\" r=\"18\"/>\n<circle clip-path=\"url(#clip3602)\" style=\"fill:#0000ff; stroke:none; fill-opacity:1\" cx=\"1044.48\" cy=\"199.34\" r=\"14\"/>\n<circle clip-path=\"url(#clip3602)\" style=\"fill:#000000; stroke:none; fill-opacity:1\" cx=\"276.648\" cy=\"954.207\" r=\"18\"/>\n<circle clip-path=\"url(#clip3602)\" style=\"fill:#0000ff; stroke:none; fill-opacity:1\" cx=\"276.648\" cy=\"954.207\" r=\"14\"/>\n<circle clip-path=\"url(#clip3602)\" style=\"fill:#000000; stroke:none; fill-opacity:1\" cx=\"1380.1\" cy=\"485.434\" r=\"18\"/>\n<circle clip-path=\"url(#clip3602)\" style=\"fill:#0000ff; stroke:none; fill-opacity:1\" cx=\"1380.1\" cy=\"485.434\" r=\"14\"/>\n<circle clip-path=\"url(#clip3602)\" style=\"fill:#000000; stroke:none; fill-opacity:1\" cx=\"708.963\" cy=\"154.149\" r=\"18\"/>\n<circle clip-path=\"url(#clip3602)\" style=\"fill:#0000ff; stroke:none; fill-opacity:1\" cx=\"708.963\" cy=\"154.149\" r=\"14\"/>\n<circle clip-path=\"url(#clip3602)\" style=\"fill:#000000; stroke:none; fill-opacity:1\" cx=\"654.267\" cy=\"161.682\" r=\"18\"/>\n<circle clip-path=\"url(#clip3602)\" style=\"fill:#0000ff; stroke:none; fill-opacity:1\" cx=\"654.267\" cy=\"161.682\" r=\"14\"/>\n<circle clip-path=\"url(#clip3602)\" style=\"fill:#000000; stroke:none; fill-opacity:1\" cx=\"1343.82\" cy=\"508.613\" r=\"18\"/>\n<circle clip-path=\"url(#clip3602)\" style=\"fill:#0000ff; stroke:none; fill-opacity:1\" cx=\"1343.82\" cy=\"508.613\" r=\"14\"/>\n<circle clip-path=\"url(#clip3602)\" style=\"fill:#000000; stroke:none; fill-opacity:1\" cx=\"338.086\" cy=\"907.28\" r=\"18\"/>\n<circle clip-path=\"url(#clip3602)\" style=\"fill:#0000ff; stroke:none; fill-opacity:1\" cx=\"338.086\" cy=\"907.28\" r=\"14\"/>\n<circle clip-path=\"url(#clip3602)\" style=\"fill:#000000; stroke:none; fill-opacity:1\" cx=\"216.695\" cy=\"673.592\" r=\"18\"/>\n<circle clip-path=\"url(#clip3602)\" style=\"fill:#0000ff; stroke:none; fill-opacity:1\" cx=\"216.695\" cy=\"673.592\" r=\"14\"/>\n<circle clip-path=\"url(#clip3602)\" style=\"fill:#000000; stroke:none; fill-opacity:1\" cx=\"232.178\" cy=\"397.58\" r=\"18\"/>\n<circle clip-path=\"url(#clip3602)\" style=\"fill:#0000ff; stroke:none; fill-opacity:1\" cx=\"232.178\" cy=\"397.58\" r=\"14\"/>\n<circle clip-path=\"url(#clip3602)\" style=\"fill:#000000; stroke:none; fill-opacity:1\" cx=\"1189.13\" cy=\"607.24\" r=\"18\"/>\n<circle clip-path=\"url(#clip3602)\" style=\"fill:#0000ff; stroke:none; fill-opacity:1\" cx=\"1189.13\" cy=\"607.24\" r=\"14\"/>\n<circle clip-path=\"url(#clip3602)\" style=\"fill:#000000; stroke:none; fill-opacity:1\" cx=\"832.612\" cy=\"393.173\" r=\"18\"/>\n<circle clip-path=\"url(#clip3602)\" style=\"fill:#0000ff; stroke:none; fill-opacity:1\" cx=\"832.612\" cy=\"393.173\" r=\"14\"/>\n<circle clip-path=\"url(#clip3602)\" style=\"fill:#000000; stroke:none; fill-opacity:1\" cx=\"1542.25\" cy=\"186.823\" r=\"18\"/>\n<circle clip-path=\"url(#clip3602)\" style=\"fill:#0000ff; stroke:none; fill-opacity:1\" cx=\"1542.25\" cy=\"186.823\" r=\"14\"/>\n<circle clip-path=\"url(#clip3602)\" style=\"fill:#000000; stroke:none; fill-opacity:1\" cx=\"505.137\" cy=\"540.635\" r=\"18\"/>\n<circle clip-path=\"url(#clip3602)\" style=\"fill:#0000ff; stroke:none; fill-opacity:1\" cx=\"505.137\" cy=\"540.635\" r=\"14\"/>\n<circle clip-path=\"url(#clip3602)\" style=\"fill:#000000; stroke:none; fill-opacity:1\" cx=\"439.734\" cy=\"404.534\" r=\"18\"/>\n<circle clip-path=\"url(#clip3602)\" style=\"fill:#0000ff; stroke:none; fill-opacity:1\" cx=\"439.734\" cy=\"404.534\" r=\"14\"/>\n<circle clip-path=\"url(#clip3602)\" style=\"fill:#000000; stroke:none; fill-opacity:1\" cx=\"1258.81\" cy=\"568.218\" r=\"18\"/>\n<circle clip-path=\"url(#clip3602)\" style=\"fill:#0000ff; stroke:none; fill-opacity:1\" cx=\"1258.81\" cy=\"568.218\" r=\"14\"/>\n<circle clip-path=\"url(#clip3602)\" style=\"fill:#000000; stroke:none; fill-opacity:1\" cx=\"976.004\" cy=\"418.081\" r=\"18\"/>\n<circle clip-path=\"url(#clip3602)\" style=\"fill:#0000ff; stroke:none; fill-opacity:1\" cx=\"976.004\" cy=\"418.081\" r=\"14\"/>\n<circle clip-path=\"url(#clip3602)\" style=\"fill:#000000; stroke:none; fill-opacity:1\" cx=\"327.906\" cy=\"896.679\" r=\"18\"/>\n<circle clip-path=\"url(#clip3602)\" style=\"fill:#0000ff; stroke:none; fill-opacity:1\" cx=\"327.906\" cy=\"896.679\" r=\"14\"/>\n<circle clip-path=\"url(#clip3602)\" style=\"fill:#000000; stroke:none; fill-opacity:1\" cx=\"587.963\" cy=\"626.027\" r=\"18\"/>\n<circle clip-path=\"url(#clip3602)\" style=\"fill:#0000ff; stroke:none; fill-opacity:1\" cx=\"587.963\" cy=\"626.027\" r=\"14\"/>\n<circle clip-path=\"url(#clip3602)\" style=\"fill:#000000; stroke:none; fill-opacity:1\" cx=\"1245.48\" cy=\"151.819\" r=\"18\"/>\n<circle clip-path=\"url(#clip3602)\" style=\"fill:#0000ff; stroke:none; fill-opacity:1\" cx=\"1245.48\" cy=\"151.819\" r=\"14\"/>\n<circle clip-path=\"url(#clip3602)\" style=\"fill:#000000; stroke:none; fill-opacity:1\" cx=\"629.135\" cy=\"405.046\" r=\"18\"/>\n<circle clip-path=\"url(#clip3602)\" style=\"fill:#0000ff; stroke:none; fill-opacity:1\" cx=\"629.135\" cy=\"405.046\" r=\"14\"/>\n<circle clip-path=\"url(#clip3602)\" style=\"fill:#000000; stroke:none; fill-opacity:1\" cx=\"1122.64\" cy=\"133.637\" r=\"18\"/>\n<circle clip-path=\"url(#clip3602)\" style=\"fill:#0000ff; stroke:none; fill-opacity:1\" cx=\"1122.64\" cy=\"133.637\" r=\"14\"/>\n<circle clip-path=\"url(#clip3602)\" style=\"fill:#000000; stroke:none; fill-opacity:1\" cx=\"416.516\" cy=\"606.219\" r=\"18\"/>\n<circle clip-path=\"url(#clip3602)\" style=\"fill:#0000ff; stroke:none; fill-opacity:1\" cx=\"416.516\" cy=\"606.219\" r=\"14\"/>\n<circle clip-path=\"url(#clip3602)\" style=\"fill:#000000; stroke:none; fill-opacity:1\" cx=\"671.846\" cy=\"495.541\" r=\"18\"/>\n<circle clip-path=\"url(#clip3602)\" style=\"fill:#0000ff; stroke:none; fill-opacity:1\" cx=\"671.846\" cy=\"495.541\" r=\"14\"/>\n<circle clip-path=\"url(#clip3602)\" style=\"fill:#000000; stroke:none; fill-opacity:1\" cx=\"1017.37\" cy=\"541.676\" r=\"18\"/>\n<circle clip-path=\"url(#clip3602)\" style=\"fill:#0000ff; stroke:none; fill-opacity:1\" cx=\"1017.37\" cy=\"541.676\" r=\"14\"/>\n<circle clip-path=\"url(#clip3602)\" style=\"fill:#000000; stroke:none; fill-opacity:1\" cx=\"931.287\" cy=\"95.3592\" r=\"18\"/>\n<circle clip-path=\"url(#clip3602)\" style=\"fill:#0000ff; stroke:none; fill-opacity:1\" cx=\"931.287\" cy=\"95.3592\" r=\"14\"/>\n<circle clip-path=\"url(#clip3602)\" style=\"fill:#000000; stroke:none; fill-opacity:1\" cx=\"1074.21\" cy=\"205.013\" r=\"18\"/>\n<circle clip-path=\"url(#clip3602)\" style=\"fill:#0000ff; stroke:none; fill-opacity:1\" cx=\"1074.21\" cy=\"205.013\" r=\"14\"/>\n<circle clip-path=\"url(#clip3602)\" style=\"fill:#000000; stroke:none; fill-opacity:1\" cx=\"350.368\" cy=\"324.946\" r=\"18\"/>\n<circle clip-path=\"url(#clip3602)\" style=\"fill:#0000ff; stroke:none; fill-opacity:1\" cx=\"350.368\" cy=\"324.946\" r=\"14\"/>\n<circle clip-path=\"url(#clip3602)\" style=\"fill:#000000; stroke:none; fill-opacity:1\" cx=\"1353.39\" cy=\"405.44\" r=\"18\"/>\n<circle clip-path=\"url(#clip3602)\" style=\"fill:#0000ff; stroke:none; fill-opacity:1\" cx=\"1353.39\" cy=\"405.44\" r=\"14\"/>\n<circle clip-path=\"url(#clip3602)\" style=\"fill:#000000; stroke:none; fill-opacity:1\" cx=\"373.225\" cy=\"665.003\" r=\"18\"/>\n<circle clip-path=\"url(#clip3602)\" style=\"fill:#0000ff; stroke:none; fill-opacity:1\" cx=\"373.225\" cy=\"665.003\" r=\"14\"/>\n<circle clip-path=\"url(#clip3602)\" style=\"fill:#000000; stroke:none; fill-opacity:1\" cx=\"1134.49\" cy=\"404.022\" r=\"18\"/>\n<circle clip-path=\"url(#clip3602)\" style=\"fill:#0000ff; stroke:none; fill-opacity:1\" cx=\"1134.49\" cy=\"404.022\" r=\"14\"/>\n<circle clip-path=\"url(#clip3602)\" style=\"fill:#000000; stroke:none; fill-opacity:1\" cx=\"683.145\" cy=\"258.276\" r=\"18\"/>\n<circle clip-path=\"url(#clip3602)\" style=\"fill:#0000ff; stroke:none; fill-opacity:1\" cx=\"683.145\" cy=\"258.276\" r=\"14\"/>\n<circle clip-path=\"url(#clip3602)\" style=\"fill:#000000; stroke:none; fill-opacity:1\" cx=\"783.777\" cy=\"134.423\" r=\"18\"/>\n<circle clip-path=\"url(#clip3602)\" style=\"fill:#0000ff; stroke:none; fill-opacity:1\" cx=\"783.777\" cy=\"134.423\" r=\"14\"/>\n<circle clip-path=\"url(#clip3602)\" style=\"fill:#000000; stroke:none; fill-opacity:1\" cx=\"1283.88\" cy=\"345.963\" r=\"18\"/>\n<circle clip-path=\"url(#clip3602)\" style=\"fill:#0000ff; stroke:none; fill-opacity:1\" cx=\"1283.88\" cy=\"345.963\" r=\"14\"/>\n<circle clip-path=\"url(#clip3602)\" style=\"fill:#000000; stroke:none; fill-opacity:1\" cx=\"1217.21\" cy=\"264.63\" r=\"18\"/>\n<circle clip-path=\"url(#clip3602)\" style=\"fill:#0000ff; stroke:none; fill-opacity:1\" cx=\"1217.21\" cy=\"264.63\" r=\"14\"/>\n<circle clip-path=\"url(#clip3602)\" style=\"fill:#000000; stroke:none; fill-opacity:1\" cx=\"1241.44\" cy=\"657.001\" r=\"18\"/>\n<circle clip-path=\"url(#clip3602)\" style=\"fill:#0000ff; stroke:none; fill-opacity:1\" cx=\"1241.44\" cy=\"657.001\" r=\"14\"/>\n<circle clip-path=\"url(#clip3602)\" style=\"fill:#000000; stroke:none; fill-opacity:1\" cx=\"661.812\" cy=\"137.374\" r=\"18\"/>\n<circle clip-path=\"url(#clip3602)\" style=\"fill:#0000ff; stroke:none; fill-opacity:1\" cx=\"661.812\" cy=\"137.374\" r=\"14\"/>\n<circle clip-path=\"url(#clip3602)\" style=\"fill:#000000; stroke:none; fill-opacity:1\" cx=\"1478.26\" cy=\"260.688\" r=\"18\"/>\n<circle clip-path=\"url(#clip3602)\" style=\"fill:#0000ff; stroke:none; fill-opacity:1\" cx=\"1478.26\" cy=\"260.688\" r=\"14\"/>\n<circle clip-path=\"url(#clip3602)\" style=\"fill:#000000; stroke:none; fill-opacity:1\" cx=\"333.225\" cy=\"884.606\" r=\"18\"/>\n<circle clip-path=\"url(#clip3602)\" style=\"fill:#0000ff; stroke:none; fill-opacity:1\" cx=\"333.225\" cy=\"884.606\" r=\"14\"/>\n<circle clip-path=\"url(#clip3602)\" style=\"fill:#000000; stroke:none; fill-opacity:1\" cx=\"768.19\" cy=\"516.175\" r=\"18\"/>\n<circle clip-path=\"url(#clip3602)\" style=\"fill:#0000ff; stroke:none; fill-opacity:1\" cx=\"768.19\" cy=\"516.175\" r=\"14\"/>\n<circle clip-path=\"url(#clip3602)\" style=\"fill:#000000; stroke:none; fill-opacity:1\" cx=\"1189.62\" cy=\"771.267\" r=\"18\"/>\n<circle clip-path=\"url(#clip3602)\" style=\"fill:#0000ff; stroke:none; fill-opacity:1\" cx=\"1189.62\" cy=\"771.267\" r=\"14\"/>\n<circle clip-path=\"url(#clip3602)\" style=\"fill:#000000; stroke:none; fill-opacity:1\" cx=\"301.242\" cy=\"90.9593\" r=\"18\"/>\n<circle clip-path=\"url(#clip3602)\" style=\"fill:#0000ff; stroke:none; fill-opacity:1\" cx=\"301.242\" cy=\"90.9593\" r=\"14\"/>\n<circle clip-path=\"url(#clip3602)\" style=\"fill:#000000; stroke:none; fill-opacity:1\" cx=\"1205.63\" cy=\"660.914\" r=\"18\"/>\n<circle clip-path=\"url(#clip3602)\" style=\"fill:#0000ff; stroke:none; fill-opacity:1\" cx=\"1205.63\" cy=\"660.914\" r=\"14\"/>\n<circle clip-path=\"url(#clip3602)\" style=\"fill:#000000; stroke:none; fill-opacity:1\" cx=\"1369.65\" cy=\"364.696\" r=\"18\"/>\n<circle clip-path=\"url(#clip3602)\" style=\"fill:#0000ff; stroke:none; fill-opacity:1\" cx=\"1369.65\" cy=\"364.696\" r=\"14\"/>\n<circle clip-path=\"url(#clip3602)\" style=\"fill:#000000; stroke:none; fill-opacity:1\" cx=\"1474.31\" cy=\"326.334\" r=\"18\"/>\n<circle clip-path=\"url(#clip3602)\" style=\"fill:#0000ff; stroke:none; fill-opacity:1\" cx=\"1474.31\" cy=\"326.334\" r=\"14\"/>\n<circle clip-path=\"url(#clip3602)\" style=\"fill:#000000; stroke:none; fill-opacity:1\" cx=\"422.259\" cy=\"489.308\" r=\"18\"/>\n<circle clip-path=\"url(#clip3602)\" style=\"fill:#0000ff; stroke:none; fill-opacity:1\" cx=\"422.259\" cy=\"489.308\" r=\"14\"/>\n<circle clip-path=\"url(#clip3602)\" style=\"fill:#000000; stroke:none; fill-opacity:1\" cx=\"338.107\" cy=\"134.987\" r=\"18\"/>\n<circle clip-path=\"url(#clip3602)\" style=\"fill:#0000ff; stroke:none; fill-opacity:1\" cx=\"338.107\" cy=\"134.987\" r=\"14\"/>\n<circle clip-path=\"url(#clip3602)\" style=\"fill:#000000; stroke:none; fill-opacity:1\" cx=\"1003.83\" cy=\"300.1\" r=\"18\"/>\n<circle clip-path=\"url(#clip3602)\" style=\"fill:#0000ff; stroke:none; fill-opacity:1\" cx=\"1003.83\" cy=\"300.1\" r=\"14\"/>\n<circle clip-path=\"url(#clip3602)\" style=\"fill:#000000; stroke:none; fill-opacity:1\" cx=\"498.703\" cy=\"644.297\" r=\"18\"/>\n<circle clip-path=\"url(#clip3602)\" style=\"fill:#0000ff; stroke:none; fill-opacity:1\" cx=\"498.703\" cy=\"644.297\" r=\"14\"/>\n<circle clip-path=\"url(#clip3602)\" style=\"fill:#000000; stroke:none; fill-opacity:1\" cx=\"954.504\" cy=\"734.476\" r=\"18\"/>\n<circle clip-path=\"url(#clip3602)\" style=\"fill:#0000ff; stroke:none; fill-opacity:1\" cx=\"954.504\" cy=\"734.476\" r=\"14\"/>\n<circle clip-path=\"url(#clip3602)\" style=\"fill:#000000; stroke:none; fill-opacity:1\" cx=\"227.574\" cy=\"1043.49\" r=\"18\"/>\n<circle clip-path=\"url(#clip3602)\" style=\"fill:#0000ff; stroke:none; fill-opacity:1\" cx=\"227.574\" cy=\"1043.49\" r=\"14\"/>\n<circle clip-path=\"url(#clip3602)\" style=\"fill:#000000; stroke:none; fill-opacity:1\" cx=\"321.072\" cy=\"497.777\" r=\"18\"/>\n<circle clip-path=\"url(#clip3602)\" style=\"fill:#0000ff; stroke:none; fill-opacity:1\" cx=\"321.072\" cy=\"497.777\" r=\"14\"/>\n<circle clip-path=\"url(#clip3602)\" style=\"fill:#000000; stroke:none; fill-opacity:1\" cx=\"420.356\" cy=\"676.474\" r=\"18\"/>\n<circle clip-path=\"url(#clip3602)\" style=\"fill:#0000ff; stroke:none; fill-opacity:1\" cx=\"420.356\" cy=\"676.474\" r=\"14\"/>\n<circle clip-path=\"url(#clip3602)\" style=\"fill:#000000; stroke:none; fill-opacity:1\" cx=\"682.422\" cy=\"278.004\" r=\"18\"/>\n<circle clip-path=\"url(#clip3602)\" style=\"fill:#0000ff; stroke:none; fill-opacity:1\" cx=\"682.422\" cy=\"278.004\" r=\"14\"/>\n<circle clip-path=\"url(#clip3602)\" style=\"fill:#000000; stroke:none; fill-opacity:1\" cx=\"1117.64\" cy=\"164.532\" r=\"18\"/>\n<circle clip-path=\"url(#clip3602)\" style=\"fill:#0000ff; stroke:none; fill-opacity:1\" cx=\"1117.64\" cy=\"164.532\" r=\"14\"/>\n<circle clip-path=\"url(#clip3602)\" style=\"fill:#000000; stroke:none; fill-opacity:1\" cx=\"291.105\" cy=\"581.009\" r=\"18\"/>\n<circle clip-path=\"url(#clip3602)\" style=\"fill:#0000ff; stroke:none; fill-opacity:1\" cx=\"291.105\" cy=\"581.009\" r=\"14\"/>\n<circle clip-path=\"url(#clip3602)\" style=\"fill:#000000; stroke:none; fill-opacity:1\" cx=\"1074.2\" cy=\"666.757\" r=\"18\"/>\n<circle clip-path=\"url(#clip3602)\" style=\"fill:#0000ff; stroke:none; fill-opacity:1\" cx=\"1074.2\" cy=\"666.757\" r=\"14\"/>\n<circle clip-path=\"url(#clip3602)\" style=\"fill:#000000; stroke:none; fill-opacity:1\" cx=\"234.561\" cy=\"539.489\" r=\"18\"/>\n<circle clip-path=\"url(#clip3602)\" style=\"fill:#0000ff; stroke:none; fill-opacity:1\" cx=\"234.561\" cy=\"539.489\" r=\"14\"/>\n<circle clip-path=\"url(#clip3602)\" style=\"fill:#000000; stroke:none; fill-opacity:1\" cx=\"1156.76\" cy=\"455.293\" r=\"18\"/>\n<circle clip-path=\"url(#clip3602)\" style=\"fill:#0000ff; stroke:none; fill-opacity:1\" cx=\"1156.76\" cy=\"455.293\" r=\"14\"/>\n<circle clip-path=\"url(#clip3602)\" style=\"fill:#000000; stroke:none; fill-opacity:1\" cx=\"473.367\" cy=\"676.564\" r=\"18\"/>\n<circle clip-path=\"url(#clip3602)\" style=\"fill:#0000ff; stroke:none; fill-opacity:1\" cx=\"473.367\" cy=\"676.564\" r=\"14\"/>\n<circle clip-path=\"url(#clip3602)\" style=\"fill:#000000; stroke:none; fill-opacity:1\" cx=\"1001.49\" cy=\"357.148\" r=\"18\"/>\n<circle clip-path=\"url(#clip3602)\" style=\"fill:#0000ff; stroke:none; fill-opacity:1\" cx=\"1001.49\" cy=\"357.148\" r=\"14\"/>\n<circle clip-path=\"url(#clip3602)\" style=\"fill:#000000; stroke:none; fill-opacity:1\" cx=\"230.068\" cy=\"1121.24\" r=\"18\"/>\n<circle clip-path=\"url(#clip3602)\" style=\"fill:#0000ff; stroke:none; fill-opacity:1\" cx=\"230.068\" cy=\"1121.24\" r=\"14\"/>\n<circle clip-path=\"url(#clip3602)\" style=\"fill:#000000; stroke:none; fill-opacity:1\" cx=\"214.237\" cy=\"194.765\" r=\"18\"/>\n<circle clip-path=\"url(#clip3602)\" style=\"fill:#0000ff; stroke:none; fill-opacity:1\" cx=\"214.237\" cy=\"194.765\" r=\"14\"/>\n<circle clip-path=\"url(#clip3602)\" style=\"fill:#000000; stroke:none; fill-opacity:1\" cx=\"930.903\" cy=\"681.473\" r=\"18\"/>\n<circle clip-path=\"url(#clip3602)\" style=\"fill:#0000ff; stroke:none; fill-opacity:1\" cx=\"930.903\" cy=\"681.473\" r=\"14\"/>\n<circle clip-path=\"url(#clip3602)\" style=\"fill:#000000; stroke:none; fill-opacity:1\" cx=\"1015.68\" cy=\"117.946\" r=\"18\"/>\n<circle clip-path=\"url(#clip3602)\" style=\"fill:#0000ff; stroke:none; fill-opacity:1\" cx=\"1015.68\" cy=\"117.946\" r=\"14\"/>\n<circle clip-path=\"url(#clip3602)\" style=\"fill:#000000; stroke:none; fill-opacity:1\" cx=\"1388.82\" cy=\"574.106\" r=\"18\"/>\n<circle clip-path=\"url(#clip3602)\" style=\"fill:#0000ff; stroke:none; fill-opacity:1\" cx=\"1388.82\" cy=\"574.106\" r=\"14\"/>\n<circle clip-path=\"url(#clip3602)\" style=\"fill:#000000; stroke:none; fill-opacity:1\" cx=\"1390.49\" cy=\"468.901\" r=\"18\"/>\n<circle clip-path=\"url(#clip3602)\" style=\"fill:#0000ff; stroke:none; fill-opacity:1\" cx=\"1390.49\" cy=\"468.901\" r=\"14\"/>\n<circle clip-path=\"url(#clip3602)\" style=\"fill:#000000; stroke:none; fill-opacity:1\" cx=\"256.032\" cy=\"557.945\" r=\"18\"/>\n<circle clip-path=\"url(#clip3602)\" style=\"fill:#0000ff; stroke:none; fill-opacity:1\" cx=\"256.032\" cy=\"557.945\" r=\"14\"/>\n<circle clip-path=\"url(#clip3602)\" style=\"fill:#000000; stroke:none; fill-opacity:1\" cx=\"1283.58\" cy=\"342.274\" r=\"18\"/>\n<circle clip-path=\"url(#clip3602)\" style=\"fill:#0000ff; stroke:none; fill-opacity:1\" cx=\"1283.58\" cy=\"342.274\" r=\"14\"/>\n<circle clip-path=\"url(#clip3602)\" style=\"fill:#000000; stroke:none; fill-opacity:1\" cx=\"609.646\" cy=\"421.325\" r=\"18\"/>\n<circle clip-path=\"url(#clip3602)\" style=\"fill:#0000ff; stroke:none; fill-opacity:1\" cx=\"609.646\" cy=\"421.325\" r=\"14\"/>\n<circle clip-path=\"url(#clip3602)\" style=\"fill:#000000; stroke:none; fill-opacity:1\" cx=\"311.089\" cy=\"421.001\" r=\"18\"/>\n<circle clip-path=\"url(#clip3602)\" style=\"fill:#0000ff; stroke:none; fill-opacity:1\" cx=\"311.089\" cy=\"421.001\" r=\"14\"/>\n<circle clip-path=\"url(#clip3602)\" style=\"fill:#000000; stroke:none; fill-opacity:1\" cx=\"538.491\" cy=\"402.391\" r=\"18\"/>\n<circle clip-path=\"url(#clip3602)\" style=\"fill:#0000ff; stroke:none; fill-opacity:1\" cx=\"538.491\" cy=\"402.391\" r=\"14\"/>\n<circle clip-path=\"url(#clip3602)\" style=\"fill:#000000; stroke:none; fill-opacity:1\" cx=\"1352.91\" cy=\"387.378\" r=\"18\"/>\n<circle clip-path=\"url(#clip3602)\" style=\"fill:#0000ff; stroke:none; fill-opacity:1\" cx=\"1352.91\" cy=\"387.378\" r=\"14\"/>\n<circle clip-path=\"url(#clip3602)\" style=\"fill:#000000; stroke:none; fill-opacity:1\" cx=\"275.973\" cy=\"228.533\" r=\"18\"/>\n<circle clip-path=\"url(#clip3602)\" style=\"fill:#0000ff; stroke:none; fill-opacity:1\" cx=\"275.973\" cy=\"228.533\" r=\"14\"/>\n<circle clip-path=\"url(#clip3602)\" style=\"fill:#000000; stroke:none; fill-opacity:1\" cx=\"1141.45\" cy=\"388.539\" r=\"18\"/>\n<circle clip-path=\"url(#clip3602)\" style=\"fill:#0000ff; stroke:none; fill-opacity:1\" cx=\"1141.45\" cy=\"388.539\" r=\"14\"/>\n<circle clip-path=\"url(#clip3602)\" style=\"fill:#000000; stroke:none; fill-opacity:1\" cx=\"1212.56\" cy=\"558.071\" r=\"18\"/>\n<circle clip-path=\"url(#clip3602)\" style=\"fill:#0000ff; stroke:none; fill-opacity:1\" cx=\"1212.56\" cy=\"558.071\" r=\"14\"/>\n<circle clip-path=\"url(#clip3602)\" style=\"fill:#000000; stroke:none; fill-opacity:1\" cx=\"414.302\" cy=\"687.344\" r=\"18\"/>\n<circle clip-path=\"url(#clip3602)\" style=\"fill:#0000ff; stroke:none; fill-opacity:1\" cx=\"414.302\" cy=\"687.344\" r=\"14\"/>\n<circle clip-path=\"url(#clip3602)\" style=\"fill:#000000; stroke:none; fill-opacity:1\" cx=\"922.152\" cy=\"709.931\" r=\"18\"/>\n<circle clip-path=\"url(#clip3602)\" style=\"fill:#0000ff; stroke:none; fill-opacity:1\" cx=\"922.152\" cy=\"709.931\" r=\"14\"/>\n<circle clip-path=\"url(#clip3602)\" style=\"fill:#000000; stroke:none; fill-opacity:1\" cx=\"1050.91\" cy=\"467.731\" r=\"18\"/>\n<circle clip-path=\"url(#clip3602)\" style=\"fill:#0000ff; stroke:none; fill-opacity:1\" cx=\"1050.91\" cy=\"467.731\" r=\"14\"/>\n<circle clip-path=\"url(#clip3602)\" style=\"fill:#000000; stroke:none; fill-opacity:1\" cx=\"479.761\" cy=\"242.343\" r=\"18\"/>\n<circle clip-path=\"url(#clip3602)\" style=\"fill:#0000ff; stroke:none; fill-opacity:1\" cx=\"479.761\" cy=\"242.343\" r=\"14\"/>\n<circle clip-path=\"url(#clip3602)\" style=\"fill:#000000; stroke:none; fill-opacity:1\" cx=\"1293.87\" cy=\"483.172\" r=\"18\"/>\n<circle clip-path=\"url(#clip3602)\" style=\"fill:#0000ff; stroke:none; fill-opacity:1\" cx=\"1293.87\" cy=\"483.172\" r=\"14\"/>\n<circle clip-path=\"url(#clip3602)\" style=\"fill:#000000; stroke:none; fill-opacity:1\" cx=\"682.62\" cy=\"641.638\" r=\"18\"/>\n<circle clip-path=\"url(#clip3602)\" style=\"fill:#0000ff; stroke:none; fill-opacity:1\" cx=\"682.62\" cy=\"641.638\" r=\"14\"/>\n<circle clip-path=\"url(#clip3602)\" style=\"fill:#000000; stroke:none; fill-opacity:1\" cx=\"313.804\" cy=\"538.165\" r=\"18\"/>\n<circle clip-path=\"url(#clip3602)\" style=\"fill:#0000ff; stroke:none; fill-opacity:1\" cx=\"313.804\" cy=\"538.165\" r=\"14\"/>\n<circle clip-path=\"url(#clip3602)\" style=\"fill:#000000; stroke:none; fill-opacity:1\" cx=\"929.115\" cy=\"510.597\" r=\"18\"/>\n<circle clip-path=\"url(#clip3602)\" style=\"fill:#0000ff; stroke:none; fill-opacity:1\" cx=\"929.115\" cy=\"510.597\" r=\"14\"/>\n<circle clip-path=\"url(#clip3602)\" style=\"fill:#000000; stroke:none; fill-opacity:1\" cx=\"1136.03\" cy=\"616.592\" r=\"18\"/>\n<circle clip-path=\"url(#clip3602)\" style=\"fill:#0000ff; stroke:none; fill-opacity:1\" cx=\"1136.03\" cy=\"616.592\" r=\"14\"/>\n<circle clip-path=\"url(#clip3602)\" style=\"fill:#000000; stroke:none; fill-opacity:1\" cx=\"1270.86\" cy=\"303.899\" r=\"18\"/>\n<circle clip-path=\"url(#clip3602)\" style=\"fill:#0000ff; stroke:none; fill-opacity:1\" cx=\"1270.86\" cy=\"303.899\" r=\"14\"/>\n<circle clip-path=\"url(#clip3602)\" style=\"fill:#000000; stroke:none; fill-opacity:1\" cx=\"472.12\" cy=\"506.772\" r=\"18\"/>\n<circle clip-path=\"url(#clip3602)\" style=\"fill:#0000ff; stroke:none; fill-opacity:1\" cx=\"472.12\" cy=\"506.772\" r=\"14\"/>\n<circle clip-path=\"url(#clip3602)\" style=\"fill:#000000; stroke:none; fill-opacity:1\" cx=\"411.674\" cy=\"648.309\" r=\"18\"/>\n<circle clip-path=\"url(#clip3602)\" style=\"fill:#0000ff; stroke:none; fill-opacity:1\" cx=\"411.674\" cy=\"648.309\" r=\"14\"/>\n<circle clip-path=\"url(#clip3602)\" style=\"fill:#000000; stroke:none; fill-opacity:1\" cx=\"373.451\" cy=\"193.304\" r=\"18\"/>\n<circle clip-path=\"url(#clip3602)\" style=\"fill:#0000ff; stroke:none; fill-opacity:1\" cx=\"373.451\" cy=\"193.304\" r=\"14\"/>\n<circle clip-path=\"url(#clip3602)\" style=\"fill:#000000; stroke:none; fill-opacity:1\" cx=\"437.96\" cy=\"198.166\" r=\"18\"/>\n<circle clip-path=\"url(#clip3602)\" style=\"fill:#0000ff; stroke:none; fill-opacity:1\" cx=\"437.96\" cy=\"198.166\" r=\"14\"/>\n<circle clip-path=\"url(#clip3602)\" style=\"fill:#000000; stroke:none; fill-opacity:1\" cx=\"1213.45\" cy=\"363.859\" r=\"18\"/>\n<circle clip-path=\"url(#clip3602)\" style=\"fill:#0000ff; stroke:none; fill-opacity:1\" cx=\"1213.45\" cy=\"363.859\" r=\"14\"/>\n<circle clip-path=\"url(#clip3602)\" style=\"fill:#000000; stroke:none; fill-opacity:1\" cx=\"251.592\" cy=\"1080.16\" r=\"18\"/>\n<circle clip-path=\"url(#clip3602)\" style=\"fill:#0000ff; stroke:none; fill-opacity:1\" cx=\"251.592\" cy=\"1080.16\" r=\"14\"/>\n<circle clip-path=\"url(#clip3602)\" style=\"fill:#000000; stroke:none; fill-opacity:1\" cx=\"1402.76\" cy=\"168.519\" r=\"18\"/>\n<circle clip-path=\"url(#clip3602)\" style=\"fill:#0000ff; stroke:none; fill-opacity:1\" cx=\"1402.76\" cy=\"168.519\" r=\"14\"/>\n<circle clip-path=\"url(#clip3602)\" style=\"fill:#000000; stroke:none; fill-opacity:1\" cx=\"720.242\" cy=\"195.157\" r=\"18\"/>\n<circle clip-path=\"url(#clip3602)\" style=\"fill:#0000ff; stroke:none; fill-opacity:1\" cx=\"720.242\" cy=\"195.157\" r=\"14\"/>\n<circle clip-path=\"url(#clip3602)\" style=\"fill:#000000; stroke:none; fill-opacity:1\" cx=\"419.874\" cy=\"288.247\" r=\"18\"/>\n<circle clip-path=\"url(#clip3602)\" style=\"fill:#0000ff; stroke:none; fill-opacity:1\" cx=\"419.874\" cy=\"288.247\" r=\"14\"/>\n<circle clip-path=\"url(#clip3602)\" style=\"fill:#000000; stroke:none; fill-opacity:1\" cx=\"386.116\" cy=\"587.432\" r=\"18\"/>\n<circle clip-path=\"url(#clip3602)\" style=\"fill:#0000ff; stroke:none; fill-opacity:1\" cx=\"386.116\" cy=\"587.432\" r=\"14\"/>\n<circle clip-path=\"url(#clip3602)\" style=\"fill:#000000; stroke:none; fill-opacity:1\" cx=\"293.164\" cy=\"514.432\" r=\"18\"/>\n<circle clip-path=\"url(#clip3602)\" style=\"fill:#0000ff; stroke:none; fill-opacity:1\" cx=\"293.164\" cy=\"514.432\" r=\"14\"/>\n<circle clip-path=\"url(#clip3602)\" style=\"fill:#000000; stroke:none; fill-opacity:1\" cx=\"995.672\" cy=\"501.222\" r=\"18\"/>\n<circle clip-path=\"url(#clip3602)\" style=\"fill:#0000ff; stroke:none; fill-opacity:1\" cx=\"995.672\" cy=\"501.222\" r=\"14\"/>\n<circle clip-path=\"url(#clip3602)\" style=\"fill:#000000; stroke:none; fill-opacity:1\" cx=\"269.942\" cy=\"1012.68\" r=\"18\"/>\n<circle clip-path=\"url(#clip3602)\" style=\"fill:#0000ff; stroke:none; fill-opacity:1\" cx=\"269.942\" cy=\"1012.68\" r=\"14\"/>\n<circle clip-path=\"url(#clip3602)\" style=\"fill:#000000; stroke:none; fill-opacity:1\" cx=\"1559.23\" cy=\"115.397\" r=\"18\"/>\n<circle clip-path=\"url(#clip3602)\" style=\"fill:#0000ff; stroke:none; fill-opacity:1\" cx=\"1559.23\" cy=\"115.397\" r=\"14\"/>\n<circle clip-path=\"url(#clip3602)\" style=\"fill:#000000; stroke:none; fill-opacity:1\" cx=\"1218.46\" cy=\"545.152\" r=\"18\"/>\n<circle clip-path=\"url(#clip3602)\" style=\"fill:#0000ff; stroke:none; fill-opacity:1\" cx=\"1218.46\" cy=\"545.152\" r=\"14\"/>\n<circle clip-path=\"url(#clip3602)\" style=\"fill:#000000; stroke:none; fill-opacity:1\" cx=\"318.446\" cy=\"370.919\" r=\"18\"/>\n<circle clip-path=\"url(#clip3602)\" style=\"fill:#0000ff; stroke:none; fill-opacity:1\" cx=\"318.446\" cy=\"370.919\" r=\"14\"/>\n<circle clip-path=\"url(#clip3602)\" style=\"fill:#000000; stroke:none; fill-opacity:1\" cx=\"571.749\" cy=\"473.563\" r=\"18\"/>\n<circle clip-path=\"url(#clip3602)\" style=\"fill:#0000ff; stroke:none; fill-opacity:1\" cx=\"571.749\" cy=\"473.563\" r=\"14\"/>\n<circle clip-path=\"url(#clip3602)\" style=\"fill:#000000; stroke:none; fill-opacity:1\" cx=\"602.277\" cy=\"104.195\" r=\"18\"/>\n<circle clip-path=\"url(#clip3602)\" style=\"fill:#0000ff; stroke:none; fill-opacity:1\" cx=\"602.277\" cy=\"104.195\" r=\"14\"/>\n<circle clip-path=\"url(#clip3602)\" style=\"fill:#000000; stroke:none; fill-opacity:1\" cx=\"1022.23\" cy=\"458.004\" r=\"18\"/>\n<circle clip-path=\"url(#clip3602)\" style=\"fill:#0000ff; stroke:none; fill-opacity:1\" cx=\"1022.23\" cy=\"458.004\" r=\"14\"/>\n<circle clip-path=\"url(#clip3602)\" style=\"fill:#000000; stroke:none; fill-opacity:1\" cx=\"321.576\" cy=\"706.101\" r=\"18\"/>\n<circle clip-path=\"url(#clip3602)\" style=\"fill:#0000ff; stroke:none; fill-opacity:1\" cx=\"321.576\" cy=\"706.101\" r=\"14\"/>\n<circle clip-path=\"url(#clip3602)\" style=\"fill:#000000; stroke:none; fill-opacity:1\" cx=\"1073.93\" cy=\"792.233\" r=\"18\"/>\n<circle clip-path=\"url(#clip3602)\" style=\"fill:#0000ff; stroke:none; fill-opacity:1\" cx=\"1073.93\" cy=\"792.233\" r=\"14\"/>\n<circle clip-path=\"url(#clip3602)\" style=\"fill:#000000; stroke:none; fill-opacity:1\" cx=\"556.51\" cy=\"646.561\" r=\"18\"/>\n<circle clip-path=\"url(#clip3602)\" style=\"fill:#0000ff; stroke:none; fill-opacity:1\" cx=\"556.51\" cy=\"646.561\" r=\"14\"/>\n<circle clip-path=\"url(#clip3602)\" style=\"fill:#000000; stroke:none; fill-opacity:1\" cx=\"346.459\" cy=\"699.277\" r=\"18\"/>\n<circle clip-path=\"url(#clip3602)\" style=\"fill:#0000ff; stroke:none; fill-opacity:1\" cx=\"346.459\" cy=\"699.277\" r=\"14\"/>\n<circle clip-path=\"url(#clip3602)\" style=\"fill:#000000; stroke:none; fill-opacity:1\" cx=\"430.417\" cy=\"808.76\" r=\"18\"/>\n<circle clip-path=\"url(#clip3602)\" style=\"fill:#0000ff; stroke:none; fill-opacity:1\" cx=\"430.417\" cy=\"808.76\" r=\"14\"/>\n<circle clip-path=\"url(#clip3602)\" style=\"fill:#000000; stroke:none; fill-opacity:1\" cx=\"317.863\" cy=\"387.125\" r=\"18\"/>\n<circle clip-path=\"url(#clip3602)\" style=\"fill:#0000ff; stroke:none; fill-opacity:1\" cx=\"317.863\" cy=\"387.125\" r=\"14\"/>\n<circle clip-path=\"url(#clip3602)\" style=\"fill:#000000; stroke:none; fill-opacity:1\" cx=\"918.207\" cy=\"113.948\" r=\"18\"/>\n<circle clip-path=\"url(#clip3602)\" style=\"fill:#0000ff; stroke:none; fill-opacity:1\" cx=\"918.207\" cy=\"113.948\" r=\"14\"/>\n<circle clip-path=\"url(#clip3602)\" style=\"fill:#000000; stroke:none; fill-opacity:1\" cx=\"752.122\" cy=\"445.048\" r=\"18\"/>\n<circle clip-path=\"url(#clip3602)\" style=\"fill:#0000ff; stroke:none; fill-opacity:1\" cx=\"752.122\" cy=\"445.048\" r=\"14\"/>\n<circle clip-path=\"url(#clip3602)\" style=\"fill:#000000; stroke:none; fill-opacity:1\" cx=\"1463.24\" cy=\"413.13\" r=\"18\"/>\n<circle clip-path=\"url(#clip3602)\" style=\"fill:#0000ff; stroke:none; fill-opacity:1\" cx=\"1463.24\" cy=\"413.13\" r=\"14\"/>\n<circle clip-path=\"url(#clip3602)\" style=\"fill:#000000; stroke:none; fill-opacity:1\" cx=\"217.388\" cy=\"288.829\" r=\"18\"/>\n<circle clip-path=\"url(#clip3602)\" style=\"fill:#0000ff; stroke:none; fill-opacity:1\" cx=\"217.388\" cy=\"288.829\" r=\"14\"/>\n<circle clip-path=\"url(#clip3602)\" style=\"fill:#000000; stroke:none; fill-opacity:1\" cx=\"617.968\" cy=\"206.376\" r=\"18\"/>\n<circle clip-path=\"url(#clip3602)\" style=\"fill:#0000ff; stroke:none; fill-opacity:1\" cx=\"617.968\" cy=\"206.376\" r=\"14\"/>\n<circle clip-path=\"url(#clip3602)\" style=\"fill:#000000; stroke:none; fill-opacity:1\" cx=\"1192.78\" cy=\"703.846\" r=\"18\"/>\n<circle clip-path=\"url(#clip3602)\" style=\"fill:#0000ff; stroke:none; fill-opacity:1\" cx=\"1192.78\" cy=\"703.846\" r=\"14\"/>\n<circle clip-path=\"url(#clip3602)\" style=\"fill:#000000; stroke:none; fill-opacity:1\" cx=\"575.399\" cy=\"244.224\" r=\"18\"/>\n<circle clip-path=\"url(#clip3602)\" style=\"fill:#0000ff; stroke:none; fill-opacity:1\" cx=\"575.399\" cy=\"244.224\" r=\"14\"/>\n<circle clip-path=\"url(#clip3602)\" style=\"fill:#000000; stroke:none; fill-opacity:1\" cx=\"411.101\" cy=\"546.022\" r=\"18\"/>\n<circle clip-path=\"url(#clip3602)\" style=\"fill:#0000ff; stroke:none; fill-opacity:1\" cx=\"411.101\" cy=\"546.022\" r=\"14\"/>\n<circle clip-path=\"url(#clip3602)\" style=\"fill:#000000; stroke:none; fill-opacity:1\" cx=\"319.78\" cy=\"188.138\" r=\"18\"/>\n<circle clip-path=\"url(#clip3602)\" style=\"fill:#0000ff; stroke:none; fill-opacity:1\" cx=\"319.78\" cy=\"188.138\" r=\"14\"/>\n<circle clip-path=\"url(#clip3602)\" style=\"fill:#000000; stroke:none; fill-opacity:1\" cx=\"829.695\" cy=\"237.889\" r=\"18\"/>\n<circle clip-path=\"url(#clip3602)\" style=\"fill:#0000ff; stroke:none; fill-opacity:1\" cx=\"829.695\" cy=\"237.889\" r=\"14\"/>\n<circle clip-path=\"url(#clip3602)\" style=\"fill:#000000; stroke:none; fill-opacity:1\" cx=\"490.361\" cy=\"117.273\" r=\"18\"/>\n<circle clip-path=\"url(#clip3602)\" style=\"fill:#0000ff; stroke:none; fill-opacity:1\" cx=\"490.361\" cy=\"117.273\" r=\"14\"/>\n<circle clip-path=\"url(#clip3602)\" style=\"fill:#000000; stroke:none; fill-opacity:1\" cx=\"526.829\" cy=\"736.766\" r=\"18\"/>\n<circle clip-path=\"url(#clip3602)\" style=\"fill:#0000ff; stroke:none; fill-opacity:1\" cx=\"526.829\" cy=\"736.766\" r=\"14\"/>\n<circle clip-path=\"url(#clip3602)\" style=\"fill:#000000; stroke:none; fill-opacity:1\" cx=\"555.42\" cy=\"101.216\" r=\"18\"/>\n<circle clip-path=\"url(#clip3602)\" style=\"fill:#0000ff; stroke:none; fill-opacity:1\" cx=\"555.42\" cy=\"101.216\" r=\"14\"/>\n<circle clip-path=\"url(#clip3602)\" style=\"fill:#000000; stroke:none; fill-opacity:1\" cx=\"1399.4\" cy=\"159.674\" r=\"18\"/>\n<circle clip-path=\"url(#clip3602)\" style=\"fill:#0000ff; stroke:none; fill-opacity:1\" cx=\"1399.4\" cy=\"159.674\" r=\"14\"/>\n<circle clip-path=\"url(#clip3602)\" style=\"fill:#000000; stroke:none; fill-opacity:1\" cx=\"1151.57\" cy=\"717.066\" r=\"18\"/>\n<circle clip-path=\"url(#clip3602)\" style=\"fill:#0000ff; stroke:none; fill-opacity:1\" cx=\"1151.57\" cy=\"717.066\" r=\"14\"/>\n<circle clip-path=\"url(#clip3602)\" style=\"fill:#000000; stroke:none; fill-opacity:1\" cx=\"358.92\" cy=\"299.905\" r=\"18\"/>\n<circle clip-path=\"url(#clip3602)\" style=\"fill:#0000ff; stroke:none; fill-opacity:1\" cx=\"358.92\" cy=\"299.905\" r=\"14\"/>\n<circle clip-path=\"url(#clip3602)\" style=\"fill:#000000; stroke:none; fill-opacity:1\" cx=\"993.021\" cy=\"608.11\" r=\"18\"/>\n<circle clip-path=\"url(#clip3602)\" style=\"fill:#0000ff; stroke:none; fill-opacity:1\" cx=\"993.021\" cy=\"608.11\" r=\"14\"/>\n<circle clip-path=\"url(#clip3602)\" style=\"fill:#000000; stroke:none; fill-opacity:1\" cx=\"713.075\" cy=\"577.488\" r=\"18\"/>\n<circle clip-path=\"url(#clip3602)\" style=\"fill:#0000ff; stroke:none; fill-opacity:1\" cx=\"713.075\" cy=\"577.488\" r=\"14\"/>\n<circle clip-path=\"url(#clip3602)\" style=\"fill:#000000; stroke:none; fill-opacity:1\" cx=\"1225.91\" cy=\"564.936\" r=\"18\"/>\n<circle clip-path=\"url(#clip3602)\" style=\"fill:#0000ff; stroke:none; fill-opacity:1\" cx=\"1225.91\" cy=\"564.936\" r=\"14\"/>\n<circle clip-path=\"url(#clip3602)\" style=\"fill:#000000; stroke:none; fill-opacity:1\" cx=\"302.38\" cy=\"717.721\" r=\"18\"/>\n<circle clip-path=\"url(#clip3602)\" style=\"fill:#0000ff; stroke:none; fill-opacity:1\" cx=\"302.38\" cy=\"717.721\" r=\"14\"/>\n<circle clip-path=\"url(#clip3602)\" style=\"fill:#000000; stroke:none; fill-opacity:1\" cx=\"984.025\" cy=\"585.9\" r=\"18\"/>\n<circle clip-path=\"url(#clip3602)\" style=\"fill:#0000ff; stroke:none; fill-opacity:1\" cx=\"984.025\" cy=\"585.9\" r=\"14\"/>\n<circle clip-path=\"url(#clip3602)\" style=\"fill:#000000; stroke:none; fill-opacity:1\" cx=\"646.58\" cy=\"613.873\" r=\"18\"/>\n<circle clip-path=\"url(#clip3602)\" style=\"fill:#0000ff; stroke:none; fill-opacity:1\" cx=\"646.58\" cy=\"613.873\" r=\"14\"/>\n<circle clip-path=\"url(#clip3602)\" style=\"fill:#000000; stroke:none; fill-opacity:1\" cx=\"596.461\" cy=\"176.886\" r=\"18\"/>\n<circle clip-path=\"url(#clip3602)\" style=\"fill:#0000ff; stroke:none; fill-opacity:1\" cx=\"596.461\" cy=\"176.886\" r=\"14\"/>\n<circle clip-path=\"url(#clip3602)\" style=\"fill:#000000; stroke:none; fill-opacity:1\" cx=\"277.304\" cy=\"335.349\" r=\"18\"/>\n<circle clip-path=\"url(#clip3602)\" style=\"fill:#0000ff; stroke:none; fill-opacity:1\" cx=\"277.304\" cy=\"335.349\" r=\"14\"/>\n<circle clip-path=\"url(#clip3602)\" style=\"fill:#000000; stroke:none; fill-opacity:1\" cx=\"826.05\" cy=\"91.2945\" r=\"18\"/>\n<circle clip-path=\"url(#clip3602)\" style=\"fill:#0000ff; stroke:none; fill-opacity:1\" cx=\"826.05\" cy=\"91.2945\" r=\"14\"/>\n<circle clip-path=\"url(#clip3602)\" style=\"fill:#000000; stroke:none; fill-opacity:1\" cx=\"1211.53\" cy=\"383.577\" r=\"18\"/>\n<circle clip-path=\"url(#clip3602)\" style=\"fill:#0000ff; stroke:none; fill-opacity:1\" cx=\"1211.53\" cy=\"383.577\" r=\"14\"/>\n<circle clip-path=\"url(#clip3602)\" style=\"fill:#000000; stroke:none; fill-opacity:1\" cx=\"1446.15\" cy=\"1276.73\" r=\"18\"/>\n<circle clip-path=\"url(#clip3602)\" style=\"fill:#ff0000; stroke:none; fill-opacity:1\" cx=\"1446.15\" cy=\"1276.73\" r=\"14\"/>\n<circle clip-path=\"url(#clip3602)\" style=\"fill:#000000; stroke:none; fill-opacity:1\" cx=\"273.552\" cy=\"1438.9\" r=\"18\"/>\n<circle clip-path=\"url(#clip3602)\" style=\"fill:#ff0000; stroke:none; fill-opacity:1\" cx=\"273.552\" cy=\"1438.9\" r=\"14\"/>\n<circle clip-path=\"url(#clip3602)\" style=\"fill:#000000; stroke:none; fill-opacity:1\" cx=\"1452.63\" cy=\"1072.01\" r=\"18\"/>\n<circle clip-path=\"url(#clip3602)\" style=\"fill:#ff0000; stroke:none; fill-opacity:1\" cx=\"1452.63\" cy=\"1072.01\" r=\"14\"/>\n<circle clip-path=\"url(#clip3602)\" style=\"fill:#000000; stroke:none; fill-opacity:1\" cx=\"1448.08\" cy=\"990.072\" r=\"18\"/>\n<circle clip-path=\"url(#clip3602)\" style=\"fill:#ff0000; stroke:none; fill-opacity:1\" cx=\"1448.08\" cy=\"990.072\" r=\"14\"/>\n<circle clip-path=\"url(#clip3602)\" style=\"fill:#000000; stroke:none; fill-opacity:1\" cx=\"539.916\" cy=\"1351.6\" r=\"18\"/>\n<circle clip-path=\"url(#clip3602)\" style=\"fill:#ff0000; stroke:none; fill-opacity:1\" cx=\"539.916\" cy=\"1351.6\" r=\"14\"/>\n<circle clip-path=\"url(#clip3602)\" style=\"fill:#000000; stroke:none; fill-opacity:1\" cx=\"1292.19\" cy=\"1218.5\" r=\"18\"/>\n<circle clip-path=\"url(#clip3602)\" style=\"fill:#ff0000; stroke:none; fill-opacity:1\" cx=\"1292.19\" cy=\"1218.5\" r=\"14\"/>\n<circle clip-path=\"url(#clip3602)\" style=\"fill:#000000; stroke:none; fill-opacity:1\" cx=\"1353.51\" cy=\"914.64\" r=\"18\"/>\n<circle clip-path=\"url(#clip3602)\" style=\"fill:#ff0000; stroke:none; fill-opacity:1\" cx=\"1353.51\" cy=\"914.64\" r=\"14\"/>\n<circle clip-path=\"url(#clip3602)\" style=\"fill:#000000; stroke:none; fill-opacity:1\" cx=\"1403.03\" cy=\"1081.03\" r=\"18\"/>\n<circle clip-path=\"url(#clip3602)\" style=\"fill:#ff0000; stroke:none; fill-opacity:1\" cx=\"1403.03\" cy=\"1081.03\" r=\"14\"/>\n<circle clip-path=\"url(#clip3602)\" style=\"fill:#000000; stroke:none; fill-opacity:1\" cx=\"677.219\" cy=\"1267\" r=\"18\"/>\n<circle clip-path=\"url(#clip3602)\" style=\"fill:#ff0000; stroke:none; fill-opacity:1\" cx=\"677.219\" cy=\"1267\" r=\"14\"/>\n<circle clip-path=\"url(#clip3602)\" style=\"fill:#000000; stroke:none; fill-opacity:1\" cx=\"1037.83\" cy=\"1018.72\" r=\"18\"/>\n<circle clip-path=\"url(#clip3602)\" style=\"fill:#ff0000; stroke:none; fill-opacity:1\" cx=\"1037.83\" cy=\"1018.72\" r=\"14\"/>\n<circle clip-path=\"url(#clip3602)\" style=\"fill:#000000; stroke:none; fill-opacity:1\" cx=\"1284.8\" cy=\"1241.59\" r=\"18\"/>\n<circle clip-path=\"url(#clip3602)\" style=\"fill:#ff0000; stroke:none; fill-opacity:1\" cx=\"1284.8\" cy=\"1241.59\" r=\"14\"/>\n<circle clip-path=\"url(#clip3602)\" style=\"fill:#000000; stroke:none; fill-opacity:1\" cx=\"575.514\" cy=\"1108.08\" r=\"18\"/>\n<circle clip-path=\"url(#clip3602)\" style=\"fill:#ff0000; stroke:none; fill-opacity:1\" cx=\"575.514\" cy=\"1108.08\" r=\"14\"/>\n<circle clip-path=\"url(#clip3602)\" style=\"fill:#000000; stroke:none; fill-opacity:1\" cx=\"445.608\" cy=\"876.371\" r=\"18\"/>\n<circle clip-path=\"url(#clip3602)\" style=\"fill:#ff0000; stroke:none; fill-opacity:1\" cx=\"445.608\" cy=\"876.371\" r=\"14\"/>\n<circle clip-path=\"url(#clip3602)\" style=\"fill:#000000; stroke:none; fill-opacity:1\" cx=\"696.505\" cy=\"1225.95\" r=\"18\"/>\n<circle clip-path=\"url(#clip3602)\" style=\"fill:#ff0000; stroke:none; fill-opacity:1\" cx=\"696.505\" cy=\"1225.95\" r=\"14\"/>\n<circle clip-path=\"url(#clip3602)\" style=\"fill:#000000; stroke:none; fill-opacity:1\" cx=\"634.7\" cy=\"1296.24\" r=\"18\"/>\n<circle clip-path=\"url(#clip3602)\" style=\"fill:#ff0000; stroke:none; fill-opacity:1\" cx=\"634.7\" cy=\"1296.24\" r=\"14\"/>\n<circle clip-path=\"url(#clip3602)\" style=\"fill:#000000; stroke:none; fill-opacity:1\" cx=\"943.217\" cy=\"1405.46\" r=\"18\"/>\n<circle clip-path=\"url(#clip3602)\" style=\"fill:#ff0000; stroke:none; fill-opacity:1\" cx=\"943.217\" cy=\"1405.46\" r=\"14\"/>\n<circle clip-path=\"url(#clip3602)\" style=\"fill:#000000; stroke:none; fill-opacity:1\" cx=\"1452.71\" cy=\"1200.6\" r=\"18\"/>\n<circle clip-path=\"url(#clip3602)\" style=\"fill:#ff0000; stroke:none; fill-opacity:1\" cx=\"1452.71\" cy=\"1200.6\" r=\"14\"/>\n<circle clip-path=\"url(#clip3602)\" style=\"fill:#000000; stroke:none; fill-opacity:1\" cx=\"1290.1\" cy=\"1446.46\" r=\"18\"/>\n<circle clip-path=\"url(#clip3602)\" style=\"fill:#ff0000; stroke:none; fill-opacity:1\" cx=\"1290.1\" cy=\"1446.46\" r=\"14\"/>\n<circle clip-path=\"url(#clip3602)\" style=\"fill:#000000; stroke:none; fill-opacity:1\" cx=\"467.869\" cy=\"908.339\" r=\"18\"/>\n<circle clip-path=\"url(#clip3602)\" style=\"fill:#ff0000; stroke:none; fill-opacity:1\" cx=\"467.869\" cy=\"908.339\" r=\"14\"/>\n<circle clip-path=\"url(#clip3602)\" style=\"fill:#000000; stroke:none; fill-opacity:1\" cx=\"1549.53\" cy=\"1147.98\" r=\"18\"/>\n<circle clip-path=\"url(#clip3602)\" style=\"fill:#ff0000; stroke:none; fill-opacity:1\" cx=\"1549.53\" cy=\"1147.98\" r=\"14\"/>\n<circle clip-path=\"url(#clip3602)\" style=\"fill:#000000; stroke:none; fill-opacity:1\" cx=\"1317.59\" cy=\"1378.39\" r=\"18\"/>\n<circle clip-path=\"url(#clip3602)\" style=\"fill:#ff0000; stroke:none; fill-opacity:1\" cx=\"1317.59\" cy=\"1378.39\" r=\"14\"/>\n<circle clip-path=\"url(#clip3602)\" style=\"fill:#000000; stroke:none; fill-opacity:1\" cx=\"648.145\" cy=\"1022.19\" r=\"18\"/>\n<circle clip-path=\"url(#clip3602)\" style=\"fill:#ff0000; stroke:none; fill-opacity:1\" cx=\"648.145\" cy=\"1022.19\" r=\"14\"/>\n<circle clip-path=\"url(#clip3602)\" style=\"fill:#000000; stroke:none; fill-opacity:1\" cx=\"1125.37\" cy=\"1124.12\" r=\"18\"/>\n<circle clip-path=\"url(#clip3602)\" style=\"fill:#ff0000; stroke:none; fill-opacity:1\" cx=\"1125.37\" cy=\"1124.12\" r=\"14\"/>\n<circle clip-path=\"url(#clip3602)\" style=\"fill:#000000; stroke:none; fill-opacity:1\" cx=\"1216.79\" cy=\"865.118\" r=\"18\"/>\n<circle clip-path=\"url(#clip3602)\" style=\"fill:#ff0000; stroke:none; fill-opacity:1\" cx=\"1216.79\" cy=\"865.118\" r=\"14\"/>\n<circle clip-path=\"url(#clip3602)\" style=\"fill:#000000; stroke:none; fill-opacity:1\" cx=\"1534.73\" cy=\"569.735\" r=\"18\"/>\n<circle clip-path=\"url(#clip3602)\" style=\"fill:#ff0000; stroke:none; fill-opacity:1\" cx=\"1534.73\" cy=\"569.735\" r=\"14\"/>\n<circle clip-path=\"url(#clip3602)\" style=\"fill:#000000; stroke:none; fill-opacity:1\" cx=\"1163.22\" cy=\"1269.16\" r=\"18\"/>\n<circle clip-path=\"url(#clip3602)\" style=\"fill:#ff0000; stroke:none; fill-opacity:1\" cx=\"1163.22\" cy=\"1269.16\" r=\"14\"/>\n<circle clip-path=\"url(#clip3602)\" style=\"fill:#000000; stroke:none; fill-opacity:1\" cx=\"1065.08\" cy=\"1219.46\" r=\"18\"/>\n<circle clip-path=\"url(#clip3602)\" style=\"fill:#ff0000; stroke:none; fill-opacity:1\" cx=\"1065.08\" cy=\"1219.46\" r=\"14\"/>\n<circle clip-path=\"url(#clip3602)\" style=\"fill:#000000; stroke:none; fill-opacity:1\" cx=\"755.133\" cy=\"1253.57\" r=\"18\"/>\n<circle clip-path=\"url(#clip3602)\" style=\"fill:#ff0000; stroke:none; fill-opacity:1\" cx=\"755.133\" cy=\"1253.57\" r=\"14\"/>\n<circle clip-path=\"url(#clip3602)\" style=\"fill:#000000; stroke:none; fill-opacity:1\" cx=\"1371.63\" cy=\"1116.83\" r=\"18\"/>\n<circle clip-path=\"url(#clip3602)\" style=\"fill:#ff0000; stroke:none; fill-opacity:1\" cx=\"1371.63\" cy=\"1116.83\" r=\"14\"/>\n<circle clip-path=\"url(#clip3602)\" style=\"fill:#000000; stroke:none; fill-opacity:1\" cx=\"1060.77\" cy=\"1369.79\" r=\"18\"/>\n<circle clip-path=\"url(#clip3602)\" style=\"fill:#ff0000; stroke:none; fill-opacity:1\" cx=\"1060.77\" cy=\"1369.79\" r=\"14\"/>\n<circle clip-path=\"url(#clip3602)\" style=\"fill:#000000; stroke:none; fill-opacity:1\" cx=\"762.206\" cy=\"1231.19\" r=\"18\"/>\n<circle clip-path=\"url(#clip3602)\" style=\"fill:#ff0000; stroke:none; fill-opacity:1\" cx=\"762.206\" cy=\"1231.19\" r=\"14\"/>\n<circle clip-path=\"url(#clip3602)\" style=\"fill:#000000; stroke:none; fill-opacity:1\" cx=\"843.387\" cy=\"872.73\" r=\"18\"/>\n<circle clip-path=\"url(#clip3602)\" style=\"fill:#ff0000; stroke:none; fill-opacity:1\" cx=\"843.387\" cy=\"872.73\" r=\"14\"/>\n<circle clip-path=\"url(#clip3602)\" style=\"fill:#000000; stroke:none; fill-opacity:1\" cx=\"1443.83\" cy=\"1002.16\" r=\"18\"/>\n<circle clip-path=\"url(#clip3602)\" style=\"fill:#ff0000; stroke:none; fill-opacity:1\" cx=\"1443.83\" cy=\"1002.16\" r=\"14\"/>\n<circle clip-path=\"url(#clip3602)\" style=\"fill:#000000; stroke:none; fill-opacity:1\" cx=\"1197.63\" cy=\"1178.67\" r=\"18\"/>\n<circle clip-path=\"url(#clip3602)\" style=\"fill:#ff0000; stroke:none; fill-opacity:1\" cx=\"1197.63\" cy=\"1178.67\" r=\"14\"/>\n<circle clip-path=\"url(#clip3602)\" style=\"fill:#000000; stroke:none; fill-opacity:1\" cx=\"564.7\" cy=\"771.831\" r=\"18\"/>\n<circle clip-path=\"url(#clip3602)\" style=\"fill:#ff0000; stroke:none; fill-opacity:1\" cx=\"564.7\" cy=\"771.831\" r=\"14\"/>\n<circle clip-path=\"url(#clip3602)\" style=\"fill:#000000; stroke:none; fill-opacity:1\" cx=\"517.165\" cy=\"1147.83\" r=\"18\"/>\n<circle clip-path=\"url(#clip3602)\" style=\"fill:#ff0000; stroke:none; fill-opacity:1\" cx=\"517.165\" cy=\"1147.83\" r=\"14\"/>\n<circle clip-path=\"url(#clip3602)\" style=\"fill:#000000; stroke:none; fill-opacity:1\" cx=\"802.847\" cy=\"813.757\" r=\"18\"/>\n<circle clip-path=\"url(#clip3602)\" style=\"fill:#ff0000; stroke:none; fill-opacity:1\" cx=\"802.847\" cy=\"813.757\" r=\"14\"/>\n<circle clip-path=\"url(#clip3602)\" style=\"fill:#000000; stroke:none; fill-opacity:1\" cx=\"503.647\" cy=\"1318.12\" r=\"18\"/>\n<circle clip-path=\"url(#clip3602)\" style=\"fill:#ff0000; stroke:none; fill-opacity:1\" cx=\"503.647\" cy=\"1318.12\" r=\"14\"/>\n<circle clip-path=\"url(#clip3602)\" style=\"fill:#000000; stroke:none; fill-opacity:1\" cx=\"579.191\" cy=\"791.679\" r=\"18\"/>\n<circle clip-path=\"url(#clip3602)\" style=\"fill:#ff0000; stroke:none; fill-opacity:1\" cx=\"579.191\" cy=\"791.679\" r=\"14\"/>\n<circle clip-path=\"url(#clip3602)\" style=\"fill:#000000; stroke:none; fill-opacity:1\" cx=\"785.309\" cy=\"1404.34\" r=\"18\"/>\n<circle clip-path=\"url(#clip3602)\" style=\"fill:#ff0000; stroke:none; fill-opacity:1\" cx=\"785.309\" cy=\"1404.34\" r=\"14\"/>\n<circle clip-path=\"url(#clip3602)\" style=\"fill:#000000; stroke:none; fill-opacity:1\" cx=\"740.17\" cy=\"747.88\" r=\"18\"/>\n<circle clip-path=\"url(#clip3602)\" style=\"fill:#ff0000; stroke:none; fill-opacity:1\" cx=\"740.17\" cy=\"747.88\" r=\"14\"/>\n<circle clip-path=\"url(#clip3602)\" style=\"fill:#000000; stroke:none; fill-opacity:1\" cx=\"564.532\" cy=\"904.491\" r=\"18\"/>\n<circle clip-path=\"url(#clip3602)\" style=\"fill:#ff0000; stroke:none; fill-opacity:1\" cx=\"564.532\" cy=\"904.491\" r=\"14\"/>\n<circle clip-path=\"url(#clip3602)\" style=\"fill:#000000; stroke:none; fill-opacity:1\" cx=\"579.262\" cy=\"732.198\" r=\"18\"/>\n<circle clip-path=\"url(#clip3602)\" style=\"fill:#ff0000; stroke:none; fill-opacity:1\" cx=\"579.262\" cy=\"732.198\" r=\"14\"/>\n<circle clip-path=\"url(#clip3602)\" style=\"fill:#000000; stroke:none; fill-opacity:1\" cx=\"792.551\" cy=\"1217.66\" r=\"18\"/>\n<circle clip-path=\"url(#clip3602)\" style=\"fill:#ff0000; stroke:none; fill-opacity:1\" cx=\"792.551\" cy=\"1217.66\" r=\"14\"/>\n<circle clip-path=\"url(#clip3602)\" style=\"fill:#000000; stroke:none; fill-opacity:1\" cx=\"797.876\" cy=\"1279.89\" r=\"18\"/>\n<circle clip-path=\"url(#clip3602)\" style=\"fill:#ff0000; stroke:none; fill-opacity:1\" cx=\"797.876\" cy=\"1279.89\" r=\"14\"/>\n<circle clip-path=\"url(#clip3602)\" style=\"fill:#000000; stroke:none; fill-opacity:1\" cx=\"1213.55\" cy=\"1167.08\" r=\"18\"/>\n<circle clip-path=\"url(#clip3602)\" style=\"fill:#ff0000; stroke:none; fill-opacity:1\" cx=\"1213.55\" cy=\"1167.08\" r=\"14\"/>\n<circle clip-path=\"url(#clip3602)\" style=\"fill:#000000; stroke:none; fill-opacity:1\" cx=\"564.443\" cy=\"1250.04\" r=\"18\"/>\n<circle clip-path=\"url(#clip3602)\" style=\"fill:#ff0000; stroke:none; fill-opacity:1\" cx=\"564.443\" cy=\"1250.04\" r=\"14\"/>\n<circle clip-path=\"url(#clip3602)\" style=\"fill:#000000; stroke:none; fill-opacity:1\" cx=\"1559.45\" cy=\"571.211\" r=\"18\"/>\n<circle clip-path=\"url(#clip3602)\" style=\"fill:#ff0000; stroke:none; fill-opacity:1\" cx=\"1559.45\" cy=\"571.211\" r=\"14\"/>\n<circle clip-path=\"url(#clip3602)\" style=\"fill:#000000; stroke:none; fill-opacity:1\" cx=\"1419.55\" cy=\"1155.73\" r=\"18\"/>\n<circle clip-path=\"url(#clip3602)\" style=\"fill:#ff0000; stroke:none; fill-opacity:1\" cx=\"1419.55\" cy=\"1155.73\" r=\"14\"/>\n<circle clip-path=\"url(#clip3602)\" style=\"fill:#000000; stroke:none; fill-opacity:1\" cx=\"640.799\" cy=\"1178.87\" r=\"18\"/>\n<circle clip-path=\"url(#clip3602)\" style=\"fill:#ff0000; stroke:none; fill-opacity:1\" cx=\"640.799\" cy=\"1178.87\" r=\"14\"/>\n<circle clip-path=\"url(#clip3602)\" style=\"fill:#000000; stroke:none; fill-opacity:1\" cx=\"446.08\" cy=\"1361.07\" r=\"18\"/>\n<circle clip-path=\"url(#clip3602)\" style=\"fill:#ff0000; stroke:none; fill-opacity:1\" cx=\"446.08\" cy=\"1361.07\" r=\"14\"/>\n<circle clip-path=\"url(#clip3602)\" style=\"fill:#000000; stroke:none; fill-opacity:1\" cx=\"707.348\" cy=\"989.643\" r=\"18\"/>\n<circle clip-path=\"url(#clip3602)\" style=\"fill:#ff0000; stroke:none; fill-opacity:1\" cx=\"707.348\" cy=\"989.643\" r=\"14\"/>\n<circle clip-path=\"url(#clip3602)\" style=\"fill:#000000; stroke:none; fill-opacity:1\" cx=\"439.534\" cy=\"954.002\" r=\"18\"/>\n<circle clip-path=\"url(#clip3602)\" style=\"fill:#ff0000; stroke:none; fill-opacity:1\" cx=\"439.534\" cy=\"954.002\" r=\"14\"/>\n<circle clip-path=\"url(#clip3602)\" style=\"fill:#000000; stroke:none; fill-opacity:1\" cx=\"1417.95\" cy=\"1288.06\" r=\"18\"/>\n<circle clip-path=\"url(#clip3602)\" style=\"fill:#ff0000; stroke:none; fill-opacity:1\" cx=\"1417.95\" cy=\"1288.06\" r=\"14\"/>\n<circle clip-path=\"url(#clip3602)\" style=\"fill:#000000; stroke:none; fill-opacity:1\" cx=\"945.155\" cy=\"1242.92\" r=\"18\"/>\n<circle clip-path=\"url(#clip3602)\" style=\"fill:#ff0000; stroke:none; fill-opacity:1\" cx=\"945.155\" cy=\"1242.92\" r=\"14\"/>\n<circle clip-path=\"url(#clip3602)\" style=\"fill:#000000; stroke:none; fill-opacity:1\" cx=\"822.775\" cy=\"1259.84\" r=\"18\"/>\n<circle clip-path=\"url(#clip3602)\" style=\"fill:#ff0000; stroke:none; fill-opacity:1\" cx=\"822.775\" cy=\"1259.84\" r=\"14\"/>\n<circle clip-path=\"url(#clip3602)\" style=\"fill:#000000; stroke:none; fill-opacity:1\" cx=\"828.644\" cy=\"1016.07\" r=\"18\"/>\n<circle clip-path=\"url(#clip3602)\" style=\"fill:#ff0000; stroke:none; fill-opacity:1\" cx=\"828.644\" cy=\"1016.07\" r=\"14\"/>\n<circle clip-path=\"url(#clip3602)\" style=\"fill:#000000; stroke:none; fill-opacity:1\" cx=\"1305.17\" cy=\"763.881\" r=\"18\"/>\n<circle clip-path=\"url(#clip3602)\" style=\"fill:#ff0000; stroke:none; fill-opacity:1\" cx=\"1305.17\" cy=\"763.881\" r=\"14\"/>\n<circle clip-path=\"url(#clip3602)\" style=\"fill:#000000; stroke:none; fill-opacity:1\" cx=\"1379.39\" cy=\"717.583\" r=\"18\"/>\n<circle clip-path=\"url(#clip3602)\" style=\"fill:#ff0000; stroke:none; fill-opacity:1\" cx=\"1379.39\" cy=\"717.583\" r=\"14\"/>\n<circle clip-path=\"url(#clip3602)\" style=\"fill:#000000; stroke:none; fill-opacity:1\" cx=\"1164.68\" cy=\"1215.1\" r=\"18\"/>\n<circle clip-path=\"url(#clip3602)\" style=\"fill:#ff0000; stroke:none; fill-opacity:1\" cx=\"1164.68\" cy=\"1215.1\" r=\"14\"/>\n<circle clip-path=\"url(#clip3602)\" style=\"fill:#000000; stroke:none; fill-opacity:1\" cx=\"1492.24\" cy=\"968.519\" r=\"18\"/>\n<circle clip-path=\"url(#clip3602)\" style=\"fill:#ff0000; stroke:none; fill-opacity:1\" cx=\"1492.24\" cy=\"968.519\" r=\"14\"/>\n<circle clip-path=\"url(#clip3602)\" style=\"fill:#000000; stroke:none; fill-opacity:1\" cx=\"1479.22\" cy=\"776.328\" r=\"18\"/>\n<circle clip-path=\"url(#clip3602)\" style=\"fill:#ff0000; stroke:none; fill-opacity:1\" cx=\"1479.22\" cy=\"776.328\" r=\"14\"/>\n<circle clip-path=\"url(#clip3602)\" style=\"fill:#000000; stroke:none; fill-opacity:1\" cx=\"397.137\" cy=\"1226.5\" r=\"18\"/>\n<circle clip-path=\"url(#clip3602)\" style=\"fill:#ff0000; stroke:none; fill-opacity:1\" cx=\"397.137\" cy=\"1226.5\" r=\"14\"/>\n<circle clip-path=\"url(#clip3602)\" style=\"fill:#000000; stroke:none; fill-opacity:1\" cx=\"1102.69\" cy=\"1133.45\" r=\"18\"/>\n<circle clip-path=\"url(#clip3602)\" style=\"fill:#ff0000; stroke:none; fill-opacity:1\" cx=\"1102.69\" cy=\"1133.45\" r=\"14\"/>\n<circle clip-path=\"url(#clip3602)\" style=\"fill:#000000; stroke:none; fill-opacity:1\" cx=\"808.093\" cy=\"1036.78\" r=\"18\"/>\n<circle clip-path=\"url(#clip3602)\" style=\"fill:#ff0000; stroke:none; fill-opacity:1\" cx=\"808.093\" cy=\"1036.78\" r=\"14\"/>\n<circle clip-path=\"url(#clip3602)\" style=\"fill:#000000; stroke:none; fill-opacity:1\" cx=\"1459.81\" cy=\"739.891\" r=\"18\"/>\n<circle clip-path=\"url(#clip3602)\" style=\"fill:#ff0000; stroke:none; fill-opacity:1\" cx=\"1459.81\" cy=\"739.891\" r=\"14\"/>\n<circle clip-path=\"url(#clip3602)\" style=\"fill:#000000; stroke:none; fill-opacity:1\" cx=\"1204.13\" cy=\"1176.13\" r=\"18\"/>\n<circle clip-path=\"url(#clip3602)\" style=\"fill:#ff0000; stroke:none; fill-opacity:1\" cx=\"1204.13\" cy=\"1176.13\" r=\"14\"/>\n<circle clip-path=\"url(#clip3602)\" style=\"fill:#000000; stroke:none; fill-opacity:1\" cx=\"1187.26\" cy=\"1048.63\" r=\"18\"/>\n<circle clip-path=\"url(#clip3602)\" style=\"fill:#ff0000; stroke:none; fill-opacity:1\" cx=\"1187.26\" cy=\"1048.63\" r=\"14\"/>\n<circle clip-path=\"url(#clip3602)\" style=\"fill:#000000; stroke:none; fill-opacity:1\" cx=\"880.277\" cy=\"1383.3\" r=\"18\"/>\n<circle clip-path=\"url(#clip3602)\" style=\"fill:#ff0000; stroke:none; fill-opacity:1\" cx=\"880.277\" cy=\"1383.3\" r=\"14\"/>\n<circle clip-path=\"url(#clip3602)\" style=\"fill:#000000; stroke:none; fill-opacity:1\" cx=\"1285.77\" cy=\"864.022\" r=\"18\"/>\n<circle clip-path=\"url(#clip3602)\" style=\"fill:#ff0000; stroke:none; fill-opacity:1\" cx=\"1285.77\" cy=\"864.022\" r=\"14\"/>\n<circle clip-path=\"url(#clip3602)\" style=\"fill:#000000; stroke:none; fill-opacity:1\" cx=\"1449.54\" cy=\"1006.69\" r=\"18\"/>\n<circle clip-path=\"url(#clip3602)\" style=\"fill:#ff0000; stroke:none; fill-opacity:1\" cx=\"1449.54\" cy=\"1006.69\" r=\"14\"/>\n<circle clip-path=\"url(#clip3602)\" style=\"fill:#000000; stroke:none; fill-opacity:1\" cx=\"852.491\" cy=\"1087.52\" r=\"18\"/>\n<circle clip-path=\"url(#clip3602)\" style=\"fill:#ff0000; stroke:none; fill-opacity:1\" cx=\"852.491\" cy=\"1087.52\" r=\"14\"/>\n<circle clip-path=\"url(#clip3602)\" style=\"fill:#000000; stroke:none; fill-opacity:1\" cx=\"1027.02\" cy=\"1361.41\" r=\"18\"/>\n<circle clip-path=\"url(#clip3602)\" style=\"fill:#ff0000; stroke:none; fill-opacity:1\" cx=\"1027.02\" cy=\"1361.41\" r=\"14\"/>\n<circle clip-path=\"url(#clip3602)\" style=\"fill:#000000; stroke:none; fill-opacity:1\" cx=\"932.595\" cy=\"1239.34\" r=\"18\"/>\n<circle clip-path=\"url(#clip3602)\" style=\"fill:#ff0000; stroke:none; fill-opacity:1\" cx=\"932.595\" cy=\"1239.34\" r=\"14\"/>\n<circle clip-path=\"url(#clip3602)\" style=\"fill:#000000; stroke:none; fill-opacity:1\" cx=\"1026.71\" cy=\"912.889\" r=\"18\"/>\n<circle clip-path=\"url(#clip3602)\" style=\"fill:#ff0000; stroke:none; fill-opacity:1\" cx=\"1026.71\" cy=\"912.889\" r=\"14\"/>\n<circle clip-path=\"url(#clip3602)\" style=\"fill:#000000; stroke:none; fill-opacity:1\" cx=\"1008.66\" cy=\"1233.43\" r=\"18\"/>\n<circle clip-path=\"url(#clip3602)\" style=\"fill:#ff0000; stroke:none; fill-opacity:1\" cx=\"1008.66\" cy=\"1233.43\" r=\"14\"/>\n<circle clip-path=\"url(#clip3602)\" style=\"fill:#000000; stroke:none; fill-opacity:1\" cx=\"1333.12\" cy=\"1314\" r=\"18\"/>\n<circle clip-path=\"url(#clip3602)\" style=\"fill:#ff0000; stroke:none; fill-opacity:1\" cx=\"1333.12\" cy=\"1314\" r=\"14\"/>\n<circle clip-path=\"url(#clip3602)\" style=\"fill:#000000; stroke:none; fill-opacity:1\" cx=\"1291.32\" cy=\"1392.72\" r=\"18\"/>\n<circle clip-path=\"url(#clip3602)\" style=\"fill:#ff0000; stroke:none; fill-opacity:1\" cx=\"1291.32\" cy=\"1392.72\" r=\"14\"/>\n<circle clip-path=\"url(#clip3602)\" style=\"fill:#000000; stroke:none; fill-opacity:1\" cx=\"1009.62\" cy=\"844.49\" r=\"18\"/>\n<circle clip-path=\"url(#clip3602)\" style=\"fill:#ff0000; stroke:none; fill-opacity:1\" cx=\"1009.62\" cy=\"844.49\" r=\"14\"/>\n<circle clip-path=\"url(#clip3602)\" style=\"fill:#000000; stroke:none; fill-opacity:1\" cx=\"1407.83\" cy=\"677.439\" r=\"18\"/>\n<circle clip-path=\"url(#clip3602)\" style=\"fill:#ff0000; stroke:none; fill-opacity:1\" cx=\"1407.83\" cy=\"677.439\" r=\"14\"/>\n<circle clip-path=\"url(#clip3602)\" style=\"fill:#000000; stroke:none; fill-opacity:1\" cx=\"1411.05\" cy=\"1198.67\" r=\"18\"/>\n<circle clip-path=\"url(#clip3602)\" style=\"fill:#ff0000; stroke:none; fill-opacity:1\" cx=\"1411.05\" cy=\"1198.67\" r=\"14\"/>\n<circle clip-path=\"url(#clip3602)\" style=\"fill:#000000; stroke:none; fill-opacity:1\" cx=\"715.229\" cy=\"1374.01\" r=\"18\"/>\n<circle clip-path=\"url(#clip3602)\" style=\"fill:#ff0000; stroke:none; fill-opacity:1\" cx=\"715.229\" cy=\"1374.01\" r=\"14\"/>\n<circle clip-path=\"url(#clip3602)\" style=\"fill:#000000; stroke:none; fill-opacity:1\" cx=\"777.605\" cy=\"1143.85\" r=\"18\"/>\n<circle clip-path=\"url(#clip3602)\" style=\"fill:#ff0000; stroke:none; fill-opacity:1\" cx=\"777.605\" cy=\"1143.85\" r=\"14\"/>\n<circle clip-path=\"url(#clip3602)\" style=\"fill:#000000; stroke:none; fill-opacity:1\" cx=\"773.255\" cy=\"938.864\" r=\"18\"/>\n<circle clip-path=\"url(#clip3602)\" style=\"fill:#ff0000; stroke:none; fill-opacity:1\" cx=\"773.255\" cy=\"938.864\" r=\"14\"/>\n<circle clip-path=\"url(#clip3602)\" style=\"fill:#000000; stroke:none; fill-opacity:1\" cx=\"1561.46\" cy=\"244.377\" r=\"18\"/>\n<circle clip-path=\"url(#clip3602)\" style=\"fill:#ff0000; stroke:none; fill-opacity:1\" cx=\"1561.46\" cy=\"244.377\" r=\"14\"/>\n<circle clip-path=\"url(#clip3602)\" style=\"fill:#000000; stroke:none; fill-opacity:1\" cx=\"1479.83\" cy=\"440.53\" r=\"18\"/>\n<circle clip-path=\"url(#clip3602)\" style=\"fill:#ff0000; stroke:none; fill-opacity:1\" cx=\"1479.83\" cy=\"440.53\" r=\"14\"/>\n<circle clip-path=\"url(#clip3602)\" style=\"fill:#000000; stroke:none; fill-opacity:1\" cx=\"1358.88\" cy=\"1321.89\" r=\"18\"/>\n<circle clip-path=\"url(#clip3602)\" style=\"fill:#ff0000; stroke:none; fill-opacity:1\" cx=\"1358.88\" cy=\"1321.89\" r=\"14\"/>\n<circle clip-path=\"url(#clip3602)\" style=\"fill:#000000; stroke:none; fill-opacity:1\" cx=\"1497.03\" cy=\"1346.85\" r=\"18\"/>\n<circle clip-path=\"url(#clip3602)\" style=\"fill:#ff0000; stroke:none; fill-opacity:1\" cx=\"1497.03\" cy=\"1346.85\" r=\"14\"/>\n<circle clip-path=\"url(#clip3602)\" style=\"fill:#000000; stroke:none; fill-opacity:1\" cx=\"786.72\" cy=\"942.817\" r=\"18\"/>\n<circle clip-path=\"url(#clip3602)\" style=\"fill:#ff0000; stroke:none; fill-opacity:1\" cx=\"786.72\" cy=\"942.817\" r=\"14\"/>\n<circle clip-path=\"url(#clip3602)\" style=\"fill:#000000; stroke:none; fill-opacity:1\" cx=\"879.13\" cy=\"1374.2\" r=\"18\"/>\n<circle clip-path=\"url(#clip3602)\" style=\"fill:#ff0000; stroke:none; fill-opacity:1\" cx=\"879.13\" cy=\"1374.2\" r=\"14\"/>\n<circle clip-path=\"url(#clip3602)\" style=\"fill:#000000; stroke:none; fill-opacity:1\" cx=\"1478.59\" cy=\"907.61\" r=\"18\"/>\n<circle clip-path=\"url(#clip3602)\" style=\"fill:#ff0000; stroke:none; fill-opacity:1\" cx=\"1478.59\" cy=\"907.61\" r=\"14\"/>\n<circle clip-path=\"url(#clip3602)\" style=\"fill:#000000; stroke:none; fill-opacity:1\" cx=\"1534.46\" cy=\"301\" r=\"18\"/>\n<circle clip-path=\"url(#clip3602)\" style=\"fill:#ff0000; stroke:none; fill-opacity:1\" cx=\"1534.46\" cy=\"301\" r=\"14\"/>\n<circle clip-path=\"url(#clip3602)\" style=\"fill:#000000; stroke:none; fill-opacity:1\" cx=\"364.578\" cy=\"1399.48\" r=\"18\"/>\n<circle clip-path=\"url(#clip3602)\" style=\"fill:#ff0000; stroke:none; fill-opacity:1\" cx=\"364.578\" cy=\"1399.48\" r=\"14\"/>\n<circle clip-path=\"url(#clip3602)\" style=\"fill:#000000; stroke:none; fill-opacity:1\" cx=\"638.493\" cy=\"862.328\" r=\"18\"/>\n<circle clip-path=\"url(#clip3602)\" style=\"fill:#ff0000; stroke:none; fill-opacity:1\" cx=\"638.493\" cy=\"862.328\" r=\"14\"/>\n<circle clip-path=\"url(#clip3602)\" style=\"fill:#000000; stroke:none; fill-opacity:1\" cx=\"1077.81\" cy=\"1036.24\" r=\"18\"/>\n<circle clip-path=\"url(#clip3602)\" style=\"fill:#ff0000; stroke:none; fill-opacity:1\" cx=\"1077.81\" cy=\"1036.24\" r=\"14\"/>\n<circle clip-path=\"url(#clip3602)\" style=\"fill:#000000; stroke:none; fill-opacity:1\" cx=\"1195.65\" cy=\"1199.43\" r=\"18\"/>\n<circle clip-path=\"url(#clip3602)\" style=\"fill:#ff0000; stroke:none; fill-opacity:1\" cx=\"1195.65\" cy=\"1199.43\" r=\"14\"/>\n<circle clip-path=\"url(#clip3602)\" style=\"fill:#000000; stroke:none; fill-opacity:1\" cx=\"413.806\" cy=\"990.3\" r=\"18\"/>\n<circle clip-path=\"url(#clip3602)\" style=\"fill:#ff0000; stroke:none; fill-opacity:1\" cx=\"413.806\" cy=\"990.3\" r=\"14\"/>\n<circle clip-path=\"url(#clip3602)\" style=\"fill:#000000; stroke:none; fill-opacity:1\" cx=\"298.194\" cy=\"1311.46\" r=\"18\"/>\n<circle clip-path=\"url(#clip3602)\" style=\"fill:#ff0000; stroke:none; fill-opacity:1\" cx=\"298.194\" cy=\"1311.46\" r=\"14\"/>\n<circle clip-path=\"url(#clip3602)\" style=\"fill:#000000; stroke:none; fill-opacity:1\" cx=\"1498.3\" cy=\"584.189\" r=\"18\"/>\n<circle clip-path=\"url(#clip3602)\" style=\"fill:#ff0000; stroke:none; fill-opacity:1\" cx=\"1498.3\" cy=\"584.189\" r=\"14\"/>\n<circle clip-path=\"url(#clip3602)\" style=\"fill:#000000; stroke:none; fill-opacity:1\" cx=\"777.183\" cy=\"785.468\" r=\"18\"/>\n<circle clip-path=\"url(#clip3602)\" style=\"fill:#ff0000; stroke:none; fill-opacity:1\" cx=\"777.183\" cy=\"785.468\" r=\"14\"/>\n<circle clip-path=\"url(#clip3602)\" style=\"fill:#000000; stroke:none; fill-opacity:1\" cx=\"661.596\" cy=\"873.735\" r=\"18\"/>\n<circle clip-path=\"url(#clip3602)\" style=\"fill:#ff0000; stroke:none; fill-opacity:1\" cx=\"661.596\" cy=\"873.735\" r=\"14\"/>\n<circle clip-path=\"url(#clip3602)\" style=\"fill:#000000; stroke:none; fill-opacity:1\" cx=\"346.683\" cy=\"1276.73\" r=\"18\"/>\n<circle clip-path=\"url(#clip3602)\" style=\"fill:#ff0000; stroke:none; fill-opacity:1\" cx=\"346.683\" cy=\"1276.73\" r=\"14\"/>\n<circle clip-path=\"url(#clip3602)\" style=\"fill:#000000; stroke:none; fill-opacity:1\" cx=\"506.574\" cy=\"900.433\" r=\"18\"/>\n<circle clip-path=\"url(#clip3602)\" style=\"fill:#ff0000; stroke:none; fill-opacity:1\" cx=\"506.574\" cy=\"900.433\" r=\"14\"/>\n<circle clip-path=\"url(#clip3602)\" style=\"fill:#000000; stroke:none; fill-opacity:1\" cx=\"1356.71\" cy=\"1010.44\" r=\"18\"/>\n<circle clip-path=\"url(#clip3602)\" style=\"fill:#ff0000; stroke:none; fill-opacity:1\" cx=\"1356.71\" cy=\"1010.44\" r=\"14\"/>\n<circle clip-path=\"url(#clip3602)\" style=\"fill:#000000; stroke:none; fill-opacity:1\" cx=\"745.687\" cy=\"1296.96\" r=\"18\"/>\n<circle clip-path=\"url(#clip3602)\" style=\"fill:#ff0000; stroke:none; fill-opacity:1\" cx=\"745.687\" cy=\"1296.96\" r=\"14\"/>\n<circle clip-path=\"url(#clip3602)\" style=\"fill:#000000; stroke:none; fill-opacity:1\" cx=\"350.639\" cy=\"1146.91\" r=\"18\"/>\n<circle clip-path=\"url(#clip3602)\" style=\"fill:#ff0000; stroke:none; fill-opacity:1\" cx=\"350.639\" cy=\"1146.91\" r=\"14\"/>\n<circle clip-path=\"url(#clip3602)\" style=\"fill:#000000; stroke:none; fill-opacity:1\" cx=\"715.695\" cy=\"1146.38\" r=\"18\"/>\n<circle clip-path=\"url(#clip3602)\" style=\"fill:#ff0000; stroke:none; fill-opacity:1\" cx=\"715.695\" cy=\"1146.38\" r=\"14\"/>\n<circle clip-path=\"url(#clip3602)\" style=\"fill:#000000; stroke:none; fill-opacity:1\" cx=\"1328.12\" cy=\"885.311\" r=\"18\"/>\n<circle clip-path=\"url(#clip3602)\" style=\"fill:#ff0000; stroke:none; fill-opacity:1\" cx=\"1328.12\" cy=\"885.311\" r=\"14\"/>\n<circle clip-path=\"url(#clip3602)\" style=\"fill:#000000; stroke:none; fill-opacity:1\" cx=\"511.957\" cy=\"1344.51\" r=\"18\"/>\n<circle clip-path=\"url(#clip3602)\" style=\"fill:#ff0000; stroke:none; fill-opacity:1\" cx=\"511.957\" cy=\"1344.51\" r=\"14\"/>\n<circle clip-path=\"url(#clip3602)\" style=\"fill:#000000; stroke:none; fill-opacity:1\" cx=\"538.284\" cy=\"782.53\" r=\"18\"/>\n<circle clip-path=\"url(#clip3602)\" style=\"fill:#ff0000; stroke:none; fill-opacity:1\" cx=\"538.284\" cy=\"782.53\" r=\"14\"/>\n<circle clip-path=\"url(#clip3602)\" style=\"fill:#000000; stroke:none; fill-opacity:1\" cx=\"544.199\" cy=\"1426.99\" r=\"18\"/>\n<circle clip-path=\"url(#clip3602)\" style=\"fill:#ff0000; stroke:none; fill-opacity:1\" cx=\"544.199\" cy=\"1426.99\" r=\"14\"/>\n<circle clip-path=\"url(#clip3602)\" style=\"fill:#000000; stroke:none; fill-opacity:1\" cx=\"382.222\" cy=\"1279.82\" r=\"18\"/>\n<circle clip-path=\"url(#clip3602)\" style=\"fill:#ff0000; stroke:none; fill-opacity:1\" cx=\"382.222\" cy=\"1279.82\" r=\"14\"/>\n<circle clip-path=\"url(#clip3602)\" style=\"fill:#000000; stroke:none; fill-opacity:1\" cx=\"888.769\" cy=\"1278.82\" r=\"18\"/>\n<circle clip-path=\"url(#clip3602)\" style=\"fill:#ff0000; stroke:none; fill-opacity:1\" cx=\"888.769\" cy=\"1278.82\" r=\"14\"/>\n<circle clip-path=\"url(#clip3602)\" style=\"fill:#000000; stroke:none; fill-opacity:1\" cx=\"645.145\" cy=\"1083.3\" r=\"18\"/>\n<circle clip-path=\"url(#clip3602)\" style=\"fill:#ff0000; stroke:none; fill-opacity:1\" cx=\"645.145\" cy=\"1083.3\" r=\"14\"/>\n<circle clip-path=\"url(#clip3602)\" style=\"fill:#000000; stroke:none; fill-opacity:1\" cx=\"1228.16\" cy=\"1256.32\" r=\"18\"/>\n<circle clip-path=\"url(#clip3602)\" style=\"fill:#ff0000; stroke:none; fill-opacity:1\" cx=\"1228.16\" cy=\"1256.32\" r=\"14\"/>\n<circle clip-path=\"url(#clip3602)\" style=\"fill:#000000; stroke:none; fill-opacity:1\" cx=\"1308.54\" cy=\"1259.7\" r=\"18\"/>\n<circle clip-path=\"url(#clip3602)\" style=\"fill:#ff0000; stroke:none; fill-opacity:1\" cx=\"1308.54\" cy=\"1259.7\" r=\"14\"/>\n<circle clip-path=\"url(#clip3602)\" style=\"fill:#000000; stroke:none; fill-opacity:1\" cx=\"684.846\" cy=\"1330.8\" r=\"18\"/>\n<circle clip-path=\"url(#clip3602)\" style=\"fill:#ff0000; stroke:none; fill-opacity:1\" cx=\"684.846\" cy=\"1330.8\" r=\"14\"/>\n<circle clip-path=\"url(#clip3602)\" style=\"fill:#000000; stroke:none; fill-opacity:1\" cx=\"1261.27\" cy=\"867.096\" r=\"18\"/>\n<circle clip-path=\"url(#clip3602)\" style=\"fill:#ff0000; stroke:none; fill-opacity:1\" cx=\"1261.27\" cy=\"867.096\" r=\"14\"/>\n<circle clip-path=\"url(#clip3602)\" style=\"fill:#000000; stroke:none; fill-opacity:1\" cx=\"691.19\" cy=\"1259.37\" r=\"18\"/>\n<circle clip-path=\"url(#clip3602)\" style=\"fill:#ff0000; stroke:none; fill-opacity:1\" cx=\"691.19\" cy=\"1259.37\" r=\"14\"/>\n<circle clip-path=\"url(#clip3602)\" style=\"fill:#000000; stroke:none; fill-opacity:1\" cx=\"1471.65\" cy=\"1102.16\" r=\"18\"/>\n<circle clip-path=\"url(#clip3602)\" style=\"fill:#ff0000; stroke:none; fill-opacity:1\" cx=\"1471.65\" cy=\"1102.16\" r=\"14\"/>\n<circle clip-path=\"url(#clip3602)\" style=\"fill:#000000; stroke:none; fill-opacity:1\" cx=\"979.037\" cy=\"1059.37\" r=\"18\"/>\n<circle clip-path=\"url(#clip3602)\" style=\"fill:#ff0000; stroke:none; fill-opacity:1\" cx=\"979.037\" cy=\"1059.37\" r=\"14\"/>\n<circle clip-path=\"url(#clip3602)\" style=\"fill:#000000; stroke:none; fill-opacity:1\" cx=\"984.244\" cy=\"1119.13\" r=\"18\"/>\n<circle clip-path=\"url(#clip3602)\" style=\"fill:#ff0000; stroke:none; fill-opacity:1\" cx=\"984.244\" cy=\"1119.13\" r=\"14\"/>\n<circle clip-path=\"url(#clip3602)\" style=\"fill:#000000; stroke:none; fill-opacity:1\" cx=\"426.256\" cy=\"1252.49\" r=\"18\"/>\n<circle clip-path=\"url(#clip3602)\" style=\"fill:#ff0000; stroke:none; fill-opacity:1\" cx=\"426.256\" cy=\"1252.49\" r=\"14\"/>\n<circle clip-path=\"url(#clip3602)\" style=\"fill:#000000; stroke:none; fill-opacity:1\" cx=\"569.798\" cy=\"1369.69\" r=\"18\"/>\n<circle clip-path=\"url(#clip3602)\" style=\"fill:#ff0000; stroke:none; fill-opacity:1\" cx=\"569.798\" cy=\"1369.69\" r=\"14\"/>\n<circle clip-path=\"url(#clip3602)\" style=\"fill:#000000; stroke:none; fill-opacity:1\" cx=\"517.14\" cy=\"1431.93\" r=\"18\"/>\n<circle clip-path=\"url(#clip3602)\" style=\"fill:#ff0000; stroke:none; fill-opacity:1\" cx=\"517.14\" cy=\"1431.93\" r=\"14\"/>\n<circle clip-path=\"url(#clip3602)\" style=\"fill:#000000; stroke:none; fill-opacity:1\" cx=\"1120.23\" cy=\"998.285\" r=\"18\"/>\n<circle clip-path=\"url(#clip3602)\" style=\"fill:#ff0000; stroke:none; fill-opacity:1\" cx=\"1120.23\" cy=\"998.285\" r=\"14\"/>\n<circle clip-path=\"url(#clip3602)\" style=\"fill:#000000; stroke:none; fill-opacity:1\" cx=\"1486.87\" cy=\"602.326\" r=\"18\"/>\n<circle clip-path=\"url(#clip3602)\" style=\"fill:#ff0000; stroke:none; fill-opacity:1\" cx=\"1486.87\" cy=\"602.326\" r=\"14\"/>\n<circle clip-path=\"url(#clip3602)\" style=\"fill:#000000; stroke:none; fill-opacity:1\" cx=\"607.381\" cy=\"1297.33\" r=\"18\"/>\n<circle clip-path=\"url(#clip3602)\" style=\"fill:#ff0000; stroke:none; fill-opacity:1\" cx=\"607.381\" cy=\"1297.33\" r=\"14\"/>\n<circle clip-path=\"url(#clip3602)\" style=\"fill:#000000; stroke:none; fill-opacity:1\" cx=\"632.313\" cy=\"1222.05\" r=\"18\"/>\n<circle clip-path=\"url(#clip3602)\" style=\"fill:#ff0000; stroke:none; fill-opacity:1\" cx=\"632.313\" cy=\"1222.05\" r=\"14\"/>\n<circle clip-path=\"url(#clip3602)\" style=\"fill:#000000; stroke:none; fill-opacity:1\" cx=\"1513.91\" cy=\"1333.29\" r=\"18\"/>\n<circle clip-path=\"url(#clip3602)\" style=\"fill:#ff0000; stroke:none; fill-opacity:1\" cx=\"1513.91\" cy=\"1333.29\" r=\"14\"/>\n<circle clip-path=\"url(#clip3602)\" style=\"fill:#000000; stroke:none; fill-opacity:1\" cx=\"894.778\" cy=\"942.563\" r=\"18\"/>\n<circle clip-path=\"url(#clip3602)\" style=\"fill:#ff0000; stroke:none; fill-opacity:1\" cx=\"894.778\" cy=\"942.563\" r=\"14\"/>\n<circle clip-path=\"url(#clip3602)\" style=\"fill:#000000; stroke:none; fill-opacity:1\" cx=\"476.595\" cy=\"1403.22\" r=\"18\"/>\n<circle clip-path=\"url(#clip3602)\" style=\"fill:#ff0000; stroke:none; fill-opacity:1\" cx=\"476.595\" cy=\"1403.22\" r=\"14\"/>\n<circle clip-path=\"url(#clip3602)\" style=\"fill:#000000; stroke:none; fill-opacity:1\" cx=\"885.277\" cy=\"1228.27\" r=\"18\"/>\n<circle clip-path=\"url(#clip3602)\" style=\"fill:#ff0000; stroke:none; fill-opacity:1\" cx=\"885.277\" cy=\"1228.27\" r=\"14\"/>\n<circle clip-path=\"url(#clip3602)\" style=\"fill:#000000; stroke:none; fill-opacity:1\" cx=\"1162.55\" cy=\"1381.21\" r=\"18\"/>\n<circle clip-path=\"url(#clip3602)\" style=\"fill:#ff0000; stroke:none; fill-opacity:1\" cx=\"1162.55\" cy=\"1381.21\" r=\"14\"/>\n<circle clip-path=\"url(#clip3602)\" style=\"fill:#000000; stroke:none; fill-opacity:1\" cx=\"798.148\" cy=\"1027.13\" r=\"18\"/>\n<circle clip-path=\"url(#clip3602)\" style=\"fill:#ff0000; stroke:none; fill-opacity:1\" cx=\"798.148\" cy=\"1027.13\" r=\"14\"/>\n<circle clip-path=\"url(#clip3602)\" style=\"fill:#000000; stroke:none; fill-opacity:1\" cx=\"964.612\" cy=\"1356.79\" r=\"18\"/>\n<circle clip-path=\"url(#clip3602)\" style=\"fill:#ff0000; stroke:none; fill-opacity:1\" cx=\"964.612\" cy=\"1356.79\" r=\"14\"/>\n<circle clip-path=\"url(#clip3602)\" style=\"fill:#000000; stroke:none; fill-opacity:1\" cx=\"1227.78\" cy=\"1280.05\" r=\"18\"/>\n<circle clip-path=\"url(#clip3602)\" style=\"fill:#ff0000; stroke:none; fill-opacity:1\" cx=\"1227.78\" cy=\"1280.05\" r=\"14\"/>\n<circle clip-path=\"url(#clip3602)\" style=\"fill:#000000; stroke:none; fill-opacity:1\" cx=\"1098.63\" cy=\"1127.96\" r=\"18\"/>\n<circle clip-path=\"url(#clip3602)\" style=\"fill:#ff0000; stroke:none; fill-opacity:1\" cx=\"1098.63\" cy=\"1127.96\" r=\"14\"/>\n<circle clip-path=\"url(#clip3602)\" style=\"fill:#000000; stroke:none; fill-opacity:1\" cx=\"1451.56\" cy=\"1165.11\" r=\"18\"/>\n<circle clip-path=\"url(#clip3602)\" style=\"fill:#ff0000; stroke:none; fill-opacity:1\" cx=\"1451.56\" cy=\"1165.11\" r=\"14\"/>\n<circle clip-path=\"url(#clip3602)\" style=\"fill:#000000; stroke:none; fill-opacity:1\" cx=\"492.7\" cy=\"1001.28\" r=\"18\"/>\n<circle clip-path=\"url(#clip3602)\" style=\"fill:#ff0000; stroke:none; fill-opacity:1\" cx=\"492.7\" cy=\"1001.28\" r=\"14\"/>\n<circle clip-path=\"url(#clip3602)\" style=\"fill:#000000; stroke:none; fill-opacity:1\" cx=\"584.316\" cy=\"887.961\" r=\"18\"/>\n<circle clip-path=\"url(#clip3602)\" style=\"fill:#ff0000; stroke:none; fill-opacity:1\" cx=\"584.316\" cy=\"887.961\" r=\"14\"/>\n<circle clip-path=\"url(#clip3602)\" style=\"fill:#000000; stroke:none; fill-opacity:1\" cx=\"659.721\" cy=\"948.557\" r=\"18\"/>\n<circle clip-path=\"url(#clip3602)\" style=\"fill:#ff0000; stroke:none; fill-opacity:1\" cx=\"659.721\" cy=\"948.557\" r=\"14\"/>\n<circle clip-path=\"url(#clip3602)\" style=\"fill:#000000; stroke:none; fill-opacity:1\" cx=\"1546.95\" cy=\"1341.44\" r=\"18\"/>\n<circle clip-path=\"url(#clip3602)\" style=\"fill:#ff0000; stroke:none; fill-opacity:1\" cx=\"1546.95\" cy=\"1341.44\" r=\"14\"/>\n<circle clip-path=\"url(#clip3602)\" style=\"fill:#000000; stroke:none; fill-opacity:1\" cx=\"950.949\" cy=\"1280.78\" r=\"18\"/>\n<circle clip-path=\"url(#clip3602)\" style=\"fill:#ff0000; stroke:none; fill-opacity:1\" cx=\"950.949\" cy=\"1280.78\" r=\"14\"/>\n<circle clip-path=\"url(#clip3602)\" style=\"fill:#000000; stroke:none; fill-opacity:1\" cx=\"671.719\" cy=\"1261.13\" r=\"18\"/>\n<circle clip-path=\"url(#clip3602)\" style=\"fill:#ff0000; stroke:none; fill-opacity:1\" cx=\"671.719\" cy=\"1261.13\" r=\"14\"/>\n<circle clip-path=\"url(#clip3602)\" style=\"fill:#000000; stroke:none; fill-opacity:1\" cx=\"915.829\" cy=\"1137.54\" r=\"18\"/>\n<circle clip-path=\"url(#clip3602)\" style=\"fill:#ff0000; stroke:none; fill-opacity:1\" cx=\"915.829\" cy=\"1137.54\" r=\"14\"/>\n<polyline clip-path=\"url(#clip3602)\" style=\"stroke:#3da44d; stroke-width:4; stroke-opacity:1; fill:none\" points=\"\n  209.496,1446.71 232.201,1359.49 254.906,1278.84 277.611,1204.52 300.316,1136.32 323.021,1074.01 345.726,1017.36 368.431,966.146 391.136,920.139 413.841,879.113 \n  436.546,842.843 459.251,811.102 481.956,783.664 504.661,760.302 527.366,740.789 550.071,724.9 572.776,712.407 595.481,703.085 618.186,696.707 640.891,693.046 \n  663.596,691.876 686.301,692.97 709.006,696.103 731.711,701.047 754.416,707.576 777.121,715.464 799.826,724.485 822.531,734.411 845.236,745.016 867.941,756.075 \n  890.646,767.359 913.351,778.644 936.056,789.703 958.761,800.308 981.466,810.234 1004.17,819.255 1026.88,827.143 1049.58,833.672 1072.29,838.616 1094.99,841.749 \n  1117.7,842.843 1140.4,841.673 1163.11,838.012 1185.81,831.634 1208.52,822.312 1231.22,809.819 1253.93,793.93 1276.63,774.417 1299.34,751.055 1322.04,723.617 \n  1344.75,691.876 1367.45,655.606 1390.16,614.58 1412.86,568.573 1435.57,517.357 1458.27,460.707 1480.98,398.395 1503.68,330.195 1526.39,255.881 1549.09,175.227 \n  1571.8,88.0053 \n  \"/>\n<polyline clip-path=\"url(#clip3602)\" style=\"stroke:#c271d2; stroke-width:4; stroke-opacity:1; fill:none\" points=\"\n  209.496,1231.58 232.201,1197.62 254.906,1163.65 277.611,1125.91 300.316,1091.94 323.021,1057.97 345.726,1024 368.431,986.262 391.136,952.295 413.841,918.327 \n  436.546,816.424 459.251,805.101 481.956,790.005 504.661,774.908 527.366,767.359 550.071,763.585 572.776,756.037 595.481,752.263 618.186,756.037 640.891,756.037 \n  663.596,759.811 686.301,759.811 709.006,759.811 731.711,763.585 754.416,763.585 777.121,767.359 799.826,767.359 822.531,771.134 845.236,771.134 867.941,774.908 \n  890.646,774.908 913.351,774.908 936.056,778.682 958.761,778.682 981.466,782.456 1004.17,782.456 1026.88,782.456 1049.58,786.23 1072.29,786.23 1094.99,786.23 \n  1117.7,786.23 1140.4,786.23 1163.11,786.23 1185.81,782.456 1208.52,782.456 1231.22,774.908 1253.93,763.585 1276.63,744.714 1299.34,718.295 1322.04,688.101 \n  1344.75,657.908 1367.45,627.714 1390.16,601.295 1412.86,571.102 1435.57,540.908 1458.27,510.715 1480.98,484.295 1503.68,454.102 1526.39,423.908 1549.09,393.715 \n  1571.8,363.521 \n  \"/>\n<path clip-path=\"url(#clip3600)\" d=\"\nM1684.67 312.204 L2400.76 312.204 L2400.76 130.764 L1684.67 130.764  Z\n  \" fill=\"#ffffff\" fill-rule=\"evenodd\" fill-opacity=\"1\"/>\n<polyline clip-path=\"url(#clip3600)\" style=\"stroke:#000000; stroke-width:4; stroke-opacity:1; fill:none\" points=\"\n  1684.67,312.204 2400.76,312.204 2400.76,130.764 1684.67,130.764 1684.67,312.204 \n  \"/>\n<polyline clip-path=\"url(#clip3600)\" style=\"stroke:#3da44d; stroke-width:4; stroke-opacity:1; fill:none\" points=\"\n  1708.67,191.244 1852.67,191.244 \n  \"/>\n<g clip-path=\"url(#clip3600)\">\n<text style=\"fill:#000000; fill-opacity:1; font-family:Arial,Helvetica Neue,Helvetica,sans-serif; font-size:48px; text-anchor:start;\" transform=\"rotate(0, 1876.67, 208.744)\" x=\"1876.67\" y=\"208.744\">True Model</text>\n</g>\n<polyline clip-path=\"url(#clip3600)\" style=\"stroke:#c271d2; stroke-width:4; stroke-opacity:1; fill:none\" points=\"\n  1708.67,251.724 1852.67,251.724 \n  \"/>\n<g clip-path=\"url(#clip3600)\">\n<text style=\"fill:#000000; fill-opacity:1; font-family:Arial,Helvetica Neue,Helvetica,sans-serif; font-size:48px; text-anchor:start;\" transform=\"rotate(0, 1876.67, 269.224)\" x=\"1876.67\" y=\"269.224\">Neural Network Model</text>\n</g>\n</svg>\n"
     },
     "execution_count": 8,
     "metadata": {
     },
     "output_type": "execute_result"
    }
   ],
   "source": [
    "gif(anim)\n",
    "plot_model(neural_model, x1grid, x2grid)"
   ]
  },
  {
   "cell_type": "code",
   "execution_count": 0,
   "metadata": {
    "collapsed": false
   },
   "outputs": [
   ],
   "source": [
   ]
  }
 ],
 "metadata": {
  "kernelspec": {
   "display_name": "Julia 1.3.1",
   "env": {
    "JULIA_DEPOT_PATH": "/home/user/.julia/:/ext/julia/depot/",
    "JULIA_PROJECT": "/home/user/.julia/environment/v1.3"
   },
   "language": "julia",
   "metadata": {
    "cocalc": {
     "description": "The Julia Programming Language",
     "priority": 10,
     "url": "https://julialang.org/"
    }
   },
   "name": "julia-1.3"
  },
  "language_info": {
   "file_extension": ".jl",
   "mimetype": "application/julia",
   "name": "julia",
   "version": "1.3.1"
  }
 },
 "nbformat": 4,
 "nbformat_minor": 0
}